{
 "cells": [
  {
   "cell_type": "code",
   "execution_count": 286,
   "outputs": [],
   "source": [
    "import re\n",
    "import numpy as np\n",
    "import pandas as pd\n",
    "import itertools\n",
    "from collections import Counter\n",
    "from tqdm.notebook import trange"
   ],
   "metadata": {
    "collapsed": false,
    "ExecuteTime": {
     "end_time": "2023-06-12T08:25:08.714625100Z",
     "start_time": "2023-06-12T08:25:08.706646700Z"
    }
   }
  },
  {
   "cell_type": "markdown",
   "source": [
    "Данная задача является np-полной. Существует несколько подходов к решению данной задачи, обладающих различными нюансами. Мой вариант решения будет опираться на случайный перебор, это позволит найти глобальный максимум функции, но потребует значительных временных затрат на исполнение всех итераций."
   ],
   "metadata": {
    "collapsed": false
   }
  },
  {
   "cell_type": "code",
   "execution_count": 238,
   "outputs": [
    {
     "data": {
      "text/plain": "{'в': 1,\n 'о': 2,\n 'г': 1,\n 'л': 1,\n 'у': 1,\n 'б': 1,\n 'и': 1,\n 'н': 1,\n 'е': 3,\n 'с': 1,\n 'р': 1,\n 'к': 1,\n 'х': 1,\n 'д': 1,\n 'а': 1,\n 'т': 1,\n 'п': 2,\n 'ь': 1,\n 'ы': 1,\n 'м': 1}"
     },
     "execution_count": 238,
     "metadata": {},
     "output_type": "execute_result"
    }
   ],
   "source": [
    "text = '''Во глубине сибирских руд\n",
    "Храните гордое терпенье,\n",
    "Не пропадет ваш скорбный труд\n",
    "И дум высокое стремленье.'''\n",
    "\n",
    "\n",
    "# Функция для получения очищенного текста без пробелов между словами.\n",
    "def set_letters(text):\n",
    "    s = re.sub(r'[^а-яА-ЯёЁ]', ' ', text).lower()\n",
    "    return ''.join(s.split())\n",
    "\n",
    "\n",
    "# Функция для получения очищенного текста.\n",
    "def clear_text(text):\n",
    "    s = re.sub(r'[^а-яА-ЯёЁ]', ' ', text).lower()\n",
    "    return ' '.join(s.split())\n",
    "\n",
    "\n",
    "set_1 = set_letters(text)\n",
    "clear_1 = clear_text(text)\n",
    "all_letters_dict = Counter(set_1)\n",
    "all_letters = pd.DataFrame(index=all_letters_dict.keys(),\n",
    "                           data={'count': list(all_letters_dict.values()),\n",
    "                                 'freq': [round(i / len(set_1) * 100, 2) for i in all_letters_dict.values()]})\n",
    "\n",
    "# Список словарей по словам\n",
    "letters_in_words = [Counter(i) for i in clear_1.split()]\n",
    "\n",
    "# Максимальное количество букв, встречающихся в одном слове\n",
    "max_letters_in_words = {k: v for d in letters_in_words for k, v in d.items()}\n",
    "\n",
    "# Для ускорения работы алгоритма уберем два значения – буквы 'ш' и 'й', как буквы с наименьшим вероятностным ожиданием - данные буквы встречаются лишь по одному разу во всем множестве букв.\n",
    "# Будет логичным дозаказывать данные буквы.\n",
    "for i in all_letters.query('count == 1').index:\n",
    "    del max_letters_in_words[i]\n",
    "max_letters_in_words"
   ],
   "metadata": {
    "collapsed": false,
    "ExecuteTime": {
     "end_time": "2023-06-11T13:14:40.553282600Z",
     "start_time": "2023-06-11T13:14:40.522365800Z"
    }
   }
  },
  {
   "cell_type": "markdown",
   "source": [
    "Буквы, которые во всем множестве встречаются только один раз."
   ],
   "metadata": {
    "collapsed": false
   }
  },
  {
   "cell_type": "code",
   "execution_count": 254,
   "outputs": [
    {
     "data": {
      "text/plain": "Index(['ш', 'й'], dtype='object')"
     },
     "execution_count": 254,
     "metadata": {},
     "output_type": "execute_result"
    }
   ],
   "source": [
    "all_letters.query('count == 1').index"
   ],
   "metadata": {
    "collapsed": false,
    "ExecuteTime": {
     "end_time": "2023-06-11T14:01:47.630836300Z",
     "start_time": "2023-06-11T14:01:47.598921900Z"
    }
   }
  },
  {
   "cell_type": "markdown",
   "source": [
    "Вероятность встретить какую-либо из присутствующих букв во всем корпусе. А также общее количество каждой из букв во всем корпусе."
   ],
   "metadata": {
    "collapsed": false
   }
  },
  {
   "cell_type": "code",
   "execution_count": 255,
   "outputs": [
    {
     "data": {
      "text/plain": "   count   freq\nш      1   1.14\nй      1   1.14\nм      2   2.27\nы      2   2.27\nг      2   2.27\nл      2   2.27\nь      2   2.27\nх      2   2.27\nп      3   3.41\nа      3   3.41\nк      3   3.41\nв      3   3.41\nб      3   3.41\nу      4   4.55\nд      5   5.68\nт      5   5.68\nс      5   5.68\nн      6   6.82\nи      6   6.82\nо      7   7.95\nр      9  10.23\nе     12  13.64",
      "text/html": "<div>\n<style scoped>\n    .dataframe tbody tr th:only-of-type {\n        vertical-align: middle;\n    }\n\n    .dataframe tbody tr th {\n        vertical-align: top;\n    }\n\n    .dataframe thead th {\n        text-align: right;\n    }\n</style>\n<table border=\"1\" class=\"dataframe\">\n  <thead>\n    <tr style=\"text-align: right;\">\n      <th></th>\n      <th>count</th>\n      <th>freq</th>\n    </tr>\n  </thead>\n  <tbody>\n    <tr>\n      <th>ш</th>\n      <td>1</td>\n      <td>1.14</td>\n    </tr>\n    <tr>\n      <th>й</th>\n      <td>1</td>\n      <td>1.14</td>\n    </tr>\n    <tr>\n      <th>м</th>\n      <td>2</td>\n      <td>2.27</td>\n    </tr>\n    <tr>\n      <th>ы</th>\n      <td>2</td>\n      <td>2.27</td>\n    </tr>\n    <tr>\n      <th>г</th>\n      <td>2</td>\n      <td>2.27</td>\n    </tr>\n    <tr>\n      <th>л</th>\n      <td>2</td>\n      <td>2.27</td>\n    </tr>\n    <tr>\n      <th>ь</th>\n      <td>2</td>\n      <td>2.27</td>\n    </tr>\n    <tr>\n      <th>х</th>\n      <td>2</td>\n      <td>2.27</td>\n    </tr>\n    <tr>\n      <th>п</th>\n      <td>3</td>\n      <td>3.41</td>\n    </tr>\n    <tr>\n      <th>а</th>\n      <td>3</td>\n      <td>3.41</td>\n    </tr>\n    <tr>\n      <th>к</th>\n      <td>3</td>\n      <td>3.41</td>\n    </tr>\n    <tr>\n      <th>в</th>\n      <td>3</td>\n      <td>3.41</td>\n    </tr>\n    <tr>\n      <th>б</th>\n      <td>3</td>\n      <td>3.41</td>\n    </tr>\n    <tr>\n      <th>у</th>\n      <td>4</td>\n      <td>4.55</td>\n    </tr>\n    <tr>\n      <th>д</th>\n      <td>5</td>\n      <td>5.68</td>\n    </tr>\n    <tr>\n      <th>т</th>\n      <td>5</td>\n      <td>5.68</td>\n    </tr>\n    <tr>\n      <th>с</th>\n      <td>5</td>\n      <td>5.68</td>\n    </tr>\n    <tr>\n      <th>н</th>\n      <td>6</td>\n      <td>6.82</td>\n    </tr>\n    <tr>\n      <th>и</th>\n      <td>6</td>\n      <td>6.82</td>\n    </tr>\n    <tr>\n      <th>о</th>\n      <td>7</td>\n      <td>7.95</td>\n    </tr>\n    <tr>\n      <th>р</th>\n      <td>9</td>\n      <td>10.23</td>\n    </tr>\n    <tr>\n      <th>е</th>\n      <td>12</td>\n      <td>13.64</td>\n    </tr>\n  </tbody>\n</table>\n</div>"
     },
     "execution_count": 255,
     "metadata": {},
     "output_type": "execute_result"
    }
   ],
   "source": [
    "all_letters.sort_values(by='count')"
   ],
   "metadata": {
    "collapsed": false,
    "ExecuteTime": {
     "end_time": "2023-06-11T14:03:07.976416800Z",
     "start_time": "2023-06-11T14:03:07.961456800Z"
    }
   }
  },
  {
   "cell_type": "markdown",
   "source": [
    "Найдем диапазон значений для каждой из переменных, от 0 до max_count, которое можно встретить в одном слове."
   ],
   "metadata": {
    "collapsed": false
   }
  },
  {
   "cell_type": "code",
   "execution_count": 289,
   "outputs": [
    {
     "data": {
      "text/plain": "{'в': [0, 1],\n 'о': [0, 1, 2],\n 'г': [0, 1],\n 'л': [0, 1],\n 'у': [0, 1],\n 'б': [0, 1],\n 'и': [0, 1],\n 'н': [0, 1],\n 'е': [0, 1, 2, 3],\n 'с': [0, 1],\n 'р': [0, 1],\n 'к': [0, 1],\n 'х': [0, 1],\n 'д': [0, 1],\n 'а': [0, 1],\n 'т': [0, 1],\n 'п': [0, 1, 2],\n 'ь': [0, 1],\n 'ы': [0, 1],\n 'м': [0, 1]}"
     },
     "execution_count": 289,
     "metadata": {},
     "output_type": "execute_result"
    }
   ],
   "source": [
    "variations = {}\n",
    "for letter, frequency in max_letters_in_words.items():\n",
    "    variations[letter] = list(range(frequency + 1))\n",
    "\n",
    "variations"
   ],
   "metadata": {
    "collapsed": false,
    "ExecuteTime": {
     "end_time": "2023-06-12T10:23:37.531533600Z",
     "start_time": "2023-06-12T10:23:37.503608200Z"
    }
   }
  },
  {
   "cell_type": "markdown",
   "source": [
    "Для уменьшения количества итераций подбора итогового решения уберем значения с крайне малой вероятностью. Для этого обратимся к ранее полученной таблице частот."
   ],
   "metadata": {
    "collapsed": false
   }
  },
  {
   "cell_type": "code",
   "execution_count": 293,
   "outputs": [],
   "source": [
    "variations = {'в': [0, 1],\n",
    "              'о': [1, 2],\n",
    "              'г': [0, 1],\n",
    "              'л': [0, 1],\n",
    "              'у': [0, 1],\n",
    "              'б': [0, 1],\n",
    "              'и': [1],\n",
    "              'н': [1],\n",
    "              'е': [1, 2, 3],\n",
    "              'с': [1],\n",
    "              'р': [1],\n",
    "              'к': [0, 1],\n",
    "              'х': [0, 1],\n",
    "              'д': [1],\n",
    "              'а': [0, 1],\n",
    "              'т': [1],\n",
    "              'п': [0, 1, 2],\n",
    "              'ь': [0, 1],\n",
    "              'ы': [0, 1],\n",
    "              'м': [0, 1]}\n",
    "\n",
    "keys = variations.keys()\n",
    "value_combinations = list(itertools.product(*[variations[key] for key in keys]))\n",
    "\n",
    "result_list = []\n",
    "\n",
    "for values in value_combinations:\n",
    "    new_dict = max_letters_in_words.copy()\n",
    "    for key, value in zip(keys, values):\n",
    "        new_dict[key] = value\n",
    "    result_list.append(new_dict)"
   ],
   "metadata": {
    "collapsed": false,
    "ExecuteTime": {
     "end_time": "2023-06-12T10:26:50.490366900Z",
     "start_time": "2023-06-12T10:26:48.044908800Z"
    }
   }
  },
  {
   "cell_type": "markdown",
   "source": [
    "Итоговая длина списка словарей."
   ],
   "metadata": {
    "collapsed": false
   }
  },
  {
   "cell_type": "code",
   "execution_count": 294,
   "outputs": [
    {
     "data": {
      "text/plain": "36864"
     },
     "execution_count": 294,
     "metadata": {},
     "output_type": "execute_result"
    }
   ],
   "source": [
    "len(result_list)"
   ],
   "metadata": {
    "collapsed": false
   }
  },
  {
   "cell_type": "code",
   "execution_count": 301,
   "outputs": [
    {
     "data": {
      "text/plain": "  0%|          | 0/36864 [00:00<?, ?it/s]",
      "application/vnd.jupyter.widget-view+json": {
       "version_major": 2,
       "version_minor": 0,
       "model_id": "066197f7dddd41aab9a787439ca455a7"
      }
     },
     "metadata": {},
     "output_type": "display_data"
    }
   ],
   "source": [
    "# Зафиксируем псевдослучайность\n",
    "np.random.seed(42)\n",
    "best_amount = 0\n",
    "best_dict = None\n",
    "\n",
    "for check_dict in trange(len(result_list)):\n",
    "    amount_day = 0\n",
    "\n",
    "    for _ in range(1000):\n",
    "        amount_day -= sum(result_list[check_dict].values())\n",
    "        discrepancy_counter = 0\n",
    "        control_dict = Counter(clear_1.split()[np.random.randint(0, len(clear_1.split()))])\n",
    "\n",
    "        for key, value in control_dict.items():\n",
    "            if key not in result_list[check_dict] or result_list[check_dict][key] < value:\n",
    "                discrepancy_counter += 1\n",
    "\n",
    "        if discrepancy_counter > 1:\n",
    "            amount_day -= 10\n",
    "        elif discrepancy_counter == 1:\n",
    "            amount_day += 38\n",
    "        else:\n",
    "            amount_day += 40\n",
    "\n",
    "    if best_amount < amount_day:\n",
    "        best_amount = amount_day\n",
    "        best_dict = result_list[check_dict]"
   ],
   "metadata": {
    "collapsed": false,
    "ExecuteTime": {
     "end_time": "2023-06-12T12:58:20.085000700Z",
     "start_time": "2023-06-12T12:53:11.902372100Z"
    }
   }
  },
  {
   "cell_type": "markdown",
   "source": [
    "Подобранное решение было получено при проверке каждого словаря на 100000 случайно выбранных слов из заданного корпуса."
   ],
   "metadata": {
    "collapsed": false
   }
  },
  {
   "cell_type": "code",
   "execution_count": 302,
   "outputs": [
    {
     "data": {
      "text/plain": "{'в': 1,\n 'о': 1,\n 'г': 1,\n 'л': 1,\n 'у': 0,\n 'б': 1,\n 'и': 1,\n 'н': 1,\n 'е': 1,\n 'с': 1,\n 'р': 1,\n 'к': 1,\n 'х': 0,\n 'д': 1,\n 'а': 1,\n 'т': 1,\n 'п': 1,\n 'ь': 1,\n 'ы': 1,\n 'м': 1}"
     },
     "execution_count": 302,
     "metadata": {},
     "output_type": "execute_result"
    }
   ],
   "source": [
    "best_dict"
   ],
   "metadata": {
    "collapsed": false,
    "ExecuteTime": {
     "end_time": "2023-06-12T13:01:18.184107800Z",
     "start_time": "2023-06-12T13:01:18.161169500Z"
    }
   }
  },
  {
   "cell_type": "code",
   "execution_count": 305,
   "outputs": [
    {
     "data": {
      "text/plain": "17.432"
     },
     "execution_count": 305,
     "metadata": {},
     "output_type": "execute_result"
    }
   ],
   "source": [
    "best_amount / 1000"
   ],
   "metadata": {
    "collapsed": false,
    "ExecuteTime": {
     "end_time": "2023-06-12T18:11:02.806230300Z",
     "start_time": "2023-06-12T18:11:02.797254700Z"
    }
   }
  }
 ],
 "metadata": {
  "kernelspec": {
   "display_name": "Python 3",
   "language": "python",
   "name": "python3"
  },
  "language_info": {
   "codemirror_mode": {
    "name": "ipython",
    "version": 2
   },
   "file_extension": ".py",
   "mimetype": "text/x-python",
   "name": "python",
   "nbconvert_exporter": "python",
   "pygments_lexer": "ipython2",
   "version": "2.7.6"
  }
 },
 "nbformat": 4,
 "nbformat_minor": 0
}
