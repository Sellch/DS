{
 "cells": [
  {
   "cell_type": "markdown",
   "metadata": {
    "toc": true
   },
   "source": [
    "<h1>Содержание<span class=\"tocSkip\"></span></h1>\n",
    "<div class=\"toc\"><ul class=\"toc-item\"><li><ul class=\"toc-item\"><li><span><a href=\"#Описание-данных\" data-toc-modified-id=\"Описание-данных-0.1\"><span class=\"toc-item-num\">0.1&nbsp;&nbsp;</span><em>Описание данных</em></a></span></li></ul></li><li><span><a href=\"#Подготовка-данных\" data-toc-modified-id=\"Подготовка-данных-1\"><span class=\"toc-item-num\">1&nbsp;&nbsp;</span>Подготовка данных</a></span><ul class=\"toc-item\"><li><span><a href=\"#Обработка-дубликатов\" data-toc-modified-id=\"Обработка-дубликатов-1.1\"><span class=\"toc-item-num\">1.1&nbsp;&nbsp;</span><em>Обработка дубликатов</em></a></span></li><li><span><a href=\"#Обработка-пропусков\" data-toc-modified-id=\"Обработка-пропусков-1.2\"><span class=\"toc-item-num\">1.2&nbsp;&nbsp;</span><em>Обработка пропусков</em></a></span></li><li><span><a href=\"#Изменение-типов-данных\" data-toc-modified-id=\"Изменение-типов-данных-1.3\"><span class=\"toc-item-num\">1.3&nbsp;&nbsp;</span><em>Изменение типов данных</em></a></span></li><li><span><a href=\"#Обработка-аномальных-значений\" data-toc-modified-id=\"Обработка-аномальных-значений-1.4\"><span class=\"toc-item-num\">1.4&nbsp;&nbsp;</span><em>Обработка аномальных значений</em></a></span></li></ul></li><li><span><a href=\"#Исследование-задачи\" data-toc-modified-id=\"Исследование-задачи-2\"><span class=\"toc-item-num\">2&nbsp;&nbsp;</span>Исследование задачи</a></span></li><li><span><a href=\"#Борьба-с-дисбалансом\" data-toc-modified-id=\"Борьба-с-дисбалансом-3\"><span class=\"toc-item-num\">3&nbsp;&nbsp;</span>Борьба с дисбалансом</a></span></li><li><span><a href=\"#Подбор-порогового-значения-классификатора-для-улучшения-параметра-Recall.\" data-toc-modified-id=\"Подбор-порогового-значения-классификатора-для-улучшения-параметра-Recall.-4\"><span class=\"toc-item-num\">4&nbsp;&nbsp;</span>Подбор порогового значения классификатора для улучшения параметра Recall.</a></span></li><li><span><a href=\"#Тестирование-лучшей-модели.\" data-toc-modified-id=\"Тестирование-лучшей-модели.-5\"><span class=\"toc-item-num\">5&nbsp;&nbsp;</span>Тестирование лучшей модели.</a></span></li><li><span><a href=\"#Общий-вывод-по-исследованию\" data-toc-modified-id=\"Общий-вывод-по-исследованию-6\"><span class=\"toc-item-num\">6&nbsp;&nbsp;</span>Общий вывод по исследованию</a></span></li></ul></div>"
   ]
  },
  {
   "cell_type": "markdown",
   "metadata": {},
   "source": [
    "# Отток клиентов"
   ]
  },
  {
   "cell_type": "markdown",
   "metadata": {},
   "source": [
    "Из «Бета-Банка» стали уходить клиенты. Каждый месяц. Немного, но заметно. Банковские маркетологи посчитали: сохранять текущих клиентов дешевле, чем привлекать новых.\n",
    "\n",
    "Нужно спрогнозировать, уйдёт клиент из банка в ближайшее время или нет. Вам предоставлены исторические данные о поведении клиентов и расторжении договоров с банком. \n",
    "\n",
    "Постройте модель с предельно большим значением *F1*-меры. Чтобы сдать проект успешно, нужно довести метрику до 0.59. Проверьте *F1*-меру на тестовой выборке самостоятельно.\n",
    "\n",
    "Дополнительно измеряйте *AUC-ROC*, сравнивайте её значение с *F1*-мерой.\n",
    "\n",
    "Источник данных: [https://www.kaggle.com/barelydedicated/bank-customer-churn-modeling](https://www.kaggle.com/barelydedicated/bank-customer-churn-modeling)"
   ]
  },
  {
   "cell_type": "markdown",
   "metadata": {},
   "source": [
    "---\n",
    "### *Описание данных*"
   ]
  },
  {
   "cell_type": "markdown",
   "metadata": {},
   "source": [
    "__*Для исследования получен csv-файл `Churn.csv`*__\n",
    "\n",
    "Каждый объект в наборе данных — это информация о поведении одного клиента. Известны следующие признаки:\n",
    "* RowNumber — индекс строки в данных\n",
    "* CustomerId — уникальный идентификатор клиента\n",
    "* Surname — фамилия\n",
    "* CreditScore — кредитный рейтинг\n",
    "* Geography — страна проживания\n",
    "* Gender — пол\n",
    "* Age — возраст\n",
    "* Tenure — сколько лет человек является клиентом банка\n",
    "* Balance — баланс на счёте\n",
    "* NumOfProducts — количество продуктов банка, используемых клиентом\n",
    "* HasCrCard — наличие кредитной карты\n",
    "* IsActiveMember — активность клиента\n",
    "* EstimatedSalary — предполагаемая зарплата\n",
    "\n",
    "Целевой признак:\n",
    "* Exited — факт ухода клиента"
   ]
  },
  {
   "cell_type": "markdown",
   "metadata": {},
   "source": [
    "## Подготовка данных"
   ]
  },
  {
   "cell_type": "code",
   "execution_count": 1,
   "metadata": {
    "ExecuteTime": {
     "end_time": "2023-05-16T15:08:46.130347Z",
     "start_time": "2023-05-16T15:08:46.130347Z"
    }
   },
   "outputs": [],
   "source": [
    "# импорт необходимых библиотек\n",
    "import pandas as pd\n",
    "import numpy as np\n",
    "from sklearn.model_selection import (train_test_split, RandomizedSearchCV, KFold, cross_val_score)\n",
    "from sklearn.tree import DecisionTreeClassifier\n",
    "from sklearn.linear_model import LogisticRegression\n",
    "from sklearn.ensemble import RandomForestClassifier\n",
    "from sklearn.metrics import (f1_score,\n",
    "                             recall_score,\n",
    "                             roc_curve,\n",
    "                             accuracy_score,\n",
    "                             roc_auc_score,\n",
    "                             ConfusionMatrixDisplay,\n",
    "                             confusion_matrix)\n",
    "from sklearn.preprocessing import StandardScaler\n",
    "from sklearn.preprocessing import OneHotEncoder\n",
    "from imblearn.under_sampling import RandomUnderSampler\n",
    "from imblearn.over_sampling import SMOTE\n",
    "from imblearn.pipeline import Pipeline, make_pipeline\n",
    "from sklearn.compose import make_column_transformer\n",
    "from sklearn.utils import shuffle\n",
    "import seaborn as sns\n",
    "import matplotlib.pyplot as plt\n",
    "from joblib import dump"
   ]
  },
  {
   "cell_type": "markdown",
   "metadata": {},
   "source": [
    "Загрузим датасет с данными."
   ]
  },
  {
   "cell_type": "code",
   "execution_count": 2,
   "metadata": {
    "ExecuteTime": {
     "end_time": "2023-05-16T15:08:46.132342Z",
     "start_time": "2023-05-16T15:08:42.156916Z"
    }
   },
   "outputs": [],
   "source": [
    "try:\n",
    "    df = pd.read_csv('datasets/Churn.csv')\n",
    "except FileNotFoundError:\n",
    "    df = pd.read_csv('https://code.s3.yandex.net/datasets/Churn.csv')"
   ]
  },
  {
   "cell_type": "code",
   "execution_count": 3,
   "metadata": {
    "ExecuteTime": {
     "end_time": "2023-05-16T15:08:46.133339Z",
     "start_time": "2023-05-16T15:08:42.165892Z"
    }
   },
   "outputs": [
    {
     "data": {
      "text/plain": [
       "Index(['RowNumber', 'CustomerId', 'Surname', 'CreditScore', 'Geography',\n",
       "       'Gender', 'Age', 'Tenure', 'Balance', 'NumOfProducts', 'HasCrCard',\n",
       "       'IsActiveMember', 'EstimatedSalary', 'Exited'],\n",
       "      dtype='object')"
      ]
     },
     "execution_count": 3,
     "metadata": {},
     "output_type": "execute_result"
    }
   ],
   "source": [
    "df.columns"
   ]
  },
  {
   "cell_type": "markdown",
   "metadata": {},
   "source": [
    "Преобразуем названия столбцов/признаков/переменных к формату Snake Case, для этого напишем функцию."
   ]
  },
  {
   "cell_type": "code",
   "execution_count": 4,
   "metadata": {
    "ExecuteTime": {
     "end_time": "2023-05-16T15:08:46.135334Z",
     "start_time": "2023-05-16T15:08:42.173871Z"
    }
   },
   "outputs": [],
   "source": [
    "def camel_to_snake(s):\n",
    "    snake_str = ''\n",
    "    for i in range(len(s)):\n",
    "        if s[i].isupper():\n",
    "            if i > 0:\n",
    "                snake_str += '_'\n",
    "            snake_str += s[i].lower()\n",
    "        else:\n",
    "            snake_str += s[i]\n",
    "    return snake_str"
   ]
  },
  {
   "cell_type": "markdown",
   "metadata": {},
   "source": [
    "Применим функцию ко всем столбцам нашего df."
   ]
  },
  {
   "cell_type": "code",
   "execution_count": 5,
   "metadata": {
    "ExecuteTime": {
     "end_time": "2023-05-16T15:08:46.136331Z",
     "start_time": "2023-05-16T15:08:42.189828Z"
    }
   },
   "outputs": [],
   "source": [
    "df.columns = map(camel_to_snake, df.columns)"
   ]
  },
  {
   "cell_type": "code",
   "execution_count": 6,
   "metadata": {
    "ExecuteTime": {
     "end_time": "2023-05-16T15:08:46.137329Z",
     "start_time": "2023-05-16T15:08:42.189828Z"
    }
   },
   "outputs": [
    {
     "data": {
      "text/plain": [
       "Index(['row_number', 'customer_id', 'surname', 'credit_score', 'geography',\n",
       "       'gender', 'age', 'tenure', 'balance', 'num_of_products', 'has_cr_card',\n",
       "       'is_active_member', 'estimated_salary', 'exited'],\n",
       "      dtype='object')"
      ]
     },
     "execution_count": 6,
     "metadata": {},
     "output_type": "execute_result"
    }
   ],
   "source": [
    "df.columns"
   ]
  },
  {
   "cell_type": "markdown",
   "metadata": {},
   "source": [
    "Убедились в том, что теперь признаки обозначены в формате `snake_case`. Изучим наши данные, чтобы определить для себя возможные первичные действия по предобработке данных."
   ]
  },
  {
   "cell_type": "code",
   "execution_count": 7,
   "metadata": {
    "ExecuteTime": {
     "end_time": "2023-05-16T15:08:46.138326Z",
     "start_time": "2023-05-16T15:08:42.197807Z"
    }
   },
   "outputs": [
    {
     "data": {
      "text/html": [
       "<div>\n",
       "<style scoped>\n",
       "    .dataframe tbody tr th:only-of-type {\n",
       "        vertical-align: middle;\n",
       "    }\n",
       "\n",
       "    .dataframe tbody tr th {\n",
       "        vertical-align: top;\n",
       "    }\n",
       "\n",
       "    .dataframe thead th {\n",
       "        text-align: right;\n",
       "    }\n",
       "</style>\n",
       "<table border=\"1\" class=\"dataframe\">\n",
       "  <thead>\n",
       "    <tr style=\"text-align: right;\">\n",
       "      <th></th>\n",
       "      <th>row_number</th>\n",
       "      <th>customer_id</th>\n",
       "      <th>surname</th>\n",
       "      <th>credit_score</th>\n",
       "      <th>geography</th>\n",
       "      <th>gender</th>\n",
       "      <th>age</th>\n",
       "      <th>tenure</th>\n",
       "      <th>balance</th>\n",
       "      <th>num_of_products</th>\n",
       "      <th>has_cr_card</th>\n",
       "      <th>is_active_member</th>\n",
       "      <th>estimated_salary</th>\n",
       "      <th>exited</th>\n",
       "    </tr>\n",
       "  </thead>\n",
       "  <tbody>\n",
       "    <tr>\n",
       "      <th>0</th>\n",
       "      <td>1</td>\n",
       "      <td>15634602</td>\n",
       "      <td>Hargrave</td>\n",
       "      <td>619</td>\n",
       "      <td>France</td>\n",
       "      <td>Female</td>\n",
       "      <td>42</td>\n",
       "      <td>2.0</td>\n",
       "      <td>0.00</td>\n",
       "      <td>1</td>\n",
       "      <td>1</td>\n",
       "      <td>1</td>\n",
       "      <td>101348.88</td>\n",
       "      <td>1</td>\n",
       "    </tr>\n",
       "    <tr>\n",
       "      <th>1</th>\n",
       "      <td>2</td>\n",
       "      <td>15647311</td>\n",
       "      <td>Hill</td>\n",
       "      <td>608</td>\n",
       "      <td>Spain</td>\n",
       "      <td>Female</td>\n",
       "      <td>41</td>\n",
       "      <td>1.0</td>\n",
       "      <td>83807.86</td>\n",
       "      <td>1</td>\n",
       "      <td>0</td>\n",
       "      <td>1</td>\n",
       "      <td>112542.58</td>\n",
       "      <td>0</td>\n",
       "    </tr>\n",
       "    <tr>\n",
       "      <th>2</th>\n",
       "      <td>3</td>\n",
       "      <td>15619304</td>\n",
       "      <td>Onio</td>\n",
       "      <td>502</td>\n",
       "      <td>France</td>\n",
       "      <td>Female</td>\n",
       "      <td>42</td>\n",
       "      <td>8.0</td>\n",
       "      <td>159660.80</td>\n",
       "      <td>3</td>\n",
       "      <td>1</td>\n",
       "      <td>0</td>\n",
       "      <td>113931.57</td>\n",
       "      <td>1</td>\n",
       "    </tr>\n",
       "    <tr>\n",
       "      <th>3</th>\n",
       "      <td>4</td>\n",
       "      <td>15701354</td>\n",
       "      <td>Boni</td>\n",
       "      <td>699</td>\n",
       "      <td>France</td>\n",
       "      <td>Female</td>\n",
       "      <td>39</td>\n",
       "      <td>1.0</td>\n",
       "      <td>0.00</td>\n",
       "      <td>2</td>\n",
       "      <td>0</td>\n",
       "      <td>0</td>\n",
       "      <td>93826.63</td>\n",
       "      <td>0</td>\n",
       "    </tr>\n",
       "    <tr>\n",
       "      <th>4</th>\n",
       "      <td>5</td>\n",
       "      <td>15737888</td>\n",
       "      <td>Mitchell</td>\n",
       "      <td>850</td>\n",
       "      <td>Spain</td>\n",
       "      <td>Female</td>\n",
       "      <td>43</td>\n",
       "      <td>2.0</td>\n",
       "      <td>125510.82</td>\n",
       "      <td>1</td>\n",
       "      <td>1</td>\n",
       "      <td>1</td>\n",
       "      <td>79084.10</td>\n",
       "      <td>0</td>\n",
       "    </tr>\n",
       "  </tbody>\n",
       "</table>\n",
       "</div>"
      ],
      "text/plain": [
       "   row_number  customer_id   surname  credit_score geography  gender  age  \\\n",
       "0           1     15634602  Hargrave           619    France  Female   42   \n",
       "1           2     15647311      Hill           608     Spain  Female   41   \n",
       "2           3     15619304      Onio           502    France  Female   42   \n",
       "3           4     15701354      Boni           699    France  Female   39   \n",
       "4           5     15737888  Mitchell           850     Spain  Female   43   \n",
       "\n",
       "   tenure    balance  num_of_products  has_cr_card  is_active_member  \\\n",
       "0     2.0       0.00                1            1                 1   \n",
       "1     1.0   83807.86                1            0                 1   \n",
       "2     8.0  159660.80                3            1                 0   \n",
       "3     1.0       0.00                2            0                 0   \n",
       "4     2.0  125510.82                1            1                 1   \n",
       "\n",
       "   estimated_salary  exited  \n",
       "0         101348.88       1  \n",
       "1         112542.58       0  \n",
       "2         113931.57       1  \n",
       "3          93826.63       0  \n",
       "4          79084.10       0  "
      ]
     },
     "execution_count": 7,
     "metadata": {},
     "output_type": "execute_result"
    }
   ],
   "source": [
    "df.head()"
   ]
  },
  {
   "cell_type": "code",
   "execution_count": 8,
   "metadata": {
    "ExecuteTime": {
     "end_time": "2023-05-16T15:08:46.140321Z",
     "start_time": "2023-05-16T15:08:42.197807Z"
    }
   },
   "outputs": [
    {
     "name": "stdout",
     "output_type": "stream",
     "text": [
      "<class 'pandas.core.frame.DataFrame'>\n",
      "RangeIndex: 10000 entries, 0 to 9999\n",
      "Data columns (total 14 columns):\n",
      " #   Column            Non-Null Count  Dtype  \n",
      "---  ------            --------------  -----  \n",
      " 0   row_number        10000 non-null  int64  \n",
      " 1   customer_id       10000 non-null  int64  \n",
      " 2   surname           10000 non-null  object \n",
      " 3   credit_score      10000 non-null  int64  \n",
      " 4   geography         10000 non-null  object \n",
      " 5   gender            10000 non-null  object \n",
      " 6   age               10000 non-null  int64  \n",
      " 7   tenure            9091 non-null   float64\n",
      " 8   balance           10000 non-null  float64\n",
      " 9   num_of_products   10000 non-null  int64  \n",
      " 10  has_cr_card       10000 non-null  int64  \n",
      " 11  is_active_member  10000 non-null  int64  \n",
      " 12  estimated_salary  10000 non-null  float64\n",
      " 13  exited            10000 non-null  int64  \n",
      "dtypes: float64(3), int64(8), object(3)\n",
      "memory usage: 1.1+ MB\n"
     ]
    }
   ],
   "source": [
    "df.info()"
   ]
  },
  {
   "cell_type": "markdown",
   "metadata": {},
   "source": [
    "В столбце `tenure` обнаружены пропущенные значения. Многим столбцам необходимо произвести изменение разрядности типа данных, с целью незначительной экономии памяти. Также в дальнейшем для столбцов `geography` и `gender` необходимо произвести прямое кодирования для перевода категориальных признаков в численные, что даст возможность построения моделей бинарной классификации."
   ]
  },
  {
   "cell_type": "markdown",
   "metadata": {},
   "source": [
    "---\n",
    "### *Обработка дубликатов*"
   ]
  },
  {
   "cell_type": "markdown",
   "metadata": {},
   "source": [
    "Поищем явные дубликаты в данных по имеющейся переменной `customer_id`."
   ]
  },
  {
   "cell_type": "code",
   "execution_count": 9,
   "metadata": {
    "ExecuteTime": {
     "end_time": "2023-05-16T15:08:46.142316Z",
     "start_time": "2023-05-16T15:08:42.221743Z"
    }
   },
   "outputs": [
    {
     "data": {
      "text/plain": [
       "0"
      ]
     },
     "execution_count": 9,
     "metadata": {},
     "output_type": "execute_result"
    }
   ],
   "source": [
    "df['customer_id'].duplicated().sum()"
   ]
  },
  {
   "cell_type": "markdown",
   "metadata": {},
   "source": [
    "Как видим, явно задублированные данные по этой переменной отсутствуют. Предположим, что имелся какой-то системный сбой и id одного и того же человека был создан более одного раза."
   ]
  },
  {
   "cell_type": "code",
   "execution_count": 10,
   "metadata": {
    "ExecuteTime": {
     "end_time": "2023-05-16T15:08:46.142316Z",
     "start_time": "2023-05-16T15:08:42.229721Z"
    }
   },
   "outputs": [
    {
     "data": {
      "text/html": [
       "<div>\n",
       "<style scoped>\n",
       "    .dataframe tbody tr th:only-of-type {\n",
       "        vertical-align: middle;\n",
       "    }\n",
       "\n",
       "    .dataframe tbody tr th {\n",
       "        vertical-align: top;\n",
       "    }\n",
       "\n",
       "    .dataframe thead th {\n",
       "        text-align: right;\n",
       "    }\n",
       "</style>\n",
       "<table border=\"1\" class=\"dataframe\">\n",
       "  <thead>\n",
       "    <tr style=\"text-align: right;\">\n",
       "      <th></th>\n",
       "      <th>row_number</th>\n",
       "      <th>customer_id</th>\n",
       "      <th>surname</th>\n",
       "      <th>credit_score</th>\n",
       "      <th>geography</th>\n",
       "      <th>gender</th>\n",
       "      <th>age</th>\n",
       "      <th>tenure</th>\n",
       "      <th>balance</th>\n",
       "      <th>num_of_products</th>\n",
       "      <th>has_cr_card</th>\n",
       "      <th>is_active_member</th>\n",
       "      <th>estimated_salary</th>\n",
       "      <th>exited</th>\n",
       "    </tr>\n",
       "  </thead>\n",
       "  <tbody>\n",
       "    <tr>\n",
       "      <th>2300</th>\n",
       "      <td>2301</td>\n",
       "      <td>15647266</td>\n",
       "      <td>Y?an</td>\n",
       "      <td>651</td>\n",
       "      <td>Spain</td>\n",
       "      <td>Female</td>\n",
       "      <td>45</td>\n",
       "      <td>NaN</td>\n",
       "      <td>135923.16</td>\n",
       "      <td>1</td>\n",
       "      <td>1</td>\n",
       "      <td>0</td>\n",
       "      <td>18732.84</td>\n",
       "      <td>0</td>\n",
       "    </tr>\n",
       "    <tr>\n",
       "      <th>7198</th>\n",
       "      <td>7199</td>\n",
       "      <td>15773934</td>\n",
       "      <td>Fang</td>\n",
       "      <td>670</td>\n",
       "      <td>France</td>\n",
       "      <td>Male</td>\n",
       "      <td>33</td>\n",
       "      <td>NaN</td>\n",
       "      <td>88294.60</td>\n",
       "      <td>1</td>\n",
       "      <td>1</td>\n",
       "      <td>0</td>\n",
       "      <td>66979.06</td>\n",
       "      <td>0</td>\n",
       "    </tr>\n",
       "    <tr>\n",
       "      <th>7869</th>\n",
       "      <td>7870</td>\n",
       "      <td>15693771</td>\n",
       "      <td>Y?an</td>\n",
       "      <td>651</td>\n",
       "      <td>Spain</td>\n",
       "      <td>Female</td>\n",
       "      <td>45</td>\n",
       "      <td>8.0</td>\n",
       "      <td>95922.90</td>\n",
       "      <td>1</td>\n",
       "      <td>1</td>\n",
       "      <td>0</td>\n",
       "      <td>84782.42</td>\n",
       "      <td>1</td>\n",
       "    </tr>\n",
       "    <tr>\n",
       "      <th>9885</th>\n",
       "      <td>9886</td>\n",
       "      <td>15574584</td>\n",
       "      <td>Fang</td>\n",
       "      <td>670</td>\n",
       "      <td>France</td>\n",
       "      <td>Male</td>\n",
       "      <td>33</td>\n",
       "      <td>8.0</td>\n",
       "      <td>126679.69</td>\n",
       "      <td>1</td>\n",
       "      <td>1</td>\n",
       "      <td>1</td>\n",
       "      <td>39451.09</td>\n",
       "      <td>0</td>\n",
       "    </tr>\n",
       "  </tbody>\n",
       "</table>\n",
       "</div>"
      ],
      "text/plain": [
       "      row_number  customer_id surname  credit_score geography  gender  age  \\\n",
       "2300        2301     15647266    Y?an           651     Spain  Female   45   \n",
       "7198        7199     15773934    Fang           670    France    Male   33   \n",
       "7869        7870     15693771    Y?an           651     Spain  Female   45   \n",
       "9885        9886     15574584    Fang           670    France    Male   33   \n",
       "\n",
       "      tenure    balance  num_of_products  has_cr_card  is_active_member  \\\n",
       "2300     NaN  135923.16                1            1                 0   \n",
       "7198     NaN   88294.60                1            1                 0   \n",
       "7869     8.0   95922.90                1            1                 0   \n",
       "9885     8.0  126679.69                1            1                 1   \n",
       "\n",
       "      estimated_salary  exited  \n",
       "2300          18732.84       0  \n",
       "7198          66979.06       0  \n",
       "7869          84782.42       1  \n",
       "9885          39451.09       0  "
      ]
     },
     "execution_count": 10,
     "metadata": {},
     "output_type": "execute_result"
    }
   ],
   "source": [
    "df[df[['surname', 'gender', 'age', 'geography', 'credit_score']].duplicated(keep=False)]"
   ]
  },
  {
   "cell_type": "markdown",
   "metadata": {},
   "source": [
    "Из имеющегося видим, что возможно имеется два однофамильца в Испании и Франции с одинаковым кредитным рейтингом, одинакового возраста и пола. Но будем придерживаться идеи, что такая вероятность возможно и `customer_id` выполняет свою роль исправно и у отдельно взятого человека есть только один id."
   ]
  },
  {
   "cell_type": "markdown",
   "metadata": {},
   "source": [
    "Имеются три неинформативных для дальнейших задач столбца - row_number, customer_id и surname, удалим их."
   ]
  },
  {
   "cell_type": "code",
   "execution_count": 11,
   "metadata": {
    "ExecuteTime": {
     "end_time": "2023-05-16T15:08:46.144822Z",
     "start_time": "2023-05-16T15:08:42.245678Z"
    }
   },
   "outputs": [],
   "source": [
    "df = df.drop(['row_number', 'surname', 'customer_id'], axis=1)"
   ]
  },
  {
   "cell_type": "markdown",
   "metadata": {},
   "source": [
    "---\n",
    "### *Обработка пропусков*"
   ]
  },
  {
   "cell_type": "code",
   "execution_count": 12,
   "metadata": {
    "ExecuteTime": {
     "end_time": "2023-05-16T15:08:46.148812Z",
     "start_time": "2023-05-16T15:08:42.261636Z"
    }
   },
   "outputs": [
    {
     "data": {
      "text/html": [
       "<style  type=\"text/css\" >\n",
       "#T_c19d0_row0_col0{\n",
       "            background-color:  #3b4cc0;\n",
       "            color:  #f1f1f1;\n",
       "        }</style><table id=\"T_c19d0_\" ><thead>    <tr>        <th class=\"blank level0\" ></th>        <th class=\"col_heading level0 col0\" >space</th>    </tr></thead><tbody>\n",
       "                <tr>\n",
       "                        <th id=\"T_c19d0_level0_row0\" class=\"row_heading level0 row0\" >tenure</th>\n",
       "                        <td id=\"T_c19d0_row0_col0\" class=\"data row0 col0\" >9.000000</td>\n",
       "            </tr>\n",
       "    </tbody></table>"
      ],
      "text/plain": [
       "<pandas.io.formats.style.Styler at 0x17ef57b9e20>"
      ]
     },
     "execution_count": 12,
     "metadata": {},
     "output_type": "execute_result"
    }
   ],
   "source": [
    "pd.DataFrame(round(df.isna().mean() * 100)) \\\n",
    "    .rename(columns={0: 'space'}).query('space > 0') \\\n",
    "    .sort_values(by='space', ascending=True) \\\n",
    "    .style.background_gradient('coolwarm')"
   ]
  },
  {
   "cell_type": "markdown",
   "metadata": {},
   "source": [
    "Имеем 9% пропусков в столбце `tenure` отражающем, сколько лет человек является клиентом банка. Оценим распределение имеющихся значений в нашем столбце.\n"
   ]
  },
  {
   "cell_type": "code",
   "execution_count": 13,
   "metadata": {
    "ExecuteTime": {
     "end_time": "2023-05-16T15:08:46.149808Z",
     "start_time": "2023-05-16T15:08:42.270612Z"
    }
   },
   "outputs": [
    {
     "data": {
      "text/plain": [
       "1.0     952\n",
       "2.0     950\n",
       "8.0     933\n",
       "3.0     928\n",
       "5.0     927\n",
       "7.0     925\n",
       "4.0     885\n",
       "9.0     882\n",
       "6.0     881\n",
       "10.0    446\n",
       "0.0     382\n",
       "Name: tenure, dtype: int64"
      ]
     },
     "execution_count": 13,
     "metadata": {},
     "output_type": "execute_result"
    }
   ],
   "source": [
    "df.tenure.value_counts()"
   ]
  },
  {
   "cell_type": "code",
   "execution_count": 14,
   "metadata": {
    "ExecuteTime": {
     "end_time": "2023-05-16T15:08:46.151802Z",
     "start_time": "2023-05-16T15:08:42.270612Z"
    }
   },
   "outputs": [
    {
     "data": {
      "text/plain": [
       "2.894723234821247"
      ]
     },
     "execution_count": 14,
     "metadata": {},
     "output_type": "execute_result"
    }
   ],
   "source": [
    "df.tenure.std()"
   ]
  },
  {
   "cell_type": "code",
   "execution_count": 15,
   "metadata": {
    "ExecuteTime": {
     "end_time": "2023-05-16T15:08:46.449512Z",
     "start_time": "2023-05-16T15:08:46.184715Z"
    }
   },
   "outputs": [
    {
     "data": {
      "image/png": "[encoded data removed]",
      "text/plain": [
       "<Figure size 640x480 with 1 Axes>"
      ]
     },
     "metadata": {},
     "output_type": "display_data"
    }
   ],
   "source": [
    "sns.histplot(df, x='tenure');"
   ]
  },
  {
   "cell_type": "code",
   "execution_count": 16,
   "metadata": {
    "ExecuteTime": {
     "end_time": "2023-05-16T15:08:46.473447Z",
     "start_time": "2023-05-16T15:08:46.353768Z"
    }
   },
   "outputs": [
    {
     "data": {
      "text/html": [
       "<div>\n",
       "<style scoped>\n",
       "    .dataframe tbody tr th:only-of-type {\n",
       "        vertical-align: middle;\n",
       "    }\n",
       "\n",
       "    .dataframe tbody tr th {\n",
       "        vertical-align: top;\n",
       "    }\n",
       "\n",
       "    .dataframe thead th {\n",
       "        text-align: right;\n",
       "    }\n",
       "</style>\n",
       "<table border=\"1\" class=\"dataframe\">\n",
       "  <thead>\n",
       "    <tr style=\"text-align: right;\">\n",
       "      <th></th>\n",
       "      <th>credit_score</th>\n",
       "      <th>geography</th>\n",
       "      <th>gender</th>\n",
       "      <th>age</th>\n",
       "      <th>tenure</th>\n",
       "      <th>balance</th>\n",
       "      <th>num_of_products</th>\n",
       "      <th>has_cr_card</th>\n",
       "      <th>is_active_member</th>\n",
       "      <th>estimated_salary</th>\n",
       "      <th>exited</th>\n",
       "    </tr>\n",
       "  </thead>\n",
       "  <tbody>\n",
       "    <tr>\n",
       "      <th>0</th>\n",
       "      <td>619</td>\n",
       "      <td>France</td>\n",
       "      <td>Female</td>\n",
       "      <td>42</td>\n",
       "      <td>2.0</td>\n",
       "      <td>0.00</td>\n",
       "      <td>1</td>\n",
       "      <td>1</td>\n",
       "      <td>1</td>\n",
       "      <td>101348.88</td>\n",
       "      <td>1</td>\n",
       "    </tr>\n",
       "    <tr>\n",
       "      <th>1</th>\n",
       "      <td>608</td>\n",
       "      <td>Spain</td>\n",
       "      <td>Female</td>\n",
       "      <td>41</td>\n",
       "      <td>1.0</td>\n",
       "      <td>83807.86</td>\n",
       "      <td>1</td>\n",
       "      <td>0</td>\n",
       "      <td>1</td>\n",
       "      <td>112542.58</td>\n",
       "      <td>0</td>\n",
       "    </tr>\n",
       "    <tr>\n",
       "      <th>2</th>\n",
       "      <td>502</td>\n",
       "      <td>France</td>\n",
       "      <td>Female</td>\n",
       "      <td>42</td>\n",
       "      <td>8.0</td>\n",
       "      <td>159660.80</td>\n",
       "      <td>3</td>\n",
       "      <td>1</td>\n",
       "      <td>0</td>\n",
       "      <td>113931.57</td>\n",
       "      <td>1</td>\n",
       "    </tr>\n",
       "    <tr>\n",
       "      <th>3</th>\n",
       "      <td>699</td>\n",
       "      <td>France</td>\n",
       "      <td>Female</td>\n",
       "      <td>39</td>\n",
       "      <td>1.0</td>\n",
       "      <td>0.00</td>\n",
       "      <td>2</td>\n",
       "      <td>0</td>\n",
       "      <td>0</td>\n",
       "      <td>93826.63</td>\n",
       "      <td>0</td>\n",
       "    </tr>\n",
       "    <tr>\n",
       "      <th>4</th>\n",
       "      <td>850</td>\n",
       "      <td>Spain</td>\n",
       "      <td>Female</td>\n",
       "      <td>43</td>\n",
       "      <td>2.0</td>\n",
       "      <td>125510.82</td>\n",
       "      <td>1</td>\n",
       "      <td>1</td>\n",
       "      <td>1</td>\n",
       "      <td>79084.10</td>\n",
       "      <td>0</td>\n",
       "    </tr>\n",
       "    <tr>\n",
       "      <th>...</th>\n",
       "      <td>...</td>\n",
       "      <td>...</td>\n",
       "      <td>...</td>\n",
       "      <td>...</td>\n",
       "      <td>...</td>\n",
       "      <td>...</td>\n",
       "      <td>...</td>\n",
       "      <td>...</td>\n",
       "      <td>...</td>\n",
       "      <td>...</td>\n",
       "      <td>...</td>\n",
       "    </tr>\n",
       "    <tr>\n",
       "      <th>9994</th>\n",
       "      <td>800</td>\n",
       "      <td>France</td>\n",
       "      <td>Female</td>\n",
       "      <td>29</td>\n",
       "      <td>2.0</td>\n",
       "      <td>0.00</td>\n",
       "      <td>2</td>\n",
       "      <td>0</td>\n",
       "      <td>0</td>\n",
       "      <td>167773.55</td>\n",
       "      <td>0</td>\n",
       "    </tr>\n",
       "    <tr>\n",
       "      <th>9995</th>\n",
       "      <td>771</td>\n",
       "      <td>France</td>\n",
       "      <td>Male</td>\n",
       "      <td>39</td>\n",
       "      <td>5.0</td>\n",
       "      <td>0.00</td>\n",
       "      <td>2</td>\n",
       "      <td>1</td>\n",
       "      <td>0</td>\n",
       "      <td>96270.64</td>\n",
       "      <td>0</td>\n",
       "    </tr>\n",
       "    <tr>\n",
       "      <th>9996</th>\n",
       "      <td>516</td>\n",
       "      <td>France</td>\n",
       "      <td>Male</td>\n",
       "      <td>35</td>\n",
       "      <td>10.0</td>\n",
       "      <td>57369.61</td>\n",
       "      <td>1</td>\n",
       "      <td>1</td>\n",
       "      <td>1</td>\n",
       "      <td>101699.77</td>\n",
       "      <td>0</td>\n",
       "    </tr>\n",
       "    <tr>\n",
       "      <th>9997</th>\n",
       "      <td>709</td>\n",
       "      <td>France</td>\n",
       "      <td>Female</td>\n",
       "      <td>36</td>\n",
       "      <td>7.0</td>\n",
       "      <td>0.00</td>\n",
       "      <td>1</td>\n",
       "      <td>0</td>\n",
       "      <td>1</td>\n",
       "      <td>42085.58</td>\n",
       "      <td>1</td>\n",
       "    </tr>\n",
       "    <tr>\n",
       "      <th>9998</th>\n",
       "      <td>772</td>\n",
       "      <td>Germany</td>\n",
       "      <td>Male</td>\n",
       "      <td>42</td>\n",
       "      <td>3.0</td>\n",
       "      <td>75075.31</td>\n",
       "      <td>2</td>\n",
       "      <td>1</td>\n",
       "      <td>0</td>\n",
       "      <td>92888.52</td>\n",
       "      <td>1</td>\n",
       "    </tr>\n",
       "  </tbody>\n",
       "</table>\n",
       "<p>9091 rows × 11 columns</p>\n",
       "</div>"
      ],
      "text/plain": [
       "      credit_score geography  gender  age  tenure    balance  num_of_products  \\\n",
       "0              619    France  Female   42     2.0       0.00                1   \n",
       "1              608     Spain  Female   41     1.0   83807.86                1   \n",
       "2              502    France  Female   42     8.0  159660.80                3   \n",
       "3              699    France  Female   39     1.0       0.00                2   \n",
       "4              850     Spain  Female   43     2.0  125510.82                1   \n",
       "...            ...       ...     ...  ...     ...        ...              ...   \n",
       "9994           800    France  Female   29     2.0       0.00                2   \n",
       "9995           771    France    Male   39     5.0       0.00                2   \n",
       "9996           516    France    Male   35    10.0   57369.61                1   \n",
       "9997           709    France  Female   36     7.0       0.00                1   \n",
       "9998           772   Germany    Male   42     3.0   75075.31                2   \n",
       "\n",
       "      has_cr_card  is_active_member  estimated_salary  exited  \n",
       "0               1                 1         101348.88       1  \n",
       "1               0                 1         112542.58       0  \n",
       "2               1                 0         113931.57       1  \n",
       "3               0                 0          93826.63       0  \n",
       "4               1                 1          79084.10       0  \n",
       "...           ...               ...               ...     ...  \n",
       "9994            0                 0         167773.55       0  \n",
       "9995            1                 0          96270.64       0  \n",
       "9996            1                 1         101699.77       0  \n",
       "9997            0                 1          42085.58       1  \n",
       "9998            1                 0          92888.52       1  \n",
       "\n",
       "[9091 rows x 11 columns]"
      ]
     },
     "execution_count": 16,
     "metadata": {},
     "output_type": "execute_result"
    }
   ],
   "source": [
    "df.query('tenure.notna()')"
   ]
  },
  {
   "cell_type": "code",
   "execution_count": null,
   "metadata": {
    "pycharm": {
     "is_executing": true
    },
    "scrolled": false
   },
   "outputs": [
    {
     "data": {
      "image/png": "[encoded data removed]",
      "text/plain": [
       "<Figure size 640x480 with 1 Axes>"
      ]
     },
     "metadata": {},
     "output_type": "display_data"
    }
   ],
   "source": [
    "for col in df.drop('tenure', axis=1).columns:\n",
    "    sns.histplot(df.query('tenure.isna()'), x=col)\n",
    "    plt.show()"
   ]
  },
  {
   "cell_type": "markdown",
   "metadata": {},
   "source": [
    "Проанализировав распределения в значениях остальных переменных, когда в столбце `tenure` имеется пропуск, мы не обнаружили какой-то явной закономерности или изменения изначального распределения независимых переменных."
   ]
  },
  {
   "cell_type": "code",
   "execution_count": null,
   "metadata": {
    "pycharm": {
     "is_executing": true
    }
   },
   "outputs": [],
   "source": [
    "features = df.select_dtypes(['float', 'integer']).query('tenure.notna()').drop('tenure', axis=1)\n",
    "target = df.select_dtypes(['float', 'integer']).query('tenure.notna()')['tenure']\n",
    "features_train, features_valid, target_train, target_valid = train_test_split(features, target, test_size=0.25,\n",
    "                                                                              random_state=42)"
   ]
  },
  {
   "cell_type": "code",
   "execution_count": null,
   "metadata": {
    "pycharm": {
     "is_executing": true
    }
   },
   "outputs": [],
   "source": [
    "np.random.seed(56)\n",
    "np_pred = pd.Series(np.random.randint(0, 11, len(target_valid)))\n",
    "df.loc[df['tenure'].isna(), 'tenure'] = np.random.randint(0, 11, len(df[df['tenure'].isna()]))\n",
    "accuracy_score(target_valid, np_pred)"
   ]
  },
  {
   "cell_type": "code",
   "execution_count": null,
   "metadata": {
    "pycharm": {
     "is_executing": true
    }
   },
   "outputs": [],
   "source": [
    "df.tenure.value_counts()"
   ]
  },
  {
   "cell_type": "code",
   "execution_count": null,
   "metadata": {
    "pycharm": {
     "is_executing": true
    }
   },
   "outputs": [],
   "source": [
    "sns.histplot(df, x='tenure');"
   ]
  },
  {
   "cell_type": "code",
   "execution_count": null,
   "metadata": {
    "pycharm": {
     "is_executing": true
    }
   },
   "outputs": [],
   "source": [
    "df.tenure.std()"
   ]
  },
  {
   "cell_type": "markdown",
   "metadata": {},
   "source": [
    "Заполнив пропущенные значения случайным числом в диапазоне от 0 до 10 включительно, мы получили незначительное увеличение параметра стандартного отклонения на 0.03. Точность заполнения по параметру accuracy составляет всего 0.103, метод ближайших соседей (KNN) дает близкий результат (~0.12+), поэтому остановимся на варианте использования случайных значений."
   ]
  },
  {
   "cell_type": "markdown",
   "metadata": {},
   "source": [
    "---\n",
    "### *Изменение типов данных*"
   ]
  },
  {
   "cell_type": "code",
   "execution_count": null,
   "metadata": {
    "pycharm": {
     "is_executing": true
    }
   },
   "outputs": [],
   "source": [
    "df.tenure = df.tenure.astype('int8')\n",
    "df.dtypes"
   ]
  },
  {
   "cell_type": "code",
   "execution_count": null,
   "metadata": {
    "pycharm": {
     "is_executing": true
    }
   },
   "outputs": [],
   "source": [
    "fcols = df.select_dtypes('float').columns\n",
    "icols = df.select_dtypes('integer').columns\n",
    "\n",
    "df[fcols] = df[fcols].apply(pd.to_numeric, downcast='float')\n",
    "df[icols] = df[icols].apply(pd.to_numeric, downcast='integer')"
   ]
  },
  {
   "cell_type": "code",
   "execution_count": null,
   "metadata": {
    "pycharm": {
     "is_executing": true
    }
   },
   "outputs": [],
   "source": [
    "df.dtypes"
   ]
  },
  {
   "cell_type": "markdown",
   "metadata": {},
   "source": [
    "Типы данных успешно преобразованы."
   ]
  },
  {
   "cell_type": "markdown",
   "metadata": {},
   "source": [
    "---\n",
    "### *Обработка аномальных значений*"
   ]
  },
  {
   "cell_type": "markdown",
   "metadata": {},
   "source": [
    "В данных могут встречаться артефакты (аномалии) — значения, которые не отражают действительность и появились по какой-то ошибке."
   ]
  },
  {
   "cell_type": "code",
   "execution_count": null,
   "metadata": {
    "pycharm": {
     "is_executing": true
    }
   },
   "outputs": [],
   "source": [
    "(\n",
    "    df[df.select_dtypes(['float', 'integer']).columns]\n",
    "    .quantile([0.0012, 0.01, .5, .99, .9988])  # выбираем размах в 0,9976 квантилей\n",
    "    .style.format(\"{:,.2f}\")\n",
    ")"
   ]
  },
  {
   "cell_type": "markdown",
   "metadata": {},
   "source": [
    "Все количественные данные проходят проверку на адекватность, аномальных выбросов не обнаружено."
   ]
  },
  {
   "cell_type": "markdown",
   "metadata": {},
   "source": [
    "## Исследование задачи"
   ]
  },
  {
   "cell_type": "markdown",
   "metadata": {},
   "source": [
    "Проверка независимых переменных на мультиколлинеарность."
   ]
  },
  {
   "cell_type": "code",
   "execution_count": null,
   "metadata": {
    "pycharm": {
     "is_executing": true
    }
   },
   "outputs": [],
   "source": [
    "matrix = np.triu(df.drop('exited', axis=1).corr())\n",
    "sns.heatmap(df.drop('exited', axis=1).corr(), annot=True, mask=matrix, cmap='coolwarm', linewidths=0.1,\n",
    "            linecolor='black');"
   ]
  },
  {
   "cell_type": "code",
   "execution_count": null,
   "metadata": {
    "pycharm": {
     "is_executing": true
    }
   },
   "outputs": [],
   "source": [
    "g = sns.pairplot(df, hue='exited', kind='reg', plot_kws={'line_kws': {'color': 'red'}, 'scatter_kws': {'alpha': 0.1}})"
   ]
  },
  {
   "cell_type": "markdown",
   "metadata": {},
   "source": [
    "Не обнаружено корреляций независимых признаков со значениями, превышающими показатель 0.7-0.8.\n",
    "Оценим дисбаланс целевого класса в исходном df."
   ]
  },
  {
   "cell_type": "code",
   "execution_count": null,
   "metadata": {
    "pycharm": {
     "is_executing": true
    }
   },
   "outputs": [],
   "source": [
    "df.exited.value_counts()"
   ]
  },
  {
   "cell_type": "markdown",
   "metadata": {},
   "source": [
    "Количество значений целевого класса 0 в 4 раза превышеает количество значений целевого класса 1."
   ]
  },
  {
   "cell_type": "code",
   "execution_count": null,
   "metadata": {
    "pycharm": {
     "is_executing": true
    }
   },
   "outputs": [],
   "source": [
    "df.head()"
   ]
  },
  {
   "cell_type": "code",
   "execution_count": null,
   "metadata": {
    "pycharm": {
     "is_executing": true
    }
   },
   "outputs": [],
   "source": [
    "features = df.drop('exited', axis=1)\n",
    "target = df['exited']\n",
    "features_train, features_test, target_train, target_test = train_test_split(\n",
    "    features, target, test_size=0.25, random_state=42)"
   ]
  },
  {
   "cell_type": "code",
   "execution_count": null,
   "metadata": {
    "pycharm": {
     "is_executing": true
    }
   },
   "outputs": [],
   "source": [
    "num_columns = features.select_dtypes(exclude='object').drop(['has_cr_card', 'is_active_member'], axis=1).columns\n",
    "obj_columns = features.select_dtypes(include='object').columns"
   ]
  },
  {
   "cell_type": "markdown",
   "metadata": {},
   "source": [
    "Преобразуем категориальные данные методом OHE/прямое кодирование, так как в наших категориальных данных отсутствует какой-либо порядок значений."
   ]
  },
  {
   "cell_type": "code",
   "execution_count": null,
   "metadata": {
    "pycharm": {
     "is_executing": true
    }
   },
   "outputs": [],
   "source": [
    "encoder_ohe = OneHotEncoder(drop='first', handle_unknown='error', sparse=False)\n",
    "encoder_ohe.fit(features_train[obj_columns])\n",
    "pd.options.mode.chained_assignment = None\n",
    "features_train[encoder_ohe.get_feature_names_out()] = encoder_ohe.transform(features_train[obj_columns])\n",
    "features_train = features_train.drop(obj_columns, axis=1)\n",
    "features_test[encoder_ohe.get_feature_names_out()] = encoder_ohe.transform(features_test[obj_columns])\n",
    "features_test = features_test.drop(obj_columns, axis=1)"
   ]
  },
  {
   "cell_type": "markdown",
   "metadata": {},
   "source": [
    "Произведем масштабирование количественных признаков, для возможности построения моделей прогнозирования, таких как линейная регрессия, метод KNN(те модели, где масштаб признаков имеет значение)."
   ]
  },
  {
   "cell_type": "code",
   "execution_count": null,
   "metadata": {
    "pycharm": {
     "is_executing": true
    }
   },
   "outputs": [],
   "source": [
    "scaler = StandardScaler()\n",
    "features_train[num_columns] = scaler.fit_transform(features_train[num_columns])\n",
    "features_test[num_columns] = scaler.transform(features_test[num_columns])"
   ]
  },
  {
   "cell_type": "markdown",
   "metadata": {},
   "source": [
    "Выберем модель, на основе которой будем получать наиболее точные результаты. Сравним модели пока без определения наилучших гиперпараметров."
   ]
  },
  {
   "cell_type": "code",
   "execution_count": null,
   "metadata": {
    "pycharm": {
     "is_executing": true
    }
   },
   "outputs": [],
   "source": [
    "# Логистическая регрессия\n",
    "model = LogisticRegression(solver='liblinear', class_weight='balanced')\n",
    "model.fit(features_train, target_train)\n",
    "pred = model.predict(features_test)\n",
    "f1_score(target_test, pred)"
   ]
  },
  {
   "cell_type": "code",
   "execution_count": null,
   "metadata": {
    "pycharm": {
     "is_executing": true
    }
   },
   "outputs": [],
   "source": [
    "# Логистическая регрессия\n",
    "model = DecisionTreeClassifier(random_state=42)\n",
    "params = {\n",
    "    'min_samples_leaf': list(range(1, 8)),\n",
    "    'min_samples_split': list(range(2, 8)),\n",
    "    'class_weight': ['balanced', None],\n",
    "    'max_depth': list(range(4, 12)),\n",
    "    'random_state': [42]\n",
    "}\n",
    "decision_model = RandomizedSearchCV(model, param_distributions=params, random_state=42, cv=5, n_jobs=-1,\n",
    "                                    scoring='f1').fit(features_train, target_train)\n",
    "decision_model.best_score_\n",
    "# decision_model.best_params_"
   ]
  },
  {
   "cell_type": "code",
   "execution_count": null,
   "metadata": {
    "pycharm": {
     "is_executing": true
    }
   },
   "outputs": [],
   "source": [
    "model = RandomForestClassifier(n_estimators=100, random_state=42)\n",
    "params = {\n",
    "    'n_estimators': [50, 100, 200],\n",
    "    'min_samples_leaf': list(range(1, 8)),\n",
    "    'min_samples_split': list(range(2, 8)),\n",
    "    'class_weight': ['balanced', None],\n",
    "    'max_depth': list(range(4, 12)),\n",
    "    'random_state': [42]\n",
    "}\n",
    "forest_model = RandomizedSearchCV(model, param_distributions=params, random_state=42, cv=5, n_jobs=-1,\n",
    "                                  scoring='f1').fit(features_train, target_train)\n",
    "forest_model.best_score_\n",
    "# decision_model.best_params_"
   ]
  },
  {
   "cell_type": "code",
   "execution_count": null,
   "metadata": {
    "pycharm": {
     "is_executing": true
    }
   },
   "outputs": [],
   "source": [
    "forest_model.best_params_"
   ]
  },
  {
   "cell_type": "markdown",
   "metadata": {},
   "source": [
    "Получили результат, что лучшие результаты выдает модель Случайного леса со значением F1 меры 0.622 до восстановления дисбаланса классов целевой переменной. Такого показателя удалось добиться используя вес классов, значение было установлено на `balanced`, что позволило  при расчете минимизировать эмпирический риск с учетом имеющегося дисбаланса классов. Ошибки возникают по причине того, что подбор гиперпараметров происходил на основании F1 меры и из свойств расчета этой оценки возможно получение значений nan."
   ]
  },
  {
   "cell_type": "markdown",
   "metadata": {},
   "source": [
    "Проведем подбор наилучших гиперпараметров без учета весов каждого из классов."
   ]
  },
  {
   "cell_type": "code",
   "execution_count": null,
   "metadata": {
    "pycharm": {
     "is_executing": true
    }
   },
   "outputs": [],
   "source": [
    "model = RandomForestClassifier(n_estimators=100, random_state=42)\n",
    "params = {\n",
    "    'n_estimators': [50, 100, 200],\n",
    "    'min_samples_leaf': list(range(1, 8)),\n",
    "    'min_samples_split': list(range(2, 8)),\n",
    "    'class_weight': [None],\n",
    "    'max_depth': list(range(4, 12)),\n",
    "    'random_state': [42]\n",
    "}\n",
    "example_model = RandomizedSearchCV(model, param_distributions=params, random_state=42, cv=5, n_jobs=-1,\n",
    "                                   scoring='f1').fit(features_train, target_train)\n",
    "example_model.best_score_"
   ]
  },
  {
   "cell_type": "markdown",
   "metadata": {},
   "source": [
    "Получили куда более слабый результат f1 меры."
   ]
  },
  {
   "cell_type": "markdown",
   "metadata": {},
   "source": [
    "## Борьба с дисбалансом"
   ]
  },
  {
   "cell_type": "markdown",
   "metadata": {},
   "source": [
    "Первым методом обозначим уже использованный нами метод взвешивания классов."
   ]
  },
  {
   "cell_type": "code",
   "execution_count": null,
   "metadata": {
    "pycharm": {
     "is_executing": true
    }
   },
   "outputs": [],
   "source": [
    "model = RandomForestClassifier(n_estimators=100, random_state=42)\n",
    "params = {\n",
    "    'n_estimators': [50, 100, 200],\n",
    "    'min_samples_leaf': list(range(1, 8)),\n",
    "    'min_samples_split': list(range(2, 8)),\n",
    "    'class_weight': ['balanced'],\n",
    "    'max_depth': list(range(4, 12)),\n",
    "    'random_state': [42]\n",
    "}\n",
    "forest_model = RandomizedSearchCV(model, param_distributions=params, random_state=42, cv=5, n_jobs=-1,\n",
    "                                  scoring='f1').fit(features_train, target_train)\n",
    "forest_model.best_score_"
   ]
  },
  {
   "cell_type": "markdown",
   "metadata": {},
   "source": [
    "Попробуем осуществить другой способ борьбы с дисбалансом методом увеличения количества объектов класса 1 методом Upsampling."
   ]
  },
  {
   "cell_type": "code",
   "execution_count": null,
   "metadata": {
    "pycharm": {
     "is_executing": true
    }
   },
   "outputs": [],
   "source": [
    "pipeline = Pipeline([(\"sm\", SMOTE()), ('clf', RandomForestClassifier(n_estimators=10, random_state=42))])\n",
    "params = {\n",
    "    'clf__n_estimators': [50, 100, 200],\n",
    "    'clf__min_samples_leaf': list(range(1, 8)),\n",
    "    'clf__min_samples_split': list(range(2, 8)),\n",
    "    'clf__max_depth': list(range(4, 12)),\n",
    "    'clf__random_state': [42]\n",
    "}\n",
    "\n",
    "r_search = RandomizedSearchCV(pipeline, param_distributions=params, cv=5, scoring='f1',\n",
    "                              return_train_score=True).fit(features_train, target_train)\n",
    "r_search.best_score_"
   ]
  },
  {
   "cell_type": "markdown",
   "metadata": {},
   "source": [
    "Попробуем осуществить другой способ борьбы с дисбалансом методом Downsampling."
   ]
  },
  {
   "cell_type": "code",
   "execution_count": null,
   "metadata": {
    "pycharm": {
     "is_executing": true
    }
   },
   "outputs": [],
   "source": [
    "pipeline = Pipeline(\n",
    "    [(\"rnd_us\", RandomUnderSampler()), ('clf', RandomForestClassifier(n_estimators=10, random_state=42))])\n",
    "params = {\n",
    "    'clf__n_estimators': [50, 100, 200],\n",
    "    'clf__min_samples_leaf': list(range(1, 8)),\n",
    "    'clf__min_samples_split': list(range(2, 8)),\n",
    "    'clf__max_depth': list(range(4, 12)),\n",
    "    'clf__random_state': [42]\n",
    "}\n",
    "\n",
    "r_search = RandomizedSearchCV(pipeline, param_distributions=params, cv=5, scoring='f1',\n",
    "                              return_train_score=True).fit(features_train, target_train)\n",
    "r_search.best_score_"
   ]
  },
  {
   "cell_type": "markdown",
   "metadata": {},
   "source": [
    "Получили еще более слабый результат."
   ]
  },
  {
   "cell_type": "markdown",
   "metadata": {},
   "source": [
    "Оценим топ-3 набора гиперпараметров для наилучшей модели, учитывающей дисбаланс классов."
   ]
  },
  {
   "cell_type": "code",
   "execution_count": null,
   "metadata": {
    "pycharm": {
     "is_executing": true
    }
   },
   "outputs": [],
   "source": [
    "results = forest_model.cv_results_\n",
    "top_n = 3\n",
    "top_indices = sorted(range(len(results['params'])), key=lambda i: results['mean_test_score'][i], reverse=True)[:top_n]\n",
    "for i in top_indices:\n",
    "    print(f\"Rank: {top_indices.index(i)+1}\")\n",
    "    print(f\"Mean test F1-score: {results['mean_test_score'][i]}\")\n",
    "    print(f\"Hyperparameters: {results['params'][i]}\")\n",
    "    print(\"========================================\")"
   ]
  },
  {
   "cell_type": "markdown",
   "metadata": {},
   "source": [
    "Если стоит вопрос быстродействия, то разумным решением будет взять и применять 3 набор гиперпараметров."
   ]
  },
  {
   "cell_type": "markdown",
   "metadata": {},
   "source": [
    "## Подбор порогового значения классификатора для улучшения параметра Recall."
   ]
  },
  {
   "cell_type": "code",
   "execution_count": null,
   "metadata": {
    "pycharm": {
     "is_executing": true
    }
   },
   "outputs": [],
   "source": [
    "best_model = RandomForestClassifier(**forest_model.best_params_).fit(features_train, target_train)\n",
    "prob = forest_model.predict_proba(features_train)[:, 1]\n",
    "\n",
    "fpr, tpr, thresholds = roc_curve(target_train, prob)\n",
    "plt.plot(fpr, tpr, label='ROC Curve')\n",
    "plt.grid(True)\n",
    "plt.xlabel('False Positive Rate (FPR)')\n",
    "plt.ylabel('True Positive Rate (TPR)')\n",
    "plt.legend()\n",
    "plt.title('ROC кривая для наилучшей модели случайного леса');"
   ]
  },
  {
   "cell_type": "code",
   "execution_count": null,
   "metadata": {
    "pycharm": {
     "is_executing": true
    }
   },
   "outputs": [],
   "source": [
    "max_recall_threshold = 0\n",
    "max_f1_value = 0\n",
    "max_recall = 0\n",
    "best_y_predict = 0\n",
    "auc_roc = 0\n",
    "for i in range(len(thresholds)):\n",
    "    y_pred = prob >= thresholds[i]\n",
    "    recall = recall_score(target_train, y_pred)\n",
    "    f1_value = f1_score(target_train, y_pred)\n",
    "    auc_roc_current = roc_auc_score(target_train, y_pred)\n",
    "    if recall > max_recall and f1_value > max_f1_value:\n",
    "        max_recall = recall\n",
    "        max_recall_threshold = thresholds[i]\n",
    "        max_f1_value = f1_value\n",
    "        best_y_predict = y_pred\n",
    "        auc_roc = auc_roc_current\n",
    "\n",
    "# Выводим полученные результаты\n",
    "print(\"Оптимальный пороговый коэффициент: {:.3f}\".format(max_recall_threshold))\n",
    "print(\"Значение Recall: {:.3f}\".format(max_recall))\n",
    "print(\"Значение F1: {:.3f}\".format(max_f1_value))\n",
    "print(\"Значение ROC_AUC: {:.3f}\".format(auc_roc))"
   ]
  },
  {
   "cell_type": "markdown",
   "metadata": {},
   "source": [
    "Произведен подбор оптимального порогового коэффициента на тестовой выборке, который равен 0.517."
   ]
  },
  {
   "cell_type": "markdown",
   "metadata": {},
   "source": [
    "## Тестирование лучшей модели."
   ]
  },
  {
   "cell_type": "code",
   "execution_count": null,
   "metadata": {
    "pycharm": {
     "is_executing": true
    }
   },
   "outputs": [],
   "source": [
    "prob_test = forest_model.predict_proba(features_test)[:, 1] >= 0.517\n",
    "print(\"Значение Recall: {:.3f}\".format(recall_score(target_test, prob_test)))\n",
    "print(\"Значение F1: {:.3f}\".format(f1_score(target_test, prob_test)))\n",
    "print(\"Значение ROC_AUC: {:.3f}\".format(roc_auc_score(target_test, prob_test)))"
   ]
  },
  {
   "cell_type": "markdown",
   "metadata": {},
   "source": [
    "Получили F1 меру со значением 0.633, что совпадает практически с лучшим значением полученным на тренировочных данных на кросс-валидационном тестировании. Значение Recall в 0.678 и значение ROC_AUC 0.781, которое незначительно уступает значению, полученному на тренировочных данных."
   ]
  },
  {
   "cell_type": "code",
   "execution_count": null,
   "metadata": {
    "pycharm": {
     "is_executing": true
    }
   },
   "outputs": [],
   "source": [
    "target_test.value_counts()"
   ]
  },
  {
   "cell_type": "code",
   "execution_count": null,
   "metadata": {
    "pycharm": {
     "is_executing": true
    }
   },
   "outputs": [],
   "source": [
    "fig, ax = plt.subplots(figsize=(8, 7), dpi=100)\n",
    "cm = confusion_matrix(target_test, prob_test)\n",
    "cmp = ConfusionMatrixDisplay(cm, display_labels=[\"Negative\", \"Positive\"])\n",
    "cmp.plot(ax=ax, cmap='coolwarm');"
   ]
  },
  {
   "cell_type": "markdown",
   "metadata": {},
   "source": [
    "Проанализировав матрицу ошибок мы видим наличие FN ответов от нашей модели, а так как каждый прогноз нашей модели есть некоторая вероятность нашего объекта относиться к одному из классов, то мы можем в дальнейшем корректировать пороговое значение, если это будет необходимо, для дальнейшего повышения метритки Recall, если того будут требовать задачи бизнеса. Это приведет конечно к постепенному снижению значения F1 score."
   ]
  },
  {
   "cell_type": "markdown",
   "metadata": {},
   "source": [
    "---\n",
    "## Общий вывод по исследованию"
   ]
  },
  {
   "cell_type": "markdown",
   "metadata": {},
   "source": [
    "<div style=\"border:solid orange 2px; padding: 5px\">\n",
    "\n",
    "<div class=\"alert alert-info\"> <b>При проведении исследования (на основе полученных данных) выполнено:</b></div>\n",
    "\n",
    "- Данные подготовлены к дальнейшему использованию при построении моделей.\n",
    "- Произведено восстановление 9 % пропущенных значений в столбце `tenure`.\n",
    "- Произведена оптимизация формата размерности количественных данных.\n",
    "- Проведена проверка отсутствия мультиколлинеарности независимых признаков.\n",
    "- Два независимых категориальных признака преобразованы методом OHE для дальнейшей работы.\n",
    "- Произведено масштабирование независимых количественных признаков, которые имели большой разброс значений.\n",
    "- Выбрана модель с наилучшей предсказательной способностью для решения задачи бинарной классификации зависимого признака.\n",
    "- На данной модели протестированы различные методы борьбы с дисбалансом классов в целевом признаке. Выбран наилучший метод.\n",
    "- Для выбранной модели осуществлен подбор наилучших гиперпараметров, также выбраны альтернативные гиперпараметры, если будет принято решение немного пожертвовать величиной F1 меры в пользу быстродействия исполнения.\n",
    "- Произведен подбор на тренировочной выборке оптимального порогового значения для достижения наибольшего показателя Recall и F1 меры, thresholds - 0.517.\n",
    "- Проведено тестирование модели на тестовой выборке.\n",
    "-  На тестовой выборке получены следующие результаты: показатель Recall 0.678, удалось добиться предсказательной способности модели на метрике F1 равной 0.633. Показатель значения качества модели ROC_AUC при заданном пороге получился равен 0.781."
   ]
  }
 ],
 "metadata": {
  "ExecuteTimeLog": [
   {
    "duration": 86,
    "start_time": "2023-03-21T18:15:18.734Z"
   },
   {
    "duration": 67,
    "start_time": "2023-03-21T18:15:20.679Z"
   },
   {
    "duration": 76,
    "start_time": "2023-03-21T18:19:32.180Z"
   },
   {
    "duration": 1456,
    "start_time": "2023-03-21T18:22:14.608Z"
   },
   {
    "duration": 102,
    "start_time": "2023-03-21T18:22:16.066Z"
   },
   {
    "duration": 6,
    "start_time": "2023-03-21T18:22:16.169Z"
   },
   {
    "duration": 45,
    "start_time": "2023-03-21T18:22:16.177Z"
   },
   {
    "duration": 3,
    "start_time": "2023-03-21T18:22:16.224Z"
   },
   {
    "duration": 7,
    "start_time": "2023-03-21T18:22:16.228Z"
   },
   {
    "duration": 17,
    "start_time": "2023-03-21T18:22:16.236Z"
   },
   {
    "duration": 13,
    "start_time": "2023-03-21T18:22:16.255Z"
   },
   {
    "duration": 5,
    "start_time": "2023-03-21T18:22:16.323Z"
   },
   {
    "duration": 23,
    "start_time": "2023-03-21T18:22:16.330Z"
   },
   {
    "duration": 4,
    "start_time": "2023-03-21T18:22:16.354Z"
   },
   {
    "duration": 106,
    "start_time": "2023-03-21T18:22:16.359Z"
   },
   {
    "duration": 62,
    "start_time": "2023-03-21T18:22:16.466Z"
   },
   {
    "duration": 18,
    "start_time": "2023-03-21T18:22:16.529Z"
   },
   {
    "duration": 306,
    "start_time": "2023-03-21T18:22:16.548Z"
   },
   {
    "duration": 75,
    "start_time": "2023-03-21T18:22:16.855Z"
   },
   {
    "duration": 1901,
    "start_time": "2023-03-21T18:22:16.931Z"
   },
   {
    "duration": 16,
    "start_time": "2023-03-21T18:22:18.834Z"
   },
   {
    "duration": 8,
    "start_time": "2023-03-21T18:22:18.851Z"
   },
   {
    "duration": 6,
    "start_time": "2023-03-21T18:22:18.860Z"
   },
   {
    "duration": 162,
    "start_time": "2023-03-21T18:22:18.867Z"
   },
   {
    "duration": 5,
    "start_time": "2023-03-21T18:22:19.030Z"
   },
   {
    "duration": 8,
    "start_time": "2023-03-21T18:22:19.037Z"
   },
   {
    "duration": 17,
    "start_time": "2023-03-21T18:22:19.047Z"
   },
   {
    "duration": 5,
    "start_time": "2023-03-21T18:22:19.065Z"
   },
   {
    "duration": 12,
    "start_time": "2023-03-21T18:22:19.072Z"
   },
   {
    "duration": 556,
    "start_time": "2023-03-21T18:22:19.085Z"
   },
   {
    "duration": 46163,
    "start_time": "2023-03-21T18:22:19.645Z"
   },
   {
    "duration": 6,
    "start_time": "2023-03-21T18:23:05.809Z"
   },
   {
    "duration": 18,
    "start_time": "2023-03-21T18:23:05.816Z"
   },
   {
    "duration": 17,
    "start_time": "2023-03-21T18:23:05.836Z"
   },
   {
    "duration": 9,
    "start_time": "2023-03-21T18:23:05.855Z"
   },
   {
    "duration": 13,
    "start_time": "2023-03-21T18:23:05.866Z"
   },
   {
    "duration": 45,
    "start_time": "2023-03-21T18:23:05.881Z"
   },
   {
    "duration": 1052,
    "start_time": "2023-03-21T18:23:05.927Z"
   },
   {
    "duration": 23002,
    "start_time": "2023-03-21T18:23:06.981Z"
   },
   {
    "duration": 4,
    "start_time": "2023-03-21T18:23:29.984Z"
   },
   {
    "duration": 53,
    "start_time": "2023-03-21T18:23:29.991Z"
   },
   {
    "duration": 248,
    "start_time": "2023-03-21T18:23:30.046Z"
   },
   {
    "duration": 183,
    "start_time": "2023-03-21T18:23:30.296Z"
   },
   {
    "duration": 1987,
    "start_time": "2023-03-21T18:23:30.481Z"
   },
   {
    "duration": 213,
    "start_time": "2023-03-21T18:23:32.470Z"
   },
   {
    "duration": 78,
    "start_time": "2023-03-21T18:31:36.893Z"
   },
   {
    "duration": 1301,
    "start_time": "2023-03-25T15:00:38.106Z"
   },
   {
    "duration": 0,
    "start_time": "2023-03-25T15:00:39.410Z"
   },
   {
    "duration": 0,
    "start_time": "2023-03-25T15:00:39.411Z"
   },
   {
    "duration": 0,
    "start_time": "2023-03-25T15:00:39.412Z"
   },
   {
    "duration": 0,
    "start_time": "2023-03-25T15:00:39.414Z"
   },
   {
    "duration": 0,
    "start_time": "2023-03-25T15:00:39.415Z"
   },
   {
    "duration": 0,
    "start_time": "2023-03-25T15:00:39.416Z"
   },
   {
    "duration": 0,
    "start_time": "2023-03-25T15:00:39.418Z"
   },
   {
    "duration": 0,
    "start_time": "2023-03-25T15:00:39.419Z"
   },
   {
    "duration": 0,
    "start_time": "2023-03-25T15:00:39.422Z"
   },
   {
    "duration": 0,
    "start_time": "2023-03-25T15:00:39.423Z"
   },
   {
    "duration": 0,
    "start_time": "2023-03-25T15:00:39.424Z"
   },
   {
    "duration": 0,
    "start_time": "2023-03-25T15:00:39.425Z"
   },
   {
    "duration": 0,
    "start_time": "2023-03-25T15:00:39.426Z"
   },
   {
    "duration": 0,
    "start_time": "2023-03-25T15:00:39.427Z"
   },
   {
    "duration": 0,
    "start_time": "2023-03-25T15:00:39.428Z"
   },
   {
    "duration": 0,
    "start_time": "2023-03-25T15:00:39.429Z"
   },
   {
    "duration": 0,
    "start_time": "2023-03-25T15:00:39.430Z"
   },
   {
    "duration": 0,
    "start_time": "2023-03-25T15:00:39.431Z"
   },
   {
    "duration": 0,
    "start_time": "2023-03-25T15:00:39.432Z"
   },
   {
    "duration": 0,
    "start_time": "2023-03-25T15:00:39.433Z"
   },
   {
    "duration": 0,
    "start_time": "2023-03-25T15:00:39.434Z"
   },
   {
    "duration": 0,
    "start_time": "2023-03-25T15:00:39.435Z"
   },
   {
    "duration": 0,
    "start_time": "2023-03-25T15:00:39.436Z"
   },
   {
    "duration": 0,
    "start_time": "2023-03-25T15:00:39.437Z"
   },
   {
    "duration": 0,
    "start_time": "2023-03-25T15:00:39.438Z"
   },
   {
    "duration": 0,
    "start_time": "2023-03-25T15:00:39.439Z"
   },
   {
    "duration": 0,
    "start_time": "2023-03-25T15:00:39.440Z"
   },
   {
    "duration": 0,
    "start_time": "2023-03-25T15:00:39.441Z"
   },
   {
    "duration": 0,
    "start_time": "2023-03-25T15:00:39.442Z"
   },
   {
    "duration": 0,
    "start_time": "2023-03-25T15:00:39.443Z"
   },
   {
    "duration": 0,
    "start_time": "2023-03-25T15:00:39.444Z"
   },
   {
    "duration": 0,
    "start_time": "2023-03-25T15:00:39.445Z"
   },
   {
    "duration": 0,
    "start_time": "2023-03-25T15:00:39.446Z"
   },
   {
    "duration": 0,
    "start_time": "2023-03-25T15:00:39.447Z"
   },
   {
    "duration": 0,
    "start_time": "2023-03-25T15:00:39.502Z"
   },
   {
    "duration": 0,
    "start_time": "2023-03-25T15:00:39.504Z"
   },
   {
    "duration": 0,
    "start_time": "2023-03-25T15:00:39.505Z"
   },
   {
    "duration": 0,
    "start_time": "2023-03-25T15:00:39.506Z"
   },
   {
    "duration": 0,
    "start_time": "2023-03-25T15:00:39.507Z"
   },
   {
    "duration": 0,
    "start_time": "2023-03-25T15:00:39.508Z"
   },
   {
    "duration": 0,
    "start_time": "2023-03-25T15:00:39.510Z"
   },
   {
    "duration": 0,
    "start_time": "2023-03-25T15:00:39.511Z"
   },
   {
    "duration": 0,
    "start_time": "2023-03-25T15:00:39.512Z"
   },
   {
    "duration": 0,
    "start_time": "2023-03-25T15:00:39.513Z"
   },
   {
    "duration": 0,
    "start_time": "2023-03-25T15:00:39.515Z"
   },
   {
    "duration": 0,
    "start_time": "2023-03-25T15:00:39.516Z"
   },
   {
    "duration": 0,
    "start_time": "2023-03-25T15:00:39.517Z"
   },
   {
    "duration": 7581,
    "start_time": "2023-03-25T15:02:25.920Z"
   },
   {
    "duration": 22,
    "start_time": "2023-03-25T15:02:34.536Z"
   },
   {
    "duration": 1434,
    "start_time": "2023-03-25T15:23:34.737Z"
   },
   {
    "duration": 103,
    "start_time": "2023-03-25T15:23:44.752Z"
   },
   {
    "duration": 6,
    "start_time": "2023-03-25T15:23:44.857Z"
   },
   {
    "duration": 5,
    "start_time": "2023-03-25T15:23:44.864Z"
   },
   {
    "duration": 4,
    "start_time": "2023-03-25T15:23:44.871Z"
   },
   {
    "duration": 5,
    "start_time": "2023-03-25T15:23:44.877Z"
   },
   {
    "duration": 21,
    "start_time": "2023-03-25T15:23:44.883Z"
   },
   {
    "duration": 13,
    "start_time": "2023-03-25T15:23:44.905Z"
   },
   {
    "duration": 5,
    "start_time": "2023-03-25T15:23:44.920Z"
   },
   {
    "duration": 29,
    "start_time": "2023-03-25T15:23:44.927Z"
   },
   {
    "duration": 5,
    "start_time": "2023-03-25T15:23:44.958Z"
   },
   {
    "duration": 89,
    "start_time": "2023-03-25T15:23:44.964Z"
   },
   {
    "duration": 7,
    "start_time": "2023-03-25T15:23:45.054Z"
   },
   {
    "duration": 9,
    "start_time": "2023-03-25T15:23:45.063Z"
   },
   {
    "duration": 169,
    "start_time": "2023-03-25T15:23:45.076Z"
   },
   {
    "duration": 23,
    "start_time": "2023-03-25T15:23:45.247Z"
   },
   {
    "duration": 2074,
    "start_time": "2023-03-25T15:23:45.272Z"
   },
   {
    "duration": 75,
    "start_time": "2023-03-25T15:23:47.348Z"
   },
   {
    "duration": 12,
    "start_time": "2023-03-25T15:23:47.425Z"
   },
   {
    "duration": 65,
    "start_time": "2023-03-25T15:23:47.440Z"
   },
   {
    "duration": 320,
    "start_time": "2023-03-25T15:23:47.508Z"
   },
   {
    "duration": 5,
    "start_time": "2023-03-25T15:23:47.830Z"
   },
   {
    "duration": 8,
    "start_time": "2023-03-25T15:23:47.836Z"
   },
   {
    "duration": 79,
    "start_time": "2023-03-25T15:23:47.846Z"
   },
   {
    "duration": 7,
    "start_time": "2023-03-25T15:23:47.927Z"
   },
   {
    "duration": 70,
    "start_time": "2023-03-25T15:23:47.938Z"
   },
   {
    "duration": 969,
    "start_time": "2023-03-25T15:23:48.010Z"
   },
   {
    "duration": 51422,
    "start_time": "2023-03-25T15:23:48.981Z"
   },
   {
    "duration": 7,
    "start_time": "2023-03-25T15:24:40.405Z"
   },
   {
    "duration": 14,
    "start_time": "2023-03-25T15:24:40.414Z"
   },
   {
    "duration": 8,
    "start_time": "2023-03-25T15:24:40.429Z"
   },
   {
    "duration": 7,
    "start_time": "2023-03-25T15:24:40.438Z"
   },
   {
    "duration": 63,
    "start_time": "2023-03-25T15:24:40.446Z"
   },
   {
    "duration": 22,
    "start_time": "2023-03-25T15:24:40.511Z"
   },
   {
    "duration": 79,
    "start_time": "2023-03-25T15:24:40.535Z"
   },
   {
    "duration": 1361,
    "start_time": "2023-03-25T15:24:40.617Z"
   },
   {
    "duration": 29251,
    "start_time": "2023-03-25T15:24:41.981Z"
   },
   {
    "duration": 5,
    "start_time": "2023-03-25T15:25:11.234Z"
   },
   {
    "duration": 30450,
    "start_time": "2023-03-25T15:25:11.240Z"
   },
   {
    "duration": 31342,
    "start_time": "2023-03-25T15:25:41.692Z"
   },
   {
    "duration": 47811,
    "start_time": "2023-03-25T15:26:13.036Z"
   },
   {
    "duration": 20515,
    "start_time": "2023-03-25T15:27:00.851Z"
   },
   {
    "duration": 6,
    "start_time": "2023-03-25T15:27:21.368Z"
   },
   {
    "duration": 1882,
    "start_time": "2023-03-25T15:27:21.376Z"
   },
   {
    "duration": 9748,
    "start_time": "2023-03-25T15:27:23.260Z"
   },
   {
    "duration": 113,
    "start_time": "2023-03-25T15:27:33.010Z"
   },
   {
    "duration": 6,
    "start_time": "2023-03-25T15:27:33.125Z"
   },
   {
    "duration": 247,
    "start_time": "2023-03-25T15:27:33.132Z"
   }
  ],
  "kernelspec": {
   "display_name": "Python 3 (ipykernel)",
   "language": "python",
   "name": "python3"
  },
  "language_info": {
   "codemirror_mode": {
    "name": "ipython",
    "version": 3
   },
   "file_extension": ".py",
   "mimetype": "text/x-python",
   "name": "python",
   "nbconvert_exporter": "python",
   "pygments_lexer": "ipython3",
   "version": "3.9.5"
  },
  "toc": {
   "base_numbering": 1,
   "nav_menu": {},
   "number_sections": true,
   "sideBar": true,
   "skip_h1_title": true,
   "title_cell": "Содержание",
   "title_sidebar": "Contents",
   "toc_cell": true,
   "toc_position": {
    "height": "1117px",
    "left": "44px",
    "top": "111.125px",
    "width": "361.891px"
   },
   "toc_section_display": true,
   "toc_window_display": true
  }
 },
 "nbformat": 4,
 "nbformat_minor": 2
}
