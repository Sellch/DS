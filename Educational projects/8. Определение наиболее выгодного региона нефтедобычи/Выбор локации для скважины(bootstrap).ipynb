{
 "cells": [
  {
   "cell_type": "markdown",
   "metadata": {},
   "source": [
    "# Выбор локации для скважины"
   ]
  },
  {
   "cell_type": "markdown",
   "metadata": {},
   "source": [
    "Допустим, вы работаете в добывающей компании «ГлавРосГосНефть». Нужно решить, где бурить новую скважину.\n",
    "\n",
    "Вам предоставлены пробы нефти в трёх регионах: в каждом 10 000 месторождений, где измерили качество нефти и объём её запасов. Постройте модель машинного обучения, которая поможет определить регион, где добыча принесёт наибольшую прибыль. Проанализируйте возможную прибыль и риски техникой *Bootstrap.*\n",
    "\n",
    "Шаги для выбора локации:\n",
    "\n",
    "- В избранном регионе ищут месторождения, для каждого определяют значения признаков;\n",
    "- Строят модель и оценивают объём запасов;\n",
    "- Выбирают месторождения с самым высокими оценками значений. Количество месторождений зависит от бюджета компании и стоимости разработки одной скважины;\n",
    "- Прибыль равна суммарной прибыли отобранных месторождений."
   ]
  },
  {
   "cell_type": "markdown",
   "metadata": {},
   "source": [
    "---\n",
    "### *Описание данных*"
   ]
  },
  {
   "cell_type": "markdown",
   "metadata": {},
   "source": [
    "__*Данные геологоразведки трёх регионов находятся в файлах:*__\n",
    "* geo_data_0.csv\n",
    "* geo_data_1.csv\n",
    "* geo_data_2.csv\n",
    "\n",
    "Известны следующие признаки:\n",
    "* id — уникальный идентификатор скважины;\n",
    "* f0, f1, f2 — три признака точек;\n",
    "\n",
    "Целевой признак:\n",
    "* product — объём запасов в скважине (тыс. баррелей)."
   ]
  },
  {
   "cell_type": "markdown",
   "metadata": {},
   "source": [
    "## Загрузка и подготовка данных"
   ]
  },
  {
   "cell_type": "code",
   "execution_count": 1,
   "metadata": {
    "ExecuteTime": {
     "end_time": "2023-05-16T14:52:54.823610Z",
     "start_time": "2023-05-16T14:52:48.705373Z"
    }
   },
   "outputs": [],
   "source": [
    "# импорт необходимых библиотек\n",
    "import pandas as pd\n",
    "import numpy as np\n",
    "from numpy.random import RandomState\n",
    "from scipy import stats as st\n",
    "from sklearn.model_selection import train_test_split\n",
    "from sklearn.linear_model import LinearRegression\n",
    "from sklearn.preprocessing import StandardScaler\n",
    "from sklearn.metrics import mean_squared_error, r2_score\n",
    "from sklearn.pipeline import make_pipeline\n",
    "import seaborn as sns\n",
    "import matplotlib.pyplot as plt"
   ]
  },
  {
   "cell_type": "markdown",
   "metadata": {},
   "source": [
    "Загрузим датасет с данными."
   ]
  },
  {
   "cell_type": "code",
   "execution_count": 2,
   "metadata": {
    "ExecuteTime": {
     "end_time": "2023-05-16T14:52:54.824608Z",
     "start_time": "2023-05-16T14:52:48.732301Z"
    }
   },
   "outputs": [],
   "source": [
    "try:\n",
    "    df = pd.read_csv('datasets/geo_data_0.csv')\n",
    "    df_1 = pd.read_csv('datasets/geo_data_1.csv')\n",
    "    df_2 = pd.read_csv('datasets/geo_data_2.csv')\n",
    "except FileNotFoundError:\n",
    "    df = pd.read_csv('https://code.s3.yandex.net/datasets/geo_data_0.csv')\n",
    "    df_1 = pd.read_csv('https://code.s3.yandex.net/datasets/geo_data_1.csv')\n",
    "    df_2 = pd.read_csv('https://code.s3.yandex.net/datasets/geo_data_2.csv')"
   ]
  },
  {
   "cell_type": "code",
   "execution_count": 3,
   "metadata": {
    "ExecuteTime": {
     "end_time": "2023-05-16T14:52:54.826602Z",
     "start_time": "2023-05-16T14:52:48.732301Z"
    }
   },
   "outputs": [
    {
     "name": "stdout",
     "output_type": "stream",
     "text": [
      "Index(['id', 'f0', 'f1', 'f2', 'product'], dtype='object')\n",
      "Index(['id', 'f0', 'f1', 'f2', 'product'], dtype='object')\n",
      "Index(['id', 'f0', 'f1', 'f2', 'product'], dtype='object')\n"
     ]
    }
   ],
   "source": [
    "names = [df, df_1, df_2]\n",
    "for name in names:\n",
    "    print(name.columns)"
   ]
  },
  {
   "cell_type": "markdown",
   "metadata": {},
   "source": [
    "Изучим наши данные, чтобы определить для себя возможные первичные действия по предобработке данных."
   ]
  },
  {
   "cell_type": "code",
   "execution_count": 4,
   "metadata": {
    "ExecuteTime": {
     "end_time": "2023-05-16T14:52:54.826602Z",
     "start_time": "2023-05-16T14:52:48.740279Z"
    }
   },
   "outputs": [
    {
     "data": {
      "text/html": [
       "<div>\n",
       "<style scoped>\n",
       "    .dataframe tbody tr th:only-of-type {\n",
       "        vertical-align: middle;\n",
       "    }\n",
       "\n",
       "    .dataframe tbody tr th {\n",
       "        vertical-align: top;\n",
       "    }\n",
       "\n",
       "    .dataframe thead th {\n",
       "        text-align: right;\n",
       "    }\n",
       "</style>\n",
       "<table border=\"1\" class=\"dataframe\">\n",
       "  <thead>\n",
       "    <tr style=\"text-align: right;\">\n",
       "      <th></th>\n",
       "      <th>id</th>\n",
       "      <th>f0</th>\n",
       "      <th>f1</th>\n",
       "      <th>f2</th>\n",
       "      <th>product</th>\n",
       "    </tr>\n",
       "  </thead>\n",
       "  <tbody>\n",
       "    <tr>\n",
       "      <th>0</th>\n",
       "      <td>txEyH</td>\n",
       "      <td>0.705745</td>\n",
       "      <td>-0.497823</td>\n",
       "      <td>1.221170</td>\n",
       "      <td>105.280062</td>\n",
       "    </tr>\n",
       "    <tr>\n",
       "      <th>1</th>\n",
       "      <td>2acmU</td>\n",
       "      <td>1.334711</td>\n",
       "      <td>-0.340164</td>\n",
       "      <td>4.365080</td>\n",
       "      <td>73.037750</td>\n",
       "    </tr>\n",
       "    <tr>\n",
       "      <th>2</th>\n",
       "      <td>409Wp</td>\n",
       "      <td>1.022732</td>\n",
       "      <td>0.151990</td>\n",
       "      <td>1.419926</td>\n",
       "      <td>85.265647</td>\n",
       "    </tr>\n",
       "    <tr>\n",
       "      <th>3</th>\n",
       "      <td>iJLyR</td>\n",
       "      <td>-0.032172</td>\n",
       "      <td>0.139033</td>\n",
       "      <td>2.978566</td>\n",
       "      <td>168.620776</td>\n",
       "    </tr>\n",
       "    <tr>\n",
       "      <th>4</th>\n",
       "      <td>Xdl7t</td>\n",
       "      <td>1.988431</td>\n",
       "      <td>0.155413</td>\n",
       "      <td>4.751769</td>\n",
       "      <td>154.036647</td>\n",
       "    </tr>\n",
       "  </tbody>\n",
       "</table>\n",
       "</div>"
      ],
      "text/plain": [
       "      id        f0        f1        f2     product\n",
       "0  txEyH  0.705745 -0.497823  1.221170  105.280062\n",
       "1  2acmU  1.334711 -0.340164  4.365080   73.037750\n",
       "2  409Wp  1.022732  0.151990  1.419926   85.265647\n",
       "3  iJLyR -0.032172  0.139033  2.978566  168.620776\n",
       "4  Xdl7t  1.988431  0.155413  4.751769  154.036647"
      ]
     },
     "execution_count": 4,
     "metadata": {},
     "output_type": "execute_result"
    }
   ],
   "source": [
    "df.head()"
   ]
  },
  {
   "cell_type": "code",
   "execution_count": 5,
   "metadata": {
    "ExecuteTime": {
     "end_time": "2023-05-16T14:52:54.828597Z",
     "start_time": "2023-05-16T14:52:48.740279Z"
    }
   },
   "outputs": [
    {
     "name": "stdout",
     "output_type": "stream",
     "text": [
      "<class 'pandas.core.frame.DataFrame'>\n",
      "RangeIndex: 100000 entries, 0 to 99999\n",
      "Data columns (total 5 columns):\n",
      " #   Column   Non-Null Count   Dtype  \n",
      "---  ------   --------------   -----  \n",
      " 0   id       100000 non-null  object \n",
      " 1   f0       100000 non-null  float64\n",
      " 2   f1       100000 non-null  float64\n",
      " 3   f2       100000 non-null  float64\n",
      " 4   product  100000 non-null  float64\n",
      "dtypes: float64(4), object(1)\n",
      "memory usage: 3.8+ MB\n",
      "None\n",
      "<class 'pandas.core.frame.DataFrame'>\n",
      "RangeIndex: 100000 entries, 0 to 99999\n",
      "Data columns (total 5 columns):\n",
      " #   Column   Non-Null Count   Dtype  \n",
      "---  ------   --------------   -----  \n",
      " 0   id       100000 non-null  object \n",
      " 1   f0       100000 non-null  float64\n",
      " 2   f1       100000 non-null  float64\n",
      " 3   f2       100000 non-null  float64\n",
      " 4   product  100000 non-null  float64\n",
      "dtypes: float64(4), object(1)\n",
      "memory usage: 3.8+ MB\n",
      "None\n",
      "<class 'pandas.core.frame.DataFrame'>\n",
      "RangeIndex: 100000 entries, 0 to 99999\n",
      "Data columns (total 5 columns):\n",
      " #   Column   Non-Null Count   Dtype  \n",
      "---  ------   --------------   -----  \n",
      " 0   id       100000 non-null  object \n",
      " 1   f0       100000 non-null  float64\n",
      " 2   f1       100000 non-null  float64\n",
      " 3   f2       100000 non-null  float64\n",
      " 4   product  100000 non-null  float64\n",
      "dtypes: float64(4), object(1)\n",
      "memory usage: 3.8+ MB\n",
      "None\n"
     ]
    }
   ],
   "source": [
    "for name in names:\n",
    "    print(name.info())"
   ]
  },
  {
   "cell_type": "markdown",
   "metadata": {},
   "source": [
    "Пропусков в данных не обнаружено. Стиль наименования столбцов соответствует snake_case. Можно оптимизировать размерность данных в 4 количественных столбцах, где тип данных соответствует float64."
   ]
  },
  {
   "cell_type": "markdown",
   "metadata": {},
   "source": [
    "---\n",
    "### *Обработка дубликатов*"
   ]
  },
  {
   "cell_type": "markdown",
   "metadata": {},
   "source": [
    "Поищем явные дубликаты в данных по имеющейся переменной `id`."
   ]
  },
  {
   "cell_type": "code",
   "execution_count": 6,
   "metadata": {
    "ExecuteTime": {
     "end_time": "2023-05-16T14:52:54.829595Z",
     "start_time": "2023-05-16T14:52:48.760226Z"
    }
   },
   "outputs": [
    {
     "name": "stdout",
     "output_type": "stream",
     "text": [
      "10\n",
      "4\n",
      "4\n"
     ]
    }
   ],
   "source": [
    "for name in names:\n",
    "    print(name['id'].duplicated().sum())"
   ]
  },
  {
   "cell_type": "code",
   "execution_count": 7,
   "metadata": {
    "ExecuteTime": {
     "end_time": "2023-05-16T14:52:54.829595Z",
     "start_time": "2023-05-16T14:52:48.760226Z"
    }
   },
   "outputs": [],
   "source": [
    "for name in names:\n",
    "    name.drop_duplicates(subset=['id'], inplace=True)\n",
    "    name.reset_index(drop=True, inplace=True)"
   ]
  },
  {
   "cell_type": "code",
   "execution_count": 8,
   "metadata": {
    "ExecuteTime": {
     "end_time": "2023-05-16T14:52:54.832589Z",
     "start_time": "2023-05-16T14:52:48.760226Z"
    }
   },
   "outputs": [
    {
     "name": "stdout",
     "output_type": "stream",
     "text": [
      "0\n",
      "0\n",
      "0\n"
     ]
    }
   ],
   "source": [
    "for name in names:\n",
    "    print(name['id'].duplicated().sum())"
   ]
  },
  {
   "cell_type": "code",
   "execution_count": 9,
   "metadata": {
    "ExecuteTime": {
     "end_time": "2023-05-16T14:52:54.834581Z",
     "start_time": "2023-05-16T14:52:48.760226Z"
    }
   },
   "outputs": [
    {
     "name": "stdout",
     "output_type": "stream",
     "text": [
      "Число обнаруженных дубликатов между DF: 31\n"
     ]
    }
   ],
   "source": [
    "# Объединение DataFrame'ов по вертикали\n",
    "merged_df = pd.concat([df, df_1, df_2])\n",
    "\n",
    "# Проверка дубликатов в столбце 'id'\n",
    "duplicates = merged_df[merged_df.duplicated(['id'])]['id']\n",
    "print(f'Число обнаруженных дубликатов между DF: {len(duplicates)}')\n",
    "\n",
    "# Восстановление изначальных DataFrame'ов с учетом удаленных дубликатов\n",
    "\n",
    "df = df.query('id not in @duplicates')\n",
    "df_1 = df_1.query('id not in @duplicates')\n",
    "df_2 = df_2.query('id not in @duplicates')"
   ]
  },
  {
   "cell_type": "markdown",
   "metadata": {},
   "source": [
    "Уберем неинформативный далее для нас признак - `id`."
   ]
  },
  {
   "cell_type": "code",
   "execution_count": 10,
   "metadata": {
    "ExecuteTime": {
     "end_time": "2023-05-16T14:52:54.839568Z",
     "start_time": "2023-05-16T14:52:48.768205Z"
    }
   },
   "outputs": [],
   "source": [
    "df = df.drop(['id'], axis=1)\n",
    "df_1 = df_1.drop(['id'], axis=1)\n",
    "df_2 = df_2.drop(['id'], axis=1)"
   ]
  },
  {
   "cell_type": "markdown",
   "metadata": {},
   "source": [
    "---\n",
    "### *Изменение типов данных*"
   ]
  },
  {
   "cell_type": "code",
   "execution_count": 11,
   "metadata": {
    "ExecuteTime": {
     "end_time": "2023-05-16T14:52:54.839568Z",
     "start_time": "2023-05-16T14:52:48.775186Z"
    }
   },
   "outputs": [],
   "source": [
    "fcols = df.select_dtypes('float').columns\n",
    "icols = df.select_dtypes('integer').columns\n",
    "\n",
    "df[fcols] = df[fcols].apply(pd.to_numeric, downcast='float')\n",
    "df_1[fcols] = df_1[fcols].apply(pd.to_numeric, downcast='float')\n",
    "df_2[fcols] = df_2[fcols].apply(pd.to_numeric, downcast='float')"
   ]
  },
  {
   "cell_type": "markdown",
   "metadata": {},
   "source": [
    "Типы данных успешно преобразованы."
   ]
  },
  {
   "cell_type": "markdown",
   "metadata": {},
   "source": [
    "---\n",
    "### *Обработка аномальных значений*"
   ]
  },
  {
   "cell_type": "markdown",
   "metadata": {},
   "source": [
    "В данных могут встречаться артефакты (аномалии) — значения, которые не отражают действительность и появились по какой-то ошибке."
   ]
  },
  {
   "cell_type": "code",
   "execution_count": 12,
   "metadata": {
    "ExecuteTime": {
     "end_time": "2023-05-16T14:52:54.840565Z",
     "start_time": "2023-05-16T14:52:48.795133Z"
    }
   },
   "outputs": [
    {
     "data": {
      "text/html": [
       "<style  type=\"text/css\" >\n",
       "</style><table id=\"T_dd2dd_\" ><thead>    <tr>        <th class=\"blank level0\" ></th>        <th class=\"col_heading level0 col0\" >f0</th>        <th class=\"col_heading level0 col1\" >f1</th>        <th class=\"col_heading level0 col2\" >f2</th>        <th class=\"col_heading level0 col3\" >product</th>    </tr></thead><tbody>\n",
       "                <tr>\n",
       "                        <th id=\"T_dd2dd_level0_row0\" class=\"row_heading level0 row0\" >0.0012</th>\n",
       "                        <td id=\"T_dd2dd_row0_col0\" class=\"data row0 col0\" >-1.18</td>\n",
       "                        <td id=\"T_dd2dd_row0_col1\" class=\"data row0 col1\" >-0.72</td>\n",
       "                        <td id=\"T_dd2dd_row0_col2\" class=\"data row0 col2\" >-6.97</td>\n",
       "                        <td id=\"T_dd2dd_row0_col3\" class=\"data row0 col3\" >0.61</td>\n",
       "            </tr>\n",
       "            <tr>\n",
       "                        <th id=\"T_dd2dd_level0_row1\" class=\"row_heading level0 row1\" >0.01</th>\n",
       "                        <td id=\"T_dd2dd_row1_col0\" class=\"data row1 col0\" >-1.08</td>\n",
       "                        <td id=\"T_dd2dd_row1_col1\" class=\"data row1 col1\" >-0.62</td>\n",
       "                        <td id=\"T_dd2dd_row1_col2\" class=\"data row1 col2\" >-4.97</td>\n",
       "                        <td id=\"T_dd2dd_row1_col3\" class=\"data row1 col3\" >4.91</td>\n",
       "            </tr>\n",
       "            <tr>\n",
       "                        <th id=\"T_dd2dd_level0_row2\" class=\"row_heading level0 row2\" >0.5</th>\n",
       "                        <td id=\"T_dd2dd_row2_col0\" class=\"data row2 col0\" >0.50</td>\n",
       "                        <td id=\"T_dd2dd_row2_col1\" class=\"data row2 col1\" >0.25</td>\n",
       "                        <td id=\"T_dd2dd_row2_col2\" class=\"data row2 col2\" >2.52</td>\n",
       "                        <td id=\"T_dd2dd_row2_col3\" class=\"data row2 col3\" >91.84</td>\n",
       "            </tr>\n",
       "            <tr>\n",
       "                        <th id=\"T_dd2dd_level0_row3\" class=\"row_heading level0 row3\" >0.99</th>\n",
       "                        <td id=\"T_dd2dd_row3_col0\" class=\"data row3 col0\" >2.08</td>\n",
       "                        <td id=\"T_dd2dd_row3_col1\" class=\"data row3 col1\" >1.12</td>\n",
       "                        <td id=\"T_dd2dd_row3_col2\" class=\"data row3 col2\" >9.97</td>\n",
       "                        <td id=\"T_dd2dd_row3_col3\" class=\"data row3 col3\" >180.35</td>\n",
       "            </tr>\n",
       "            <tr>\n",
       "                        <th id=\"T_dd2dd_level0_row4\" class=\"row_heading level0 row4\" >0.9988</th>\n",
       "                        <td id=\"T_dd2dd_row4_col0\" class=\"data row4 col0\" >2.19</td>\n",
       "                        <td id=\"T_dd2dd_row4_col1\" class=\"data row4 col1\" >1.22</td>\n",
       "                        <td id=\"T_dd2dd_row4_col2\" class=\"data row4 col2\" >12.07</td>\n",
       "                        <td id=\"T_dd2dd_row4_col3\" class=\"data row4 col3\" >184.70</td>\n",
       "            </tr>\n",
       "    </tbody></table>"
      ],
      "text/plain": [
       "<pandas.io.formats.style.Styler at 0x217d833b8e0>"
      ]
     },
     "execution_count": 12,
     "metadata": {},
     "output_type": "execute_result"
    }
   ],
   "source": [
    "(\n",
    "    df[df.select_dtypes(['float32']).columns]\n",
    "    .quantile([0.0012, 0.01, .5, .99, .9988])  # выбираем размах в 0,9976 квантилей\n",
    "    .style.format(\"{:,.2f}\")\n",
    ")"
   ]
  },
  {
   "cell_type": "code",
   "execution_count": 13,
   "metadata": {
    "ExecuteTime": {
     "end_time": "2023-05-16T14:52:54.843557Z",
     "start_time": "2023-05-16T14:52:48.796130Z"
    }
   },
   "outputs": [
    {
     "data": {
      "text/html": [
       "<style  type=\"text/css\" >\n",
       "</style><table id=\"T_73b38_\" ><thead>    <tr>        <th class=\"blank level0\" ></th>        <th class=\"col_heading level0 col0\" >f0</th>        <th class=\"col_heading level0 col1\" >f1</th>        <th class=\"col_heading level0 col2\" >f2</th>        <th class=\"col_heading level0 col3\" >product</th>    </tr></thead><tbody>\n",
       "                <tr>\n",
       "                        <th id=\"T_73b38_level0_row0\" class=\"row_heading level0 row0\" >0.0012</th>\n",
       "                        <td id=\"T_73b38_row0_col0\" class=\"data row0 col0\" >-20.33</td>\n",
       "                        <td id=\"T_73b38_row0_col1\" class=\"data row0 col1\" >-20.14</td>\n",
       "                        <td id=\"T_73b38_row0_col2\" class=\"data row0 col2\" >-0.01</td>\n",
       "                        <td id=\"T_73b38_row0_col3\" class=\"data row0 col3\" >0.00</td>\n",
       "            </tr>\n",
       "            <tr>\n",
       "                        <th id=\"T_73b38_level0_row1\" class=\"row_heading level0 row1\" >0.01</th>\n",
       "                        <td id=\"T_73b38_row1_col0\" class=\"data row1 col0\" >-16.54</td>\n",
       "                        <td id=\"T_73b38_row1_col1\" class=\"data row1 col1\" >-16.58</td>\n",
       "                        <td id=\"T_73b38_row1_col2\" class=\"data row1 col2\" >-0.01</td>\n",
       "                        <td id=\"T_73b38_row1_col3\" class=\"data row1 col3\" >0.00</td>\n",
       "            </tr>\n",
       "            <tr>\n",
       "                        <th id=\"T_73b38_level0_row2\" class=\"row_heading level0 row2\" >0.5</th>\n",
       "                        <td id=\"T_73b38_row2_col0\" class=\"data row2 col0\" >1.15</td>\n",
       "                        <td id=\"T_73b38_row2_col1\" class=\"data row2 col1\" >-4.81</td>\n",
       "                        <td id=\"T_73b38_row2_col2\" class=\"data row2 col2\" >2.01</td>\n",
       "                        <td id=\"T_73b38_row2_col3\" class=\"data row2 col3\" >57.09</td>\n",
       "            </tr>\n",
       "            <tr>\n",
       "                        <th id=\"T_73b38_level0_row3\" class=\"row_heading level0 row3\" >0.99</th>\n",
       "                        <td id=\"T_73b38_row3_col0\" class=\"data row3 col0\" >18.86</td>\n",
       "                        <td id=\"T_73b38_row3_col1\" class=\"data row3 col1\" >7.14</td>\n",
       "                        <td id=\"T_73b38_row3_col2\" class=\"data row3 col2\" >5.01</td>\n",
       "                        <td id=\"T_73b38_row3_col3\" class=\"data row3 col3\" >137.95</td>\n",
       "            </tr>\n",
       "            <tr>\n",
       "                        <th id=\"T_73b38_level0_row4\" class=\"row_heading level0 row4\" >0.9988</th>\n",
       "                        <td id=\"T_73b38_row4_col0\" class=\"data row4 col0\" >22.87</td>\n",
       "                        <td id=\"T_73b38_row4_col1\" class=\"data row4 col1\" >10.87</td>\n",
       "                        <td id=\"T_73b38_row4_col2\" class=\"data row4 col2\" >5.01</td>\n",
       "                        <td id=\"T_73b38_row4_col3\" class=\"data row4 col3\" >137.95</td>\n",
       "            </tr>\n",
       "    </tbody></table>"
      ],
      "text/plain": [
       "<pandas.io.formats.style.Styler at 0x217d7d99c70>"
      ]
     },
     "execution_count": 13,
     "metadata": {},
     "output_type": "execute_result"
    }
   ],
   "source": [
    "(\n",
    "    df_1[df_1.select_dtypes(['float32']).columns]\n",
    "    .quantile([0.0012, 0.01, .5, .99, .9988])  # выбираем размах в 0,9976 квантилей\n",
    "    .style.format(\"{:,.2f}\")\n",
    ")"
   ]
  },
  {
   "cell_type": "code",
   "execution_count": 14,
   "metadata": {
    "ExecuteTime": {
     "end_time": "2023-05-16T14:52:54.844555Z",
     "start_time": "2023-05-16T14:52:48.796130Z"
    }
   },
   "outputs": [
    {
     "data": {
      "text/html": [
       "<style  type=\"text/css\" >\n",
       "</style><table id=\"T_e3f53_\" ><thead>    <tr>        <th class=\"blank level0\" ></th>        <th class=\"col_heading level0 col0\" >f0</th>        <th class=\"col_heading level0 col1\" >f1</th>        <th class=\"col_heading level0 col2\" >f2</th>        <th class=\"col_heading level0 col3\" >product</th>    </tr></thead><tbody>\n",
       "                <tr>\n",
       "                        <th id=\"T_e3f53_level0_row0\" class=\"row_heading level0 row0\" >0.0012</th>\n",
       "                        <td id=\"T_e3f53_row0_col0\" class=\"data row0 col0\" >-5.24</td>\n",
       "                        <td id=\"T_e3f53_row0_col1\" class=\"data row0 col1\" >-5.24</td>\n",
       "                        <td id=\"T_e3f53_row0_col2\" class=\"data row0 col2\" >-7.77</td>\n",
       "                        <td id=\"T_e3f53_row0_col3\" class=\"data row0 col3\" >0.60</td>\n",
       "            </tr>\n",
       "            <tr>\n",
       "                        <th id=\"T_e3f53_level0_row1\" class=\"row_heading level0 row1\" >0.01</th>\n",
       "                        <td id=\"T_e3f53_row1_col0\" class=\"data row1 col0\" >-4.02</td>\n",
       "                        <td id=\"T_e3f53_row1_col1\" class=\"data row1 col1\" >-4.00</td>\n",
       "                        <td id=\"T_e3f53_row1_col2\" class=\"data row1 col2\" >-5.50</td>\n",
       "                        <td id=\"T_e3f53_row1_col3\" class=\"data row1 col3\" >5.10</td>\n",
       "            </tr>\n",
       "            <tr>\n",
       "                        <th id=\"T_e3f53_level0_row2\" class=\"row_heading level0 row2\" >0.5</th>\n",
       "                        <td id=\"T_e3f53_row2_col0\" class=\"data row2 col0\" >0.01</td>\n",
       "                        <td id=\"T_e3f53_row2_col1\" class=\"data row2 col1\" >-0.01</td>\n",
       "                        <td id=\"T_e3f53_row2_col2\" class=\"data row2 col2\" >2.48</td>\n",
       "                        <td id=\"T_e3f53_row2_col3\" class=\"data row2 col3\" >94.91</td>\n",
       "            </tr>\n",
       "            <tr>\n",
       "                        <th id=\"T_e3f53_level0_row3\" class=\"row_heading level0 row3\" >0.99</th>\n",
       "                        <td id=\"T_e3f53_row3_col0\" class=\"data row3 col0\" >4.06</td>\n",
       "                        <td id=\"T_e3f53_row3_col1\" class=\"data row3 col1\" >4.02</td>\n",
       "                        <td id=\"T_e3f53_row3_col2\" class=\"data row3 col2\" >10.51</td>\n",
       "                        <td id=\"T_e3f53_row3_col3\" class=\"data row3 col3\" >185.00</td>\n",
       "            </tr>\n",
       "            <tr>\n",
       "                        <th id=\"T_e3f53_level0_row4\" class=\"row_heading level0 row4\" >0.9988</th>\n",
       "                        <td id=\"T_e3f53_row4_col0\" class=\"data row4 col0\" >5.28</td>\n",
       "                        <td id=\"T_e3f53_row4_col1\" class=\"data row4 col1\" >5.27</td>\n",
       "                        <td id=\"T_e3f53_row4_col2\" class=\"data row4 col2\" >12.79</td>\n",
       "                        <td id=\"T_e3f53_row4_col3\" class=\"data row4 col3\" >189.46</td>\n",
       "            </tr>\n",
       "    </tbody></table>"
      ],
      "text/plain": [
       "<pandas.io.formats.style.Styler at 0x217d7d99e80>"
      ]
     },
     "execution_count": 14,
     "metadata": {},
     "output_type": "execute_result"
    }
   ],
   "source": [
    "(\n",
    "    df_2[df_2.select_dtypes(['float32']).columns]\n",
    "    .quantile([0.0012, 0.01, .5, .99, .9988])  # выбираем размах в 0,9976 квантилей\n",
    "    .style.format(\"{:,.2f}\")\n",
    ")"
   ]
  },
  {
   "cell_type": "markdown",
   "metadata": {},
   "source": [
    "Все количественные данные проходят проверку на адекватность, аномальных выбросов не обнаружено."
   ]
  },
  {
   "cell_type": "markdown",
   "metadata": {},
   "source": [
    "## Исследование задачи"
   ]
  },
  {
   "cell_type": "markdown",
   "metadata": {},
   "source": [
    "Проверка независимых переменных на мультиколлинеарность."
   ]
  },
  {
   "cell_type": "code",
   "execution_count": 15,
   "metadata": {
    "ExecuteTime": {
     "end_time": "2023-05-16T14:52:54.846549Z",
     "start_time": "2023-05-16T14:52:48.822061Z"
    }
   },
   "outputs": [
    {
     "data": {
      "image/png": "[encoded data removed]",
      "text/plain": [
       "<Figure size 640x480 with 2 Axes>"
      ]
     },
     "metadata": {},
     "output_type": "display_data"
    }
   ],
   "source": [
    "def matrix(df):\n",
    "    matrix = np.triu(df.drop('product', axis=1).corr())\n",
    "    sns.heatmap(df.drop('product', axis=1).corr(), annot=True, mask=matrix, cmap='coolwarm', linewidths=0.1,\n",
    "                linecolor='black');\n",
    "\n",
    "\n",
    "matrix(df)"
   ]
  },
  {
   "cell_type": "code",
   "execution_count": 16,
   "metadata": {
    "ExecuteTime": {
     "end_time": "2023-05-16T14:52:54.846549Z",
     "start_time": "2023-05-16T14:52:48.822061Z"
    }
   },
   "outputs": [
    {
     "data": {
      "image/png": "[encoded data removed]",
      "text/plain": [
       "<Figure size 640x480 with 2 Axes>"
      ]
     },
     "metadata": {},
     "output_type": "display_data"
    }
   ],
   "source": [
    "matrix(df_1)"
   ]
  },
  {
   "cell_type": "code",
   "execution_count": 17,
   "metadata": {
    "ExecuteTime": {
     "end_time": "2023-05-16T14:52:54.847547Z",
     "start_time": "2023-05-16T14:52:48.822061Z"
    }
   },
   "outputs": [
    {
     "data": {
      "image/png": "[encoded data removed]",
      "text/plain": [
       "<Figure size 640x480 with 2 Axes>"
      ]
     },
     "metadata": {},
     "output_type": "display_data"
    }
   ],
   "source": [
    "matrix(df_2)"
   ]
  },
  {
   "cell_type": "markdown",
   "metadata": {},
   "source": [
    "Значения коллинеарности независимых признаков между собой не превышают критического значения в 0.7-0.8."
   ]
  },
  {
   "cell_type": "markdown",
   "metadata": {},
   "source": [
    "## Обучение и проверка модели"
   ]
  },
  {
   "cell_type": "code",
   "execution_count": 18,
   "metadata": {
    "ExecuteTime": {
     "end_time": "2023-05-16T14:52:54.848544Z",
     "start_time": "2023-05-16T14:52:48.842007Z"
    }
   },
   "outputs": [],
   "source": [
    "def calculate(df):\n",
    "    features_train, features_test, target_train, target_test = train_test_split(df.drop(columns=['product']),\n",
    "                                                                                df['product'], test_size=0.25,\n",
    "                                                                                random_state=12345)\n",
    "    pipeline = make_pipeline(StandardScaler(), LinearRegression())\n",
    "    pipeline.fit(features_train, target_train)\n",
    "    predict = pipeline.predict(features_test)\n",
    "    region_df = pd.DataFrame({'prediction': predict, 'true': target_test}).reset_index(drop=True)\n",
    "    rmse = mean_squared_error(target_test, predict, squared=False)\n",
    "    r2 = r2_score(target_test, predict)\n",
    "    return region_df, rmse, r2"
   ]
  },
  {
   "cell_type": "code",
   "execution_count": null,
   "metadata": {
    "ExecuteTime": {
     "end_time": "2023-04-06T03:18:32.793940Z",
     "start_time": "2023-04-06T03:18:32.604448Z"
    },
    "pycharm": {
     "is_executing": true
    }
   },
   "outputs": [],
   "source": [
    "names = {'первого региона': df, 'второго региона': df_1, 'третьего региона': df_2}\n",
    "for name in names:\n",
    "    print(f'Средний запас предсказанного сырья для {name}: {calculate(names[name])[0][\"prediction\"].mean():.2f}',\n",
    "          f'RMSE регрессионной модели для {name}: {calculate(names[name])[1]:.2f}',\n",
    "          f'Коэффициент детерминации регрессионной модели для {name}: {calculate(names[name])[2]:.2f}', sep='\\n')\n",
    "    print()"
   ]
  },
  {
   "cell_type": "markdown",
   "metadata": {},
   "source": [
    "Полученные результаты можно интерпретировать следующим образом, что модель линейной регрессии показывает впечатляющий результат (коэф. детрминации/r2 score = 1) на основе данных по второму региону. Для других же регионов предсказательная способность модели оставляет желать лучшего."
   ]
  },
  {
   "cell_type": "markdown",
   "metadata": {},
   "source": [
    "## Подготовка к расчёту прибыли"
   ]
  },
  {
   "cell_type": "code",
   "execution_count": null,
   "metadata": {
    "ExecuteTime": {
     "end_time": "2023-04-06T03:18:32.873727Z",
     "start_time": "2023-04-06T03:18:32.790949Z"
    },
    "pycharm": {
     "is_executing": true
    }
   },
   "outputs": [],
   "source": [
    "# Перезапишем нужные нам в дальнейшем данные на исходные переменные df.\n",
    "df = calculate(df)[0]\n",
    "df_1 = calculate(df_1)[0]\n",
    "df_2 = calculate(df_2)[0]"
   ]
  },
  {
   "cell_type": "code",
   "execution_count": null,
   "metadata": {
    "ExecuteTime": {
     "end_time": "2023-04-06T03:18:32.890681Z",
     "start_time": "2023-04-06T03:18:32.868740Z"
    },
    "pycharm": {
     "is_executing": true
    }
   },
   "outputs": [],
   "source": [
    "EXPENSES = 10 ** 10\n",
    "BARREL_COST = 450000\n",
    "NUMBER_OF_OIL = 200\n",
    "minimal_necessary_stocks = EXPENSES / BARREL_COST / NUMBER_OF_OIL\n",
    "print(f'Минимально необходимый запас сырья в каждой из 200 скважин: {minimal_necessary_stocks:.2f} тыс. баррелей')"
   ]
  },
  {
   "cell_type": "markdown",
   "metadata": {},
   "source": [
    "Подсчитав минимально необходимый запас сырья в каждой из 200 скважин для окупа вложенных затрат на разработку региона, мы можем прийти к выводу, что предсказанное среднее объема для всех 3 регионов меньше необходимого."
   ]
  },
  {
   "cell_type": "markdown",
   "metadata": {},
   "source": [
    "## Расчёт прибыли и рисков "
   ]
  },
  {
   "cell_type": "code",
   "execution_count": null,
   "metadata": {
    "ExecuteTime": {
     "end_time": "2023-04-06T03:18:32.928579Z",
     "start_time": "2023-04-06T03:18:32.885695Z"
    },
    "pycharm": {
     "is_executing": true
    }
   },
   "outputs": [],
   "source": [
    "def profit_calculation(data):\n",
    "    return data.sort_values(by='prediction', ascending=False)[:NUMBER_OF_OIL][\n",
    "        'true'].sum() * BARREL_COST - EXPENSES\n",
    "\n",
    "\n",
    "def bootstrap(data):\n",
    "    state = np.random.RandomState(12345)\n",
    "    values = []\n",
    "    for i in range(1000):\n",
    "        target_subsample = data.sample(n=500, replace=True, random_state=state)  # < напишите код здесь>)\n",
    "        values.append(profit_calculation(target_subsample))\n",
    "    return pd.Series(values)\n",
    "\n",
    "\n",
    "def confidence_interval(data):\n",
    "    return st.t.interval(confidence=0.95, df=len(data) - 1, loc=data.mean(), scale=data.sem())"
   ]
  },
  {
   "cell_type": "code",
   "execution_count": null,
   "metadata": {
    "ExecuteTime": {
     "end_time": "2023-04-06T03:18:38.469889Z",
     "start_time": "2023-04-06T03:18:32.898660Z"
    },
    "pycharm": {
     "is_executing": true
    }
   },
   "outputs": [],
   "source": [
    "names = {'первого региона': df, 'второго региона': df_1, 'третьего региона': df_2}\n",
    "for name in names:\n",
    "    print(f'Средняя прибыль для {name}: {bootstrap(names[name]).mean() / 10 ** 6:.2f} млн. рублей.',\n",
    "          f'95% доверительный интервал для {name}: от {bootstrap(names[name]).sort_values().quantile(0.025) / 10 ** 6:.2f}'\n",
    "          f' до {bootstrap(names[name]).sort_values().quantile(0.975) / 10 ** 6:.2f}',\n",
    "          f'Риск убытка для {name}: {(bootstrap(names[name]) < 0).mean():.2%}',\n",
    "          sep='\\n'\n",
    "          )\n",
    "    print()"
   ]
  },
  {
   "cell_type": "markdown",
   "metadata": {},
   "source": [
    "---\n",
    "## Общий вывод по исследованию"
   ]
  },
  {
   "cell_type": "markdown",
   "metadata": {},
   "source": [
    "<div style=\"border:solid orange 2px; padding: 5px\">\n",
    "\n",
    "<div class=\"alert alert-info\"> <b>При проведении исследования (на основе полученных данных) выполнено:</b></div>\n",
    "\n",
    "- Обнаружены и удалены дубликаты в данных.\n",
    "- Произведена оптимизация формата размерности количественных данных.\n",
    "- Проведена проверка отсутствия мультиколлинеарности независимых признаков.\n",
    "- Данные подготовлены к дальнейшему использованию при построении модели.\n",
    "- Произведено масштабирование независимых количественных признаков.\n",
    "- Создана функция для обучения модели линейной регрессии на основе данных для каждого региона, создан pipeline куда вошли масштабирование и сама модель линейной регрессии.\n",
    "- Полученные результаты можно интерпретировать следующим образом, что модель линейной регрессии показывает впечатляющий результат (коэф. детрминации/r2 score = 1) на основе данных по второму региону. Для других же регионов предсказательная способность модели оставляет желать лучшего.\n",
    "    - Первый регион:\n",
    "        - Средний запас предсказанного сырья для первого региона: 92.72\n",
    "        - RMSE регрессионной модели для первого региона: 37.84\n",
    "        - Коэффициент детерминации регрессионной модели для первого региона: 0.27\n",
    "    - Второй регион:\n",
    "        - Средний запас предсказанного сырья для второго региона: 68.77\n",
    "        - RMSE регрессионной модели для второго региона: 0.89\n",
    "        - Коэффициент детерминации регрессионной модели для второго региона: 1.00\n",
    "    - Третий регион:\n",
    "        - Средний запас предсказанного сырья для третьего региона: 95.10\n",
    "        - RMSE регрессионной модели для третьего региона: 39.94\n",
    "        - Коэффициент детерминации регрессионной модели для третьего региона: 0.20\n",
    "\n",
    "- Минимально необходимый запас сырья в каждой из 200 скважин для окупа вложенных затрат на разработку региона: 111.11 тыс. баррелей.\n",
    "- Рассчитана прибыль и риски для каждого из регионов:\n",
    "    - Первый регион:\n",
    "        - Средняя прибыль для первого региона: 436.39 млн. рублей.\n",
    "        - 95% доверительный интервал для первого региона: от -63.30 до 958.97\n",
    "        - Риск убытка для первого региона: 4.00%\n",
    "    - Второй регион:\n",
    "        - Средняя прибыль для второго региона: 429.83 млн. рублей.\n",
    "        - 95% доверительный интервал для второго региона: от 63.13 до 826.66\n",
    "        - Риск убытка для второго региона: 1.40%\n",
    "    - Третий регион:\n",
    "        - Средняя прибыль для третьего региона: 355.00 млн. рублей.\n",
    "        - 95% доверительный интервал для третьего региона: от -179.25 до 859.70\n",
    "        - Риск убытка для третьего региона: 10.30%\n",
    "\n",
    "- Из представленных трех регионов выбран второй регион, как регион с рисками убытка менее 2.5%.\n"
   ]
  }
 ],
 "metadata": {
  "kernelspec": {
   "display_name": "Python 3 (ipykernel)",
   "language": "python",
   "name": "python3"
  },
  "language_info": {
   "codemirror_mode": {
    "name": "ipython",
    "version": 3
   },
   "file_extension": ".py",
   "mimetype": "text/x-python",
   "name": "python",
   "nbconvert_exporter": "python",
   "pygments_lexer": "ipython3",
   "version": "3.9.15"
  },
  "toc": {
   "base_numbering": 1,
   "nav_menu": {},
   "number_sections": true,
   "sideBar": true,
   "skip_h1_title": true,
   "title_cell": "Table of Contents",
   "title_sidebar": "Contents",
   "toc_cell": false,
   "toc_position": {},
   "toc_section_display": true,
   "toc_window_display": false
  }
 },
 "nbformat": 4,
 "nbformat_minor": 2
}
