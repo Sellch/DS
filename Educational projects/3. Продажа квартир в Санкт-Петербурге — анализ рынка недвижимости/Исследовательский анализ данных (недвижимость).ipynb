{
 "cells": [
  {
   "cell_type": "markdown",
   "metadata": {},
   "source": [
    "# Исследование объявлений о продаже квартир"
   ]
  },
  {
   "cell_type": "markdown",
   "metadata": {},
   "source": [
    "---\n",
    "## Цель проекта"
   ]
  },
  {
   "cell_type": "markdown",
   "metadata": {},
   "source": [
    "<div style=\"border:solid orange 2px; padding: 5px\">\n",
    "<div class=\"alert alert-info\"> <b>Провести исследование на основе предоставленных данных и выполнить:</b></div>\n",
    "\n",
    "- __*Описание имеющихся параметров*__\n",
    "- __*Оценку времени, затраченного на продажу квартиры*__\n",
    "- __*Оценку факторов больше всего влияющих на общую (полную) стоимость объекта*__\n",
    "- __*Расчет средней цены одного квадратного метра в 10 населённых пунктах с наибольшим числом объявлений и выделить населённые пункты с самой высокой и низкой стоимостью квадратного метра.*__\n",
    "- __*Оценку зависимости, как стоимость объектов зависит от расстояния до центра города*__"
   ]
  },
  {
   "cell_type": "markdown",
   "metadata": {},
   "source": [
    "---\n",
    "## Описание проекта"
   ]
  },
  {
   "cell_type": "markdown",
   "metadata": {},
   "source": [
    "__*В нашем распоряжении данные сервиса Яндекс Недвижимость — архив объявлений за несколько лет о продаже квартир в Санкт-Петербурге и соседних населённых пунктах.\n",
    "Наша задача — найти интересные особенности и зависимости, которые существуют на рынке недвижимости.*__"
   ]
  },
  {
   "cell_type": "markdown",
   "metadata": {},
   "source": [
    "---\n",
    "### *Описание данных*"
   ]
  },
  {
   "cell_type": "markdown",
   "metadata": {},
   "source": [
    "__*Для исследования получен csv-файл `1.csv`*__\n",
    "\n",
    "* airports_nearest — расстояние до ближайшего аэропорта в метрах (м)\n",
    "* balcony — число балконов\n",
    "* ceiling_height — высота потолков (м)\n",
    "* cityCenters_nearest — расстояние до центра города (м)\n",
    "* days_exposition — сколько дней было размещено объявление (от публикации до снятия)\n",
    "* first_day_exposition — дата публикации\n",
    "* floor — этаж\n",
    "* floors_total — всего этажей в доме\n",
    "* is_apartment — апартаменты (булев тип)\n",
    "* kitchen_area — площадь кухни в квадратных метрах (м²)\n",
    "* last_price — цена на момент снятия с публикации\n",
    "* living_area — жилая площадь в квадратных метрах (м²)\n",
    "* locality_name — название населённого пункта\n",
    "* open_plan — свободная планировка (булев тип)\n",
    "* parks_around3000 — число парков в радиусе 3 км\n",
    "* parks_nearest — расстояние до ближайшего парка (м)\n",
    "* ponds_around3000 — число водоёмов в радиусе 3 км\n",
    "* ponds_nearest — расстояние до ближайшего водоёма (м)\n",
    "* rooms — число комнат\n",
    "* studio — квартира-студия (булев тип)\n",
    "* total_area — общая площадь квартиры в квадратных метрах (м²)\n",
    "* total_images — число фотографий квартиры в объявлении"
   ]
  },
  {
   "cell_type": "markdown",
   "metadata": {},
   "source": [
    "---\n",
    "## Ход исследования"
   ]
  },
  {
   "cell_type": "markdown",
   "metadata": {},
   "source": [
    "1. Изучение общей информации о данных\n",
    "2. Предобработка данных\n",
    "3. Проведение исследования по поставленным целям"
   ]
  },
  {
   "cell_type": "markdown",
   "metadata": {},
   "source": [
    "---\n",
    "## Подключение модулей (import modules)"
   ]
  },
  {
   "cell_type": "code",
   "execution_count": 1,
   "metadata": {
    "ExecuteTime": {
     "end_time": "2023-05-16T15:00:53.112952Z",
     "start_time": "2023-05-16T15:00:50.057087Z"
    }
   },
   "outputs": [],
   "source": [
    "import pandas as pd\n",
    "import seaborn as sns\n",
    "import numpy as np\n",
    "import math\n",
    "import matplotlib.pyplot as plt\n",
    "from collections import Counter\n",
    "import warnings"
   ]
  },
  {
   "cell_type": "markdown",
   "metadata": {},
   "source": [
    "---\n",
    "## Загрузка данных (data loading)"
   ]
  },
  {
   "cell_type": "markdown",
   "metadata": {},
   "source": [
    "Считаем данные из имеющегося csv-файла real_estate_data.csv."
   ]
  },
  {
   "cell_type": "code",
   "execution_count": 2,
   "metadata": {
    "ExecuteTime": {
     "end_time": "2023-05-16T15:00:53.118935Z",
     "start_time": "2023-05-16T15:00:50.072047Z"
    }
   },
   "outputs": [],
   "source": [
    "#  Используем блок try - except для обработки исключений и гарантированного доступа к файлу.\n",
    "#  Считаем данные из csv-файла в датафрейм и сохраним его в переменной 'data'.\n",
    "try:\n",
    "    df = pd.read_csv('datasets/real_estate_data.csv')\n",
    "except FileNotFoundError:\n",
    "    df = pd.read_csv('https://code.s3.yandex.net/datasets/real_estate_data.csv')"
   ]
  },
  {
   "cell_type": "markdown",
   "metadata": {},
   "source": [
    "Выведем первые 20 строчек DataFrame `data` на экран, для ознакомления с DF. (сокр. 'DF' далее по тексту)"
   ]
  },
  {
   "cell_type": "code",
   "execution_count": 3,
   "metadata": {
    "ExecuteTime": {
     "end_time": "2023-05-16T15:00:53.119933Z",
     "start_time": "2023-05-16T15:00:51.668294Z"
    }
   },
   "outputs": [
    {
     "data": {
      "text/html": [
       "<div>\n",
       "<style scoped>\n",
       "    .dataframe tbody tr th:only-of-type {\n",
       "        vertical-align: middle;\n",
       "    }\n",
       "\n",
       "    .dataframe tbody tr th {\n",
       "        vertical-align: top;\n",
       "    }\n",
       "\n",
       "    .dataframe thead th {\n",
       "        text-align: right;\n",
       "    }\n",
       "</style>\n",
       "<table border=\"1\" class=\"dataframe\">\n",
       "  <thead>\n",
       "    <tr style=\"text-align: right;\">\n",
       "      <th></th>\n",
       "      <th>total_images\\tlast_price\\ttotal_area\\tfirst_day_exposition\\trooms\\tceiling_height\\tfloors_total\\tliving_area\\tfloor\\tis_apartment\\tstudio\\topen_plan\\tkitchen_area\\tbalcony\\tlocality_name\\tairports_nearest\\tcityCenters_nearest\\tparks_around3000\\tparks_nearest\\tponds_around3000\\tponds_nearest\\tdays_exposition</th>\n",
       "    </tr>\n",
       "  </thead>\n",
       "  <tbody>\n",
       "    <tr>\n",
       "      <th>0</th>\n",
       "      <td>20\\t13000000.0\\t108.0\\t2019-03-07T00:00:00\\t3\\...</td>\n",
       "    </tr>\n",
       "    <tr>\n",
       "      <th>1</th>\n",
       "      <td>7\\t3350000.0\\t40.4\\t2018-12-04T00:00:00\\t1\\t\\t...</td>\n",
       "    </tr>\n",
       "    <tr>\n",
       "      <th>2</th>\n",
       "      <td>10\\t5196000.0\\t56.0\\t2015-08-20T00:00:00\\t2\\t\\...</td>\n",
       "    </tr>\n",
       "    <tr>\n",
       "      <th>3</th>\n",
       "      <td>0\\t64900000.0\\t159.0\\t2015-07-24T00:00:00\\t3\\t...</td>\n",
       "    </tr>\n",
       "    <tr>\n",
       "      <th>4</th>\n",
       "      <td>2\\t10000000.0\\t100.0\\t2018-06-19T00:00:00\\t2\\t...</td>\n",
       "    </tr>\n",
       "    <tr>\n",
       "      <th>5</th>\n",
       "      <td>10\\t2890000.0\\t30.4\\t2018-09-10T00:00:00\\t1\\t\\...</td>\n",
       "    </tr>\n",
       "    <tr>\n",
       "      <th>6</th>\n",
       "      <td>6\\t3700000.0\\t37.3\\t2017-11-02T00:00:00\\t1\\t\\t...</td>\n",
       "    </tr>\n",
       "    <tr>\n",
       "      <th>7</th>\n",
       "      <td>5\\t7915000.0\\t71.6\\t2019-04-18T00:00:00\\t2\\t\\t...</td>\n",
       "    </tr>\n",
       "    <tr>\n",
       "      <th>8</th>\n",
       "      <td>20\\t2900000.0\\t33.16\\t2018-05-23T00:00:00\\t1\\t...</td>\n",
       "    </tr>\n",
       "    <tr>\n",
       "      <th>9</th>\n",
       "      <td>18\\t5400000.0\\t61.0\\t2017-02-26T00:00:00\\t3\\t2...</td>\n",
       "    </tr>\n",
       "    <tr>\n",
       "      <th>10</th>\n",
       "      <td>5\\t5050000.0\\t39.6\\t2017-11-16T00:00:00\\t1\\t2....</td>\n",
       "    </tr>\n",
       "    <tr>\n",
       "      <th>11</th>\n",
       "      <td>9\\t3300000.0\\t44.0\\t2018-08-27T00:00:00\\t2\\t\\t...</td>\n",
       "    </tr>\n",
       "    <tr>\n",
       "      <th>12</th>\n",
       "      <td>10\\t3890000.0\\t54.0\\t2016-06-30T00:00:00\\t2\\t\\...</td>\n",
       "    </tr>\n",
       "    <tr>\n",
       "      <th>13</th>\n",
       "      <td>20\\t3550000.0\\t42.8\\t2017-07-01T00:00:00\\t2\\t2...</td>\n",
       "    </tr>\n",
       "    <tr>\n",
       "      <th>14</th>\n",
       "      <td>1\\t4400000.0\\t36.0\\t2016-06-23T00:00:00\\t1\\t\\t...</td>\n",
       "    </tr>\n",
       "    <tr>\n",
       "      <th>15</th>\n",
       "      <td>16\\t4650000.0\\t39.0\\t2017-11-18T00:00:00\\t1\\t\\...</td>\n",
       "    </tr>\n",
       "    <tr>\n",
       "      <th>16</th>\n",
       "      <td>11\\t6700000.0\\t82.0\\t2017-11-23T00:00:00\\t3\\t3...</td>\n",
       "    </tr>\n",
       "    <tr>\n",
       "      <th>17</th>\n",
       "      <td>6\\t4180000.0\\t36.0\\t2016-09-09T00:00:00\\t1\\t\\t...</td>\n",
       "    </tr>\n",
       "    <tr>\n",
       "      <th>18</th>\n",
       "      <td>8\\t3250000.0\\t31.0\\t2017-01-27T00:00:00\\t1\\t2....</td>\n",
       "    </tr>\n",
       "    <tr>\n",
       "      <th>19</th>\n",
       "      <td>16\\t14200000.0\\t121.0\\t2019-01-09T00:00:00\\t3\\...</td>\n",
       "    </tr>\n",
       "  </tbody>\n",
       "</table>\n",
       "</div>"
      ],
      "text/plain": [
       "   total_images\\tlast_price\\ttotal_area\\tfirst_day_exposition\\trooms\\tceiling_height\\tfloors_total\\tliving_area\\tfloor\\tis_apartment\\tstudio\\topen_plan\\tkitchen_area\\tbalcony\\tlocality_name\\tairports_nearest\\tcityCenters_nearest\\tparks_around3000\\tparks_nearest\\tponds_around3000\\tponds_nearest\\tdays_exposition\n",
       "0   20\\t13000000.0\\t108.0\\t2019-03-07T00:00:00\\t3\\...                                                                                                                                                                                                                                                                  \n",
       "1   7\\t3350000.0\\t40.4\\t2018-12-04T00:00:00\\t1\\t\\t...                                                                                                                                                                                                                                                                  \n",
       "2   10\\t5196000.0\\t56.0\\t2015-08-20T00:00:00\\t2\\t\\...                                                                                                                                                                                                                                                                  \n",
       "3   0\\t64900000.0\\t159.0\\t2015-07-24T00:00:00\\t3\\t...                                                                                                                                                                                                                                                                  \n",
       "4   2\\t10000000.0\\t100.0\\t2018-06-19T00:00:00\\t2\\t...                                                                                                                                                                                                                                                                  \n",
       "5   10\\t2890000.0\\t30.4\\t2018-09-10T00:00:00\\t1\\t\\...                                                                                                                                                                                                                                                                  \n",
       "6   6\\t3700000.0\\t37.3\\t2017-11-02T00:00:00\\t1\\t\\t...                                                                                                                                                                                                                                                                  \n",
       "7   5\\t7915000.0\\t71.6\\t2019-04-18T00:00:00\\t2\\t\\t...                                                                                                                                                                                                                                                                  \n",
       "8   20\\t2900000.0\\t33.16\\t2018-05-23T00:00:00\\t1\\t...                                                                                                                                                                                                                                                                  \n",
       "9   18\\t5400000.0\\t61.0\\t2017-02-26T00:00:00\\t3\\t2...                                                                                                                                                                                                                                                                  \n",
       "10  5\\t5050000.0\\t39.6\\t2017-11-16T00:00:00\\t1\\t2....                                                                                                                                                                                                                                                                  \n",
       "11  9\\t3300000.0\\t44.0\\t2018-08-27T00:00:00\\t2\\t\\t...                                                                                                                                                                                                                                                                  \n",
       "12  10\\t3890000.0\\t54.0\\t2016-06-30T00:00:00\\t2\\t\\...                                                                                                                                                                                                                                                                  \n",
       "13  20\\t3550000.0\\t42.8\\t2017-07-01T00:00:00\\t2\\t2...                                                                                                                                                                                                                                                                  \n",
       "14  1\\t4400000.0\\t36.0\\t2016-06-23T00:00:00\\t1\\t\\t...                                                                                                                                                                                                                                                                  \n",
       "15  16\\t4650000.0\\t39.0\\t2017-11-18T00:00:00\\t1\\t\\...                                                                                                                                                                                                                                                                  \n",
       "16  11\\t6700000.0\\t82.0\\t2017-11-23T00:00:00\\t3\\t3...                                                                                                                                                                                                                                                                  \n",
       "17  6\\t4180000.0\\t36.0\\t2016-09-09T00:00:00\\t1\\t\\t...                                                                                                                                                                                                                                                                  \n",
       "18  8\\t3250000.0\\t31.0\\t2017-01-27T00:00:00\\t1\\t2....                                                                                                                                                                                                                                                                  \n",
       "19  16\\t14200000.0\\t121.0\\t2019-01-09T00:00:00\\t3\\...                                                                                                                                                                                                                                                                  "
      ]
     },
     "execution_count": 3,
     "metadata": {},
     "output_type": "execute_result"
    }
   ],
   "source": [
    "#  Метод head() позволит отобразить первые 20 строк нашего DF.\n",
    "df.head(20)"
   ]
  },
  {
   "cell_type": "markdown",
   "metadata": {},
   "source": [
    "Обнаружили, что при формировании csv файла использовался не стандартный разделитель столбцов (;), а '\\t'. Укажем верный тип разделителя."
   ]
  },
  {
   "cell_type": "code",
   "execution_count": 4,
   "metadata": {
    "pycharm": {
     "is_executing": true
    }
   },
   "outputs": [],
   "source": [
    "try:\n",
    "    df = pd.read_csv('/datasets/real_estate_data.csv', sep=r'\\t', engine='python')\n",
    "except FileNotFoundError:\n",
    "    df = pd.read_csv('https://code.s3.yandex.net/datasets/real_estate_data.csv', sep=r'\\t', engine='python')\n",
    "# Были использованы сырые строки, как один из вариантов экранирования строк, чтобы исключить возможную интерпретацию Python'ом '\\t', как символа для горизонтальной табуляции."
   ]
  },
  {
   "cell_type": "code",
   "execution_count": 5,
   "metadata": {
    "pycharm": {
     "is_executing": true
    }
   },
   "outputs": [
    {
     "data": {
      "text/html": [
       "<div>\n",
       "<style scoped>\n",
       "    .dataframe tbody tr th:only-of-type {\n",
       "        vertical-align: middle;\n",
       "    }\n",
       "\n",
       "    .dataframe tbody tr th {\n",
       "        vertical-align: top;\n",
       "    }\n",
       "\n",
       "    .dataframe thead th {\n",
       "        text-align: right;\n",
       "    }\n",
       "</style>\n",
       "<table border=\"1\" class=\"dataframe\">\n",
       "  <thead>\n",
       "    <tr style=\"text-align: right;\">\n",
       "      <th></th>\n",
       "      <th>total_images</th>\n",
       "      <th>last_price</th>\n",
       "      <th>total_area</th>\n",
       "      <th>first_day_exposition</th>\n",
       "      <th>rooms</th>\n",
       "      <th>ceiling_height</th>\n",
       "      <th>floors_total</th>\n",
       "      <th>living_area</th>\n",
       "      <th>floor</th>\n",
       "      <th>is_apartment</th>\n",
       "      <th>...</th>\n",
       "      <th>kitchen_area</th>\n",
       "      <th>balcony</th>\n",
       "      <th>locality_name</th>\n",
       "      <th>airports_nearest</th>\n",
       "      <th>cityCenters_nearest</th>\n",
       "      <th>parks_around3000</th>\n",
       "      <th>parks_nearest</th>\n",
       "      <th>ponds_around3000</th>\n",
       "      <th>ponds_nearest</th>\n",
       "      <th>days_exposition</th>\n",
       "    </tr>\n",
       "  </thead>\n",
       "  <tbody>\n",
       "    <tr>\n",
       "      <th>0</th>\n",
       "      <td>20</td>\n",
       "      <td>13000000.0</td>\n",
       "      <td>108.00</td>\n",
       "      <td>2019-03-07T00:00:00</td>\n",
       "      <td>3</td>\n",
       "      <td>2.70</td>\n",
       "      <td>16.0</td>\n",
       "      <td>51.00</td>\n",
       "      <td>8</td>\n",
       "      <td>NaN</td>\n",
       "      <td>...</td>\n",
       "      <td>25.00</td>\n",
       "      <td>NaN</td>\n",
       "      <td>Санкт-Петербург</td>\n",
       "      <td>18863.0</td>\n",
       "      <td>16028.0</td>\n",
       "      <td>1.0</td>\n",
       "      <td>482.0</td>\n",
       "      <td>2.0</td>\n",
       "      <td>755.0</td>\n",
       "      <td>NaN</td>\n",
       "    </tr>\n",
       "    <tr>\n",
       "      <th>1</th>\n",
       "      <td>7</td>\n",
       "      <td>3350000.0</td>\n",
       "      <td>40.40</td>\n",
       "      <td>2018-12-04T00:00:00</td>\n",
       "      <td>1</td>\n",
       "      <td>NaN</td>\n",
       "      <td>11.0</td>\n",
       "      <td>18.60</td>\n",
       "      <td>1</td>\n",
       "      <td>NaN</td>\n",
       "      <td>...</td>\n",
       "      <td>11.00</td>\n",
       "      <td>2.0</td>\n",
       "      <td>посёлок Шушары</td>\n",
       "      <td>12817.0</td>\n",
       "      <td>18603.0</td>\n",
       "      <td>0.0</td>\n",
       "      <td>NaN</td>\n",
       "      <td>0.0</td>\n",
       "      <td>NaN</td>\n",
       "      <td>81.0</td>\n",
       "    </tr>\n",
       "    <tr>\n",
       "      <th>2</th>\n",
       "      <td>10</td>\n",
       "      <td>5196000.0</td>\n",
       "      <td>56.00</td>\n",
       "      <td>2015-08-20T00:00:00</td>\n",
       "      <td>2</td>\n",
       "      <td>NaN</td>\n",
       "      <td>5.0</td>\n",
       "      <td>34.30</td>\n",
       "      <td>4</td>\n",
       "      <td>NaN</td>\n",
       "      <td>...</td>\n",
       "      <td>8.30</td>\n",
       "      <td>0.0</td>\n",
       "      <td>Санкт-Петербург</td>\n",
       "      <td>21741.0</td>\n",
       "      <td>13933.0</td>\n",
       "      <td>1.0</td>\n",
       "      <td>90.0</td>\n",
       "      <td>2.0</td>\n",
       "      <td>574.0</td>\n",
       "      <td>558.0</td>\n",
       "    </tr>\n",
       "    <tr>\n",
       "      <th>3</th>\n",
       "      <td>0</td>\n",
       "      <td>64900000.0</td>\n",
       "      <td>159.00</td>\n",
       "      <td>2015-07-24T00:00:00</td>\n",
       "      <td>3</td>\n",
       "      <td>NaN</td>\n",
       "      <td>14.0</td>\n",
       "      <td>NaN</td>\n",
       "      <td>9</td>\n",
       "      <td>NaN</td>\n",
       "      <td>...</td>\n",
       "      <td>NaN</td>\n",
       "      <td>0.0</td>\n",
       "      <td>Санкт-Петербург</td>\n",
       "      <td>28098.0</td>\n",
       "      <td>6800.0</td>\n",
       "      <td>2.0</td>\n",
       "      <td>84.0</td>\n",
       "      <td>3.0</td>\n",
       "      <td>234.0</td>\n",
       "      <td>424.0</td>\n",
       "    </tr>\n",
       "    <tr>\n",
       "      <th>4</th>\n",
       "      <td>2</td>\n",
       "      <td>10000000.0</td>\n",
       "      <td>100.00</td>\n",
       "      <td>2018-06-19T00:00:00</td>\n",
       "      <td>2</td>\n",
       "      <td>3.03</td>\n",
       "      <td>14.0</td>\n",
       "      <td>32.00</td>\n",
       "      <td>13</td>\n",
       "      <td>NaN</td>\n",
       "      <td>...</td>\n",
       "      <td>41.00</td>\n",
       "      <td>NaN</td>\n",
       "      <td>Санкт-Петербург</td>\n",
       "      <td>31856.0</td>\n",
       "      <td>8098.0</td>\n",
       "      <td>2.0</td>\n",
       "      <td>112.0</td>\n",
       "      <td>1.0</td>\n",
       "      <td>48.0</td>\n",
       "      <td>121.0</td>\n",
       "    </tr>\n",
       "    <tr>\n",
       "      <th>5</th>\n",
       "      <td>10</td>\n",
       "      <td>2890000.0</td>\n",
       "      <td>30.40</td>\n",
       "      <td>2018-09-10T00:00:00</td>\n",
       "      <td>1</td>\n",
       "      <td>NaN</td>\n",
       "      <td>12.0</td>\n",
       "      <td>14.40</td>\n",
       "      <td>5</td>\n",
       "      <td>NaN</td>\n",
       "      <td>...</td>\n",
       "      <td>9.10</td>\n",
       "      <td>NaN</td>\n",
       "      <td>городской посёлок Янино-1</td>\n",
       "      <td>NaN</td>\n",
       "      <td>NaN</td>\n",
       "      <td>NaN</td>\n",
       "      <td>NaN</td>\n",
       "      <td>NaN</td>\n",
       "      <td>NaN</td>\n",
       "      <td>55.0</td>\n",
       "    </tr>\n",
       "    <tr>\n",
       "      <th>6</th>\n",
       "      <td>6</td>\n",
       "      <td>3700000.0</td>\n",
       "      <td>37.30</td>\n",
       "      <td>2017-11-02T00:00:00</td>\n",
       "      <td>1</td>\n",
       "      <td>NaN</td>\n",
       "      <td>26.0</td>\n",
       "      <td>10.60</td>\n",
       "      <td>6</td>\n",
       "      <td>NaN</td>\n",
       "      <td>...</td>\n",
       "      <td>14.40</td>\n",
       "      <td>1.0</td>\n",
       "      <td>посёлок Парголово</td>\n",
       "      <td>52996.0</td>\n",
       "      <td>19143.0</td>\n",
       "      <td>0.0</td>\n",
       "      <td>NaN</td>\n",
       "      <td>0.0</td>\n",
       "      <td>NaN</td>\n",
       "      <td>155.0</td>\n",
       "    </tr>\n",
       "    <tr>\n",
       "      <th>7</th>\n",
       "      <td>5</td>\n",
       "      <td>7915000.0</td>\n",
       "      <td>71.60</td>\n",
       "      <td>2019-04-18T00:00:00</td>\n",
       "      <td>2</td>\n",
       "      <td>NaN</td>\n",
       "      <td>24.0</td>\n",
       "      <td>NaN</td>\n",
       "      <td>22</td>\n",
       "      <td>NaN</td>\n",
       "      <td>...</td>\n",
       "      <td>18.90</td>\n",
       "      <td>2.0</td>\n",
       "      <td>Санкт-Петербург</td>\n",
       "      <td>23982.0</td>\n",
       "      <td>11634.0</td>\n",
       "      <td>0.0</td>\n",
       "      <td>NaN</td>\n",
       "      <td>0.0</td>\n",
       "      <td>NaN</td>\n",
       "      <td>NaN</td>\n",
       "    </tr>\n",
       "    <tr>\n",
       "      <th>8</th>\n",
       "      <td>20</td>\n",
       "      <td>2900000.0</td>\n",
       "      <td>33.16</td>\n",
       "      <td>2018-05-23T00:00:00</td>\n",
       "      <td>1</td>\n",
       "      <td>NaN</td>\n",
       "      <td>27.0</td>\n",
       "      <td>15.43</td>\n",
       "      <td>26</td>\n",
       "      <td>NaN</td>\n",
       "      <td>...</td>\n",
       "      <td>8.81</td>\n",
       "      <td>NaN</td>\n",
       "      <td>посёлок Мурино</td>\n",
       "      <td>NaN</td>\n",
       "      <td>NaN</td>\n",
       "      <td>NaN</td>\n",
       "      <td>NaN</td>\n",
       "      <td>NaN</td>\n",
       "      <td>NaN</td>\n",
       "      <td>189.0</td>\n",
       "    </tr>\n",
       "    <tr>\n",
       "      <th>9</th>\n",
       "      <td>18</td>\n",
       "      <td>5400000.0</td>\n",
       "      <td>61.00</td>\n",
       "      <td>2017-02-26T00:00:00</td>\n",
       "      <td>3</td>\n",
       "      <td>2.50</td>\n",
       "      <td>9.0</td>\n",
       "      <td>43.60</td>\n",
       "      <td>7</td>\n",
       "      <td>NaN</td>\n",
       "      <td>...</td>\n",
       "      <td>6.50</td>\n",
       "      <td>2.0</td>\n",
       "      <td>Санкт-Петербург</td>\n",
       "      <td>50898.0</td>\n",
       "      <td>15008.0</td>\n",
       "      <td>0.0</td>\n",
       "      <td>NaN</td>\n",
       "      <td>0.0</td>\n",
       "      <td>NaN</td>\n",
       "      <td>289.0</td>\n",
       "    </tr>\n",
       "    <tr>\n",
       "      <th>10</th>\n",
       "      <td>5</td>\n",
       "      <td>5050000.0</td>\n",
       "      <td>39.60</td>\n",
       "      <td>2017-11-16T00:00:00</td>\n",
       "      <td>1</td>\n",
       "      <td>2.67</td>\n",
       "      <td>12.0</td>\n",
       "      <td>20.30</td>\n",
       "      <td>3</td>\n",
       "      <td>NaN</td>\n",
       "      <td>...</td>\n",
       "      <td>8.50</td>\n",
       "      <td>NaN</td>\n",
       "      <td>Санкт-Петербург</td>\n",
       "      <td>38357.0</td>\n",
       "      <td>13878.0</td>\n",
       "      <td>1.0</td>\n",
       "      <td>310.0</td>\n",
       "      <td>2.0</td>\n",
       "      <td>553.0</td>\n",
       "      <td>137.0</td>\n",
       "    </tr>\n",
       "    <tr>\n",
       "      <th>11</th>\n",
       "      <td>9</td>\n",
       "      <td>3300000.0</td>\n",
       "      <td>44.00</td>\n",
       "      <td>2018-08-27T00:00:00</td>\n",
       "      <td>2</td>\n",
       "      <td>NaN</td>\n",
       "      <td>5.0</td>\n",
       "      <td>31.00</td>\n",
       "      <td>4</td>\n",
       "      <td>False</td>\n",
       "      <td>...</td>\n",
       "      <td>6.00</td>\n",
       "      <td>1.0</td>\n",
       "      <td>Ломоносов</td>\n",
       "      <td>48252.0</td>\n",
       "      <td>51677.0</td>\n",
       "      <td>0.0</td>\n",
       "      <td>NaN</td>\n",
       "      <td>0.0</td>\n",
       "      <td>NaN</td>\n",
       "      <td>7.0</td>\n",
       "    </tr>\n",
       "    <tr>\n",
       "      <th>12</th>\n",
       "      <td>10</td>\n",
       "      <td>3890000.0</td>\n",
       "      <td>54.00</td>\n",
       "      <td>2016-06-30T00:00:00</td>\n",
       "      <td>2</td>\n",
       "      <td>NaN</td>\n",
       "      <td>5.0</td>\n",
       "      <td>30.00</td>\n",
       "      <td>5</td>\n",
       "      <td>NaN</td>\n",
       "      <td>...</td>\n",
       "      <td>9.00</td>\n",
       "      <td>0.0</td>\n",
       "      <td>Сертолово</td>\n",
       "      <td>NaN</td>\n",
       "      <td>NaN</td>\n",
       "      <td>NaN</td>\n",
       "      <td>NaN</td>\n",
       "      <td>NaN</td>\n",
       "      <td>NaN</td>\n",
       "      <td>90.0</td>\n",
       "    </tr>\n",
       "    <tr>\n",
       "      <th>13</th>\n",
       "      <td>20</td>\n",
       "      <td>3550000.0</td>\n",
       "      <td>42.80</td>\n",
       "      <td>2017-07-01T00:00:00</td>\n",
       "      <td>2</td>\n",
       "      <td>2.56</td>\n",
       "      <td>5.0</td>\n",
       "      <td>27.00</td>\n",
       "      <td>5</td>\n",
       "      <td>NaN</td>\n",
       "      <td>...</td>\n",
       "      <td>5.20</td>\n",
       "      <td>1.0</td>\n",
       "      <td>Петергоф</td>\n",
       "      <td>37868.0</td>\n",
       "      <td>33058.0</td>\n",
       "      <td>1.0</td>\n",
       "      <td>294.0</td>\n",
       "      <td>3.0</td>\n",
       "      <td>298.0</td>\n",
       "      <td>366.0</td>\n",
       "    </tr>\n",
       "    <tr>\n",
       "      <th>14</th>\n",
       "      <td>1</td>\n",
       "      <td>4400000.0</td>\n",
       "      <td>36.00</td>\n",
       "      <td>2016-06-23T00:00:00</td>\n",
       "      <td>1</td>\n",
       "      <td>NaN</td>\n",
       "      <td>6.0</td>\n",
       "      <td>17.00</td>\n",
       "      <td>1</td>\n",
       "      <td>NaN</td>\n",
       "      <td>...</td>\n",
       "      <td>8.00</td>\n",
       "      <td>0.0</td>\n",
       "      <td>Пушкин</td>\n",
       "      <td>20782.0</td>\n",
       "      <td>30759.0</td>\n",
       "      <td>0.0</td>\n",
       "      <td>NaN</td>\n",
       "      <td>1.0</td>\n",
       "      <td>96.0</td>\n",
       "      <td>203.0</td>\n",
       "    </tr>\n",
       "    <tr>\n",
       "      <th>15</th>\n",
       "      <td>16</td>\n",
       "      <td>4650000.0</td>\n",
       "      <td>39.00</td>\n",
       "      <td>2017-11-18T00:00:00</td>\n",
       "      <td>1</td>\n",
       "      <td>NaN</td>\n",
       "      <td>14.0</td>\n",
       "      <td>20.50</td>\n",
       "      <td>5</td>\n",
       "      <td>NaN</td>\n",
       "      <td>...</td>\n",
       "      <td>7.60</td>\n",
       "      <td>1.0</td>\n",
       "      <td>Санкт-Петербург</td>\n",
       "      <td>12900.0</td>\n",
       "      <td>14259.0</td>\n",
       "      <td>1.0</td>\n",
       "      <td>590.0</td>\n",
       "      <td>1.0</td>\n",
       "      <td>296.0</td>\n",
       "      <td>19.0</td>\n",
       "    </tr>\n",
       "    <tr>\n",
       "      <th>16</th>\n",
       "      <td>11</td>\n",
       "      <td>6700000.0</td>\n",
       "      <td>82.00</td>\n",
       "      <td>2017-11-23T00:00:00</td>\n",
       "      <td>3</td>\n",
       "      <td>3.05</td>\n",
       "      <td>5.0</td>\n",
       "      <td>55.60</td>\n",
       "      <td>1</td>\n",
       "      <td>NaN</td>\n",
       "      <td>...</td>\n",
       "      <td>9.00</td>\n",
       "      <td>NaN</td>\n",
       "      <td>Санкт-Петербург</td>\n",
       "      <td>22108.0</td>\n",
       "      <td>10698.0</td>\n",
       "      <td>3.0</td>\n",
       "      <td>420.0</td>\n",
       "      <td>0.0</td>\n",
       "      <td>NaN</td>\n",
       "      <td>397.0</td>\n",
       "    </tr>\n",
       "    <tr>\n",
       "      <th>17</th>\n",
       "      <td>6</td>\n",
       "      <td>4180000.0</td>\n",
       "      <td>36.00</td>\n",
       "      <td>2016-09-09T00:00:00</td>\n",
       "      <td>1</td>\n",
       "      <td>NaN</td>\n",
       "      <td>17.0</td>\n",
       "      <td>16.50</td>\n",
       "      <td>7</td>\n",
       "      <td>NaN</td>\n",
       "      <td>...</td>\n",
       "      <td>11.00</td>\n",
       "      <td>1.0</td>\n",
       "      <td>Санкт-Петербург</td>\n",
       "      <td>33564.0</td>\n",
       "      <td>14616.0</td>\n",
       "      <td>0.0</td>\n",
       "      <td>NaN</td>\n",
       "      <td>1.0</td>\n",
       "      <td>859.0</td>\n",
       "      <td>571.0</td>\n",
       "    </tr>\n",
       "    <tr>\n",
       "      <th>18</th>\n",
       "      <td>8</td>\n",
       "      <td>3250000.0</td>\n",
       "      <td>31.00</td>\n",
       "      <td>2017-01-27T00:00:00</td>\n",
       "      <td>1</td>\n",
       "      <td>2.50</td>\n",
       "      <td>5.0</td>\n",
       "      <td>19.40</td>\n",
       "      <td>2</td>\n",
       "      <td>NaN</td>\n",
       "      <td>...</td>\n",
       "      <td>5.60</td>\n",
       "      <td>1.0</td>\n",
       "      <td>Санкт-Петербург</td>\n",
       "      <td>44060.0</td>\n",
       "      <td>10842.0</td>\n",
       "      <td>1.0</td>\n",
       "      <td>759.0</td>\n",
       "      <td>0.0</td>\n",
       "      <td>NaN</td>\n",
       "      <td>168.0</td>\n",
       "    </tr>\n",
       "    <tr>\n",
       "      <th>19</th>\n",
       "      <td>16</td>\n",
       "      <td>14200000.0</td>\n",
       "      <td>121.00</td>\n",
       "      <td>2019-01-09T00:00:00</td>\n",
       "      <td>3</td>\n",
       "      <td>2.75</td>\n",
       "      <td>16.0</td>\n",
       "      <td>76.00</td>\n",
       "      <td>8</td>\n",
       "      <td>NaN</td>\n",
       "      <td>...</td>\n",
       "      <td>12.00</td>\n",
       "      <td>NaN</td>\n",
       "      <td>Санкт-Петербург</td>\n",
       "      <td>38900.0</td>\n",
       "      <td>12843.0</td>\n",
       "      <td>0.0</td>\n",
       "      <td>NaN</td>\n",
       "      <td>0.0</td>\n",
       "      <td>NaN</td>\n",
       "      <td>97.0</td>\n",
       "    </tr>\n",
       "  </tbody>\n",
       "</table>\n",
       "<p>20 rows × 22 columns</p>\n",
       "</div>"
      ],
      "text/plain": [
       "    total_images  last_price  total_area first_day_exposition  rooms  \\\n",
       "0             20  13000000.0      108.00  2019-03-07T00:00:00      3   \n",
       "1              7   3350000.0       40.40  2018-12-04T00:00:00      1   \n",
       "2             10   5196000.0       56.00  2015-08-20T00:00:00      2   \n",
       "3              0  64900000.0      159.00  2015-07-24T00:00:00      3   \n",
       "4              2  10000000.0      100.00  2018-06-19T00:00:00      2   \n",
       "5             10   2890000.0       30.40  2018-09-10T00:00:00      1   \n",
       "6              6   3700000.0       37.30  2017-11-02T00:00:00      1   \n",
       "7              5   7915000.0       71.60  2019-04-18T00:00:00      2   \n",
       "8             20   2900000.0       33.16  2018-05-23T00:00:00      1   \n",
       "9             18   5400000.0       61.00  2017-02-26T00:00:00      3   \n",
       "10             5   5050000.0       39.60  2017-11-16T00:00:00      1   \n",
       "11             9   3300000.0       44.00  2018-08-27T00:00:00      2   \n",
       "12            10   3890000.0       54.00  2016-06-30T00:00:00      2   \n",
       "13            20   3550000.0       42.80  2017-07-01T00:00:00      2   \n",
       "14             1   4400000.0       36.00  2016-06-23T00:00:00      1   \n",
       "15            16   4650000.0       39.00  2017-11-18T00:00:00      1   \n",
       "16            11   6700000.0       82.00  2017-11-23T00:00:00      3   \n",
       "17             6   4180000.0       36.00  2016-09-09T00:00:00      1   \n",
       "18             8   3250000.0       31.00  2017-01-27T00:00:00      1   \n",
       "19            16  14200000.0      121.00  2019-01-09T00:00:00      3   \n",
       "\n",
       "    ceiling_height  floors_total  living_area  floor is_apartment  ...  \\\n",
       "0             2.70          16.0        51.00      8          NaN  ...   \n",
       "1              NaN          11.0        18.60      1          NaN  ...   \n",
       "2              NaN           5.0        34.30      4          NaN  ...   \n",
       "3              NaN          14.0          NaN      9          NaN  ...   \n",
       "4             3.03          14.0        32.00     13          NaN  ...   \n",
       "5              NaN          12.0        14.40      5          NaN  ...   \n",
       "6              NaN          26.0        10.60      6          NaN  ...   \n",
       "7              NaN          24.0          NaN     22          NaN  ...   \n",
       "8              NaN          27.0        15.43     26          NaN  ...   \n",
       "9             2.50           9.0        43.60      7          NaN  ...   \n",
       "10            2.67          12.0        20.30      3          NaN  ...   \n",
       "11             NaN           5.0        31.00      4        False  ...   \n",
       "12             NaN           5.0        30.00      5          NaN  ...   \n",
       "13            2.56           5.0        27.00      5          NaN  ...   \n",
       "14             NaN           6.0        17.00      1          NaN  ...   \n",
       "15             NaN          14.0        20.50      5          NaN  ...   \n",
       "16            3.05           5.0        55.60      1          NaN  ...   \n",
       "17             NaN          17.0        16.50      7          NaN  ...   \n",
       "18            2.50           5.0        19.40      2          NaN  ...   \n",
       "19            2.75          16.0        76.00      8          NaN  ...   \n",
       "\n",
       "    kitchen_area  balcony              locality_name  airports_nearest  \\\n",
       "0          25.00      NaN            Санкт-Петербург           18863.0   \n",
       "1          11.00      2.0             посёлок Шушары           12817.0   \n",
       "2           8.30      0.0            Санкт-Петербург           21741.0   \n",
       "3            NaN      0.0            Санкт-Петербург           28098.0   \n",
       "4          41.00      NaN            Санкт-Петербург           31856.0   \n",
       "5           9.10      NaN  городской посёлок Янино-1               NaN   \n",
       "6          14.40      1.0          посёлок Парголово           52996.0   \n",
       "7          18.90      2.0            Санкт-Петербург           23982.0   \n",
       "8           8.81      NaN             посёлок Мурино               NaN   \n",
       "9           6.50      2.0            Санкт-Петербург           50898.0   \n",
       "10          8.50      NaN            Санкт-Петербург           38357.0   \n",
       "11          6.00      1.0                  Ломоносов           48252.0   \n",
       "12          9.00      0.0                  Сертолово               NaN   \n",
       "13          5.20      1.0                   Петергоф           37868.0   \n",
       "14          8.00      0.0                     Пушкин           20782.0   \n",
       "15          7.60      1.0            Санкт-Петербург           12900.0   \n",
       "16          9.00      NaN            Санкт-Петербург           22108.0   \n",
       "17         11.00      1.0            Санкт-Петербург           33564.0   \n",
       "18          5.60      1.0            Санкт-Петербург           44060.0   \n",
       "19         12.00      NaN            Санкт-Петербург           38900.0   \n",
       "\n",
       "   cityCenters_nearest  parks_around3000  parks_nearest  ponds_around3000  \\\n",
       "0              16028.0               1.0          482.0               2.0   \n",
       "1              18603.0               0.0            NaN               0.0   \n",
       "2              13933.0               1.0           90.0               2.0   \n",
       "3               6800.0               2.0           84.0               3.0   \n",
       "4               8098.0               2.0          112.0               1.0   \n",
       "5                  NaN               NaN            NaN               NaN   \n",
       "6              19143.0               0.0            NaN               0.0   \n",
       "7              11634.0               0.0            NaN               0.0   \n",
       "8                  NaN               NaN            NaN               NaN   \n",
       "9              15008.0               0.0            NaN               0.0   \n",
       "10             13878.0               1.0          310.0               2.0   \n",
       "11             51677.0               0.0            NaN               0.0   \n",
       "12                 NaN               NaN            NaN               NaN   \n",
       "13             33058.0               1.0          294.0               3.0   \n",
       "14             30759.0               0.0            NaN               1.0   \n",
       "15             14259.0               1.0          590.0               1.0   \n",
       "16             10698.0               3.0          420.0               0.0   \n",
       "17             14616.0               0.0            NaN               1.0   \n",
       "18             10842.0               1.0          759.0               0.0   \n",
       "19             12843.0               0.0            NaN               0.0   \n",
       "\n",
       "    ponds_nearest  days_exposition  \n",
       "0           755.0              NaN  \n",
       "1             NaN             81.0  \n",
       "2           574.0            558.0  \n",
       "3           234.0            424.0  \n",
       "4            48.0            121.0  \n",
       "5             NaN             55.0  \n",
       "6             NaN            155.0  \n",
       "7             NaN              NaN  \n",
       "8             NaN            189.0  \n",
       "9             NaN            289.0  \n",
       "10          553.0            137.0  \n",
       "11            NaN              7.0  \n",
       "12            NaN             90.0  \n",
       "13          298.0            366.0  \n",
       "14           96.0            203.0  \n",
       "15          296.0             19.0  \n",
       "16            NaN            397.0  \n",
       "17          859.0            571.0  \n",
       "18            NaN            168.0  \n",
       "19            NaN             97.0  \n",
       "\n",
       "[20 rows x 22 columns]"
      ]
     },
     "execution_count": 5,
     "metadata": {},
     "output_type": "execute_result"
    }
   ],
   "source": [
    "df.head(20)"
   ]
  },
  {
   "cell_type": "markdown",
   "metadata": {},
   "source": [
    "---\n",
    "## Разведочный анализ данных (exploratory data analysis, EDA)"
   ]
  },
  {
   "cell_type": "markdown",
   "metadata": {},
   "source": [
    "Выведем основную информацию о DF, для получения первичных сведений об имеющихся данных."
   ]
  },
  {
   "cell_type": "code",
   "execution_count": 6,
   "metadata": {
    "pycharm": {
     "is_executing": true
    }
   },
   "outputs": [
    {
     "name": "stdout",
     "output_type": "stream",
     "text": [
      "<class 'pandas.core.frame.DataFrame'>\n",
      "RangeIndex: 23699 entries, 0 to 23698\n",
      "Data columns (total 22 columns):\n",
      " #   Column                Non-Null Count  Dtype  \n",
      "---  ------                --------------  -----  \n",
      " 0   total_images          23699 non-null  int64  \n",
      " 1   last_price            23699 non-null  float64\n",
      " 2   total_area            23699 non-null  float64\n",
      " 3   first_day_exposition  23699 non-null  object \n",
      " 4   rooms                 23699 non-null  int64  \n",
      " 5   ceiling_height        14504 non-null  float64\n",
      " 6   floors_total          23613 non-null  float64\n",
      " 7   living_area           21796 non-null  float64\n",
      " 8   floor                 23699 non-null  int64  \n",
      " 9   is_apartment          2775 non-null   object \n",
      " 10  studio                23699 non-null  bool   \n",
      " 11  open_plan             23699 non-null  bool   \n",
      " 12  kitchen_area          21421 non-null  float64\n",
      " 13  balcony               12180 non-null  float64\n",
      " 14  locality_name         23650 non-null  object \n",
      " 15  airports_nearest      18157 non-null  float64\n",
      " 16  cityCenters_nearest   18180 non-null  float64\n",
      " 17  parks_around3000      18181 non-null  float64\n",
      " 18  parks_nearest         8079 non-null   float64\n",
      " 19  ponds_around3000      18181 non-null  float64\n",
      " 20  ponds_nearest         9110 non-null   float64\n",
      " 21  days_exposition       20518 non-null  float64\n",
      "dtypes: bool(2), float64(14), int64(3), object(3)\n",
      "memory usage: 3.7+ MB\n"
     ]
    }
   ],
   "source": [
    "#  Вывод осуществим с помощью метода `info()`\n",
    "df.info()"
   ]
  },
  {
   "cell_type": "markdown",
   "metadata": {},
   "source": [
    "---\n",
    "### *Переименование столбцов*"
   ]
  },
  {
   "cell_type": "markdown",
   "metadata": {},
   "source": [
    "Необходимо привести в нормальный вид названия трех столбцов: cityCenters_nearest, parks_around3000, ponds_around3000."
   ]
  },
  {
   "cell_type": "code",
   "execution_count": 7,
   "metadata": {
    "pycharm": {
     "is_executing": true
    }
   },
   "outputs": [],
   "source": [
    "df = (\n",
    "    df\n",
    "    .rename(columns={'cityCenters_nearest': 'city_centers_nearest',\n",
    "                     'parks_around3000': 'parks_around_3000',\n",
    "                     'ponds_around3000': 'ponds_around_3000'})\n",
    ")"
   ]
  },
  {
   "cell_type": "markdown",
   "metadata": {},
   "source": [
    "### *Первичные выводы после изучения общей информации о данных и ознакомления с описанием имеющихся данных.*"
   ]
  },
  {
   "cell_type": "markdown",
   "metadata": {},
   "source": [
    "<div style=\"border:solid green 2px; padding: 5px\">\n",
    "\n",
    "__*После изучения общей информации о предоставленных данных:*__\n",
    "\n",
    "* Данные можно разделить по методу их получения: введенные пользователем (вписаны пользователем) и картографические (получены автоматически на основе картографических данных), системные (были получены из бд, где фиксируется состояние объявлений). Это стоит держать в голове для верного понимания механизма возникновения пропусков в каждом конкретном случае.\n",
    "    * Пользовательские данные (введенные пользователем) находятся в следующих столбцах:\n",
    "        * balcony\n",
    "        * ceiling_height\n",
    "        * floor\n",
    "        * floors_total\n",
    "        * is_apartment\n",
    "        * kitchen_area\n",
    "        * living_area\n",
    "        * locality_name\n",
    "        * open_plan\n",
    "        * rooms\n",
    "        * studio\n",
    "        * total_area\n",
    "        * total_images\n",
    "        * last_price\n",
    "    * Картографические (получены автоматически на основе картографических данных) находятся в следующих столбцах:\n",
    "        * airports_nearest\n",
    "        * city_centers_nearest\n",
    "        * parks_around_3000\n",
    "        * parks_nearest\n",
    "        * pounds_around_3000\n",
    "        * pounds_nearest\n",
    "    * Системные (были получены из бд, где фиксируется состояние объявлений) находятся в следующих столбцах:\n",
    "        * firs_day_exposition\n",
    "        * days_exposition\n",
    "\n",
    "* В 14 столбцах обнаружены пропуски значений: в 12 столбцах пропущены количественные значения, в одном столбце `locality_name` пропущены номинальные значения, в одном столбце (`is_apartment`) пропущены бинарные (булевы) значения."
   ]
  },
  {
   "cell_type": "markdown",
   "metadata": {},
   "source": [
    "Проведем первичное ознакомление с количественным данными."
   ]
  },
  {
   "cell_type": "code",
   "execution_count": 8,
   "metadata": {
    "pycharm": {
     "is_executing": true
    }
   },
   "outputs": [
    {
     "data": {
      "text/html": [
       "<div>\n",
       "<style scoped>\n",
       "    .dataframe tbody tr th:only-of-type {\n",
       "        vertical-align: middle;\n",
       "    }\n",
       "\n",
       "    .dataframe tbody tr th {\n",
       "        vertical-align: top;\n",
       "    }\n",
       "\n",
       "    .dataframe thead th {\n",
       "        text-align: right;\n",
       "    }\n",
       "</style>\n",
       "<table border=\"1\" class=\"dataframe\">\n",
       "  <thead>\n",
       "    <tr style=\"text-align: right;\">\n",
       "      <th></th>\n",
       "      <th>total_images</th>\n",
       "      <th>last_price</th>\n",
       "      <th>total_area</th>\n",
       "      <th>rooms</th>\n",
       "      <th>ceiling_height</th>\n",
       "      <th>floors_total</th>\n",
       "      <th>living_area</th>\n",
       "      <th>floor</th>\n",
       "      <th>kitchen_area</th>\n",
       "      <th>balcony</th>\n",
       "      <th>airports_nearest</th>\n",
       "      <th>city_centers_nearest</th>\n",
       "      <th>parks_around_3000</th>\n",
       "      <th>parks_nearest</th>\n",
       "      <th>ponds_around_3000</th>\n",
       "      <th>ponds_nearest</th>\n",
       "      <th>days_exposition</th>\n",
       "    </tr>\n",
       "  </thead>\n",
       "  <tbody>\n",
       "    <tr>\n",
       "      <th>count</th>\n",
       "      <td>23699.000000</td>\n",
       "      <td>2.369900e+04</td>\n",
       "      <td>23699.000000</td>\n",
       "      <td>23699.000000</td>\n",
       "      <td>14504.000000</td>\n",
       "      <td>23613.000000</td>\n",
       "      <td>21796.000000</td>\n",
       "      <td>23699.000000</td>\n",
       "      <td>21421.000000</td>\n",
       "      <td>12180.000000</td>\n",
       "      <td>18157.000000</td>\n",
       "      <td>18180.000000</td>\n",
       "      <td>18181.000000</td>\n",
       "      <td>8079.000000</td>\n",
       "      <td>18181.000000</td>\n",
       "      <td>9110.000000</td>\n",
       "      <td>20518.000000</td>\n",
       "    </tr>\n",
       "    <tr>\n",
       "      <th>mean</th>\n",
       "      <td>9.858475</td>\n",
       "      <td>6.541549e+06</td>\n",
       "      <td>60.348651</td>\n",
       "      <td>2.070636</td>\n",
       "      <td>2.771499</td>\n",
       "      <td>10.673824</td>\n",
       "      <td>34.457852</td>\n",
       "      <td>5.892358</td>\n",
       "      <td>10.569807</td>\n",
       "      <td>1.150082</td>\n",
       "      <td>28793.672193</td>\n",
       "      <td>14191.277833</td>\n",
       "      <td>0.611408</td>\n",
       "      <td>490.804555</td>\n",
       "      <td>0.770255</td>\n",
       "      <td>517.980900</td>\n",
       "      <td>180.888634</td>\n",
       "    </tr>\n",
       "    <tr>\n",
       "      <th>std</th>\n",
       "      <td>5.682529</td>\n",
       "      <td>1.088701e+07</td>\n",
       "      <td>35.654083</td>\n",
       "      <td>1.078405</td>\n",
       "      <td>1.261056</td>\n",
       "      <td>6.597173</td>\n",
       "      <td>22.030445</td>\n",
       "      <td>4.885249</td>\n",
       "      <td>5.905438</td>\n",
       "      <td>1.071300</td>\n",
       "      <td>12630.880622</td>\n",
       "      <td>8608.386210</td>\n",
       "      <td>0.802074</td>\n",
       "      <td>342.317995</td>\n",
       "      <td>0.938346</td>\n",
       "      <td>277.720643</td>\n",
       "      <td>219.727988</td>\n",
       "    </tr>\n",
       "    <tr>\n",
       "      <th>min</th>\n",
       "      <td>0.000000</td>\n",
       "      <td>1.219000e+04</td>\n",
       "      <td>12.000000</td>\n",
       "      <td>0.000000</td>\n",
       "      <td>1.000000</td>\n",
       "      <td>1.000000</td>\n",
       "      <td>2.000000</td>\n",
       "      <td>1.000000</td>\n",
       "      <td>1.300000</td>\n",
       "      <td>0.000000</td>\n",
       "      <td>0.000000</td>\n",
       "      <td>181.000000</td>\n",
       "      <td>0.000000</td>\n",
       "      <td>1.000000</td>\n",
       "      <td>0.000000</td>\n",
       "      <td>13.000000</td>\n",
       "      <td>1.000000</td>\n",
       "    </tr>\n",
       "    <tr>\n",
       "      <th>25%</th>\n",
       "      <td>6.000000</td>\n",
       "      <td>3.400000e+06</td>\n",
       "      <td>40.000000</td>\n",
       "      <td>1.000000</td>\n",
       "      <td>2.520000</td>\n",
       "      <td>5.000000</td>\n",
       "      <td>18.600000</td>\n",
       "      <td>2.000000</td>\n",
       "      <td>7.000000</td>\n",
       "      <td>0.000000</td>\n",
       "      <td>18585.000000</td>\n",
       "      <td>9238.000000</td>\n",
       "      <td>0.000000</td>\n",
       "      <td>288.000000</td>\n",
       "      <td>0.000000</td>\n",
       "      <td>294.000000</td>\n",
       "      <td>45.000000</td>\n",
       "    </tr>\n",
       "    <tr>\n",
       "      <th>50%</th>\n",
       "      <td>9.000000</td>\n",
       "      <td>4.650000e+06</td>\n",
       "      <td>52.000000</td>\n",
       "      <td>2.000000</td>\n",
       "      <td>2.650000</td>\n",
       "      <td>9.000000</td>\n",
       "      <td>30.000000</td>\n",
       "      <td>4.000000</td>\n",
       "      <td>9.100000</td>\n",
       "      <td>1.000000</td>\n",
       "      <td>26726.000000</td>\n",
       "      <td>13098.500000</td>\n",
       "      <td>0.000000</td>\n",
       "      <td>455.000000</td>\n",
       "      <td>1.000000</td>\n",
       "      <td>502.000000</td>\n",
       "      <td>95.000000</td>\n",
       "    </tr>\n",
       "    <tr>\n",
       "      <th>75%</th>\n",
       "      <td>14.000000</td>\n",
       "      <td>6.800000e+06</td>\n",
       "      <td>69.900000</td>\n",
       "      <td>3.000000</td>\n",
       "      <td>2.800000</td>\n",
       "      <td>16.000000</td>\n",
       "      <td>42.300000</td>\n",
       "      <td>8.000000</td>\n",
       "      <td>12.000000</td>\n",
       "      <td>2.000000</td>\n",
       "      <td>37273.000000</td>\n",
       "      <td>16293.000000</td>\n",
       "      <td>1.000000</td>\n",
       "      <td>612.000000</td>\n",
       "      <td>1.000000</td>\n",
       "      <td>729.000000</td>\n",
       "      <td>232.000000</td>\n",
       "    </tr>\n",
       "    <tr>\n",
       "      <th>max</th>\n",
       "      <td>50.000000</td>\n",
       "      <td>7.630000e+08</td>\n",
       "      <td>900.000000</td>\n",
       "      <td>19.000000</td>\n",
       "      <td>100.000000</td>\n",
       "      <td>60.000000</td>\n",
       "      <td>409.700000</td>\n",
       "      <td>33.000000</td>\n",
       "      <td>112.000000</td>\n",
       "      <td>5.000000</td>\n",
       "      <td>84869.000000</td>\n",
       "      <td>65968.000000</td>\n",
       "      <td>3.000000</td>\n",
       "      <td>3190.000000</td>\n",
       "      <td>3.000000</td>\n",
       "      <td>1344.000000</td>\n",
       "      <td>1580.000000</td>\n",
       "    </tr>\n",
       "  </tbody>\n",
       "</table>\n",
       "</div>"
      ],
      "text/plain": [
       "       total_images    last_price    total_area         rooms  ceiling_height  \\\n",
       "count  23699.000000  2.369900e+04  23699.000000  23699.000000    14504.000000   \n",
       "mean       9.858475  6.541549e+06     60.348651      2.070636        2.771499   \n",
       "std        5.682529  1.088701e+07     35.654083      1.078405        1.261056   \n",
       "min        0.000000  1.219000e+04     12.000000      0.000000        1.000000   \n",
       "25%        6.000000  3.400000e+06     40.000000      1.000000        2.520000   \n",
       "50%        9.000000  4.650000e+06     52.000000      2.000000        2.650000   \n",
       "75%       14.000000  6.800000e+06     69.900000      3.000000        2.800000   \n",
       "max       50.000000  7.630000e+08    900.000000     19.000000      100.000000   \n",
       "\n",
       "       floors_total   living_area         floor  kitchen_area       balcony  \\\n",
       "count  23613.000000  21796.000000  23699.000000  21421.000000  12180.000000   \n",
       "mean      10.673824     34.457852      5.892358     10.569807      1.150082   \n",
       "std        6.597173     22.030445      4.885249      5.905438      1.071300   \n",
       "min        1.000000      2.000000      1.000000      1.300000      0.000000   \n",
       "25%        5.000000     18.600000      2.000000      7.000000      0.000000   \n",
       "50%        9.000000     30.000000      4.000000      9.100000      1.000000   \n",
       "75%       16.000000     42.300000      8.000000     12.000000      2.000000   \n",
       "max       60.000000    409.700000     33.000000    112.000000      5.000000   \n",
       "\n",
       "       airports_nearest  city_centers_nearest  parks_around_3000  \\\n",
       "count      18157.000000          18180.000000       18181.000000   \n",
       "mean       28793.672193          14191.277833           0.611408   \n",
       "std        12630.880622           8608.386210           0.802074   \n",
       "min            0.000000            181.000000           0.000000   \n",
       "25%        18585.000000           9238.000000           0.000000   \n",
       "50%        26726.000000          13098.500000           0.000000   \n",
       "75%        37273.000000          16293.000000           1.000000   \n",
       "max        84869.000000          65968.000000           3.000000   \n",
       "\n",
       "       parks_nearest  ponds_around_3000  ponds_nearest  days_exposition  \n",
       "count    8079.000000       18181.000000    9110.000000     20518.000000  \n",
       "mean      490.804555           0.770255     517.980900       180.888634  \n",
       "std       342.317995           0.938346     277.720643       219.727988  \n",
       "min         1.000000           0.000000      13.000000         1.000000  \n",
       "25%       288.000000           0.000000     294.000000        45.000000  \n",
       "50%       455.000000           1.000000     502.000000        95.000000  \n",
       "75%       612.000000           1.000000     729.000000       232.000000  \n",
       "max      3190.000000           3.000000    1344.000000      1580.000000  "
      ]
     },
     "execution_count": 8,
     "metadata": {},
     "output_type": "execute_result"
    }
   ],
   "source": [
    "df.describe()"
   ]
  },
  {
   "cell_type": "markdown",
   "metadata": {},
   "source": [
    "---\n",
    "## Предварительная обработка данных (preprocessing)"
   ]
  },
  {
   "cell_type": "markdown",
   "metadata": {},
   "source": [
    "Переведем значения столбца `last_price` в более удобный для чтения вид, выразим значения в млн. рублей. Также преобразуем значения столбцов `airports_nearest` и `city_centers_nearest` выразим значения в км."
   ]
  },
  {
   "cell_type": "code",
   "execution_count": 9,
   "metadata": {
    "pycharm": {
     "is_executing": true
    }
   },
   "outputs": [],
   "source": [
    "df[['city_centers_nearest', 'airports_nearest']] = df[['city_centers_nearest', 'airports_nearest']] / 1000"
   ]
  },
  {
   "cell_type": "code",
   "execution_count": 10,
   "metadata": {
    "pycharm": {
     "is_executing": true
    }
   },
   "outputs": [],
   "source": [
    "df['last_price'] = df['last_price'] / 1000000"
   ]
  },
  {
   "cell_type": "markdown",
   "metadata": {},
   "source": []
  },
  {
   "cell_type": "markdown",
   "metadata": {},
   "source": [
    "---\n",
    "### *Обработка пропусков*"
   ]
  },
  {
   "cell_type": "markdown",
   "metadata": {},
   "source": [
    "В нескольких столбцах имеются пропущенные значения. Отобразим соотношение пропущенных значений к общему количеству строк в процентах, чтобы увидеть, какой объем данных пропущен в каждом из параметров."
   ]
  },
  {
   "cell_type": "code",
   "execution_count": 11,
   "metadata": {
    "pycharm": {
     "is_executing": true
    }
   },
   "outputs": [
    {
     "data": {
      "text/html": [
       "<style  type=\"text/css\" >\n",
       "#T_94307_row0_col0{\n",
       "            background-color:  #3b4cc0;\n",
       "            color:  #f1f1f1;\n",
       "        }#T_94307_row1_col0{\n",
       "            background-color:  #4257c9;\n",
       "            color:  #f1f1f1;\n",
       "        }#T_94307_row2_col0{\n",
       "            background-color:  #4e68d8;\n",
       "            color:  #000000;\n",
       "        }#T_94307_row3_col0,#T_94307_row4_col0,#T_94307_row5_col0,#T_94307_row6_col0{\n",
       "            background-color:  #779af7;\n",
       "            color:  #000000;\n",
       "        }#T_94307_row7_col0{\n",
       "            background-color:  #bcd2f7;\n",
       "            color:  #000000;\n",
       "        }#T_94307_row8_col0{\n",
       "            background-color:  #e0dbd8;\n",
       "            color:  #000000;\n",
       "        }#T_94307_row9_col0{\n",
       "            background-color:  #f7b599;\n",
       "            color:  #000000;\n",
       "        }#T_94307_row10_col0{\n",
       "            background-color:  #f6a385;\n",
       "            color:  #000000;\n",
       "        }#T_94307_row11_col0{\n",
       "            background-color:  #b40426;\n",
       "            color:  #f1f1f1;\n",
       "        }</style><table id=\"T_94307_\" ><thead>    <tr>        <th class=\"blank level0\" ></th>        <th class=\"col_heading level0 col0\" >space</th>    </tr></thead><tbody>\n",
       "                <tr>\n",
       "                        <th id=\"T_94307_level0_row0\" class=\"row_heading level0 row0\" >living_area</th>\n",
       "                        <td id=\"T_94307_row0_col0\" class=\"data row0 col0\" >8.000000</td>\n",
       "            </tr>\n",
       "            <tr>\n",
       "                        <th id=\"T_94307_level0_row1\" class=\"row_heading level0 row1\" >kitchen_area</th>\n",
       "                        <td id=\"T_94307_row1_col0\" class=\"data row1 col0\" >10.000000</td>\n",
       "            </tr>\n",
       "            <tr>\n",
       "                        <th id=\"T_94307_level0_row2\" class=\"row_heading level0 row2\" >days_exposition</th>\n",
       "                        <td id=\"T_94307_row2_col0\" class=\"data row2 col0\" >13.000000</td>\n",
       "            </tr>\n",
       "            <tr>\n",
       "                        <th id=\"T_94307_level0_row3\" class=\"row_heading level0 row3\" >airports_nearest</th>\n",
       "                        <td id=\"T_94307_row3_col0\" class=\"data row3 col0\" >23.000000</td>\n",
       "            </tr>\n",
       "            <tr>\n",
       "                        <th id=\"T_94307_level0_row4\" class=\"row_heading level0 row4\" >city_centers_nearest</th>\n",
       "                        <td id=\"T_94307_row4_col0\" class=\"data row4 col0\" >23.000000</td>\n",
       "            </tr>\n",
       "            <tr>\n",
       "                        <th id=\"T_94307_level0_row5\" class=\"row_heading level0 row5\" >parks_around_3000</th>\n",
       "                        <td id=\"T_94307_row5_col0\" class=\"data row5 col0\" >23.000000</td>\n",
       "            </tr>\n",
       "            <tr>\n",
       "                        <th id=\"T_94307_level0_row6\" class=\"row_heading level0 row6\" >ponds_around_3000</th>\n",
       "                        <td id=\"T_94307_row6_col0\" class=\"data row6 col0\" >23.000000</td>\n",
       "            </tr>\n",
       "            <tr>\n",
       "                        <th id=\"T_94307_level0_row7\" class=\"row_heading level0 row7\" >ceiling_height</th>\n",
       "                        <td id=\"T_94307_row7_col0\" class=\"data row7 col0\" >39.000000</td>\n",
       "            </tr>\n",
       "            <tr>\n",
       "                        <th id=\"T_94307_level0_row8\" class=\"row_heading level0 row8\" >balcony</th>\n",
       "                        <td id=\"T_94307_row8_col0\" class=\"data row8 col0\" >49.000000</td>\n",
       "            </tr>\n",
       "            <tr>\n",
       "                        <th id=\"T_94307_level0_row9\" class=\"row_heading level0 row9\" >ponds_nearest</th>\n",
       "                        <td id=\"T_94307_row9_col0\" class=\"data row9 col0\" >62.000000</td>\n",
       "            </tr>\n",
       "            <tr>\n",
       "                        <th id=\"T_94307_level0_row10\" class=\"row_heading level0 row10\" >parks_nearest</th>\n",
       "                        <td id=\"T_94307_row10_col0\" class=\"data row10 col0\" >66.000000</td>\n",
       "            </tr>\n",
       "            <tr>\n",
       "                        <th id=\"T_94307_level0_row11\" class=\"row_heading level0 row11\" >is_apartment</th>\n",
       "                        <td id=\"T_94307_row11_col0\" class=\"data row11 col0\" >88.000000</td>\n",
       "            </tr>\n",
       "    </tbody></table>"
      ],
      "text/plain": [
       "<pandas.io.formats.style.Styler at 0x1d7e8ae3be0>"
      ]
     },
     "execution_count": 11,
     "metadata": {},
     "output_type": "execute_result"
    }
   ],
   "source": [
    "pd.DataFrame(round(df.isna().mean() * 100)) \\\n",
    "    .rename(columns={0: 'space'}).query('space > 0') \\\n",
    "    .sort_values(by='space', ascending=True) \\\n",
    "    .style.background_gradient('coolwarm')"
   ]
  },
  {
   "cell_type": "markdown",
   "metadata": {},
   "source": [
    "Рациональным подходом будет начать восстановление пропущенных значений со столбцов, где количество пропущенных значений наименьшее, для наименьшего искажения имеющихся изначальных закономерностей в процессе восстановления пропущенных значений.\n",
    "Далее будем придерживаться этой логики и идти от наименьшего количества пропусков к наибольшему."
   ]
  },
  {
   "cell_type": "code",
   "execution_count": 12,
   "metadata": {
    "pycharm": {
     "is_executing": true
    }
   },
   "outputs": [],
   "source": [
    "# check\n",
    "# пропущенные значения бары\n",
    "\n",
    "def pass_value_barh(df):\n",
    "    try:\n",
    "        (\n",
    "            (df.isna().mean() * 100)\n",
    "            .to_frame()\n",
    "            .rename(columns={0: 'space'})\n",
    "            .query('space > 0')\n",
    "            .sort_values(by='space', ascending=True)\n",
    "            .plot(kind='barh', figsize=(19, 6), rot=-5, legend=False, fontsize=16)\n",
    "            .set_title('Пример' + \"\\n\", fontsize=22, color='SteelBlue')\n",
    "        )\n",
    "    except:\n",
    "        print('пропусков не осталось :) или произошла ошибка в первой части функции ')"
   ]
  },
  {
   "cell_type": "code",
   "execution_count": 13,
   "metadata": {
    "pycharm": {
     "is_executing": true
    }
   },
   "outputs": [
    {
     "data": {
      "image/png": "[encoded data removed]",
      "text/plain": [
       "<Figure size 1900x600 with 1 Axes>"
      ]
     },
     "metadata": {},
     "output_type": "display_data"
    }
   ],
   "source": [
    "pass_value_barh(df)"
   ]
  },
  {
   "cell_type": "markdown",
   "metadata": {},
   "source": [
    "Начнем заполнение пропусков со столбца `locality_name`.\n",
    "Сначала было предположено, что данные в этом столбце заполняются пользователями, но тогда не сходится, если бы это было так и этот столбец являлся необязательным, тогда было бы в разы больше пропущенных значений. В этом DF явно не достает обязательных данных(столбца) - точный адрес(улица и номер дома), который выставляется на продажу, иначе объявление просто не выложить. Логично предполагать, что данный столбец является обязательным для заполнения в современных приложениях (как правило, заполненные данные синхронизируются с картографическими, которые загружены в бд, что не дает пользователю возможности ввести некорректные данные). Вероятнее всего данные в localilty_name подгружаются, как метка из картографических данных, тогда есть вопросы, почему в словаре данных в бд есть двусмысленные трактовки одной и той же геопозиции.\n",
    "Обнаруженную проблематику необходимо отправить техническим специалистам."
   ]
  },
  {
   "cell_type": "code",
   "execution_count": 14,
   "metadata": {
    "pycharm": {
     "is_executing": true
    },
    "scrolled": true
   },
   "outputs": [
    {
     "data": {
      "text/html": [
       "<div>\n",
       "<style scoped>\n",
       "    .dataframe tbody tr th:only-of-type {\n",
       "        vertical-align: middle;\n",
       "    }\n",
       "\n",
       "    .dataframe tbody tr th {\n",
       "        vertical-align: top;\n",
       "    }\n",
       "\n",
       "    .dataframe thead th {\n",
       "        text-align: right;\n",
       "    }\n",
       "</style>\n",
       "<table border=\"1\" class=\"dataframe\">\n",
       "  <thead>\n",
       "    <tr style=\"text-align: right;\">\n",
       "      <th></th>\n",
       "      <th>total_images</th>\n",
       "      <th>last_price</th>\n",
       "      <th>total_area</th>\n",
       "      <th>first_day_exposition</th>\n",
       "      <th>rooms</th>\n",
       "      <th>ceiling_height</th>\n",
       "      <th>floors_total</th>\n",
       "      <th>living_area</th>\n",
       "      <th>floor</th>\n",
       "      <th>is_apartment</th>\n",
       "      <th>...</th>\n",
       "      <th>kitchen_area</th>\n",
       "      <th>balcony</th>\n",
       "      <th>locality_name</th>\n",
       "      <th>airports_nearest</th>\n",
       "      <th>city_centers_nearest</th>\n",
       "      <th>parks_around_3000</th>\n",
       "      <th>parks_nearest</th>\n",
       "      <th>ponds_around_3000</th>\n",
       "      <th>ponds_nearest</th>\n",
       "      <th>days_exposition</th>\n",
       "    </tr>\n",
       "  </thead>\n",
       "  <tbody>\n",
       "    <tr>\n",
       "      <th>1097</th>\n",
       "      <td>3</td>\n",
       "      <td>8.600000</td>\n",
       "      <td>81.70</td>\n",
       "      <td>2016-04-15T00:00:00</td>\n",
       "      <td>3</td>\n",
       "      <td>3.55</td>\n",
       "      <td>5.0</td>\n",
       "      <td>50.80</td>\n",
       "      <td>2</td>\n",
       "      <td>NaN</td>\n",
       "      <td>...</td>\n",
       "      <td>8.80</td>\n",
       "      <td>0.0</td>\n",
       "      <td>NaN</td>\n",
       "      <td>23.478</td>\n",
       "      <td>4.258</td>\n",
       "      <td>0.0</td>\n",
       "      <td>NaN</td>\n",
       "      <td>0.0</td>\n",
       "      <td>NaN</td>\n",
       "      <td>147.0</td>\n",
       "    </tr>\n",
       "    <tr>\n",
       "      <th>2033</th>\n",
       "      <td>6</td>\n",
       "      <td>5.398000</td>\n",
       "      <td>80.00</td>\n",
       "      <td>2017-05-30T00:00:00</td>\n",
       "      <td>3</td>\n",
       "      <td>NaN</td>\n",
       "      <td>4.0</td>\n",
       "      <td>42.60</td>\n",
       "      <td>2</td>\n",
       "      <td>NaN</td>\n",
       "      <td>...</td>\n",
       "      <td>18.60</td>\n",
       "      <td>0.0</td>\n",
       "      <td>NaN</td>\n",
       "      <td>NaN</td>\n",
       "      <td>NaN</td>\n",
       "      <td>NaN</td>\n",
       "      <td>NaN</td>\n",
       "      <td>NaN</td>\n",
       "      <td>NaN</td>\n",
       "      <td>34.0</td>\n",
       "    </tr>\n",
       "    <tr>\n",
       "      <th>2603</th>\n",
       "      <td>20</td>\n",
       "      <td>3.351765</td>\n",
       "      <td>42.70</td>\n",
       "      <td>2015-09-20T00:00:00</td>\n",
       "      <td>1</td>\n",
       "      <td>NaN</td>\n",
       "      <td>24.0</td>\n",
       "      <td>15.60</td>\n",
       "      <td>3</td>\n",
       "      <td>NaN</td>\n",
       "      <td>...</td>\n",
       "      <td>10.70</td>\n",
       "      <td>0.0</td>\n",
       "      <td>NaN</td>\n",
       "      <td>22.041</td>\n",
       "      <td>17.369</td>\n",
       "      <td>0.0</td>\n",
       "      <td>NaN</td>\n",
       "      <td>1.0</td>\n",
       "      <td>374.0</td>\n",
       "      <td>276.0</td>\n",
       "    </tr>\n",
       "    <tr>\n",
       "      <th>2632</th>\n",
       "      <td>2</td>\n",
       "      <td>5.130593</td>\n",
       "      <td>62.40</td>\n",
       "      <td>2015-10-11T00:00:00</td>\n",
       "      <td>2</td>\n",
       "      <td>NaN</td>\n",
       "      <td>24.0</td>\n",
       "      <td>33.10</td>\n",
       "      <td>21</td>\n",
       "      <td>NaN</td>\n",
       "      <td>...</td>\n",
       "      <td>8.20</td>\n",
       "      <td>0.0</td>\n",
       "      <td>NaN</td>\n",
       "      <td>22.041</td>\n",
       "      <td>17.369</td>\n",
       "      <td>0.0</td>\n",
       "      <td>NaN</td>\n",
       "      <td>1.0</td>\n",
       "      <td>374.0</td>\n",
       "      <td>256.0</td>\n",
       "    </tr>\n",
       "    <tr>\n",
       "      <th>3574</th>\n",
       "      <td>10</td>\n",
       "      <td>4.200000</td>\n",
       "      <td>46.50</td>\n",
       "      <td>2016-05-28T00:00:00</td>\n",
       "      <td>2</td>\n",
       "      <td>NaN</td>\n",
       "      <td>5.0</td>\n",
       "      <td>30.80</td>\n",
       "      <td>5</td>\n",
       "      <td>NaN</td>\n",
       "      <td>...</td>\n",
       "      <td>6.50</td>\n",
       "      <td>0.0</td>\n",
       "      <td>NaN</td>\n",
       "      <td>27.419</td>\n",
       "      <td>8.127</td>\n",
       "      <td>0.0</td>\n",
       "      <td>NaN</td>\n",
       "      <td>1.0</td>\n",
       "      <td>603.0</td>\n",
       "      <td>45.0</td>\n",
       "    </tr>\n",
       "    <tr>\n",
       "      <th>4151</th>\n",
       "      <td>17</td>\n",
       "      <td>17.600000</td>\n",
       "      <td>89.50</td>\n",
       "      <td>2014-12-09T00:00:00</td>\n",
       "      <td>2</td>\n",
       "      <td>3.00</td>\n",
       "      <td>8.0</td>\n",
       "      <td>39.62</td>\n",
       "      <td>7</td>\n",
       "      <td>NaN</td>\n",
       "      <td>...</td>\n",
       "      <td>13.38</td>\n",
       "      <td>0.0</td>\n",
       "      <td>NaN</td>\n",
       "      <td>25.054</td>\n",
       "      <td>3.902</td>\n",
       "      <td>1.0</td>\n",
       "      <td>485.0</td>\n",
       "      <td>3.0</td>\n",
       "      <td>722.0</td>\n",
       "      <td>869.0</td>\n",
       "    </tr>\n",
       "    <tr>\n",
       "      <th>4189</th>\n",
       "      <td>7</td>\n",
       "      <td>9.200000</td>\n",
       "      <td>80.00</td>\n",
       "      <td>2015-12-10T00:00:00</td>\n",
       "      <td>3</td>\n",
       "      <td>4.00</td>\n",
       "      <td>4.0</td>\n",
       "      <td>52.30</td>\n",
       "      <td>3</td>\n",
       "      <td>False</td>\n",
       "      <td>...</td>\n",
       "      <td>10.40</td>\n",
       "      <td>0.0</td>\n",
       "      <td>NaN</td>\n",
       "      <td>21.774</td>\n",
       "      <td>3.039</td>\n",
       "      <td>1.0</td>\n",
       "      <td>690.0</td>\n",
       "      <td>1.0</td>\n",
       "      <td>953.0</td>\n",
       "      <td>223.0</td>\n",
       "    </tr>\n",
       "    <tr>\n",
       "      <th>4670</th>\n",
       "      <td>1</td>\n",
       "      <td>5.500000</td>\n",
       "      <td>83.00</td>\n",
       "      <td>2015-08-14T00:00:00</td>\n",
       "      <td>3</td>\n",
       "      <td>NaN</td>\n",
       "      <td>7.0</td>\n",
       "      <td>NaN</td>\n",
       "      <td>6</td>\n",
       "      <td>NaN</td>\n",
       "      <td>...</td>\n",
       "      <td>NaN</td>\n",
       "      <td>0.0</td>\n",
       "      <td>NaN</td>\n",
       "      <td>26.534</td>\n",
       "      <td>5.382</td>\n",
       "      <td>1.0</td>\n",
       "      <td>446.0</td>\n",
       "      <td>1.0</td>\n",
       "      <td>376.0</td>\n",
       "      <td>350.0</td>\n",
       "    </tr>\n",
       "    <tr>\n",
       "      <th>5343</th>\n",
       "      <td>19</td>\n",
       "      <td>13.540000</td>\n",
       "      <td>85.50</td>\n",
       "      <td>2016-01-20T00:00:00</td>\n",
       "      <td>3</td>\n",
       "      <td>NaN</td>\n",
       "      <td>7.0</td>\n",
       "      <td>59.10</td>\n",
       "      <td>5</td>\n",
       "      <td>False</td>\n",
       "      <td>...</td>\n",
       "      <td>8.30</td>\n",
       "      <td>4.0</td>\n",
       "      <td>NaN</td>\n",
       "      <td>10.556</td>\n",
       "      <td>9.538</td>\n",
       "      <td>1.0</td>\n",
       "      <td>67.0</td>\n",
       "      <td>0.0</td>\n",
       "      <td>NaN</td>\n",
       "      <td>303.0</td>\n",
       "    </tr>\n",
       "    <tr>\n",
       "      <th>5707</th>\n",
       "      <td>7</td>\n",
       "      <td>3.700000</td>\n",
       "      <td>30.00</td>\n",
       "      <td>2016-04-29T00:00:00</td>\n",
       "      <td>1</td>\n",
       "      <td>NaN</td>\n",
       "      <td>24.0</td>\n",
       "      <td>20.00</td>\n",
       "      <td>23</td>\n",
       "      <td>NaN</td>\n",
       "      <td>...</td>\n",
       "      <td>NaN</td>\n",
       "      <td>0.0</td>\n",
       "      <td>NaN</td>\n",
       "      <td>21.460</td>\n",
       "      <td>16.788</td>\n",
       "      <td>0.0</td>\n",
       "      <td>NaN</td>\n",
       "      <td>1.0</td>\n",
       "      <td>170.0</td>\n",
       "      <td>49.0</td>\n",
       "    </tr>\n",
       "    <tr>\n",
       "      <th>6765</th>\n",
       "      <td>20</td>\n",
       "      <td>4.895892</td>\n",
       "      <td>60.70</td>\n",
       "      <td>2015-03-12T00:00:00</td>\n",
       "      <td>2</td>\n",
       "      <td>NaN</td>\n",
       "      <td>24.0</td>\n",
       "      <td>31.90</td>\n",
       "      <td>3</td>\n",
       "      <td>NaN</td>\n",
       "      <td>...</td>\n",
       "      <td>12.20</td>\n",
       "      <td>0.0</td>\n",
       "      <td>NaN</td>\n",
       "      <td>22.041</td>\n",
       "      <td>17.369</td>\n",
       "      <td>0.0</td>\n",
       "      <td>NaN</td>\n",
       "      <td>1.0</td>\n",
       "      <td>374.0</td>\n",
       "      <td>468.0</td>\n",
       "    </tr>\n",
       "    <tr>\n",
       "      <th>7114</th>\n",
       "      <td>5</td>\n",
       "      <td>4.250000</td>\n",
       "      <td>56.00</td>\n",
       "      <td>2016-03-16T00:00:00</td>\n",
       "      <td>3</td>\n",
       "      <td>NaN</td>\n",
       "      <td>5.0</td>\n",
       "      <td>40.00</td>\n",
       "      <td>4</td>\n",
       "      <td>NaN</td>\n",
       "      <td>...</td>\n",
       "      <td>6.00</td>\n",
       "      <td>0.0</td>\n",
       "      <td>NaN</td>\n",
       "      <td>14.031</td>\n",
       "      <td>8.582</td>\n",
       "      <td>0.0</td>\n",
       "      <td>NaN</td>\n",
       "      <td>0.0</td>\n",
       "      <td>NaN</td>\n",
       "      <td>96.0</td>\n",
       "    </tr>\n",
       "    <tr>\n",
       "      <th>7330</th>\n",
       "      <td>8</td>\n",
       "      <td>5.100000</td>\n",
       "      <td>63.00</td>\n",
       "      <td>2015-01-27T00:00:00</td>\n",
       "      <td>3</td>\n",
       "      <td>NaN</td>\n",
       "      <td>5.0</td>\n",
       "      <td>42.00</td>\n",
       "      <td>1</td>\n",
       "      <td>False</td>\n",
       "      <td>...</td>\n",
       "      <td>7.50</td>\n",
       "      <td>0.0</td>\n",
       "      <td>NaN</td>\n",
       "      <td>25.925</td>\n",
       "      <td>4.627</td>\n",
       "      <td>2.0</td>\n",
       "      <td>459.0</td>\n",
       "      <td>0.0</td>\n",
       "      <td>NaN</td>\n",
       "      <td>566.0</td>\n",
       "    </tr>\n",
       "    <tr>\n",
       "      <th>7600</th>\n",
       "      <td>8</td>\n",
       "      <td>6.800000</td>\n",
       "      <td>70.00</td>\n",
       "      <td>2016-01-31T00:00:00</td>\n",
       "      <td>3</td>\n",
       "      <td>NaN</td>\n",
       "      <td>11.0</td>\n",
       "      <td>42.00</td>\n",
       "      <td>9</td>\n",
       "      <td>NaN</td>\n",
       "      <td>...</td>\n",
       "      <td>11.00</td>\n",
       "      <td>1.0</td>\n",
       "      <td>NaN</td>\n",
       "      <td>37.123</td>\n",
       "      <td>12.332</td>\n",
       "      <td>0.0</td>\n",
       "      <td>NaN</td>\n",
       "      <td>0.0</td>\n",
       "      <td>NaN</td>\n",
       "      <td>209.0</td>\n",
       "    </tr>\n",
       "    <tr>\n",
       "      <th>8568</th>\n",
       "      <td>10</td>\n",
       "      <td>16.000000</td>\n",
       "      <td>155.00</td>\n",
       "      <td>2016-05-09T00:00:00</td>\n",
       "      <td>3</td>\n",
       "      <td>NaN</td>\n",
       "      <td>6.0</td>\n",
       "      <td>94.00</td>\n",
       "      <td>3</td>\n",
       "      <td>NaN</td>\n",
       "      <td>...</td>\n",
       "      <td>23.00</td>\n",
       "      <td>0.0</td>\n",
       "      <td>NaN</td>\n",
       "      <td>24.233</td>\n",
       "      <td>4.065</td>\n",
       "      <td>1.0</td>\n",
       "      <td>547.0</td>\n",
       "      <td>0.0</td>\n",
       "      <td>NaN</td>\n",
       "      <td>248.0</td>\n",
       "    </tr>\n",
       "    <tr>\n",
       "      <th>8986</th>\n",
       "      <td>10</td>\n",
       "      <td>4.850000</td>\n",
       "      <td>103.10</td>\n",
       "      <td>2018-07-10T00:00:00</td>\n",
       "      <td>3</td>\n",
       "      <td>NaN</td>\n",
       "      <td>NaN</td>\n",
       "      <td>68.10</td>\n",
       "      <td>4</td>\n",
       "      <td>NaN</td>\n",
       "      <td>...</td>\n",
       "      <td>16.70</td>\n",
       "      <td>NaN</td>\n",
       "      <td>NaN</td>\n",
       "      <td>19.659</td>\n",
       "      <td>31.813</td>\n",
       "      <td>0.0</td>\n",
       "      <td>NaN</td>\n",
       "      <td>0.0</td>\n",
       "      <td>NaN</td>\n",
       "      <td>28.0</td>\n",
       "    </tr>\n",
       "    <tr>\n",
       "      <th>9821</th>\n",
       "      <td>13</td>\n",
       "      <td>8.000000</td>\n",
       "      <td>94.50</td>\n",
       "      <td>2015-01-21T00:00:00</td>\n",
       "      <td>4</td>\n",
       "      <td>3.00</td>\n",
       "      <td>2.0</td>\n",
       "      <td>57.80</td>\n",
       "      <td>2</td>\n",
       "      <td>NaN</td>\n",
       "      <td>...</td>\n",
       "      <td>11.30</td>\n",
       "      <td>0.0</td>\n",
       "      <td>NaN</td>\n",
       "      <td>24.953</td>\n",
       "      <td>3.801</td>\n",
       "      <td>1.0</td>\n",
       "      <td>375.0</td>\n",
       "      <td>2.0</td>\n",
       "      <td>532.0</td>\n",
       "      <td>531.0</td>\n",
       "    </tr>\n",
       "    <tr>\n",
       "      <th>10122</th>\n",
       "      <td>5</td>\n",
       "      <td>8.200000</td>\n",
       "      <td>83.00</td>\n",
       "      <td>2015-06-24T00:00:00</td>\n",
       "      <td>4</td>\n",
       "      <td>NaN</td>\n",
       "      <td>5.0</td>\n",
       "      <td>53.00</td>\n",
       "      <td>2</td>\n",
       "      <td>NaN</td>\n",
       "      <td>...</td>\n",
       "      <td>10.00</td>\n",
       "      <td>0.0</td>\n",
       "      <td>NaN</td>\n",
       "      <td>25.771</td>\n",
       "      <td>4.474</td>\n",
       "      <td>2.0</td>\n",
       "      <td>374.0</td>\n",
       "      <td>0.0</td>\n",
       "      <td>NaN</td>\n",
       "      <td>364.0</td>\n",
       "    </tr>\n",
       "    <tr>\n",
       "      <th>11248</th>\n",
       "      <td>12</td>\n",
       "      <td>6.300000</td>\n",
       "      <td>63.10</td>\n",
       "      <td>2015-01-16T00:00:00</td>\n",
       "      <td>4</td>\n",
       "      <td>NaN</td>\n",
       "      <td>8.0</td>\n",
       "      <td>44.00</td>\n",
       "      <td>7</td>\n",
       "      <td>NaN</td>\n",
       "      <td>...</td>\n",
       "      <td>8.70</td>\n",
       "      <td>0.0</td>\n",
       "      <td>NaN</td>\n",
       "      <td>25.221</td>\n",
       "      <td>4.069</td>\n",
       "      <td>0.0</td>\n",
       "      <td>NaN</td>\n",
       "      <td>2.0</td>\n",
       "      <td>653.0</td>\n",
       "      <td>551.0</td>\n",
       "    </tr>\n",
       "    <tr>\n",
       "      <th>12879</th>\n",
       "      <td>12</td>\n",
       "      <td>4.400000</td>\n",
       "      <td>39.20</td>\n",
       "      <td>2016-04-26T00:00:00</td>\n",
       "      <td>1</td>\n",
       "      <td>NaN</td>\n",
       "      <td>12.0</td>\n",
       "      <td>20.00</td>\n",
       "      <td>12</td>\n",
       "      <td>False</td>\n",
       "      <td>...</td>\n",
       "      <td>7.90</td>\n",
       "      <td>0.0</td>\n",
       "      <td>NaN</td>\n",
       "      <td>37.123</td>\n",
       "      <td>12.332</td>\n",
       "      <td>0.0</td>\n",
       "      <td>NaN</td>\n",
       "      <td>0.0</td>\n",
       "      <td>NaN</td>\n",
       "      <td>179.0</td>\n",
       "    </tr>\n",
       "    <tr>\n",
       "      <th>12936</th>\n",
       "      <td>6</td>\n",
       "      <td>6.800000</td>\n",
       "      <td>73.00</td>\n",
       "      <td>2015-11-01T00:00:00</td>\n",
       "      <td>3</td>\n",
       "      <td>NaN</td>\n",
       "      <td>5.0</td>\n",
       "      <td>53.10</td>\n",
       "      <td>2</td>\n",
       "      <td>NaN</td>\n",
       "      <td>...</td>\n",
       "      <td>8.20</td>\n",
       "      <td>0.0</td>\n",
       "      <td>NaN</td>\n",
       "      <td>25.680</td>\n",
       "      <td>4.383</td>\n",
       "      <td>3.0</td>\n",
       "      <td>336.0</td>\n",
       "      <td>0.0</td>\n",
       "      <td>NaN</td>\n",
       "      <td>542.0</td>\n",
       "    </tr>\n",
       "    <tr>\n",
       "      <th>13223</th>\n",
       "      <td>1</td>\n",
       "      <td>2.919911</td>\n",
       "      <td>29.40</td>\n",
       "      <td>2015-03-12T00:00:00</td>\n",
       "      <td>1</td>\n",
       "      <td>2.75</td>\n",
       "      <td>24.0</td>\n",
       "      <td>21.10</td>\n",
       "      <td>2</td>\n",
       "      <td>NaN</td>\n",
       "      <td>...</td>\n",
       "      <td>NaN</td>\n",
       "      <td>0.0</td>\n",
       "      <td>NaN</td>\n",
       "      <td>22.041</td>\n",
       "      <td>17.369</td>\n",
       "      <td>0.0</td>\n",
       "      <td>NaN</td>\n",
       "      <td>1.0</td>\n",
       "      <td>374.0</td>\n",
       "      <td>470.0</td>\n",
       "    </tr>\n",
       "    <tr>\n",
       "      <th>13690</th>\n",
       "      <td>7</td>\n",
       "      <td>3.500000</td>\n",
       "      <td>71.00</td>\n",
       "      <td>2016-06-23T00:00:00</td>\n",
       "      <td>3</td>\n",
       "      <td>2.75</td>\n",
       "      <td>2.0</td>\n",
       "      <td>45.60</td>\n",
       "      <td>1</td>\n",
       "      <td>False</td>\n",
       "      <td>...</td>\n",
       "      <td>8.00</td>\n",
       "      <td>2.0</td>\n",
       "      <td>NaN</td>\n",
       "      <td>20.234</td>\n",
       "      <td>23.659</td>\n",
       "      <td>0.0</td>\n",
       "      <td>NaN</td>\n",
       "      <td>2.0</td>\n",
       "      <td>296.0</td>\n",
       "      <td>92.0</td>\n",
       "    </tr>\n",
       "    <tr>\n",
       "      <th>14273</th>\n",
       "      <td>2</td>\n",
       "      <td>4.422000</td>\n",
       "      <td>60.00</td>\n",
       "      <td>2016-03-23T00:00:00</td>\n",
       "      <td>2</td>\n",
       "      <td>2.75</td>\n",
       "      <td>23.0</td>\n",
       "      <td>32.00</td>\n",
       "      <td>14</td>\n",
       "      <td>NaN</td>\n",
       "      <td>...</td>\n",
       "      <td>11.90</td>\n",
       "      <td>0.0</td>\n",
       "      <td>NaN</td>\n",
       "      <td>22.041</td>\n",
       "      <td>17.369</td>\n",
       "      <td>0.0</td>\n",
       "      <td>NaN</td>\n",
       "      <td>1.0</td>\n",
       "      <td>374.0</td>\n",
       "      <td>90.0</td>\n",
       "    </tr>\n",
       "    <tr>\n",
       "      <th>14342</th>\n",
       "      <td>3</td>\n",
       "      <td>3.611000</td>\n",
       "      <td>53.50</td>\n",
       "      <td>2017-04-27T00:00:00</td>\n",
       "      <td>1</td>\n",
       "      <td>NaN</td>\n",
       "      <td>4.0</td>\n",
       "      <td>25.80</td>\n",
       "      <td>3</td>\n",
       "      <td>False</td>\n",
       "      <td>...</td>\n",
       "      <td>NaN</td>\n",
       "      <td>1.0</td>\n",
       "      <td>NaN</td>\n",
       "      <td>NaN</td>\n",
       "      <td>NaN</td>\n",
       "      <td>NaN</td>\n",
       "      <td>NaN</td>\n",
       "      <td>NaN</td>\n",
       "      <td>NaN</td>\n",
       "      <td>92.0</td>\n",
       "    </tr>\n",
       "    <tr>\n",
       "      <th>15686</th>\n",
       "      <td>13</td>\n",
       "      <td>4.700000</td>\n",
       "      <td>44.00</td>\n",
       "      <td>2015-12-01T00:00:00</td>\n",
       "      <td>2</td>\n",
       "      <td>NaN</td>\n",
       "      <td>5.0</td>\n",
       "      <td>28.00</td>\n",
       "      <td>3</td>\n",
       "      <td>NaN</td>\n",
       "      <td>...</td>\n",
       "      <td>5.00</td>\n",
       "      <td>0.0</td>\n",
       "      <td>NaN</td>\n",
       "      <td>35.920</td>\n",
       "      <td>9.633</td>\n",
       "      <td>2.0</td>\n",
       "      <td>472.0</td>\n",
       "      <td>3.0</td>\n",
       "      <td>535.0</td>\n",
       "      <td>280.0</td>\n",
       "    </tr>\n",
       "    <tr>\n",
       "      <th>15866</th>\n",
       "      <td>10</td>\n",
       "      <td>3.950000</td>\n",
       "      <td>44.00</td>\n",
       "      <td>2016-04-16T00:00:00</td>\n",
       "      <td>2</td>\n",
       "      <td>2.70</td>\n",
       "      <td>5.0</td>\n",
       "      <td>28.50</td>\n",
       "      <td>5</td>\n",
       "      <td>False</td>\n",
       "      <td>...</td>\n",
       "      <td>5.50</td>\n",
       "      <td>1.0</td>\n",
       "      <td>NaN</td>\n",
       "      <td>36.380</td>\n",
       "      <td>9.497</td>\n",
       "      <td>1.0</td>\n",
       "      <td>634.0</td>\n",
       "      <td>3.0</td>\n",
       "      <td>513.0</td>\n",
       "      <td>85.0</td>\n",
       "    </tr>\n",
       "    <tr>\n",
       "      <th>16499</th>\n",
       "      <td>2</td>\n",
       "      <td>4.995573</td>\n",
       "      <td>56.90</td>\n",
       "      <td>2016-06-17T00:00:00</td>\n",
       "      <td>2</td>\n",
       "      <td>NaN</td>\n",
       "      <td>24.0</td>\n",
       "      <td>29.20</td>\n",
       "      <td>14</td>\n",
       "      <td>NaN</td>\n",
       "      <td>...</td>\n",
       "      <td>10.90</td>\n",
       "      <td>0.0</td>\n",
       "      <td>NaN</td>\n",
       "      <td>22.041</td>\n",
       "      <td>17.369</td>\n",
       "      <td>0.0</td>\n",
       "      <td>NaN</td>\n",
       "      <td>1.0</td>\n",
       "      <td>374.0</td>\n",
       "      <td>4.0</td>\n",
       "    </tr>\n",
       "    <tr>\n",
       "      <th>16561</th>\n",
       "      <td>3</td>\n",
       "      <td>2.450000</td>\n",
       "      <td>30.00</td>\n",
       "      <td>2016-06-02T00:00:00</td>\n",
       "      <td>1</td>\n",
       "      <td>NaN</td>\n",
       "      <td>4.0</td>\n",
       "      <td>17.00</td>\n",
       "      <td>2</td>\n",
       "      <td>NaN</td>\n",
       "      <td>...</td>\n",
       "      <td>6.00</td>\n",
       "      <td>1.0</td>\n",
       "      <td>NaN</td>\n",
       "      <td>21.731</td>\n",
       "      <td>8.619</td>\n",
       "      <td>0.0</td>\n",
       "      <td>NaN</td>\n",
       "      <td>3.0</td>\n",
       "      <td>162.0</td>\n",
       "      <td>140.0</td>\n",
       "    </tr>\n",
       "    <tr>\n",
       "      <th>16610</th>\n",
       "      <td>11</td>\n",
       "      <td>11.940000</td>\n",
       "      <td>112.00</td>\n",
       "      <td>2015-11-19T00:00:00</td>\n",
       "      <td>3</td>\n",
       "      <td>3.00</td>\n",
       "      <td>5.0</td>\n",
       "      <td>64.00</td>\n",
       "      <td>2</td>\n",
       "      <td>NaN</td>\n",
       "      <td>...</td>\n",
       "      <td>23.00</td>\n",
       "      <td>0.0</td>\n",
       "      <td>NaN</td>\n",
       "      <td>21.219</td>\n",
       "      <td>1.322</td>\n",
       "      <td>1.0</td>\n",
       "      <td>740.0</td>\n",
       "      <td>3.0</td>\n",
       "      <td>365.0</td>\n",
       "      <td>319.0</td>\n",
       "    </tr>\n",
       "    <tr>\n",
       "      <th>17535</th>\n",
       "      <td>2</td>\n",
       "      <td>5.985000</td>\n",
       "      <td>79.80</td>\n",
       "      <td>2018-07-30T00:00:00</td>\n",
       "      <td>3</td>\n",
       "      <td>NaN</td>\n",
       "      <td>9.0</td>\n",
       "      <td>NaN</td>\n",
       "      <td>2</td>\n",
       "      <td>False</td>\n",
       "      <td>...</td>\n",
       "      <td>NaN</td>\n",
       "      <td>NaN</td>\n",
       "      <td>NaN</td>\n",
       "      <td>NaN</td>\n",
       "      <td>NaN</td>\n",
       "      <td>NaN</td>\n",
       "      <td>NaN</td>\n",
       "      <td>NaN</td>\n",
       "      <td>NaN</td>\n",
       "      <td>213.0</td>\n",
       "    </tr>\n",
       "    <tr>\n",
       "      <th>17764</th>\n",
       "      <td>9</td>\n",
       "      <td>8.400000</td>\n",
       "      <td>94.00</td>\n",
       "      <td>2016-01-24T00:00:00</td>\n",
       "      <td>3</td>\n",
       "      <td>NaN</td>\n",
       "      <td>23.0</td>\n",
       "      <td>52.00</td>\n",
       "      <td>5</td>\n",
       "      <td>NaN</td>\n",
       "      <td>...</td>\n",
       "      <td>NaN</td>\n",
       "      <td>0.0</td>\n",
       "      <td>NaN</td>\n",
       "      <td>36.865</td>\n",
       "      <td>10.976</td>\n",
       "      <td>0.0</td>\n",
       "      <td>NaN</td>\n",
       "      <td>1.0</td>\n",
       "      <td>856.0</td>\n",
       "      <td>305.0</td>\n",
       "    </tr>\n",
       "    <tr>\n",
       "      <th>18526</th>\n",
       "      <td>3</td>\n",
       "      <td>10.800000</td>\n",
       "      <td>86.00</td>\n",
       "      <td>2016-06-24T00:00:00</td>\n",
       "      <td>4</td>\n",
       "      <td>3.20</td>\n",
       "      <td>7.0</td>\n",
       "      <td>48.00</td>\n",
       "      <td>2</td>\n",
       "      <td>NaN</td>\n",
       "      <td>...</td>\n",
       "      <td>12.00</td>\n",
       "      <td>0.0</td>\n",
       "      <td>NaN</td>\n",
       "      <td>11.206</td>\n",
       "      <td>8.943</td>\n",
       "      <td>0.0</td>\n",
       "      <td>NaN</td>\n",
       "      <td>0.0</td>\n",
       "      <td>NaN</td>\n",
       "      <td>65.0</td>\n",
       "    </tr>\n",
       "    <tr>\n",
       "      <th>18917</th>\n",
       "      <td>3</td>\n",
       "      <td>2.660000</td>\n",
       "      <td>37.99</td>\n",
       "      <td>2017-08-17T00:00:00</td>\n",
       "      <td>1</td>\n",
       "      <td>NaN</td>\n",
       "      <td>4.0</td>\n",
       "      <td>13.00</td>\n",
       "      <td>1</td>\n",
       "      <td>NaN</td>\n",
       "      <td>...</td>\n",
       "      <td>12.40</td>\n",
       "      <td>0.0</td>\n",
       "      <td>NaN</td>\n",
       "      <td>21.540</td>\n",
       "      <td>8.429</td>\n",
       "      <td>0.0</td>\n",
       "      <td>NaN</td>\n",
       "      <td>3.0</td>\n",
       "      <td>142.0</td>\n",
       "      <td>15.0</td>\n",
       "    </tr>\n",
       "    <tr>\n",
       "      <th>19045</th>\n",
       "      <td>6</td>\n",
       "      <td>4.650000</td>\n",
       "      <td>48.00</td>\n",
       "      <td>2016-01-25T00:00:00</td>\n",
       "      <td>2</td>\n",
       "      <td>3.12</td>\n",
       "      <td>5.0</td>\n",
       "      <td>26.20</td>\n",
       "      <td>1</td>\n",
       "      <td>False</td>\n",
       "      <td>...</td>\n",
       "      <td>8.00</td>\n",
       "      <td>0.0</td>\n",
       "      <td>NaN</td>\n",
       "      <td>21.654</td>\n",
       "      <td>3.312</td>\n",
       "      <td>1.0</td>\n",
       "      <td>549.0</td>\n",
       "      <td>1.0</td>\n",
       "      <td>858.0</td>\n",
       "      <td>254.0</td>\n",
       "    </tr>\n",
       "    <tr>\n",
       "      <th>19972</th>\n",
       "      <td>20</td>\n",
       "      <td>4.361004</td>\n",
       "      <td>62.40</td>\n",
       "      <td>2015-09-20T00:00:00</td>\n",
       "      <td>2</td>\n",
       "      <td>NaN</td>\n",
       "      <td>24.0</td>\n",
       "      <td>33.10</td>\n",
       "      <td>21</td>\n",
       "      <td>NaN</td>\n",
       "      <td>...</td>\n",
       "      <td>8.20</td>\n",
       "      <td>0.0</td>\n",
       "      <td>NaN</td>\n",
       "      <td>22.041</td>\n",
       "      <td>17.369</td>\n",
       "      <td>0.0</td>\n",
       "      <td>NaN</td>\n",
       "      <td>1.0</td>\n",
       "      <td>374.0</td>\n",
       "      <td>278.0</td>\n",
       "    </tr>\n",
       "    <tr>\n",
       "      <th>20057</th>\n",
       "      <td>13</td>\n",
       "      <td>11.500000</td>\n",
       "      <td>102.00</td>\n",
       "      <td>2015-10-14T00:00:00</td>\n",
       "      <td>2</td>\n",
       "      <td>NaN</td>\n",
       "      <td>5.0</td>\n",
       "      <td>70.00</td>\n",
       "      <td>2</td>\n",
       "      <td>NaN</td>\n",
       "      <td>...</td>\n",
       "      <td>NaN</td>\n",
       "      <td>0.0</td>\n",
       "      <td>NaN</td>\n",
       "      <td>23.478</td>\n",
       "      <td>4.258</td>\n",
       "      <td>0.0</td>\n",
       "      <td>NaN</td>\n",
       "      <td>0.0</td>\n",
       "      <td>NaN</td>\n",
       "      <td>325.0</td>\n",
       "    </tr>\n",
       "    <tr>\n",
       "      <th>20382</th>\n",
       "      <td>8</td>\n",
       "      <td>1.750000</td>\n",
       "      <td>72.90</td>\n",
       "      <td>2018-10-27T00:00:00</td>\n",
       "      <td>3</td>\n",
       "      <td>NaN</td>\n",
       "      <td>5.0</td>\n",
       "      <td>47.30</td>\n",
       "      <td>2</td>\n",
       "      <td>NaN</td>\n",
       "      <td>...</td>\n",
       "      <td>8.30</td>\n",
       "      <td>NaN</td>\n",
       "      <td>None</td>\n",
       "      <td>NaN</td>\n",
       "      <td>NaN</td>\n",
       "      <td>NaN</td>\n",
       "      <td>NaN</td>\n",
       "      <td>NaN</td>\n",
       "      <td>NaN</td>\n",
       "      <td>NaN</td>\n",
       "    </tr>\n",
       "    <tr>\n",
       "      <th>20590</th>\n",
       "      <td>7</td>\n",
       "      <td>3.380000</td>\n",
       "      <td>56.00</td>\n",
       "      <td>2017-11-06T00:00:00</td>\n",
       "      <td>2</td>\n",
       "      <td>2.70</td>\n",
       "      <td>4.0</td>\n",
       "      <td>29.00</td>\n",
       "      <td>3</td>\n",
       "      <td>NaN</td>\n",
       "      <td>...</td>\n",
       "      <td>10.00</td>\n",
       "      <td>1.0</td>\n",
       "      <td>NaN</td>\n",
       "      <td>NaN</td>\n",
       "      <td>NaN</td>\n",
       "      <td>NaN</td>\n",
       "      <td>NaN</td>\n",
       "      <td>NaN</td>\n",
       "      <td>NaN</td>\n",
       "      <td>78.0</td>\n",
       "    </tr>\n",
       "    <tr>\n",
       "      <th>20654</th>\n",
       "      <td>7</td>\n",
       "      <td>6.100000</td>\n",
       "      <td>43.00</td>\n",
       "      <td>2016-01-13T00:00:00</td>\n",
       "      <td>1</td>\n",
       "      <td>NaN</td>\n",
       "      <td>5.0</td>\n",
       "      <td>21.00</td>\n",
       "      <td>3</td>\n",
       "      <td>NaN</td>\n",
       "      <td>...</td>\n",
       "      <td>12.00</td>\n",
       "      <td>1.0</td>\n",
       "      <td>NaN</td>\n",
       "      <td>24.385</td>\n",
       "      <td>4.604</td>\n",
       "      <td>1.0</td>\n",
       "      <td>700.0</td>\n",
       "      <td>0.0</td>\n",
       "      <td>NaN</td>\n",
       "      <td>164.0</td>\n",
       "    </tr>\n",
       "    <tr>\n",
       "      <th>21119</th>\n",
       "      <td>8</td>\n",
       "      <td>3.500000</td>\n",
       "      <td>43.20</td>\n",
       "      <td>2018-11-11T00:00:00</td>\n",
       "      <td>2</td>\n",
       "      <td>NaN</td>\n",
       "      <td>4.0</td>\n",
       "      <td>NaN</td>\n",
       "      <td>2</td>\n",
       "      <td>NaN</td>\n",
       "      <td>...</td>\n",
       "      <td>NaN</td>\n",
       "      <td>NaN</td>\n",
       "      <td>NaN</td>\n",
       "      <td>19.744</td>\n",
       "      <td>31.897</td>\n",
       "      <td>0.0</td>\n",
       "      <td>NaN</td>\n",
       "      <td>0.0</td>\n",
       "      <td>NaN</td>\n",
       "      <td>9.0</td>\n",
       "    </tr>\n",
       "    <tr>\n",
       "      <th>21276</th>\n",
       "      <td>0</td>\n",
       "      <td>17.122148</td>\n",
       "      <td>178.30</td>\n",
       "      <td>2017-02-10T00:00:00</td>\n",
       "      <td>1</td>\n",
       "      <td>NaN</td>\n",
       "      <td>3.0</td>\n",
       "      <td>NaN</td>\n",
       "      <td>1</td>\n",
       "      <td>NaN</td>\n",
       "      <td>...</td>\n",
       "      <td>41.60</td>\n",
       "      <td>1.0</td>\n",
       "      <td>NaN</td>\n",
       "      <td>60.195</td>\n",
       "      <td>41.294</td>\n",
       "      <td>0.0</td>\n",
       "      <td>NaN</td>\n",
       "      <td>0.0</td>\n",
       "      <td>NaN</td>\n",
       "      <td>4.0</td>\n",
       "    </tr>\n",
       "    <tr>\n",
       "      <th>21333</th>\n",
       "      <td>10</td>\n",
       "      <td>5.900000</td>\n",
       "      <td>58.00</td>\n",
       "      <td>2015-03-12T00:00:00</td>\n",
       "      <td>3</td>\n",
       "      <td>NaN</td>\n",
       "      <td>6.0</td>\n",
       "      <td>35.20</td>\n",
       "      <td>6</td>\n",
       "      <td>False</td>\n",
       "      <td>...</td>\n",
       "      <td>11.00</td>\n",
       "      <td>0.0</td>\n",
       "      <td>NaN</td>\n",
       "      <td>26.090</td>\n",
       "      <td>4.805</td>\n",
       "      <td>0.0</td>\n",
       "      <td>NaN</td>\n",
       "      <td>1.0</td>\n",
       "      <td>943.0</td>\n",
       "      <td>486.0</td>\n",
       "    </tr>\n",
       "    <tr>\n",
       "      <th>21715</th>\n",
       "      <td>2</td>\n",
       "      <td>6.047550</td>\n",
       "      <td>80.10</td>\n",
       "      <td>2018-07-30T00:00:00</td>\n",
       "      <td>2</td>\n",
       "      <td>NaN</td>\n",
       "      <td>9.0</td>\n",
       "      <td>30.50</td>\n",
       "      <td>2</td>\n",
       "      <td>False</td>\n",
       "      <td>...</td>\n",
       "      <td>29.20</td>\n",
       "      <td>NaN</td>\n",
       "      <td>NaN</td>\n",
       "      <td>NaN</td>\n",
       "      <td>NaN</td>\n",
       "      <td>NaN</td>\n",
       "      <td>NaN</td>\n",
       "      <td>NaN</td>\n",
       "      <td>NaN</td>\n",
       "      <td>176.0</td>\n",
       "    </tr>\n",
       "    <tr>\n",
       "      <th>21898</th>\n",
       "      <td>2</td>\n",
       "      <td>5.886750</td>\n",
       "      <td>83.50</td>\n",
       "      <td>2018-07-30T00:00:00</td>\n",
       "      <td>2</td>\n",
       "      <td>NaN</td>\n",
       "      <td>9.0</td>\n",
       "      <td>36.60</td>\n",
       "      <td>2</td>\n",
       "      <td>False</td>\n",
       "      <td>...</td>\n",
       "      <td>29.70</td>\n",
       "      <td>NaN</td>\n",
       "      <td>NaN</td>\n",
       "      <td>NaN</td>\n",
       "      <td>NaN</td>\n",
       "      <td>NaN</td>\n",
       "      <td>NaN</td>\n",
       "      <td>NaN</td>\n",
       "      <td>NaN</td>\n",
       "      <td>169.0</td>\n",
       "    </tr>\n",
       "    <tr>\n",
       "      <th>22474</th>\n",
       "      <td>7</td>\n",
       "      <td>24.000000</td>\n",
       "      <td>128.00</td>\n",
       "      <td>2015-07-24T00:00:00</td>\n",
       "      <td>4</td>\n",
       "      <td>2.75</td>\n",
       "      <td>6.0</td>\n",
       "      <td>68.40</td>\n",
       "      <td>6</td>\n",
       "      <td>False</td>\n",
       "      <td>...</td>\n",
       "      <td>16.50</td>\n",
       "      <td>0.0</td>\n",
       "      <td>NaN</td>\n",
       "      <td>23.297</td>\n",
       "      <td>1.780</td>\n",
       "      <td>3.0</td>\n",
       "      <td>277.0</td>\n",
       "      <td>3.0</td>\n",
       "      <td>561.0</td>\n",
       "      <td>436.0</td>\n",
       "    </tr>\n",
       "    <tr>\n",
       "      <th>22717</th>\n",
       "      <td>9</td>\n",
       "      <td>3.000000</td>\n",
       "      <td>35.00</td>\n",
       "      <td>2018-01-02T00:00:00</td>\n",
       "      <td>1</td>\n",
       "      <td>2.60</td>\n",
       "      <td>16.0</td>\n",
       "      <td>16.00</td>\n",
       "      <td>7</td>\n",
       "      <td>False</td>\n",
       "      <td>...</td>\n",
       "      <td>10.00</td>\n",
       "      <td>1.0</td>\n",
       "      <td>NaN</td>\n",
       "      <td>NaN</td>\n",
       "      <td>NaN</td>\n",
       "      <td>NaN</td>\n",
       "      <td>NaN</td>\n",
       "      <td>NaN</td>\n",
       "      <td>NaN</td>\n",
       "      <td>75.0</td>\n",
       "    </tr>\n",
       "    <tr>\n",
       "      <th>22933</th>\n",
       "      <td>20</td>\n",
       "      <td>3.176015</td>\n",
       "      <td>33.30</td>\n",
       "      <td>2015-04-22T00:00:00</td>\n",
       "      <td>1</td>\n",
       "      <td>NaN</td>\n",
       "      <td>23.0</td>\n",
       "      <td>15.40</td>\n",
       "      <td>22</td>\n",
       "      <td>NaN</td>\n",
       "      <td>...</td>\n",
       "      <td>9.00</td>\n",
       "      <td>0.0</td>\n",
       "      <td>NaN</td>\n",
       "      <td>22.041</td>\n",
       "      <td>17.369</td>\n",
       "      <td>0.0</td>\n",
       "      <td>NaN</td>\n",
       "      <td>1.0</td>\n",
       "      <td>374.0</td>\n",
       "      <td>427.0</td>\n",
       "    </tr>\n",
       "    <tr>\n",
       "      <th>23214</th>\n",
       "      <td>3</td>\n",
       "      <td>7.990000</td>\n",
       "      <td>56.00</td>\n",
       "      <td>2016-05-31T00:00:00</td>\n",
       "      <td>2</td>\n",
       "      <td>NaN</td>\n",
       "      <td>6.0</td>\n",
       "      <td>NaN</td>\n",
       "      <td>5</td>\n",
       "      <td>False</td>\n",
       "      <td>...</td>\n",
       "      <td>NaN</td>\n",
       "      <td>0.0</td>\n",
       "      <td>NaN</td>\n",
       "      <td>11.206</td>\n",
       "      <td>8.943</td>\n",
       "      <td>0.0</td>\n",
       "      <td>NaN</td>\n",
       "      <td>0.0</td>\n",
       "      <td>NaN</td>\n",
       "      <td>70.0</td>\n",
       "    </tr>\n",
       "  </tbody>\n",
       "</table>\n",
       "<p>49 rows × 22 columns</p>\n",
       "</div>"
      ],
      "text/plain": [
       "       total_images  last_price  total_area first_day_exposition  rooms  \\\n",
       "1097              3    8.600000       81.70  2016-04-15T00:00:00      3   \n",
       "2033              6    5.398000       80.00  2017-05-30T00:00:00      3   \n",
       "2603             20    3.351765       42.70  2015-09-20T00:00:00      1   \n",
       "2632              2    5.130593       62.40  2015-10-11T00:00:00      2   \n",
       "3574             10    4.200000       46.50  2016-05-28T00:00:00      2   \n",
       "4151             17   17.600000       89.50  2014-12-09T00:00:00      2   \n",
       "4189              7    9.200000       80.00  2015-12-10T00:00:00      3   \n",
       "4670              1    5.500000       83.00  2015-08-14T00:00:00      3   \n",
       "5343             19   13.540000       85.50  2016-01-20T00:00:00      3   \n",
       "5707              7    3.700000       30.00  2016-04-29T00:00:00      1   \n",
       "6765             20    4.895892       60.70  2015-03-12T00:00:00      2   \n",
       "7114              5    4.250000       56.00  2016-03-16T00:00:00      3   \n",
       "7330              8    5.100000       63.00  2015-01-27T00:00:00      3   \n",
       "7600              8    6.800000       70.00  2016-01-31T00:00:00      3   \n",
       "8568             10   16.000000      155.00  2016-05-09T00:00:00      3   \n",
       "8986             10    4.850000      103.10  2018-07-10T00:00:00      3   \n",
       "9821             13    8.000000       94.50  2015-01-21T00:00:00      4   \n",
       "10122             5    8.200000       83.00  2015-06-24T00:00:00      4   \n",
       "11248            12    6.300000       63.10  2015-01-16T00:00:00      4   \n",
       "12879            12    4.400000       39.20  2016-04-26T00:00:00      1   \n",
       "12936             6    6.800000       73.00  2015-11-01T00:00:00      3   \n",
       "13223             1    2.919911       29.40  2015-03-12T00:00:00      1   \n",
       "13690             7    3.500000       71.00  2016-06-23T00:00:00      3   \n",
       "14273             2    4.422000       60.00  2016-03-23T00:00:00      2   \n",
       "14342             3    3.611000       53.50  2017-04-27T00:00:00      1   \n",
       "15686            13    4.700000       44.00  2015-12-01T00:00:00      2   \n",
       "15866            10    3.950000       44.00  2016-04-16T00:00:00      2   \n",
       "16499             2    4.995573       56.90  2016-06-17T00:00:00      2   \n",
       "16561             3    2.450000       30.00  2016-06-02T00:00:00      1   \n",
       "16610            11   11.940000      112.00  2015-11-19T00:00:00      3   \n",
       "17535             2    5.985000       79.80  2018-07-30T00:00:00      3   \n",
       "17764             9    8.400000       94.00  2016-01-24T00:00:00      3   \n",
       "18526             3   10.800000       86.00  2016-06-24T00:00:00      4   \n",
       "18917             3    2.660000       37.99  2017-08-17T00:00:00      1   \n",
       "19045             6    4.650000       48.00  2016-01-25T00:00:00      2   \n",
       "19972            20    4.361004       62.40  2015-09-20T00:00:00      2   \n",
       "20057            13   11.500000      102.00  2015-10-14T00:00:00      2   \n",
       "20382             8    1.750000       72.90  2018-10-27T00:00:00      3   \n",
       "20590             7    3.380000       56.00  2017-11-06T00:00:00      2   \n",
       "20654             7    6.100000       43.00  2016-01-13T00:00:00      1   \n",
       "21119             8    3.500000       43.20  2018-11-11T00:00:00      2   \n",
       "21276             0   17.122148      178.30  2017-02-10T00:00:00      1   \n",
       "21333            10    5.900000       58.00  2015-03-12T00:00:00      3   \n",
       "21715             2    6.047550       80.10  2018-07-30T00:00:00      2   \n",
       "21898             2    5.886750       83.50  2018-07-30T00:00:00      2   \n",
       "22474             7   24.000000      128.00  2015-07-24T00:00:00      4   \n",
       "22717             9    3.000000       35.00  2018-01-02T00:00:00      1   \n",
       "22933            20    3.176015       33.30  2015-04-22T00:00:00      1   \n",
       "23214             3    7.990000       56.00  2016-05-31T00:00:00      2   \n",
       "\n",
       "       ceiling_height  floors_total  living_area  floor is_apartment  ...  \\\n",
       "1097             3.55           5.0        50.80      2          NaN  ...   \n",
       "2033              NaN           4.0        42.60      2          NaN  ...   \n",
       "2603              NaN          24.0        15.60      3          NaN  ...   \n",
       "2632              NaN          24.0        33.10     21          NaN  ...   \n",
       "3574              NaN           5.0        30.80      5          NaN  ...   \n",
       "4151             3.00           8.0        39.62      7          NaN  ...   \n",
       "4189             4.00           4.0        52.30      3        False  ...   \n",
       "4670              NaN           7.0          NaN      6          NaN  ...   \n",
       "5343              NaN           7.0        59.10      5        False  ...   \n",
       "5707              NaN          24.0        20.00     23          NaN  ...   \n",
       "6765              NaN          24.0        31.90      3          NaN  ...   \n",
       "7114              NaN           5.0        40.00      4          NaN  ...   \n",
       "7330              NaN           5.0        42.00      1        False  ...   \n",
       "7600              NaN          11.0        42.00      9          NaN  ...   \n",
       "8568              NaN           6.0        94.00      3          NaN  ...   \n",
       "8986              NaN           NaN        68.10      4          NaN  ...   \n",
       "9821             3.00           2.0        57.80      2          NaN  ...   \n",
       "10122             NaN           5.0        53.00      2          NaN  ...   \n",
       "11248             NaN           8.0        44.00      7          NaN  ...   \n",
       "12879             NaN          12.0        20.00     12        False  ...   \n",
       "12936             NaN           5.0        53.10      2          NaN  ...   \n",
       "13223            2.75          24.0        21.10      2          NaN  ...   \n",
       "13690            2.75           2.0        45.60      1        False  ...   \n",
       "14273            2.75          23.0        32.00     14          NaN  ...   \n",
       "14342             NaN           4.0        25.80      3        False  ...   \n",
       "15686             NaN           5.0        28.00      3          NaN  ...   \n",
       "15866            2.70           5.0        28.50      5        False  ...   \n",
       "16499             NaN          24.0        29.20     14          NaN  ...   \n",
       "16561             NaN           4.0        17.00      2          NaN  ...   \n",
       "16610            3.00           5.0        64.00      2          NaN  ...   \n",
       "17535             NaN           9.0          NaN      2        False  ...   \n",
       "17764             NaN          23.0        52.00      5          NaN  ...   \n",
       "18526            3.20           7.0        48.00      2          NaN  ...   \n",
       "18917             NaN           4.0        13.00      1          NaN  ...   \n",
       "19045            3.12           5.0        26.20      1        False  ...   \n",
       "19972             NaN          24.0        33.10     21          NaN  ...   \n",
       "20057             NaN           5.0        70.00      2          NaN  ...   \n",
       "20382             NaN           5.0        47.30      2          NaN  ...   \n",
       "20590            2.70           4.0        29.00      3          NaN  ...   \n",
       "20654             NaN           5.0        21.00      3          NaN  ...   \n",
       "21119             NaN           4.0          NaN      2          NaN  ...   \n",
       "21276             NaN           3.0          NaN      1          NaN  ...   \n",
       "21333             NaN           6.0        35.20      6        False  ...   \n",
       "21715             NaN           9.0        30.50      2        False  ...   \n",
       "21898             NaN           9.0        36.60      2        False  ...   \n",
       "22474            2.75           6.0        68.40      6        False  ...   \n",
       "22717            2.60          16.0        16.00      7        False  ...   \n",
       "22933             NaN          23.0        15.40     22          NaN  ...   \n",
       "23214             NaN           6.0          NaN      5        False  ...   \n",
       "\n",
       "       kitchen_area  balcony  locality_name  airports_nearest  \\\n",
       "1097           8.80      0.0            NaN            23.478   \n",
       "2033          18.60      0.0            NaN               NaN   \n",
       "2603          10.70      0.0            NaN            22.041   \n",
       "2632           8.20      0.0            NaN            22.041   \n",
       "3574           6.50      0.0            NaN            27.419   \n",
       "4151          13.38      0.0            NaN            25.054   \n",
       "4189          10.40      0.0            NaN            21.774   \n",
       "4670            NaN      0.0            NaN            26.534   \n",
       "5343           8.30      4.0            NaN            10.556   \n",
       "5707            NaN      0.0            NaN            21.460   \n",
       "6765          12.20      0.0            NaN            22.041   \n",
       "7114           6.00      0.0            NaN            14.031   \n",
       "7330           7.50      0.0            NaN            25.925   \n",
       "7600          11.00      1.0            NaN            37.123   \n",
       "8568          23.00      0.0            NaN            24.233   \n",
       "8986          16.70      NaN            NaN            19.659   \n",
       "9821          11.30      0.0            NaN            24.953   \n",
       "10122         10.00      0.0            NaN            25.771   \n",
       "11248          8.70      0.0            NaN            25.221   \n",
       "12879          7.90      0.0            NaN            37.123   \n",
       "12936          8.20      0.0            NaN            25.680   \n",
       "13223           NaN      0.0            NaN            22.041   \n",
       "13690          8.00      2.0            NaN            20.234   \n",
       "14273         11.90      0.0            NaN            22.041   \n",
       "14342           NaN      1.0            NaN               NaN   \n",
       "15686          5.00      0.0            NaN            35.920   \n",
       "15866          5.50      1.0            NaN            36.380   \n",
       "16499         10.90      0.0            NaN            22.041   \n",
       "16561          6.00      1.0            NaN            21.731   \n",
       "16610         23.00      0.0            NaN            21.219   \n",
       "17535           NaN      NaN            NaN               NaN   \n",
       "17764           NaN      0.0            NaN            36.865   \n",
       "18526         12.00      0.0            NaN            11.206   \n",
       "18917         12.40      0.0            NaN            21.540   \n",
       "19045          8.00      0.0            NaN            21.654   \n",
       "19972          8.20      0.0            NaN            22.041   \n",
       "20057           NaN      0.0            NaN            23.478   \n",
       "20382          8.30      NaN           None               NaN   \n",
       "20590         10.00      1.0            NaN               NaN   \n",
       "20654         12.00      1.0            NaN            24.385   \n",
       "21119           NaN      NaN            NaN            19.744   \n",
       "21276         41.60      1.0            NaN            60.195   \n",
       "21333         11.00      0.0            NaN            26.090   \n",
       "21715         29.20      NaN            NaN               NaN   \n",
       "21898         29.70      NaN            NaN               NaN   \n",
       "22474         16.50      0.0            NaN            23.297   \n",
       "22717         10.00      1.0            NaN               NaN   \n",
       "22933          9.00      0.0            NaN            22.041   \n",
       "23214           NaN      0.0            NaN            11.206   \n",
       "\n",
       "      city_centers_nearest  parks_around_3000  parks_nearest  \\\n",
       "1097                 4.258                0.0            NaN   \n",
       "2033                   NaN                NaN            NaN   \n",
       "2603                17.369                0.0            NaN   \n",
       "2632                17.369                0.0            NaN   \n",
       "3574                 8.127                0.0            NaN   \n",
       "4151                 3.902                1.0          485.0   \n",
       "4189                 3.039                1.0          690.0   \n",
       "4670                 5.382                1.0          446.0   \n",
       "5343                 9.538                1.0           67.0   \n",
       "5707                16.788                0.0            NaN   \n",
       "6765                17.369                0.0            NaN   \n",
       "7114                 8.582                0.0            NaN   \n",
       "7330                 4.627                2.0          459.0   \n",
       "7600                12.332                0.0            NaN   \n",
       "8568                 4.065                1.0          547.0   \n",
       "8986                31.813                0.0            NaN   \n",
       "9821                 3.801                1.0          375.0   \n",
       "10122                4.474                2.0          374.0   \n",
       "11248                4.069                0.0            NaN   \n",
       "12879               12.332                0.0            NaN   \n",
       "12936                4.383                3.0          336.0   \n",
       "13223               17.369                0.0            NaN   \n",
       "13690               23.659                0.0            NaN   \n",
       "14273               17.369                0.0            NaN   \n",
       "14342                  NaN                NaN            NaN   \n",
       "15686                9.633                2.0          472.0   \n",
       "15866                9.497                1.0          634.0   \n",
       "16499               17.369                0.0            NaN   \n",
       "16561                8.619                0.0            NaN   \n",
       "16610                1.322                1.0          740.0   \n",
       "17535                  NaN                NaN            NaN   \n",
       "17764               10.976                0.0            NaN   \n",
       "18526                8.943                0.0            NaN   \n",
       "18917                8.429                0.0            NaN   \n",
       "19045                3.312                1.0          549.0   \n",
       "19972               17.369                0.0            NaN   \n",
       "20057                4.258                0.0            NaN   \n",
       "20382                  NaN                NaN            NaN   \n",
       "20590                  NaN                NaN            NaN   \n",
       "20654                4.604                1.0          700.0   \n",
       "21119               31.897                0.0            NaN   \n",
       "21276               41.294                0.0            NaN   \n",
       "21333                4.805                0.0            NaN   \n",
       "21715                  NaN                NaN            NaN   \n",
       "21898                  NaN                NaN            NaN   \n",
       "22474                1.780                3.0          277.0   \n",
       "22717                  NaN                NaN            NaN   \n",
       "22933               17.369                0.0            NaN   \n",
       "23214                8.943                0.0            NaN   \n",
       "\n",
       "       ponds_around_3000  ponds_nearest  days_exposition  \n",
       "1097                 0.0            NaN            147.0  \n",
       "2033                 NaN            NaN             34.0  \n",
       "2603                 1.0          374.0            276.0  \n",
       "2632                 1.0          374.0            256.0  \n",
       "3574                 1.0          603.0             45.0  \n",
       "4151                 3.0          722.0            869.0  \n",
       "4189                 1.0          953.0            223.0  \n",
       "4670                 1.0          376.0            350.0  \n",
       "5343                 0.0            NaN            303.0  \n",
       "5707                 1.0          170.0             49.0  \n",
       "6765                 1.0          374.0            468.0  \n",
       "7114                 0.0            NaN             96.0  \n",
       "7330                 0.0            NaN            566.0  \n",
       "7600                 0.0            NaN            209.0  \n",
       "8568                 0.0            NaN            248.0  \n",
       "8986                 0.0            NaN             28.0  \n",
       "9821                 2.0          532.0            531.0  \n",
       "10122                0.0            NaN            364.0  \n",
       "11248                2.0          653.0            551.0  \n",
       "12879                0.0            NaN            179.0  \n",
       "12936                0.0            NaN            542.0  \n",
       "13223                1.0          374.0            470.0  \n",
       "13690                2.0          296.0             92.0  \n",
       "14273                1.0          374.0             90.0  \n",
       "14342                NaN            NaN             92.0  \n",
       "15686                3.0          535.0            280.0  \n",
       "15866                3.0          513.0             85.0  \n",
       "16499                1.0          374.0              4.0  \n",
       "16561                3.0          162.0            140.0  \n",
       "16610                3.0          365.0            319.0  \n",
       "17535                NaN            NaN            213.0  \n",
       "17764                1.0          856.0            305.0  \n",
       "18526                0.0            NaN             65.0  \n",
       "18917                3.0          142.0             15.0  \n",
       "19045                1.0          858.0            254.0  \n",
       "19972                1.0          374.0            278.0  \n",
       "20057                0.0            NaN            325.0  \n",
       "20382                NaN            NaN              NaN  \n",
       "20590                NaN            NaN             78.0  \n",
       "20654                0.0            NaN            164.0  \n",
       "21119                0.0            NaN              9.0  \n",
       "21276                0.0            NaN              4.0  \n",
       "21333                1.0          943.0            486.0  \n",
       "21715                NaN            NaN            176.0  \n",
       "21898                NaN            NaN            169.0  \n",
       "22474                3.0          561.0            436.0  \n",
       "22717                NaN            NaN             75.0  \n",
       "22933                1.0          374.0            427.0  \n",
       "23214                0.0            NaN             70.0  \n",
       "\n",
       "[49 rows x 22 columns]"
      ]
     },
     "execution_count": 14,
     "metadata": {},
     "output_type": "execute_result"
    }
   ],
   "source": [
    "df[df['locality_name'].isna()]"
   ]
  },
  {
   "cell_type": "markdown",
   "metadata": {},
   "source": [
    "Обработаем возможное наличие пропусков с нестандартным значением пропуска - None (NoneType), заменив на значение NaN (Not a Number)."
   ]
  },
  {
   "cell_type": "code",
   "execution_count": 15,
   "metadata": {
    "pycharm": {
     "is_executing": true
    }
   },
   "outputs": [],
   "source": [
    "df['locality_name'] = df['locality_name'].replace([None], np.nan)"
   ]
  },
  {
   "cell_type": "markdown",
   "metadata": {},
   "source": [
    "Можно произвести восстановление, установив соответствие с удаленностью от центра `city_centers_nearest` и `airports_nearest`.\n",
    "Проверим, есть ли исключения, где нам будет не хватать данных для восстановления (наличие NaN в вышеперечисленных столбцах)."
   ]
  },
  {
   "cell_type": "code",
   "execution_count": 16,
   "metadata": {
    "pycharm": {
     "is_executing": true
    }
   },
   "outputs": [
    {
     "data": {
      "text/html": [
       "<div>\n",
       "<style scoped>\n",
       "    .dataframe tbody tr th:only-of-type {\n",
       "        vertical-align: middle;\n",
       "    }\n",
       "\n",
       "    .dataframe tbody tr th {\n",
       "        vertical-align: top;\n",
       "    }\n",
       "\n",
       "    .dataframe thead th {\n",
       "        text-align: right;\n",
       "    }\n",
       "</style>\n",
       "<table border=\"1\" class=\"dataframe\">\n",
       "  <thead>\n",
       "    <tr style=\"text-align: right;\">\n",
       "      <th></th>\n",
       "      <th>total_images</th>\n",
       "      <th>last_price</th>\n",
       "      <th>total_area</th>\n",
       "      <th>first_day_exposition</th>\n",
       "      <th>rooms</th>\n",
       "      <th>ceiling_height</th>\n",
       "      <th>floors_total</th>\n",
       "      <th>living_area</th>\n",
       "      <th>floor</th>\n",
       "      <th>is_apartment</th>\n",
       "      <th>...</th>\n",
       "      <th>kitchen_area</th>\n",
       "      <th>balcony</th>\n",
       "      <th>locality_name</th>\n",
       "      <th>airports_nearest</th>\n",
       "      <th>city_centers_nearest</th>\n",
       "      <th>parks_around_3000</th>\n",
       "      <th>parks_nearest</th>\n",
       "      <th>ponds_around_3000</th>\n",
       "      <th>ponds_nearest</th>\n",
       "      <th>days_exposition</th>\n",
       "    </tr>\n",
       "  </thead>\n",
       "  <tbody>\n",
       "    <tr>\n",
       "      <th>2033</th>\n",
       "      <td>6</td>\n",
       "      <td>5.39800</td>\n",
       "      <td>80.0</td>\n",
       "      <td>2017-05-30T00:00:00</td>\n",
       "      <td>3</td>\n",
       "      <td>NaN</td>\n",
       "      <td>4.0</td>\n",
       "      <td>42.6</td>\n",
       "      <td>2</td>\n",
       "      <td>NaN</td>\n",
       "      <td>...</td>\n",
       "      <td>18.6</td>\n",
       "      <td>0.0</td>\n",
       "      <td>NaN</td>\n",
       "      <td>NaN</td>\n",
       "      <td>NaN</td>\n",
       "      <td>NaN</td>\n",
       "      <td>NaN</td>\n",
       "      <td>NaN</td>\n",
       "      <td>NaN</td>\n",
       "      <td>34.0</td>\n",
       "    </tr>\n",
       "    <tr>\n",
       "      <th>14342</th>\n",
       "      <td>3</td>\n",
       "      <td>3.61100</td>\n",
       "      <td>53.5</td>\n",
       "      <td>2017-04-27T00:00:00</td>\n",
       "      <td>1</td>\n",
       "      <td>NaN</td>\n",
       "      <td>4.0</td>\n",
       "      <td>25.8</td>\n",
       "      <td>3</td>\n",
       "      <td>False</td>\n",
       "      <td>...</td>\n",
       "      <td>NaN</td>\n",
       "      <td>1.0</td>\n",
       "      <td>NaN</td>\n",
       "      <td>NaN</td>\n",
       "      <td>NaN</td>\n",
       "      <td>NaN</td>\n",
       "      <td>NaN</td>\n",
       "      <td>NaN</td>\n",
       "      <td>NaN</td>\n",
       "      <td>92.0</td>\n",
       "    </tr>\n",
       "    <tr>\n",
       "      <th>17535</th>\n",
       "      <td>2</td>\n",
       "      <td>5.98500</td>\n",
       "      <td>79.8</td>\n",
       "      <td>2018-07-30T00:00:00</td>\n",
       "      <td>3</td>\n",
       "      <td>NaN</td>\n",
       "      <td>9.0</td>\n",
       "      <td>NaN</td>\n",
       "      <td>2</td>\n",
       "      <td>False</td>\n",
       "      <td>...</td>\n",
       "      <td>NaN</td>\n",
       "      <td>NaN</td>\n",
       "      <td>NaN</td>\n",
       "      <td>NaN</td>\n",
       "      <td>NaN</td>\n",
       "      <td>NaN</td>\n",
       "      <td>NaN</td>\n",
       "      <td>NaN</td>\n",
       "      <td>NaN</td>\n",
       "      <td>213.0</td>\n",
       "    </tr>\n",
       "    <tr>\n",
       "      <th>20382</th>\n",
       "      <td>8</td>\n",
       "      <td>1.75000</td>\n",
       "      <td>72.9</td>\n",
       "      <td>2018-10-27T00:00:00</td>\n",
       "      <td>3</td>\n",
       "      <td>NaN</td>\n",
       "      <td>5.0</td>\n",
       "      <td>47.3</td>\n",
       "      <td>2</td>\n",
       "      <td>NaN</td>\n",
       "      <td>...</td>\n",
       "      <td>8.3</td>\n",
       "      <td>NaN</td>\n",
       "      <td>NaN</td>\n",
       "      <td>NaN</td>\n",
       "      <td>NaN</td>\n",
       "      <td>NaN</td>\n",
       "      <td>NaN</td>\n",
       "      <td>NaN</td>\n",
       "      <td>NaN</td>\n",
       "      <td>NaN</td>\n",
       "    </tr>\n",
       "    <tr>\n",
       "      <th>20590</th>\n",
       "      <td>7</td>\n",
       "      <td>3.38000</td>\n",
       "      <td>56.0</td>\n",
       "      <td>2017-11-06T00:00:00</td>\n",
       "      <td>2</td>\n",
       "      <td>2.7</td>\n",
       "      <td>4.0</td>\n",
       "      <td>29.0</td>\n",
       "      <td>3</td>\n",
       "      <td>NaN</td>\n",
       "      <td>...</td>\n",
       "      <td>10.0</td>\n",
       "      <td>1.0</td>\n",
       "      <td>NaN</td>\n",
       "      <td>NaN</td>\n",
       "      <td>NaN</td>\n",
       "      <td>NaN</td>\n",
       "      <td>NaN</td>\n",
       "      <td>NaN</td>\n",
       "      <td>NaN</td>\n",
       "      <td>78.0</td>\n",
       "    </tr>\n",
       "    <tr>\n",
       "      <th>21715</th>\n",
       "      <td>2</td>\n",
       "      <td>6.04755</td>\n",
       "      <td>80.1</td>\n",
       "      <td>2018-07-30T00:00:00</td>\n",
       "      <td>2</td>\n",
       "      <td>NaN</td>\n",
       "      <td>9.0</td>\n",
       "      <td>30.5</td>\n",
       "      <td>2</td>\n",
       "      <td>False</td>\n",
       "      <td>...</td>\n",
       "      <td>29.2</td>\n",
       "      <td>NaN</td>\n",
       "      <td>NaN</td>\n",
       "      <td>NaN</td>\n",
       "      <td>NaN</td>\n",
       "      <td>NaN</td>\n",
       "      <td>NaN</td>\n",
       "      <td>NaN</td>\n",
       "      <td>NaN</td>\n",
       "      <td>176.0</td>\n",
       "    </tr>\n",
       "    <tr>\n",
       "      <th>21898</th>\n",
       "      <td>2</td>\n",
       "      <td>5.88675</td>\n",
       "      <td>83.5</td>\n",
       "      <td>2018-07-30T00:00:00</td>\n",
       "      <td>2</td>\n",
       "      <td>NaN</td>\n",
       "      <td>9.0</td>\n",
       "      <td>36.6</td>\n",
       "      <td>2</td>\n",
       "      <td>False</td>\n",
       "      <td>...</td>\n",
       "      <td>29.7</td>\n",
       "      <td>NaN</td>\n",
       "      <td>NaN</td>\n",
       "      <td>NaN</td>\n",
       "      <td>NaN</td>\n",
       "      <td>NaN</td>\n",
       "      <td>NaN</td>\n",
       "      <td>NaN</td>\n",
       "      <td>NaN</td>\n",
       "      <td>169.0</td>\n",
       "    </tr>\n",
       "    <tr>\n",
       "      <th>22717</th>\n",
       "      <td>9</td>\n",
       "      <td>3.00000</td>\n",
       "      <td>35.0</td>\n",
       "      <td>2018-01-02T00:00:00</td>\n",
       "      <td>1</td>\n",
       "      <td>2.6</td>\n",
       "      <td>16.0</td>\n",
       "      <td>16.0</td>\n",
       "      <td>7</td>\n",
       "      <td>False</td>\n",
       "      <td>...</td>\n",
       "      <td>10.0</td>\n",
       "      <td>1.0</td>\n",
       "      <td>NaN</td>\n",
       "      <td>NaN</td>\n",
       "      <td>NaN</td>\n",
       "      <td>NaN</td>\n",
       "      <td>NaN</td>\n",
       "      <td>NaN</td>\n",
       "      <td>NaN</td>\n",
       "      <td>75.0</td>\n",
       "    </tr>\n",
       "  </tbody>\n",
       "</table>\n",
       "<p>8 rows × 22 columns</p>\n",
       "</div>"
      ],
      "text/plain": [
       "       total_images  last_price  total_area first_day_exposition  rooms  \\\n",
       "2033              6     5.39800        80.0  2017-05-30T00:00:00      3   \n",
       "14342             3     3.61100        53.5  2017-04-27T00:00:00      1   \n",
       "17535             2     5.98500        79.8  2018-07-30T00:00:00      3   \n",
       "20382             8     1.75000        72.9  2018-10-27T00:00:00      3   \n",
       "20590             7     3.38000        56.0  2017-11-06T00:00:00      2   \n",
       "21715             2     6.04755        80.1  2018-07-30T00:00:00      2   \n",
       "21898             2     5.88675        83.5  2018-07-30T00:00:00      2   \n",
       "22717             9     3.00000        35.0  2018-01-02T00:00:00      1   \n",
       "\n",
       "       ceiling_height  floors_total  living_area  floor is_apartment  ...  \\\n",
       "2033              NaN           4.0         42.6      2          NaN  ...   \n",
       "14342             NaN           4.0         25.8      3        False  ...   \n",
       "17535             NaN           9.0          NaN      2        False  ...   \n",
       "20382             NaN           5.0         47.3      2          NaN  ...   \n",
       "20590             2.7           4.0         29.0      3          NaN  ...   \n",
       "21715             NaN           9.0         30.5      2        False  ...   \n",
       "21898             NaN           9.0         36.6      2        False  ...   \n",
       "22717             2.6          16.0         16.0      7        False  ...   \n",
       "\n",
       "       kitchen_area  balcony  locality_name  airports_nearest  \\\n",
       "2033           18.6      0.0            NaN               NaN   \n",
       "14342           NaN      1.0            NaN               NaN   \n",
       "17535           NaN      NaN            NaN               NaN   \n",
       "20382           8.3      NaN            NaN               NaN   \n",
       "20590          10.0      1.0            NaN               NaN   \n",
       "21715          29.2      NaN            NaN               NaN   \n",
       "21898          29.7      NaN            NaN               NaN   \n",
       "22717          10.0      1.0            NaN               NaN   \n",
       "\n",
       "      city_centers_nearest  parks_around_3000  parks_nearest  \\\n",
       "2033                   NaN                NaN            NaN   \n",
       "14342                  NaN                NaN            NaN   \n",
       "17535                  NaN                NaN            NaN   \n",
       "20382                  NaN                NaN            NaN   \n",
       "20590                  NaN                NaN            NaN   \n",
       "21715                  NaN                NaN            NaN   \n",
       "21898                  NaN                NaN            NaN   \n",
       "22717                  NaN                NaN            NaN   \n",
       "\n",
       "       ponds_around_3000  ponds_nearest  days_exposition  \n",
       "2033                 NaN            NaN             34.0  \n",
       "14342                NaN            NaN             92.0  \n",
       "17535                NaN            NaN            213.0  \n",
       "20382                NaN            NaN              NaN  \n",
       "20590                NaN            NaN             78.0  \n",
       "21715                NaN            NaN            176.0  \n",
       "21898                NaN            NaN            169.0  \n",
       "22717                NaN            NaN             75.0  \n",
       "\n",
       "[8 rows x 22 columns]"
      ]
     },
     "execution_count": 16,
     "metadata": {},
     "output_type": "execute_result"
    }
   ],
   "source": [
    "df[(df['locality_name'].isna()) & (df['city_centers_nearest'].isna() | (df['airports_nearest'].isna()))]"
   ]
  },
  {
   "cell_type": "markdown",
   "metadata": {},
   "source": [
    "Восстановление этих 8 исключений не представляется возможным, так как невозможно установить еще какую-либо значительную взаимосвязь в данных. Восстановим остальные пропущенные значения, где пропуски в этих двух столбцах отсутствуют."
   ]
  },
  {
   "cell_type": "code",
   "execution_count": 17,
   "metadata": {
    "pycharm": {
     "is_executing": true
    }
   },
   "outputs": [],
   "source": [
    "# Создадим функцию, которая будет принимать строку DF со значением NaN в столбце locality_name, будем брать оттуда значения расстояния до центра города и до аэропорта. Методом логической индексации выделим из нашего DF те строки, которые удовлетворяют заданному условию, увеличив отклонение для диапазона на +- 2 км для каждого из двух параметров.\n",
    "def recover_locality(x):\n",
    "    temp = df[(df['city_centers_nearest'] <= x['city_centers_nearest'] + 2) &\n",
    "              (df['city_centers_nearest'] >= x['city_centers_nearest'] - 2) &\n",
    "              (df['airports_nearest'] <= x['airports_nearest'] + 2) &\n",
    "              (df['airports_nearest'] >= x['airports_nearest'] - 2)]['locality_name']\n",
    "    # В переменной temp получим объект типа Series со значениями, включающими в себя обозначение населенного пункта и значение NaN, чтобы вернуть значение населенного пункта, пройдемся циклом по объекту Series и достанем оттуда значение населенного пункта.\n",
    "    for i in temp:\n",
    "        if i != np.nan:\n",
    "            return i\n",
    "    return np.nan"
   ]
  },
  {
   "cell_type": "markdown",
   "metadata": {},
   "source": [
    "Применим созданную функцию к строкам, где в столбце locality_name есть пропущенные значения (NaN)."
   ]
  },
  {
   "cell_type": "code",
   "execution_count": 18,
   "metadata": {
    "pycharm": {
     "is_executing": true
    }
   },
   "outputs": [],
   "source": [
    "# Используем метод apply, установив параметр axis=1 (итерируемся по строкам).\n",
    "df.loc[df['locality_name'].isna(), 'locality_name'] = df[\n",
    "    df['locality_name'].isna()].apply(recover_locality, axis=1)"
   ]
  },
  {
   "cell_type": "markdown",
   "metadata": {},
   "source": [
    "Проведем повторную проверку."
   ]
  },
  {
   "cell_type": "code",
   "execution_count": 19,
   "metadata": {
    "pycharm": {
     "is_executing": true
    }
   },
   "outputs": [
    {
     "data": {
      "text/html": [
       "<div>\n",
       "<style scoped>\n",
       "    .dataframe tbody tr th:only-of-type {\n",
       "        vertical-align: middle;\n",
       "    }\n",
       "\n",
       "    .dataframe tbody tr th {\n",
       "        vertical-align: top;\n",
       "    }\n",
       "\n",
       "    .dataframe thead th {\n",
       "        text-align: right;\n",
       "    }\n",
       "</style>\n",
       "<table border=\"1\" class=\"dataframe\">\n",
       "  <thead>\n",
       "    <tr style=\"text-align: right;\">\n",
       "      <th></th>\n",
       "      <th>total_images</th>\n",
       "      <th>last_price</th>\n",
       "      <th>total_area</th>\n",
       "      <th>first_day_exposition</th>\n",
       "      <th>rooms</th>\n",
       "      <th>ceiling_height</th>\n",
       "      <th>floors_total</th>\n",
       "      <th>living_area</th>\n",
       "      <th>floor</th>\n",
       "      <th>is_apartment</th>\n",
       "      <th>...</th>\n",
       "      <th>kitchen_area</th>\n",
       "      <th>balcony</th>\n",
       "      <th>locality_name</th>\n",
       "      <th>airports_nearest</th>\n",
       "      <th>city_centers_nearest</th>\n",
       "      <th>parks_around_3000</th>\n",
       "      <th>parks_nearest</th>\n",
       "      <th>ponds_around_3000</th>\n",
       "      <th>ponds_nearest</th>\n",
       "      <th>days_exposition</th>\n",
       "    </tr>\n",
       "  </thead>\n",
       "  <tbody>\n",
       "    <tr>\n",
       "      <th>2033</th>\n",
       "      <td>6</td>\n",
       "      <td>5.39800</td>\n",
       "      <td>80.0</td>\n",
       "      <td>2017-05-30T00:00:00</td>\n",
       "      <td>3</td>\n",
       "      <td>NaN</td>\n",
       "      <td>4.0</td>\n",
       "      <td>42.6</td>\n",
       "      <td>2</td>\n",
       "      <td>NaN</td>\n",
       "      <td>...</td>\n",
       "      <td>18.6</td>\n",
       "      <td>0.0</td>\n",
       "      <td>NaN</td>\n",
       "      <td>NaN</td>\n",
       "      <td>NaN</td>\n",
       "      <td>NaN</td>\n",
       "      <td>NaN</td>\n",
       "      <td>NaN</td>\n",
       "      <td>NaN</td>\n",
       "      <td>34.0</td>\n",
       "    </tr>\n",
       "    <tr>\n",
       "      <th>14342</th>\n",
       "      <td>3</td>\n",
       "      <td>3.61100</td>\n",
       "      <td>53.5</td>\n",
       "      <td>2017-04-27T00:00:00</td>\n",
       "      <td>1</td>\n",
       "      <td>NaN</td>\n",
       "      <td>4.0</td>\n",
       "      <td>25.8</td>\n",
       "      <td>3</td>\n",
       "      <td>False</td>\n",
       "      <td>...</td>\n",
       "      <td>NaN</td>\n",
       "      <td>1.0</td>\n",
       "      <td>NaN</td>\n",
       "      <td>NaN</td>\n",
       "      <td>NaN</td>\n",
       "      <td>NaN</td>\n",
       "      <td>NaN</td>\n",
       "      <td>NaN</td>\n",
       "      <td>NaN</td>\n",
       "      <td>92.0</td>\n",
       "    </tr>\n",
       "    <tr>\n",
       "      <th>17535</th>\n",
       "      <td>2</td>\n",
       "      <td>5.98500</td>\n",
       "      <td>79.8</td>\n",
       "      <td>2018-07-30T00:00:00</td>\n",
       "      <td>3</td>\n",
       "      <td>NaN</td>\n",
       "      <td>9.0</td>\n",
       "      <td>NaN</td>\n",
       "      <td>2</td>\n",
       "      <td>False</td>\n",
       "      <td>...</td>\n",
       "      <td>NaN</td>\n",
       "      <td>NaN</td>\n",
       "      <td>NaN</td>\n",
       "      <td>NaN</td>\n",
       "      <td>NaN</td>\n",
       "      <td>NaN</td>\n",
       "      <td>NaN</td>\n",
       "      <td>NaN</td>\n",
       "      <td>NaN</td>\n",
       "      <td>213.0</td>\n",
       "    </tr>\n",
       "    <tr>\n",
       "      <th>20382</th>\n",
       "      <td>8</td>\n",
       "      <td>1.75000</td>\n",
       "      <td>72.9</td>\n",
       "      <td>2018-10-27T00:00:00</td>\n",
       "      <td>3</td>\n",
       "      <td>NaN</td>\n",
       "      <td>5.0</td>\n",
       "      <td>47.3</td>\n",
       "      <td>2</td>\n",
       "      <td>NaN</td>\n",
       "      <td>...</td>\n",
       "      <td>8.3</td>\n",
       "      <td>NaN</td>\n",
       "      <td>NaN</td>\n",
       "      <td>NaN</td>\n",
       "      <td>NaN</td>\n",
       "      <td>NaN</td>\n",
       "      <td>NaN</td>\n",
       "      <td>NaN</td>\n",
       "      <td>NaN</td>\n",
       "      <td>NaN</td>\n",
       "    </tr>\n",
       "    <tr>\n",
       "      <th>20590</th>\n",
       "      <td>7</td>\n",
       "      <td>3.38000</td>\n",
       "      <td>56.0</td>\n",
       "      <td>2017-11-06T00:00:00</td>\n",
       "      <td>2</td>\n",
       "      <td>2.7</td>\n",
       "      <td>4.0</td>\n",
       "      <td>29.0</td>\n",
       "      <td>3</td>\n",
       "      <td>NaN</td>\n",
       "      <td>...</td>\n",
       "      <td>10.0</td>\n",
       "      <td>1.0</td>\n",
       "      <td>NaN</td>\n",
       "      <td>NaN</td>\n",
       "      <td>NaN</td>\n",
       "      <td>NaN</td>\n",
       "      <td>NaN</td>\n",
       "      <td>NaN</td>\n",
       "      <td>NaN</td>\n",
       "      <td>78.0</td>\n",
       "    </tr>\n",
       "    <tr>\n",
       "      <th>21715</th>\n",
       "      <td>2</td>\n",
       "      <td>6.04755</td>\n",
       "      <td>80.1</td>\n",
       "      <td>2018-07-30T00:00:00</td>\n",
       "      <td>2</td>\n",
       "      <td>NaN</td>\n",
       "      <td>9.0</td>\n",
       "      <td>30.5</td>\n",
       "      <td>2</td>\n",
       "      <td>False</td>\n",
       "      <td>...</td>\n",
       "      <td>29.2</td>\n",
       "      <td>NaN</td>\n",
       "      <td>NaN</td>\n",
       "      <td>NaN</td>\n",
       "      <td>NaN</td>\n",
       "      <td>NaN</td>\n",
       "      <td>NaN</td>\n",
       "      <td>NaN</td>\n",
       "      <td>NaN</td>\n",
       "      <td>176.0</td>\n",
       "    </tr>\n",
       "    <tr>\n",
       "      <th>21898</th>\n",
       "      <td>2</td>\n",
       "      <td>5.88675</td>\n",
       "      <td>83.5</td>\n",
       "      <td>2018-07-30T00:00:00</td>\n",
       "      <td>2</td>\n",
       "      <td>NaN</td>\n",
       "      <td>9.0</td>\n",
       "      <td>36.6</td>\n",
       "      <td>2</td>\n",
       "      <td>False</td>\n",
       "      <td>...</td>\n",
       "      <td>29.7</td>\n",
       "      <td>NaN</td>\n",
       "      <td>NaN</td>\n",
       "      <td>NaN</td>\n",
       "      <td>NaN</td>\n",
       "      <td>NaN</td>\n",
       "      <td>NaN</td>\n",
       "      <td>NaN</td>\n",
       "      <td>NaN</td>\n",
       "      <td>169.0</td>\n",
       "    </tr>\n",
       "    <tr>\n",
       "      <th>22717</th>\n",
       "      <td>9</td>\n",
       "      <td>3.00000</td>\n",
       "      <td>35.0</td>\n",
       "      <td>2018-01-02T00:00:00</td>\n",
       "      <td>1</td>\n",
       "      <td>2.6</td>\n",
       "      <td>16.0</td>\n",
       "      <td>16.0</td>\n",
       "      <td>7</td>\n",
       "      <td>False</td>\n",
       "      <td>...</td>\n",
       "      <td>10.0</td>\n",
       "      <td>1.0</td>\n",
       "      <td>NaN</td>\n",
       "      <td>NaN</td>\n",
       "      <td>NaN</td>\n",
       "      <td>NaN</td>\n",
       "      <td>NaN</td>\n",
       "      <td>NaN</td>\n",
       "      <td>NaN</td>\n",
       "      <td>75.0</td>\n",
       "    </tr>\n",
       "  </tbody>\n",
       "</table>\n",
       "<p>8 rows × 22 columns</p>\n",
       "</div>"
      ],
      "text/plain": [
       "       total_images  last_price  total_area first_day_exposition  rooms  \\\n",
       "2033              6     5.39800        80.0  2017-05-30T00:00:00      3   \n",
       "14342             3     3.61100        53.5  2017-04-27T00:00:00      1   \n",
       "17535             2     5.98500        79.8  2018-07-30T00:00:00      3   \n",
       "20382             8     1.75000        72.9  2018-10-27T00:00:00      3   \n",
       "20590             7     3.38000        56.0  2017-11-06T00:00:00      2   \n",
       "21715             2     6.04755        80.1  2018-07-30T00:00:00      2   \n",
       "21898             2     5.88675        83.5  2018-07-30T00:00:00      2   \n",
       "22717             9     3.00000        35.0  2018-01-02T00:00:00      1   \n",
       "\n",
       "       ceiling_height  floors_total  living_area  floor is_apartment  ...  \\\n",
       "2033              NaN           4.0         42.6      2          NaN  ...   \n",
       "14342             NaN           4.0         25.8      3        False  ...   \n",
       "17535             NaN           9.0          NaN      2        False  ...   \n",
       "20382             NaN           5.0         47.3      2          NaN  ...   \n",
       "20590             2.7           4.0         29.0      3          NaN  ...   \n",
       "21715             NaN           9.0         30.5      2        False  ...   \n",
       "21898             NaN           9.0         36.6      2        False  ...   \n",
       "22717             2.6          16.0         16.0      7        False  ...   \n",
       "\n",
       "       kitchen_area  balcony  locality_name  airports_nearest  \\\n",
       "2033           18.6      0.0            NaN               NaN   \n",
       "14342           NaN      1.0            NaN               NaN   \n",
       "17535           NaN      NaN            NaN               NaN   \n",
       "20382           8.3      NaN            NaN               NaN   \n",
       "20590          10.0      1.0            NaN               NaN   \n",
       "21715          29.2      NaN            NaN               NaN   \n",
       "21898          29.7      NaN            NaN               NaN   \n",
       "22717          10.0      1.0            NaN               NaN   \n",
       "\n",
       "      city_centers_nearest  parks_around_3000  parks_nearest  \\\n",
       "2033                   NaN                NaN            NaN   \n",
       "14342                  NaN                NaN            NaN   \n",
       "17535                  NaN                NaN            NaN   \n",
       "20382                  NaN                NaN            NaN   \n",
       "20590                  NaN                NaN            NaN   \n",
       "21715                  NaN                NaN            NaN   \n",
       "21898                  NaN                NaN            NaN   \n",
       "22717                  NaN                NaN            NaN   \n",
       "\n",
       "       ponds_around_3000  ponds_nearest  days_exposition  \n",
       "2033                 NaN            NaN             34.0  \n",
       "14342                NaN            NaN             92.0  \n",
       "17535                NaN            NaN            213.0  \n",
       "20382                NaN            NaN              NaN  \n",
       "20590                NaN            NaN             78.0  \n",
       "21715                NaN            NaN            176.0  \n",
       "21898                NaN            NaN            169.0  \n",
       "22717                NaN            NaN             75.0  \n",
       "\n",
       "[8 rows x 22 columns]"
      ]
     },
     "execution_count": 19,
     "metadata": {},
     "output_type": "execute_result"
    }
   ],
   "source": [
    "df[(df['locality_name'].isna()) & (df['city_centers_nearest'].isna() | (df['airports_nearest'].isna()))]"
   ]
  },
  {
   "cell_type": "code",
   "execution_count": 20,
   "metadata": {
    "pycharm": {
     "is_executing": true
    }
   },
   "outputs": [
    {
     "data": {
      "text/html": [
       "<div>\n",
       "<style scoped>\n",
       "    .dataframe tbody tr th:only-of-type {\n",
       "        vertical-align: middle;\n",
       "    }\n",
       "\n",
       "    .dataframe tbody tr th {\n",
       "        vertical-align: top;\n",
       "    }\n",
       "\n",
       "    .dataframe thead th {\n",
       "        text-align: right;\n",
       "    }\n",
       "</style>\n",
       "<table border=\"1\" class=\"dataframe\">\n",
       "  <thead>\n",
       "    <tr style=\"text-align: right;\">\n",
       "      <th></th>\n",
       "      <th>total_images</th>\n",
       "      <th>last_price</th>\n",
       "      <th>total_area</th>\n",
       "      <th>first_day_exposition</th>\n",
       "      <th>rooms</th>\n",
       "      <th>ceiling_height</th>\n",
       "      <th>floors_total</th>\n",
       "      <th>living_area</th>\n",
       "      <th>floor</th>\n",
       "      <th>is_apartment</th>\n",
       "      <th>...</th>\n",
       "      <th>kitchen_area</th>\n",
       "      <th>balcony</th>\n",
       "      <th>locality_name</th>\n",
       "      <th>airports_nearest</th>\n",
       "      <th>city_centers_nearest</th>\n",
       "      <th>parks_around_3000</th>\n",
       "      <th>parks_nearest</th>\n",
       "      <th>ponds_around_3000</th>\n",
       "      <th>ponds_nearest</th>\n",
       "      <th>days_exposition</th>\n",
       "    </tr>\n",
       "  </thead>\n",
       "  <tbody>\n",
       "    <tr>\n",
       "      <th>2033</th>\n",
       "      <td>6</td>\n",
       "      <td>5.39800</td>\n",
       "      <td>80.0</td>\n",
       "      <td>2017-05-30T00:00:00</td>\n",
       "      <td>3</td>\n",
       "      <td>NaN</td>\n",
       "      <td>4.0</td>\n",
       "      <td>42.6</td>\n",
       "      <td>2</td>\n",
       "      <td>NaN</td>\n",
       "      <td>...</td>\n",
       "      <td>18.6</td>\n",
       "      <td>0.0</td>\n",
       "      <td>NaN</td>\n",
       "      <td>NaN</td>\n",
       "      <td>NaN</td>\n",
       "      <td>NaN</td>\n",
       "      <td>NaN</td>\n",
       "      <td>NaN</td>\n",
       "      <td>NaN</td>\n",
       "      <td>34.0</td>\n",
       "    </tr>\n",
       "    <tr>\n",
       "      <th>14342</th>\n",
       "      <td>3</td>\n",
       "      <td>3.61100</td>\n",
       "      <td>53.5</td>\n",
       "      <td>2017-04-27T00:00:00</td>\n",
       "      <td>1</td>\n",
       "      <td>NaN</td>\n",
       "      <td>4.0</td>\n",
       "      <td>25.8</td>\n",
       "      <td>3</td>\n",
       "      <td>False</td>\n",
       "      <td>...</td>\n",
       "      <td>NaN</td>\n",
       "      <td>1.0</td>\n",
       "      <td>NaN</td>\n",
       "      <td>NaN</td>\n",
       "      <td>NaN</td>\n",
       "      <td>NaN</td>\n",
       "      <td>NaN</td>\n",
       "      <td>NaN</td>\n",
       "      <td>NaN</td>\n",
       "      <td>92.0</td>\n",
       "    </tr>\n",
       "    <tr>\n",
       "      <th>17535</th>\n",
       "      <td>2</td>\n",
       "      <td>5.98500</td>\n",
       "      <td>79.8</td>\n",
       "      <td>2018-07-30T00:00:00</td>\n",
       "      <td>3</td>\n",
       "      <td>NaN</td>\n",
       "      <td>9.0</td>\n",
       "      <td>NaN</td>\n",
       "      <td>2</td>\n",
       "      <td>False</td>\n",
       "      <td>...</td>\n",
       "      <td>NaN</td>\n",
       "      <td>NaN</td>\n",
       "      <td>NaN</td>\n",
       "      <td>NaN</td>\n",
       "      <td>NaN</td>\n",
       "      <td>NaN</td>\n",
       "      <td>NaN</td>\n",
       "      <td>NaN</td>\n",
       "      <td>NaN</td>\n",
       "      <td>213.0</td>\n",
       "    </tr>\n",
       "    <tr>\n",
       "      <th>20382</th>\n",
       "      <td>8</td>\n",
       "      <td>1.75000</td>\n",
       "      <td>72.9</td>\n",
       "      <td>2018-10-27T00:00:00</td>\n",
       "      <td>3</td>\n",
       "      <td>NaN</td>\n",
       "      <td>5.0</td>\n",
       "      <td>47.3</td>\n",
       "      <td>2</td>\n",
       "      <td>NaN</td>\n",
       "      <td>...</td>\n",
       "      <td>8.3</td>\n",
       "      <td>NaN</td>\n",
       "      <td>NaN</td>\n",
       "      <td>NaN</td>\n",
       "      <td>NaN</td>\n",
       "      <td>NaN</td>\n",
       "      <td>NaN</td>\n",
       "      <td>NaN</td>\n",
       "      <td>NaN</td>\n",
       "      <td>NaN</td>\n",
       "    </tr>\n",
       "    <tr>\n",
       "      <th>20590</th>\n",
       "      <td>7</td>\n",
       "      <td>3.38000</td>\n",
       "      <td>56.0</td>\n",
       "      <td>2017-11-06T00:00:00</td>\n",
       "      <td>2</td>\n",
       "      <td>2.7</td>\n",
       "      <td>4.0</td>\n",
       "      <td>29.0</td>\n",
       "      <td>3</td>\n",
       "      <td>NaN</td>\n",
       "      <td>...</td>\n",
       "      <td>10.0</td>\n",
       "      <td>1.0</td>\n",
       "      <td>NaN</td>\n",
       "      <td>NaN</td>\n",
       "      <td>NaN</td>\n",
       "      <td>NaN</td>\n",
       "      <td>NaN</td>\n",
       "      <td>NaN</td>\n",
       "      <td>NaN</td>\n",
       "      <td>78.0</td>\n",
       "    </tr>\n",
       "    <tr>\n",
       "      <th>21715</th>\n",
       "      <td>2</td>\n",
       "      <td>6.04755</td>\n",
       "      <td>80.1</td>\n",
       "      <td>2018-07-30T00:00:00</td>\n",
       "      <td>2</td>\n",
       "      <td>NaN</td>\n",
       "      <td>9.0</td>\n",
       "      <td>30.5</td>\n",
       "      <td>2</td>\n",
       "      <td>False</td>\n",
       "      <td>...</td>\n",
       "      <td>29.2</td>\n",
       "      <td>NaN</td>\n",
       "      <td>NaN</td>\n",
       "      <td>NaN</td>\n",
       "      <td>NaN</td>\n",
       "      <td>NaN</td>\n",
       "      <td>NaN</td>\n",
       "      <td>NaN</td>\n",
       "      <td>NaN</td>\n",
       "      <td>176.0</td>\n",
       "    </tr>\n",
       "    <tr>\n",
       "      <th>21898</th>\n",
       "      <td>2</td>\n",
       "      <td>5.88675</td>\n",
       "      <td>83.5</td>\n",
       "      <td>2018-07-30T00:00:00</td>\n",
       "      <td>2</td>\n",
       "      <td>NaN</td>\n",
       "      <td>9.0</td>\n",
       "      <td>36.6</td>\n",
       "      <td>2</td>\n",
       "      <td>False</td>\n",
       "      <td>...</td>\n",
       "      <td>29.7</td>\n",
       "      <td>NaN</td>\n",
       "      <td>NaN</td>\n",
       "      <td>NaN</td>\n",
       "      <td>NaN</td>\n",
       "      <td>NaN</td>\n",
       "      <td>NaN</td>\n",
       "      <td>NaN</td>\n",
       "      <td>NaN</td>\n",
       "      <td>169.0</td>\n",
       "    </tr>\n",
       "    <tr>\n",
       "      <th>22717</th>\n",
       "      <td>9</td>\n",
       "      <td>3.00000</td>\n",
       "      <td>35.0</td>\n",
       "      <td>2018-01-02T00:00:00</td>\n",
       "      <td>1</td>\n",
       "      <td>2.6</td>\n",
       "      <td>16.0</td>\n",
       "      <td>16.0</td>\n",
       "      <td>7</td>\n",
       "      <td>False</td>\n",
       "      <td>...</td>\n",
       "      <td>10.0</td>\n",
       "      <td>1.0</td>\n",
       "      <td>NaN</td>\n",
       "      <td>NaN</td>\n",
       "      <td>NaN</td>\n",
       "      <td>NaN</td>\n",
       "      <td>NaN</td>\n",
       "      <td>NaN</td>\n",
       "      <td>NaN</td>\n",
       "      <td>75.0</td>\n",
       "    </tr>\n",
       "  </tbody>\n",
       "</table>\n",
       "<p>8 rows × 22 columns</p>\n",
       "</div>"
      ],
      "text/plain": [
       "       total_images  last_price  total_area first_day_exposition  rooms  \\\n",
       "2033              6     5.39800        80.0  2017-05-30T00:00:00      3   \n",
       "14342             3     3.61100        53.5  2017-04-27T00:00:00      1   \n",
       "17535             2     5.98500        79.8  2018-07-30T00:00:00      3   \n",
       "20382             8     1.75000        72.9  2018-10-27T00:00:00      3   \n",
       "20590             7     3.38000        56.0  2017-11-06T00:00:00      2   \n",
       "21715             2     6.04755        80.1  2018-07-30T00:00:00      2   \n",
       "21898             2     5.88675        83.5  2018-07-30T00:00:00      2   \n",
       "22717             9     3.00000        35.0  2018-01-02T00:00:00      1   \n",
       "\n",
       "       ceiling_height  floors_total  living_area  floor is_apartment  ...  \\\n",
       "2033              NaN           4.0         42.6      2          NaN  ...   \n",
       "14342             NaN           4.0         25.8      3        False  ...   \n",
       "17535             NaN           9.0          NaN      2        False  ...   \n",
       "20382             NaN           5.0         47.3      2          NaN  ...   \n",
       "20590             2.7           4.0         29.0      3          NaN  ...   \n",
       "21715             NaN           9.0         30.5      2        False  ...   \n",
       "21898             NaN           9.0         36.6      2        False  ...   \n",
       "22717             2.6          16.0         16.0      7        False  ...   \n",
       "\n",
       "       kitchen_area  balcony  locality_name  airports_nearest  \\\n",
       "2033           18.6      0.0            NaN               NaN   \n",
       "14342           NaN      1.0            NaN               NaN   \n",
       "17535           NaN      NaN            NaN               NaN   \n",
       "20382           8.3      NaN            NaN               NaN   \n",
       "20590          10.0      1.0            NaN               NaN   \n",
       "21715          29.2      NaN            NaN               NaN   \n",
       "21898          29.7      NaN            NaN               NaN   \n",
       "22717          10.0      1.0            NaN               NaN   \n",
       "\n",
       "      city_centers_nearest  parks_around_3000  parks_nearest  \\\n",
       "2033                   NaN                NaN            NaN   \n",
       "14342                  NaN                NaN            NaN   \n",
       "17535                  NaN                NaN            NaN   \n",
       "20382                  NaN                NaN            NaN   \n",
       "20590                  NaN                NaN            NaN   \n",
       "21715                  NaN                NaN            NaN   \n",
       "21898                  NaN                NaN            NaN   \n",
       "22717                  NaN                NaN            NaN   \n",
       "\n",
       "       ponds_around_3000  ponds_nearest  days_exposition  \n",
       "2033                 NaN            NaN             34.0  \n",
       "14342                NaN            NaN             92.0  \n",
       "17535                NaN            NaN            213.0  \n",
       "20382                NaN            NaN              NaN  \n",
       "20590                NaN            NaN             78.0  \n",
       "21715                NaN            NaN            176.0  \n",
       "21898                NaN            NaN            169.0  \n",
       "22717                NaN            NaN             75.0  \n",
       "\n",
       "[8 rows x 22 columns]"
      ]
     },
     "execution_count": 20,
     "metadata": {},
     "output_type": "execute_result"
    }
   ],
   "source": [
    "df[df['locality_name'].isna()]"
   ]
  },
  {
   "cell_type": "markdown",
   "metadata": {},
   "source": [
    "Удалим оставшиеся 8 строк с пропущенными значениями в столбце locality_name из-за невозможности их достоверного восстановления и их малого количества относительно общего размера DF."
   ]
  },
  {
   "cell_type": "code",
   "execution_count": 21,
   "metadata": {
    "pycharm": {
     "is_executing": true
    }
   },
   "outputs": [],
   "source": [
    "df.dropna(subset=['locality_name'], inplace=True)"
   ]
  },
  {
   "cell_type": "code",
   "execution_count": 22,
   "metadata": {
    "pycharm": {
     "is_executing": true
    }
   },
   "outputs": [
    {
     "data": {
      "text/html": [
       "<div>\n",
       "<style scoped>\n",
       "    .dataframe tbody tr th:only-of-type {\n",
       "        vertical-align: middle;\n",
       "    }\n",
       "\n",
       "    .dataframe tbody tr th {\n",
       "        vertical-align: top;\n",
       "    }\n",
       "\n",
       "    .dataframe thead th {\n",
       "        text-align: right;\n",
       "    }\n",
       "</style>\n",
       "<table border=\"1\" class=\"dataframe\">\n",
       "  <thead>\n",
       "    <tr style=\"text-align: right;\">\n",
       "      <th></th>\n",
       "      <th>total_images</th>\n",
       "      <th>last_price</th>\n",
       "      <th>total_area</th>\n",
       "      <th>first_day_exposition</th>\n",
       "      <th>rooms</th>\n",
       "      <th>ceiling_height</th>\n",
       "      <th>floors_total</th>\n",
       "      <th>living_area</th>\n",
       "      <th>floor</th>\n",
       "      <th>is_apartment</th>\n",
       "      <th>...</th>\n",
       "      <th>kitchen_area</th>\n",
       "      <th>balcony</th>\n",
       "      <th>locality_name</th>\n",
       "      <th>airports_nearest</th>\n",
       "      <th>city_centers_nearest</th>\n",
       "      <th>parks_around_3000</th>\n",
       "      <th>parks_nearest</th>\n",
       "      <th>ponds_around_3000</th>\n",
       "      <th>ponds_nearest</th>\n",
       "      <th>days_exposition</th>\n",
       "    </tr>\n",
       "  </thead>\n",
       "  <tbody>\n",
       "  </tbody>\n",
       "</table>\n",
       "<p>0 rows × 22 columns</p>\n",
       "</div>"
      ],
      "text/plain": [
       "Empty DataFrame\n",
       "Columns: [total_images, last_price, total_area, first_day_exposition, rooms, ceiling_height, floors_total, living_area, floor, is_apartment, studio, open_plan, kitchen_area, balcony, locality_name, airports_nearest, city_centers_nearest, parks_around_3000, parks_nearest, ponds_around_3000, ponds_nearest, days_exposition]\n",
       "Index: []\n",
       "\n",
       "[0 rows x 22 columns]"
      ]
     },
     "execution_count": 22,
     "metadata": {},
     "output_type": "execute_result"
    }
   ],
   "source": [
    "df[df['locality_name'].isna()]"
   ]
  },
  {
   "cell_type": "markdown",
   "metadata": {},
   "source": [
    "Выведем оставшееся количество строк DF, чтобы удостовериться в корректном удалении."
   ]
  },
  {
   "cell_type": "code",
   "execution_count": 23,
   "metadata": {
    "pycharm": {
     "is_executing": true
    }
   },
   "outputs": [
    {
     "data": {
      "text/plain": [
       "23691"
      ]
     },
     "execution_count": 23,
     "metadata": {},
     "output_type": "execute_result"
    }
   ],
   "source": [
    "df.shape[0]"
   ]
  },
  {
   "cell_type": "markdown",
   "metadata": {},
   "source": [
    "Для дальнейшей удобной и корректной работы удалим неявные дубликаты в восстановленном столбце."
   ]
  },
  {
   "cell_type": "code",
   "execution_count": 24,
   "metadata": {
    "pycharm": {
     "is_executing": true
    }
   },
   "outputs": [
    {
     "data": {
      "text/plain": [
       "['Бокситогорск',\n",
       " 'Волосово',\n",
       " 'Волхов',\n",
       " 'Всеволожск',\n",
       " 'Выборг',\n",
       " 'Высоцк',\n",
       " 'Гатчина',\n",
       " 'Зеленогорск',\n",
       " 'Ивангород',\n",
       " 'Каменногорск',\n",
       " 'Кингисепп',\n",
       " 'Кириши',\n",
       " 'Кировск',\n",
       " 'Колпино',\n",
       " 'Коммунар',\n",
       " 'Красное Село',\n",
       " 'Кронштадт',\n",
       " 'Кудрово',\n",
       " 'Лодейное Поле',\n",
       " 'Ломоносов',\n",
       " 'Луга',\n",
       " 'Любань',\n",
       " 'Мурино',\n",
       " 'Никольское',\n",
       " 'Новая Ладога',\n",
       " 'Отрадное',\n",
       " 'Павловск',\n",
       " 'Петергоф',\n",
       " 'Пикалёво',\n",
       " 'Подпорожье',\n",
       " 'Приморск',\n",
       " 'Приозерск',\n",
       " 'Пушкин',\n",
       " 'Санкт-Петербург',\n",
       " 'Светогорск',\n",
       " 'Сертолово',\n",
       " 'Сестрорецк',\n",
       " 'Сланцы',\n",
       " 'Сосновый Бор',\n",
       " 'Сясьстрой',\n",
       " 'Тихвин',\n",
       " 'Тосно',\n",
       " 'Шлиссельбург',\n",
       " 'городской поселок Большая Ижора',\n",
       " 'городской поселок Янино-1',\n",
       " 'городской посёлок Будогощь',\n",
       " 'городской посёлок Виллози',\n",
       " 'городской посёлок Лесогорский',\n",
       " 'городской посёлок Мга',\n",
       " 'городской посёлок Назия',\n",
       " 'городской посёлок Новоселье',\n",
       " 'городской посёлок Павлово',\n",
       " 'городской посёлок Рощино',\n",
       " 'городской посёлок Свирьстрой',\n",
       " 'городской посёлок Советский',\n",
       " 'городской посёлок Фёдоровское',\n",
       " 'городской посёлок Янино-1',\n",
       " 'деревня Агалатово',\n",
       " 'деревня Аро',\n",
       " 'деревня Батово',\n",
       " 'деревня Бегуницы',\n",
       " 'деревня Белогорка',\n",
       " 'деревня Большая Вруда',\n",
       " 'деревня Большая Пустомержа',\n",
       " 'деревня Большие Колпаны',\n",
       " 'деревня Большое Рейзино',\n",
       " 'деревня Большой Сабск',\n",
       " 'деревня Бор',\n",
       " 'деревня Борисова Грива',\n",
       " 'деревня Ваганово',\n",
       " 'деревня Вартемяги',\n",
       " 'деревня Вахнова Кара',\n",
       " 'деревня Выскатка',\n",
       " 'деревня Гарболово',\n",
       " 'деревня Глинка',\n",
       " 'деревня Горбунки',\n",
       " 'деревня Гостилицы',\n",
       " 'деревня Заклинье',\n",
       " 'деревня Заневка',\n",
       " 'деревня Зимитицы',\n",
       " 'деревня Извара',\n",
       " 'деревня Иссад',\n",
       " 'деревня Калитино',\n",
       " 'деревня Кальтино',\n",
       " 'деревня Камышовка',\n",
       " 'деревня Каськово',\n",
       " 'деревня Келози',\n",
       " 'деревня Кипень',\n",
       " 'деревня Кисельня',\n",
       " 'деревня Колтуши',\n",
       " 'деревня Коркино',\n",
       " 'деревня Котлы',\n",
       " 'деревня Кривко',\n",
       " 'деревня Кудрово',\n",
       " 'деревня Кузьмолово',\n",
       " 'деревня Курковицы',\n",
       " 'деревня Куровицы',\n",
       " 'деревня Куттузи',\n",
       " 'деревня Лаврики',\n",
       " 'деревня Лаголово',\n",
       " 'деревня Лампово',\n",
       " 'деревня Лесколово',\n",
       " 'деревня Лопухинка',\n",
       " 'деревня Лупполово',\n",
       " 'деревня Малая Романовка',\n",
       " 'деревня Малое Верево',\n",
       " 'деревня Малое Карлино',\n",
       " 'деревня Малые Колпаны',\n",
       " 'деревня Мануйлово',\n",
       " 'деревня Меньково',\n",
       " 'деревня Мины',\n",
       " 'деревня Мистолово',\n",
       " 'деревня Ненимяки',\n",
       " 'деревня Нижние Осельки',\n",
       " 'деревня Нижняя',\n",
       " 'деревня Низино',\n",
       " 'деревня Новое Девяткино',\n",
       " 'деревня Новолисино',\n",
       " 'деревня Нурма',\n",
       " 'деревня Оржицы',\n",
       " 'деревня Парицы',\n",
       " 'деревня Пельгора',\n",
       " 'деревня Пеники',\n",
       " 'деревня Пижма',\n",
       " 'деревня Пикколово',\n",
       " 'деревня Пудомяги',\n",
       " 'деревня Пустынка',\n",
       " 'деревня Пчева',\n",
       " 'деревня Рабитицы',\n",
       " 'деревня Разбегаево',\n",
       " 'деревня Раздолье',\n",
       " 'деревня Разметелево',\n",
       " 'деревня Рапполово',\n",
       " 'деревня Реброво',\n",
       " 'деревня Русско',\n",
       " 'деревня Сижно',\n",
       " 'деревня Снегирёвка',\n",
       " 'деревня Старая',\n",
       " 'деревня Старая Пустошь',\n",
       " 'деревня Старое Хинколово',\n",
       " 'деревня Старополье',\n",
       " 'деревня Старосиверская',\n",
       " 'деревня Старые Бегуницы',\n",
       " 'деревня Суоранда',\n",
       " 'деревня Сяськелево',\n",
       " 'деревня Тарасово',\n",
       " 'деревня Терпилицы',\n",
       " 'деревня Тихковицы',\n",
       " 'деревня Тойворово',\n",
       " 'деревня Торосово',\n",
       " 'деревня Торошковичи',\n",
       " 'деревня Трубников Бор',\n",
       " 'деревня Фалилеево',\n",
       " 'деревня Фёдоровское',\n",
       " 'деревня Хапо-Ое',\n",
       " 'деревня Хязельки',\n",
       " 'деревня Чудской Бор',\n",
       " 'деревня Шпаньково',\n",
       " 'деревня Щеглово',\n",
       " 'деревня Юкки',\n",
       " 'деревня Ялгино',\n",
       " 'деревня Яльгелево',\n",
       " 'деревня Ям-Тесово',\n",
       " 'коттеджный поселок Кивеннапа Север',\n",
       " 'коттеджный поселок Счастье',\n",
       " 'коттеджный посёлок Лесное',\n",
       " 'поселок Аннино',\n",
       " 'поселок Барышево',\n",
       " 'поселок Бугры',\n",
       " 'поселок Возрождение',\n",
       " 'поселок Войсковицы',\n",
       " 'поселок Володарское',\n",
       " 'поселок Гаврилово',\n",
       " 'поселок Гарболово',\n",
       " 'поселок Гладкое',\n",
       " 'поселок Глажево',\n",
       " 'поселок Глебычево',\n",
       " 'поселок Гончарово',\n",
       " 'поселок Громово',\n",
       " 'поселок Дружноселье',\n",
       " 'поселок Елизаветино',\n",
       " 'поселок Жилгородок',\n",
       " 'поселок Жилпосёлок',\n",
       " 'поселок Житково',\n",
       " 'поселок Заводской',\n",
       " 'поселок Запорожское',\n",
       " 'поселок Зимитицы',\n",
       " 'поселок Ильичёво',\n",
       " 'поселок Калитино',\n",
       " 'поселок Каложицы',\n",
       " 'поселок Кингисеппский',\n",
       " 'поселок Кирпичное',\n",
       " 'поселок Кобралово',\n",
       " 'поселок Кобринское',\n",
       " 'поселок Коммунары',\n",
       " 'поселок Коробицыно',\n",
       " 'поселок Котельский',\n",
       " 'поселок Красная Долина',\n",
       " 'поселок Красносельское',\n",
       " 'поселок Лесное',\n",
       " 'поселок Лисий Нос',\n",
       " 'поселок Лукаши',\n",
       " 'поселок Любань',\n",
       " 'поселок Мельниково',\n",
       " 'поселок Мичуринское',\n",
       " 'поселок Молодцово',\n",
       " 'поселок Мурино',\n",
       " 'поселок Новый Свет',\n",
       " 'поселок Новый Учхоз',\n",
       " 'поселок Оредеж',\n",
       " 'поселок Пансионат Зелёный Бор',\n",
       " 'поселок Первомайское',\n",
       " 'поселок Перово',\n",
       " 'поселок Петровское',\n",
       " 'поселок Победа',\n",
       " 'поселок Поляны',\n",
       " 'поселок Почап',\n",
       " 'поселок Починок',\n",
       " 'поселок Пушное',\n",
       " 'поселок Пчевжа',\n",
       " 'поселок Рабитицы',\n",
       " 'поселок Романовка',\n",
       " 'поселок Ромашки',\n",
       " 'поселок Рябово',\n",
       " 'поселок Севастьяново',\n",
       " 'поселок Селезнёво',\n",
       " 'поселок Сельцо',\n",
       " 'поселок Семиозерье',\n",
       " 'поселок Семрино',\n",
       " 'поселок Серебрянский',\n",
       " 'поселок Совхозный',\n",
       " 'поселок Старая Малукса',\n",
       " 'поселок Стеклянный',\n",
       " 'поселок Сумино',\n",
       " 'поселок Суходолье',\n",
       " 'поселок Тельмана',\n",
       " 'поселок Терволово',\n",
       " 'поселок Торковичи',\n",
       " 'поселок Тёсово-4',\n",
       " 'поселок Углово',\n",
       " 'поселок Усть-Луга',\n",
       " 'поселок Ушаки',\n",
       " 'поселок Цвелодубово',\n",
       " 'поселок Цвылёво',\n",
       " 'поселок городского типа Большая Ижора',\n",
       " 'поселок городского типа Вырица',\n",
       " 'поселок городского типа Дружная Горка',\n",
       " 'поселок городского типа Дубровка',\n",
       " 'поселок городского типа Ефимовский',\n",
       " 'поселок городского типа Кондратьево',\n",
       " 'поселок городского типа Красный Бор',\n",
       " 'поселок городского типа Кузьмоловский',\n",
       " 'поселок городского типа Лебяжье',\n",
       " 'поселок городского типа Лесогорский',\n",
       " 'поселок городского типа Назия',\n",
       " 'поселок городского типа Никольский',\n",
       " 'поселок городского типа Приладожский',\n",
       " 'поселок городского типа Рахья',\n",
       " 'поселок городского типа Рощино',\n",
       " 'поселок городского типа Рябово',\n",
       " 'поселок городского типа Синявино',\n",
       " 'поселок городского типа Советский',\n",
       " 'поселок городского типа Токсово',\n",
       " 'поселок городского типа Форносово',\n",
       " 'поселок городского типа имени Свердлова',\n",
       " 'поселок станции Вещево',\n",
       " 'поселок станции Корнево',\n",
       " 'поселок станции Лужайка',\n",
       " 'поселок станции Приветнинское',\n",
       " 'посёлок Александровская',\n",
       " 'посёлок Алексеевка',\n",
       " 'посёлок Аннино',\n",
       " 'посёлок Белоостров',\n",
       " 'посёлок Бугры',\n",
       " 'посёлок Возрождение',\n",
       " 'посёлок Войскорово',\n",
       " 'посёлок Высокоключевой',\n",
       " 'посёлок Гаврилово',\n",
       " 'посёлок Дзержинского',\n",
       " 'посёлок Жилгородок',\n",
       " 'посёлок Ильичёво',\n",
       " 'посёлок Кикерино',\n",
       " 'посёлок Кобралово',\n",
       " 'посёлок Коробицыно',\n",
       " 'посёлок Левашово',\n",
       " 'посёлок Ленинское',\n",
       " 'посёлок Лисий Нос',\n",
       " 'посёлок Мельниково',\n",
       " 'посёлок Металлострой',\n",
       " 'посёлок Мичуринское',\n",
       " 'посёлок Молодёжное',\n",
       " 'посёлок Мурино',\n",
       " 'посёлок Мыза-Ивановка',\n",
       " 'посёлок Новогорелово',\n",
       " 'посёлок Новый Свет',\n",
       " 'посёлок Пансионат Зелёный Бор',\n",
       " 'посёлок Парголово',\n",
       " 'посёлок Перово',\n",
       " 'посёлок Песочный',\n",
       " 'посёлок Петро-Славянка',\n",
       " 'посёлок Петровское',\n",
       " 'посёлок Платформа 69-й километр',\n",
       " 'посёлок Плодовое',\n",
       " 'посёлок Плоское',\n",
       " 'посёлок Победа',\n",
       " 'посёлок Поляны',\n",
       " 'посёлок Понтонный',\n",
       " 'посёлок Пригородный',\n",
       " 'посёлок Пудость',\n",
       " 'посёлок Репино',\n",
       " 'посёлок Ропша',\n",
       " 'посёлок Сапёрное',\n",
       " 'посёлок Сапёрный',\n",
       " 'посёлок Сосново',\n",
       " 'посёлок Старая Малукса',\n",
       " 'посёлок Стеклянный',\n",
       " 'посёлок Стрельна',\n",
       " 'посёлок Суйда',\n",
       " 'посёлок Сумино',\n",
       " 'посёлок Тельмана',\n",
       " 'посёлок Терволово',\n",
       " 'посёлок Торфяное',\n",
       " 'посёлок Усть-Ижора',\n",
       " 'посёлок Усть-Луга',\n",
       " 'посёлок Форт Красная Горка',\n",
       " 'посёлок Шугозеро',\n",
       " 'посёлок Шушары',\n",
       " 'посёлок Щеглово',\n",
       " 'посёлок городского типа Важины',\n",
       " 'посёлок городского типа Вознесенье',\n",
       " 'посёлок городского типа Вырица',\n",
       " 'посёлок городского типа Красный Бор',\n",
       " 'посёлок городского типа Кузнечное',\n",
       " 'посёлок городского типа Кузьмоловский',\n",
       " 'посёлок городского типа Лебяжье',\n",
       " 'посёлок городского типа Мга',\n",
       " 'посёлок городского типа Павлово',\n",
       " 'посёлок городского типа Рощино',\n",
       " 'посёлок городского типа Рябово',\n",
       " 'посёлок городского типа Сиверский',\n",
       " 'посёлок городского типа Тайцы',\n",
       " 'посёлок городского типа Токсово',\n",
       " 'посёлок городского типа Ульяновка',\n",
       " 'посёлок городского типа Форносово',\n",
       " 'посёлок городского типа имени Морозова',\n",
       " 'посёлок городского типа имени Свердлова',\n",
       " 'посёлок при железнодорожной станции Вещево',\n",
       " 'посёлок при железнодорожной станции Приветнинское',\n",
       " 'посёлок станции Громово',\n",
       " 'посёлок станции Свирь',\n",
       " 'садоводческое некоммерческое товарищество Лесная Поляна',\n",
       " 'садовое товарищество Новая Ропша',\n",
       " 'садовое товарищество Приладожский',\n",
       " 'садовое товарищество Рахья',\n",
       " 'садовое товарищество Садко',\n",
       " 'село Копорье',\n",
       " 'село Никольское',\n",
       " 'село Павлово',\n",
       " 'село Паша',\n",
       " 'село Путилово',\n",
       " 'село Рождествено',\n",
       " 'село Русско-Высоцкое',\n",
       " 'село Старая Ладога',\n",
       " 'село Шум']"
      ]
     },
     "execution_count": 24,
     "metadata": {},
     "output_type": "execute_result"
    }
   ],
   "source": [
    "# Для оценки выведем отсортированные по алфавиту уникальные значения.\n",
    "sorted(df['locality_name'].unique())"
   ]
  },
  {
   "cell_type": "markdown",
   "metadata": {},
   "source": [
    "Приведем все значения в нижний регистр."
   ]
  },
  {
   "cell_type": "code",
   "execution_count": 25,
   "metadata": {
    "pycharm": {
     "is_executing": true
    }
   },
   "outputs": [],
   "source": [
    "# Приведем все значения в нижний регистр.\n",
    "df['locality_name'] = df['locality_name'].str.lower()\n",
    "# Одним из часто встречающихся паттернов является одновременное использование двух букв - ё и е. Заменим букву ё на букву е.\n",
    "df['locality_name'] = df['locality_name'].str.replace('ё', 'е')"
   ]
  },
  {
   "cell_type": "code",
   "execution_count": 26,
   "metadata": {
    "pycharm": {
     "is_executing": true
    }
   },
   "outputs": [
    {
     "data": {
      "text/plain": [
       "330"
      ]
     },
     "execution_count": 26,
     "metadata": {},
     "output_type": "execute_result"
    }
   ],
   "source": [
    "df['locality_name'].nunique()"
   ]
  },
  {
   "cell_type": "code",
   "execution_count": 27,
   "metadata": {
    "pycharm": {
     "is_executing": true
    }
   },
   "outputs": [
    {
     "data": {
      "text/plain": [
       "Counter({'санкт-петербург': 1,\n",
       "         'поселок': 167,\n",
       "         'шушары': 1,\n",
       "         'городской': 13,\n",
       "         'янино-1': 1,\n",
       "         'парголово': 1,\n",
       "         'мурино': 2,\n",
       "         'ломоносов': 1,\n",
       "         'сертолово': 1,\n",
       "         'петергоф': 1,\n",
       "         'пушкин': 1,\n",
       "         'деревня': 106,\n",
       "         'кудрово': 2,\n",
       "         'коммунар': 1,\n",
       "         'колпино': 1,\n",
       "         'городского': 30,\n",
       "         'типа': 30,\n",
       "         'красный': 1,\n",
       "         'бор': 6,\n",
       "         'гатчина': 1,\n",
       "         'федоровское': 2,\n",
       "         'выборг': 1,\n",
       "         'кронштадт': 1,\n",
       "         'кировск': 1,\n",
       "         'новое': 1,\n",
       "         'девяткино': 1,\n",
       "         'металлострой': 1,\n",
       "         'лебяжье': 1,\n",
       "         'сиверский': 1,\n",
       "         'молодцово': 1,\n",
       "         'кузьмоловский': 1,\n",
       "         'садовое': 4,\n",
       "         'товарищество': 5,\n",
       "         'новая': 2,\n",
       "         'ропша': 2,\n",
       "         'павловск': 1,\n",
       "         'пикколово': 1,\n",
       "         'всеволожск': 1,\n",
       "         'волхов': 1,\n",
       "         'кингисепп': 1,\n",
       "         'приозерск': 1,\n",
       "         'сестрорецк': 1,\n",
       "         'куттузи': 1,\n",
       "         'аннино': 1,\n",
       "         'ефимовский': 1,\n",
       "         'плодовое': 1,\n",
       "         'заклинье': 1,\n",
       "         'торковичи': 1,\n",
       "         'первомайское': 1,\n",
       "         'красное': 1,\n",
       "         'село': 10,\n",
       "         'понтонный': 1,\n",
       "         'сясьстрой': 1,\n",
       "         'старая': 4,\n",
       "         'лесколово': 1,\n",
       "         'новый': 2,\n",
       "         'свет': 1,\n",
       "         'сланцы': 1,\n",
       "         'путилово': 1,\n",
       "         'ивангород': 1,\n",
       "         'шлиссельбург': 1,\n",
       "         'никольское': 2,\n",
       "         'зеленогорск': 1,\n",
       "         'сосновый': 1,\n",
       "         'оржицы': 1,\n",
       "         'кальтино': 1,\n",
       "         'романовка': 2,\n",
       "         'бугры': 1,\n",
       "         'рощино': 2,\n",
       "         'кириши': 1,\n",
       "         'луга': 1,\n",
       "         'волосово': 1,\n",
       "         'отрадное': 1,\n",
       "         'павлово': 3,\n",
       "         'оредеж': 1,\n",
       "         'копорье': 1,\n",
       "         'молодежное': 1,\n",
       "         'тихвин': 1,\n",
       "         'победа': 1,\n",
       "         'нурма': 1,\n",
       "         'синявино': 1,\n",
       "         'тосно': 1,\n",
       "         'стрельна': 1,\n",
       "         'бокситогорск': 1,\n",
       "         'александровская': 1,\n",
       "         'лопухинка': 1,\n",
       "         'пикалево': 1,\n",
       "         'терволово': 1,\n",
       "         'советский': 2,\n",
       "         'подпорожье': 1,\n",
       "         'петровское': 1,\n",
       "         'токсово': 1,\n",
       "         'сельцо': 1,\n",
       "         'вырица': 1,\n",
       "         'кипень': 1,\n",
       "         'келози': 1,\n",
       "         'вартемяги': 1,\n",
       "         'тельмана': 1,\n",
       "         'севастьяново': 1,\n",
       "         'большая': 4,\n",
       "         'ижора': 2,\n",
       "         'агалатово': 1,\n",
       "         'новогорелово': 1,\n",
       "         'лесогорский': 2,\n",
       "         'лаголово': 1,\n",
       "         'цвелодубово': 1,\n",
       "         'рахья': 2,\n",
       "         'белогорка': 1,\n",
       "         'заводской': 1,\n",
       "         'новоселье': 1,\n",
       "         'большие': 1,\n",
       "         'колпаны': 2,\n",
       "         'горбунки': 1,\n",
       "         'батово': 1,\n",
       "         'заневка': 1,\n",
       "         'иссад': 1,\n",
       "         'приморск': 1,\n",
       "         'мистолово': 1,\n",
       "         'ладога': 2,\n",
       "         'зимитицы': 2,\n",
       "         'барышево': 1,\n",
       "         'разметелево': 1,\n",
       "         'имени': 2,\n",
       "         'свердлова': 1,\n",
       "         'пеники': 1,\n",
       "         'рябово': 2,\n",
       "         'пудомяги': 1,\n",
       "         'станции': 8,\n",
       "         'корнево': 1,\n",
       "         'низино': 1,\n",
       "         'бегуницы': 2,\n",
       "         'поляны': 1,\n",
       "         'мга': 2,\n",
       "         'елизаветино': 1,\n",
       "         'кузнечное': 1,\n",
       "         'колтуши': 1,\n",
       "         'запорожское': 1,\n",
       "         'гостилицы': 1,\n",
       "         'малое': 2,\n",
       "         'карлино': 1,\n",
       "         'мичуринское': 1,\n",
       "         'морозова': 1,\n",
       "         'песочный': 1,\n",
       "         'сосново': 1,\n",
       "         'аро': 1,\n",
       "         'ильичево': 1,\n",
       "         'тайцы': 1,\n",
       "         'верево': 1,\n",
       "         'извара': 1,\n",
       "         'вещево': 2,\n",
       "         'паша': 1,\n",
       "         'калитино': 2,\n",
       "         'ульяновка': 1,\n",
       "         'чудской': 1,\n",
       "         'дубровка': 1,\n",
       "         'мины': 1,\n",
       "         'войсковицы': 1,\n",
       "         'коркино': 1,\n",
       "         'приладожский': 2,\n",
       "         'щеглово': 2,\n",
       "         'гаврилово': 1,\n",
       "         'лодейное': 1,\n",
       "         'поле': 1,\n",
       "         'рабитицы': 2,\n",
       "         'никольский': 1,\n",
       "         'кузьмолово': 1,\n",
       "         'малые': 1,\n",
       "         'петро-славянка': 1,\n",
       "         'назия': 2,\n",
       "         'репино': 1,\n",
       "         'углово': 1,\n",
       "         'малукса': 1,\n",
       "         'меньково': 1,\n",
       "         'старые': 1,\n",
       "         'саперный': 1,\n",
       "         'семрино': 1,\n",
       "         'глажево': 1,\n",
       "         'кобринское': 1,\n",
       "         'гарболово': 2,\n",
       "         'юкки': 1,\n",
       "         'приветнинское': 2,\n",
       "         'мануйлово': 1,\n",
       "         'пчева': 1,\n",
       "         'цвылево': 1,\n",
       "         'мельниково': 1,\n",
       "         'пудость': 1,\n",
       "         'усть-луга': 1,\n",
       "         'светогорск': 1,\n",
       "         'любань': 2,\n",
       "         'селезнево': 1,\n",
       "         'каменногорск': 1,\n",
       "         'кривко': 1,\n",
       "         'глебычево': 1,\n",
       "         'парицы': 1,\n",
       "         'жилпоселок': 1,\n",
       "         'войскорово': 1,\n",
       "         'стеклянный': 1,\n",
       "         'важины': 1,\n",
       "         'мыза-ивановка': 1,\n",
       "         'русско-высоцкое': 1,\n",
       "         'форносово': 1,\n",
       "         'житково': 1,\n",
       "         'виллози': 1,\n",
       "         'лампово': 1,\n",
       "         'шпаньково': 1,\n",
       "         'лаврики': 1,\n",
       "         'сумино': 1,\n",
       "         'возрождение': 1,\n",
       "         'старосиверская': 1,\n",
       "         'кикерино': 1,\n",
       "         'старое': 1,\n",
       "         'хинколово': 1,\n",
       "         'пригородный': 1,\n",
       "         'торфяное': 1,\n",
       "         'будогощь': 1,\n",
       "         'суходолье': 1,\n",
       "         'красная': 2,\n",
       "         'долина': 1,\n",
       "         'хапо-ое': 1,\n",
       "         'дружная': 1,\n",
       "         'горка': 2,\n",
       "         'лисий': 1,\n",
       "         'нос': 1,\n",
       "         'яльгелево': 1,\n",
       "         'рождествено': 1,\n",
       "         'старополье': 1,\n",
       "         'левашово': 1,\n",
       "         'сяськелево': 1,\n",
       "         'камышовка': 1,\n",
       "         'садоводческое': 1,\n",
       "         'некоммерческое': 1,\n",
       "         'лесная': 1,\n",
       "         'поляна': 1,\n",
       "         'хязельки': 1,\n",
       "         'жилгородок': 1,\n",
       "         'ялгино': 1,\n",
       "         'учхоз': 1,\n",
       "         'гончарово': 1,\n",
       "         'почап': 1,\n",
       "         'саперное': 1,\n",
       "         'платформа': 1,\n",
       "         '69-й': 1,\n",
       "         'километр': 1,\n",
       "         'каложицы': 1,\n",
       "         'фалилеево': 1,\n",
       "         'пельгора': 1,\n",
       "         'торошковичи': 1,\n",
       "         'белоостров': 1,\n",
       "         'алексеевка': 1,\n",
       "         'серебрянский': 1,\n",
       "         'лукаши': 1,\n",
       "         'тарасово': 1,\n",
       "         'кингисеппский': 1,\n",
       "         'при': 2,\n",
       "         'железнодорожной': 2,\n",
       "         'ушаки': 1,\n",
       "         'котлы': 1,\n",
       "         'сижно': 1,\n",
       "         'торосово': 1,\n",
       "         'форт': 1,\n",
       "         'новолисино': 1,\n",
       "         'громово': 2,\n",
       "         'глинка': 1,\n",
       "         'пустошь': 1,\n",
       "         'коммунары': 1,\n",
       "         'починок': 1,\n",
       "         'вознесенье': 1,\n",
       "         'разбегаево': 1,\n",
       "         'гладкое': 1,\n",
       "         'тесово-4': 1,\n",
       "         'коробицыно': 1,\n",
       "         'вруда': 1,\n",
       "         'курковицы': 1,\n",
       "         'кобралово': 1,\n",
       "         'суоранда': 1,\n",
       "         'кондратьево': 1,\n",
       "         'коттеджный': 3,\n",
       "         'счастье': 1,\n",
       "         'реброво': 1,\n",
       "         'тойворово': 1,\n",
       "         'семиозерье': 1,\n",
       "         'лесное': 2,\n",
       "         'совхозный': 1,\n",
       "         'ленинское': 1,\n",
       "         'суйда': 1,\n",
       "         'нижние': 1,\n",
       "         'осельки': 1,\n",
       "         'свирь': 1,\n",
       "         'перово': 1,\n",
       "         'высоцк': 1,\n",
       "         'шум': 1,\n",
       "         'котельский': 1,\n",
       "         'лужайка': 1,\n",
       "         'пустомержа': 1,\n",
       "         'красносельское': 1,\n",
       "         'вахнова': 1,\n",
       "         'кара': 1,\n",
       "         'пижма': 1,\n",
       "         'кивеннапа': 1,\n",
       "         'север': 1,\n",
       "         'ромашки': 1,\n",
       "         'каськово': 1,\n",
       "         'куровицы': 1,\n",
       "         'плоское': 1,\n",
       "         'кирпичное': 1,\n",
       "         'ям-тесово': 1,\n",
       "         'раздолье': 1,\n",
       "         'терпилицы': 1,\n",
       "         'шугозеро': 1,\n",
       "         'ваганово': 1,\n",
       "         'пушное': 1,\n",
       "         'садко': 1,\n",
       "         'усть-ижора': 1,\n",
       "         'выскатка': 1,\n",
       "         'свирьстрой': 1,\n",
       "         'кисельня': 1,\n",
       "         'трубников': 1,\n",
       "         'высокоключевой': 1,\n",
       "         'пансионат': 1,\n",
       "         'зеленый': 1,\n",
       "         'ненимяки': 1,\n",
       "         'снегиревка': 1,\n",
       "         'рапполово': 1,\n",
       "         'пустынка': 1,\n",
       "         'большой': 1,\n",
       "         'сабск': 1,\n",
       "         'русско': 1,\n",
       "         'лупполово': 1,\n",
       "         'большое': 1,\n",
       "         'рейзино': 1,\n",
       "         'малая': 1,\n",
       "         'дружноселье': 1,\n",
       "         'пчевжа': 1,\n",
       "         'володарское': 1,\n",
       "         'нижняя': 1,\n",
       "         'тихковицы': 1,\n",
       "         'борисова': 1,\n",
       "         'грива': 1,\n",
       "         'дзержинского': 1})"
      ]
     },
     "execution_count": 27,
     "metadata": {},
     "output_type": "execute_result"
    }
   ],
   "source": [
    "purpose_unique = df[\n",
    "    'locality_name'].unique().tolist()  # загружаем все уникальные значения столбца purpose в список purpose_unique\n",
    "stemmed_prp_unique_words = []\n",
    "\n",
    "for frase in purpose_unique:  # frase по очереди примет значение каждой отдельной строки purpose_unique\n",
    "    for word in frase.split():  # word по очереди примет значение каждого отдельного слова строки frase\n",
    "        stemmed_prp_unique_words.append(word)\n",
    "\n",
    "Counter(stemmed_prp_unique_words)\n",
    "#выводим словарь, в котором ключи — уникальные слова, встречающееся в столбце purpose, а значения это количество раз, сколько данные слова встретились."
   ]
  },
  {
   "cell_type": "markdown",
   "metadata": {},
   "source": [
    "Чтобы не затронуть нужные ключевые слова в названиях населенных пунктов установим значение количества повторений на 10+(село пр.)."
   ]
  },
  {
   "cell_type": "code",
   "execution_count": 28,
   "metadata": {
    "pycharm": {
     "is_executing": true
    }
   },
   "outputs": [],
   "source": [
    "def rename(x):\n",
    "    container = x.split()\n",
    "    s = []\n",
    "    for i in container:\n",
    "        if i == container[-1] or Counter(stemmed_prp_unique_words)[i] < 10:\n",
    "            s.append(i)\n",
    "    return ' '.join(s)"
   ]
  },
  {
   "cell_type": "code",
   "execution_count": 29,
   "metadata": {
    "pycharm": {
     "is_executing": true
    }
   },
   "outputs": [],
   "source": [
    "df['locality_name'] = df['locality_name'].apply(rename)"
   ]
  },
  {
   "cell_type": "code",
   "execution_count": 30,
   "metadata": {
    "pycharm": {
     "is_executing": true
    },
    "scrolled": true
   },
   "outputs": [
    {
     "data": {
      "text/plain": [
       "['агалатово',\n",
       " 'александровская',\n",
       " 'алексеевка',\n",
       " 'аннино',\n",
       " 'аро',\n",
       " 'барышево',\n",
       " 'батово',\n",
       " 'бегуницы',\n",
       " 'белогорка',\n",
       " 'белоостров',\n",
       " 'бокситогорск',\n",
       " 'большая вруда',\n",
       " 'большая ижора',\n",
       " 'большая пустомержа',\n",
       " 'большие колпаны',\n",
       " 'большое рейзино',\n",
       " 'большой сабск',\n",
       " 'бор',\n",
       " 'борисова грива',\n",
       " 'бугры',\n",
       " 'будогощь',\n",
       " 'ваганово',\n",
       " 'важины',\n",
       " 'вартемяги',\n",
       " 'вахнова кара',\n",
       " 'виллози',\n",
       " 'вознесенье',\n",
       " 'возрождение',\n",
       " 'войсковицы',\n",
       " 'войскорово',\n",
       " 'володарское',\n",
       " 'волосово',\n",
       " 'волхов',\n",
       " 'всеволожск',\n",
       " 'выборг',\n",
       " 'вырица',\n",
       " 'выскатка',\n",
       " 'высокоключевой',\n",
       " 'высоцк',\n",
       " 'гаврилово',\n",
       " 'гарболово',\n",
       " 'гатчина',\n",
       " 'гладкое',\n",
       " 'глажево',\n",
       " 'глебычево',\n",
       " 'глинка',\n",
       " 'гончарово',\n",
       " 'горбунки',\n",
       " 'гостилицы',\n",
       " 'громово',\n",
       " 'дзержинского',\n",
       " 'дружная горка',\n",
       " 'дружноселье',\n",
       " 'дубровка',\n",
       " 'елизаветино',\n",
       " 'ефимовский',\n",
       " 'жилгородок',\n",
       " 'жилпоселок',\n",
       " 'житково',\n",
       " 'заводской',\n",
       " 'заклинье',\n",
       " 'заневка',\n",
       " 'запорожское',\n",
       " 'зеленогорск',\n",
       " 'зимитицы',\n",
       " 'ивангород',\n",
       " 'извара',\n",
       " 'ильичево',\n",
       " 'имени морозова',\n",
       " 'имени свердлова',\n",
       " 'иссад',\n",
       " 'калитино',\n",
       " 'каложицы',\n",
       " 'кальтино',\n",
       " 'каменногорск',\n",
       " 'камышовка',\n",
       " 'каськово',\n",
       " 'келози',\n",
       " 'кикерино',\n",
       " 'кингисепп',\n",
       " 'кингисеппский',\n",
       " 'кипень',\n",
       " 'кириши',\n",
       " 'кировск',\n",
       " 'кирпичное',\n",
       " 'кисельня',\n",
       " 'кобралово',\n",
       " 'кобринское',\n",
       " 'колпино',\n",
       " 'колтуши',\n",
       " 'коммунар',\n",
       " 'коммунары',\n",
       " 'кондратьево',\n",
       " 'копорье',\n",
       " 'коркино',\n",
       " 'коробицыно',\n",
       " 'котельский',\n",
       " 'котлы',\n",
       " 'коттеджный кивеннапа север',\n",
       " 'коттеджный лесное',\n",
       " 'коттеджный счастье',\n",
       " 'красная долина',\n",
       " 'красное село',\n",
       " 'красносельское',\n",
       " 'красный бор',\n",
       " 'кривко',\n",
       " 'кронштадт',\n",
       " 'кудрово',\n",
       " 'кузнечное',\n",
       " 'кузьмолово',\n",
       " 'кузьмоловский',\n",
       " 'курковицы',\n",
       " 'куровицы',\n",
       " 'куттузи',\n",
       " 'лаврики',\n",
       " 'лаголово',\n",
       " 'лампово',\n",
       " 'лебяжье',\n",
       " 'левашово',\n",
       " 'ленинское',\n",
       " 'лесколово',\n",
       " 'лесное',\n",
       " 'лесогорский',\n",
       " 'лисий нос',\n",
       " 'лодейное поле',\n",
       " 'ломоносов',\n",
       " 'лопухинка',\n",
       " 'луга',\n",
       " 'лукаши',\n",
       " 'лупполово',\n",
       " 'любань',\n",
       " 'малая романовка',\n",
       " 'малое верево',\n",
       " 'малое карлино',\n",
       " 'малые колпаны',\n",
       " 'мануйлово',\n",
       " 'мга',\n",
       " 'мельниково',\n",
       " 'меньково',\n",
       " 'металлострой',\n",
       " 'мины',\n",
       " 'мистолово',\n",
       " 'мичуринское',\n",
       " 'молодежное',\n",
       " 'молодцово',\n",
       " 'мурино',\n",
       " 'мыза-ивановка',\n",
       " 'назия',\n",
       " 'ненимяки',\n",
       " 'нижние осельки',\n",
       " 'нижняя',\n",
       " 'низино',\n",
       " 'никольский',\n",
       " 'никольское',\n",
       " 'новая ладога',\n",
       " 'новогорелово',\n",
       " 'новое девяткино',\n",
       " 'новолисино',\n",
       " 'новоселье',\n",
       " 'новый свет',\n",
       " 'новый учхоз',\n",
       " 'нурма',\n",
       " 'оредеж',\n",
       " 'оржицы',\n",
       " 'отрадное',\n",
       " 'павлово',\n",
       " 'павловск',\n",
       " 'пансионат зеленый бор',\n",
       " 'парголово',\n",
       " 'парицы',\n",
       " 'паша',\n",
       " 'пельгора',\n",
       " 'пеники',\n",
       " 'первомайское',\n",
       " 'перово',\n",
       " 'песочный',\n",
       " 'петергоф',\n",
       " 'петро-славянка',\n",
       " 'петровское',\n",
       " 'пижма',\n",
       " 'пикалево',\n",
       " 'пикколово',\n",
       " 'платформа 69-й километр',\n",
       " 'плодовое',\n",
       " 'плоское',\n",
       " 'победа',\n",
       " 'подпорожье',\n",
       " 'поляны',\n",
       " 'понтонный',\n",
       " 'почап',\n",
       " 'починок',\n",
       " 'при железнодорожной станции вещево',\n",
       " 'при железнодорожной станции приветнинское',\n",
       " 'пригородный',\n",
       " 'приладожский',\n",
       " 'приморск',\n",
       " 'приозерск',\n",
       " 'пудомяги',\n",
       " 'пудость',\n",
       " 'пустынка',\n",
       " 'путилово',\n",
       " 'пушкин',\n",
       " 'пушное',\n",
       " 'пчева',\n",
       " 'пчевжа',\n",
       " 'рабитицы',\n",
       " 'разбегаево',\n",
       " 'раздолье',\n",
       " 'разметелево',\n",
       " 'рапполово',\n",
       " 'рахья',\n",
       " 'реброво',\n",
       " 'репино',\n",
       " 'рождествено',\n",
       " 'романовка',\n",
       " 'ромашки',\n",
       " 'ропша',\n",
       " 'рощино',\n",
       " 'русско',\n",
       " 'русско-высоцкое',\n",
       " 'рябово',\n",
       " 'садоводческое некоммерческое товарищество лесная поляна',\n",
       " 'садовое товарищество новая ропша',\n",
       " 'садовое товарищество приладожский',\n",
       " 'садовое товарищество рахья',\n",
       " 'садовое товарищество садко',\n",
       " 'санкт-петербург',\n",
       " 'саперное',\n",
       " 'саперный',\n",
       " 'светогорск',\n",
       " 'свирьстрой',\n",
       " 'севастьяново',\n",
       " 'селезнево',\n",
       " 'сельцо',\n",
       " 'семиозерье',\n",
       " 'семрино',\n",
       " 'серебрянский',\n",
       " 'сертолово',\n",
       " 'сестрорецк',\n",
       " 'сиверский',\n",
       " 'сижно',\n",
       " 'синявино',\n",
       " 'сланцы',\n",
       " 'снегиревка',\n",
       " 'советский',\n",
       " 'совхозный',\n",
       " 'сосново',\n",
       " 'сосновый бор',\n",
       " 'станции вещево',\n",
       " 'станции громово',\n",
       " 'станции корнево',\n",
       " 'станции лужайка',\n",
       " 'станции приветнинское',\n",
       " 'станции свирь',\n",
       " 'старая',\n",
       " 'старая ладога',\n",
       " 'старая малукса',\n",
       " 'старая пустошь',\n",
       " 'старое хинколово',\n",
       " 'старополье',\n",
       " 'старосиверская',\n",
       " 'старые бегуницы',\n",
       " 'стеклянный',\n",
       " 'стрельна',\n",
       " 'суйда',\n",
       " 'сумино',\n",
       " 'суоранда',\n",
       " 'суходолье',\n",
       " 'сяськелево',\n",
       " 'сясьстрой',\n",
       " 'тайцы',\n",
       " 'тарасово',\n",
       " 'тельмана',\n",
       " 'терволово',\n",
       " 'терпилицы',\n",
       " 'тесово-4',\n",
       " 'тихвин',\n",
       " 'тихковицы',\n",
       " 'тойворово',\n",
       " 'токсово',\n",
       " 'торковичи',\n",
       " 'торосово',\n",
       " 'торошковичи',\n",
       " 'торфяное',\n",
       " 'тосно',\n",
       " 'трубников бор',\n",
       " 'углово',\n",
       " 'ульяновка',\n",
       " 'усть-ижора',\n",
       " 'усть-луга',\n",
       " 'ушаки',\n",
       " 'фалилеево',\n",
       " 'федоровское',\n",
       " 'форносово',\n",
       " 'форт красная горка',\n",
       " 'хапо-ое',\n",
       " 'хязельки',\n",
       " 'цвелодубово',\n",
       " 'цвылево',\n",
       " 'чудской бор',\n",
       " 'шлиссельбург',\n",
       " 'шпаньково',\n",
       " 'шугозеро',\n",
       " 'шум',\n",
       " 'шушары',\n",
       " 'щеглово',\n",
       " 'юкки',\n",
       " 'ялгино',\n",
       " 'яльгелево',\n",
       " 'ям-тесово',\n",
       " 'янино-1']"
      ]
     },
     "execution_count": 30,
     "metadata": {},
     "output_type": "execute_result"
    }
   ],
   "source": [
    "sorted(df.locality_name.unique())"
   ]
  },
  {
   "cell_type": "markdown",
   "metadata": {},
   "source": [
    "Дочистим получившиеся данные вручную."
   ]
  },
  {
   "cell_type": "code",
   "execution_count": 31,
   "metadata": {
    "pycharm": {
     "is_executing": true
    }
   },
   "outputs": [],
   "source": [
    "df['locality_name'] = df['locality_name'].str.replace('садовое товарищество ', '')\n",
    "df['locality_name'] = df['locality_name'].str.replace('станции ', '')\n",
    "df['locality_name'] = df['locality_name'].str.replace('коттеджный ', '')\n",
    "df['locality_name'] = df['locality_name'].str.replace('при железнодорожной ', '')\n",
    "df['locality_name'] = df['locality_name'].str.replace('садоводческое некоммерческое товарищество ', '')\n",
    "df['locality_name'] = df['locality_name'].str.replace('пансионат ', '')\n",
    "df['locality_name'] = df['locality_name'].str.replace('платформа ', '')"
   ]
  },
  {
   "cell_type": "code",
   "execution_count": 32,
   "metadata": {
    "pycharm": {
     "is_executing": true
    },
    "scrolled": true
   },
   "outputs": [
    {
     "data": {
      "text/plain": [
       "['69-й километр',\n",
       " 'агалатово',\n",
       " 'александровская',\n",
       " 'алексеевка',\n",
       " 'аннино',\n",
       " 'аро',\n",
       " 'барышево',\n",
       " 'батово',\n",
       " 'бегуницы',\n",
       " 'белогорка',\n",
       " 'белоостров',\n",
       " 'бокситогорск',\n",
       " 'большая вруда',\n",
       " 'большая ижора',\n",
       " 'большая пустомержа',\n",
       " 'большие колпаны',\n",
       " 'большое рейзино',\n",
       " 'большой сабск',\n",
       " 'бор',\n",
       " 'борисова грива',\n",
       " 'бугры',\n",
       " 'будогощь',\n",
       " 'ваганово',\n",
       " 'важины',\n",
       " 'вартемяги',\n",
       " 'вахнова кара',\n",
       " 'вещево',\n",
       " 'виллози',\n",
       " 'вознесенье',\n",
       " 'возрождение',\n",
       " 'войсковицы',\n",
       " 'войскорово',\n",
       " 'володарское',\n",
       " 'волосово',\n",
       " 'волхов',\n",
       " 'всеволожск',\n",
       " 'выборг',\n",
       " 'вырица',\n",
       " 'выскатка',\n",
       " 'высокоключевой',\n",
       " 'высоцк',\n",
       " 'гаврилово',\n",
       " 'гарболово',\n",
       " 'гатчина',\n",
       " 'гладкое',\n",
       " 'глажево',\n",
       " 'глебычево',\n",
       " 'глинка',\n",
       " 'гончарово',\n",
       " 'горбунки',\n",
       " 'гостилицы',\n",
       " 'громово',\n",
       " 'дзержинского',\n",
       " 'дружная горка',\n",
       " 'дружноселье',\n",
       " 'дубровка',\n",
       " 'елизаветино',\n",
       " 'ефимовский',\n",
       " 'жилгородок',\n",
       " 'жилпоселок',\n",
       " 'житково',\n",
       " 'заводской',\n",
       " 'заклинье',\n",
       " 'заневка',\n",
       " 'запорожское',\n",
       " 'зеленогорск',\n",
       " 'зеленый бор',\n",
       " 'зимитицы',\n",
       " 'ивангород',\n",
       " 'извара',\n",
       " 'ильичево',\n",
       " 'имени морозова',\n",
       " 'имени свердлова',\n",
       " 'иссад',\n",
       " 'калитино',\n",
       " 'каложицы',\n",
       " 'кальтино',\n",
       " 'каменногорск',\n",
       " 'камышовка',\n",
       " 'каськово',\n",
       " 'келози',\n",
       " 'кивеннапа север',\n",
       " 'кикерино',\n",
       " 'кингисепп',\n",
       " 'кингисеппский',\n",
       " 'кипень',\n",
       " 'кириши',\n",
       " 'кировск',\n",
       " 'кирпичное',\n",
       " 'кисельня',\n",
       " 'кобралово',\n",
       " 'кобринское',\n",
       " 'колпино',\n",
       " 'колтуши',\n",
       " 'коммунар',\n",
       " 'коммунары',\n",
       " 'кондратьево',\n",
       " 'копорье',\n",
       " 'коркино',\n",
       " 'корнево',\n",
       " 'коробицыно',\n",
       " 'котельский',\n",
       " 'котлы',\n",
       " 'красная долина',\n",
       " 'красное село',\n",
       " 'красносельское',\n",
       " 'красный бор',\n",
       " 'кривко',\n",
       " 'кронштадт',\n",
       " 'кудрово',\n",
       " 'кузнечное',\n",
       " 'кузьмолово',\n",
       " 'кузьмоловский',\n",
       " 'курковицы',\n",
       " 'куровицы',\n",
       " 'куттузи',\n",
       " 'лаврики',\n",
       " 'лаголово',\n",
       " 'лампово',\n",
       " 'лебяжье',\n",
       " 'левашово',\n",
       " 'ленинское',\n",
       " 'лесколово',\n",
       " 'лесная поляна',\n",
       " 'лесное',\n",
       " 'лесогорский',\n",
       " 'лисий нос',\n",
       " 'лодейное поле',\n",
       " 'ломоносов',\n",
       " 'лопухинка',\n",
       " 'луга',\n",
       " 'лужайка',\n",
       " 'лукаши',\n",
       " 'лупполово',\n",
       " 'любань',\n",
       " 'малая романовка',\n",
       " 'малое верево',\n",
       " 'малое карлино',\n",
       " 'малые колпаны',\n",
       " 'мануйлово',\n",
       " 'мга',\n",
       " 'мельниково',\n",
       " 'меньково',\n",
       " 'металлострой',\n",
       " 'мины',\n",
       " 'мистолово',\n",
       " 'мичуринское',\n",
       " 'молодежное',\n",
       " 'молодцово',\n",
       " 'мурино',\n",
       " 'мыза-ивановка',\n",
       " 'назия',\n",
       " 'ненимяки',\n",
       " 'нижние осельки',\n",
       " 'нижняя',\n",
       " 'низино',\n",
       " 'никольский',\n",
       " 'никольское',\n",
       " 'новая ладога',\n",
       " 'новая ропша',\n",
       " 'новогорелово',\n",
       " 'новое девяткино',\n",
       " 'новолисино',\n",
       " 'новоселье',\n",
       " 'новый свет',\n",
       " 'новый учхоз',\n",
       " 'нурма',\n",
       " 'оредеж',\n",
       " 'оржицы',\n",
       " 'отрадное',\n",
       " 'павлово',\n",
       " 'павловск',\n",
       " 'парголово',\n",
       " 'парицы',\n",
       " 'паша',\n",
       " 'пельгора',\n",
       " 'пеники',\n",
       " 'первомайское',\n",
       " 'перово',\n",
       " 'песочный',\n",
       " 'петергоф',\n",
       " 'петро-славянка',\n",
       " 'петровское',\n",
       " 'пижма',\n",
       " 'пикалево',\n",
       " 'пикколово',\n",
       " 'плодовое',\n",
       " 'плоское',\n",
       " 'победа',\n",
       " 'подпорожье',\n",
       " 'поляны',\n",
       " 'понтонный',\n",
       " 'почап',\n",
       " 'починок',\n",
       " 'приветнинское',\n",
       " 'пригородный',\n",
       " 'приладожский',\n",
       " 'приморск',\n",
       " 'приозерск',\n",
       " 'пудомяги',\n",
       " 'пудость',\n",
       " 'пустынка',\n",
       " 'путилово',\n",
       " 'пушкин',\n",
       " 'пушное',\n",
       " 'пчева',\n",
       " 'пчевжа',\n",
       " 'рабитицы',\n",
       " 'разбегаево',\n",
       " 'раздолье',\n",
       " 'разметелево',\n",
       " 'рапполово',\n",
       " 'рахья',\n",
       " 'реброво',\n",
       " 'репино',\n",
       " 'рождествено',\n",
       " 'романовка',\n",
       " 'ромашки',\n",
       " 'ропша',\n",
       " 'рощино',\n",
       " 'русско',\n",
       " 'русско-высоцкое',\n",
       " 'рябово',\n",
       " 'садко',\n",
       " 'санкт-петербург',\n",
       " 'саперное',\n",
       " 'саперный',\n",
       " 'светогорск',\n",
       " 'свирь',\n",
       " 'свирьстрой',\n",
       " 'севастьяново',\n",
       " 'селезнево',\n",
       " 'сельцо',\n",
       " 'семиозерье',\n",
       " 'семрино',\n",
       " 'серебрянский',\n",
       " 'сертолово',\n",
       " 'сестрорецк',\n",
       " 'сиверский',\n",
       " 'сижно',\n",
       " 'синявино',\n",
       " 'сланцы',\n",
       " 'снегиревка',\n",
       " 'советский',\n",
       " 'совхозный',\n",
       " 'сосново',\n",
       " 'сосновый бор',\n",
       " 'старая',\n",
       " 'старая ладога',\n",
       " 'старая малукса',\n",
       " 'старая пустошь',\n",
       " 'старое хинколово',\n",
       " 'старополье',\n",
       " 'старосиверская',\n",
       " 'старые бегуницы',\n",
       " 'стеклянный',\n",
       " 'стрельна',\n",
       " 'суйда',\n",
       " 'сумино',\n",
       " 'суоранда',\n",
       " 'суходолье',\n",
       " 'счастье',\n",
       " 'сяськелево',\n",
       " 'сясьстрой',\n",
       " 'тайцы',\n",
       " 'тарасово',\n",
       " 'тельмана',\n",
       " 'терволово',\n",
       " 'терпилицы',\n",
       " 'тесово-4',\n",
       " 'тихвин',\n",
       " 'тихковицы',\n",
       " 'тойворово',\n",
       " 'токсово',\n",
       " 'торковичи',\n",
       " 'торосово',\n",
       " 'торошковичи',\n",
       " 'торфяное',\n",
       " 'тосно',\n",
       " 'трубников бор',\n",
       " 'углово',\n",
       " 'ульяновка',\n",
       " 'усть-ижора',\n",
       " 'усть-луга',\n",
       " 'ушаки',\n",
       " 'фалилеево',\n",
       " 'федоровское',\n",
       " 'форносово',\n",
       " 'форт красная горка',\n",
       " 'хапо-ое',\n",
       " 'хязельки',\n",
       " 'цвелодубово',\n",
       " 'цвылево',\n",
       " 'чудской бор',\n",
       " 'шлиссельбург',\n",
       " 'шпаньково',\n",
       " 'шугозеро',\n",
       " 'шум',\n",
       " 'шушары',\n",
       " 'щеглово',\n",
       " 'юкки',\n",
       " 'ялгино',\n",
       " 'яльгелево',\n",
       " 'ям-тесово',\n",
       " 'янино-1']"
      ]
     },
     "execution_count": 32,
     "metadata": {},
     "output_type": "execute_result"
    }
   ],
   "source": [
    "sorted(df.locality_name.unique())"
   ]
  },
  {
   "cell_type": "markdown",
   "metadata": {},
   "source": [
    "Получили очищенные от неявных дубликатов данные в столбце locality_name."
   ]
  },
  {
   "cell_type": "code",
   "execution_count": 33,
   "metadata": {
    "pycharm": {
     "is_executing": true
    }
   },
   "outputs": [
    {
     "data": {
      "text/plain": [
       "305"
      ]
     },
     "execution_count": 33,
     "metadata": {},
     "output_type": "execute_result"
    }
   ],
   "source": [
    "# check\n",
    "df.locality_name.nunique()"
   ]
  },
  {
   "cell_type": "markdown",
   "metadata": {},
   "source": [
    "Приступим к восстановлению данных в столбце floors_total."
   ]
  },
  {
   "cell_type": "markdown",
   "metadata": {},
   "source": [
    "Выведем сводную таблицу с медианными значениями для каждого уникального значения locality_name."
   ]
  },
  {
   "cell_type": "code",
   "execution_count": 34,
   "metadata": {
    "pycharm": {
     "is_executing": true
    }
   },
   "outputs": [
    {
     "data": {
      "text/html": [
       "<div>\n",
       "<style scoped>\n",
       "    .dataframe tbody tr th:only-of-type {\n",
       "        vertical-align: middle;\n",
       "    }\n",
       "\n",
       "    .dataframe tbody tr th {\n",
       "        vertical-align: top;\n",
       "    }\n",
       "\n",
       "    .dataframe thead th {\n",
       "        text-align: right;\n",
       "    }\n",
       "</style>\n",
       "<table border=\"1\" class=\"dataframe\">\n",
       "  <thead>\n",
       "    <tr style=\"text-align: right;\">\n",
       "      <th></th>\n",
       "      <th>floors_total</th>\n",
       "    </tr>\n",
       "    <tr>\n",
       "      <th>locality_name</th>\n",
       "      <th></th>\n",
       "    </tr>\n",
       "  </thead>\n",
       "  <tbody>\n",
       "    <tr>\n",
       "      <th>парголово</th>\n",
       "      <td>25.0</td>\n",
       "    </tr>\n",
       "    <tr>\n",
       "      <th>мурино</th>\n",
       "      <td>19.0</td>\n",
       "    </tr>\n",
       "    <tr>\n",
       "      <th>кудрово</th>\n",
       "      <td>18.0</td>\n",
       "    </tr>\n",
       "    <tr>\n",
       "      <th>петро-славянка</th>\n",
       "      <td>18.0</td>\n",
       "    </tr>\n",
       "    <tr>\n",
       "      <th>лаврики</th>\n",
       "      <td>17.0</td>\n",
       "    </tr>\n",
       "    <tr>\n",
       "      <th>...</th>\n",
       "      <td>...</td>\n",
       "    </tr>\n",
       "    <tr>\n",
       "      <th>борисова грива</th>\n",
       "      <td>2.0</td>\n",
       "    </tr>\n",
       "    <tr>\n",
       "      <th>сижно</th>\n",
       "      <td>1.0</td>\n",
       "    </tr>\n",
       "    <tr>\n",
       "      <th>каськово</th>\n",
       "      <td>1.0</td>\n",
       "    </tr>\n",
       "    <tr>\n",
       "      <th>свирьстрой</th>\n",
       "      <td>1.0</td>\n",
       "    </tr>\n",
       "    <tr>\n",
       "      <th>пчевжа</th>\n",
       "      <td>1.0</td>\n",
       "    </tr>\n",
       "  </tbody>\n",
       "</table>\n",
       "<p>305 rows × 1 columns</p>\n",
       "</div>"
      ],
      "text/plain": [
       "                floors_total\n",
       "locality_name               \n",
       "парголово               25.0\n",
       "мурино                  19.0\n",
       "кудрово                 18.0\n",
       "петро-славянка          18.0\n",
       "лаврики                 17.0\n",
       "...                      ...\n",
       "борисова грива           2.0\n",
       "сижно                    1.0\n",
       "каськово                 1.0\n",
       "свирьстрой               1.0\n",
       "пчевжа                   1.0\n",
       "\n",
       "[305 rows x 1 columns]"
      ]
     },
     "execution_count": 34,
     "metadata": {},
     "output_type": "execute_result"
    }
   ],
   "source": [
    "median_value_locality = df.groupby('locality_name') \\\n",
    "    .agg({'floors_total': 'median'}) \\\n",
    "    .sort_values(by='floors_total', ascending=False)\n",
    "median_value_locality"
   ]
  },
  {
   "cell_type": "code",
   "execution_count": 35,
   "metadata": {
    "pycharm": {
     "is_executing": true
    }
   },
   "outputs": [
    {
     "data": {
      "text/plain": [
       "<Axes: xlabel='floors_total', ylabel='Count'>"
      ]
     },
     "execution_count": 35,
     "metadata": {},
     "output_type": "execute_result"
    },
    {
     "data": {
      "image/png": "[encoded data removed]",
      "text/plain": [
       "<Figure size 640x480 with 1 Axes>"
      ]
     },
     "metadata": {},
     "output_type": "display_data"
    }
   ],
   "source": [
    "sns.histplot(median_value_locality['floors_total'])"
   ]
  },
  {
   "cell_type": "markdown",
   "metadata": {},
   "source": [
    "Из наших данных видно, что количество различных местоположений из locality_name, где медианное значение равняется 5 сильно превозобладает над другими медианными значениями.\n",
    "Из графика видна неравномерность распределения медианного значения количества этажей по различным геолокациям.\n",
    "Исходя из этого разумным решением будет использование функции, которая восстановит пропущенные значения медианным значением свойственным для каждого из представленных регионов."
   ]
  },
  {
   "cell_type": "code",
   "execution_count": 36,
   "metadata": {
    "pycharm": {
     "is_executing": true
    }
   },
   "outputs": [],
   "source": [
    "def recover_floors_total(x):\n",
    "    not_null_df = df[(df['airports_nearest'].notna())\n",
    "                     & (df['city_centers_nearest'].notna())\n",
    "                     & (df['floors_total'].notna())]\n",
    "    for i in range(2, 1000, 4):\n",
    "        temp = not_null_df[(not_null_df['city_centers_nearest'] <= x['city_centers_nearest'] + i / 100) &\n",
    "                           (not_null_df['city_centers_nearest'] >= x['city_centers_nearest'] - i / 100) &\n",
    "                           (not_null_df['airports_nearest'] <= x['airports_nearest'] + i / 100) &\n",
    "                           (not_null_df['airports_nearest'] >= x['airports_nearest'] - i / 100)][\n",
    "            'floors_total'].median()\n",
    "        if np.ceil(temp) > 0 and np.ceil(temp) >= x['floor']:\n",
    "            return np.ceil(temp)\n",
    "    return np.nan\n",
    "\n",
    "\n",
    "df.loc[df['floors_total'].isna(), 'floors_total'] = (\n",
    "    df[df['floors_total'].isna()]\n",
    "    .apply(lambda x: int(df[df['locality_name'] == x['locality_name']]['floors_total'].median()) if x['floor'] <= int(\n",
    "        df[df['locality_name'] == x['locality_name']]['floors_total'].median()) else np.nan, axis=1))"
   ]
  },
  {
   "cell_type": "code",
   "execution_count": 37,
   "metadata": {
    "pycharm": {
     "is_executing": true
    }
   },
   "outputs": [],
   "source": [
    "df.loc[(df['locality_name'] == 'санкт-петербург') & (df['floors_total'].isna()), 'floors_total'] = (\n",
    "    df.query('locality_name == \"санкт-петербург\" and floors_total.isna()')\n",
    "    .apply(recover_floors_total, axis=1)\n",
    ")"
   ]
  },
  {
   "cell_type": "code",
   "execution_count": 38,
   "metadata": {
    "pycharm": {
     "is_executing": true
    }
   },
   "outputs": [
    {
     "data": {
      "text/html": [
       "<div>\n",
       "<style scoped>\n",
       "    .dataframe tbody tr th:only-of-type {\n",
       "        vertical-align: middle;\n",
       "    }\n",
       "\n",
       "    .dataframe tbody tr th {\n",
       "        vertical-align: top;\n",
       "    }\n",
       "\n",
       "    .dataframe thead th {\n",
       "        text-align: right;\n",
       "    }\n",
       "</style>\n",
       "<table border=\"1\" class=\"dataframe\">\n",
       "  <thead>\n",
       "    <tr style=\"text-align: right;\">\n",
       "      <th></th>\n",
       "      <th>total_images</th>\n",
       "      <th>last_price</th>\n",
       "      <th>total_area</th>\n",
       "      <th>first_day_exposition</th>\n",
       "      <th>rooms</th>\n",
       "      <th>ceiling_height</th>\n",
       "      <th>floors_total</th>\n",
       "      <th>living_area</th>\n",
       "      <th>floor</th>\n",
       "      <th>is_apartment</th>\n",
       "      <th>...</th>\n",
       "      <th>kitchen_area</th>\n",
       "      <th>balcony</th>\n",
       "      <th>locality_name</th>\n",
       "      <th>airports_nearest</th>\n",
       "      <th>city_centers_nearest</th>\n",
       "      <th>parks_around_3000</th>\n",
       "      <th>parks_nearest</th>\n",
       "      <th>ponds_around_3000</th>\n",
       "      <th>ponds_nearest</th>\n",
       "      <th>days_exposition</th>\n",
       "    </tr>\n",
       "  </thead>\n",
       "  <tbody>\n",
       "    <tr>\n",
       "      <th>6030</th>\n",
       "      <td>3</td>\n",
       "      <td>10.90</td>\n",
       "      <td>116.23</td>\n",
       "      <td>2017-05-05T00:00:00</td>\n",
       "      <td>4</td>\n",
       "      <td>NaN</td>\n",
       "      <td>NaN</td>\n",
       "      <td>NaN</td>\n",
       "      <td>24</td>\n",
       "      <td>NaN</td>\n",
       "      <td>...</td>\n",
       "      <td>NaN</td>\n",
       "      <td>0.0</td>\n",
       "      <td>санкт-петербург</td>\n",
       "      <td>35.234</td>\n",
       "      <td>14.674</td>\n",
       "      <td>0.0</td>\n",
       "      <td>NaN</td>\n",
       "      <td>1.0</td>\n",
       "      <td>844.0</td>\n",
       "      <td>83.0</td>\n",
       "    </tr>\n",
       "    <tr>\n",
       "      <th>8478</th>\n",
       "      <td>19</td>\n",
       "      <td>13.50</td>\n",
       "      <td>77.80</td>\n",
       "      <td>2019-04-17T00:00:00</td>\n",
       "      <td>2</td>\n",
       "      <td>2.80</td>\n",
       "      <td>NaN</td>\n",
       "      <td>39.41</td>\n",
       "      <td>21</td>\n",
       "      <td>NaN</td>\n",
       "      <td>...</td>\n",
       "      <td>13.27</td>\n",
       "      <td>2.0</td>\n",
       "      <td>санкт-петербург</td>\n",
       "      <td>12.838</td>\n",
       "      <td>11.477</td>\n",
       "      <td>1.0</td>\n",
       "      <td>593.0</td>\n",
       "      <td>1.0</td>\n",
       "      <td>130.0</td>\n",
       "      <td>NaN</td>\n",
       "    </tr>\n",
       "    <tr>\n",
       "      <th>10058</th>\n",
       "      <td>9</td>\n",
       "      <td>3.35</td>\n",
       "      <td>25.00</td>\n",
       "      <td>2018-09-10T00:00:00</td>\n",
       "      <td>1</td>\n",
       "      <td>2.65</td>\n",
       "      <td>NaN</td>\n",
       "      <td>17.00</td>\n",
       "      <td>21</td>\n",
       "      <td>NaN</td>\n",
       "      <td>...</td>\n",
       "      <td>3.50</td>\n",
       "      <td>NaN</td>\n",
       "      <td>шушары</td>\n",
       "      <td>NaN</td>\n",
       "      <td>NaN</td>\n",
       "      <td>NaN</td>\n",
       "      <td>NaN</td>\n",
       "      <td>NaN</td>\n",
       "      <td>NaN</td>\n",
       "      <td>23.0</td>\n",
       "    </tr>\n",
       "    <tr>\n",
       "      <th>14094</th>\n",
       "      <td>5</td>\n",
       "      <td>3.29</td>\n",
       "      <td>33.00</td>\n",
       "      <td>2018-02-01T00:00:00</td>\n",
       "      <td>1</td>\n",
       "      <td>NaN</td>\n",
       "      <td>NaN</td>\n",
       "      <td>NaN</td>\n",
       "      <td>17</td>\n",
       "      <td>NaN</td>\n",
       "      <td>...</td>\n",
       "      <td>NaN</td>\n",
       "      <td>NaN</td>\n",
       "      <td>новое девяткино</td>\n",
       "      <td>NaN</td>\n",
       "      <td>NaN</td>\n",
       "      <td>NaN</td>\n",
       "      <td>NaN</td>\n",
       "      <td>NaN</td>\n",
       "      <td>NaN</td>\n",
       "      <td>440.0</td>\n",
       "    </tr>\n",
       "    <tr>\n",
       "      <th>20146</th>\n",
       "      <td>16</td>\n",
       "      <td>3.85</td>\n",
       "      <td>36.00</td>\n",
       "      <td>2018-10-12T00:00:00</td>\n",
       "      <td>1</td>\n",
       "      <td>NaN</td>\n",
       "      <td>NaN</td>\n",
       "      <td>19.00</td>\n",
       "      <td>15</td>\n",
       "      <td>NaN</td>\n",
       "      <td>...</td>\n",
       "      <td>8.50</td>\n",
       "      <td>NaN</td>\n",
       "      <td>стрельна</td>\n",
       "      <td>28.276</td>\n",
       "      <td>23.454</td>\n",
       "      <td>0.0</td>\n",
       "      <td>NaN</td>\n",
       "      <td>0.0</td>\n",
       "      <td>NaN</td>\n",
       "      <td>183.0</td>\n",
       "    </tr>\n",
       "  </tbody>\n",
       "</table>\n",
       "<p>5 rows × 22 columns</p>\n",
       "</div>"
      ],
      "text/plain": [
       "       total_images  last_price  total_area first_day_exposition  rooms  \\\n",
       "6030              3       10.90      116.23  2017-05-05T00:00:00      4   \n",
       "8478             19       13.50       77.80  2019-04-17T00:00:00      2   \n",
       "10058             9        3.35       25.00  2018-09-10T00:00:00      1   \n",
       "14094             5        3.29       33.00  2018-02-01T00:00:00      1   \n",
       "20146            16        3.85       36.00  2018-10-12T00:00:00      1   \n",
       "\n",
       "       ceiling_height  floors_total  living_area  floor is_apartment  ...  \\\n",
       "6030              NaN           NaN          NaN     24          NaN  ...   \n",
       "8478             2.80           NaN        39.41     21          NaN  ...   \n",
       "10058            2.65           NaN        17.00     21          NaN  ...   \n",
       "14094             NaN           NaN          NaN     17          NaN  ...   \n",
       "20146             NaN           NaN        19.00     15          NaN  ...   \n",
       "\n",
       "       kitchen_area  balcony    locality_name  airports_nearest  \\\n",
       "6030            NaN      0.0  санкт-петербург            35.234   \n",
       "8478          13.27      2.0  санкт-петербург            12.838   \n",
       "10058          3.50      NaN           шушары               NaN   \n",
       "14094           NaN      NaN  новое девяткино               NaN   \n",
       "20146          8.50      NaN         стрельна            28.276   \n",
       "\n",
       "      city_centers_nearest  parks_around_3000  parks_nearest  \\\n",
       "6030                14.674                0.0            NaN   \n",
       "8478                11.477                1.0          593.0   \n",
       "10058                  NaN                NaN            NaN   \n",
       "14094                  NaN                NaN            NaN   \n",
       "20146               23.454                0.0            NaN   \n",
       "\n",
       "       ponds_around_3000  ponds_nearest  days_exposition  \n",
       "6030                 1.0          844.0             83.0  \n",
       "8478                 1.0          130.0              NaN  \n",
       "10058                NaN            NaN             23.0  \n",
       "14094                NaN            NaN            440.0  \n",
       "20146                0.0            NaN            183.0  \n",
       "\n",
       "[5 rows x 22 columns]"
      ]
     },
     "execution_count": 38,
     "metadata": {},
     "output_type": "execute_result"
    }
   ],
   "source": [
    "df.query('floors_total.isna()')"
   ]
  },
  {
   "cell_type": "markdown",
   "metadata": {},
   "source": [
    "После заполнения медианным значением по регионам, с учетом проверки на условие того, что ['floors_total'] >= ['floor'], осуществили заполнение с помощью другой функции, которая производит заполнение на основе удаленности от центра города и аэропорта, что позволило восстановить 25 значений для города Санкт-Петербург, осталось 5 незаполненных строк, удалим их."
   ]
  },
  {
   "cell_type": "code",
   "execution_count": 39,
   "metadata": {
    "pycharm": {
     "is_executing": true
    }
   },
   "outputs": [],
   "source": [
    "df.dropna(subset=['floors_total'], inplace=True)\n",
    "df.reset_index(drop=True, inplace=True)"
   ]
  },
  {
   "cell_type": "markdown",
   "metadata": {},
   "source": [
    "Перейдем к восстановлению данных в столбце living_area, которые были пропущены при заполнении пользователем.\n",
    "Наилучшим вариантом восстановления является восстановление через зависимость с 'total_area'."
   ]
  },
  {
   "cell_type": "code",
   "execution_count": 40,
   "metadata": {
    "pycharm": {
     "is_executing": true
    }
   },
   "outputs": [
    {
     "data": {
      "text/html": [
       "<div>\n",
       "<style scoped>\n",
       "    .dataframe tbody tr th:only-of-type {\n",
       "        vertical-align: middle;\n",
       "    }\n",
       "\n",
       "    .dataframe tbody tr th {\n",
       "        vertical-align: top;\n",
       "    }\n",
       "\n",
       "    .dataframe thead th {\n",
       "        text-align: right;\n",
       "    }\n",
       "</style>\n",
       "<table border=\"1\" class=\"dataframe\">\n",
       "  <thead>\n",
       "    <tr style=\"text-align: right;\">\n",
       "      <th></th>\n",
       "      <th>total_images</th>\n",
       "      <th>last_price</th>\n",
       "      <th>total_area</th>\n",
       "      <th>first_day_exposition</th>\n",
       "      <th>rooms</th>\n",
       "      <th>ceiling_height</th>\n",
       "      <th>floors_total</th>\n",
       "      <th>living_area</th>\n",
       "      <th>floor</th>\n",
       "      <th>is_apartment</th>\n",
       "      <th>...</th>\n",
       "      <th>kitchen_area</th>\n",
       "      <th>balcony</th>\n",
       "      <th>locality_name</th>\n",
       "      <th>airports_nearest</th>\n",
       "      <th>city_centers_nearest</th>\n",
       "      <th>parks_around_3000</th>\n",
       "      <th>parks_nearest</th>\n",
       "      <th>ponds_around_3000</th>\n",
       "      <th>ponds_nearest</th>\n",
       "      <th>days_exposition</th>\n",
       "    </tr>\n",
       "  </thead>\n",
       "  <tbody>\n",
       "    <tr>\n",
       "      <th>184</th>\n",
       "      <td>7</td>\n",
       "      <td>2.60000</td>\n",
       "      <td>30.20</td>\n",
       "      <td>2018-02-14T00:00:00</td>\n",
       "      <td>1</td>\n",
       "      <td>2.65</td>\n",
       "      <td>9.0</td>\n",
       "      <td>26.10</td>\n",
       "      <td>5</td>\n",
       "      <td>NaN</td>\n",
       "      <td>...</td>\n",
       "      <td>6.20</td>\n",
       "      <td>NaN</td>\n",
       "      <td>санкт-петербург</td>\n",
       "      <td>13.952</td>\n",
       "      <td>15.031</td>\n",
       "      <td>0.0</td>\n",
       "      <td>NaN</td>\n",
       "      <td>1.0</td>\n",
       "      <td>824.0</td>\n",
       "      <td>12.0</td>\n",
       "    </tr>\n",
       "    <tr>\n",
       "      <th>545</th>\n",
       "      <td>9</td>\n",
       "      <td>4.70000</td>\n",
       "      <td>23.80</td>\n",
       "      <td>2018-12-28T00:00:00</td>\n",
       "      <td>1</td>\n",
       "      <td>NaN</td>\n",
       "      <td>18.0</td>\n",
       "      <td>20.00</td>\n",
       "      <td>9</td>\n",
       "      <td>NaN</td>\n",
       "      <td>...</td>\n",
       "      <td>5.00</td>\n",
       "      <td>NaN</td>\n",
       "      <td>санкт-петербург</td>\n",
       "      <td>9.731</td>\n",
       "      <td>11.849</td>\n",
       "      <td>0.0</td>\n",
       "      <td>NaN</td>\n",
       "      <td>0.0</td>\n",
       "      <td>NaN</td>\n",
       "      <td>108.0</td>\n",
       "    </tr>\n",
       "    <tr>\n",
       "      <th>551</th>\n",
       "      <td>8</td>\n",
       "      <td>3.10000</td>\n",
       "      <td>31.59</td>\n",
       "      <td>2018-03-08T00:00:00</td>\n",
       "      <td>1</td>\n",
       "      <td>2.70</td>\n",
       "      <td>19.0</td>\n",
       "      <td>30.55</td>\n",
       "      <td>2</td>\n",
       "      <td>NaN</td>\n",
       "      <td>...</td>\n",
       "      <td>9.28</td>\n",
       "      <td>2.0</td>\n",
       "      <td>мурино</td>\n",
       "      <td>NaN</td>\n",
       "      <td>NaN</td>\n",
       "      <td>NaN</td>\n",
       "      <td>NaN</td>\n",
       "      <td>NaN</td>\n",
       "      <td>NaN</td>\n",
       "      <td>70.0</td>\n",
       "    </tr>\n",
       "    <tr>\n",
       "      <th>601</th>\n",
       "      <td>12</td>\n",
       "      <td>5.60000</td>\n",
       "      <td>53.70</td>\n",
       "      <td>2017-04-18T00:00:00</td>\n",
       "      <td>2</td>\n",
       "      <td>2.50</td>\n",
       "      <td>12.0</td>\n",
       "      <td>48.30</td>\n",
       "      <td>5</td>\n",
       "      <td>NaN</td>\n",
       "      <td>...</td>\n",
       "      <td>7.00</td>\n",
       "      <td>2.0</td>\n",
       "      <td>санкт-петербург</td>\n",
       "      <td>50.477</td>\n",
       "      <td>13.252</td>\n",
       "      <td>2.0</td>\n",
       "      <td>220.0</td>\n",
       "      <td>1.0</td>\n",
       "      <td>1250.0</td>\n",
       "      <td>167.0</td>\n",
       "    </tr>\n",
       "    <tr>\n",
       "      <th>696</th>\n",
       "      <td>1</td>\n",
       "      <td>3.36493</td>\n",
       "      <td>34.69</td>\n",
       "      <td>2014-11-27T00:00:00</td>\n",
       "      <td>1</td>\n",
       "      <td>2.64</td>\n",
       "      <td>25.0</td>\n",
       "      <td>23.43</td>\n",
       "      <td>25</td>\n",
       "      <td>NaN</td>\n",
       "      <td>...</td>\n",
       "      <td>23.43</td>\n",
       "      <td>2.0</td>\n",
       "      <td>санкт-петербург</td>\n",
       "      <td>43.396</td>\n",
       "      <td>12.153</td>\n",
       "      <td>0.0</td>\n",
       "      <td>NaN</td>\n",
       "      <td>0.0</td>\n",
       "      <td>NaN</td>\n",
       "      <td>574.0</td>\n",
       "    </tr>\n",
       "    <tr>\n",
       "      <th>...</th>\n",
       "      <td>...</td>\n",
       "      <td>...</td>\n",
       "      <td>...</td>\n",
       "      <td>...</td>\n",
       "      <td>...</td>\n",
       "      <td>...</td>\n",
       "      <td>...</td>\n",
       "      <td>...</td>\n",
       "      <td>...</td>\n",
       "      <td>...</td>\n",
       "      <td>...</td>\n",
       "      <td>...</td>\n",
       "      <td>...</td>\n",
       "      <td>...</td>\n",
       "      <td>...</td>\n",
       "      <td>...</td>\n",
       "      <td>...</td>\n",
       "      <td>...</td>\n",
       "      <td>...</td>\n",
       "      <td>...</td>\n",
       "      <td>...</td>\n",
       "    </tr>\n",
       "    <tr>\n",
       "      <th>21813</th>\n",
       "      <td>20</td>\n",
       "      <td>2.45000</td>\n",
       "      <td>44.00</td>\n",
       "      <td>2019-02-12T00:00:00</td>\n",
       "      <td>2</td>\n",
       "      <td>27.00</td>\n",
       "      <td>2.0</td>\n",
       "      <td>38.00</td>\n",
       "      <td>2</td>\n",
       "      <td>False</td>\n",
       "      <td>...</td>\n",
       "      <td>8.60</td>\n",
       "      <td>2.0</td>\n",
       "      <td>большая ижора</td>\n",
       "      <td>NaN</td>\n",
       "      <td>NaN</td>\n",
       "      <td>NaN</td>\n",
       "      <td>NaN</td>\n",
       "      <td>NaN</td>\n",
       "      <td>NaN</td>\n",
       "      <td>NaN</td>\n",
       "    </tr>\n",
       "    <tr>\n",
       "      <th>21857</th>\n",
       "      <td>12</td>\n",
       "      <td>2.60000</td>\n",
       "      <td>34.30</td>\n",
       "      <td>2018-09-26T00:00:00</td>\n",
       "      <td>1</td>\n",
       "      <td>2.50</td>\n",
       "      <td>9.0</td>\n",
       "      <td>30.60</td>\n",
       "      <td>6</td>\n",
       "      <td>NaN</td>\n",
       "      <td>...</td>\n",
       "      <td>8.00</td>\n",
       "      <td>2.0</td>\n",
       "      <td>сосновый бор</td>\n",
       "      <td>NaN</td>\n",
       "      <td>NaN</td>\n",
       "      <td>NaN</td>\n",
       "      <td>NaN</td>\n",
       "      <td>NaN</td>\n",
       "      <td>NaN</td>\n",
       "      <td>107.0</td>\n",
       "    </tr>\n",
       "    <tr>\n",
       "      <th>21903</th>\n",
       "      <td>14</td>\n",
       "      <td>11.99000</td>\n",
       "      <td>91.40</td>\n",
       "      <td>2016-05-16T00:00:00</td>\n",
       "      <td>2</td>\n",
       "      <td>NaN</td>\n",
       "      <td>16.0</td>\n",
       "      <td>62.00</td>\n",
       "      <td>12</td>\n",
       "      <td>NaN</td>\n",
       "      <td>...</td>\n",
       "      <td>32.40</td>\n",
       "      <td>0.0</td>\n",
       "      <td>санкт-петербург</td>\n",
       "      <td>10.934</td>\n",
       "      <td>12.551</td>\n",
       "      <td>0.0</td>\n",
       "      <td>NaN</td>\n",
       "      <td>0.0</td>\n",
       "      <td>NaN</td>\n",
       "      <td>93.0</td>\n",
       "    </tr>\n",
       "    <tr>\n",
       "      <th>21944</th>\n",
       "      <td>0</td>\n",
       "      <td>5.20000</td>\n",
       "      <td>46.00</td>\n",
       "      <td>2018-07-20T00:00:00</td>\n",
       "      <td>2</td>\n",
       "      <td>NaN</td>\n",
       "      <td>5.0</td>\n",
       "      <td>44.00</td>\n",
       "      <td>5</td>\n",
       "      <td>NaN</td>\n",
       "      <td>...</td>\n",
       "      <td>8.00</td>\n",
       "      <td>1.0</td>\n",
       "      <td>санкт-петербург</td>\n",
       "      <td>14.103</td>\n",
       "      <td>15.182</td>\n",
       "      <td>1.0</td>\n",
       "      <td>488.0</td>\n",
       "      <td>0.0</td>\n",
       "      <td>NaN</td>\n",
       "      <td>7.0</td>\n",
       "    </tr>\n",
       "    <tr>\n",
       "      <th>23189</th>\n",
       "      <td>13</td>\n",
       "      <td>4.91988</td>\n",
       "      <td>67.92</td>\n",
       "      <td>2018-10-23T00:00:00</td>\n",
       "      <td>2</td>\n",
       "      <td>NaN</td>\n",
       "      <td>3.0</td>\n",
       "      <td>63.00</td>\n",
       "      <td>3</td>\n",
       "      <td>NaN</td>\n",
       "      <td>...</td>\n",
       "      <td>13.04</td>\n",
       "      <td>NaN</td>\n",
       "      <td>всеволожск</td>\n",
       "      <td>NaN</td>\n",
       "      <td>NaN</td>\n",
       "      <td>NaN</td>\n",
       "      <td>NaN</td>\n",
       "      <td>NaN</td>\n",
       "      <td>NaN</td>\n",
       "      <td>60.0</td>\n",
       "    </tr>\n",
       "  </tbody>\n",
       "</table>\n",
       "<p>64 rows × 22 columns</p>\n",
       "</div>"
      ],
      "text/plain": [
       "       total_images  last_price  total_area first_day_exposition  rooms  \\\n",
       "184               7     2.60000       30.20  2018-02-14T00:00:00      1   \n",
       "545               9     4.70000       23.80  2018-12-28T00:00:00      1   \n",
       "551               8     3.10000       31.59  2018-03-08T00:00:00      1   \n",
       "601              12     5.60000       53.70  2017-04-18T00:00:00      2   \n",
       "696               1     3.36493       34.69  2014-11-27T00:00:00      1   \n",
       "...             ...         ...         ...                  ...    ...   \n",
       "21813            20     2.45000       44.00  2019-02-12T00:00:00      2   \n",
       "21857            12     2.60000       34.30  2018-09-26T00:00:00      1   \n",
       "21903            14    11.99000       91.40  2016-05-16T00:00:00      2   \n",
       "21944             0     5.20000       46.00  2018-07-20T00:00:00      2   \n",
       "23189            13     4.91988       67.92  2018-10-23T00:00:00      2   \n",
       "\n",
       "       ceiling_height  floors_total  living_area  floor is_apartment  ...  \\\n",
       "184              2.65           9.0        26.10      5          NaN  ...   \n",
       "545               NaN          18.0        20.00      9          NaN  ...   \n",
       "551              2.70          19.0        30.55      2          NaN  ...   \n",
       "601              2.50          12.0        48.30      5          NaN  ...   \n",
       "696              2.64          25.0        23.43     25          NaN  ...   \n",
       "...               ...           ...          ...    ...          ...  ...   \n",
       "21813           27.00           2.0        38.00      2        False  ...   \n",
       "21857            2.50           9.0        30.60      6          NaN  ...   \n",
       "21903             NaN          16.0        62.00     12          NaN  ...   \n",
       "21944             NaN           5.0        44.00      5          NaN  ...   \n",
       "23189             NaN           3.0        63.00      3          NaN  ...   \n",
       "\n",
       "       kitchen_area  balcony    locality_name  airports_nearest  \\\n",
       "184            6.20      NaN  санкт-петербург            13.952   \n",
       "545            5.00      NaN  санкт-петербург             9.731   \n",
       "551            9.28      2.0           мурино               NaN   \n",
       "601            7.00      2.0  санкт-петербург            50.477   \n",
       "696           23.43      2.0  санкт-петербург            43.396   \n",
       "...             ...      ...              ...               ...   \n",
       "21813          8.60      2.0    большая ижора               NaN   \n",
       "21857          8.00      2.0     сосновый бор               NaN   \n",
       "21903         32.40      0.0  санкт-петербург            10.934   \n",
       "21944          8.00      1.0  санкт-петербург            14.103   \n",
       "23189         13.04      NaN       всеволожск               NaN   \n",
       "\n",
       "      city_centers_nearest  parks_around_3000  parks_nearest  \\\n",
       "184                 15.031                0.0            NaN   \n",
       "545                 11.849                0.0            NaN   \n",
       "551                    NaN                NaN            NaN   \n",
       "601                 13.252                2.0          220.0   \n",
       "696                 12.153                0.0            NaN   \n",
       "...                    ...                ...            ...   \n",
       "21813                  NaN                NaN            NaN   \n",
       "21857                  NaN                NaN            NaN   \n",
       "21903               12.551                0.0            NaN   \n",
       "21944               15.182                1.0          488.0   \n",
       "23189                  NaN                NaN            NaN   \n",
       "\n",
       "       ponds_around_3000  ponds_nearest  days_exposition  \n",
       "184                  1.0          824.0             12.0  \n",
       "545                  0.0            NaN            108.0  \n",
       "551                  NaN            NaN             70.0  \n",
       "601                  1.0         1250.0            167.0  \n",
       "696                  0.0            NaN            574.0  \n",
       "...                  ...            ...              ...  \n",
       "21813                NaN            NaN              NaN  \n",
       "21857                NaN            NaN            107.0  \n",
       "21903                0.0            NaN             93.0  \n",
       "21944                0.0            NaN              7.0  \n",
       "23189                NaN            NaN             60.0  \n",
       "\n",
       "[64 rows x 22 columns]"
      ]
     },
     "execution_count": 40,
     "metadata": {},
     "output_type": "execute_result"
    }
   ],
   "source": [
    "df.query('total_area < living_area + kitchen_area')"
   ]
  },
  {
   "cell_type": "code",
   "execution_count": 41,
   "metadata": {
    "pycharm": {
     "is_executing": true
    }
   },
   "outputs": [
    {
     "data": {
      "text/plain": [
       "0.9395561266275431"
      ]
     },
     "execution_count": 41,
     "metadata": {},
     "output_type": "execute_result"
    }
   ],
   "source": [
    "df['living_area'].corr(df['total_area'])"
   ]
  },
  {
   "cell_type": "code",
   "execution_count": 42,
   "metadata": {
    "pycharm": {
     "is_executing": true
    }
   },
   "outputs": [],
   "source": [
    "def recover_living_area(x):\n",
    "    temp = df[(df['total_area'] <= x['total_area'] + 3) &\n",
    "              (df['total_area'] >= x['total_area'] - 3)]['living_area'].median()\n",
    "    return temp"
   ]
  },
  {
   "cell_type": "code",
   "execution_count": 43,
   "metadata": {
    "pycharm": {
     "is_executing": true
    }
   },
   "outputs": [],
   "source": [
    "# Был использован менеджер подавления предупреждений warning для того, чтобы избежать предупреждения RuntimeWarning.\n",
    "with warnings.catch_warnings():\n",
    "    warnings.simplefilter(\"ignore\", category=RuntimeWarning)\n",
    "    df.loc[df['living_area'].isna(), 'living_area'] = df[\n",
    "        df['living_area'].isna()].apply(recover_living_area, axis=1)"
   ]
  },
  {
   "cell_type": "code",
   "execution_count": 44,
   "metadata": {
    "pycharm": {
     "is_executing": true
    }
   },
   "outputs": [
    {
     "data": {
      "text/html": [
       "<div>\n",
       "<style scoped>\n",
       "    .dataframe tbody tr th:only-of-type {\n",
       "        vertical-align: middle;\n",
       "    }\n",
       "\n",
       "    .dataframe tbody tr th {\n",
       "        vertical-align: top;\n",
       "    }\n",
       "\n",
       "    .dataframe thead th {\n",
       "        text-align: right;\n",
       "    }\n",
       "</style>\n",
       "<table border=\"1\" class=\"dataframe\">\n",
       "  <thead>\n",
       "    <tr style=\"text-align: right;\">\n",
       "      <th></th>\n",
       "      <th>total_images</th>\n",
       "      <th>last_price</th>\n",
       "      <th>total_area</th>\n",
       "      <th>first_day_exposition</th>\n",
       "      <th>rooms</th>\n",
       "      <th>ceiling_height</th>\n",
       "      <th>floors_total</th>\n",
       "      <th>living_area</th>\n",
       "      <th>floor</th>\n",
       "      <th>is_apartment</th>\n",
       "      <th>...</th>\n",
       "      <th>kitchen_area</th>\n",
       "      <th>balcony</th>\n",
       "      <th>locality_name</th>\n",
       "      <th>airports_nearest</th>\n",
       "      <th>city_centers_nearest</th>\n",
       "      <th>parks_around_3000</th>\n",
       "      <th>parks_nearest</th>\n",
       "      <th>ponds_around_3000</th>\n",
       "      <th>ponds_nearest</th>\n",
       "      <th>days_exposition</th>\n",
       "    </tr>\n",
       "  </thead>\n",
       "  <tbody>\n",
       "    <tr>\n",
       "      <th>3675</th>\n",
       "      <td>12</td>\n",
       "      <td>28.789</td>\n",
       "      <td>441.98</td>\n",
       "      <td>2019-01-23T00:00:00</td>\n",
       "      <td>4</td>\n",
       "      <td>NaN</td>\n",
       "      <td>6.0</td>\n",
       "      <td>NaN</td>\n",
       "      <td>6</td>\n",
       "      <td>NaN</td>\n",
       "      <td>...</td>\n",
       "      <td>35.05</td>\n",
       "      <td>NaN</td>\n",
       "      <td>санкт-петербург</td>\n",
       "      <td>20.552</td>\n",
       "      <td>5.181</td>\n",
       "      <td>0.0</td>\n",
       "      <td>NaN</td>\n",
       "      <td>0.0</td>\n",
       "      <td>NaN</td>\n",
       "      <td>NaN</td>\n",
       "    </tr>\n",
       "    <tr>\n",
       "      <th>5892</th>\n",
       "      <td>3</td>\n",
       "      <td>230.000</td>\n",
       "      <td>500.00</td>\n",
       "      <td>2017-05-31T00:00:00</td>\n",
       "      <td>6</td>\n",
       "      <td>NaN</td>\n",
       "      <td>7.0</td>\n",
       "      <td>NaN</td>\n",
       "      <td>7</td>\n",
       "      <td>NaN</td>\n",
       "      <td>...</td>\n",
       "      <td>40.00</td>\n",
       "      <td>0.0</td>\n",
       "      <td>санкт-петербург</td>\n",
       "      <td>32.440</td>\n",
       "      <td>5.297</td>\n",
       "      <td>0.0</td>\n",
       "      <td>NaN</td>\n",
       "      <td>2.0</td>\n",
       "      <td>198.0</td>\n",
       "      <td>50.0</td>\n",
       "    </tr>\n",
       "    <tr>\n",
       "      <th>15010</th>\n",
       "      <td>8</td>\n",
       "      <td>150.000</td>\n",
       "      <td>500.00</td>\n",
       "      <td>2016-01-13T00:00:00</td>\n",
       "      <td>4</td>\n",
       "      <td>3.2</td>\n",
       "      <td>7.0</td>\n",
       "      <td>NaN</td>\n",
       "      <td>7</td>\n",
       "      <td>NaN</td>\n",
       "      <td>...</td>\n",
       "      <td>NaN</td>\n",
       "      <td>0.0</td>\n",
       "      <td>санкт-петербург</td>\n",
       "      <td>33.058</td>\n",
       "      <td>6.150</td>\n",
       "      <td>3.0</td>\n",
       "      <td>209.0</td>\n",
       "      <td>3.0</td>\n",
       "      <td>531.0</td>\n",
       "      <td>303.0</td>\n",
       "    </tr>\n",
       "    <tr>\n",
       "      <th>22119</th>\n",
       "      <td>14</td>\n",
       "      <td>27.000</td>\n",
       "      <td>422.20</td>\n",
       "      <td>2018-10-18T00:00:00</td>\n",
       "      <td>5</td>\n",
       "      <td>2.7</td>\n",
       "      <td>13.0</td>\n",
       "      <td>NaN</td>\n",
       "      <td>11</td>\n",
       "      <td>NaN</td>\n",
       "      <td>...</td>\n",
       "      <td>NaN</td>\n",
       "      <td>NaN</td>\n",
       "      <td>санкт-петербург</td>\n",
       "      <td>46.625</td>\n",
       "      <td>16.554</td>\n",
       "      <td>0.0</td>\n",
       "      <td>NaN</td>\n",
       "      <td>0.0</td>\n",
       "      <td>NaN</td>\n",
       "      <td>NaN</td>\n",
       "    </tr>\n",
       "  </tbody>\n",
       "</table>\n",
       "<p>4 rows × 22 columns</p>\n",
       "</div>"
      ],
      "text/plain": [
       "       total_images  last_price  total_area first_day_exposition  rooms  \\\n",
       "3675             12      28.789      441.98  2019-01-23T00:00:00      4   \n",
       "5892              3     230.000      500.00  2017-05-31T00:00:00      6   \n",
       "15010             8     150.000      500.00  2016-01-13T00:00:00      4   \n",
       "22119            14      27.000      422.20  2018-10-18T00:00:00      5   \n",
       "\n",
       "       ceiling_height  floors_total  living_area  floor is_apartment  ...  \\\n",
       "3675              NaN           6.0          NaN      6          NaN  ...   \n",
       "5892              NaN           7.0          NaN      7          NaN  ...   \n",
       "15010             3.2           7.0          NaN      7          NaN  ...   \n",
       "22119             2.7          13.0          NaN     11          NaN  ...   \n",
       "\n",
       "       kitchen_area  balcony    locality_name  airports_nearest  \\\n",
       "3675          35.05      NaN  санкт-петербург            20.552   \n",
       "5892          40.00      0.0  санкт-петербург            32.440   \n",
       "15010           NaN      0.0  санкт-петербург            33.058   \n",
       "22119           NaN      NaN  санкт-петербург            46.625   \n",
       "\n",
       "      city_centers_nearest  parks_around_3000  parks_nearest  \\\n",
       "3675                 5.181                0.0            NaN   \n",
       "5892                 5.297                0.0            NaN   \n",
       "15010                6.150                3.0          209.0   \n",
       "22119               16.554                0.0            NaN   \n",
       "\n",
       "       ponds_around_3000  ponds_nearest  days_exposition  \n",
       "3675                 0.0            NaN              NaN  \n",
       "5892                 2.0          198.0             50.0  \n",
       "15010                3.0          531.0            303.0  \n",
       "22119                0.0            NaN              NaN  \n",
       "\n",
       "[4 rows x 22 columns]"
      ]
     },
     "execution_count": 44,
     "metadata": {},
     "output_type": "execute_result"
    }
   ],
   "source": [
    "df[df['living_area'].isna()]"
   ]
  },
  {
   "cell_type": "code",
   "execution_count": 45,
   "metadata": {
    "pycharm": {
     "is_executing": true
    }
   },
   "outputs": [],
   "source": [
    "df.dropna(subset=['living_area'], inplace=True)\n",
    "df.reset_index(drop=True, inplace=True)"
   ]
  },
  {
   "cell_type": "markdown",
   "metadata": {},
   "source": [
    "Синтетическое заполнение столбца kitchen_area не представляется возможным, так как изначально множество пользователей путают категории между собой и не придерживаются общей правильной логики заполнения."
   ]
  },
  {
   "cell_type": "markdown",
   "metadata": {},
   "source": [
    "Перейдем к восстановлению столбцов airports_nearest и city_centers_nearest."
   ]
  },
  {
   "cell_type": "code",
   "execution_count": 46,
   "metadata": {
    "pycharm": {
     "is_executing": true
    }
   },
   "outputs": [
    {
     "data": {
      "text/html": [
       "<div>\n",
       "<style scoped>\n",
       "    .dataframe tbody tr th:only-of-type {\n",
       "        vertical-align: middle;\n",
       "    }\n",
       "\n",
       "    .dataframe tbody tr th {\n",
       "        vertical-align: top;\n",
       "    }\n",
       "\n",
       "    .dataframe thead th {\n",
       "        text-align: right;\n",
       "    }\n",
       "</style>\n",
       "<table border=\"1\" class=\"dataframe\">\n",
       "  <thead>\n",
       "    <tr style=\"text-align: right;\">\n",
       "      <th></th>\n",
       "      <th>total_images</th>\n",
       "      <th>last_price</th>\n",
       "      <th>total_area</th>\n",
       "      <th>first_day_exposition</th>\n",
       "      <th>rooms</th>\n",
       "      <th>ceiling_height</th>\n",
       "      <th>floors_total</th>\n",
       "      <th>living_area</th>\n",
       "      <th>floor</th>\n",
       "      <th>is_apartment</th>\n",
       "      <th>...</th>\n",
       "      <th>kitchen_area</th>\n",
       "      <th>balcony</th>\n",
       "      <th>locality_name</th>\n",
       "      <th>airports_nearest</th>\n",
       "      <th>city_centers_nearest</th>\n",
       "      <th>parks_around_3000</th>\n",
       "      <th>parks_nearest</th>\n",
       "      <th>ponds_around_3000</th>\n",
       "      <th>ponds_nearest</th>\n",
       "      <th>days_exposition</th>\n",
       "    </tr>\n",
       "  </thead>\n",
       "  <tbody>\n",
       "    <tr>\n",
       "      <th>47</th>\n",
       "      <td>17</td>\n",
       "      <td>3.60</td>\n",
       "      <td>56.1</td>\n",
       "      <td>2018-10-18T00:00:00</td>\n",
       "      <td>3</td>\n",
       "      <td>NaN</td>\n",
       "      <td>4.0</td>\n",
       "      <td>42.5</td>\n",
       "      <td>3</td>\n",
       "      <td>NaN</td>\n",
       "      <td>...</td>\n",
       "      <td>5.7</td>\n",
       "      <td>1.0</td>\n",
       "      <td>гатчина</td>\n",
       "      <td>NaN</td>\n",
       "      <td>NaN</td>\n",
       "      <td>NaN</td>\n",
       "      <td>NaN</td>\n",
       "      <td>NaN</td>\n",
       "      <td>NaN</td>\n",
       "      <td>179.0</td>\n",
       "    </tr>\n",
       "    <tr>\n",
       "      <th>64</th>\n",
       "      <td>13</td>\n",
       "      <td>3.10</td>\n",
       "      <td>44.3</td>\n",
       "      <td>2017-11-07T00:00:00</td>\n",
       "      <td>2</td>\n",
       "      <td>2.50</td>\n",
       "      <td>5.0</td>\n",
       "      <td>29.0</td>\n",
       "      <td>5</td>\n",
       "      <td>NaN</td>\n",
       "      <td>...</td>\n",
       "      <td>5.3</td>\n",
       "      <td>NaN</td>\n",
       "      <td>гатчина</td>\n",
       "      <td>NaN</td>\n",
       "      <td>NaN</td>\n",
       "      <td>NaN</td>\n",
       "      <td>NaN</td>\n",
       "      <td>NaN</td>\n",
       "      <td>NaN</td>\n",
       "      <td>143.0</td>\n",
       "    </tr>\n",
       "    <tr>\n",
       "      <th>174</th>\n",
       "      <td>8</td>\n",
       "      <td>2.10</td>\n",
       "      <td>31.6</td>\n",
       "      <td>2018-10-16T00:00:00</td>\n",
       "      <td>1</td>\n",
       "      <td>NaN</td>\n",
       "      <td>5.0</td>\n",
       "      <td>17.5</td>\n",
       "      <td>4</td>\n",
       "      <td>NaN</td>\n",
       "      <td>...</td>\n",
       "      <td>5.5</td>\n",
       "      <td>1.0</td>\n",
       "      <td>гатчина</td>\n",
       "      <td>NaN</td>\n",
       "      <td>NaN</td>\n",
       "      <td>NaN</td>\n",
       "      <td>NaN</td>\n",
       "      <td>NaN</td>\n",
       "      <td>NaN</td>\n",
       "      <td>37.0</td>\n",
       "    </tr>\n",
       "    <tr>\n",
       "      <th>298</th>\n",
       "      <td>9</td>\n",
       "      <td>2.65</td>\n",
       "      <td>42.8</td>\n",
       "      <td>2017-04-25T00:00:00</td>\n",
       "      <td>2</td>\n",
       "      <td>NaN</td>\n",
       "      <td>5.0</td>\n",
       "      <td>30.0</td>\n",
       "      <td>3</td>\n",
       "      <td>NaN</td>\n",
       "      <td>...</td>\n",
       "      <td>4.5</td>\n",
       "      <td>0.0</td>\n",
       "      <td>гатчина</td>\n",
       "      <td>NaN</td>\n",
       "      <td>NaN</td>\n",
       "      <td>NaN</td>\n",
       "      <td>NaN</td>\n",
       "      <td>NaN</td>\n",
       "      <td>NaN</td>\n",
       "      <td>49.0</td>\n",
       "    </tr>\n",
       "    <tr>\n",
       "      <th>355</th>\n",
       "      <td>17</td>\n",
       "      <td>3.60</td>\n",
       "      <td>55.2</td>\n",
       "      <td>2018-07-12T00:00:00</td>\n",
       "      <td>2</td>\n",
       "      <td>25.00</td>\n",
       "      <td>5.0</td>\n",
       "      <td>32.0</td>\n",
       "      <td>2</td>\n",
       "      <td>False</td>\n",
       "      <td>...</td>\n",
       "      <td>NaN</td>\n",
       "      <td>2.0</td>\n",
       "      <td>гатчина</td>\n",
       "      <td>NaN</td>\n",
       "      <td>NaN</td>\n",
       "      <td>NaN</td>\n",
       "      <td>NaN</td>\n",
       "      <td>NaN</td>\n",
       "      <td>NaN</td>\n",
       "      <td>259.0</td>\n",
       "    </tr>\n",
       "    <tr>\n",
       "      <th>...</th>\n",
       "      <td>...</td>\n",
       "      <td>...</td>\n",
       "      <td>...</td>\n",
       "      <td>...</td>\n",
       "      <td>...</td>\n",
       "      <td>...</td>\n",
       "      <td>...</td>\n",
       "      <td>...</td>\n",
       "      <td>...</td>\n",
       "      <td>...</td>\n",
       "      <td>...</td>\n",
       "      <td>...</td>\n",
       "      <td>...</td>\n",
       "      <td>...</td>\n",
       "      <td>...</td>\n",
       "      <td>...</td>\n",
       "      <td>...</td>\n",
       "      <td>...</td>\n",
       "      <td>...</td>\n",
       "      <td>...</td>\n",
       "      <td>...</td>\n",
       "    </tr>\n",
       "    <tr>\n",
       "      <th>23329</th>\n",
       "      <td>3</td>\n",
       "      <td>2.30</td>\n",
       "      <td>34.0</td>\n",
       "      <td>2016-06-17T00:00:00</td>\n",
       "      <td>1</td>\n",
       "      <td>NaN</td>\n",
       "      <td>13.0</td>\n",
       "      <td>16.0</td>\n",
       "      <td>13</td>\n",
       "      <td>False</td>\n",
       "      <td>...</td>\n",
       "      <td>10.0</td>\n",
       "      <td>0.0</td>\n",
       "      <td>гатчина</td>\n",
       "      <td>NaN</td>\n",
       "      <td>NaN</td>\n",
       "      <td>NaN</td>\n",
       "      <td>NaN</td>\n",
       "      <td>NaN</td>\n",
       "      <td>NaN</td>\n",
       "      <td>197.0</td>\n",
       "    </tr>\n",
       "    <tr>\n",
       "      <th>23436</th>\n",
       "      <td>5</td>\n",
       "      <td>3.00</td>\n",
       "      <td>55.5</td>\n",
       "      <td>2016-04-13T00:00:00</td>\n",
       "      <td>3</td>\n",
       "      <td>NaN</td>\n",
       "      <td>5.0</td>\n",
       "      <td>37.2</td>\n",
       "      <td>3</td>\n",
       "      <td>False</td>\n",
       "      <td>...</td>\n",
       "      <td>6.1</td>\n",
       "      <td>0.0</td>\n",
       "      <td>гатчина</td>\n",
       "      <td>NaN</td>\n",
       "      <td>NaN</td>\n",
       "      <td>NaN</td>\n",
       "      <td>NaN</td>\n",
       "      <td>NaN</td>\n",
       "      <td>NaN</td>\n",
       "      <td>161.0</td>\n",
       "    </tr>\n",
       "    <tr>\n",
       "      <th>23460</th>\n",
       "      <td>3</td>\n",
       "      <td>1.45</td>\n",
       "      <td>138.0</td>\n",
       "      <td>2018-07-06T00:00:00</td>\n",
       "      <td>3</td>\n",
       "      <td>NaN</td>\n",
       "      <td>2.0</td>\n",
       "      <td>58.0</td>\n",
       "      <td>2</td>\n",
       "      <td>NaN</td>\n",
       "      <td>...</td>\n",
       "      <td>12.0</td>\n",
       "      <td>NaN</td>\n",
       "      <td>гатчина</td>\n",
       "      <td>NaN</td>\n",
       "      <td>NaN</td>\n",
       "      <td>NaN</td>\n",
       "      <td>NaN</td>\n",
       "      <td>NaN</td>\n",
       "      <td>NaN</td>\n",
       "      <td>52.0</td>\n",
       "    </tr>\n",
       "    <tr>\n",
       "      <th>23513</th>\n",
       "      <td>0</td>\n",
       "      <td>3.00</td>\n",
       "      <td>30.0</td>\n",
       "      <td>2018-03-28T00:00:00</td>\n",
       "      <td>1</td>\n",
       "      <td>2.55</td>\n",
       "      <td>5.0</td>\n",
       "      <td>17.0</td>\n",
       "      <td>3</td>\n",
       "      <td>NaN</td>\n",
       "      <td>...</td>\n",
       "      <td>NaN</td>\n",
       "      <td>NaN</td>\n",
       "      <td>гатчина</td>\n",
       "      <td>NaN</td>\n",
       "      <td>NaN</td>\n",
       "      <td>NaN</td>\n",
       "      <td>NaN</td>\n",
       "      <td>NaN</td>\n",
       "      <td>NaN</td>\n",
       "      <td>45.0</td>\n",
       "    </tr>\n",
       "    <tr>\n",
       "      <th>23539</th>\n",
       "      <td>10</td>\n",
       "      <td>3.20</td>\n",
       "      <td>49.1</td>\n",
       "      <td>2016-03-09T00:00:00</td>\n",
       "      <td>2</td>\n",
       "      <td>NaN</td>\n",
       "      <td>8.0</td>\n",
       "      <td>29.0</td>\n",
       "      <td>3</td>\n",
       "      <td>NaN</td>\n",
       "      <td>...</td>\n",
       "      <td>8.0</td>\n",
       "      <td>1.0</td>\n",
       "      <td>гатчина</td>\n",
       "      <td>NaN</td>\n",
       "      <td>NaN</td>\n",
       "      <td>NaN</td>\n",
       "      <td>NaN</td>\n",
       "      <td>NaN</td>\n",
       "      <td>NaN</td>\n",
       "      <td>204.0</td>\n",
       "    </tr>\n",
       "  </tbody>\n",
       "</table>\n",
       "<p>307 rows × 22 columns</p>\n",
       "</div>"
      ],
      "text/plain": [
       "       total_images  last_price  total_area first_day_exposition  rooms  \\\n",
       "47               17        3.60        56.1  2018-10-18T00:00:00      3   \n",
       "64               13        3.10        44.3  2017-11-07T00:00:00      2   \n",
       "174               8        2.10        31.6  2018-10-16T00:00:00      1   \n",
       "298               9        2.65        42.8  2017-04-25T00:00:00      2   \n",
       "355              17        3.60        55.2  2018-07-12T00:00:00      2   \n",
       "...             ...         ...         ...                  ...    ...   \n",
       "23329             3        2.30        34.0  2016-06-17T00:00:00      1   \n",
       "23436             5        3.00        55.5  2016-04-13T00:00:00      3   \n",
       "23460             3        1.45       138.0  2018-07-06T00:00:00      3   \n",
       "23513             0        3.00        30.0  2018-03-28T00:00:00      1   \n",
       "23539            10        3.20        49.1  2016-03-09T00:00:00      2   \n",
       "\n",
       "       ceiling_height  floors_total  living_area  floor is_apartment  ...  \\\n",
       "47                NaN           4.0         42.5      3          NaN  ...   \n",
       "64               2.50           5.0         29.0      5          NaN  ...   \n",
       "174               NaN           5.0         17.5      4          NaN  ...   \n",
       "298               NaN           5.0         30.0      3          NaN  ...   \n",
       "355             25.00           5.0         32.0      2        False  ...   \n",
       "...               ...           ...          ...    ...          ...  ...   \n",
       "23329             NaN          13.0         16.0     13        False  ...   \n",
       "23436             NaN           5.0         37.2      3        False  ...   \n",
       "23460             NaN           2.0         58.0      2          NaN  ...   \n",
       "23513            2.55           5.0         17.0      3          NaN  ...   \n",
       "23539             NaN           8.0         29.0      3          NaN  ...   \n",
       "\n",
       "       kitchen_area  balcony  locality_name  airports_nearest  \\\n",
       "47              5.7      1.0        гатчина               NaN   \n",
       "64              5.3      NaN        гатчина               NaN   \n",
       "174             5.5      1.0        гатчина               NaN   \n",
       "298             4.5      0.0        гатчина               NaN   \n",
       "355             NaN      2.0        гатчина               NaN   \n",
       "...             ...      ...            ...               ...   \n",
       "23329          10.0      0.0        гатчина               NaN   \n",
       "23436           6.1      0.0        гатчина               NaN   \n",
       "23460          12.0      NaN        гатчина               NaN   \n",
       "23513           NaN      NaN        гатчина               NaN   \n",
       "23539           8.0      1.0        гатчина               NaN   \n",
       "\n",
       "      city_centers_nearest  parks_around_3000  parks_nearest  \\\n",
       "47                     NaN                NaN            NaN   \n",
       "64                     NaN                NaN            NaN   \n",
       "174                    NaN                NaN            NaN   \n",
       "298                    NaN                NaN            NaN   \n",
       "355                    NaN                NaN            NaN   \n",
       "...                    ...                ...            ...   \n",
       "23329                  NaN                NaN            NaN   \n",
       "23436                  NaN                NaN            NaN   \n",
       "23460                  NaN                NaN            NaN   \n",
       "23513                  NaN                NaN            NaN   \n",
       "23539                  NaN                NaN            NaN   \n",
       "\n",
       "       ponds_around_3000  ponds_nearest  days_exposition  \n",
       "47                   NaN            NaN            179.0  \n",
       "64                   NaN            NaN            143.0  \n",
       "174                  NaN            NaN             37.0  \n",
       "298                  NaN            NaN             49.0  \n",
       "355                  NaN            NaN            259.0  \n",
       "...                  ...            ...              ...  \n",
       "23329                NaN            NaN            197.0  \n",
       "23436                NaN            NaN            161.0  \n",
       "23460                NaN            NaN             52.0  \n",
       "23513                NaN            NaN             45.0  \n",
       "23539                NaN            NaN            204.0  \n",
       "\n",
       "[307 rows x 22 columns]"
      ]
     },
     "execution_count": 46,
     "metadata": {},
     "output_type": "execute_result"
    }
   ],
   "source": [
    "df[(df['locality_name'] == 'гатчина') & (df['city_centers_nearest'].isna())]"
   ]
  },
  {
   "cell_type": "code",
   "execution_count": 47,
   "metadata": {
    "pycharm": {
     "is_executing": true
    }
   },
   "outputs": [
    {
     "data": {
      "text/html": [
       "<div>\n",
       "<style scoped>\n",
       "    .dataframe tbody tr th:only-of-type {\n",
       "        vertical-align: middle;\n",
       "    }\n",
       "\n",
       "    .dataframe tbody tr th {\n",
       "        vertical-align: top;\n",
       "    }\n",
       "\n",
       "    .dataframe thead th {\n",
       "        text-align: right;\n",
       "    }\n",
       "</style>\n",
       "<table border=\"1\" class=\"dataframe\">\n",
       "  <thead>\n",
       "    <tr style=\"text-align: right;\">\n",
       "      <th></th>\n",
       "      <th>total_images</th>\n",
       "      <th>last_price</th>\n",
       "      <th>total_area</th>\n",
       "      <th>first_day_exposition</th>\n",
       "      <th>rooms</th>\n",
       "      <th>ceiling_height</th>\n",
       "      <th>floors_total</th>\n",
       "      <th>living_area</th>\n",
       "      <th>floor</th>\n",
       "      <th>is_apartment</th>\n",
       "      <th>...</th>\n",
       "      <th>kitchen_area</th>\n",
       "      <th>balcony</th>\n",
       "      <th>locality_name</th>\n",
       "      <th>airports_nearest</th>\n",
       "      <th>city_centers_nearest</th>\n",
       "      <th>parks_around_3000</th>\n",
       "      <th>parks_nearest</th>\n",
       "      <th>ponds_around_3000</th>\n",
       "      <th>ponds_nearest</th>\n",
       "      <th>days_exposition</th>\n",
       "    </tr>\n",
       "  </thead>\n",
       "  <tbody>\n",
       "  </tbody>\n",
       "</table>\n",
       "<p>0 rows × 22 columns</p>\n",
       "</div>"
      ],
      "text/plain": [
       "Empty DataFrame\n",
       "Columns: [total_images, last_price, total_area, first_day_exposition, rooms, ceiling_height, floors_total, living_area, floor, is_apartment, studio, open_plan, kitchen_area, balcony, locality_name, airports_nearest, city_centers_nearest, parks_around_3000, parks_nearest, ponds_around_3000, ponds_nearest, days_exposition]\n",
       "Index: []\n",
       "\n",
       "[0 rows x 22 columns]"
      ]
     },
     "execution_count": 47,
     "metadata": {},
     "output_type": "execute_result"
    }
   ],
   "source": [
    "df[(df['locality_name'] == 'гатчина') & (~df['city_centers_nearest'].isna())]"
   ]
  },
  {
   "cell_type": "code",
   "execution_count": 48,
   "metadata": {
    "pycharm": {
     "is_executing": true
    }
   },
   "outputs": [
    {
     "data": {
      "text/html": [
       "<div>\n",
       "<style scoped>\n",
       "    .dataframe tbody tr th:only-of-type {\n",
       "        vertical-align: middle;\n",
       "    }\n",
       "\n",
       "    .dataframe tbody tr th {\n",
       "        vertical-align: top;\n",
       "    }\n",
       "\n",
       "    .dataframe thead th {\n",
       "        text-align: right;\n",
       "    }\n",
       "</style>\n",
       "<table border=\"1\" class=\"dataframe\">\n",
       "  <thead>\n",
       "    <tr style=\"text-align: right;\">\n",
       "      <th></th>\n",
       "      <th>total_images</th>\n",
       "      <th>last_price</th>\n",
       "      <th>total_area</th>\n",
       "      <th>first_day_exposition</th>\n",
       "      <th>rooms</th>\n",
       "      <th>ceiling_height</th>\n",
       "      <th>floors_total</th>\n",
       "      <th>living_area</th>\n",
       "      <th>floor</th>\n",
       "      <th>is_apartment</th>\n",
       "      <th>...</th>\n",
       "      <th>kitchen_area</th>\n",
       "      <th>balcony</th>\n",
       "      <th>locality_name</th>\n",
       "      <th>airports_nearest</th>\n",
       "      <th>city_centers_nearest</th>\n",
       "      <th>parks_around_3000</th>\n",
       "      <th>parks_nearest</th>\n",
       "      <th>ponds_around_3000</th>\n",
       "      <th>ponds_nearest</th>\n",
       "      <th>days_exposition</th>\n",
       "    </tr>\n",
       "  </thead>\n",
       "  <tbody>\n",
       "    <tr>\n",
       "      <th>37</th>\n",
       "      <td>10</td>\n",
       "      <td>1.990</td>\n",
       "      <td>45.8</td>\n",
       "      <td>2017-10-28T00:00:00</td>\n",
       "      <td>2</td>\n",
       "      <td>2.5</td>\n",
       "      <td>5.0</td>\n",
       "      <td>27.5</td>\n",
       "      <td>1</td>\n",
       "      <td>NaN</td>\n",
       "      <td>...</td>\n",
       "      <td>NaN</td>\n",
       "      <td>NaN</td>\n",
       "      <td>красный бор</td>\n",
       "      <td>NaN</td>\n",
       "      <td>NaN</td>\n",
       "      <td>NaN</td>\n",
       "      <td>NaN</td>\n",
       "      <td>NaN</td>\n",
       "      <td>NaN</td>\n",
       "      <td>196.0</td>\n",
       "    </tr>\n",
       "    <tr>\n",
       "      <th>514</th>\n",
       "      <td>10</td>\n",
       "      <td>1.700</td>\n",
       "      <td>32.4</td>\n",
       "      <td>2018-11-12T00:00:00</td>\n",
       "      <td>1</td>\n",
       "      <td>2.7</td>\n",
       "      <td>5.0</td>\n",
       "      <td>18.0</td>\n",
       "      <td>1</td>\n",
       "      <td>NaN</td>\n",
       "      <td>...</td>\n",
       "      <td>10.0</td>\n",
       "      <td>NaN</td>\n",
       "      <td>красный бор</td>\n",
       "      <td>NaN</td>\n",
       "      <td>NaN</td>\n",
       "      <td>NaN</td>\n",
       "      <td>NaN</td>\n",
       "      <td>NaN</td>\n",
       "      <td>NaN</td>\n",
       "      <td>136.0</td>\n",
       "    </tr>\n",
       "    <tr>\n",
       "      <th>3969</th>\n",
       "      <td>9</td>\n",
       "      <td>2.700</td>\n",
       "      <td>47.5</td>\n",
       "      <td>2019-03-16T00:00:00</td>\n",
       "      <td>2</td>\n",
       "      <td>NaN</td>\n",
       "      <td>5.0</td>\n",
       "      <td>28.4</td>\n",
       "      <td>1</td>\n",
       "      <td>NaN</td>\n",
       "      <td>...</td>\n",
       "      <td>7.7</td>\n",
       "      <td>NaN</td>\n",
       "      <td>красный бор</td>\n",
       "      <td>NaN</td>\n",
       "      <td>NaN</td>\n",
       "      <td>NaN</td>\n",
       "      <td>NaN</td>\n",
       "      <td>NaN</td>\n",
       "      <td>NaN</td>\n",
       "      <td>12.0</td>\n",
       "    </tr>\n",
       "    <tr>\n",
       "      <th>4770</th>\n",
       "      <td>9</td>\n",
       "      <td>2.700</td>\n",
       "      <td>62.8</td>\n",
       "      <td>2016-04-27T00:00:00</td>\n",
       "      <td>4</td>\n",
       "      <td>2.5</td>\n",
       "      <td>5.0</td>\n",
       "      <td>45.8</td>\n",
       "      <td>5</td>\n",
       "      <td>NaN</td>\n",
       "      <td>...</td>\n",
       "      <td>6.2</td>\n",
       "      <td>1.0</td>\n",
       "      <td>красный бор</td>\n",
       "      <td>NaN</td>\n",
       "      <td>NaN</td>\n",
       "      <td>NaN</td>\n",
       "      <td>NaN</td>\n",
       "      <td>NaN</td>\n",
       "      <td>NaN</td>\n",
       "      <td>779.0</td>\n",
       "    </tr>\n",
       "    <tr>\n",
       "      <th>9539</th>\n",
       "      <td>10</td>\n",
       "      <td>1.950</td>\n",
       "      <td>36.6</td>\n",
       "      <td>2017-12-10T00:00:00</td>\n",
       "      <td>1</td>\n",
       "      <td>NaN</td>\n",
       "      <td>2.0</td>\n",
       "      <td>17.5</td>\n",
       "      <td>1</td>\n",
       "      <td>NaN</td>\n",
       "      <td>...</td>\n",
       "      <td>NaN</td>\n",
       "      <td>NaN</td>\n",
       "      <td>красный бор</td>\n",
       "      <td>NaN</td>\n",
       "      <td>NaN</td>\n",
       "      <td>NaN</td>\n",
       "      <td>NaN</td>\n",
       "      <td>NaN</td>\n",
       "      <td>NaN</td>\n",
       "      <td>44.0</td>\n",
       "    </tr>\n",
       "    <tr>\n",
       "      <th>12305</th>\n",
       "      <td>20</td>\n",
       "      <td>2.360</td>\n",
       "      <td>48.5</td>\n",
       "      <td>2018-07-17T00:00:00</td>\n",
       "      <td>2</td>\n",
       "      <td>2.5</td>\n",
       "      <td>3.0</td>\n",
       "      <td>26.6</td>\n",
       "      <td>2</td>\n",
       "      <td>NaN</td>\n",
       "      <td>...</td>\n",
       "      <td>10.4</td>\n",
       "      <td>1.0</td>\n",
       "      <td>красный бор</td>\n",
       "      <td>NaN</td>\n",
       "      <td>NaN</td>\n",
       "      <td>NaN</td>\n",
       "      <td>NaN</td>\n",
       "      <td>NaN</td>\n",
       "      <td>NaN</td>\n",
       "      <td>276.0</td>\n",
       "    </tr>\n",
       "    <tr>\n",
       "      <th>18893</th>\n",
       "      <td>9</td>\n",
       "      <td>2.900</td>\n",
       "      <td>63.2</td>\n",
       "      <td>2016-04-18T00:00:00</td>\n",
       "      <td>4</td>\n",
       "      <td>2.5</td>\n",
       "      <td>5.0</td>\n",
       "      <td>45.8</td>\n",
       "      <td>5</td>\n",
       "      <td>NaN</td>\n",
       "      <td>...</td>\n",
       "      <td>6.2</td>\n",
       "      <td>1.0</td>\n",
       "      <td>красный бор</td>\n",
       "      <td>NaN</td>\n",
       "      <td>NaN</td>\n",
       "      <td>NaN</td>\n",
       "      <td>NaN</td>\n",
       "      <td>NaN</td>\n",
       "      <td>NaN</td>\n",
       "      <td>788.0</td>\n",
       "    </tr>\n",
       "    <tr>\n",
       "      <th>20996</th>\n",
       "      <td>12</td>\n",
       "      <td>1.099</td>\n",
       "      <td>44.0</td>\n",
       "      <td>2018-04-05T00:00:00</td>\n",
       "      <td>2</td>\n",
       "      <td>2.5</td>\n",
       "      <td>2.0</td>\n",
       "      <td>28.0</td>\n",
       "      <td>1</td>\n",
       "      <td>NaN</td>\n",
       "      <td>...</td>\n",
       "      <td>6.0</td>\n",
       "      <td>NaN</td>\n",
       "      <td>красный бор</td>\n",
       "      <td>NaN</td>\n",
       "      <td>NaN</td>\n",
       "      <td>NaN</td>\n",
       "      <td>NaN</td>\n",
       "      <td>NaN</td>\n",
       "      <td>NaN</td>\n",
       "      <td>159.0</td>\n",
       "    </tr>\n",
       "  </tbody>\n",
       "</table>\n",
       "<p>8 rows × 22 columns</p>\n",
       "</div>"
      ],
      "text/plain": [
       "       total_images  last_price  total_area first_day_exposition  rooms  \\\n",
       "37               10       1.990        45.8  2017-10-28T00:00:00      2   \n",
       "514              10       1.700        32.4  2018-11-12T00:00:00      1   \n",
       "3969              9       2.700        47.5  2019-03-16T00:00:00      2   \n",
       "4770              9       2.700        62.8  2016-04-27T00:00:00      4   \n",
       "9539             10       1.950        36.6  2017-12-10T00:00:00      1   \n",
       "12305            20       2.360        48.5  2018-07-17T00:00:00      2   \n",
       "18893             9       2.900        63.2  2016-04-18T00:00:00      4   \n",
       "20996            12       1.099        44.0  2018-04-05T00:00:00      2   \n",
       "\n",
       "       ceiling_height  floors_total  living_area  floor is_apartment  ...  \\\n",
       "37                2.5           5.0         27.5      1          NaN  ...   \n",
       "514               2.7           5.0         18.0      1          NaN  ...   \n",
       "3969              NaN           5.0         28.4      1          NaN  ...   \n",
       "4770              2.5           5.0         45.8      5          NaN  ...   \n",
       "9539              NaN           2.0         17.5      1          NaN  ...   \n",
       "12305             2.5           3.0         26.6      2          NaN  ...   \n",
       "18893             2.5           5.0         45.8      5          NaN  ...   \n",
       "20996             2.5           2.0         28.0      1          NaN  ...   \n",
       "\n",
       "       kitchen_area  balcony  locality_name  airports_nearest  \\\n",
       "37              NaN      NaN    красный бор               NaN   \n",
       "514            10.0      NaN    красный бор               NaN   \n",
       "3969            7.7      NaN    красный бор               NaN   \n",
       "4770            6.2      1.0    красный бор               NaN   \n",
       "9539            NaN      NaN    красный бор               NaN   \n",
       "12305          10.4      1.0    красный бор               NaN   \n",
       "18893           6.2      1.0    красный бор               NaN   \n",
       "20996           6.0      NaN    красный бор               NaN   \n",
       "\n",
       "      city_centers_nearest  parks_around_3000  parks_nearest  \\\n",
       "37                     NaN                NaN            NaN   \n",
       "514                    NaN                NaN            NaN   \n",
       "3969                   NaN                NaN            NaN   \n",
       "4770                   NaN                NaN            NaN   \n",
       "9539                   NaN                NaN            NaN   \n",
       "12305                  NaN                NaN            NaN   \n",
       "18893                  NaN                NaN            NaN   \n",
       "20996                  NaN                NaN            NaN   \n",
       "\n",
       "       ponds_around_3000  ponds_nearest  days_exposition  \n",
       "37                   NaN            NaN            196.0  \n",
       "514                  NaN            NaN            136.0  \n",
       "3969                 NaN            NaN             12.0  \n",
       "4770                 NaN            NaN            779.0  \n",
       "9539                 NaN            NaN             44.0  \n",
       "12305                NaN            NaN            276.0  \n",
       "18893                NaN            NaN            788.0  \n",
       "20996                NaN            NaN            159.0  \n",
       "\n",
       "[8 rows x 22 columns]"
      ]
     },
     "execution_count": 48,
     "metadata": {},
     "output_type": "execute_result"
    }
   ],
   "source": [
    "df[(df['locality_name'] == 'красный бор') & (df['city_centers_nearest'].isna())]"
   ]
  },
  {
   "cell_type": "code",
   "execution_count": 49,
   "metadata": {
    "pycharm": {
     "is_executing": true
    }
   },
   "outputs": [
    {
     "data": {
      "text/html": [
       "<div>\n",
       "<style scoped>\n",
       "    .dataframe tbody tr th:only-of-type {\n",
       "        vertical-align: middle;\n",
       "    }\n",
       "\n",
       "    .dataframe tbody tr th {\n",
       "        vertical-align: top;\n",
       "    }\n",
       "\n",
       "    .dataframe thead th {\n",
       "        text-align: right;\n",
       "    }\n",
       "</style>\n",
       "<table border=\"1\" class=\"dataframe\">\n",
       "  <thead>\n",
       "    <tr style=\"text-align: right;\">\n",
       "      <th></th>\n",
       "      <th>total_images</th>\n",
       "      <th>last_price</th>\n",
       "      <th>total_area</th>\n",
       "      <th>first_day_exposition</th>\n",
       "      <th>rooms</th>\n",
       "      <th>ceiling_height</th>\n",
       "      <th>floors_total</th>\n",
       "      <th>living_area</th>\n",
       "      <th>floor</th>\n",
       "      <th>is_apartment</th>\n",
       "      <th>...</th>\n",
       "      <th>kitchen_area</th>\n",
       "      <th>balcony</th>\n",
       "      <th>locality_name</th>\n",
       "      <th>airports_nearest</th>\n",
       "      <th>city_centers_nearest</th>\n",
       "      <th>parks_around_3000</th>\n",
       "      <th>parks_nearest</th>\n",
       "      <th>ponds_around_3000</th>\n",
       "      <th>ponds_nearest</th>\n",
       "      <th>days_exposition</th>\n",
       "    </tr>\n",
       "  </thead>\n",
       "  <tbody>\n",
       "  </tbody>\n",
       "</table>\n",
       "<p>0 rows × 22 columns</p>\n",
       "</div>"
      ],
      "text/plain": [
       "Empty DataFrame\n",
       "Columns: [total_images, last_price, total_area, first_day_exposition, rooms, ceiling_height, floors_total, living_area, floor, is_apartment, studio, open_plan, kitchen_area, balcony, locality_name, airports_nearest, city_centers_nearest, parks_around_3000, parks_nearest, ponds_around_3000, ponds_nearest, days_exposition]\n",
       "Index: []\n",
       "\n",
       "[0 rows x 22 columns]"
      ]
     },
     "execution_count": 49,
     "metadata": {},
     "output_type": "execute_result"
    }
   ],
   "source": [
    "df[(df['locality_name'] == 'красный бор') & (~df['city_centers_nearest'].isna())]"
   ]
  },
  {
   "cell_type": "markdown",
   "metadata": {},
   "source": [
    "Проанализировав характер пропусков в данных двух столбцах мы приходим к выводу, что пропуски в данных столбцах характерны для субъектов, которые не входят в состав Санкт-Петербурга, не являются его частью."
   ]
  },
  {
   "cell_type": "code",
   "execution_count": 50,
   "metadata": {
    "pycharm": {
     "is_executing": true
    }
   },
   "outputs": [
    {
     "data": {
      "text/html": [
       "<div>\n",
       "<style scoped>\n",
       "    .dataframe tbody tr th:only-of-type {\n",
       "        vertical-align: middle;\n",
       "    }\n",
       "\n",
       "    .dataframe tbody tr th {\n",
       "        vertical-align: top;\n",
       "    }\n",
       "\n",
       "    .dataframe thead th {\n",
       "        text-align: right;\n",
       "    }\n",
       "</style>\n",
       "<table border=\"1\" class=\"dataframe\">\n",
       "  <thead>\n",
       "    <tr style=\"text-align: right;\">\n",
       "      <th></th>\n",
       "      <th>total_images</th>\n",
       "      <th>last_price</th>\n",
       "      <th>total_area</th>\n",
       "      <th>first_day_exposition</th>\n",
       "      <th>rooms</th>\n",
       "      <th>ceiling_height</th>\n",
       "      <th>floors_total</th>\n",
       "      <th>living_area</th>\n",
       "      <th>floor</th>\n",
       "      <th>is_apartment</th>\n",
       "      <th>...</th>\n",
       "      <th>kitchen_area</th>\n",
       "      <th>balcony</th>\n",
       "      <th>locality_name</th>\n",
       "      <th>airports_nearest</th>\n",
       "      <th>city_centers_nearest</th>\n",
       "      <th>parks_around_3000</th>\n",
       "      <th>parks_nearest</th>\n",
       "      <th>ponds_around_3000</th>\n",
       "      <th>ponds_nearest</th>\n",
       "      <th>days_exposition</th>\n",
       "    </tr>\n",
       "  </thead>\n",
       "  <tbody>\n",
       "    <tr>\n",
       "      <th>81</th>\n",
       "      <td>9</td>\n",
       "      <td>10.949</td>\n",
       "      <td>68.00</td>\n",
       "      <td>2018-12-27T00:00:00</td>\n",
       "      <td>1</td>\n",
       "      <td>NaN</td>\n",
       "      <td>10.0</td>\n",
       "      <td>40.9</td>\n",
       "      <td>6</td>\n",
       "      <td>NaN</td>\n",
       "      <td>...</td>\n",
       "      <td>NaN</td>\n",
       "      <td>NaN</td>\n",
       "      <td>санкт-петербург</td>\n",
       "      <td>NaN</td>\n",
       "      <td>NaN</td>\n",
       "      <td>NaN</td>\n",
       "      <td>NaN</td>\n",
       "      <td>NaN</td>\n",
       "      <td>NaN</td>\n",
       "      <td>NaN</td>\n",
       "    </tr>\n",
       "    <tr>\n",
       "      <th>593</th>\n",
       "      <td>20</td>\n",
       "      <td>4.200</td>\n",
       "      <td>38.30</td>\n",
       "      <td>2019-04-16T00:00:00</td>\n",
       "      <td>1</td>\n",
       "      <td>2.60</td>\n",
       "      <td>16.0</td>\n",
       "      <td>19.8</td>\n",
       "      <td>10</td>\n",
       "      <td>NaN</td>\n",
       "      <td>...</td>\n",
       "      <td>10.1</td>\n",
       "      <td>2.0</td>\n",
       "      <td>санкт-петербург</td>\n",
       "      <td>NaN</td>\n",
       "      <td>NaN</td>\n",
       "      <td>NaN</td>\n",
       "      <td>NaN</td>\n",
       "      <td>NaN</td>\n",
       "      <td>NaN</td>\n",
       "      <td>NaN</td>\n",
       "    </tr>\n",
       "    <tr>\n",
       "      <th>604</th>\n",
       "      <td>11</td>\n",
       "      <td>9.899</td>\n",
       "      <td>101.00</td>\n",
       "      <td>2018-12-12T00:00:00</td>\n",
       "      <td>3</td>\n",
       "      <td>3.00</td>\n",
       "      <td>5.0</td>\n",
       "      <td>62.0</td>\n",
       "      <td>3</td>\n",
       "      <td>NaN</td>\n",
       "      <td>...</td>\n",
       "      <td>15.0</td>\n",
       "      <td>NaN</td>\n",
       "      <td>санкт-петербург</td>\n",
       "      <td>NaN</td>\n",
       "      <td>NaN</td>\n",
       "      <td>NaN</td>\n",
       "      <td>NaN</td>\n",
       "      <td>NaN</td>\n",
       "      <td>NaN</td>\n",
       "      <td>NaN</td>\n",
       "    </tr>\n",
       "    <tr>\n",
       "      <th>733</th>\n",
       "      <td>18</td>\n",
       "      <td>18.700</td>\n",
       "      <td>109.70</td>\n",
       "      <td>2018-02-03T00:00:00</td>\n",
       "      <td>3</td>\n",
       "      <td>2.75</td>\n",
       "      <td>21.0</td>\n",
       "      <td>57.2</td>\n",
       "      <td>13</td>\n",
       "      <td>NaN</td>\n",
       "      <td>...</td>\n",
       "      <td>15.3</td>\n",
       "      <td>1.0</td>\n",
       "      <td>санкт-петербург</td>\n",
       "      <td>NaN</td>\n",
       "      <td>13.355</td>\n",
       "      <td>1.0</td>\n",
       "      <td>735.0</td>\n",
       "      <td>0.0</td>\n",
       "      <td>NaN</td>\n",
       "      <td>112.0</td>\n",
       "    </tr>\n",
       "    <tr>\n",
       "      <th>742</th>\n",
       "      <td>7</td>\n",
       "      <td>37.000</td>\n",
       "      <td>161.00</td>\n",
       "      <td>2016-05-22T00:00:00</td>\n",
       "      <td>3</td>\n",
       "      <td>NaN</td>\n",
       "      <td>9.0</td>\n",
       "      <td>84.0</td>\n",
       "      <td>8</td>\n",
       "      <td>NaN</td>\n",
       "      <td>...</td>\n",
       "      <td>NaN</td>\n",
       "      <td>0.0</td>\n",
       "      <td>санкт-петербург</td>\n",
       "      <td>NaN</td>\n",
       "      <td>NaN</td>\n",
       "      <td>NaN</td>\n",
       "      <td>NaN</td>\n",
       "      <td>NaN</td>\n",
       "      <td>NaN</td>\n",
       "      <td>402.0</td>\n",
       "    </tr>\n",
       "    <tr>\n",
       "      <th>...</th>\n",
       "      <td>...</td>\n",
       "      <td>...</td>\n",
       "      <td>...</td>\n",
       "      <td>...</td>\n",
       "      <td>...</td>\n",
       "      <td>...</td>\n",
       "      <td>...</td>\n",
       "      <td>...</td>\n",
       "      <td>...</td>\n",
       "      <td>...</td>\n",
       "      <td>...</td>\n",
       "      <td>...</td>\n",
       "      <td>...</td>\n",
       "      <td>...</td>\n",
       "      <td>...</td>\n",
       "      <td>...</td>\n",
       "      <td>...</td>\n",
       "      <td>...</td>\n",
       "      <td>...</td>\n",
       "      <td>...</td>\n",
       "      <td>...</td>\n",
       "    </tr>\n",
       "    <tr>\n",
       "      <th>21940</th>\n",
       "      <td>19</td>\n",
       "      <td>130.000</td>\n",
       "      <td>431.00</td>\n",
       "      <td>2017-10-02T00:00:00</td>\n",
       "      <td>7</td>\n",
       "      <td>3.70</td>\n",
       "      <td>8.0</td>\n",
       "      <td>220.0</td>\n",
       "      <td>5</td>\n",
       "      <td>NaN</td>\n",
       "      <td>...</td>\n",
       "      <td>20.0</td>\n",
       "      <td>5.0</td>\n",
       "      <td>санкт-петербург</td>\n",
       "      <td>NaN</td>\n",
       "      <td>NaN</td>\n",
       "      <td>NaN</td>\n",
       "      <td>NaN</td>\n",
       "      <td>NaN</td>\n",
       "      <td>NaN</td>\n",
       "      <td>161.0</td>\n",
       "    </tr>\n",
       "    <tr>\n",
       "      <th>22538</th>\n",
       "      <td>5</td>\n",
       "      <td>3.415</td>\n",
       "      <td>31.65</td>\n",
       "      <td>2019-04-16T00:00:00</td>\n",
       "      <td>1</td>\n",
       "      <td>NaN</td>\n",
       "      <td>24.0</td>\n",
       "      <td>17.0</td>\n",
       "      <td>14</td>\n",
       "      <td>NaN</td>\n",
       "      <td>...</td>\n",
       "      <td>8.7</td>\n",
       "      <td>2.0</td>\n",
       "      <td>санкт-петербург</td>\n",
       "      <td>NaN</td>\n",
       "      <td>NaN</td>\n",
       "      <td>NaN</td>\n",
       "      <td>NaN</td>\n",
       "      <td>NaN</td>\n",
       "      <td>NaN</td>\n",
       "      <td>NaN</td>\n",
       "    </tr>\n",
       "    <tr>\n",
       "      <th>22612</th>\n",
       "      <td>8</td>\n",
       "      <td>8.600</td>\n",
       "      <td>74.90</td>\n",
       "      <td>2019-03-14T00:00:00</td>\n",
       "      <td>3</td>\n",
       "      <td>3.00</td>\n",
       "      <td>5.0</td>\n",
       "      <td>53.2</td>\n",
       "      <td>4</td>\n",
       "      <td>NaN</td>\n",
       "      <td>...</td>\n",
       "      <td>8.0</td>\n",
       "      <td>1.0</td>\n",
       "      <td>санкт-петербург</td>\n",
       "      <td>NaN</td>\n",
       "      <td>NaN</td>\n",
       "      <td>NaN</td>\n",
       "      <td>NaN</td>\n",
       "      <td>NaN</td>\n",
       "      <td>NaN</td>\n",
       "      <td>NaN</td>\n",
       "    </tr>\n",
       "    <tr>\n",
       "      <th>22773</th>\n",
       "      <td>8</td>\n",
       "      <td>5.600</td>\n",
       "      <td>47.00</td>\n",
       "      <td>2017-09-27T00:00:00</td>\n",
       "      <td>1</td>\n",
       "      <td>NaN</td>\n",
       "      <td>23.0</td>\n",
       "      <td>21.0</td>\n",
       "      <td>7</td>\n",
       "      <td>NaN</td>\n",
       "      <td>...</td>\n",
       "      <td>11.0</td>\n",
       "      <td>1.0</td>\n",
       "      <td>санкт-петербург</td>\n",
       "      <td>NaN</td>\n",
       "      <td>13.355</td>\n",
       "      <td>1.0</td>\n",
       "      <td>735.0</td>\n",
       "      <td>0.0</td>\n",
       "      <td>NaN</td>\n",
       "      <td>10.0</td>\n",
       "    </tr>\n",
       "    <tr>\n",
       "      <th>23107</th>\n",
       "      <td>0</td>\n",
       "      <td>3.500</td>\n",
       "      <td>41.30</td>\n",
       "      <td>2018-01-11T00:00:00</td>\n",
       "      <td>3</td>\n",
       "      <td>2.55</td>\n",
       "      <td>5.0</td>\n",
       "      <td>29.5</td>\n",
       "      <td>1</td>\n",
       "      <td>NaN</td>\n",
       "      <td>...</td>\n",
       "      <td>6.0</td>\n",
       "      <td>NaN</td>\n",
       "      <td>санкт-петербург</td>\n",
       "      <td>NaN</td>\n",
       "      <td>11.246</td>\n",
       "      <td>0.0</td>\n",
       "      <td>NaN</td>\n",
       "      <td>0.0</td>\n",
       "      <td>NaN</td>\n",
       "      <td>23.0</td>\n",
       "    </tr>\n",
       "  </tbody>\n",
       "</table>\n",
       "<p>85 rows × 22 columns</p>\n",
       "</div>"
      ],
      "text/plain": [
       "       total_images  last_price  total_area first_day_exposition  rooms  \\\n",
       "81                9      10.949       68.00  2018-12-27T00:00:00      1   \n",
       "593              20       4.200       38.30  2019-04-16T00:00:00      1   \n",
       "604              11       9.899      101.00  2018-12-12T00:00:00      3   \n",
       "733              18      18.700      109.70  2018-02-03T00:00:00      3   \n",
       "742               7      37.000      161.00  2016-05-22T00:00:00      3   \n",
       "...             ...         ...         ...                  ...    ...   \n",
       "21940            19     130.000      431.00  2017-10-02T00:00:00      7   \n",
       "22538             5       3.415       31.65  2019-04-16T00:00:00      1   \n",
       "22612             8       8.600       74.90  2019-03-14T00:00:00      3   \n",
       "22773             8       5.600       47.00  2017-09-27T00:00:00      1   \n",
       "23107             0       3.500       41.30  2018-01-11T00:00:00      3   \n",
       "\n",
       "       ceiling_height  floors_total  living_area  floor is_apartment  ...  \\\n",
       "81                NaN          10.0         40.9      6          NaN  ...   \n",
       "593              2.60          16.0         19.8     10          NaN  ...   \n",
       "604              3.00           5.0         62.0      3          NaN  ...   \n",
       "733              2.75          21.0         57.2     13          NaN  ...   \n",
       "742               NaN           9.0         84.0      8          NaN  ...   \n",
       "...               ...           ...          ...    ...          ...  ...   \n",
       "21940            3.70           8.0        220.0      5          NaN  ...   \n",
       "22538             NaN          24.0         17.0     14          NaN  ...   \n",
       "22612            3.00           5.0         53.2      4          NaN  ...   \n",
       "22773             NaN          23.0         21.0      7          NaN  ...   \n",
       "23107            2.55           5.0         29.5      1          NaN  ...   \n",
       "\n",
       "       kitchen_area  balcony    locality_name  airports_nearest  \\\n",
       "81              NaN      NaN  санкт-петербург               NaN   \n",
       "593            10.1      2.0  санкт-петербург               NaN   \n",
       "604            15.0      NaN  санкт-петербург               NaN   \n",
       "733            15.3      1.0  санкт-петербург               NaN   \n",
       "742             NaN      0.0  санкт-петербург               NaN   \n",
       "...             ...      ...              ...               ...   \n",
       "21940          20.0      5.0  санкт-петербург               NaN   \n",
       "22538           8.7      2.0  санкт-петербург               NaN   \n",
       "22612           8.0      1.0  санкт-петербург               NaN   \n",
       "22773          11.0      1.0  санкт-петербург               NaN   \n",
       "23107           6.0      NaN  санкт-петербург               NaN   \n",
       "\n",
       "      city_centers_nearest  parks_around_3000  parks_nearest  \\\n",
       "81                     NaN                NaN            NaN   \n",
       "593                    NaN                NaN            NaN   \n",
       "604                    NaN                NaN            NaN   \n",
       "733                 13.355                1.0          735.0   \n",
       "742                    NaN                NaN            NaN   \n",
       "...                    ...                ...            ...   \n",
       "21940                  NaN                NaN            NaN   \n",
       "22538                  NaN                NaN            NaN   \n",
       "22612                  NaN                NaN            NaN   \n",
       "22773               13.355                1.0          735.0   \n",
       "23107               11.246                0.0            NaN   \n",
       "\n",
       "       ponds_around_3000  ponds_nearest  days_exposition  \n",
       "81                   NaN            NaN              NaN  \n",
       "593                  NaN            NaN              NaN  \n",
       "604                  NaN            NaN              NaN  \n",
       "733                  0.0            NaN            112.0  \n",
       "742                  NaN            NaN            402.0  \n",
       "...                  ...            ...              ...  \n",
       "21940                NaN            NaN            161.0  \n",
       "22538                NaN            NaN              NaN  \n",
       "22612                NaN            NaN              NaN  \n",
       "22773                0.0            NaN             10.0  \n",
       "23107                0.0            NaN             23.0  \n",
       "\n",
       "[85 rows x 22 columns]"
      ]
     },
     "execution_count": 50,
     "metadata": {},
     "output_type": "execute_result"
    }
   ],
   "source": [
    "df[(df['locality_name'] == 'санкт-петербург') & (df['city_centers_nearest'].isna() | df['airports_nearest'].isna())]"
   ]
  },
  {
   "cell_type": "markdown",
   "metadata": {},
   "source": [
    "Обнаружены пропуски в 85 строках, где имеется пропуск хотя бы в одном из двух столбцов airports_nearest или city_centers_nearest.\n",
    "Необходимо сообщить о данной проблеме техническим специалистам, возможно для какого-то региона Питера функция не высчитывает корректно расстояние до центра и\\или до аэропорта."
   ]
  },
  {
   "cell_type": "code",
   "execution_count": 51,
   "metadata": {
    "pycharm": {
     "is_executing": true
    }
   },
   "outputs": [
    {
     "data": {
      "text/plain": [
       "ceiling_height           9184\n",
       "is_apartment            20912\n",
       "kitchen_area             2272\n",
       "balcony                 11510\n",
       "airports_nearest         5532\n",
       "city_centers_nearest     5509\n",
       "parks_around_3000        5508\n",
       "parks_nearest           15605\n",
       "ponds_around_3000        5508\n",
       "ponds_nearest           14576\n",
       "days_exposition          3177\n",
       "dtype: int64"
      ]
     },
     "execution_count": 51,
     "metadata": {},
     "output_type": "execute_result"
    }
   ],
   "source": [
    "df.isna().sum()[df.isna().sum() != 0]"
   ]
  },
  {
   "cell_type": "markdown",
   "metadata": {},
   "source": [
    "Проанализируем пропуски в 4 столбцах, которые связаны с картографическими данными - parks_nearest, parks_around_3000, ponds_nearest, ponds_around_3000."
   ]
  },
  {
   "cell_type": "code",
   "execution_count": 52,
   "metadata": {
    "pycharm": {
     "is_executing": true
    }
   },
   "outputs": [
    {
     "data": {
      "text/html": [
       "<div>\n",
       "<style scoped>\n",
       "    .dataframe tbody tr th:only-of-type {\n",
       "        vertical-align: middle;\n",
       "    }\n",
       "\n",
       "    .dataframe tbody tr th {\n",
       "        vertical-align: top;\n",
       "    }\n",
       "\n",
       "    .dataframe thead th {\n",
       "        text-align: right;\n",
       "    }\n",
       "</style>\n",
       "<table border=\"1\" class=\"dataframe\">\n",
       "  <thead>\n",
       "    <tr style=\"text-align: right;\">\n",
       "      <th></th>\n",
       "      <th>total_images</th>\n",
       "      <th>last_price</th>\n",
       "      <th>total_area</th>\n",
       "      <th>first_day_exposition</th>\n",
       "      <th>rooms</th>\n",
       "      <th>ceiling_height</th>\n",
       "      <th>floors_total</th>\n",
       "      <th>living_area</th>\n",
       "      <th>floor</th>\n",
       "      <th>is_apartment</th>\n",
       "      <th>...</th>\n",
       "      <th>kitchen_area</th>\n",
       "      <th>balcony</th>\n",
       "      <th>locality_name</th>\n",
       "      <th>airports_nearest</th>\n",
       "      <th>city_centers_nearest</th>\n",
       "      <th>parks_around_3000</th>\n",
       "      <th>parks_nearest</th>\n",
       "      <th>ponds_around_3000</th>\n",
       "      <th>ponds_nearest</th>\n",
       "      <th>days_exposition</th>\n",
       "    </tr>\n",
       "  </thead>\n",
       "  <tbody>\n",
       "    <tr>\n",
       "      <th>5</th>\n",
       "      <td>10</td>\n",
       "      <td>2.89</td>\n",
       "      <td>30.40</td>\n",
       "      <td>2018-09-10T00:00:00</td>\n",
       "      <td>1</td>\n",
       "      <td>NaN</td>\n",
       "      <td>12.0</td>\n",
       "      <td>14.40</td>\n",
       "      <td>5</td>\n",
       "      <td>NaN</td>\n",
       "      <td>...</td>\n",
       "      <td>9.10</td>\n",
       "      <td>NaN</td>\n",
       "      <td>янино-1</td>\n",
       "      <td>NaN</td>\n",
       "      <td>NaN</td>\n",
       "      <td>NaN</td>\n",
       "      <td>NaN</td>\n",
       "      <td>NaN</td>\n",
       "      <td>NaN</td>\n",
       "      <td>55.0</td>\n",
       "    </tr>\n",
       "    <tr>\n",
       "      <th>8</th>\n",
       "      <td>20</td>\n",
       "      <td>2.90</td>\n",
       "      <td>33.16</td>\n",
       "      <td>2018-05-23T00:00:00</td>\n",
       "      <td>1</td>\n",
       "      <td>NaN</td>\n",
       "      <td>27.0</td>\n",
       "      <td>15.43</td>\n",
       "      <td>26</td>\n",
       "      <td>NaN</td>\n",
       "      <td>...</td>\n",
       "      <td>8.81</td>\n",
       "      <td>NaN</td>\n",
       "      <td>мурино</td>\n",
       "      <td>NaN</td>\n",
       "      <td>NaN</td>\n",
       "      <td>NaN</td>\n",
       "      <td>NaN</td>\n",
       "      <td>NaN</td>\n",
       "      <td>NaN</td>\n",
       "      <td>189.0</td>\n",
       "    </tr>\n",
       "    <tr>\n",
       "      <th>12</th>\n",
       "      <td>10</td>\n",
       "      <td>3.89</td>\n",
       "      <td>54.00</td>\n",
       "      <td>2016-06-30T00:00:00</td>\n",
       "      <td>2</td>\n",
       "      <td>NaN</td>\n",
       "      <td>5.0</td>\n",
       "      <td>30.00</td>\n",
       "      <td>5</td>\n",
       "      <td>NaN</td>\n",
       "      <td>...</td>\n",
       "      <td>9.00</td>\n",
       "      <td>0.0</td>\n",
       "      <td>сертолово</td>\n",
       "      <td>NaN</td>\n",
       "      <td>NaN</td>\n",
       "      <td>NaN</td>\n",
       "      <td>NaN</td>\n",
       "      <td>NaN</td>\n",
       "      <td>NaN</td>\n",
       "      <td>90.0</td>\n",
       "    </tr>\n",
       "    <tr>\n",
       "      <th>22</th>\n",
       "      <td>20</td>\n",
       "      <td>5.00</td>\n",
       "      <td>58.00</td>\n",
       "      <td>2017-04-24T00:00:00</td>\n",
       "      <td>2</td>\n",
       "      <td>2.75</td>\n",
       "      <td>25.0</td>\n",
       "      <td>30.00</td>\n",
       "      <td>15</td>\n",
       "      <td>NaN</td>\n",
       "      <td>...</td>\n",
       "      <td>11.00</td>\n",
       "      <td>2.0</td>\n",
       "      <td>кудрово</td>\n",
       "      <td>NaN</td>\n",
       "      <td>NaN</td>\n",
       "      <td>NaN</td>\n",
       "      <td>NaN</td>\n",
       "      <td>NaN</td>\n",
       "      <td>NaN</td>\n",
       "      <td>60.0</td>\n",
       "    </tr>\n",
       "    <tr>\n",
       "      <th>30</th>\n",
       "      <td>12</td>\n",
       "      <td>2.20</td>\n",
       "      <td>32.80</td>\n",
       "      <td>2018-02-19T00:00:00</td>\n",
       "      <td>1</td>\n",
       "      <td>NaN</td>\n",
       "      <td>9.0</td>\n",
       "      <td>17.00</td>\n",
       "      <td>2</td>\n",
       "      <td>NaN</td>\n",
       "      <td>...</td>\n",
       "      <td>NaN</td>\n",
       "      <td>NaN</td>\n",
       "      <td>коммунар</td>\n",
       "      <td>NaN</td>\n",
       "      <td>NaN</td>\n",
       "      <td>NaN</td>\n",
       "      <td>NaN</td>\n",
       "      <td>NaN</td>\n",
       "      <td>NaN</td>\n",
       "      <td>63.0</td>\n",
       "    </tr>\n",
       "    <tr>\n",
       "      <th>...</th>\n",
       "      <td>...</td>\n",
       "      <td>...</td>\n",
       "      <td>...</td>\n",
       "      <td>...</td>\n",
       "      <td>...</td>\n",
       "      <td>...</td>\n",
       "      <td>...</td>\n",
       "      <td>...</td>\n",
       "      <td>...</td>\n",
       "      <td>...</td>\n",
       "      <td>...</td>\n",
       "      <td>...</td>\n",
       "      <td>...</td>\n",
       "      <td>...</td>\n",
       "      <td>...</td>\n",
       "      <td>...</td>\n",
       "      <td>...</td>\n",
       "      <td>...</td>\n",
       "      <td>...</td>\n",
       "      <td>...</td>\n",
       "      <td>...</td>\n",
       "    </tr>\n",
       "    <tr>\n",
       "      <th>23666</th>\n",
       "      <td>16</td>\n",
       "      <td>2.10</td>\n",
       "      <td>62.80</td>\n",
       "      <td>2018-09-18T00:00:00</td>\n",
       "      <td>4</td>\n",
       "      <td>2.50</td>\n",
       "      <td>5.0</td>\n",
       "      <td>45.50</td>\n",
       "      <td>3</td>\n",
       "      <td>NaN</td>\n",
       "      <td>...</td>\n",
       "      <td>5.50</td>\n",
       "      <td>NaN</td>\n",
       "      <td>дзержинского</td>\n",
       "      <td>NaN</td>\n",
       "      <td>NaN</td>\n",
       "      <td>NaN</td>\n",
       "      <td>NaN</td>\n",
       "      <td>NaN</td>\n",
       "      <td>NaN</td>\n",
       "      <td>NaN</td>\n",
       "    </tr>\n",
       "    <tr>\n",
       "      <th>23675</th>\n",
       "      <td>2</td>\n",
       "      <td>1.35</td>\n",
       "      <td>30.00</td>\n",
       "      <td>2017-07-07T00:00:00</td>\n",
       "      <td>1</td>\n",
       "      <td>NaN</td>\n",
       "      <td>5.0</td>\n",
       "      <td>17.50</td>\n",
       "      <td>4</td>\n",
       "      <td>NaN</td>\n",
       "      <td>...</td>\n",
       "      <td>6.00</td>\n",
       "      <td>NaN</td>\n",
       "      <td>тихвин</td>\n",
       "      <td>NaN</td>\n",
       "      <td>NaN</td>\n",
       "      <td>NaN</td>\n",
       "      <td>NaN</td>\n",
       "      <td>NaN</td>\n",
       "      <td>NaN</td>\n",
       "      <td>413.0</td>\n",
       "    </tr>\n",
       "    <tr>\n",
       "      <th>23678</th>\n",
       "      <td>14</td>\n",
       "      <td>3.10</td>\n",
       "      <td>59.00</td>\n",
       "      <td>2018-01-15T00:00:00</td>\n",
       "      <td>3</td>\n",
       "      <td>NaN</td>\n",
       "      <td>5.0</td>\n",
       "      <td>38.00</td>\n",
       "      <td>4</td>\n",
       "      <td>NaN</td>\n",
       "      <td>...</td>\n",
       "      <td>8.50</td>\n",
       "      <td>NaN</td>\n",
       "      <td>тосно</td>\n",
       "      <td>NaN</td>\n",
       "      <td>NaN</td>\n",
       "      <td>NaN</td>\n",
       "      <td>NaN</td>\n",
       "      <td>NaN</td>\n",
       "      <td>NaN</td>\n",
       "      <td>45.0</td>\n",
       "    </tr>\n",
       "    <tr>\n",
       "      <th>23679</th>\n",
       "      <td>18</td>\n",
       "      <td>2.50</td>\n",
       "      <td>56.70</td>\n",
       "      <td>2018-02-11T00:00:00</td>\n",
       "      <td>2</td>\n",
       "      <td>NaN</td>\n",
       "      <td>3.0</td>\n",
       "      <td>29.70</td>\n",
       "      <td>1</td>\n",
       "      <td>NaN</td>\n",
       "      <td>...</td>\n",
       "      <td>NaN</td>\n",
       "      <td>NaN</td>\n",
       "      <td>рождествено</td>\n",
       "      <td>NaN</td>\n",
       "      <td>NaN</td>\n",
       "      <td>NaN</td>\n",
       "      <td>NaN</td>\n",
       "      <td>NaN</td>\n",
       "      <td>NaN</td>\n",
       "      <td>NaN</td>\n",
       "    </tr>\n",
       "    <tr>\n",
       "      <th>23681</th>\n",
       "      <td>4</td>\n",
       "      <td>1.35</td>\n",
       "      <td>32.30</td>\n",
       "      <td>2017-07-21T00:00:00</td>\n",
       "      <td>1</td>\n",
       "      <td>2.50</td>\n",
       "      <td>5.0</td>\n",
       "      <td>12.30</td>\n",
       "      <td>1</td>\n",
       "      <td>NaN</td>\n",
       "      <td>...</td>\n",
       "      <td>9.00</td>\n",
       "      <td>NaN</td>\n",
       "      <td>новый учхоз</td>\n",
       "      <td>NaN</td>\n",
       "      <td>NaN</td>\n",
       "      <td>NaN</td>\n",
       "      <td>NaN</td>\n",
       "      <td>NaN</td>\n",
       "      <td>NaN</td>\n",
       "      <td>NaN</td>\n",
       "    </tr>\n",
       "  </tbody>\n",
       "</table>\n",
       "<p>5508 rows × 22 columns</p>\n",
       "</div>"
      ],
      "text/plain": [
       "       total_images  last_price  total_area first_day_exposition  rooms  \\\n",
       "5                10        2.89       30.40  2018-09-10T00:00:00      1   \n",
       "8                20        2.90       33.16  2018-05-23T00:00:00      1   \n",
       "12               10        3.89       54.00  2016-06-30T00:00:00      2   \n",
       "22               20        5.00       58.00  2017-04-24T00:00:00      2   \n",
       "30               12        2.20       32.80  2018-02-19T00:00:00      1   \n",
       "...             ...         ...         ...                  ...    ...   \n",
       "23666            16        2.10       62.80  2018-09-18T00:00:00      4   \n",
       "23675             2        1.35       30.00  2017-07-07T00:00:00      1   \n",
       "23678            14        3.10       59.00  2018-01-15T00:00:00      3   \n",
       "23679            18        2.50       56.70  2018-02-11T00:00:00      2   \n",
       "23681             4        1.35       32.30  2017-07-21T00:00:00      1   \n",
       "\n",
       "       ceiling_height  floors_total  living_area  floor is_apartment  ...  \\\n",
       "5                 NaN          12.0        14.40      5          NaN  ...   \n",
       "8                 NaN          27.0        15.43     26          NaN  ...   \n",
       "12                NaN           5.0        30.00      5          NaN  ...   \n",
       "22               2.75          25.0        30.00     15          NaN  ...   \n",
       "30                NaN           9.0        17.00      2          NaN  ...   \n",
       "...               ...           ...          ...    ...          ...  ...   \n",
       "23666            2.50           5.0        45.50      3          NaN  ...   \n",
       "23675             NaN           5.0        17.50      4          NaN  ...   \n",
       "23678             NaN           5.0        38.00      4          NaN  ...   \n",
       "23679             NaN           3.0        29.70      1          NaN  ...   \n",
       "23681            2.50           5.0        12.30      1          NaN  ...   \n",
       "\n",
       "       kitchen_area  balcony  locality_name  airports_nearest  \\\n",
       "5              9.10      NaN        янино-1               NaN   \n",
       "8              8.81      NaN         мурино               NaN   \n",
       "12             9.00      0.0      сертолово               NaN   \n",
       "22            11.00      2.0        кудрово               NaN   \n",
       "30              NaN      NaN       коммунар               NaN   \n",
       "...             ...      ...            ...               ...   \n",
       "23666          5.50      NaN   дзержинского               NaN   \n",
       "23675          6.00      NaN         тихвин               NaN   \n",
       "23678          8.50      NaN          тосно               NaN   \n",
       "23679           NaN      NaN    рождествено               NaN   \n",
       "23681          9.00      NaN    новый учхоз               NaN   \n",
       "\n",
       "      city_centers_nearest  parks_around_3000  parks_nearest  \\\n",
       "5                      NaN                NaN            NaN   \n",
       "8                      NaN                NaN            NaN   \n",
       "12                     NaN                NaN            NaN   \n",
       "22                     NaN                NaN            NaN   \n",
       "30                     NaN                NaN            NaN   \n",
       "...                    ...                ...            ...   \n",
       "23666                  NaN                NaN            NaN   \n",
       "23675                  NaN                NaN            NaN   \n",
       "23678                  NaN                NaN            NaN   \n",
       "23679                  NaN                NaN            NaN   \n",
       "23681                  NaN                NaN            NaN   \n",
       "\n",
       "       ponds_around_3000  ponds_nearest  days_exposition  \n",
       "5                    NaN            NaN             55.0  \n",
       "8                    NaN            NaN            189.0  \n",
       "12                   NaN            NaN             90.0  \n",
       "22                   NaN            NaN             60.0  \n",
       "30                   NaN            NaN             63.0  \n",
       "...                  ...            ...              ...  \n",
       "23666                NaN            NaN              NaN  \n",
       "23675                NaN            NaN            413.0  \n",
       "23678                NaN            NaN             45.0  \n",
       "23679                NaN            NaN              NaN  \n",
       "23681                NaN            NaN              NaN  \n",
       "\n",
       "[5508 rows x 22 columns]"
      ]
     },
     "execution_count": 52,
     "metadata": {},
     "output_type": "execute_result"
    }
   ],
   "source": [
    "df[df['parks_around_3000'].isna()]"
   ]
  },
  {
   "cell_type": "markdown",
   "metadata": {},
   "source": [
    "Проверим, есть ли пропуски в столбце parks_around_3000, если локацией будет Санкт-Петербург (данная локация является наиболее полной с точки зрения данных), возможно сможем восстановить значения."
   ]
  },
  {
   "cell_type": "code",
   "execution_count": 53,
   "metadata": {
    "pycharm": {
     "is_executing": true
    }
   },
   "outputs": [
    {
     "data": {
      "text/html": [
       "<div>\n",
       "<style scoped>\n",
       "    .dataframe tbody tr th:only-of-type {\n",
       "        vertical-align: middle;\n",
       "    }\n",
       "\n",
       "    .dataframe tbody tr th {\n",
       "        vertical-align: top;\n",
       "    }\n",
       "\n",
       "    .dataframe thead th {\n",
       "        text-align: right;\n",
       "    }\n",
       "</style>\n",
       "<table border=\"1\" class=\"dataframe\">\n",
       "  <thead>\n",
       "    <tr style=\"text-align: right;\">\n",
       "      <th></th>\n",
       "      <th>total_images</th>\n",
       "      <th>last_price</th>\n",
       "      <th>total_area</th>\n",
       "      <th>first_day_exposition</th>\n",
       "      <th>rooms</th>\n",
       "      <th>ceiling_height</th>\n",
       "      <th>floors_total</th>\n",
       "      <th>living_area</th>\n",
       "      <th>floor</th>\n",
       "      <th>is_apartment</th>\n",
       "      <th>...</th>\n",
       "      <th>kitchen_area</th>\n",
       "      <th>balcony</th>\n",
       "      <th>locality_name</th>\n",
       "      <th>airports_nearest</th>\n",
       "      <th>city_centers_nearest</th>\n",
       "      <th>parks_around_3000</th>\n",
       "      <th>parks_nearest</th>\n",
       "      <th>ponds_around_3000</th>\n",
       "      <th>ponds_nearest</th>\n",
       "      <th>days_exposition</th>\n",
       "    </tr>\n",
       "  </thead>\n",
       "  <tbody>\n",
       "  </tbody>\n",
       "</table>\n",
       "<p>0 rows × 22 columns</p>\n",
       "</div>"
      ],
      "text/plain": [
       "Empty DataFrame\n",
       "Columns: [total_images, last_price, total_area, first_day_exposition, rooms, ceiling_height, floors_total, living_area, floor, is_apartment, studio, open_plan, kitchen_area, balcony, locality_name, airports_nearest, city_centers_nearest, parks_around_3000, parks_nearest, ponds_around_3000, ponds_nearest, days_exposition]\n",
       "Index: []\n",
       "\n",
       "[0 rows x 22 columns]"
      ]
     },
     "execution_count": 53,
     "metadata": {},
     "output_type": "execute_result"
    }
   ],
   "source": [
    "df[df['parks_around_3000'].isna() & df['locality_name'] == 'санкт-петербург']"
   ]
  },
  {
   "cell_type": "markdown",
   "metadata": {},
   "source": [
    "Убедимся в том, что нет таких строк, где был бы пропуск в столбце parks_around_3000 и не было бы пропущенного значения в столбце city_centers_nearest."
   ]
  },
  {
   "cell_type": "code",
   "execution_count": 54,
   "metadata": {
    "pycharm": {
     "is_executing": true
    }
   },
   "outputs": [
    {
     "data": {
      "text/html": [
       "<div>\n",
       "<style scoped>\n",
       "    .dataframe tbody tr th:only-of-type {\n",
       "        vertical-align: middle;\n",
       "    }\n",
       "\n",
       "    .dataframe tbody tr th {\n",
       "        vertical-align: top;\n",
       "    }\n",
       "\n",
       "    .dataframe thead th {\n",
       "        text-align: right;\n",
       "    }\n",
       "</style>\n",
       "<table border=\"1\" class=\"dataframe\">\n",
       "  <thead>\n",
       "    <tr style=\"text-align: right;\">\n",
       "      <th></th>\n",
       "      <th>total_images</th>\n",
       "      <th>last_price</th>\n",
       "      <th>total_area</th>\n",
       "      <th>first_day_exposition</th>\n",
       "      <th>rooms</th>\n",
       "      <th>ceiling_height</th>\n",
       "      <th>floors_total</th>\n",
       "      <th>living_area</th>\n",
       "      <th>floor</th>\n",
       "      <th>is_apartment</th>\n",
       "      <th>...</th>\n",
       "      <th>kitchen_area</th>\n",
       "      <th>balcony</th>\n",
       "      <th>locality_name</th>\n",
       "      <th>airports_nearest</th>\n",
       "      <th>city_centers_nearest</th>\n",
       "      <th>parks_around_3000</th>\n",
       "      <th>parks_nearest</th>\n",
       "      <th>ponds_around_3000</th>\n",
       "      <th>ponds_nearest</th>\n",
       "      <th>days_exposition</th>\n",
       "    </tr>\n",
       "  </thead>\n",
       "  <tbody>\n",
       "  </tbody>\n",
       "</table>\n",
       "<p>0 rows × 22 columns</p>\n",
       "</div>"
      ],
      "text/plain": [
       "Empty DataFrame\n",
       "Columns: [total_images, last_price, total_area, first_day_exposition, rooms, ceiling_height, floors_total, living_area, floor, is_apartment, studio, open_plan, kitchen_area, balcony, locality_name, airports_nearest, city_centers_nearest, parks_around_3000, parks_nearest, ponds_around_3000, ponds_nearest, days_exposition]\n",
       "Index: []\n",
       "\n",
       "[0 rows x 22 columns]"
      ]
     },
     "execution_count": 54,
     "metadata": {},
     "output_type": "execute_result"
    }
   ],
   "source": [
    "df[df['parks_around_3000'].isna() & (~df['city_centers_nearest'].isna())]"
   ]
  },
  {
   "cell_type": "markdown",
   "metadata": {},
   "source": [
    "Можно сделать вывод, что данный столбец был заполнен для города Санкт-Петербург (парки и пруды на территории данного города были внесены в картографическую бд), а все то, что за его пределами осталось без информации о парках и прудах вокруг рассматриваемого дома в заданном радиусе.\n",
    "Для большей уверенности убедимся в этом на столбце parks_nearest, в котором имеется 15к+ пропусков."
   ]
  },
  {
   "cell_type": "code",
   "execution_count": 55,
   "metadata": {
    "pycharm": {
     "is_executing": true
    }
   },
   "outputs": [
    {
     "data": {
      "text/html": [
       "<div>\n",
       "<style scoped>\n",
       "    .dataframe tbody tr th:only-of-type {\n",
       "        vertical-align: middle;\n",
       "    }\n",
       "\n",
       "    .dataframe tbody tr th {\n",
       "        vertical-align: top;\n",
       "    }\n",
       "\n",
       "    .dataframe thead th {\n",
       "        text-align: right;\n",
       "    }\n",
       "</style>\n",
       "<table border=\"1\" class=\"dataframe\">\n",
       "  <thead>\n",
       "    <tr style=\"text-align: right;\">\n",
       "      <th></th>\n",
       "      <th>total_images</th>\n",
       "      <th>last_price</th>\n",
       "      <th>total_area</th>\n",
       "      <th>first_day_exposition</th>\n",
       "      <th>rooms</th>\n",
       "      <th>ceiling_height</th>\n",
       "      <th>floors_total</th>\n",
       "      <th>living_area</th>\n",
       "      <th>floor</th>\n",
       "      <th>is_apartment</th>\n",
       "      <th>...</th>\n",
       "      <th>kitchen_area</th>\n",
       "      <th>balcony</th>\n",
       "      <th>locality_name</th>\n",
       "      <th>airports_nearest</th>\n",
       "      <th>city_centers_nearest</th>\n",
       "      <th>parks_around_3000</th>\n",
       "      <th>parks_nearest</th>\n",
       "      <th>ponds_around_3000</th>\n",
       "      <th>ponds_nearest</th>\n",
       "      <th>days_exposition</th>\n",
       "    </tr>\n",
       "  </thead>\n",
       "  <tbody>\n",
       "  </tbody>\n",
       "</table>\n",
       "<p>0 rows × 22 columns</p>\n",
       "</div>"
      ],
      "text/plain": [
       "Empty DataFrame\n",
       "Columns: [total_images, last_price, total_area, first_day_exposition, rooms, ceiling_height, floors_total, living_area, floor, is_apartment, studio, open_plan, kitchen_area, balcony, locality_name, airports_nearest, city_centers_nearest, parks_around_3000, parks_nearest, ponds_around_3000, ponds_nearest, days_exposition]\n",
       "Index: []\n",
       "\n",
       "[0 rows x 22 columns]"
      ]
     },
     "execution_count": 55,
     "metadata": {},
     "output_type": "execute_result"
    }
   ],
   "source": [
    "df[df['parks_nearest'].isna() & df['locality_name'] == 'санкт-петербург']"
   ]
  },
  {
   "cell_type": "code",
   "execution_count": 56,
   "metadata": {
    "pycharm": {
     "is_executing": true
    }
   },
   "outputs": [
    {
     "data": {
      "text/html": [
       "<div>\n",
       "<style scoped>\n",
       "    .dataframe tbody tr th:only-of-type {\n",
       "        vertical-align: middle;\n",
       "    }\n",
       "\n",
       "    .dataframe tbody tr th {\n",
       "        vertical-align: top;\n",
       "    }\n",
       "\n",
       "    .dataframe thead th {\n",
       "        text-align: right;\n",
       "    }\n",
       "</style>\n",
       "<table border=\"1\" class=\"dataframe\">\n",
       "  <thead>\n",
       "    <tr style=\"text-align: right;\">\n",
       "      <th></th>\n",
       "      <th>total_images</th>\n",
       "      <th>last_price</th>\n",
       "      <th>total_area</th>\n",
       "      <th>first_day_exposition</th>\n",
       "      <th>rooms</th>\n",
       "      <th>ceiling_height</th>\n",
       "      <th>floors_total</th>\n",
       "      <th>living_area</th>\n",
       "      <th>floor</th>\n",
       "      <th>is_apartment</th>\n",
       "      <th>...</th>\n",
       "      <th>kitchen_area</th>\n",
       "      <th>balcony</th>\n",
       "      <th>locality_name</th>\n",
       "      <th>airports_nearest</th>\n",
       "      <th>city_centers_nearest</th>\n",
       "      <th>parks_around_3000</th>\n",
       "      <th>parks_nearest</th>\n",
       "      <th>ponds_around_3000</th>\n",
       "      <th>ponds_nearest</th>\n",
       "      <th>days_exposition</th>\n",
       "    </tr>\n",
       "  </thead>\n",
       "  <tbody>\n",
       "  </tbody>\n",
       "</table>\n",
       "<p>0 rows × 22 columns</p>\n",
       "</div>"
      ],
      "text/plain": [
       "Empty DataFrame\n",
       "Columns: [total_images, last_price, total_area, first_day_exposition, rooms, ceiling_height, floors_total, living_area, floor, is_apartment, studio, open_plan, kitchen_area, balcony, locality_name, airports_nearest, city_centers_nearest, parks_around_3000, parks_nearest, ponds_around_3000, ponds_nearest, days_exposition]\n",
       "Index: []\n",
       "\n",
       "[0 rows x 22 columns]"
      ]
     },
     "execution_count": 56,
     "metadata": {},
     "output_type": "execute_result"
    }
   ],
   "source": [
    "df[df['parks_nearest'].isna() & (~df['city_centers_nearest'].isna()) & (df['parks_around_3000'] != 0)]"
   ]
  },
  {
   "cell_type": "markdown",
   "metadata": {},
   "source": [
    "Данная теория полностью подтверждается, так же можно отметить, что при условии того, что рядом отсутствует парк или пруд (parks_around_3000\\pounds_around_3000 = 0), значение столбца parks_nearest\\pounds_nearest было заполнено значением nan."
   ]
  },
  {
   "cell_type": "markdown",
   "metadata": {},
   "source": [
    "Восстановим значение столбца ceiling_height медианным значением, разброс значений в нормальном диапазоне не так велик и в своем большинстве мы имеем высоту потолков 2.5 м."
   ]
  },
  {
   "cell_type": "code",
   "execution_count": 57,
   "metadata": {
    "pycharm": {
     "is_executing": true
    }
   },
   "outputs": [
    {
     "data": {
      "text/html": [
       "<div>\n",
       "<style scoped>\n",
       "    .dataframe tbody tr th:only-of-type {\n",
       "        vertical-align: middle;\n",
       "    }\n",
       "\n",
       "    .dataframe tbody tr th {\n",
       "        vertical-align: top;\n",
       "    }\n",
       "\n",
       "    .dataframe thead th {\n",
       "        text-align: right;\n",
       "    }\n",
       "</style>\n",
       "<table border=\"1\" class=\"dataframe\">\n",
       "  <thead>\n",
       "    <tr style=\"text-align: right;\">\n",
       "      <th></th>\n",
       "      <th>total_images</th>\n",
       "      <th>last_price</th>\n",
       "      <th>total_area</th>\n",
       "      <th>first_day_exposition</th>\n",
       "      <th>rooms</th>\n",
       "      <th>ceiling_height</th>\n",
       "      <th>floors_total</th>\n",
       "      <th>living_area</th>\n",
       "      <th>floor</th>\n",
       "      <th>is_apartment</th>\n",
       "      <th>...</th>\n",
       "      <th>kitchen_area</th>\n",
       "      <th>balcony</th>\n",
       "      <th>locality_name</th>\n",
       "      <th>airports_nearest</th>\n",
       "      <th>city_centers_nearest</th>\n",
       "      <th>parks_around_3000</th>\n",
       "      <th>parks_nearest</th>\n",
       "      <th>ponds_around_3000</th>\n",
       "      <th>ponds_nearest</th>\n",
       "      <th>days_exposition</th>\n",
       "    </tr>\n",
       "  </thead>\n",
       "  <tbody>\n",
       "    <tr>\n",
       "      <th>1</th>\n",
       "      <td>7</td>\n",
       "      <td>3.350</td>\n",
       "      <td>40.4</td>\n",
       "      <td>2018-12-04T00:00:00</td>\n",
       "      <td>1</td>\n",
       "      <td>NaN</td>\n",
       "      <td>11.0</td>\n",
       "      <td>18.60</td>\n",
       "      <td>1</td>\n",
       "      <td>NaN</td>\n",
       "      <td>...</td>\n",
       "      <td>11.0</td>\n",
       "      <td>2.0</td>\n",
       "      <td>шушары</td>\n",
       "      <td>12.817</td>\n",
       "      <td>18.603</td>\n",
       "      <td>0.0</td>\n",
       "      <td>NaN</td>\n",
       "      <td>0.0</td>\n",
       "      <td>NaN</td>\n",
       "      <td>81.0</td>\n",
       "    </tr>\n",
       "    <tr>\n",
       "      <th>2</th>\n",
       "      <td>10</td>\n",
       "      <td>5.196</td>\n",
       "      <td>56.0</td>\n",
       "      <td>2015-08-20T00:00:00</td>\n",
       "      <td>2</td>\n",
       "      <td>NaN</td>\n",
       "      <td>5.0</td>\n",
       "      <td>34.30</td>\n",
       "      <td>4</td>\n",
       "      <td>NaN</td>\n",
       "      <td>...</td>\n",
       "      <td>8.3</td>\n",
       "      <td>0.0</td>\n",
       "      <td>санкт-петербург</td>\n",
       "      <td>21.741</td>\n",
       "      <td>13.933</td>\n",
       "      <td>1.0</td>\n",
       "      <td>90.0</td>\n",
       "      <td>2.0</td>\n",
       "      <td>574.0</td>\n",
       "      <td>558.0</td>\n",
       "    </tr>\n",
       "    <tr>\n",
       "      <th>3</th>\n",
       "      <td>0</td>\n",
       "      <td>64.900</td>\n",
       "      <td>159.0</td>\n",
       "      <td>2015-07-24T00:00:00</td>\n",
       "      <td>3</td>\n",
       "      <td>NaN</td>\n",
       "      <td>14.0</td>\n",
       "      <td>97.95</td>\n",
       "      <td>9</td>\n",
       "      <td>NaN</td>\n",
       "      <td>...</td>\n",
       "      <td>NaN</td>\n",
       "      <td>0.0</td>\n",
       "      <td>санкт-петербург</td>\n",
       "      <td>28.098</td>\n",
       "      <td>6.800</td>\n",
       "      <td>2.0</td>\n",
       "      <td>84.0</td>\n",
       "      <td>3.0</td>\n",
       "      <td>234.0</td>\n",
       "      <td>424.0</td>\n",
       "    </tr>\n",
       "    <tr>\n",
       "      <th>5</th>\n",
       "      <td>10</td>\n",
       "      <td>2.890</td>\n",
       "      <td>30.4</td>\n",
       "      <td>2018-09-10T00:00:00</td>\n",
       "      <td>1</td>\n",
       "      <td>NaN</td>\n",
       "      <td>12.0</td>\n",
       "      <td>14.40</td>\n",
       "      <td>5</td>\n",
       "      <td>NaN</td>\n",
       "      <td>...</td>\n",
       "      <td>9.1</td>\n",
       "      <td>NaN</td>\n",
       "      <td>янино-1</td>\n",
       "      <td>NaN</td>\n",
       "      <td>NaN</td>\n",
       "      <td>NaN</td>\n",
       "      <td>NaN</td>\n",
       "      <td>NaN</td>\n",
       "      <td>NaN</td>\n",
       "      <td>55.0</td>\n",
       "    </tr>\n",
       "    <tr>\n",
       "      <th>6</th>\n",
       "      <td>6</td>\n",
       "      <td>3.700</td>\n",
       "      <td>37.3</td>\n",
       "      <td>2017-11-02T00:00:00</td>\n",
       "      <td>1</td>\n",
       "      <td>NaN</td>\n",
       "      <td>26.0</td>\n",
       "      <td>10.60</td>\n",
       "      <td>6</td>\n",
       "      <td>NaN</td>\n",
       "      <td>...</td>\n",
       "      <td>14.4</td>\n",
       "      <td>1.0</td>\n",
       "      <td>парголово</td>\n",
       "      <td>52.996</td>\n",
       "      <td>19.143</td>\n",
       "      <td>0.0</td>\n",
       "      <td>NaN</td>\n",
       "      <td>0.0</td>\n",
       "      <td>NaN</td>\n",
       "      <td>155.0</td>\n",
       "    </tr>\n",
       "    <tr>\n",
       "      <th>...</th>\n",
       "      <td>...</td>\n",
       "      <td>...</td>\n",
       "      <td>...</td>\n",
       "      <td>...</td>\n",
       "      <td>...</td>\n",
       "      <td>...</td>\n",
       "      <td>...</td>\n",
       "      <td>...</td>\n",
       "      <td>...</td>\n",
       "      <td>...</td>\n",
       "      <td>...</td>\n",
       "      <td>...</td>\n",
       "      <td>...</td>\n",
       "      <td>...</td>\n",
       "      <td>...</td>\n",
       "      <td>...</td>\n",
       "      <td>...</td>\n",
       "      <td>...</td>\n",
       "      <td>...</td>\n",
       "      <td>...</td>\n",
       "      <td>...</td>\n",
       "    </tr>\n",
       "    <tr>\n",
       "      <th>23670</th>\n",
       "      <td>6</td>\n",
       "      <td>3.200</td>\n",
       "      <td>39.0</td>\n",
       "      <td>2017-12-16T00:00:00</td>\n",
       "      <td>1</td>\n",
       "      <td>NaN</td>\n",
       "      <td>9.0</td>\n",
       "      <td>20.00</td>\n",
       "      <td>6</td>\n",
       "      <td>NaN</td>\n",
       "      <td>...</td>\n",
       "      <td>11.0</td>\n",
       "      <td>2.0</td>\n",
       "      <td>санкт-петербург</td>\n",
       "      <td>40.837</td>\n",
       "      <td>16.704</td>\n",
       "      <td>0.0</td>\n",
       "      <td>NaN</td>\n",
       "      <td>0.0</td>\n",
       "      <td>NaN</td>\n",
       "      <td>38.0</td>\n",
       "    </tr>\n",
       "    <tr>\n",
       "      <th>23673</th>\n",
       "      <td>3</td>\n",
       "      <td>5.500</td>\n",
       "      <td>52.0</td>\n",
       "      <td>2018-07-19T00:00:00</td>\n",
       "      <td>2</td>\n",
       "      <td>NaN</td>\n",
       "      <td>5.0</td>\n",
       "      <td>31.00</td>\n",
       "      <td>2</td>\n",
       "      <td>NaN</td>\n",
       "      <td>...</td>\n",
       "      <td>6.0</td>\n",
       "      <td>NaN</td>\n",
       "      <td>санкт-петербург</td>\n",
       "      <td>20.151</td>\n",
       "      <td>6.263</td>\n",
       "      <td>1.0</td>\n",
       "      <td>300.0</td>\n",
       "      <td>0.0</td>\n",
       "      <td>NaN</td>\n",
       "      <td>15.0</td>\n",
       "    </tr>\n",
       "    <tr>\n",
       "      <th>23675</th>\n",
       "      <td>2</td>\n",
       "      <td>1.350</td>\n",
       "      <td>30.0</td>\n",
       "      <td>2017-07-07T00:00:00</td>\n",
       "      <td>1</td>\n",
       "      <td>NaN</td>\n",
       "      <td>5.0</td>\n",
       "      <td>17.50</td>\n",
       "      <td>4</td>\n",
       "      <td>NaN</td>\n",
       "      <td>...</td>\n",
       "      <td>6.0</td>\n",
       "      <td>NaN</td>\n",
       "      <td>тихвин</td>\n",
       "      <td>NaN</td>\n",
       "      <td>NaN</td>\n",
       "      <td>NaN</td>\n",
       "      <td>NaN</td>\n",
       "      <td>NaN</td>\n",
       "      <td>NaN</td>\n",
       "      <td>413.0</td>\n",
       "    </tr>\n",
       "    <tr>\n",
       "      <th>23678</th>\n",
       "      <td>14</td>\n",
       "      <td>3.100</td>\n",
       "      <td>59.0</td>\n",
       "      <td>2018-01-15T00:00:00</td>\n",
       "      <td>3</td>\n",
       "      <td>NaN</td>\n",
       "      <td>5.0</td>\n",
       "      <td>38.00</td>\n",
       "      <td>4</td>\n",
       "      <td>NaN</td>\n",
       "      <td>...</td>\n",
       "      <td>8.5</td>\n",
       "      <td>NaN</td>\n",
       "      <td>тосно</td>\n",
       "      <td>NaN</td>\n",
       "      <td>NaN</td>\n",
       "      <td>NaN</td>\n",
       "      <td>NaN</td>\n",
       "      <td>NaN</td>\n",
       "      <td>NaN</td>\n",
       "      <td>45.0</td>\n",
       "    </tr>\n",
       "    <tr>\n",
       "      <th>23679</th>\n",
       "      <td>18</td>\n",
       "      <td>2.500</td>\n",
       "      <td>56.7</td>\n",
       "      <td>2018-02-11T00:00:00</td>\n",
       "      <td>2</td>\n",
       "      <td>NaN</td>\n",
       "      <td>3.0</td>\n",
       "      <td>29.70</td>\n",
       "      <td>1</td>\n",
       "      <td>NaN</td>\n",
       "      <td>...</td>\n",
       "      <td>NaN</td>\n",
       "      <td>NaN</td>\n",
       "      <td>рождествено</td>\n",
       "      <td>NaN</td>\n",
       "      <td>NaN</td>\n",
       "      <td>NaN</td>\n",
       "      <td>NaN</td>\n",
       "      <td>NaN</td>\n",
       "      <td>NaN</td>\n",
       "      <td>NaN</td>\n",
       "    </tr>\n",
       "  </tbody>\n",
       "</table>\n",
       "<p>9184 rows × 22 columns</p>\n",
       "</div>"
      ],
      "text/plain": [
       "       total_images  last_price  total_area first_day_exposition  rooms  \\\n",
       "1                 7       3.350        40.4  2018-12-04T00:00:00      1   \n",
       "2                10       5.196        56.0  2015-08-20T00:00:00      2   \n",
       "3                 0      64.900       159.0  2015-07-24T00:00:00      3   \n",
       "5                10       2.890        30.4  2018-09-10T00:00:00      1   \n",
       "6                 6       3.700        37.3  2017-11-02T00:00:00      1   \n",
       "...             ...         ...         ...                  ...    ...   \n",
       "23670             6       3.200        39.0  2017-12-16T00:00:00      1   \n",
       "23673             3       5.500        52.0  2018-07-19T00:00:00      2   \n",
       "23675             2       1.350        30.0  2017-07-07T00:00:00      1   \n",
       "23678            14       3.100        59.0  2018-01-15T00:00:00      3   \n",
       "23679            18       2.500        56.7  2018-02-11T00:00:00      2   \n",
       "\n",
       "       ceiling_height  floors_total  living_area  floor is_apartment  ...  \\\n",
       "1                 NaN          11.0        18.60      1          NaN  ...   \n",
       "2                 NaN           5.0        34.30      4          NaN  ...   \n",
       "3                 NaN          14.0        97.95      9          NaN  ...   \n",
       "5                 NaN          12.0        14.40      5          NaN  ...   \n",
       "6                 NaN          26.0        10.60      6          NaN  ...   \n",
       "...               ...           ...          ...    ...          ...  ...   \n",
       "23670             NaN           9.0        20.00      6          NaN  ...   \n",
       "23673             NaN           5.0        31.00      2          NaN  ...   \n",
       "23675             NaN           5.0        17.50      4          NaN  ...   \n",
       "23678             NaN           5.0        38.00      4          NaN  ...   \n",
       "23679             NaN           3.0        29.70      1          NaN  ...   \n",
       "\n",
       "       kitchen_area  balcony    locality_name  airports_nearest  \\\n",
       "1              11.0      2.0           шушары            12.817   \n",
       "2               8.3      0.0  санкт-петербург            21.741   \n",
       "3               NaN      0.0  санкт-петербург            28.098   \n",
       "5               9.1      NaN          янино-1               NaN   \n",
       "6              14.4      1.0        парголово            52.996   \n",
       "...             ...      ...              ...               ...   \n",
       "23670          11.0      2.0  санкт-петербург            40.837   \n",
       "23673           6.0      NaN  санкт-петербург            20.151   \n",
       "23675           6.0      NaN           тихвин               NaN   \n",
       "23678           8.5      NaN            тосно               NaN   \n",
       "23679           NaN      NaN      рождествено               NaN   \n",
       "\n",
       "      city_centers_nearest  parks_around_3000  parks_nearest  \\\n",
       "1                   18.603                0.0            NaN   \n",
       "2                   13.933                1.0           90.0   \n",
       "3                    6.800                2.0           84.0   \n",
       "5                      NaN                NaN            NaN   \n",
       "6                   19.143                0.0            NaN   \n",
       "...                    ...                ...            ...   \n",
       "23670               16.704                0.0            NaN   \n",
       "23673                6.263                1.0          300.0   \n",
       "23675                  NaN                NaN            NaN   \n",
       "23678                  NaN                NaN            NaN   \n",
       "23679                  NaN                NaN            NaN   \n",
       "\n",
       "       ponds_around_3000  ponds_nearest  days_exposition  \n",
       "1                    0.0            NaN             81.0  \n",
       "2                    2.0          574.0            558.0  \n",
       "3                    3.0          234.0            424.0  \n",
       "5                    NaN            NaN             55.0  \n",
       "6                    0.0            NaN            155.0  \n",
       "...                  ...            ...              ...  \n",
       "23670                0.0            NaN             38.0  \n",
       "23673                0.0            NaN             15.0  \n",
       "23675                NaN            NaN            413.0  \n",
       "23678                NaN            NaN             45.0  \n",
       "23679                NaN            NaN              NaN  \n",
       "\n",
       "[9184 rows x 22 columns]"
      ]
     },
     "execution_count": 57,
     "metadata": {},
     "output_type": "execute_result"
    }
   ],
   "source": [
    "df[df['ceiling_height'].isna()]"
   ]
  },
  {
   "cell_type": "code",
   "execution_count": 58,
   "metadata": {
    "pycharm": {
     "is_executing": true
    }
   },
   "outputs": [],
   "source": [
    "median_ceiling_height = df['ceiling_height'].median()"
   ]
  },
  {
   "cell_type": "code",
   "execution_count": 59,
   "metadata": {
    "pycharm": {
     "is_executing": true
    }
   },
   "outputs": [],
   "source": [
    "def recover_ceiling_height(x):\n",
    "    not_null_df = df[(df['airports_nearest'].notna())\n",
    "                     & (df['city_centers_nearest'].notna())\n",
    "                     & (df['ceiling_height'].notna())]\n",
    "    if x['airports_nearest'] > 0 and x['city_centers_nearest'] > 0:\n",
    "        for i in range(2, 1000, 4):\n",
    "            temp = not_null_df[(not_null_df['city_centers_nearest'] <= x['city_centers_nearest'] + i / 100) &\n",
    "                               (not_null_df['city_centers_nearest'] >= x['city_centers_nearest'] - i / 100) &\n",
    "                               (not_null_df['airports_nearest'] <= x['airports_nearest'] + i / 100) &\n",
    "                               (not_null_df['airports_nearest'] >= x['airports_nearest'] - i / 100)][\n",
    "                'ceiling_height'].median()\n",
    "            if temp > 0:\n",
    "                return float(f'{temp:.1f}')\n",
    "    return float(f'{median_ceiling_height:.1f}')"
   ]
  },
  {
   "cell_type": "code",
   "execution_count": null,
   "metadata": {
    "pycharm": {
     "is_executing": true
    }
   },
   "outputs": [],
   "source": [
    "df.loc[df['ceiling_height'].isna(), 'ceiling_height'] = df[df['ceiling_height'].isna()] \\\n",
    "    .apply(recover_ceiling_height, axis=1)"
   ]
  },
  {
   "cell_type": "code",
   "execution_count": null,
   "metadata": {
    "pycharm": {
     "is_executing": true
    }
   },
   "outputs": [],
   "source": [
    "df[df['ceiling_height'].isna()]"
   ]
  },
  {
   "cell_type": "markdown",
   "metadata": {},
   "source": [
    "Столбец days_exposition содержит информацию, которая высчитывается системой, как разность между моментом (датой снятия публикации) и датой, когда объявление было опубликовано.\n",
    "Пропуски говорят нам, что возможно при выгрузке информации из бд что-то произошло с частью данных, либо на этапе их формирования, данный вопрос также необходимо обсудить с техническими специалистами.\n",
    "Восстановление данного столбца не представляется возможно ввиду отсутствия явной зависимости с каким-то другим значением/значениями."
   ]
  },
  {
   "cell_type": "code",
   "execution_count": null,
   "metadata": {
    "pycharm": {
     "is_executing": true
    }
   },
   "outputs": [],
   "source": [
    "df.isna().sum()[df.isna().sum() != 0]"
   ]
  },
  {
   "cell_type": "code",
   "execution_count": null,
   "metadata": {
    "pycharm": {
     "is_executing": true
    }
   },
   "outputs": [],
   "source": [
    "df[df['floor'] == 1]['balcony'].value_counts()"
   ]
  },
  {
   "cell_type": "code",
   "execution_count": null,
   "metadata": {
    "pycharm": {
     "is_executing": true
    }
   },
   "outputs": [],
   "source": [
    "df.query('balcony.isna() and floor == 1')"
   ]
  },
  {
   "cell_type": "code",
   "execution_count": null,
   "metadata": {
    "pycharm": {
     "is_executing": true
    }
   },
   "outputs": [],
   "source": [
    "# Максимальный диапазон поиска выбран 100 м.\n",
    "def recover_balcony(x):\n",
    "    not_null_df = df[(df['airports_nearest'].notna())\n",
    "                     & (df['city_centers_nearest'].notna())\n",
    "                     & (df['balcony'].notna())]\n",
    "    if x['airports_nearest'] > 0 and x['city_centers_nearest'] > 0:\n",
    "        for i in range(1, 10, 1):\n",
    "            if x['floor'] > 1:\n",
    "                temp = not_null_df[(not_null_df['city_centers_nearest'] <= x['city_centers_nearest'] + i / 100) &\n",
    "                                   (not_null_df['city_centers_nearest'] >= x['city_centers_nearest'] - i / 100) &\n",
    "                                   (not_null_df['airports_nearest'] <= x['airports_nearest'] + i / 100) &\n",
    "                                   (not_null_df['airports_nearest'] >= x['airports_nearest'] - i / 100)][\n",
    "                    'balcony'].median()\n",
    "                if temp > 0:\n",
    "                    return round(temp)\n",
    "            if x['floor'] == 1:\n",
    "                temp = not_null_df[(not_null_df['city_centers_nearest'] <= x['city_centers_nearest'] + i / 100) &\n",
    "                                   (not_null_df['city_centers_nearest'] >= x['city_centers_nearest'] - i / 100) &\n",
    "                                   (not_null_df['airports_nearest'] <= x['airports_nearest'] + i / 100) &\n",
    "                                   (not_null_df['airports_nearest'] >= x['airports_nearest'] - i / 100) & (\n",
    "                                           not_null_df['floor'] == 1)]['balcony'].median()\n",
    "                if temp > 0:\n",
    "                    return math.floor(temp)\n",
    "    return x['balcony']"
   ]
  },
  {
   "cell_type": "code",
   "execution_count": null,
   "metadata": {
    "pycharm": {
     "is_executing": true
    }
   },
   "outputs": [],
   "source": [
    "df.loc[df['balcony'].isna(), 'balcony'] = df[df['balcony'].isna()] \\\n",
    "    .apply(recover_balcony, axis=1)"
   ]
  },
  {
   "cell_type": "code",
   "execution_count": null,
   "metadata": {
    "pycharm": {
     "is_executing": true
    }
   },
   "outputs": [],
   "source": [
    "df[df['floor'] == 1]['balcony'].value_counts()"
   ]
  },
  {
   "cell_type": "code",
   "execution_count": null,
   "metadata": {
    "pycharm": {
     "is_executing": true
    }
   },
   "outputs": [],
   "source": [
    "df[df['balcony'].notna()]['balcony'].value_counts()"
   ]
  },
  {
   "cell_type": "code",
   "execution_count": null,
   "metadata": {
    "pycharm": {
     "is_executing": true
    }
   },
   "outputs": [],
   "source": [
    "df[df['balcony'].isna()]"
   ]
  },
  {
   "cell_type": "code",
   "execution_count": null,
   "metadata": {
    "pycharm": {
     "is_executing": true
    }
   },
   "outputs": [],
   "source": [
    "df['balcony'] = df['balcony'].fillna(0)"
   ]
  },
  {
   "cell_type": "markdown",
   "metadata": {},
   "source": [
    "Восстановим пропуски в столбце is_apartment. Апартаменты — это нежилые, но по характеристикам и удобствам практически не уступающие квартирам помещения, в которых можно жить. По документам эти здания — гостиницы или офисы, даже если они с виду выглядят как обычные многоквартирные дома. Посмотрим на текущее распределение между квартирами и апартаментами."
   ]
  },
  {
   "cell_type": "code",
   "execution_count": null,
   "metadata": {
    "pycharm": {
     "is_executing": true
    }
   },
   "outputs": [],
   "source": [
    "df.query('is_apartment.notna()')['is_apartment'].value_counts()"
   ]
  },
  {
   "cell_type": "markdown",
   "metadata": {},
   "source": [
    "Сильно преобладают квартиры, в общем числе непропущенных первоначальных данных."
   ]
  },
  {
   "cell_type": "code",
   "execution_count": null,
   "metadata": {
    "pycharm": {
     "is_executing": true
    }
   },
   "outputs": [],
   "source": [
    "# Создадим функцию, которая будет принимать строку DF со значением NaN в столбце locality_name, будем брать оттуда значения расстояния до центра города и до аэропорта. Методом логической индексации выделим из нашего DF те строки, которые удовлетворяют заданному условию, увеличив отклонение для диапазона на +- 2 км для каждого из двух параметров.\n",
    "# Максимальный диапазон поиска выбран 100 м.\n",
    "def recover_is_apartment(x):\n",
    "    not_null_df = df[(df['airports_nearest'].notna())\n",
    "                     & (df['city_centers_nearest'].notna())\n",
    "                     & (df['is_apartment'].notna())]\n",
    "    if x['airports_nearest'] > 0 and x['city_centers_nearest'] > 0:\n",
    "        temp = not_null_df[(not_null_df['city_centers_nearest'] == x['city_centers_nearest']) &\n",
    "                           (not_null_df['airports_nearest'] == x['airports_nearest'])]['is_apartment'].median()\n",
    "        if temp > 0:\n",
    "            return round(temp)\n",
    "    return x['is_apartment']"
   ]
  },
  {
   "cell_type": "code",
   "execution_count": null,
   "metadata": {
    "pycharm": {
     "is_executing": true
    }
   },
   "outputs": [],
   "source": [
    "df.loc[df['is_apartment'].isna(), 'is_apartment'] = df[df['is_apartment'].isna()] \\\n",
    "    .apply(recover_is_apartment, axis=1)"
   ]
  },
  {
   "cell_type": "code",
   "execution_count": null,
   "metadata": {
    "pycharm": {
     "is_executing": true
    }
   },
   "outputs": [],
   "source": [
    "df.query('is_apartment.notna()')['is_apartment'].value_counts()"
   ]
  },
  {
   "cell_type": "markdown",
   "metadata": {},
   "source": [
    "Восстановив малую часть данных по совпадению в географическом положении, по оставшейся части пропущенных значений мы можем предположить, что это все жилые квартиры и данное поле не являлось обязательным для заполнения и было проигнорировано в таком значительном количестве раз. По оставшимся значениям предположим, что это жилые квартиры, а не апартаменты."
   ]
  },
  {
   "cell_type": "code",
   "execution_count": null,
   "metadata": {
    "pycharm": {
     "is_executing": true
    }
   },
   "outputs": [],
   "source": [
    "df['is_apartment'] = df['is_apartment'].fillna(0)"
   ]
  },
  {
   "cell_type": "markdown",
   "metadata": {},
   "source": [
    "### *Результаты обработки пропусков*"
   ]
  },
  {
   "cell_type": "markdown",
   "metadata": {},
   "source": [
    "<div style=\"border:solid green 2px; padding: 5px\">\n",
    "\n",
    "Полностью восстановлены данные в следующих столбцах:\n",
    "* locality_name, были удалены 8 строк. В словаре данных в бд есть двусмысленные трактовки одной и той же геопозиции.\n",
    "Обнаруженную проблему необходимо отправить техническим специалистам.\n",
    "* floors_total\n",
    "* living_area, удалены 4 строки.\n",
    "* ceiling_height\n",
    "* balcony\n",
    "* is_apartment\n",
    "\n",
    "\n",
    "\n",
    "Частично восстановлены данные в следующих столбцах:\n",
    "* kitchen_area, 197 строк остались со значением nan, из-за невозможности восстановления для студий или квартир с открытой планировкой.\n",
    "\n",
    "\n",
    "\n",
    "Не восстановлены данные в следующих столбцах:\n",
    "* city_centers_nearest и airports_nearest, данные столбцы были заполнены на основе картографических данных только для субъектов, входящих территориально в Санкт-Петербург. Стоит отметить, что имеется 85 строк с пропущенными значениями в данных столбцах для города Санкт-Петербург. На данный недочет необходимо указать техническим специалистам.\n",
    "* parks_nearest, pounds_nearest, parks_around_3000, pound_around_3000 были заполнены на основе картографических данных для города Санкт-Петербург. Еще можно отметить, что при условии того, что рядом отсутствует парк или пруд (parks_around_3000\\pounds_around_3000 = 0), значение столбца parks_nearest\\pounds_nearest было заполнено значением nan.\n",
    "* days_exposition, столбец days_exposition содержит информацию, которая высчитывается системой, как разность между моментом (датой снятия публикации) и датой, когда объявление было опубликовано.\n",
    "Пропуски говорят нам, что возможно при выгрузке информации из бд что-то произошло с частью данных, либо на этапе их формирования, данный вопрос также необходимо обсудить с техническими специалистами."
   ]
  },
  {
   "cell_type": "markdown",
   "metadata": {},
   "source": [
    "---\n",
    "### *Изменение типов данных*"
   ]
  },
  {
   "cell_type": "markdown",
   "metadata": {},
   "source": [
    "* В столбцах `balcony`, `days_exposition`, `floors_total`, `parks_around_3000`, `ponds_around_3000`, `parks_nearest`, `ponds_nearest` необходимо преобразовать тип данных в формат int.\n",
    "* Значения столбца `days_exposition` для удобства работы преобразуем в формат datetime.\n",
    "* Значения столбцов `is_appartment`, `studio`, `open_plan` привести к общему формату данных для всего столбца - bool (0, 1)."
   ]
  },
  {
   "cell_type": "code",
   "execution_count": null,
   "metadata": {
    "pycharm": {
     "is_executing": true
    }
   },
   "outputs": [],
   "source": [
    "df.dtypes"
   ]
  },
  {
   "cell_type": "code",
   "execution_count": null,
   "metadata": {
    "pycharm": {
     "is_executing": true
    }
   },
   "outputs": [],
   "source": [
    "# Напишем функцию для преобразования значений float типа к типу Int64.\n",
    "columns_with_incorrect_type = ['balcony', 'days_exposition', 'floors_total',\n",
    "                               'parks_around_3000', 'ponds_around_3000', 'parks_nearest', 'ponds_nearest']\n",
    "for i in columns_with_incorrect_type:\n",
    "    df[i] = np.floor(pd.to_numeric(df[i], errors='coerce')).astype('Int64')"
   ]
  },
  {
   "cell_type": "code",
   "execution_count": null,
   "metadata": {
    "pycharm": {
     "is_executing": true
    }
   },
   "outputs": [],
   "source": [
    "# Напишем функцию для преобразования булевых значений к виду 0/1, вместо значений типа str.\n",
    "column_with_boolean_type = ['studio', 'is_apartment', 'open_plan']\n",
    "for i in column_with_boolean_type:\n",
    "    df[i] = df[i].replace([True, False], [1, 0])"
   ]
  },
  {
   "cell_type": "code",
   "execution_count": null,
   "metadata": {
    "pycharm": {
     "is_executing": true
    }
   },
   "outputs": [],
   "source": [
    "#Установим нормальный формат даты в столбце first_day_exposition.\n",
    "df['first_day_exposition'] = pd.to_datetime(df['first_day_exposition'], format='%Y.%m.%dT%H:%M:%S')"
   ]
  },
  {
   "cell_type": "markdown",
   "metadata": {},
   "source": [
    "---\n",
    "### *Обработка дубликатов*"
   ]
  },
  {
   "cell_type": "markdown",
   "metadata": {},
   "source": [
    "Выведем на экран количество строк-дубликатов в данных."
   ]
  },
  {
   "cell_type": "code",
   "execution_count": null,
   "metadata": {
    "pycharm": {
     "is_executing": true
    }
   },
   "outputs": [],
   "source": [
    "df.reset_index(drop=True, inplace=True)"
   ]
  },
  {
   "cell_type": "code",
   "execution_count": null,
   "metadata": {
    "pycharm": {
     "is_executing": true
    }
   },
   "outputs": [],
   "source": [
    "df[['total_area', 'floor', 'floors_total', 'city_centers_nearest', 'locality_name', 'rooms']].duplicated().sum()\n",
    "#  Метод duplicated() возвращает значения True or False в зависимости от того, является ли строка дубликатом, далее метод sum() суммируя булевы значения выводит общее количество дубликатов."
   ]
  },
  {
   "cell_type": "code",
   "execution_count": null,
   "metadata": {
    "pycharm": {
     "is_executing": true
    }
   },
   "outputs": [],
   "source": [
    "df = df.drop_duplicates(\n",
    "    subset=['total_area', 'floor', 'floors_total', 'city_centers_nearest', 'locality_name', 'rooms'])"
   ]
  },
  {
   "cell_type": "code",
   "execution_count": null,
   "metadata": {
    "pycharm": {
     "is_executing": true
    }
   },
   "outputs": [],
   "source": [
    "df.reset_index(drop=True, inplace=True)"
   ]
  },
  {
   "cell_type": "code",
   "execution_count": null,
   "metadata": {
    "pycharm": {
     "is_executing": true
    }
   },
   "outputs": [],
   "source": [
    "df.shape"
   ]
  },
  {
   "cell_type": "markdown",
   "metadata": {},
   "source": [
    " Удалив 12 строк до этого и 214 строк, обнаруженных и признанных дубликатами при поиске в подмножестве, мы потеряли 0.95 % от исходных данных."
   ]
  },
  {
   "cell_type": "markdown",
   "metadata": {},
   "source": [
    "Такие строки отсутствуют."
   ]
  },
  {
   "cell_type": "markdown",
   "metadata": {},
   "source": [
    "---\n",
    "### *Обработка аномальных значений*"
   ]
  },
  {
   "cell_type": "markdown",
   "metadata": {},
   "source": [
    "В данных могут встречаться артефакты (аномалии) — значения, которые не отражают действительность и появились по какой-то ошибке."
   ]
  },
  {
   "cell_type": "code",
   "execution_count": null,
   "metadata": {
    "pycharm": {
     "is_executing": true
    }
   },
   "outputs": [],
   "source": [
    "df.describe()"
   ]
  },
  {
   "cell_type": "code",
   "execution_count": null,
   "metadata": {
    "pycharm": {
     "is_executing": true
    }
   },
   "outputs": [],
   "source": [
    "df_1 = df.copy()"
   ]
  },
  {
   "cell_type": "code",
   "execution_count": null,
   "metadata": {
    "pycharm": {
     "is_executing": true
    }
   },
   "outputs": [],
   "source": [
    "(\n",
    "    df[['rooms', 'total_area', 'ceiling_height', 'days_exposition', 'last_price', 'living_area',\n",
    "        'kitchen_area', 'floor', 'floors_total', 'balcony', 'total_images']]\n",
    "    .quantile([0.0012, 0.01, .5, .99, .9988])  # выбираем размах в 0,9976 квантилей\n",
    "    .style.format(\"{:,.2f}\")\n",
    ")"
   ]
  },
  {
   "cell_type": "code",
   "execution_count": null,
   "metadata": {
    "pycharm": {
     "is_executing": true
    }
   },
   "outputs": [],
   "source": [
    "df_1.shape"
   ]
  },
  {
   "cell_type": "markdown",
   "metadata": {},
   "source": [
    "Отбросим значения, которые лежат вне размаха в 0,9976 квантилей."
   ]
  },
  {
   "cell_type": "code",
   "execution_count": null,
   "metadata": {
    "pycharm": {
     "is_executing": true
    }
   },
   "outputs": [],
   "source": [
    "search_anomaly_list = ['rooms', 'total_area', 'ceiling_height', 'days_exposition', 'last_price', 'living_area',\n",
    "                       'kitchen_area', 'floor', 'floors_total', 'balcony', 'total_images']\n",
    "temporary_dict = {}\n",
    "for col in search_anomaly_list:\n",
    "    temporary_dict[col] = (df_1[col].quantile(0.0012), df_1[col].quantile(.9988))\n",
    "for col in search_anomaly_list:\n",
    "    df_1 = df_1[(temporary_dict[col][0] <= df_1[col]) & (temporary_dict[col][1] >= df_1[col]) | (df_1[col].isna())]"
   ]
  },
  {
   "cell_type": "code",
   "execution_count": null,
   "metadata": {
    "pycharm": {
     "is_executing": true
    }
   },
   "outputs": [],
   "source": [
    "df_1.shape"
   ]
  },
  {
   "cell_type": "markdown",
   "metadata": {},
   "source": [
    "Общие потери данных к текущему моменту составляют 2.33 % (553 строк исключено)."
   ]
  },
  {
   "cell_type": "code",
   "execution_count": null,
   "metadata": {
    "pycharm": {
     "is_executing": true
    }
   },
   "outputs": [],
   "source": [
    "(\n",
    "    df_1[['rooms', 'total_area', 'ceiling_height', 'days_exposition', 'last_price', 'living_area',\n",
    "          'kitchen_area', 'floor', 'floors_total', 'balcony', 'total_images']]\n",
    "    .apply(['count', 'min', 'max'])\n",
    "    .style.format(\"{:,.2f}\")\n",
    ")"
   ]
  },
  {
   "cell_type": "markdown",
   "metadata": {},
   "source": [
    "Проанализируем, как распределены значения в каждом из столбцов по порядку и вручную дочистим аномальные значения по каждому из параметров, где это необходимо."
   ]
  },
  {
   "cell_type": "code",
   "execution_count": null,
   "metadata": {
    "pycharm": {
     "is_executing": true
    }
   },
   "outputs": [],
   "source": [
    "f, (ax_box, ax_hist) = plt.subplots(2, gridspec_kw={\"height_ratios\": (.15, .85)})\n",
    "sns.boxplot(data=df_1, x='rooms', ax=ax_box).set(title='Распределение значений количества комнат')\n",
    "sns.histplot(data=df_1, x='rooms', ax=ax_hist, bins=8)\n",
    "ax_box.set(xlabel='')\n",
    "plt.xlim(0, 8)\n",
    "plt.show()"
   ]
  },
  {
   "cell_type": "code",
   "execution_count": null,
   "metadata": {
    "pycharm": {
     "is_executing": true
    }
   },
   "outputs": [],
   "source": [
    "# check\n",
    "df_1.rooms.hist(bins=15, figsize=(15, 3), range=(5, 8));"
   ]
  },
  {
   "cell_type": "markdown",
   "metadata": {},
   "source": [
    "Оставим значения количества комнат не превышающие 6."
   ]
  },
  {
   "cell_type": "code",
   "execution_count": null,
   "metadata": {
    "pycharm": {
     "is_executing": true
    }
   },
   "outputs": [],
   "source": [
    "df_1.drop(labels=list(df_1[df_1['rooms'] > 7].index), axis='index',\n",
    "          inplace=True)\n",
    "df_1.reset_index(drop=True, inplace=True)"
   ]
  },
  {
   "cell_type": "code",
   "execution_count": null,
   "metadata": {
    "pycharm": {
     "is_executing": true
    }
   },
   "outputs": [],
   "source": [
    "f, (ax_box, ax_hist) = plt.subplots(2, gridspec_kw={\"height_ratios\": (.15, .85)})\n",
    "sns.boxplot(data=df_1, x='total_area', ax=ax_box).set(title='Распределение значений общей площади')\n",
    "sns.histplot(data=df_1, x='total_area', ax=ax_hist, bins=300)\n",
    "ax_box.set(xlabel='')\n",
    "plt.xlim(0, 400)\n",
    "plt.show()"
   ]
  },
  {
   "cell_type": "code",
   "execution_count": null,
   "metadata": {
    "pycharm": {
     "is_executing": true
    }
   },
   "outputs": [],
   "source": [
    "# check\n",
    "df_1.total_area.hist(bins=50, figsize=(15, 3), range=(180, 500));"
   ]
  },
  {
   "cell_type": "code",
   "execution_count": null,
   "metadata": {
    "pycharm": {
     "is_executing": true
    }
   },
   "outputs": [],
   "source": [
    "# check\n",
    "df_1.total_area.hist(bins=15, figsize=(15, 3), range=(0, 25));"
   ]
  },
  {
   "cell_type": "markdown",
   "metadata": {},
   "source": [
    "Оставим значения площади не превышающие 300 м2."
   ]
  },
  {
   "cell_type": "code",
   "execution_count": null,
   "metadata": {
    "pycharm": {
     "is_executing": true
    }
   },
   "outputs": [],
   "source": [
    "df_1.drop(labels=list(df_1[df_1['total_area'] > 300].index), axis='index',\n",
    "          inplace=True)\n",
    "df_1.reset_index(drop=True, inplace=True)"
   ]
  },
  {
   "cell_type": "code",
   "execution_count": null,
   "metadata": {
    "pycharm": {
     "is_executing": true
    }
   },
   "outputs": [],
   "source": [
    "# check\n",
    "df_1.total_area.hist(bins=50, figsize=(15, 3), range=(180, 500));"
   ]
  },
  {
   "cell_type": "code",
   "execution_count": null,
   "metadata": {
    "pycharm": {
     "is_executing": true
    }
   },
   "outputs": [],
   "source": [
    "f, (ax_box, ax_hist) = plt.subplots(2, gridspec_kw={\"height_ratios\": (.15, .85)})\n",
    "sns.boxplot(data=df_1, x='ceiling_height', ax=ax_box).set(title='Распределение значений высоты потолка')\n",
    "sns.histplot(data=df_1, x='ceiling_height', ax=ax_hist, bins=100)\n",
    "ax_box.set(xlabel='')\n",
    "plt.xlim(2, 15)\n",
    "plt.show()"
   ]
  },
  {
   "cell_type": "code",
   "execution_count": null,
   "metadata": {
    "pycharm": {
     "is_executing": true
    }
   },
   "outputs": [],
   "source": [
    "df_1.ceiling_height.hist(bins=50, figsize=(15, 3), range=(4, 8));"
   ]
  },
  {
   "cell_type": "markdown",
   "metadata": {},
   "source": [
    "Оставим значения не превышающие 4.5 м."
   ]
  },
  {
   "cell_type": "code",
   "execution_count": null,
   "metadata": {
    "pycharm": {
     "is_executing": true
    }
   },
   "outputs": [],
   "source": [
    "df_1.drop(labels=list(df_1[df_1['ceiling_height'] > 4.5].index), axis='index',\n",
    "          inplace=True)\n",
    "df_1.reset_index(drop=True, inplace=True)"
   ]
  },
  {
   "cell_type": "code",
   "execution_count": null,
   "metadata": {
    "pycharm": {
     "is_executing": true
    }
   },
   "outputs": [],
   "source": [
    "df_1.ceiling_height.hist(bins=50, figsize=(15, 3), range=(4, 8));"
   ]
  },
  {
   "cell_type": "code",
   "execution_count": null,
   "metadata": {
    "pycharm": {
     "is_executing": true
    }
   },
   "outputs": [],
   "source": [
    "f, (ax_box, ax_hist) = plt.subplots(2, gridspec_kw={\"height_ratios\": (.15, .85)})\n",
    "sns.boxplot(data=df_1, x='days_exposition', ax=ax_box).set(title='Распределение значений времени продажи')\n",
    "sns.histplot(data=df_1, x='days_exposition', ax=ax_hist, bins=100)\n",
    "ax_box.set(xlabel='')\n",
    "plt.xlim(0, 1400)\n",
    "plt.show()"
   ]
  },
  {
   "cell_type": "code",
   "execution_count": null,
   "metadata": {
    "pycharm": {
     "is_executing": true
    }
   },
   "outputs": [],
   "source": [
    "df_1.days_exposition.hist(bins=100, figsize=(15, 3), range=(1000, 1400));"
   ]
  },
  {
   "cell_type": "code",
   "execution_count": null,
   "metadata": {
    "pycharm": {
     "is_executing": true
    }
   },
   "outputs": [],
   "source": [
    "f, (ax_box, ax_hist) = plt.subplots(2, gridspec_kw={\"height_ratios\": (.15, .85)})\n",
    "sns.boxplot(data=df_1, x='last_price', ax=ax_box).set(title='Распределение значений цены продажи')\n",
    "sns.histplot(data=df_1, x='last_price', ax=ax_hist, bins=50)\n",
    "ax_box.set(xlabel='')\n",
    "plt.xlim(0, 130)\n",
    "plt.show()"
   ]
  },
  {
   "cell_type": "code",
   "execution_count": null,
   "metadata": {
    "pycharm": {
     "is_executing": true
    }
   },
   "outputs": [],
   "source": [
    "df_1.last_price.hist(bins=50, figsize=(15, 3), range=(30, 100));"
   ]
  },
  {
   "cell_type": "markdown",
   "metadata": {},
   "source": [
    "Оставим значения не превышающие показателя в 70 млн. рублей."
   ]
  },
  {
   "cell_type": "code",
   "execution_count": null,
   "metadata": {
    "pycharm": {
     "is_executing": true
    }
   },
   "outputs": [],
   "source": [
    "df_1.drop(labels=list(df_1[df_1['last_price'] > 70].index), axis='index',\n",
    "          inplace=True)\n",
    "df_1.reset_index(drop=True, inplace=True)"
   ]
  },
  {
   "cell_type": "code",
   "execution_count": null,
   "metadata": {
    "pycharm": {
     "is_executing": true
    }
   },
   "outputs": [],
   "source": [
    "df_1.last_price.hist(bins=30, figsize=(15, 3), range=(30, 80))"
   ]
  },
  {
   "cell_type": "code",
   "execution_count": null,
   "metadata": {
    "pycharm": {
     "is_executing": true
    }
   },
   "outputs": [],
   "source": [
    "f, (ax_box, ax_hist) = plt.subplots(2, gridspec_kw={\"height_ratios\": (.15, .85)})\n",
    "sns.boxplot(data=df_1, x='living_area', ax=ax_box).set(title='Распределение значений жилой площади')\n",
    "sns.histplot(data=df_1, x='living_area', ax=ax_hist, bins=30)\n",
    "ax_box.set(xlabel='')\n",
    "plt.xlim(0, 250)\n",
    "plt.show()"
   ]
  },
  {
   "cell_type": "code",
   "execution_count": null,
   "metadata": {
    "pycharm": {
     "is_executing": true
    }
   },
   "outputs": [],
   "source": [
    "df_1.living_area.hist(bins=30, figsize=(15, 3), range=(100, 250));"
   ]
  },
  {
   "cell_type": "code",
   "execution_count": null,
   "metadata": {
    "pycharm": {
     "is_executing": true
    }
   },
   "outputs": [],
   "source": [
    "df_1.drop(labels=list(df_1[df_1['living_area'] > 185].index), axis='index',\n",
    "          inplace=True)\n",
    "df_1.reset_index(drop=True, inplace=True)"
   ]
  },
  {
   "cell_type": "code",
   "execution_count": null,
   "metadata": {
    "pycharm": {
     "is_executing": true
    }
   },
   "outputs": [],
   "source": [
    "df_1.living_area.hist(bins=30, figsize=(15, 3), range=(100, 250));"
   ]
  },
  {
   "cell_type": "code",
   "execution_count": null,
   "metadata": {
    "pycharm": {
     "is_executing": true
    }
   },
   "outputs": [],
   "source": [
    "f, (ax_box, ax_hist) = plt.subplots(2, gridspec_kw={\"height_ratios\": (.15, .85)})\n",
    "sns.boxplot(data=df_1, x='kitchen_area', ax=ax_box).set(title='Распределение значений площади кухни')\n",
    "sns.histplot(data=df_1, x='kitchen_area', ax=ax_hist, bins=50)\n",
    "ax_box.set(xlabel='')\n",
    "plt.xlim(0, 60)\n",
    "plt.show()"
   ]
  },
  {
   "cell_type": "code",
   "execution_count": null,
   "metadata": {
    "pycharm": {
     "is_executing": true
    }
   },
   "outputs": [],
   "source": [
    "df_1.kitchen_area.hist(bins=30, figsize=(15, 3), range=(30, 60));"
   ]
  },
  {
   "cell_type": "code",
   "execution_count": null,
   "metadata": {
    "pycharm": {
     "is_executing": true
    }
   },
   "outputs": [],
   "source": [
    "df_1.drop(labels=list(df_1[df_1['kitchen_area'] > 52].index), axis='index',\n",
    "          inplace=True)\n",
    "df_1.reset_index(drop=True, inplace=True)"
   ]
  },
  {
   "cell_type": "code",
   "execution_count": null,
   "metadata": {
    "pycharm": {
     "is_executing": true
    }
   },
   "outputs": [],
   "source": [
    "df_1.kitchen_area.hist(bins=30, figsize=(15, 3), range=(30, 60));"
   ]
  },
  {
   "cell_type": "code",
   "execution_count": null,
   "metadata": {
    "pycharm": {
     "is_executing": true
    }
   },
   "outputs": [],
   "source": [
    "f, (ax_box, ax_hist) = plt.subplots(2, gridspec_kw={\"height_ratios\": (.15, .85)})\n",
    "sns.boxplot(data=df_1, x='floor', ax=ax_box).set(title='Распределение значений этажа')\n",
    "sns.histplot(data=df_1, x='floor', ax=ax_hist, bins=30)\n",
    "ax_box.set(xlabel='')\n",
    "plt.xlim(0, 30)\n",
    "plt.show()"
   ]
  },
  {
   "cell_type": "code",
   "execution_count": null,
   "metadata": {
    "pycharm": {
     "is_executing": true
    }
   },
   "outputs": [],
   "source": [
    "f, (ax_box, ax_hist) = plt.subplots(2, gridspec_kw={\"height_ratios\": (.15, .85)})\n",
    "sns.boxplot(data=df_1, x='floors_total', ax=ax_box).set(title='Распределение значений количества этажей в доме')\n",
    "sns.histplot(data=df_1, x='floors_total', ax=ax_hist, bins=35)\n",
    "ax_box.set(xlabel='')\n",
    "plt.xlim(0, 35)\n",
    "plt.show()"
   ]
  },
  {
   "cell_type": "code",
   "execution_count": null,
   "metadata": {
    "pycharm": {
     "is_executing": true
    }
   },
   "outputs": [],
   "source": [
    "df_1.query('floors_total > 30')"
   ]
  },
  {
   "cell_type": "markdown",
   "metadata": {},
   "source": [
    "Жилой дом – Князь Александр Невский в Санкт-Петербурге."
   ]
  },
  {
   "cell_type": "code",
   "execution_count": null,
   "metadata": {
    "pycharm": {
     "is_executing": true
    }
   },
   "outputs": [],
   "source": [
    "f, (ax_box, ax_hist) = plt.subplots(2, gridspec_kw={\"height_ratios\": (.15, .85)})\n",
    "sns.boxplot(data=df_1, x='balcony', ax=ax_box).set(title='Распределение значений количества балконов')\n",
    "sns.histplot(data=df_1, x='balcony', ax=ax_hist, bins=6)\n",
    "ax_box.set(xlabel='')\n",
    "plt.xlim(0, 5)\n",
    "plt.show()"
   ]
  },
  {
   "cell_type": "code",
   "execution_count": null,
   "metadata": {
    "pycharm": {
     "is_executing": true
    }
   },
   "outputs": [],
   "source": [
    "f, (ax_box, ax_hist) = plt.subplots(2, gridspec_kw={\"height_ratios\": (.15, .85)})\n",
    "sns.boxplot(data=df_1, x='total_images', ax=ax_box).set(title='Распределение значений количества фотографий объекта')\n",
    "sns.histplot(data=df_1, x='total_images', ax=ax_hist, bins=26)\n",
    "ax_box.set(xlabel='')\n",
    "plt.xlim(0, 25)\n",
    "plt.show()"
   ]
  },
  {
   "cell_type": "code",
   "execution_count": null,
   "metadata": {
    "pycharm": {
     "is_executing": true
    }
   },
   "outputs": [],
   "source": [
    "df_1.total_images.hist(bins=30, figsize=(15, 3), range=(21, 25));"
   ]
  },
  {
   "cell_type": "code",
   "execution_count": null,
   "metadata": {
    "pycharm": {
     "is_executing": true
    }
   },
   "outputs": [],
   "source": [
    "print(f'Общие потери данных к текущему моменту составляют {(23699 - df_1.shape[0]) / 23699:.2%}.')"
   ]
  },
  {
   "cell_type": "code",
   "execution_count": null,
   "metadata": {
    "pycharm": {
     "is_executing": true
    }
   },
   "outputs": [],
   "source": [
    "(\n",
    "    df_1[['rooms', 'total_area', 'ceiling_height', 'days_exposition', 'last_price', 'living_area', 'kitchen_area',\n",
    "          'floor', 'floors_total']]\n",
    "    .apply(['count', 'min', 'median', 'max'])\n",
    "    .style.format(\"{:,.2f}\")\n",
    ")"
   ]
  },
  {
   "cell_type": "markdown",
   "metadata": {},
   "source": [
    "---\n",
    "### *Добавление агрегированных признаков*"
   ]
  },
  {
   "cell_type": "markdown",
   "metadata": {},
   "source": [
    "Добавим в таблицу цену одного квадратного метра"
   ]
  },
  {
   "cell_type": "code",
   "execution_count": null,
   "metadata": {
    "pycharm": {
     "is_executing": true
    }
   },
   "outputs": [],
   "source": [
    "df_1['price_one_qm'] = df_1.apply(lambda x: x['last_price'] / x['total_area'], axis=1)"
   ]
  },
  {
   "cell_type": "markdown",
   "metadata": {},
   "source": [
    "Добавим в таблицу день публикации объявления (0 - понедельник, 1 - вторник и т.д.)"
   ]
  },
  {
   "cell_type": "code",
   "execution_count": null,
   "metadata": {
    "pycharm": {
     "is_executing": true
    }
   },
   "outputs": [],
   "source": [
    "df_1['publication_day'] = df_1['first_day_exposition'].dt.weekday"
   ]
  },
  {
   "cell_type": "markdown",
   "metadata": {},
   "source": [
    "Добавим в таблицу месяц публикации объявления"
   ]
  },
  {
   "cell_type": "code",
   "execution_count": null,
   "metadata": {
    "pycharm": {
     "is_executing": true
    }
   },
   "outputs": [],
   "source": [
    "df_1['publication_month'] = df_1['first_day_exposition'].dt.month"
   ]
  },
  {
   "cell_type": "markdown",
   "metadata": {},
   "source": [
    "Добавим в таблицу год публикации объявления"
   ]
  },
  {
   "cell_type": "code",
   "execution_count": null,
   "metadata": {
    "pycharm": {
     "is_executing": true
    }
   },
   "outputs": [],
   "source": [
    "df_1['publication_year'] = df_1['first_day_exposition'].dt.year"
   ]
  },
  {
   "cell_type": "markdown",
   "metadata": {},
   "source": [
    "Добавим в таблицу тип этажа квартиры"
   ]
  },
  {
   "cell_type": "code",
   "execution_count": null,
   "metadata": {
    "pycharm": {
     "is_executing": true
    }
   },
   "outputs": [],
   "source": [
    "def install_type_of_floor(x):\n",
    "    if x['floor'] != x['floors_total'] and x['floor'] != 1:\n",
    "        return 'другой'\n",
    "    elif x['floors_total'] != 1 and x['floor'] == x['floors_total']:\n",
    "        return 'последний'\n",
    "    elif x['floor'] == 1:\n",
    "        return 'первый'"
   ]
  },
  {
   "cell_type": "code",
   "execution_count": null,
   "metadata": {
    "pycharm": {
     "is_executing": true
    }
   },
   "outputs": [],
   "source": [
    "df_1['type_of_floor'] = df_1.apply(install_type_of_floor, axis=1)"
   ]
  },
  {
   "cell_type": "markdown",
   "metadata": {},
   "source": [
    "Добавим в таблицу округленное расстояние в км до центра города"
   ]
  },
  {
   "cell_type": "code",
   "execution_count": null,
   "metadata": {
    "pycharm": {
     "is_executing": true
    }
   },
   "outputs": [],
   "source": [
    "def install_round_city_centers_distance(x):\n",
    "    if math.isnan(x):\n",
    "        return x\n",
    "    return round(x)"
   ]
  },
  {
   "cell_type": "code",
   "execution_count": null,
   "metadata": {
    "pycharm": {
     "is_executing": true
    }
   },
   "outputs": [],
   "source": [
    "df_1['round_city_centers_distance'] = df_1['city_centers_nearest'] \\\n",
    "    .apply(install_round_city_centers_distance)"
   ]
  },
  {
   "cell_type": "markdown",
   "metadata": {},
   "source": [
    "---\n",
    "## Исследование данных для ответа на поставленные вопросы исследования"
   ]
  },
  {
   "cell_type": "markdown",
   "metadata": {},
   "source": [
    "---\n",
    "### *Описание имеющихся параметров*"
   ]
  },
  {
   "cell_type": "code",
   "execution_count": null,
   "metadata": {
    "pycharm": {
     "is_executing": true
    }
   },
   "outputs": [],
   "source": [
    "list_for_description = ['total_area', 'living_area', 'kitchen_area', 'last_price', 'rooms', 'ceiling_height', 'floor',\n",
    "                        'floors_total',\n",
    "                        'city_centers_nearest', 'airports_nearest', 'parks_nearest', 'publication_day',\n",
    "                        'publication_month']\n",
    "for i in list_for_description:\n",
    "    f, (ax_box, ax_hist) = plt.subplots(2, gridspec_kw={\"height_ratios\": (.15, .85)})\n",
    "    sns.boxplot(data=df_1, x=i, ax=ax_box).set(title=f'Распределение значений {i}')\n",
    "    sns.histplot(data=df_1, x=i, ax=ax_hist, bins=50)\n",
    "    ax_box.set(xlabel='')\n",
    "    plt.show()"
   ]
  },
  {
   "cell_type": "code",
   "execution_count": null,
   "metadata": {
    "pycharm": {
     "is_executing": true
    }
   },
   "outputs": [],
   "source": [
    "df_1.query('publication_month == 2')"
   ]
  },
  {
   "cell_type": "code",
   "execution_count": null,
   "metadata": {
    "pycharm": {
     "is_executing": true
    }
   },
   "outputs": [],
   "source": [
    "for year in sorted(df_1.publication_year.unique()):\n",
    "    plt.xlim(1, 12)\n",
    "    sns.histplot(data=df_1[df_1['publication_year'] == year], x='publication_month', bins=12) \\\n",
    "        .set(title=f'Количество публикаций по месяцам в {year}')\n",
    "    plt.show()"
   ]
  },
  {
   "cell_type": "markdown",
   "metadata": {},
   "source": [
    "В 2018 году на этот месяц пришелся пик по количеству подачи объявлений и за 28 дней было подано больше объявлений, в сравнении с другими месяцами этого года. Также видно, что горячим месяцем мы можем называть март и ноябрь, хотя для утверждения о последнем, желательно оценить тенденцию на более большом временном промежутке, возможно 2017 год был своего рода аномалией."
   ]
  },
  {
   "cell_type": "code",
   "execution_count": null,
   "metadata": {
    "pycharm": {
     "is_executing": true
    },
    "scrolled": true
   },
   "outputs": [],
   "source": [
    "sns.histplot(data=df_1, x='type_of_floor').set(title=f'Распределение значений по типу этажа');"
   ]
  },
  {
   "cell_type": "code",
   "execution_count": null,
   "metadata": {
    "pycharm": {
     "is_executing": true
    }
   },
   "outputs": [],
   "source": [
    "df_check.floors_total.hist(bins=30, figsize=(15, 3), range=(4, 12));"
   ]
  },
  {
   "cell_type": "markdown",
   "metadata": {},
   "source": [
    "---\n",
    "#### *Выводы по описанию данных*"
   ]
  },
  {
   "cell_type": "markdown",
   "metadata": {},
   "source": [
    "<div style=\"border:solid green 2px; padding: 5px\">\n",
    "\n",
    "\n",
    "* total_area - основное распределения значений находится в диапазоне от 25 до 80, наличие хвоста справа — значение общей площади стремится к большему значению с падением частоты.\n",
    "* living_area - основное распределения значений находится в диапазоне от 14 до 60, набор данных скошен вправо.\n",
    "* kitchen_area - распределение мультимодально, не нормально, основная часть значений расположилась в диапазоне от 5 до 12.5 м2.\n",
    "* last_price - наша выборка по этому критерию унимодальна, распределение отдаленно напоминает нормальное, но не является им, имеется хвост с права, что совпадает по логике с наличием хвоста у параметра total_area, основной диапазон значений расположился о 2 до 7 млн. р.\n",
    "* rooms - на рынке преобладают одно- и двухкомнатные, трехкомнатные квартиры в порядке убывания, с возрастанием количества комнат резко уменьшается частота.\n",
    "* ceiling_height - есть два значения высоты потолков, которые чаще всего встречаются.\n",
    "* floor - из-за большой распространенности 5 этажного жилья основное распределение значений лежит именно в этом диапазоне, и т.к. множества 5 этажных и высоко этажных зданий накладываются друг на друга, что в свою очередь увеличивает частоту попадания значения в диапазон 1-5.\n",
    "* floors_total - преобладает 5 и 9 этажная застройка.\n",
    "* city_centers_nearest - большая часть значений расположена в диапазоне 9-20 км, также есть всплеск значений на уровне 5 км.\n",
    "* airports_nearest - мода распределения находится на ~15 км, с увеличением отдаленности от аэропорта частота значений падает, есть всплеск в районе 35 км от аэропорта, что может говорить о более плотной застройке на данном значении отдаленности.\n",
    "* parks_nearest - распределение значений можно назвать нормальным, с большим количеством встречаемых значений в диапазоне от 150 м до 800 м.\n",
    "* publication_day - значения вероятности публикации распределены равномерно, кроме сильного снижения активности на выходных днях. Это можно обосновать тем, что значительная часть недвижимости публикуется через риелторские агентства, у которых суббота и воскресенье — выходные дни.\n",
    "* publication_month - можем отметить падение активности в два зимних месяца — январь, декабрь, что можно обосновать тем, что люди заняты предновогодней суетой и не планируют в данное крупных сделок по недвижимости. Самая сильная просадка активности отмечена в мае, данную точку можно охарактеризовать, как начало сезона отпусков, плюс у многих людей в это время дачный сезон в самом разгаре.\n",
    "* type_of_floor - ожидаемо, что пиковая частота значений лежит в категории \"другой\".\n"
   ]
  },
  {
   "cell_type": "markdown",
   "metadata": {},
   "source": [
    "---\n",
    "### *Проанализируем, как быстро продавались квартиры (столбец days_exposition)*"
   ]
  },
  {
   "cell_type": "code",
   "execution_count": null,
   "metadata": {
    "pycharm": {
     "is_executing": true
    }
   },
   "outputs": [],
   "source": [
    "f, (ax_box, ax_hist) = plt.subplots(2, gridspec_kw={\"height_ratios\": (.15, .85)})\n",
    "sns.boxplot(data=df_1, x='days_exposition', ax=ax_box).set(\n",
    "    title=f'Распределение времени продажи')\n",
    "sns.histplot(data=df_1, x='days_exposition', ax=ax_hist, bins=50)\n",
    "ax_box.set(xlabel='')\n",
    "plt.show()"
   ]
  },
  {
   "cell_type": "markdown",
   "metadata": {},
   "source": [
    "По общему распределению можно сделать вывод, что пиковое количество продаж лежит в первые ~80 дней. Чтобы увидеть это более детально, зададим определенные параметры отображения."
   ]
  },
  {
   "cell_type": "code",
   "execution_count": null,
   "metadata": {
    "pycharm": {
     "is_executing": true
    }
   },
   "outputs": [],
   "source": [
    "f, (ax_box, ax_hist) = plt.subplots(2, gridspec_kw={\"height_ratios\": (.15, .85)})\n",
    "sns.boxplot(data=df_1, x='days_exposition', ax=ax_box).set(\n",
    "    title=f'Распределение времени продажи')\n",
    "sns.histplot(data=df_1, x='days_exposition', ax=ax_hist, bins=50)\n",
    "ax_box.set(xlabel='')\n",
    "plt.xlim(0, 600)\n",
    "plt.show()"
   ]
  },
  {
   "cell_type": "markdown",
   "metadata": {},
   "source": [
    "Изменив масштаб выводимых значений уже можно сделать более точные выводы, но график говорит нам лишь о каких-то закономерностях, точные значения мы можем получить, применив к данным определенные методы(вычисления).\n",
    "Отобразим медианное и среднее значение для выбранного распределения."
   ]
  },
  {
   "cell_type": "code",
   "execution_count": null,
   "metadata": {
    "pycharm": {
     "is_executing": true
    }
   },
   "outputs": [],
   "source": [
    "print(f'Медианное значение - {df_1[\"days_exposition\"].median()}',\n",
    "      f'Среднее значение - {df_1[\"days_exposition\"].mean()}',\n",
    "      sep='\\n')"
   ]
  },
  {
   "cell_type": "code",
   "execution_count": null,
   "metadata": {
    "pycharm": {
     "is_executing": true
    }
   },
   "outputs": [],
   "source": [
    "df_1.days_exposition.describe()"
   ]
  },
  {
   "cell_type": "markdown",
   "metadata": {},
   "source": [
    "Оценим в более подходящем масштабе самый распространенный диапазон значений параметра время продажи."
   ]
  },
  {
   "cell_type": "code",
   "execution_count": null,
   "metadata": {
    "pycharm": {
     "is_executing": true
    }
   },
   "outputs": [],
   "source": [
    "df_1.days_exposition.hist(bins=100, figsize=(15, 3), range=(3, 125));"
   ]
  },
  {
   "cell_type": "markdown",
   "metadata": {},
   "source": [
    "Проанализируем, как изменялась скорость продажи по годам."
   ]
  },
  {
   "cell_type": "code",
   "execution_count": null,
   "metadata": {
    "pycharm": {
     "is_executing": true
    }
   },
   "outputs": [],
   "source": [
    "for year in sorted(df_1.publication_year.unique()):\n",
    "    f, (ax_box, ax_hist) = plt.subplots(2, gridspec_kw={\"height_ratios\": (.15, .85)})\n",
    "    sns.boxplot(data=df_1[df_1['publication_year'] == year], x='days_exposition', ax=ax_box).set(\n",
    "        title=f'Время продажи в {year}')\n",
    "    sns.histplot(data=df_1[df_1['publication_year'] == year], x='days_exposition', ax=ax_hist, bins=100)\n",
    "    ax_box.set(xlabel='')\n",
    "    plt.xlim(df_1[df_1['publication_year'] == year]['days_exposition'].min(),\n",
    "             df_1[df_1['publication_year'] == year]['days_exposition'].max())\n",
    "    plt.show()"
   ]
  },
  {
   "cell_type": "code",
   "execution_count": null,
   "metadata": {
    "pycharm": {
     "is_executing": true
    }
   },
   "outputs": [],
   "source": [
    "f, (ax_box, ax_hist) = plt.subplots(2, gridspec_kw={\"height_ratios\": (.15, .85)})\n",
    "sns.boxplot(data=df_1[df_1['publication_year'] == 2016], x='days_exposition', ax=ax_box).set(\n",
    "    title=f'Время продажи в {2016}')\n",
    "sns.histplot(data=df_1[df_1['publication_year'] == 2016], x='days_exposition', ax=ax_hist, bins=300)\n",
    "ax_box.set(xlabel='')\n",
    "plt.xlim(40,\n",
    "         100)\n",
    "plt.show()"
   ]
  },
  {
   "cell_type": "markdown",
   "metadata": {},
   "source": [
    "#### *Выводы по анализу времени, затраченного на продажу квартиры*"
   ]
  },
  {
   "cell_type": "markdown",
   "metadata": {},
   "source": [
    "<div style=\"border:solid green 2px; padding: 5px\">\n",
    "\n",
    "\n",
    "Третий квартиль распределения равняется 219 и 75 % всех значений лежат в этом диапазоне, то есть 75 % квартир продаются/снимаются с объявления за 219 дней, в целом, все то, что лежит за 3 квартилем можно считать долгим временем продажи.\n",
    "Аномально долгими мы можем считать значения, которые выходят за предел 1.5 * межквартильный размах - 500 дней+.\n",
    "Так как медианное значение не чувствительно к выбросам, то мы можем говорить, что на значении медианы снимается с продажи половина из выставляемых квартир - 91 день.\n",
    "Быстрой продажей можно считать значение, которое лежит в диапазоне от 0 дня, до медианного значения.\n",
    "Прослеживаются две моды на значениях 45 и 60 дней, данные временные лимиты установлены `Яндекс.Недвижимость` при публикации объявления бесплатного типа, по истечению которых объявление снимается с публикации.\n",
    "Проанализировав скорость продаж по годам можно прийти к выводам, что происходил рост популярности площадки от года к году, а в 2016 году платформой были установлены новые правила размещения объявлений двух типов – бесплатные и платные. В первом типе объявлений есть лимит на срок размещения, это и оказывает решающее влияние на распределение времени продажи и формирует две обнаруженные моды. В 2019 такой малый диапазон значений (0:100+) возможно связан с тем временем, когда был отгружен датасет."
   ]
  },
  {
   "cell_type": "markdown",
   "metadata": {},
   "source": [
    "---\n",
    "### *Проанализируем, какие факторы больше всего влияют на общую (полную) стоимость объекта?*"
   ]
  },
  {
   "cell_type": "code",
   "execution_count": null,
   "metadata": {
    "pycharm": {
     "is_executing": true
    }
   },
   "outputs": [],
   "source": [
    "for i in ['total_area', 'living_area', 'kitchen_area']:\n",
    "    sns.scatterplot(data=df_1, x=i, y='last_price', alpha=0.07).set(\n",
    "        title=f'Корреляции цены объекта с {i}')\n",
    "    plt.show()"
   ]
  },
  {
   "cell_type": "code",
   "execution_count": null,
   "metadata": {
    "pycharm": {
     "is_executing": true
    }
   },
   "outputs": [],
   "source": [
    "sns.barplot(data=df_1, x='rooms', y='last_price').set(\n",
    "    title=f'Зависимость цены объекта от количества комнат');"
   ]
  },
  {
   "cell_type": "code",
   "execution_count": null,
   "metadata": {
    "pycharm": {
     "is_executing": true
    }
   },
   "outputs": [],
   "source": [
    "for i in ['type_of_floor', 'publication_day', 'publication_month']:\n",
    "    plt.ylim(4.4, 6.4)\n",
    "    sns.barplot(data=df_1, x=i, y='last_price').set(\n",
    "        title=f'Зависимость цены объекта от {i}')\n",
    "    plt.show()"
   ]
  },
  {
   "cell_type": "code",
   "execution_count": null,
   "metadata": {
    "pycharm": {
     "is_executing": true
    }
   },
   "outputs": [],
   "source": [
    "pub_year_piv_tbl = df_1.pivot_table(index='publication_year',\n",
    "                                    aggfunc={'total_area': ['count', 'mean'], 'last_price': 'mean'})\n",
    "pub_year_piv_tbl.columns = ['last_price_mean', 'total_area_count', 'total_area_mean']"
   ]
  },
  {
   "cell_type": "code",
   "execution_count": null,
   "metadata": {
    "pycharm": {
     "is_executing": true
    }
   },
   "outputs": [],
   "source": [
    "sns.barplot(data=pub_year_piv_tbl, x=pub_year_piv_tbl.index, y='total_area_count').set(\n",
    "    title=f'Изменение количества объявлений по годам');\n",
    "df_1.query('publication_year == 2014').shape[0]"
   ]
  },
  {
   "cell_type": "code",
   "execution_count": null,
   "metadata": {
    "pycharm": {
     "is_executing": true
    }
   },
   "outputs": [],
   "source": [
    "plt.ylim(4, 14)\n",
    "sns.barplot(data=df_1, x='publication_year', y='last_price').set(\n",
    "    title=f'Изменение средней цены объекта по годам');"
   ]
  },
  {
   "cell_type": "code",
   "execution_count": null,
   "metadata": {
    "pycharm": {
     "is_executing": true
    }
   },
   "outputs": [],
   "source": [
    "plt.ylim(40, 100)\n",
    "sns.barplot(data=df_1, x='publication_year', y='total_area').set(\n",
    "    title=f'Изменение средней площади объекта по годам');"
   ]
  },
  {
   "cell_type": "markdown",
   "metadata": {},
   "source": [
    "#### *Выводы по исследованию влияния факторов на общую (полную) стоимость объекта*"
   ]
  },
  {
   "cell_type": "markdown",
   "metadata": {},
   "source": [
    "<div style=\"border:solid green 2px; padding: 5px\">\n",
    "\n",
    "* Среди первых трех критериев наибольшее влияние на значение last_price оказывает параметр total_area, где видна прямая корреляция, на двух других графиках также просматривается положительная корреляция - с увеличением площади происходит рост цены.\n",
    "* Видна сильная корреляция со значением количества комнат, с ростом количества комнат увеличивается стоимость жилья.\n",
    "* По распределению заметно предпочтение людей к типу этажа — другой, первый и последний этаж в сравнении с другими не так привлекательны по ряду причин.\n",
    "* Распределение среднего значения цены по дням близко к равномерному с некоторым падением на выходных, возможно собственники выставляют несколько заниженную цену по рынку, чем риелторские агентства, но это тема для отдельного исследования.\n",
    "* При анализе распределения среднего значения цены по месяцам видна значительная просадка в районе июня, что как раз можно связать с некоторым падением активности на рынке недвижимости, вызванным, например летним сезоном отпусков.\n",
    "* Средние значения цены по годам и средней площади получили такое распределения из-за малого количества объявлений, которые были выложены в первые два года (2014-2015). Когда количество объявлений в последующие годы увеличилось, мы получили распределение цен, среднее значений которых стремится к ожидаемому среднему общей генеральной совокупности."
   ]
  },
  {
   "cell_type": "markdown",
   "metadata": {},
   "source": [
    "---\n",
    "### Найти среднюю цену одного квадратного метра в 10 населённых пунктах с наибольшим числом объявлений. Выделить населённые пункты с самой высокой и низкой стоимостью квадратного метра."
   ]
  },
  {
   "cell_type": "code",
   "execution_count": null,
   "metadata": {
    "pycharm": {
     "is_executing": true
    },
    "scrolled": true
   },
   "outputs": [],
   "source": [
    "df_price_one = df_1.pivot_table(index='locality_name', values='price_one_qm', aggfunc=['count', 'mean'])\n",
    "df_price_one.columns = ['count', 'mean']\n",
    "df_price_one.sort_values(by='count', ascending=False, inplace=True)\n",
    "df_price_one['mean'] = round(df_price_one['mean'] * 10 ** 6)\n",
    "df_price_one['mean'] = df_price_one['mean'].astype('int')\n",
    "df_top_ten = df_price_one[:10].sort_values(by='mean', ascending=False)\n",
    "df_top_ten['mean']"
   ]
  },
  {
   "cell_type": "code",
   "execution_count": null,
   "metadata": {
    "pycharm": {
     "is_executing": true
    }
   },
   "outputs": [],
   "source": [
    "sns.barplot(data=df_top_ten, y=df_top_ten.index, x='mean').set(\n",
    "    title=f'Top-10 с значением price_one_qm');"
   ]
  },
  {
   "cell_type": "markdown",
   "metadata": {},
   "source": [
    "Населённый пункт с самой высокой стоимостью квадратного метра."
   ]
  },
  {
   "cell_type": "code",
   "execution_count": null,
   "metadata": {
    "pycharm": {
     "is_executing": true
    }
   },
   "outputs": [],
   "source": [
    "df_price_one.sort_values(by='mean', ascending=False).head(1)"
   ]
  },
  {
   "cell_type": "markdown",
   "metadata": {},
   "source": [
    "Населённый пункт с самой низкой стоимостью квадратного метра."
   ]
  },
  {
   "cell_type": "code",
   "execution_count": null,
   "metadata": {
    "pycharm": {
     "is_executing": true
    }
   },
   "outputs": [],
   "source": [
    "df_price_one.sort_values(by='mean', ascending=False).tail(1)"
   ]
  },
  {
   "cell_type": "markdown",
   "metadata": {},
   "source": [
    "---\n",
    "### *Выделим квартиры в Санкт-Петербурге и вычислим среднюю цену каждого километра. Оценим, как стоимость объектов зависит от расстояния до центра города.*"
   ]
  },
  {
   "cell_type": "code",
   "execution_count": null,
   "metadata": {
    "pycharm": {
     "is_executing": true
    }
   },
   "outputs": [],
   "source": [
    "df_mean_km_price = df_1[df_1['locality_name'] == 'санкт-петербург'].pivot_table(\n",
    "    index='round_city_centers_distance', values='last_price', aggfunc='mean')\n",
    "df_mean_km_price"
   ]
  },
  {
   "cell_type": "code",
   "execution_count": null,
   "metadata": {
    "pycharm": {
     "is_executing": true
    }
   },
   "outputs": [],
   "source": [
    "df_mean_km_price.plot(title='Зависимость стоимости объекта от расстояния до центра города', style='o')"
   ]
  },
  {
   "cell_type": "markdown",
   "metadata": {},
   "source": [
    "Проанализируем пиковое значение на 27 км удаленности."
   ]
  },
  {
   "cell_type": "code",
   "execution_count": null,
   "metadata": {
    "pycharm": {
     "is_executing": true
    }
   },
   "outputs": [],
   "source": [
    "df_1.query('round_city_centers_distance == 27 and locality_name == \"санкт-петербург\"')"
   ]
  },
  {
   "cell_type": "markdown",
   "metadata": {},
   "source": [
    "Имеем всего 2 записи, на основе которых было рассчитано среднее значение для этого расстояния - 27 км. Возможно ошибочное заполнение первым пользователем, это и сместило столь сильно точку вверх на графике.\n",
    "Проанализируем причину провала в цене на 3 км удаленности от центра и рост к 5 км. Ранее мы выяснили то, что есть сильная зависимость между типом этажа квартиры и ее стоимостью, сильнейшее различие наблюдается между типом `другой` и `первый`.\n",
    "Оценим, как соотносятся между собой количества объявлений по типам квартир на значениях 3 км и 5 км."
   ]
  },
  {
   "cell_type": "code",
   "execution_count": null,
   "metadata": {
    "pycharm": {
     "is_executing": true
    }
   },
   "outputs": [],
   "source": [
    "for i in range(7):\n",
    "    temp = Counter(\n",
    "        df_1.query('round_city_centers_distance == @i and locality_name == \"санкт-петербург\"')['type_of_floor'])\n",
    "    print(\n",
    "        f'Соотношение количества квартир с типом этажа \"другой\" к типу \"первый\" равняется '\n",
    "        f'{temp[\"другой\"] / temp[\"первый\"]:.2f} с заданным расстоянием от центра города {i} км.')"
   ]
  },
  {
   "cell_type": "markdown",
   "metadata": {},
   "source": [
    "#### *Выводы по оценке того, как стоимость объектов зависит от расстояния до центра города.*"
   ]
  },
  {
   "cell_type": "markdown",
   "metadata": {},
   "source": [
    "<div style=\"border:solid green 2px; padding: 5px\">\n",
    "\n",
    "Видна очень сильная зависимость цены от расстояния до центра города, которая сохраняется вплоть до 26 км. На 27-м км встречается значение, которое отклоняется от этой зависимости. Это связано с малым количеством данных для данного показателя удаленности от центра города, где одно из имеющихся значений цены объекта возможно ошибочно заполнено не совсем корректно.\n",
    "Начиная со значения отдаленности в 2 км от центра заметно уменьшение соотношения количеств двух типов квартир, что говорит нам о том, что либо в этом диапазоне было выставлено больше квартир с типом этажа - `первый`, либо меньшее количество объявлений с типом этажа - `другой`. На 4 км это соотношение восстанавливается до значения 6.25, а на 5 км отображено обратное преобладание количества квартир с типом этажа – другой."
   ]
  },
  {
   "cell_type": "markdown",
   "metadata": {},
   "source": [
    "---\n",
    "## Общий вывод по исследованию"
   ]
  },
  {
   "cell_type": "markdown",
   "metadata": {},
   "source": [
    "<div style=\"border:solid orange 2px; padding: 5px\">\n",
    "\n",
    "<div class=\"alert alert-info\"> <b>При проведении исследования (на основе полученных данных) выполнено:</b></div>\n",
    "\n",
    "- Описание имеющихся параметров\n",
    "- Оценка времени, затраченного на продажу квартиры:\n",
    "    - Прослеживаются две моды на значениях 45 и 60 дней, данные временные лимиты установлены `Яндекс.Недвижимость` при публикации объявления бесплатного типа, по истечению которых объявление снимается с публикации.\n",
    "    - Проанализировав скорость продаж по годам можно прийти к выводам, что происходил рост популярности площадки от года к году, а в 2016 году платформой были установлены новые правила размещения объявлений двух типов – бесплатные и платные. В первом типе объявлений есть лимит на срок размещения, это и оказывает решающее влияние на распределение времени продажи и формирует две обнаруженные моды.\n",
    "- Рассмотрены факторы больше всего влияющие на общую (полную) стоимость объекта, выделим те, в которых отражены сильные зависимости, либо обнаружены интересные тенденции:\n",
    "    - Влияние общей площади\n",
    "    - Количество комнат\n",
    "    - Тип этажа: заметно предпочтение людей к типу этажа — другой, первый и последний этаж в сравнении с другими не так привлекательны по ряду причин.\n",
    "    - Месяц публикации объявления: обнаружена значительная просадка в районе июня, что как раз можно связать с некоторым падением активности на рынке недвижимости, вызванным, например летним сезоном отпусков.\n",
    "    - При анализе среднего значения цены по годам и средней площади получили распределения значений, которые скошены вправо. Было установлено, что это произошло из-за малого количества объявлений, которые были выложены в первые два года (2014-2015). Когда количество объявлений в последующие годы увеличилось, мы получили распределение цен, среднее значений которых стремится к ожидаемому среднему общей генеральной совокупности.\n",
    "- Посчитана средняя цена одного квадратного метра в 10 населённых пунктах с наибольшим числом объявлений и выделены населённые пункты с самой высокой и низкой стоимостью квадратного метра.\n",
    "    - Выведен топ-10 населенных пунктов с наибольшим числом объявлений, для каждой позиции которого рассчитана средняя цена одного квадратного метра, выполнена сортировка от наибольшей средней стоимости одного квадратного метра к наименьшей.\n",
    "    - Населённый пункт с самой высокой стоимостью квадратного метра: Зеленогорск - 115991 рублей.\n",
    "    - Населённый пункт с самой низкой стоимостью квадратного метра: Совхозный - 12556 рублей.\n",
    "- Оценена зависимость, как стоимость объектов зависит от расстояния до центра города (анализ проведен для города Санкт-Петербург):\n",
    "    - Отображена зависимость цены от расстояния до центра города, которая сохраняется вплоть до 26 км. Проанализированы отклонения от обнаруженной зависимости.\n"
   ]
  }
 ],
 "metadata": {
  "ExecuteTimeLog": [
   {
    "duration": 1159,
    "start_time": "2023-01-31T11:13:31.919Z"
   },
   {
    "duration": 79,
    "start_time": "2023-01-31T11:13:33.079Z"
   },
   {
    "duration": 10,
    "start_time": "2023-01-31T11:13:33.159Z"
   },
   {
    "duration": 304,
    "start_time": "2023-01-31T11:13:33.171Z"
   },
   {
    "duration": 34,
    "start_time": "2023-01-31T11:13:33.477Z"
   },
   {
    "duration": 22,
    "start_time": "2023-01-31T11:13:33.512Z"
   },
   {
    "duration": 13,
    "start_time": "2023-01-31T11:13:33.535Z"
   },
   {
    "duration": 69,
    "start_time": "2023-01-31T11:13:33.549Z"
   },
   {
    "duration": 6,
    "start_time": "2023-01-31T11:13:33.620Z"
   },
   {
    "duration": 5,
    "start_time": "2023-01-31T11:13:33.628Z"
   },
   {
    "duration": 18,
    "start_time": "2023-01-31T11:13:33.634Z"
   },
   {
    "duration": 13,
    "start_time": "2023-01-31T11:13:33.653Z"
   },
   {
    "duration": 3,
    "start_time": "2023-01-31T11:13:33.667Z"
   },
   {
    "duration": 227,
    "start_time": "2023-01-31T11:13:33.671Z"
   },
   {
    "duration": 74,
    "start_time": "2023-01-31T11:13:33.906Z"
   },
   {
    "duration": 6,
    "start_time": "2023-01-31T11:13:33.981Z"
   },
   {
    "duration": 67,
    "start_time": "2023-01-31T11:13:33.988Z"
   },
   {
    "duration": 4,
    "start_time": "2023-01-31T11:13:34.057Z"
   },
   {
    "duration": 124,
    "start_time": "2023-01-31T11:13:34.063Z"
   },
   {
    "duration": 79,
    "start_time": "2023-01-31T11:13:34.189Z"
   },
   {
    "duration": 27,
    "start_time": "2023-01-31T11:13:34.270Z"
   },
   {
    "duration": 8,
    "start_time": "2023-01-31T11:13:34.299Z"
   },
   {
    "duration": 15,
    "start_time": "2023-01-31T11:13:34.309Z"
   },
   {
    "duration": 6,
    "start_time": "2023-01-31T11:13:34.349Z"
   },
   {
    "duration": 9,
    "start_time": "2023-01-31T11:13:34.357Z"
   },
   {
    "duration": 21,
    "start_time": "2023-01-31T11:13:34.368Z"
   },
   {
    "duration": 9,
    "start_time": "2023-01-31T11:13:34.390Z"
   },
   {
    "duration": 11,
    "start_time": "2023-01-31T11:13:34.403Z"
   },
   {
    "duration": 3,
    "start_time": "2023-01-31T11:13:34.415Z"
   },
   {
    "duration": 1121,
    "start_time": "2023-01-31T11:13:34.419Z"
   },
   {
    "duration": 8,
    "start_time": "2023-01-31T11:13:35.542Z"
   },
   {
    "duration": 79,
    "start_time": "2023-01-31T11:13:35.551Z"
   },
   {
    "duration": 20,
    "start_time": "2023-01-31T11:13:35.631Z"
   },
   {
    "duration": 14,
    "start_time": "2023-01-31T11:13:35.652Z"
   },
   {
    "duration": 17,
    "start_time": "2023-01-31T11:13:35.668Z"
   },
   {
    "duration": 191,
    "start_time": "2023-01-31T11:13:35.687Z"
   },
   {
    "duration": 292,
    "start_time": "2023-01-31T11:13:35.880Z"
   },
   {
    "duration": 13,
    "start_time": "2023-01-31T11:13:36.174Z"
   },
   {
    "duration": 14,
    "start_time": "2023-01-31T11:13:36.189Z"
   },
   {
    "duration": 5,
    "start_time": "2023-01-31T11:13:36.205Z"
   },
   {
    "duration": 6,
    "start_time": "2023-01-31T11:13:36.211Z"
   },
   {
    "duration": 2688,
    "start_time": "2023-01-31T11:13:36.218Z"
   },
   {
    "duration": 22,
    "start_time": "2023-01-31T11:13:38.907Z"
   },
   {
    "duration": 19,
    "start_time": "2023-01-31T11:13:38.930Z"
   },
   {
    "duration": 13,
    "start_time": "2023-01-31T11:13:38.951Z"
   },
   {
    "duration": 4,
    "start_time": "2023-01-31T11:13:38.966Z"
   },
   {
    "duration": 23,
    "start_time": "2023-01-31T11:13:38.971Z"
   },
   {
    "duration": 3,
    "start_time": "2023-01-31T11:13:38.996Z"
   },
   {
    "duration": 2829,
    "start_time": "2023-01-31T11:13:39.001Z"
   },
   {
    "duration": 39,
    "start_time": "2023-01-31T11:13:41.832Z"
   },
   {
    "duration": 7,
    "start_time": "2023-01-31T11:13:41.872Z"
   },
   {
    "duration": 16,
    "start_time": "2023-01-31T11:13:41.880Z"
   },
   {
    "duration": 18,
    "start_time": "2023-01-31T11:13:41.897Z"
   },
   {
    "duration": 49,
    "start_time": "2023-01-31T11:13:41.916Z"
   },
   {
    "duration": 15,
    "start_time": "2023-01-31T11:13:41.966Z"
   },
   {
    "duration": 25,
    "start_time": "2023-01-31T11:13:41.983Z"
   },
   {
    "duration": 15,
    "start_time": "2023-01-31T11:13:42.009Z"
   },
   {
    "duration": 36,
    "start_time": "2023-01-31T11:13:42.048Z"
   },
   {
    "duration": 14,
    "start_time": "2023-01-31T11:13:42.085Z"
   },
   {
    "duration": 52,
    "start_time": "2023-01-31T11:13:42.100Z"
   },
   {
    "duration": 15,
    "start_time": "2023-01-31T11:13:42.153Z"
   },
   {
    "duration": 13,
    "start_time": "2023-01-31T11:13:42.169Z"
   },
   {
    "duration": 14,
    "start_time": "2023-01-31T11:13:42.183Z"
   },
   {
    "duration": 14,
    "start_time": "2023-01-31T11:13:42.199Z"
   },
   {
    "duration": 73,
    "start_time": "2023-01-31T11:13:42.215Z"
   },
   {
    "duration": 3,
    "start_time": "2023-01-31T11:13:42.291Z"
   },
   {
    "duration": 6,
    "start_time": "2023-01-31T11:13:42.296Z"
   },
   {
    "duration": 33266,
    "start_time": "2023-01-31T11:13:42.303Z"
   },
   {
    "duration": 14,
    "start_time": "2023-01-31T11:14:15.571Z"
   },
   {
    "duration": 19,
    "start_time": "2023-01-31T11:14:15.587Z"
   },
   {
    "duration": 7,
    "start_time": "2023-01-31T11:14:15.608Z"
   },
   {
    "duration": 52,
    "start_time": "2023-01-31T11:14:15.616Z"
   },
   {
    "duration": 6,
    "start_time": "2023-01-31T11:14:15.670Z"
   },
   {
    "duration": 77023,
    "start_time": "2023-01-31T11:14:15.677Z"
   },
   {
    "duration": 6,
    "start_time": "2023-01-31T11:15:32.701Z"
   },
   {
    "duration": 11,
    "start_time": "2023-01-31T11:15:32.709Z"
   },
   {
    "duration": 48,
    "start_time": "2023-01-31T11:15:32.722Z"
   },
   {
    "duration": 3,
    "start_time": "2023-01-31T11:15:32.772Z"
   },
   {
    "duration": 15,
    "start_time": "2023-01-31T11:15:32.777Z"
   },
   {
    "duration": 4,
    "start_time": "2023-01-31T11:15:32.794Z"
   },
   {
    "duration": 56674,
    "start_time": "2023-01-31T11:15:32.800Z"
   },
   {
    "duration": 11,
    "start_time": "2023-01-31T11:16:29.481Z"
   },
   {
    "duration": 23,
    "start_time": "2023-01-31T11:16:29.493Z"
   },
   {
    "duration": 29,
    "start_time": "2023-01-31T11:16:29.517Z"
   },
   {
    "duration": 31,
    "start_time": "2023-01-31T11:16:29.547Z"
   },
   {
    "duration": 27,
    "start_time": "2023-01-31T11:16:29.580Z"
   },
   {
    "duration": 7,
    "start_time": "2023-01-31T11:16:29.608Z"
   },
   {
    "duration": 6,
    "start_time": "2023-01-31T11:16:29.617Z"
   },
   {
    "duration": 25,
    "start_time": "2023-01-31T11:16:29.624Z"
   },
   {
    "duration": 128,
    "start_time": "2023-01-31T11:16:29.650Z"
   },
   {
    "duration": 104,
    "start_time": "2023-01-31T11:16:29.780Z"
   },
   {
    "duration": 8,
    "start_time": "2023-01-31T11:16:29.886Z"
   },
   {
    "duration": 13,
    "start_time": "2023-01-31T11:16:29.896Z"
   },
   {
    "duration": 37,
    "start_time": "2023-01-31T11:16:29.910Z"
   },
   {
    "duration": 80,
    "start_time": "2023-01-31T11:16:29.948Z"
   },
   {
    "duration": 151,
    "start_time": "2023-01-31T11:16:30.030Z"
   },
   {
    "duration": 86,
    "start_time": "2023-01-31T11:16:30.182Z"
   },
   {
    "duration": 10,
    "start_time": "2023-01-31T11:16:30.270Z"
   },
   {
    "duration": 103,
    "start_time": "2023-01-31T11:16:30.282Z"
   },
   {
    "duration": 102,
    "start_time": "2023-01-31T11:16:30.387Z"
   },
   {
    "duration": 9,
    "start_time": "2023-01-31T11:16:30.491Z"
   },
   {
    "duration": 42,
    "start_time": "2023-01-31T11:16:30.502Z"
   },
   {
    "duration": 113,
    "start_time": "2023-01-31T11:16:30.546Z"
   },
   {
    "duration": 105,
    "start_time": "2023-01-31T11:16:30.661Z"
   },
   {
    "duration": 24,
    "start_time": "2023-01-31T11:16:30.767Z"
   },
   {
    "duration": 8,
    "start_time": "2023-01-31T11:16:30.793Z"
   },
   {
    "duration": 109,
    "start_time": "2023-01-31T11:16:30.802Z"
   },
   {
    "duration": 99,
    "start_time": "2023-01-31T11:16:30.913Z"
   },
   {
    "duration": 107,
    "start_time": "2023-01-31T11:16:31.014Z"
   },
   {
    "duration": 11,
    "start_time": "2023-01-31T11:16:31.123Z"
   },
   {
    "duration": 83,
    "start_time": "2023-01-31T11:16:31.148Z"
   },
   {
    "duration": 23,
    "start_time": "2023-01-31T11:16:31.232Z"
   },
   {
    "duration": 95,
    "start_time": "2023-01-31T11:16:31.256Z"
   },
   {
    "duration": 24,
    "start_time": "2023-01-31T11:16:31.353Z"
   },
   {
    "duration": 8,
    "start_time": "2023-01-31T11:16:31.378Z"
   },
   {
    "duration": 9,
    "start_time": "2023-01-31T11:16:31.388Z"
   },
   {
    "duration": 13,
    "start_time": "2023-01-31T11:16:31.398Z"
   },
   {
    "duration": 16,
    "start_time": "2023-01-31T11:16:31.412Z"
   },
   {
    "duration": 62,
    "start_time": "2023-01-31T11:16:31.430Z"
   },
   {
    "duration": 346,
    "start_time": "2023-01-31T11:16:31.494Z"
   },
   {
    "duration": 8,
    "start_time": "2023-01-31T11:16:31.841Z"
   },
   {
    "duration": 339,
    "start_time": "2023-01-31T11:16:31.850Z"
   },
   {
    "duration": 291,
    "start_time": "2023-01-31T11:16:32.191Z"
   },
   {
    "duration": 133,
    "start_time": "2023-01-31T11:16:32.483Z"
   },
   {
    "duration": 130,
    "start_time": "2023-01-31T11:16:32.617Z"
   },
   {
    "duration": 28,
    "start_time": "2023-01-31T11:16:32.749Z"
   },
   {
    "duration": 239,
    "start_time": "2023-01-31T11:16:32.779Z"
   },
   {
    "duration": 5,
    "start_time": "2023-01-31T11:16:33.020Z"
   },
   {
    "duration": 8,
    "start_time": "2023-01-31T11:16:33.026Z"
   },
   {
    "duration": 13,
    "start_time": "2023-01-31T11:16:33.035Z"
   },
   {
    "duration": 3,
    "start_time": "2023-01-31T11:16:33.049Z"
   },
   {
    "duration": 302,
    "start_time": "2023-01-31T11:16:33.054Z"
   },
   {
    "duration": 3,
    "start_time": "2023-01-31T11:16:33.357Z"
   },
   {
    "duration": 19,
    "start_time": "2023-01-31T11:16:33.361Z"
   },
   {
    "duration": 3079,
    "start_time": "2023-01-31T11:16:33.381Z"
   },
   {
    "duration": 149,
    "start_time": "2023-01-31T11:16:36.462Z"
   },
   {
    "duration": 275,
    "start_time": "2023-01-31T11:16:36.612Z"
   },
   {
    "duration": 285,
    "start_time": "2023-01-31T11:16:36.889Z"
   },
   {
    "duration": 6,
    "start_time": "2023-01-31T11:16:37.175Z"
   },
   {
    "duration": 25,
    "start_time": "2023-01-31T11:16:37.182Z"
   },
   {
    "duration": 540,
    "start_time": "2023-01-31T11:16:37.209Z"
   },
   {
    "duration": 342,
    "start_time": "2023-01-31T11:16:37.751Z"
   },
   {
    "duration": 1450,
    "start_time": "2023-01-31T11:16:38.094Z"
   },
   {
    "duration": 25,
    "start_time": "2023-01-31T11:16:39.548Z"
   },
   {
    "duration": 20,
    "start_time": "2023-01-31T11:16:39.574Z"
   },
   {
    "duration": 171,
    "start_time": "2023-01-31T11:16:39.596Z"
   },
   {
    "duration": 7,
    "start_time": "2023-01-31T11:42:34.114Z"
   },
   {
    "duration": 9,
    "start_time": "2023-01-31T11:53:15.146Z"
   },
   {
    "duration": 5,
    "start_time": "2023-01-31T11:53:44.851Z"
   },
   {
    "duration": 12,
    "start_time": "2023-01-31T11:59:37.510Z"
   },
   {
    "duration": 1117,
    "start_time": "2023-01-31T12:01:48.465Z"
   },
   {
    "duration": 79,
    "start_time": "2023-01-31T12:01:49.584Z"
   },
   {
    "duration": 10,
    "start_time": "2023-01-31T12:01:49.664Z"
   },
   {
    "duration": 307,
    "start_time": "2023-01-31T12:01:49.675Z"
   },
   {
    "duration": 37,
    "start_time": "2023-01-31T12:01:49.985Z"
   },
   {
    "duration": 27,
    "start_time": "2023-01-31T12:01:50.024Z"
   },
   {
    "duration": 5,
    "start_time": "2023-01-31T12:01:50.052Z"
   },
   {
    "duration": 69,
    "start_time": "2023-01-31T12:01:50.058Z"
   },
   {
    "duration": 22,
    "start_time": "2023-01-31T12:01:50.128Z"
   },
   {
    "duration": 7,
    "start_time": "2023-01-31T12:01:50.151Z"
   },
   {
    "duration": 19,
    "start_time": "2023-01-31T12:01:50.160Z"
   },
   {
    "duration": 15,
    "start_time": "2023-01-31T12:01:50.180Z"
   },
   {
    "duration": 4,
    "start_time": "2023-01-31T12:01:50.197Z"
   },
   {
    "duration": 255,
    "start_time": "2023-01-31T12:01:50.203Z"
   },
   {
    "duration": 55,
    "start_time": "2023-01-31T12:01:50.459Z"
   },
   {
    "duration": 5,
    "start_time": "2023-01-31T12:01:50.515Z"
   },
   {
    "duration": 43,
    "start_time": "2023-01-31T12:01:50.521Z"
   },
   {
    "duration": 4,
    "start_time": "2023-01-31T12:01:50.565Z"
   },
   {
    "duration": 86,
    "start_time": "2023-01-31T12:01:50.570Z"
   },
   {
    "duration": 26,
    "start_time": "2023-01-31T12:01:50.657Z"
   },
   {
    "duration": 27,
    "start_time": "2023-01-31T12:01:50.685Z"
   },
   {
    "duration": 16,
    "start_time": "2023-01-31T12:01:50.714Z"
   },
   {
    "duration": 27,
    "start_time": "2023-01-31T12:01:50.731Z"
   },
   {
    "duration": 3,
    "start_time": "2023-01-31T12:01:50.760Z"
   },
   {
    "duration": 14,
    "start_time": "2023-01-31T12:01:50.764Z"
   },
   {
    "duration": 25,
    "start_time": "2023-01-31T12:01:50.779Z"
   },
   {
    "duration": 13,
    "start_time": "2023-01-31T12:01:50.805Z"
   },
   {
    "duration": 29,
    "start_time": "2023-01-31T12:01:50.820Z"
   },
   {
    "duration": 3,
    "start_time": "2023-01-31T12:01:50.851Z"
   },
   {
    "duration": 1196,
    "start_time": "2023-01-31T12:01:50.855Z"
   },
   {
    "duration": 6,
    "start_time": "2023-01-31T12:01:52.053Z"
   },
   {
    "duration": 100,
    "start_time": "2023-01-31T12:01:52.060Z"
   },
   {
    "duration": 6,
    "start_time": "2023-01-31T12:01:52.162Z"
   },
   {
    "duration": 102,
    "start_time": "2023-01-31T12:01:52.169Z"
   },
   {
    "duration": 0,
    "start_time": "2023-01-31T12:01:52.276Z"
   },
   {
    "duration": 0,
    "start_time": "2023-01-31T12:01:52.277Z"
   },
   {
    "duration": 0,
    "start_time": "2023-01-31T12:01:52.278Z"
   },
   {
    "duration": 0,
    "start_time": "2023-01-31T12:01:52.279Z"
   },
   {
    "duration": 0,
    "start_time": "2023-01-31T12:01:52.280Z"
   },
   {
    "duration": 0,
    "start_time": "2023-01-31T12:01:52.281Z"
   },
   {
    "duration": 0,
    "start_time": "2023-01-31T12:01:52.282Z"
   },
   {
    "duration": 0,
    "start_time": "2023-01-31T12:01:52.283Z"
   },
   {
    "duration": 0,
    "start_time": "2023-01-31T12:01:52.284Z"
   },
   {
    "duration": 0,
    "start_time": "2023-01-31T12:01:52.285Z"
   },
   {
    "duration": 0,
    "start_time": "2023-01-31T12:01:52.286Z"
   },
   {
    "duration": 0,
    "start_time": "2023-01-31T12:01:52.287Z"
   },
   {
    "duration": 0,
    "start_time": "2023-01-31T12:01:52.288Z"
   },
   {
    "duration": 0,
    "start_time": "2023-01-31T12:01:52.289Z"
   },
   {
    "duration": 0,
    "start_time": "2023-01-31T12:01:52.290Z"
   },
   {
    "duration": 0,
    "start_time": "2023-01-31T12:01:52.291Z"
   },
   {
    "duration": 0,
    "start_time": "2023-01-31T12:01:52.292Z"
   },
   {
    "duration": 0,
    "start_time": "2023-01-31T12:01:52.292Z"
   },
   {
    "duration": 0,
    "start_time": "2023-01-31T12:01:52.293Z"
   },
   {
    "duration": 0,
    "start_time": "2023-01-31T12:01:52.295Z"
   },
   {
    "duration": 0,
    "start_time": "2023-01-31T12:01:52.295Z"
   },
   {
    "duration": 0,
    "start_time": "2023-01-31T12:01:52.296Z"
   },
   {
    "duration": 0,
    "start_time": "2023-01-31T12:01:52.297Z"
   },
   {
    "duration": 0,
    "start_time": "2023-01-31T12:01:52.298Z"
   },
   {
    "duration": 0,
    "start_time": "2023-01-31T12:01:52.299Z"
   },
   {
    "duration": 0,
    "start_time": "2023-01-31T12:01:52.300Z"
   },
   {
    "duration": 0,
    "start_time": "2023-01-31T12:01:52.301Z"
   },
   {
    "duration": 0,
    "start_time": "2023-01-31T12:01:52.302Z"
   },
   {
    "duration": 0,
    "start_time": "2023-01-31T12:01:52.348Z"
   },
   {
    "duration": 0,
    "start_time": "2023-01-31T12:01:52.349Z"
   },
   {
    "duration": 0,
    "start_time": "2023-01-31T12:01:52.350Z"
   },
   {
    "duration": 0,
    "start_time": "2023-01-31T12:01:52.351Z"
   },
   {
    "duration": 0,
    "start_time": "2023-01-31T12:01:52.352Z"
   },
   {
    "duration": 1,
    "start_time": "2023-01-31T12:01:52.353Z"
   },
   {
    "duration": 0,
    "start_time": "2023-01-31T12:01:52.354Z"
   },
   {
    "duration": 0,
    "start_time": "2023-01-31T12:01:52.355Z"
   },
   {
    "duration": 0,
    "start_time": "2023-01-31T12:01:52.356Z"
   },
   {
    "duration": 0,
    "start_time": "2023-01-31T12:01:52.358Z"
   },
   {
    "duration": 0,
    "start_time": "2023-01-31T12:01:52.359Z"
   },
   {
    "duration": 1,
    "start_time": "2023-01-31T12:01:52.360Z"
   },
   {
    "duration": 0,
    "start_time": "2023-01-31T12:01:52.361Z"
   },
   {
    "duration": 0,
    "start_time": "2023-01-31T12:01:52.362Z"
   },
   {
    "duration": 0,
    "start_time": "2023-01-31T12:01:52.364Z"
   },
   {
    "duration": 0,
    "start_time": "2023-01-31T12:01:52.364Z"
   },
   {
    "duration": 0,
    "start_time": "2023-01-31T12:01:52.366Z"
   },
   {
    "duration": 0,
    "start_time": "2023-01-31T12:01:52.367Z"
   },
   {
    "duration": 0,
    "start_time": "2023-01-31T12:01:52.368Z"
   },
   {
    "duration": 0,
    "start_time": "2023-01-31T12:01:52.369Z"
   },
   {
    "duration": 0,
    "start_time": "2023-01-31T12:01:52.370Z"
   },
   {
    "duration": 0,
    "start_time": "2023-01-31T12:01:52.371Z"
   },
   {
    "duration": 0,
    "start_time": "2023-01-31T12:01:52.372Z"
   },
   {
    "duration": 0,
    "start_time": "2023-01-31T12:01:52.373Z"
   },
   {
    "duration": 0,
    "start_time": "2023-01-31T12:01:52.374Z"
   },
   {
    "duration": 0,
    "start_time": "2023-01-31T12:01:52.375Z"
   },
   {
    "duration": 0,
    "start_time": "2023-01-31T12:01:52.375Z"
   },
   {
    "duration": 0,
    "start_time": "2023-01-31T12:01:52.376Z"
   },
   {
    "duration": 0,
    "start_time": "2023-01-31T12:01:52.377Z"
   },
   {
    "duration": 0,
    "start_time": "2023-01-31T12:01:52.378Z"
   },
   {
    "duration": 0,
    "start_time": "2023-01-31T12:01:52.379Z"
   },
   {
    "duration": 0,
    "start_time": "2023-01-31T12:01:52.380Z"
   },
   {
    "duration": 0,
    "start_time": "2023-01-31T12:01:52.381Z"
   },
   {
    "duration": 0,
    "start_time": "2023-01-31T12:01:52.383Z"
   },
   {
    "duration": 0,
    "start_time": "2023-01-31T12:01:52.384Z"
   },
   {
    "duration": 0,
    "start_time": "2023-01-31T12:01:52.448Z"
   },
   {
    "duration": 0,
    "start_time": "2023-01-31T12:01:52.449Z"
   },
   {
    "duration": 0,
    "start_time": "2023-01-31T12:01:52.450Z"
   },
   {
    "duration": 0,
    "start_time": "2023-01-31T12:01:52.452Z"
   },
   {
    "duration": 0,
    "start_time": "2023-01-31T12:01:52.453Z"
   },
   {
    "duration": 0,
    "start_time": "2023-01-31T12:01:52.454Z"
   },
   {
    "duration": 1,
    "start_time": "2023-01-31T12:01:52.455Z"
   },
   {
    "duration": 0,
    "start_time": "2023-01-31T12:01:52.457Z"
   },
   {
    "duration": 0,
    "start_time": "2023-01-31T12:01:52.458Z"
   },
   {
    "duration": 0,
    "start_time": "2023-01-31T12:01:52.459Z"
   },
   {
    "duration": 0,
    "start_time": "2023-01-31T12:01:52.460Z"
   },
   {
    "duration": 0,
    "start_time": "2023-01-31T12:01:52.461Z"
   },
   {
    "duration": 0,
    "start_time": "2023-01-31T12:01:52.462Z"
   },
   {
    "duration": 0,
    "start_time": "2023-01-31T12:01:52.464Z"
   },
   {
    "duration": 0,
    "start_time": "2023-01-31T12:01:52.465Z"
   },
   {
    "duration": 0,
    "start_time": "2023-01-31T12:01:52.467Z"
   },
   {
    "duration": 0,
    "start_time": "2023-01-31T12:01:52.468Z"
   },
   {
    "duration": 0,
    "start_time": "2023-01-31T12:01:52.469Z"
   },
   {
    "duration": 0,
    "start_time": "2023-01-31T12:01:52.471Z"
   },
   {
    "duration": 0,
    "start_time": "2023-01-31T12:01:52.472Z"
   },
   {
    "duration": 0,
    "start_time": "2023-01-31T12:01:52.474Z"
   },
   {
    "duration": 0,
    "start_time": "2023-01-31T12:01:52.475Z"
   },
   {
    "duration": 0,
    "start_time": "2023-01-31T12:01:52.477Z"
   },
   {
    "duration": 0,
    "start_time": "2023-01-31T12:01:52.479Z"
   },
   {
    "duration": 0,
    "start_time": "2023-01-31T12:01:52.481Z"
   },
   {
    "duration": 0,
    "start_time": "2023-01-31T12:01:52.482Z"
   },
   {
    "duration": 0,
    "start_time": "2023-01-31T12:01:52.483Z"
   },
   {
    "duration": 0,
    "start_time": "2023-01-31T12:01:52.484Z"
   },
   {
    "duration": 0,
    "start_time": "2023-01-31T12:01:52.548Z"
   },
   {
    "duration": 0,
    "start_time": "2023-01-31T12:01:52.550Z"
   },
   {
    "duration": 0,
    "start_time": "2023-01-31T12:01:52.551Z"
   },
   {
    "duration": 0,
    "start_time": "2023-01-31T12:01:52.552Z"
   },
   {
    "duration": 0,
    "start_time": "2023-01-31T12:01:52.553Z"
   },
   {
    "duration": 0,
    "start_time": "2023-01-31T12:01:52.554Z"
   },
   {
    "duration": 0,
    "start_time": "2023-01-31T12:01:52.555Z"
   },
   {
    "duration": 0,
    "start_time": "2023-01-31T12:01:52.556Z"
   },
   {
    "duration": 0,
    "start_time": "2023-01-31T12:01:52.557Z"
   },
   {
    "duration": 0,
    "start_time": "2023-01-31T12:01:52.558Z"
   },
   {
    "duration": 0,
    "start_time": "2023-01-31T12:01:52.559Z"
   },
   {
    "duration": 0,
    "start_time": "2023-01-31T12:01:52.561Z"
   },
   {
    "duration": 0,
    "start_time": "2023-01-31T12:01:52.562Z"
   },
   {
    "duration": 0,
    "start_time": "2023-01-31T12:01:52.563Z"
   },
   {
    "duration": 0,
    "start_time": "2023-01-31T12:01:52.564Z"
   },
   {
    "duration": 0,
    "start_time": "2023-01-31T12:01:52.565Z"
   },
   {
    "duration": 0,
    "start_time": "2023-01-31T12:01:52.566Z"
   },
   {
    "duration": 0,
    "start_time": "2023-01-31T12:01:52.567Z"
   },
   {
    "duration": 0,
    "start_time": "2023-01-31T12:01:52.568Z"
   },
   {
    "duration": 0,
    "start_time": "2023-01-31T12:01:52.569Z"
   },
   {
    "duration": 0,
    "start_time": "2023-01-31T12:01:52.570Z"
   },
   {
    "duration": 0,
    "start_time": "2023-01-31T12:01:52.571Z"
   },
   {
    "duration": 9,
    "start_time": "2023-01-31T12:02:25.941Z"
   },
   {
    "duration": 15,
    "start_time": "2023-01-31T12:02:30.061Z"
   },
   {
    "duration": 1126,
    "start_time": "2023-01-31T12:02:34.698Z"
   },
   {
    "duration": 87,
    "start_time": "2023-01-31T12:02:35.826Z"
   },
   {
    "duration": 11,
    "start_time": "2023-01-31T12:02:35.914Z"
   },
   {
    "duration": 300,
    "start_time": "2023-01-31T12:02:35.928Z"
   },
   {
    "duration": 40,
    "start_time": "2023-01-31T12:02:36.230Z"
   },
   {
    "duration": 13,
    "start_time": "2023-01-31T12:02:36.272Z"
   },
   {
    "duration": 5,
    "start_time": "2023-01-31T12:02:36.287Z"
   },
   {
    "duration": 90,
    "start_time": "2023-01-31T12:02:36.293Z"
   },
   {
    "duration": 6,
    "start_time": "2023-01-31T12:02:36.385Z"
   },
   {
    "duration": 4,
    "start_time": "2023-01-31T12:02:36.393Z"
   },
   {
    "duration": 17,
    "start_time": "2023-01-31T12:02:36.399Z"
   },
   {
    "duration": 32,
    "start_time": "2023-01-31T12:02:36.417Z"
   },
   {
    "duration": 4,
    "start_time": "2023-01-31T12:02:36.450Z"
   },
   {
    "duration": 232,
    "start_time": "2023-01-31T12:02:36.456Z"
   },
   {
    "duration": 65,
    "start_time": "2023-01-31T12:02:36.689Z"
   },
   {
    "duration": 5,
    "start_time": "2023-01-31T12:02:36.755Z"
   },
   {
    "duration": 29,
    "start_time": "2023-01-31T12:02:36.762Z"
   },
   {
    "duration": 4,
    "start_time": "2023-01-31T12:02:36.793Z"
   },
   {
    "duration": 95,
    "start_time": "2023-01-31T12:02:36.798Z"
   },
   {
    "duration": 29,
    "start_time": "2023-01-31T12:02:36.895Z"
   },
   {
    "duration": 43,
    "start_time": "2023-01-31T12:02:36.925Z"
   },
   {
    "duration": 12,
    "start_time": "2023-01-31T12:02:36.970Z"
   },
   {
    "duration": 15,
    "start_time": "2023-01-31T12:02:36.984Z"
   },
   {
    "duration": 8,
    "start_time": "2023-01-31T12:02:37.000Z"
   },
   {
    "duration": 15,
    "start_time": "2023-01-31T12:02:37.010Z"
   },
   {
    "duration": 53,
    "start_time": "2023-01-31T12:02:37.027Z"
   },
   {
    "duration": 10,
    "start_time": "2023-01-31T12:02:37.082Z"
   },
   {
    "duration": 12,
    "start_time": "2023-01-31T12:02:37.096Z"
   },
   {
    "duration": 3,
    "start_time": "2023-01-31T12:02:37.109Z"
   },
   {
    "duration": 1159,
    "start_time": "2023-01-31T12:02:37.114Z"
   },
   {
    "duration": 7,
    "start_time": "2023-01-31T12:02:38.275Z"
   },
   {
    "duration": 97,
    "start_time": "2023-01-31T12:02:38.284Z"
   },
   {
    "duration": 7,
    "start_time": "2023-01-31T12:02:38.383Z"
   },
   {
    "duration": 13,
    "start_time": "2023-01-31T12:02:38.391Z"
   },
   {
    "duration": 18,
    "start_time": "2023-01-31T12:02:38.406Z"
   },
   {
    "duration": 31,
    "start_time": "2023-01-31T12:02:38.426Z"
   },
   {
    "duration": 192,
    "start_time": "2023-01-31T12:02:38.459Z"
   },
   {
    "duration": 277,
    "start_time": "2023-01-31T12:02:38.652Z"
   },
   {
    "duration": 17,
    "start_time": "2023-01-31T12:02:38.931Z"
   },
   {
    "duration": 13,
    "start_time": "2023-01-31T12:02:38.950Z"
   },
   {
    "duration": 5,
    "start_time": "2023-01-31T12:02:38.965Z"
   },
   {
    "duration": 2,
    "start_time": "2023-01-31T12:02:38.972Z"
   },
   {
    "duration": 2737,
    "start_time": "2023-01-31T12:02:38.976Z"
   },
   {
    "duration": 24,
    "start_time": "2023-01-31T12:02:41.714Z"
   },
   {
    "duration": 12,
    "start_time": "2023-01-31T12:02:41.749Z"
   },
   {
    "duration": 19,
    "start_time": "2023-01-31T12:02:41.763Z"
   },
   {
    "duration": 4,
    "start_time": "2023-01-31T12:02:41.783Z"
   },
   {
    "duration": 16,
    "start_time": "2023-01-31T12:02:41.789Z"
   },
   {
    "duration": 3,
    "start_time": "2023-01-31T12:02:41.806Z"
   },
   {
    "duration": 3189,
    "start_time": "2023-01-31T12:02:41.811Z"
   },
   {
    "duration": 36,
    "start_time": "2023-01-31T12:02:45.002Z"
   },
   {
    "duration": 7,
    "start_time": "2023-01-31T12:02:45.047Z"
   },
   {
    "duration": 21,
    "start_time": "2023-01-31T12:02:45.055Z"
   },
   {
    "duration": 17,
    "start_time": "2023-01-31T12:02:45.078Z"
   },
   {
    "duration": 33,
    "start_time": "2023-01-31T12:02:45.097Z"
   },
   {
    "duration": 29,
    "start_time": "2023-01-31T12:02:45.131Z"
   },
   {
    "duration": 33,
    "start_time": "2023-01-31T12:02:45.161Z"
   },
   {
    "duration": 14,
    "start_time": "2023-01-31T12:02:45.196Z"
   },
   {
    "duration": 56,
    "start_time": "2023-01-31T12:02:45.212Z"
   },
   {
    "duration": 19,
    "start_time": "2023-01-31T12:02:45.271Z"
   },
   {
    "duration": 61,
    "start_time": "2023-01-31T12:02:45.292Z"
   },
   {
    "duration": 22,
    "start_time": "2023-01-31T12:02:45.355Z"
   },
   {
    "duration": 32,
    "start_time": "2023-01-31T12:02:45.379Z"
   },
   {
    "duration": 35,
    "start_time": "2023-01-31T12:02:45.413Z"
   },
   {
    "duration": 22,
    "start_time": "2023-01-31T12:02:45.451Z"
   },
   {
    "duration": 66,
    "start_time": "2023-01-31T12:02:45.475Z"
   },
   {
    "duration": 5,
    "start_time": "2023-01-31T12:02:45.550Z"
   },
   {
    "duration": 8,
    "start_time": "2023-01-31T12:02:45.558Z"
   },
   {
    "duration": 34168,
    "start_time": "2023-01-31T12:02:45.568Z"
   },
   {
    "duration": 16,
    "start_time": "2023-01-31T12:03:19.738Z"
   },
   {
    "duration": 21,
    "start_time": "2023-01-31T12:03:19.755Z"
   },
   {
    "duration": 7,
    "start_time": "2023-01-31T12:03:19.778Z"
   },
   {
    "duration": 37,
    "start_time": "2023-01-31T12:03:19.786Z"
   },
   {
    "duration": 23,
    "start_time": "2023-01-31T12:03:19.825Z"
   },
   {
    "duration": 79874,
    "start_time": "2023-01-31T12:03:19.850Z"
   },
   {
    "duration": 6,
    "start_time": "2023-01-31T12:04:39.726Z"
   },
   {
    "duration": 15,
    "start_time": "2023-01-31T12:04:39.733Z"
   },
   {
    "duration": 32,
    "start_time": "2023-01-31T12:04:39.750Z"
   },
   {
    "duration": 3,
    "start_time": "2023-01-31T12:04:39.784Z"
   },
   {
    "duration": 13,
    "start_time": "2023-01-31T12:04:39.789Z"
   },
   {
    "duration": 4,
    "start_time": "2023-01-31T12:04:39.803Z"
   },
   {
    "duration": 59231,
    "start_time": "2023-01-31T12:04:39.814Z"
   },
   {
    "duration": 11,
    "start_time": "2023-01-31T12:05:39.048Z"
   },
   {
    "duration": 14,
    "start_time": "2023-01-31T12:05:39.061Z"
   },
   {
    "duration": 8,
    "start_time": "2023-01-31T12:05:39.076Z"
   },
   {
    "duration": 18,
    "start_time": "2023-01-31T12:05:39.085Z"
   },
   {
    "duration": 12,
    "start_time": "2023-01-31T12:05:39.105Z"
   },
   {
    "duration": 7,
    "start_time": "2023-01-31T12:05:39.118Z"
   },
   {
    "duration": 3,
    "start_time": "2023-01-31T12:05:39.148Z"
   },
   {
    "duration": 25,
    "start_time": "2023-01-31T12:05:39.152Z"
   },
   {
    "duration": 130,
    "start_time": "2023-01-31T12:05:39.178Z"
   },
   {
    "duration": 101,
    "start_time": "2023-01-31T12:05:39.310Z"
   },
   {
    "duration": 7,
    "start_time": "2023-01-31T12:05:39.413Z"
   },
   {
    "duration": 5,
    "start_time": "2023-01-31T12:05:39.422Z"
   },
   {
    "duration": 33,
    "start_time": "2023-01-31T12:05:39.428Z"
   },
   {
    "duration": 128,
    "start_time": "2023-01-31T12:05:39.463Z"
   },
   {
    "duration": 168,
    "start_time": "2023-01-31T12:05:39.593Z"
   },
   {
    "duration": 87,
    "start_time": "2023-01-31T12:05:39.763Z"
   },
   {
    "duration": 11,
    "start_time": "2023-01-31T12:05:39.851Z"
   },
   {
    "duration": 110,
    "start_time": "2023-01-31T12:05:39.863Z"
   },
   {
    "duration": 97,
    "start_time": "2023-01-31T12:05:39.974Z"
   },
   {
    "duration": 7,
    "start_time": "2023-01-31T12:05:40.073Z"
   },
   {
    "duration": 15,
    "start_time": "2023-01-31T12:05:40.082Z"
   },
   {
    "duration": 109,
    "start_time": "2023-01-31T12:05:40.099Z"
   },
   {
    "duration": 107,
    "start_time": "2023-01-31T12:05:40.210Z"
   },
   {
    "duration": 33,
    "start_time": "2023-01-31T12:05:40.319Z"
   },
   {
    "duration": 8,
    "start_time": "2023-01-31T12:05:40.353Z"
   },
   {
    "duration": 104,
    "start_time": "2023-01-31T12:05:40.363Z"
   },
   {
    "duration": 95,
    "start_time": "2023-01-31T12:05:40.468Z"
   },
   {
    "duration": 107,
    "start_time": "2023-01-31T12:05:40.564Z"
   },
   {
    "duration": 10,
    "start_time": "2023-01-31T12:05:40.672Z"
   },
   {
    "duration": 94,
    "start_time": "2023-01-31T12:05:40.683Z"
   },
   {
    "duration": 8,
    "start_time": "2023-01-31T12:05:40.779Z"
   },
   {
    "duration": 110,
    "start_time": "2023-01-31T12:05:40.789Z"
   },
   {
    "duration": 27,
    "start_time": "2023-01-31T12:05:40.901Z"
   },
   {
    "duration": 20,
    "start_time": "2023-01-31T12:05:40.929Z"
   },
   {
    "duration": 4,
    "start_time": "2023-01-31T12:05:40.951Z"
   },
   {
    "duration": 5,
    "start_time": "2023-01-31T12:05:40.957Z"
   },
   {
    "duration": 14,
    "start_time": "2023-01-31T12:05:40.963Z"
   },
   {
    "duration": 70,
    "start_time": "2023-01-31T12:05:40.979Z"
   },
   {
    "duration": 165,
    "start_time": "2023-01-31T12:05:41.051Z"
   },
   {
    "duration": 9,
    "start_time": "2023-01-31T12:05:41.218Z"
   },
   {
    "duration": 375,
    "start_time": "2023-01-31T12:05:41.229Z"
   },
   {
    "duration": 294,
    "start_time": "2023-01-31T12:05:41.605Z"
   },
   {
    "duration": 152,
    "start_time": "2023-01-31T12:05:41.900Z"
   },
   {
    "duration": 141,
    "start_time": "2023-01-31T12:05:42.054Z"
   },
   {
    "duration": 31,
    "start_time": "2023-01-31T12:05:42.196Z"
   },
   {
    "duration": 239,
    "start_time": "2023-01-31T12:05:42.229Z"
   },
   {
    "duration": 5,
    "start_time": "2023-01-31T12:05:42.470Z"
   },
   {
    "duration": 18,
    "start_time": "2023-01-31T12:05:42.476Z"
   },
   {
    "duration": 22,
    "start_time": "2023-01-31T12:05:42.496Z"
   },
   {
    "duration": 31,
    "start_time": "2023-01-31T12:05:42.520Z"
   },
   {
    "duration": 288,
    "start_time": "2023-01-31T12:05:42.553Z"
   },
   {
    "duration": 6,
    "start_time": "2023-01-31T12:05:42.843Z"
   },
   {
    "duration": 38,
    "start_time": "2023-01-31T12:05:42.851Z"
   },
   {
    "duration": 3180,
    "start_time": "2023-01-31T12:05:42.891Z"
   },
   {
    "duration": 126,
    "start_time": "2023-01-31T12:05:46.073Z"
   },
   {
    "duration": 277,
    "start_time": "2023-01-31T12:05:46.201Z"
   },
   {
    "duration": 271,
    "start_time": "2023-01-31T12:05:46.480Z"
   },
   {
    "duration": 6,
    "start_time": "2023-01-31T12:05:46.752Z"
   },
   {
    "duration": 53,
    "start_time": "2023-01-31T12:05:46.759Z"
   },
   {
    "duration": 523,
    "start_time": "2023-01-31T12:05:46.814Z"
   },
   {
    "duration": 325,
    "start_time": "2023-01-31T12:05:47.339Z"
   },
   {
    "duration": 1456,
    "start_time": "2023-01-31T12:05:47.666Z"
   },
   {
    "duration": 32,
    "start_time": "2023-01-31T12:05:49.123Z"
   },
   {
    "duration": 19,
    "start_time": "2023-01-31T12:05:49.156Z"
   },
   {
    "duration": 175,
    "start_time": "2023-01-31T12:05:49.177Z"
   },
   {
    "duration": 2092,
    "start_time": "2023-02-10T10:51:35.569Z"
   },
   {
    "duration": 338,
    "start_time": "2023-02-10T10:51:37.663Z"
   },
   {
    "duration": 50,
    "start_time": "2023-02-10T10:51:38.003Z"
   },
   {
    "duration": 638,
    "start_time": "2023-02-10T10:51:38.054Z"
   },
   {
    "duration": 38,
    "start_time": "2023-02-10T10:51:38.747Z"
   },
   {
    "duration": 70,
    "start_time": "2023-02-10T10:51:38.786Z"
   },
   {
    "duration": 5,
    "start_time": "2023-02-10T10:51:38.857Z"
   },
   {
    "duration": 186,
    "start_time": "2023-02-10T10:51:38.863Z"
   },
   {
    "duration": 6,
    "start_time": "2023-02-10T10:51:39.051Z"
   },
   {
    "duration": 4,
    "start_time": "2023-02-10T10:51:39.059Z"
   },
   {
    "duration": 107,
    "start_time": "2023-02-10T10:51:39.064Z"
   },
   {
    "duration": 4,
    "start_time": "2023-02-10T10:51:39.173Z"
   },
   {
    "duration": 487,
    "start_time": "2023-02-10T10:51:39.179Z"
   },
   {
    "duration": 104,
    "start_time": "2023-02-10T10:51:39.668Z"
   },
   {
    "duration": 4,
    "start_time": "2023-02-10T10:51:39.774Z"
   },
   {
    "duration": 79,
    "start_time": "2023-02-10T10:51:39.780Z"
   },
   {
    "duration": 4,
    "start_time": "2023-02-10T10:51:39.860Z"
   },
   {
    "duration": 187,
    "start_time": "2023-02-10T10:51:39.866Z"
   },
   {
    "duration": 28,
    "start_time": "2023-02-10T10:51:40.055Z"
   },
   {
    "duration": 84,
    "start_time": "2023-02-10T10:51:40.085Z"
   },
   {
    "duration": 12,
    "start_time": "2023-02-10T10:51:40.171Z"
   },
   {
    "duration": 73,
    "start_time": "2023-02-10T10:51:40.184Z"
   },
   {
    "duration": 17,
    "start_time": "2023-02-10T10:51:40.258Z"
   },
   {
    "duration": 10,
    "start_time": "2023-02-10T10:51:40.277Z"
   },
   {
    "duration": 77,
    "start_time": "2023-02-10T10:51:40.289Z"
   },
   {
    "duration": 14,
    "start_time": "2023-02-10T10:51:40.368Z"
   },
   {
    "duration": 67,
    "start_time": "2023-02-10T10:51:40.384Z"
   },
   {
    "duration": 9,
    "start_time": "2023-02-10T10:51:40.453Z"
   },
   {
    "duration": 413,
    "start_time": "2023-02-10T10:51:40.464Z"
   },
   {
    "duration": 9,
    "start_time": "2023-02-10T10:51:40.878Z"
   },
   {
    "duration": 191,
    "start_time": "2023-02-10T10:51:40.889Z"
   },
   {
    "duration": 8,
    "start_time": "2023-02-10T10:51:41.081Z"
   },
   {
    "duration": 63,
    "start_time": "2023-02-10T10:51:41.090Z"
   },
   {
    "duration": 13,
    "start_time": "2023-02-10T10:51:41.154Z"
   },
   {
    "duration": 482,
    "start_time": "2023-02-10T10:51:41.168Z"
   },
   {
    "duration": 1039,
    "start_time": "2023-02-10T10:51:41.652Z"
   },
   {
    "duration": 3671,
    "start_time": "2023-02-10T10:51:42.692Z"
   },
   {
    "duration": 97,
    "start_time": "2023-02-10T10:51:46.365Z"
   },
   {
    "duration": 9,
    "start_time": "2023-02-10T10:51:46.464Z"
   },
   {
    "duration": 99,
    "start_time": "2023-02-10T10:51:46.475Z"
   },
   {
    "duration": 5,
    "start_time": "2023-02-10T10:51:46.578Z"
   },
   {
    "duration": 4,
    "start_time": "2023-02-10T10:51:46.585Z"
   },
   {
    "duration": 5636,
    "start_time": "2023-02-10T10:51:46.649Z"
   },
   {
    "duration": 79,
    "start_time": "2023-02-10T10:51:52.286Z"
   },
   {
    "duration": 7,
    "start_time": "2023-02-10T10:51:52.367Z"
   },
   {
    "duration": 96,
    "start_time": "2023-02-10T10:51:52.376Z"
   },
   {
    "duration": 75,
    "start_time": "2023-02-10T10:51:52.474Z"
   },
   {
    "duration": 27,
    "start_time": "2023-02-10T10:51:52.550Z"
   },
   {
    "duration": 71,
    "start_time": "2023-02-10T10:51:52.578Z"
   },
   {
    "duration": 35,
    "start_time": "2023-02-10T10:51:52.651Z"
   },
   {
    "duration": 15,
    "start_time": "2023-02-10T10:51:52.749Z"
   },
   {
    "duration": 92,
    "start_time": "2023-02-10T10:51:52.765Z"
   },
   {
    "duration": 18,
    "start_time": "2023-02-10T10:51:52.859Z"
   },
   {
    "duration": 79,
    "start_time": "2023-02-10T10:51:52.879Z"
   },
   {
    "duration": 15,
    "start_time": "2023-02-10T10:51:52.960Z"
   },
   {
    "duration": 72,
    "start_time": "2023-02-10T10:51:52.977Z"
   },
   {
    "duration": 37,
    "start_time": "2023-02-10T10:51:53.051Z"
   },
   {
    "duration": 61,
    "start_time": "2023-02-10T10:51:53.090Z"
   },
   {
    "duration": 6,
    "start_time": "2023-02-10T10:51:53.152Z"
   },
   {
    "duration": 45403,
    "start_time": "2023-02-10T10:51:53.159Z"
   },
   {
    "duration": 11,
    "start_time": "2023-02-10T10:52:38.564Z"
   },
   {
    "duration": 17,
    "start_time": "2023-02-10T10:52:38.577Z"
   },
   {
    "duration": 6,
    "start_time": "2023-02-10T10:52:38.596Z"
   },
   {
    "duration": 49,
    "start_time": "2023-02-10T10:52:38.603Z"
   },
   {
    "duration": 6,
    "start_time": "2023-02-10T10:52:38.654Z"
   },
   {
    "duration": 76838,
    "start_time": "2023-02-10T10:52:38.661Z"
   },
   {
    "duration": 10,
    "start_time": "2023-02-10T10:53:55.501Z"
   },
   {
    "duration": 10,
    "start_time": "2023-02-10T10:53:55.512Z"
   },
   {
    "duration": 50,
    "start_time": "2023-02-10T10:53:55.524Z"
   },
   {
    "duration": 3,
    "start_time": "2023-02-10T10:53:55.576Z"
   },
   {
    "duration": 25,
    "start_time": "2023-02-10T10:53:55.580Z"
   },
   {
    "duration": 4,
    "start_time": "2023-02-10T10:53:55.606Z"
   },
   {
    "duration": 56477,
    "start_time": "2023-02-10T10:53:55.612Z"
   },
   {
    "duration": 9,
    "start_time": "2023-02-10T10:54:52.091Z"
   },
   {
    "duration": 14,
    "start_time": "2023-02-10T10:54:52.102Z"
   },
   {
    "duration": 30,
    "start_time": "2023-02-10T10:54:52.118Z"
   },
   {
    "duration": 25,
    "start_time": "2023-02-10T10:54:52.149Z"
   },
   {
    "duration": 25,
    "start_time": "2023-02-10T10:54:52.175Z"
   },
   {
    "duration": 32,
    "start_time": "2023-02-10T10:54:52.201Z"
   },
   {
    "duration": 5,
    "start_time": "2023-02-10T10:54:52.235Z"
   },
   {
    "duration": 45,
    "start_time": "2023-02-10T10:54:52.242Z"
   },
   {
    "duration": 38,
    "start_time": "2023-02-10T10:54:52.289Z"
   },
   {
    "duration": 29,
    "start_time": "2023-02-10T10:54:52.328Z"
   },
   {
    "duration": 36,
    "start_time": "2023-02-10T10:54:52.359Z"
   },
   {
    "duration": 175,
    "start_time": "2023-02-10T10:54:52.396Z"
   },
   {
    "duration": 5,
    "start_time": "2023-02-10T10:54:52.572Z"
   },
   {
    "duration": 61,
    "start_time": "2023-02-10T10:54:52.578Z"
   },
   {
    "duration": 4,
    "start_time": "2023-02-10T10:54:52.641Z"
   },
   {
    "duration": 136,
    "start_time": "2023-02-10T10:54:52.647Z"
   },
   {
    "duration": 4,
    "start_time": "2023-02-10T10:54:52.785Z"
   },
   {
    "duration": 28,
    "start_time": "2023-02-10T10:54:52.791Z"
   },
   {
    "duration": 210,
    "start_time": "2023-02-10T10:54:52.820Z"
   },
   {
    "duration": 208,
    "start_time": "2023-02-10T10:54:53.031Z"
   },
   {
    "duration": 12,
    "start_time": "2023-02-10T10:54:53.240Z"
   },
   {
    "duration": 510,
    "start_time": "2023-02-10T10:54:53.253Z"
   },
   {
    "duration": 183,
    "start_time": "2023-02-10T10:54:53.765Z"
   },
   {
    "duration": 126,
    "start_time": "2023-02-10T10:54:53.949Z"
   },
   {
    "duration": 10,
    "start_time": "2023-02-10T10:54:54.077Z"
   },
   {
    "duration": 192,
    "start_time": "2023-02-10T10:54:54.089Z"
   },
   {
    "duration": 285,
    "start_time": "2023-02-10T10:54:54.283Z"
   },
   {
    "duration": 262,
    "start_time": "2023-02-10T10:54:54.569Z"
   },
   {
    "duration": 15,
    "start_time": "2023-02-10T10:54:54.833Z"
   },
   {
    "duration": 171,
    "start_time": "2023-02-10T10:54:54.849Z"
   },
   {
    "duration": 350,
    "start_time": "2023-02-10T10:54:55.022Z"
   },
   {
    "duration": 262,
    "start_time": "2023-02-10T10:54:55.374Z"
   },
   {
    "duration": 243,
    "start_time": "2023-02-10T10:54:55.637Z"
   },
   {
    "duration": 171,
    "start_time": "2023-02-10T10:54:55.882Z"
   },
   {
    "duration": 10,
    "start_time": "2023-02-10T10:54:56.055Z"
   },
   {
    "duration": 152,
    "start_time": "2023-02-10T10:54:56.066Z"
   },
   {
    "duration": 324,
    "start_time": "2023-02-10T10:54:56.219Z"
   },
   {
    "duration": 161,
    "start_time": "2023-02-10T10:54:56.545Z"
   },
   {
    "duration": 9,
    "start_time": "2023-02-10T10:54:56.708Z"
   },
   {
    "duration": 159,
    "start_time": "2023-02-10T10:54:56.718Z"
   },
   {
    "duration": 240,
    "start_time": "2023-02-10T10:54:56.879Z"
   },
   {
    "duration": 148,
    "start_time": "2023-02-10T10:54:57.121Z"
   },
   {
    "duration": 10,
    "start_time": "2023-02-10T10:54:57.270Z"
   },
   {
    "duration": 151,
    "start_time": "2023-02-10T10:54:57.282Z"
   },
   {
    "duration": 214,
    "start_time": "2023-02-10T10:54:57.435Z"
   },
   {
    "duration": 242,
    "start_time": "2023-02-10T10:54:57.651Z"
   },
   {
    "duration": 32,
    "start_time": "2023-02-10T10:54:57.894Z"
   },
   {
    "duration": 290,
    "start_time": "2023-02-10T10:54:57.928Z"
   },
   {
    "duration": 212,
    "start_time": "2023-02-10T10:54:58.226Z"
   },
   {
    "duration": 156,
    "start_time": "2023-02-10T10:54:58.440Z"
   },
   {
    "duration": 4,
    "start_time": "2023-02-10T10:54:58.597Z"
   },
   {
    "duration": 9,
    "start_time": "2023-02-10T10:54:58.603Z"
   },
   {
    "duration": 13,
    "start_time": "2023-02-10T10:54:58.614Z"
   },
   {
    "duration": 25,
    "start_time": "2023-02-10T10:54:58.628Z"
   },
   {
    "duration": 19,
    "start_time": "2023-02-10T10:54:58.654Z"
   },
   {
    "duration": 136,
    "start_time": "2023-02-10T10:54:58.675Z"
   },
   {
    "duration": 7,
    "start_time": "2023-02-10T10:54:58.813Z"
   },
   {
    "duration": 264,
    "start_time": "2023-02-10T10:54:58.821Z"
   },
   {
    "duration": 278,
    "start_time": "2023-02-10T10:54:59.086Z"
   },
   {
    "duration": 125,
    "start_time": "2023-02-10T10:54:59.365Z"
   },
   {
    "duration": 139,
    "start_time": "2023-02-10T10:54:59.492Z"
   },
   {
    "duration": 32,
    "start_time": "2023-02-10T10:54:59.633Z"
   },
   {
    "duration": 353,
    "start_time": "2023-02-10T10:54:59.667Z"
   },
   {
    "duration": 5,
    "start_time": "2023-02-10T10:55:00.022Z"
   },
   {
    "duration": 12,
    "start_time": "2023-02-10T10:55:00.028Z"
   },
   {
    "duration": 5,
    "start_time": "2023-02-10T10:55:00.047Z"
   },
   {
    "duration": 3,
    "start_time": "2023-02-10T10:55:00.054Z"
   },
   {
    "duration": 338,
    "start_time": "2023-02-10T10:55:00.059Z"
   },
   {
    "duration": 3,
    "start_time": "2023-02-10T10:55:00.399Z"
   },
   {
    "duration": 20,
    "start_time": "2023-02-10T10:55:00.403Z"
   },
   {
    "duration": 3691,
    "start_time": "2023-02-10T10:55:00.425Z"
   },
   {
    "duration": 40,
    "start_time": "2023-02-10T10:55:04.117Z"
   },
   {
    "duration": 892,
    "start_time": "2023-02-10T10:55:04.158Z"
   },
   {
    "duration": 137,
    "start_time": "2023-02-10T10:55:05.052Z"
   },
   {
    "duration": 182,
    "start_time": "2023-02-10T10:55:05.191Z"
   },
   {
    "duration": 332,
    "start_time": "2023-02-10T10:55:05.375Z"
   },
   {
    "duration": 277,
    "start_time": "2023-02-10T10:55:05.709Z"
   },
   {
    "duration": 4,
    "start_time": "2023-02-10T10:55:05.988Z"
   },
   {
    "duration": 18,
    "start_time": "2023-02-10T10:55:05.994Z"
   },
   {
    "duration": 307,
    "start_time": "2023-02-10T10:55:06.014Z"
   },
   {
    "duration": 1819,
    "start_time": "2023-02-10T10:55:06.322Z"
   },
   {
    "duration": 503,
    "start_time": "2023-02-10T10:55:08.143Z"
   },
   {
    "duration": 556,
    "start_time": "2023-02-10T10:55:08.648Z"
   },
   {
    "duration": 352,
    "start_time": "2023-02-10T10:55:09.206Z"
   },
   {
    "duration": 1202,
    "start_time": "2023-02-10T10:55:09.560Z"
   },
   {
    "duration": 16,
    "start_time": "2023-02-10T10:55:10.764Z"
   },
   {
    "duration": 168,
    "start_time": "2023-02-10T10:55:10.782Z"
   },
   {
    "duration": 334,
    "start_time": "2023-02-10T10:55:10.951Z"
   },
   {
    "duration": 338,
    "start_time": "2023-02-10T10:55:11.287Z"
   },
   {
    "duration": 30,
    "start_time": "2023-02-10T10:55:11.626Z"
   },
   {
    "duration": 160,
    "start_time": "2023-02-10T10:55:11.657Z"
   },
   {
    "duration": 7,
    "start_time": "2023-02-10T10:55:11.819Z"
   },
   {
    "duration": 23,
    "start_time": "2023-02-10T10:55:11.828Z"
   },
   {
    "duration": 30,
    "start_time": "2023-02-10T10:55:11.853Z"
   },
   {
    "duration": 168,
    "start_time": "2023-02-10T10:55:11.885Z"
   },
   {
    "duration": 26,
    "start_time": "2023-02-10T10:55:12.056Z"
   },
   {
    "duration": 34,
    "start_time": "2023-02-10T10:55:12.084Z"
   },
   {
    "duration": 185,
    "start_time": "2023-02-10T10:56:02.891Z"
   },
   {
    "duration": 13,
    "start_time": "2023-02-10T10:56:11.906Z"
   },
   {
    "duration": 183,
    "start_time": "2023-02-10T10:56:36.067Z"
   },
   {
    "duration": 193,
    "start_time": "2023-02-10T10:56:43.868Z"
   },
   {
    "duration": 3,
    "start_time": "2023-02-10T11:43:31.998Z"
   },
   {
    "duration": 4031,
    "start_time": "2023-02-10T11:43:32.240Z"
   },
   {
    "duration": 398,
    "start_time": "2023-02-10T11:43:36.273Z"
   },
   {
    "duration": 916,
    "start_time": "2023-02-10T11:43:36.673Z"
   },
   {
    "duration": 1254,
    "start_time": "2023-02-10T11:44:31.462Z"
   },
   {
    "duration": 92,
    "start_time": "2023-02-10T11:44:32.718Z"
   },
   {
    "duration": 11,
    "start_time": "2023-02-10T11:44:32.812Z"
   },
   {
    "duration": 358,
    "start_time": "2023-02-10T11:44:32.825Z"
   },
   {
    "duration": 39,
    "start_time": "2023-02-10T11:44:33.185Z"
   },
   {
    "duration": 31,
    "start_time": "2023-02-10T11:44:33.225Z"
   },
   {
    "duration": 5,
    "start_time": "2023-02-10T11:44:33.258Z"
   },
   {
    "duration": 89,
    "start_time": "2023-02-10T11:44:33.265Z"
   },
   {
    "duration": 6,
    "start_time": "2023-02-10T11:44:33.356Z"
   },
   {
    "duration": 5,
    "start_time": "2023-02-10T11:44:33.364Z"
   },
   {
    "duration": 64,
    "start_time": "2023-02-10T11:44:33.370Z"
   },
   {
    "duration": 5,
    "start_time": "2023-02-10T11:44:33.449Z"
   },
   {
    "duration": 265,
    "start_time": "2023-02-10T11:44:33.456Z"
   },
   {
    "duration": 69,
    "start_time": "2023-02-10T11:44:33.724Z"
   },
   {
    "duration": 7,
    "start_time": "2023-02-10T11:44:33.795Z"
   },
   {
    "duration": 58,
    "start_time": "2023-02-10T11:44:33.804Z"
   },
   {
    "duration": 5,
    "start_time": "2023-02-10T11:44:33.864Z"
   },
   {
    "duration": 97,
    "start_time": "2023-02-10T11:44:33.870Z"
   },
   {
    "duration": 28,
    "start_time": "2023-02-10T11:44:33.969Z"
   },
   {
    "duration": 27,
    "start_time": "2023-02-10T11:44:33.999Z"
   },
   {
    "duration": 27,
    "start_time": "2023-02-10T11:44:34.028Z"
   },
   {
    "duration": 15,
    "start_time": "2023-02-10T11:44:34.056Z"
   },
   {
    "duration": 7,
    "start_time": "2023-02-10T11:44:34.072Z"
   },
   {
    "duration": 11,
    "start_time": "2023-02-10T11:44:34.080Z"
   },
   {
    "duration": 24,
    "start_time": "2023-02-10T11:44:34.093Z"
   },
   {
    "duration": 11,
    "start_time": "2023-02-10T11:44:34.147Z"
   },
   {
    "duration": 15,
    "start_time": "2023-02-10T11:44:34.160Z"
   },
   {
    "duration": 5,
    "start_time": "2023-02-10T11:44:34.179Z"
   },
   {
    "duration": 251,
    "start_time": "2023-02-10T11:44:34.186Z"
   },
   {
    "duration": 10,
    "start_time": "2023-02-10T11:44:34.439Z"
   },
   {
    "duration": 97,
    "start_time": "2023-02-10T11:44:34.451Z"
   },
   {
    "duration": 9,
    "start_time": "2023-02-10T11:44:34.549Z"
   },
   {
    "duration": 7,
    "start_time": "2023-02-10T11:44:34.559Z"
   },
   {
    "duration": 15,
    "start_time": "2023-02-10T11:44:34.567Z"
   },
   {
    "duration": 214,
    "start_time": "2023-02-10T11:44:34.584Z"
   },
   {
    "duration": 510,
    "start_time": "2023-02-10T11:44:34.800Z"
   },
   {
    "duration": 1686,
    "start_time": "2023-02-10T11:44:35.312Z"
   },
   {
    "duration": 27,
    "start_time": "2023-02-10T11:44:37.000Z"
   },
   {
    "duration": 19,
    "start_time": "2023-02-10T11:44:37.029Z"
   },
   {
    "duration": 37,
    "start_time": "2023-02-10T11:44:37.050Z"
   },
   {
    "duration": 4,
    "start_time": "2023-02-10T11:44:37.089Z"
   },
   {
    "duration": 5,
    "start_time": "2023-02-10T11:44:37.095Z"
   },
   {
    "duration": 2905,
    "start_time": "2023-02-10T11:44:37.101Z"
   },
   {
    "duration": 24,
    "start_time": "2023-02-10T11:44:40.008Z"
   },
   {
    "duration": 23,
    "start_time": "2023-02-10T11:44:40.034Z"
   },
   {
    "duration": 37,
    "start_time": "2023-02-10T11:44:40.058Z"
   },
   {
    "duration": 15,
    "start_time": "2023-02-10T11:44:40.097Z"
   },
   {
    "duration": 44,
    "start_time": "2023-02-10T11:44:40.113Z"
   },
   {
    "duration": 15,
    "start_time": "2023-02-10T11:44:40.159Z"
   },
   {
    "duration": 40,
    "start_time": "2023-02-10T11:44:40.175Z"
   },
   {
    "duration": 33,
    "start_time": "2023-02-10T11:44:40.216Z"
   },
   {
    "duration": 35,
    "start_time": "2023-02-10T11:44:40.251Z"
   },
   {
    "duration": 15,
    "start_time": "2023-02-10T11:44:40.288Z"
   },
   {
    "duration": 14,
    "start_time": "2023-02-10T11:44:40.305Z"
   },
   {
    "duration": 43,
    "start_time": "2023-02-10T11:44:40.320Z"
   },
   {
    "duration": 18,
    "start_time": "2023-02-10T11:44:40.365Z"
   },
   {
    "duration": 37,
    "start_time": "2023-02-10T11:44:40.385Z"
   },
   {
    "duration": 26,
    "start_time": "2023-02-10T11:44:40.424Z"
   },
   {
    "duration": 8,
    "start_time": "2023-02-10T11:44:40.452Z"
   },
   {
    "duration": 38461,
    "start_time": "2023-02-10T11:44:40.461Z"
   },
   {
    "duration": 25,
    "start_time": "2023-02-10T11:45:18.924Z"
   },
   {
    "duration": 21,
    "start_time": "2023-02-10T11:45:18.951Z"
   },
   {
    "duration": 8,
    "start_time": "2023-02-10T11:45:18.974Z"
   },
   {
    "duration": 47,
    "start_time": "2023-02-10T11:45:18.983Z"
   },
   {
    "duration": 6,
    "start_time": "2023-02-10T11:45:19.049Z"
   },
   {
    "duration": 84042,
    "start_time": "2023-02-10T11:45:19.057Z"
   },
   {
    "duration": 8,
    "start_time": "2023-02-10T11:46:43.102Z"
   },
   {
    "duration": 13,
    "start_time": "2023-02-10T11:46:43.112Z"
   },
   {
    "duration": 45,
    "start_time": "2023-02-10T11:46:43.127Z"
   },
   {
    "duration": 3,
    "start_time": "2023-02-10T11:46:43.174Z"
   },
   {
    "duration": 22,
    "start_time": "2023-02-10T11:46:43.179Z"
   },
   {
    "duration": 4,
    "start_time": "2023-02-10T11:46:43.202Z"
   },
   {
    "duration": 60685,
    "start_time": "2023-02-10T11:46:43.207Z"
   },
   {
    "duration": 12,
    "start_time": "2023-02-10T11:47:43.894Z"
   },
   {
    "duration": 13,
    "start_time": "2023-02-10T11:47:43.907Z"
   },
   {
    "duration": 10,
    "start_time": "2023-02-10T11:47:43.922Z"
   },
   {
    "duration": 26,
    "start_time": "2023-02-10T11:47:43.933Z"
   },
   {
    "duration": 11,
    "start_time": "2023-02-10T11:47:43.961Z"
   },
   {
    "duration": 7,
    "start_time": "2023-02-10T11:47:43.973Z"
   },
   {
    "duration": 4,
    "start_time": "2023-02-10T11:47:43.982Z"
   },
   {
    "duration": 14,
    "start_time": "2023-02-10T11:47:43.988Z"
   },
   {
    "duration": 12,
    "start_time": "2023-02-10T11:47:44.009Z"
   },
   {
    "duration": 25,
    "start_time": "2023-02-10T11:47:44.023Z"
   },
   {
    "duration": 6,
    "start_time": "2023-02-10T11:47:44.050Z"
   },
   {
    "duration": 141,
    "start_time": "2023-02-10T11:47:44.057Z"
   },
   {
    "duration": 4,
    "start_time": "2023-02-10T11:47:44.199Z"
   },
   {
    "duration": 49,
    "start_time": "2023-02-10T11:47:44.205Z"
   },
   {
    "duration": 3,
    "start_time": "2023-02-10T11:47:44.256Z"
   },
   {
    "duration": 140,
    "start_time": "2023-02-10T11:47:44.260Z"
   },
   {
    "duration": 4,
    "start_time": "2023-02-10T11:47:44.402Z"
   },
   {
    "duration": 19,
    "start_time": "2023-02-10T11:47:44.407Z"
   },
   {
    "duration": 206,
    "start_time": "2023-02-10T11:47:44.428Z"
   },
   {
    "duration": 219,
    "start_time": "2023-02-10T11:47:44.635Z"
   },
   {
    "duration": 8,
    "start_time": "2023-02-10T11:47:44.856Z"
   },
   {
    "duration": 522,
    "start_time": "2023-02-10T11:47:44.866Z"
   },
   {
    "duration": 176,
    "start_time": "2023-02-10T11:47:45.389Z"
   },
   {
    "duration": 164,
    "start_time": "2023-02-10T11:47:45.568Z"
   },
   {
    "duration": 21,
    "start_time": "2023-02-10T11:47:45.734Z"
   },
   {
    "duration": 185,
    "start_time": "2023-02-10T11:47:45.757Z"
   },
   {
    "duration": 291,
    "start_time": "2023-02-10T11:47:45.944Z"
   },
   {
    "duration": 275,
    "start_time": "2023-02-10T11:47:46.236Z"
   },
   {
    "duration": 9,
    "start_time": "2023-02-10T11:47:46.513Z"
   },
   {
    "duration": 174,
    "start_time": "2023-02-10T11:47:46.523Z"
   },
   {
    "duration": 321,
    "start_time": "2023-02-10T11:47:46.698Z"
   },
   {
    "duration": 236,
    "start_time": "2023-02-10T11:47:47.021Z"
   },
   {
    "duration": 246,
    "start_time": "2023-02-10T11:47:47.259Z"
   },
   {
    "duration": 171,
    "start_time": "2023-02-10T11:47:47.507Z"
   },
   {
    "duration": 10,
    "start_time": "2023-02-10T11:47:47.680Z"
   },
   {
    "duration": 168,
    "start_time": "2023-02-10T11:47:47.691Z"
   },
   {
    "duration": 365,
    "start_time": "2023-02-10T11:47:47.861Z"
   },
   {
    "duration": 159,
    "start_time": "2023-02-10T11:47:48.227Z"
   },
   {
    "duration": 9,
    "start_time": "2023-02-10T11:47:48.388Z"
   },
   {
    "duration": 168,
    "start_time": "2023-02-10T11:47:48.399Z"
   },
   {
    "duration": 251,
    "start_time": "2023-02-10T11:47:48.568Z"
   },
   {
    "duration": 161,
    "start_time": "2023-02-10T11:47:48.820Z"
   },
   {
    "duration": 10,
    "start_time": "2023-02-10T11:47:48.983Z"
   },
   {
    "duration": 177,
    "start_time": "2023-02-10T11:47:48.994Z"
   },
   {
    "duration": 240,
    "start_time": "2023-02-10T11:47:49.173Z"
   },
   {
    "duration": 282,
    "start_time": "2023-02-10T11:47:49.415Z"
   },
   {
    "duration": 50,
    "start_time": "2023-02-10T11:47:49.699Z"
   },
   {
    "duration": 370,
    "start_time": "2023-02-10T11:47:49.751Z"
   },
   {
    "duration": 249,
    "start_time": "2023-02-10T11:47:50.123Z"
   },
   {
    "duration": 168,
    "start_time": "2023-02-10T11:47:50.374Z"
   },
   {
    "duration": 4,
    "start_time": "2023-02-10T11:47:50.548Z"
   },
   {
    "duration": 18,
    "start_time": "2023-02-10T11:47:50.554Z"
   },
   {
    "duration": 21,
    "start_time": "2023-02-10T11:47:50.574Z"
   },
   {
    "duration": 20,
    "start_time": "2023-02-10T11:47:50.597Z"
   },
   {
    "duration": 44,
    "start_time": "2023-02-10T11:47:50.619Z"
   },
   {
    "duration": 207,
    "start_time": "2023-02-10T11:47:50.664Z"
   },
   {
    "duration": 8,
    "start_time": "2023-02-10T11:47:50.873Z"
   },
   {
    "duration": 299,
    "start_time": "2023-02-10T11:47:50.884Z"
   },
   {
    "duration": 290,
    "start_time": "2023-02-10T11:47:51.184Z"
   },
   {
    "duration": 141,
    "start_time": "2023-02-10T11:47:51.476Z"
   },
   {
    "duration": 247,
    "start_time": "2023-02-10T11:47:51.619Z"
   },
   {
    "duration": 44,
    "start_time": "2023-02-10T11:47:51.868Z"
   },
   {
    "duration": 285,
    "start_time": "2023-02-10T11:47:51.914Z"
   },
   {
    "duration": 6,
    "start_time": "2023-02-10T11:47:52.201Z"
   },
   {
    "duration": 7,
    "start_time": "2023-02-10T11:47:52.209Z"
   },
   {
    "duration": 5,
    "start_time": "2023-02-10T11:47:52.218Z"
   },
   {
    "duration": 23,
    "start_time": "2023-02-10T11:47:52.225Z"
   },
   {
    "duration": 414,
    "start_time": "2023-02-10T11:47:52.250Z"
   },
   {
    "duration": 3,
    "start_time": "2023-02-10T11:47:52.666Z"
   },
   {
    "duration": 25,
    "start_time": "2023-02-10T11:47:52.671Z"
   },
   {
    "duration": 3742,
    "start_time": "2023-02-10T11:47:52.697Z"
   },
   {
    "duration": 45,
    "start_time": "2023-02-10T11:47:56.440Z"
   },
   {
    "duration": 920,
    "start_time": "2023-02-10T11:47:56.487Z"
   },
   {
    "duration": 132,
    "start_time": "2023-02-10T11:47:57.409Z"
   },
   {
    "duration": 165,
    "start_time": "2023-02-10T11:47:57.543Z"
   },
   {
    "duration": 297,
    "start_time": "2023-02-10T11:47:57.710Z"
   },
   {
    "duration": 323,
    "start_time": "2023-02-10T11:47:58.009Z"
   },
   {
    "duration": 6,
    "start_time": "2023-02-10T11:47:58.333Z"
   },
   {
    "duration": 20,
    "start_time": "2023-02-10T11:47:58.347Z"
   },
   {
    "duration": 348,
    "start_time": "2023-02-10T11:47:58.369Z"
   },
   {
    "duration": 1999,
    "start_time": "2023-02-10T11:47:58.720Z"
   },
   {
    "duration": 555,
    "start_time": "2023-02-10T11:48:00.721Z"
   },
   {
    "duration": 580,
    "start_time": "2023-02-10T11:48:01.277Z"
   },
   {
    "duration": 552,
    "start_time": "2023-02-10T11:48:01.858Z"
   },
   {
    "duration": 1247,
    "start_time": "2023-02-10T11:48:02.412Z"
   },
   {
    "duration": 15,
    "start_time": "2023-02-10T11:48:03.661Z"
   },
   {
    "duration": 156,
    "start_time": "2023-02-10T11:48:03.678Z"
   },
   {
    "duration": 372,
    "start_time": "2023-02-10T11:48:03.836Z"
   },
   {
    "duration": 340,
    "start_time": "2023-02-10T11:48:04.210Z"
   },
   {
    "duration": 25,
    "start_time": "2023-02-10T11:48:04.551Z"
   },
   {
    "duration": 164,
    "start_time": "2023-02-10T11:48:04.577Z"
   },
   {
    "duration": 8,
    "start_time": "2023-02-10T11:48:04.743Z"
   },
   {
    "duration": 11,
    "start_time": "2023-02-10T11:48:04.752Z"
   },
   {
    "duration": 23,
    "start_time": "2023-02-10T11:48:04.765Z"
   },
   {
    "duration": 173,
    "start_time": "2023-02-10T11:48:04.790Z"
   },
   {
    "duration": 28,
    "start_time": "2023-02-10T11:48:04.965Z"
   },
   {
    "duration": 54,
    "start_time": "2023-02-10T11:48:04.994Z"
   },
   {
    "duration": 3,
    "start_time": "2023-02-10T11:48:05.050Z"
   },
   {
    "duration": 3757,
    "start_time": "2023-02-10T11:48:05.054Z"
   },
   {
    "duration": 383,
    "start_time": "2023-02-10T11:48:08.812Z"
   },
   {
    "duration": 957,
    "start_time": "2023-02-10T11:48:09.196Z"
   },
   {
    "duration": 214,
    "start_time": "2023-02-10T11:48:10.155Z"
   },
   {
    "duration": 20,
    "start_time": "2023-02-10T11:50:17.304Z"
   },
   {
    "duration": 108,
    "start_time": "2023-02-10T11:50:22.522Z"
   },
   {
    "duration": 17,
    "start_time": "2023-02-10T11:50:28.258Z"
   },
   {
    "duration": 15,
    "start_time": "2023-02-10T11:50:47.044Z"
   },
   {
    "duration": 226,
    "start_time": "2023-02-10T11:50:56.148Z"
   }
  ],
  "kernelspec": {
   "display_name": "Python 3 (ipykernel)",
   "language": "python",
   "name": "python3"
  },
  "language_info": {
   "codemirror_mode": {
    "name": "ipython",
    "version": 3
   },
   "file_extension": ".py",
   "mimetype": "text/x-python",
   "name": "python",
   "nbconvert_exporter": "python",
   "pygments_lexer": "ipython3",
   "version": "3.9.15"
  },
  "toc": {
   "base_numbering": 1,
   "nav_menu": {},
   "number_sections": true,
   "sideBar": true,
   "skip_h1_title": true,
   "title_cell": "Table of Contents",
   "title_sidebar": "Contents",
   "toc_cell": false,
   "toc_position": {},
   "toc_section_display": true,
   "toc_window_display": true
  }
 },
 "nbformat": 4,
 "nbformat_minor": 2
}
