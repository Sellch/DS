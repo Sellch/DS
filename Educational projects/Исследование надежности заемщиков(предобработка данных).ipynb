{
 "cells": [
  {
   "cell_type": "markdown",
   "source": [
    "# Исследование надежности заемщиков"
   ],
   "metadata": {
    "collapsed": false
   }
  },
  {
   "cell_type": "markdown",
   "id": "b86d8338",
   "metadata": {},
   "source": [
    "---\n",
    "## Цель проекта"
   ]
  },
  {
   "cell_type": "markdown",
   "id": "dada6ae5",
   "metadata": {},
   "source": [
    "<div style=\"border:solid orange 2px; padding: 5px\">\n",
    "<div class=\"alert alert-info\"> <b>Провести исследование на основе предоставленных данных и выяснить, как влияют на оценку надежности кредитуемого различные значения в критериях:</b></div>\n",
    "\n",
    "- __*количество детей*__\n",
    "- __*семейное положение*__\n",
    "- __*уровень дохода*__\n",
    "- __*цель кредита*__"
   ]
  },
  {
   "cell_type": "markdown",
   "id": "79c6efab",
   "metadata": {},
   "source": [
    "---\n",
    "## Описание проекта"
   ]
  },
  {
   "cell_type": "markdown",
   "id": "c02b7408",
   "metadata": {},
   "source": [
    "__*Заказчик — кредитный отдел банка. Входные данные от банка — статистика о платёжеспособности клиентов.\n",
    "Результаты исследования будут учтены при построении модели кредитного скоринга — специальной системы, которая оценивает способность потенциального заёмщика вернуть кредит банку.*__"
   ]
  },
  {
   "cell_type": "markdown",
   "id": "0aa64f37",
   "metadata": {},
   "source": [
    "---\n",
    "### *Описание данных*"
   ]
  },
  {
   "cell_type": "markdown",
   "id": "e3ec0a72",
   "metadata": {},
   "source": [
    "__*Для исследования получен csv-файл `data.csv`*__\n",
    "\n",
    "- __*`children` — количество детей в семье*__\n",
    "- __*`days_employed` — общий трудовой стаж в днях*__\n",
    "- __*`dob_years` — возраст клиента в годах*__\n",
    "- __*`education` — уровень образования клиента*__\n",
    "- __*`education_id` — идентификатор уровня образования*__\n",
    "- __*`family_status` — семейное положение*__\n",
    "- __*`family_status_id` — идентификатор семейного положения*__\n",
    "- __*`gender` — пол клиента*__\n",
    "- __*`income_type` — тип занятости*__\n",
    "- __*`debt` — имел ли задолженность по возврату кредитов*__\n",
    "- __*`total_income` — ежемесячный доход*__\n",
    "- __*`purpose` — цель получения кредита*__"
   ]
  },
  {
   "cell_type": "markdown",
   "id": "2857b8c6",
   "metadata": {},
   "source": [
    "---\n",
    "## Ход исследования"
   ]
  },
  {
   "cell_type": "markdown",
   "id": "58858199",
   "metadata": {},
   "source": [
    "1. __*Изучение общей информации о данных*__\n",
    "2. __*Предобработка данных*__\n",
    "3. __*Проведение исследования по поставленным целям*__"
   ]
  },
  {
   "cell_type": "markdown",
   "id": "6cdc4620",
   "metadata": {
    "deletable": false,
    "editable": false,
    "id": "744d7639"
   },
   "source": [
    "---\n",
    "## Изучение общей информации о данных"
   ]
  },
  {
   "cell_type": "markdown",
   "id": "258484f7",
   "metadata": {
    "deletable": false,
    "editable": false,
    "id": "e7a14c31"
   },
   "source": [
    "__*Считаем данные из имеющегося csv-файла data.csv.*__"
   ]
  },
  {
   "cell_type": "code",
   "execution_count": 1,
   "id": "885e1609",
   "metadata": {
    "deletable": false,
    "id": "7bcf75c9"
   },
   "outputs": [],
   "source": [
    "#  Импортируем библиотеку pandas\n",
    "import pandas as pd\n",
    "from nltk.stem import SnowballStemmer\n",
    "from collections import Counter\n",
    "\n",
    "snow_stem_rus = SnowballStemmer(language='russian')\n",
    "#  Используем блок try - except для обработки исключений и гарантированного доступа к файлу.\n",
    "#  Считаем данные из csv-файла в датафрейм и сохраним его в переменной 'data'.\n",
    "try:\n",
    "    data = pd.read_csv('datasets/data.csv')\n",
    "except:\n",
    "    data = pd.read_csv('https://code.s3.yandex.net/datasets/data.csv')"
   ]
  },
  {
   "cell_type": "markdown",
   "id": "8ca9288a",
   "metadata": {
    "deletable": false,
    "editable": false,
    "id": "b8038fe3"
   },
   "source": [
    "__*Выведем первые 20 строчек DataFrame `data` на экран, для ознакомления с DF. (сокр. 'DF' далее по тексту)*__"
   ]
  },
  {
   "cell_type": "code",
   "execution_count": 2,
   "id": "36a7c96d",
   "metadata": {
    "deletable": false,
    "id": "2a7cab99",
    "outputId": "1a8f3ef2-d323-4ec2-ddf7-89670b5944c4"
   },
   "outputs": [
    {
     "data": {
      "text/plain": "    children  days_employed  dob_years            education  education_id  \\\n0          1   -8437.673028         42               высшее             0   \n1          1   -4024.803754         36              среднее             1   \n2          0   -5623.422610         33              Среднее             1   \n3          3   -4124.747207         32              среднее             1   \n4          0  340266.072047         53              среднее             1   \n5          0    -926.185831         27               высшее             0   \n6          0   -2879.202052         43               высшее             0   \n7          0    -152.779569         50              СРЕДНЕЕ             1   \n8          2   -6929.865299         35               ВЫСШЕЕ             0   \n9          0   -2188.756445         41              среднее             1   \n10         2   -4171.483647         36               высшее             0   \n11         0    -792.701887         40              среднее             1   \n12         0            NaN         65              среднее             1   \n13         0   -1846.641941         54  неоконченное высшее             2   \n14         0   -1844.956182         56               высшее             0   \n15         1    -972.364419         26              среднее             1   \n16         0   -1719.934226         35              среднее             1   \n17         0   -2369.999720         33               высшее             0   \n18         0  400281.136913         53              среднее             1   \n19         0  -10038.818549         48              СРЕДНЕЕ             1   \n\n       family_status  family_status_id gender income_type  debt  \\\n0    женат / замужем                 0      F   сотрудник     0   \n1    женат / замужем                 0      F   сотрудник     0   \n2    женат / замужем                 0      M   сотрудник     0   \n3    женат / замужем                 0      M   сотрудник     0   \n4   гражданский брак                 1      F   пенсионер     0   \n5   гражданский брак                 1      M   компаньон     0   \n6    женат / замужем                 0      F   компаньон     0   \n7    женат / замужем                 0      M   сотрудник     0   \n8   гражданский брак                 1      F   сотрудник     0   \n9    женат / замужем                 0      M   сотрудник     0   \n10   женат / замужем                 0      M   компаньон     0   \n11   женат / замужем                 0      F   сотрудник     0   \n12  гражданский брак                 1      M   пенсионер     0   \n13   женат / замужем                 0      F   сотрудник     0   \n14  гражданский брак                 1      F   компаньон     1   \n15   женат / замужем                 0      F   сотрудник     0   \n16   женат / замужем                 0      F   сотрудник     0   \n17  гражданский брак                 1      M   сотрудник     0   \n18    вдовец / вдова                 2      F   пенсионер     0   \n19         в разводе                 3      F   сотрудник     0   \n\n     total_income                                 purpose  \n0   253875.639453                           покупка жилья  \n1   112080.014102                 приобретение автомобиля  \n2   145885.952297                           покупка жилья  \n3   267628.550329              дополнительное образование  \n4   158616.077870                         сыграть свадьбу  \n5   255763.565419                           покупка жилья  \n6   240525.971920                       операции с жильем  \n7   135823.934197                             образование  \n8    95856.832424                   на проведение свадьбы  \n9   144425.938277                 покупка жилья для семьи  \n10  113943.491460                    покупка недвижимости  \n11   77069.234271       покупка коммерческой недвижимости  \n12            NaN                         сыграть свадьбу  \n13  130458.228857                 приобретение автомобиля  \n14  165127.911772              покупка жилой недвижимости  \n15  116820.904450  строительство собственной недвижимости  \n16  289202.704229                            недвижимость  \n17   90410.586745              строительство недвижимости  \n18   56823.777243      на покупку подержанного автомобиля  \n19  242831.107982            на покупку своего автомобиля  ",
      "text/html": "<div>\n<style scoped>\n    .dataframe tbody tr th:only-of-type {\n        vertical-align: middle;\n    }\n\n    .dataframe tbody tr th {\n        vertical-align: top;\n    }\n\n    .dataframe thead th {\n        text-align: right;\n    }\n</style>\n<table border=\"1\" class=\"dataframe\">\n  <thead>\n    <tr style=\"text-align: right;\">\n      <th></th>\n      <th>children</th>\n      <th>days_employed</th>\n      <th>dob_years</th>\n      <th>education</th>\n      <th>education_id</th>\n      <th>family_status</th>\n      <th>family_status_id</th>\n      <th>gender</th>\n      <th>income_type</th>\n      <th>debt</th>\n      <th>total_income</th>\n      <th>purpose</th>\n    </tr>\n  </thead>\n  <tbody>\n    <tr>\n      <th>0</th>\n      <td>1</td>\n      <td>-8437.673028</td>\n      <td>42</td>\n      <td>высшее</td>\n      <td>0</td>\n      <td>женат / замужем</td>\n      <td>0</td>\n      <td>F</td>\n      <td>сотрудник</td>\n      <td>0</td>\n      <td>253875.639453</td>\n      <td>покупка жилья</td>\n    </tr>\n    <tr>\n      <th>1</th>\n      <td>1</td>\n      <td>-4024.803754</td>\n      <td>36</td>\n      <td>среднее</td>\n      <td>1</td>\n      <td>женат / замужем</td>\n      <td>0</td>\n      <td>F</td>\n      <td>сотрудник</td>\n      <td>0</td>\n      <td>112080.014102</td>\n      <td>приобретение автомобиля</td>\n    </tr>\n    <tr>\n      <th>2</th>\n      <td>0</td>\n      <td>-5623.422610</td>\n      <td>33</td>\n      <td>Среднее</td>\n      <td>1</td>\n      <td>женат / замужем</td>\n      <td>0</td>\n      <td>M</td>\n      <td>сотрудник</td>\n      <td>0</td>\n      <td>145885.952297</td>\n      <td>покупка жилья</td>\n    </tr>\n    <tr>\n      <th>3</th>\n      <td>3</td>\n      <td>-4124.747207</td>\n      <td>32</td>\n      <td>среднее</td>\n      <td>1</td>\n      <td>женат / замужем</td>\n      <td>0</td>\n      <td>M</td>\n      <td>сотрудник</td>\n      <td>0</td>\n      <td>267628.550329</td>\n      <td>дополнительное образование</td>\n    </tr>\n    <tr>\n      <th>4</th>\n      <td>0</td>\n      <td>340266.072047</td>\n      <td>53</td>\n      <td>среднее</td>\n      <td>1</td>\n      <td>гражданский брак</td>\n      <td>1</td>\n      <td>F</td>\n      <td>пенсионер</td>\n      <td>0</td>\n      <td>158616.077870</td>\n      <td>сыграть свадьбу</td>\n    </tr>\n    <tr>\n      <th>5</th>\n      <td>0</td>\n      <td>-926.185831</td>\n      <td>27</td>\n      <td>высшее</td>\n      <td>0</td>\n      <td>гражданский брак</td>\n      <td>1</td>\n      <td>M</td>\n      <td>компаньон</td>\n      <td>0</td>\n      <td>255763.565419</td>\n      <td>покупка жилья</td>\n    </tr>\n    <tr>\n      <th>6</th>\n      <td>0</td>\n      <td>-2879.202052</td>\n      <td>43</td>\n      <td>высшее</td>\n      <td>0</td>\n      <td>женат / замужем</td>\n      <td>0</td>\n      <td>F</td>\n      <td>компаньон</td>\n      <td>0</td>\n      <td>240525.971920</td>\n      <td>операции с жильем</td>\n    </tr>\n    <tr>\n      <th>7</th>\n      <td>0</td>\n      <td>-152.779569</td>\n      <td>50</td>\n      <td>СРЕДНЕЕ</td>\n      <td>1</td>\n      <td>женат / замужем</td>\n      <td>0</td>\n      <td>M</td>\n      <td>сотрудник</td>\n      <td>0</td>\n      <td>135823.934197</td>\n      <td>образование</td>\n    </tr>\n    <tr>\n      <th>8</th>\n      <td>2</td>\n      <td>-6929.865299</td>\n      <td>35</td>\n      <td>ВЫСШЕЕ</td>\n      <td>0</td>\n      <td>гражданский брак</td>\n      <td>1</td>\n      <td>F</td>\n      <td>сотрудник</td>\n      <td>0</td>\n      <td>95856.832424</td>\n      <td>на проведение свадьбы</td>\n    </tr>\n    <tr>\n      <th>9</th>\n      <td>0</td>\n      <td>-2188.756445</td>\n      <td>41</td>\n      <td>среднее</td>\n      <td>1</td>\n      <td>женат / замужем</td>\n      <td>0</td>\n      <td>M</td>\n      <td>сотрудник</td>\n      <td>0</td>\n      <td>144425.938277</td>\n      <td>покупка жилья для семьи</td>\n    </tr>\n    <tr>\n      <th>10</th>\n      <td>2</td>\n      <td>-4171.483647</td>\n      <td>36</td>\n      <td>высшее</td>\n      <td>0</td>\n      <td>женат / замужем</td>\n      <td>0</td>\n      <td>M</td>\n      <td>компаньон</td>\n      <td>0</td>\n      <td>113943.491460</td>\n      <td>покупка недвижимости</td>\n    </tr>\n    <tr>\n      <th>11</th>\n      <td>0</td>\n      <td>-792.701887</td>\n      <td>40</td>\n      <td>среднее</td>\n      <td>1</td>\n      <td>женат / замужем</td>\n      <td>0</td>\n      <td>F</td>\n      <td>сотрудник</td>\n      <td>0</td>\n      <td>77069.234271</td>\n      <td>покупка коммерческой недвижимости</td>\n    </tr>\n    <tr>\n      <th>12</th>\n      <td>0</td>\n      <td>NaN</td>\n      <td>65</td>\n      <td>среднее</td>\n      <td>1</td>\n      <td>гражданский брак</td>\n      <td>1</td>\n      <td>M</td>\n      <td>пенсионер</td>\n      <td>0</td>\n      <td>NaN</td>\n      <td>сыграть свадьбу</td>\n    </tr>\n    <tr>\n      <th>13</th>\n      <td>0</td>\n      <td>-1846.641941</td>\n      <td>54</td>\n      <td>неоконченное высшее</td>\n      <td>2</td>\n      <td>женат / замужем</td>\n      <td>0</td>\n      <td>F</td>\n      <td>сотрудник</td>\n      <td>0</td>\n      <td>130458.228857</td>\n      <td>приобретение автомобиля</td>\n    </tr>\n    <tr>\n      <th>14</th>\n      <td>0</td>\n      <td>-1844.956182</td>\n      <td>56</td>\n      <td>высшее</td>\n      <td>0</td>\n      <td>гражданский брак</td>\n      <td>1</td>\n      <td>F</td>\n      <td>компаньон</td>\n      <td>1</td>\n      <td>165127.911772</td>\n      <td>покупка жилой недвижимости</td>\n    </tr>\n    <tr>\n      <th>15</th>\n      <td>1</td>\n      <td>-972.364419</td>\n      <td>26</td>\n      <td>среднее</td>\n      <td>1</td>\n      <td>женат / замужем</td>\n      <td>0</td>\n      <td>F</td>\n      <td>сотрудник</td>\n      <td>0</td>\n      <td>116820.904450</td>\n      <td>строительство собственной недвижимости</td>\n    </tr>\n    <tr>\n      <th>16</th>\n      <td>0</td>\n      <td>-1719.934226</td>\n      <td>35</td>\n      <td>среднее</td>\n      <td>1</td>\n      <td>женат / замужем</td>\n      <td>0</td>\n      <td>F</td>\n      <td>сотрудник</td>\n      <td>0</td>\n      <td>289202.704229</td>\n      <td>недвижимость</td>\n    </tr>\n    <tr>\n      <th>17</th>\n      <td>0</td>\n      <td>-2369.999720</td>\n      <td>33</td>\n      <td>высшее</td>\n      <td>0</td>\n      <td>гражданский брак</td>\n      <td>1</td>\n      <td>M</td>\n      <td>сотрудник</td>\n      <td>0</td>\n      <td>90410.586745</td>\n      <td>строительство недвижимости</td>\n    </tr>\n    <tr>\n      <th>18</th>\n      <td>0</td>\n      <td>400281.136913</td>\n      <td>53</td>\n      <td>среднее</td>\n      <td>1</td>\n      <td>вдовец / вдова</td>\n      <td>2</td>\n      <td>F</td>\n      <td>пенсионер</td>\n      <td>0</td>\n      <td>56823.777243</td>\n      <td>на покупку подержанного автомобиля</td>\n    </tr>\n    <tr>\n      <th>19</th>\n      <td>0</td>\n      <td>-10038.818549</td>\n      <td>48</td>\n      <td>СРЕДНЕЕ</td>\n      <td>1</td>\n      <td>в разводе</td>\n      <td>3</td>\n      <td>F</td>\n      <td>сотрудник</td>\n      <td>0</td>\n      <td>242831.107982</td>\n      <td>на покупку своего автомобиля</td>\n    </tr>\n  </tbody>\n</table>\n</div>"
     },
     "execution_count": 2,
     "metadata": {},
     "output_type": "execute_result"
    }
   ],
   "source": [
    "#  Метод head() позволит отобразить первые 20 строк нашего DF.\n",
    "data.head(20)"
   ]
  },
  {
   "cell_type": "markdown",
   "id": "697aad10",
   "metadata": {
    "deletable": false,
    "editable": false,
    "id": "1c12e233"
   },
   "source": [
    "__*Выведем основную информацию о DF, для получения первичных сведений об имеющихся данных.*__"
   ]
  },
  {
   "cell_type": "code",
   "execution_count": 3,
   "id": "4c7db4ca",
   "metadata": {
    "deletable": false,
    "id": "2b757bca",
    "outputId": "15376089-8dad-46c9-b520-c05248d43158"
   },
   "outputs": [
    {
     "name": "stdout",
     "output_type": "stream",
     "text": [
      "<class 'pandas.core.frame.DataFrame'>\n",
      "RangeIndex: 21525 entries, 0 to 21524\n",
      "Data columns (total 12 columns):\n",
      " #   Column            Non-Null Count  Dtype  \n",
      "---  ------            --------------  -----  \n",
      " 0   children          21525 non-null  int64  \n",
      " 1   days_employed     19351 non-null  float64\n",
      " 2   dob_years         21525 non-null  int64  \n",
      " 3   education         21525 non-null  object \n",
      " 4   education_id      21525 non-null  int64  \n",
      " 5   family_status     21525 non-null  object \n",
      " 6   family_status_id  21525 non-null  int64  \n",
      " 7   gender            21525 non-null  object \n",
      " 8   income_type       21525 non-null  object \n",
      " 9   debt              21525 non-null  int64  \n",
      " 10  total_income      19351 non-null  float64\n",
      " 11  purpose           21525 non-null  object \n",
      "dtypes: float64(2), int64(5), object(5)\n",
      "memory usage: 2.0+ MB\n"
     ]
    }
   ],
   "source": [
    "#  Вывод осуществим с помощью метода `info()`\n",
    "data.info()"
   ]
  },
  {
   "cell_type": "markdown",
   "id": "de9320a0",
   "metadata": {},
   "source": [
    "### *Выводы после изучения общей информации о данных*"
   ]
  },
  {
   "cell_type": "markdown",
   "id": "f95ae73b",
   "metadata": {},
   "source": [
    "<div style=\"border:solid green 2px; padding: 5px\">\n",
    "\n",
    "__*После изучения общей информации о предоставленных данных были обнаружены следующие проблемы:*__\n",
    "* __*Наличие отрицательных значения в столбце `days_employed`*__\n",
    "* __*Наличие неявных дубликатов в столбце `education`*__\n",
    "* __*Пропущены значения в столбцах `days_employed` и `total_income`*__\n",
    "\n",
    "__*При предобработке данных необходимо учесть и устранить перечисленные выше проблемы.*__"
   ]
  },
  {
   "cell_type": "markdown",
   "id": "b3c1be48",
   "metadata": {
    "deletable": false,
    "editable": false,
    "id": "333ec665"
   },
   "source": [
    "---\n",
    "## Предобработка данных"
   ]
  },
  {
   "cell_type": "markdown",
   "id": "6f9e67d5",
   "metadata": {
    "deletable": false,
    "editable": false,
    "id": "02d92d53"
   },
   "source": [
    "---\n",
    "### *Удаление пропусков*"
   ]
  },
  {
   "cell_type": "markdown",
   "id": "76f36b1b",
   "metadata": {
    "deletable": false,
    "editable": false,
    "id": "cd84967c"
   },
   "source": [
    "__*При первичном ознакомлении с данными было обнаружено, что в нескольких столбцах имеются пропущенные значения. Убедимся в этом и выведем количество пропущенных значений для каждого столбца.*__"
   ]
  },
  {
   "cell_type": "code",
   "execution_count": 4,
   "id": "d7f11857",
   "metadata": {
    "deletable": false,
    "id": "7f9b2309",
    "outputId": "81f4d817-781c-465c-ed15-91ce4446810d"
   },
   "outputs": [
    {
     "data": {
      "text/plain": "children               0\ndays_employed       2174\ndob_years              0\neducation              0\neducation_id           0\nfamily_status          0\nfamily_status_id       0\ngender                 0\nincome_type            0\ndebt                   0\ntotal_income        2174\npurpose                0\ndtype: int64"
     },
     "execution_count": 4,
     "metadata": {},
     "output_type": "execute_result"
    }
   ],
   "source": [
    "data.isna().sum()\n",
    "#  Используем два метода: первый метод - isna() возвращает нам DF со значениями True or False в зависимости от наличия или отсутствия пропуска соответственно.\n",
    "#  Второй метод sum() вернет нам количество пропущенных значений в каждом столбце, сложив их по правилам булевой логики (True = 1, False = 0)."
   ]
  },
  {
   "cell_type": "markdown",
   "id": "dc6e918c",
   "metadata": {},
   "source": [
    "__*Проанализируем характер возникновения пропусков, для этого выведем строки с пропущенными значениями.*__"
   ]
  },
  {
   "cell_type": "code",
   "execution_count": 5,
   "id": "76eca1cf",
   "metadata": {},
   "outputs": [
    {
     "data": {
      "text/plain": "    children  days_employed  dob_years education  education_id  \\\n12         0            NaN         65   среднее             1   \n26         0            NaN         41   среднее             1   \n29         0            NaN         63   среднее             1   \n41         0            NaN         50   среднее             1   \n55         0            NaN         54   среднее             1   \n65         0            NaN         21   среднее             1   \n67         0            NaN         52    высшее             0   \n72         1            NaN         32    высшее             0   \n82         2            NaN         50    высшее             0   \n83         0            NaN         52   среднее             1   \n\n            family_status  family_status_id gender  income_type  debt  \\\n12       гражданский брак                 1      M    пенсионер     0   \n26        женат / замужем                 0      M  госслужащий     0   \n29  Не женат / не замужем                 4      F    пенсионер     0   \n41        женат / замужем                 0      F  госслужащий     0   \n55       гражданский брак                 1      F    пенсионер     1   \n65  Не женат / не замужем                 4      M    компаньон     0   \n67        женат / замужем                 0      F    пенсионер     0   \n72        женат / замужем                 0      M  госслужащий     0   \n82        женат / замужем                 0      F    сотрудник     0   \n83        женат / замужем                 0      M    сотрудник     0   \n\n    total_income                                purpose  \n12           NaN                        сыграть свадьбу  \n26           NaN                            образование  \n29           NaN       строительство жилой недвижимости  \n41           NaN       сделка с подержанным автомобилем  \n55           NaN                        сыграть свадьбу  \n65           NaN  операции с коммерческой недвижимостью  \n67           NaN                покупка жилья для семьи  \n72           NaN  операции с коммерческой недвижимостью  \n82           NaN                                  жилье  \n83           NaN                                  жилье  ",
      "text/html": "<div>\n<style scoped>\n    .dataframe tbody tr th:only-of-type {\n        vertical-align: middle;\n    }\n\n    .dataframe tbody tr th {\n        vertical-align: top;\n    }\n\n    .dataframe thead th {\n        text-align: right;\n    }\n</style>\n<table border=\"1\" class=\"dataframe\">\n  <thead>\n    <tr style=\"text-align: right;\">\n      <th></th>\n      <th>children</th>\n      <th>days_employed</th>\n      <th>dob_years</th>\n      <th>education</th>\n      <th>education_id</th>\n      <th>family_status</th>\n      <th>family_status_id</th>\n      <th>gender</th>\n      <th>income_type</th>\n      <th>debt</th>\n      <th>total_income</th>\n      <th>purpose</th>\n    </tr>\n  </thead>\n  <tbody>\n    <tr>\n      <th>12</th>\n      <td>0</td>\n      <td>NaN</td>\n      <td>65</td>\n      <td>среднее</td>\n      <td>1</td>\n      <td>гражданский брак</td>\n      <td>1</td>\n      <td>M</td>\n      <td>пенсионер</td>\n      <td>0</td>\n      <td>NaN</td>\n      <td>сыграть свадьбу</td>\n    </tr>\n    <tr>\n      <th>26</th>\n      <td>0</td>\n      <td>NaN</td>\n      <td>41</td>\n      <td>среднее</td>\n      <td>1</td>\n      <td>женат / замужем</td>\n      <td>0</td>\n      <td>M</td>\n      <td>госслужащий</td>\n      <td>0</td>\n      <td>NaN</td>\n      <td>образование</td>\n    </tr>\n    <tr>\n      <th>29</th>\n      <td>0</td>\n      <td>NaN</td>\n      <td>63</td>\n      <td>среднее</td>\n      <td>1</td>\n      <td>Не женат / не замужем</td>\n      <td>4</td>\n      <td>F</td>\n      <td>пенсионер</td>\n      <td>0</td>\n      <td>NaN</td>\n      <td>строительство жилой недвижимости</td>\n    </tr>\n    <tr>\n      <th>41</th>\n      <td>0</td>\n      <td>NaN</td>\n      <td>50</td>\n      <td>среднее</td>\n      <td>1</td>\n      <td>женат / замужем</td>\n      <td>0</td>\n      <td>F</td>\n      <td>госслужащий</td>\n      <td>0</td>\n      <td>NaN</td>\n      <td>сделка с подержанным автомобилем</td>\n    </tr>\n    <tr>\n      <th>55</th>\n      <td>0</td>\n      <td>NaN</td>\n      <td>54</td>\n      <td>среднее</td>\n      <td>1</td>\n      <td>гражданский брак</td>\n      <td>1</td>\n      <td>F</td>\n      <td>пенсионер</td>\n      <td>1</td>\n      <td>NaN</td>\n      <td>сыграть свадьбу</td>\n    </tr>\n    <tr>\n      <th>65</th>\n      <td>0</td>\n      <td>NaN</td>\n      <td>21</td>\n      <td>среднее</td>\n      <td>1</td>\n      <td>Не женат / не замужем</td>\n      <td>4</td>\n      <td>M</td>\n      <td>компаньон</td>\n      <td>0</td>\n      <td>NaN</td>\n      <td>операции с коммерческой недвижимостью</td>\n    </tr>\n    <tr>\n      <th>67</th>\n      <td>0</td>\n      <td>NaN</td>\n      <td>52</td>\n      <td>высшее</td>\n      <td>0</td>\n      <td>женат / замужем</td>\n      <td>0</td>\n      <td>F</td>\n      <td>пенсионер</td>\n      <td>0</td>\n      <td>NaN</td>\n      <td>покупка жилья для семьи</td>\n    </tr>\n    <tr>\n      <th>72</th>\n      <td>1</td>\n      <td>NaN</td>\n      <td>32</td>\n      <td>высшее</td>\n      <td>0</td>\n      <td>женат / замужем</td>\n      <td>0</td>\n      <td>M</td>\n      <td>госслужащий</td>\n      <td>0</td>\n      <td>NaN</td>\n      <td>операции с коммерческой недвижимостью</td>\n    </tr>\n    <tr>\n      <th>82</th>\n      <td>2</td>\n      <td>NaN</td>\n      <td>50</td>\n      <td>высшее</td>\n      <td>0</td>\n      <td>женат / замужем</td>\n      <td>0</td>\n      <td>F</td>\n      <td>сотрудник</td>\n      <td>0</td>\n      <td>NaN</td>\n      <td>жилье</td>\n    </tr>\n    <tr>\n      <th>83</th>\n      <td>0</td>\n      <td>NaN</td>\n      <td>52</td>\n      <td>среднее</td>\n      <td>1</td>\n      <td>женат / замужем</td>\n      <td>0</td>\n      <td>M</td>\n      <td>сотрудник</td>\n      <td>0</td>\n      <td>NaN</td>\n      <td>жилье</td>\n    </tr>\n  </tbody>\n</table>\n</div>"
     },
     "execution_count": 5,
     "metadata": {},
     "output_type": "execute_result"
    }
   ],
   "source": [
    "#  Для ознакомления выведем первые 10 строк с пропущенными значениями в столбце 'days_employed'\n",
    "data[(data['total_income'].isna())].head(10)"
   ]
  },
  {
   "cell_type": "markdown",
   "id": "893dc67c",
   "metadata": {},
   "source": [
    "__*Отметим, что пропуски носят системный характер, имеется факт наличия одновременного пропуска в двух столбцах `days_employed` и `total_income`,также можно отметить отсутствие какой-либо закономерной связи с определенным значением из других столбцов.*__"
   ]
  },
  {
   "cell_type": "markdown",
   "id": "0ce12603",
   "metadata": {
    "deletable": false,
    "editable": false,
    "id": "db86e27b"
   },
   "source": [
    "__*Подтвердилось, что в двух столбцах есть пропущенные значения. Один из столбцов с пропущенными значениями — `total_income` — хранит данные о доходах. На сумму дохода сильнее всего влияет тип занятости, поэтому заполнять пропуски в этом столбце будем медианным значением по каждому типу из столбца `income_type`. Например, у человека с типом занятости `сотрудник` пропуск в столбце `total_income` будет заполнен медианным доходом среди всех записей с тем же типом.*__"
   ]
  },
  {
   "cell_type": "code",
   "execution_count": 6,
   "id": "e721d577",
   "metadata": {
    "deletable": false,
    "id": "42006a93"
   },
   "outputs": [],
   "source": [
    "data.loc[data['total_income'].isna(), 'total_income'] = data.loc[data['total_income'].isna(), 'income_type'].apply(\n",
    "    lambda x: data.loc[data['income_type'] == x, 'total_income'].median())\n",
    "#  data.loc[data['total_income'].isna(), 'total_income'] - для отсутствующих значений столбца 'total_income' присвоим\n",
    "#  медианное значение для данного типа занятости ('income_type').\n",
    "#  Для решения была использована функция lambda, которой передается тип занятости соответственного пропущенного значения 'total_income' в данной строке,\n",
    "#  обратно возвращается подсчитанное медианное значение."
   ]
  },
  {
   "cell_type": "markdown",
   "id": "33ac99de",
   "metadata": {},
   "source": [
    "__*Аналогично заполним пропуски в столбце `days_employed` медианными значениями по каждому типу занятости `income_type`.*__"
   ]
  },
  {
   "cell_type": "code",
   "execution_count": 7,
   "id": "cdf20608",
   "metadata": {},
   "outputs": [],
   "source": [
    "data.loc[data['days_employed'].isna(), 'days_employed'] = data.loc[\n",
    "    data['days_employed'].isna(), 'income_type'].apply(\n",
    "    lambda x: data.loc[data['income_type'] == x, 'days_employed'].median())"
   ]
  },
  {
   "cell_type": "markdown",
   "id": "0fde3f46",
   "metadata": {},
   "source": [
    "__*Убедимся, что все пропуски заполнены. Для этого ещё раз выведем количество пропущенных значений для каждого столбца.*__"
   ]
  },
  {
   "cell_type": "code",
   "execution_count": 8,
   "id": "2d66a1f9",
   "metadata": {},
   "outputs": [
    {
     "data": {
      "text/plain": "children            0\ndays_employed       0\ndob_years           0\neducation           0\neducation_id        0\nfamily_status       0\nfamily_status_id    0\ngender              0\nincome_type         0\ndebt                0\ntotal_income        0\npurpose             0\ndtype: int64"
     },
     "execution_count": 8,
     "metadata": {},
     "output_type": "execute_result"
    }
   ],
   "source": [
    "data.isna().sum()"
   ]
  },
  {
   "cell_type": "markdown",
   "id": "6a216107",
   "metadata": {
    "deletable": false,
    "editable": false,
    "id": "89da5ece"
   },
   "source": [
    "---\n",
    "### *Обработка аномальных значений*"
   ]
  },
  {
   "cell_type": "markdown",
   "id": "e0cf36a0",
   "metadata": {
    "deletable": false,
    "editable": false,
    "id": "57964554"
   },
   "source": [
    "__*В данных могут встречаться артефакты (аномалии) — значения, которые не отражают действительность и появились по какой-то ошибке, таким артефактом является отрицательное количество дней трудового стажа в столбце `days_employed`. Обработаем значения в этом столбце: заменим все отрицательные значения положительными.*__"
   ]
  },
  {
   "cell_type": "code",
   "execution_count": 9,
   "id": "bf0e3ba7",
   "metadata": {
    "deletable": false,
    "id": "f6f055bf"
   },
   "outputs": [],
   "source": [
    "data['days_employed'] = data['days_employed'].abs()\n",
    "#  Метод abs() возвращает модуль числа"
   ]
  },
  {
   "cell_type": "markdown",
   "id": "30c69b83",
   "metadata": {
    "deletable": false,
    "editable": false,
    "id": "6107dd2f"
   },
   "source": [
    "__*Для каждого типа занятости выведем медианное значение трудового стажа `days_employed` в днях.*__"
   ]
  },
  {
   "cell_type": "code",
   "execution_count": 10,
   "id": "82201967",
   "metadata": {
    "deletable": false,
    "id": "85a5faf6",
    "outputId": "801ef80e-522b-4668-f34e-565af7432bcf"
   },
   "outputs": [
    {
     "data": {
      "text/plain": "income_type\nбезработный        366413.652744\nв декрете            3296.759962\nгосслужащий          2689.368353\nкомпаньон            1547.382223\nпенсионер          365213.306266\nпредприниматель       520.848083\nсотрудник            1574.202821\nстудент               578.751554\nName: days_employed, dtype: float64"
     },
     "execution_count": 10,
     "metadata": {},
     "output_type": "execute_result"
    }
   ],
   "source": [
    "data.groupby('income_type')['days_employed'].median()\n",
    "#  Метод median() вернет медианное значение по столбцу 'days_employed'"
   ]
  },
  {
   "cell_type": "markdown",
   "id": "5200e5e0",
   "metadata": {
    "deletable": false,
    "editable": false,
    "id": "38d1a030"
   },
   "source": [
    "__*У двух типов (безработные и пенсионеры) получились аномально большие значения. Данный столбец не понадобится нам для исследования, поэтому оставим их как есть.*__"
   ]
  },
  {
   "cell_type": "markdown",
   "id": "4d0bfbc1",
   "metadata": {
    "deletable": false,
    "editable": false,
    "id": "d8a9f147"
   },
   "source": [
    "__*Выведем перечень уникальных значений столбца `children`.*__"
   ]
  },
  {
   "cell_type": "code",
   "execution_count": 11,
   "id": "19e67a8e",
   "metadata": {
    "deletable": false,
    "id": "ef5056eb",
    "outputId": "6975b15c-7f95-4697-d16d-a0c79b657b03"
   },
   "outputs": [
    {
     "data": {
      "text/plain": "array([ 1,  0,  3,  2, -1,  4, 20,  5], dtype=int64)"
     },
     "execution_count": 11,
     "metadata": {},
     "output_type": "execute_result"
    }
   ],
   "source": [
    "#  Метод unique() вернет список уникальных значений столбца 'children'\n",
    "data['children'].unique()"
   ]
  },
  {
   "cell_type": "markdown",
   "id": "093b30af",
   "metadata": {
    "deletable": false,
    "editable": false,
    "id": "40b9ebf2"
   },
   "source": [
    "__*В столбце `children` есть два аномальных значения. Удалим строки, в которых встречаются такие аномальные значения из DF `data`.*__"
   ]
  },
  {
   "cell_type": "code",
   "execution_count": 12,
   "id": "abe9a719",
   "metadata": {
    "deletable": false,
    "id": "3ff9801d"
   },
   "outputs": [],
   "source": [
    "#  Удаление осуществляем с помощью логической индексации. Оставим строки, где значение в столбе 'children' не равно -1 или 20, чтобы учесть оба этих условия, используем логический оператор & (and)\n",
    "data = data[(data['children'] != -1) & (data['children'] != 20)]"
   ]
  },
  {
   "cell_type": "markdown",
   "id": "e375d190",
   "metadata": {
    "deletable": false,
    "editable": false,
    "id": "bbc4d0ce"
   },
   "source": [
    "__*Ещё раз выведем перечень уникальных значений столбца `children`, чтобы убедиться, что артефакты удалены.*__"
   ]
  },
  {
   "cell_type": "code",
   "execution_count": 13,
   "id": "98297dcb",
   "metadata": {
    "deletable": false,
    "id": "ad4fa8b7",
    "outputId": "b2097101-d49d-44d9-901b-32a65c9463d1"
   },
   "outputs": [
    {
     "data": {
      "text/plain": "array([1, 0, 3, 2, 4, 5], dtype=int64)"
     },
     "execution_count": 13,
     "metadata": {},
     "output_type": "execute_result"
    }
   ],
   "source": [
    "data['children'].unique()"
   ]
  },
  {
   "cell_type": "markdown",
   "id": "032f480e",
   "metadata": {
    "deletable": false,
    "editable": false,
    "id": "ddc81e43"
   },
   "source": [
    "---\n",
    "### *Изменение типов данных*"
   ]
  },
  {
   "cell_type": "markdown",
   "id": "9ecf40cb",
   "metadata": {
    "deletable": false,
    "editable": false,
    "id": "42d19d24"
   },
   "source": [
    "__*Заменим вещественный тип данных в столбце `total_income` на целочисленный.*__"
   ]
  },
  {
   "cell_type": "code",
   "execution_count": 14,
   "id": "92be37d9",
   "metadata": {
    "deletable": false,
    "id": "920b65ad"
   },
   "outputs": [],
   "source": [
    "data['total_income'] = data['total_income'].astype(int)\n",
    "#  Используем метод astype() с указанным параметром int(integer - целые числа)"
   ]
  },
  {
   "cell_type": "markdown",
   "id": "60ebd293",
   "metadata": {
    "deletable": false,
    "editable": false,
    "id": "80c420ba"
   },
   "source": [
    "---\n",
    "### *Обработка дубликатов*"
   ]
  },
  {
   "cell_type": "markdown",
   "id": "b2b06581",
   "metadata": {
    "deletable": false,
    "editable": false
   },
   "source": [
    "__*Обработаем неявные дубликаты в столбце `education`. В этом столбце есть одни и те же значения, но записанные по-разному: с использованием заглавных и строчных букв. Приведем их к нижнему регистру.*__"
   ]
  },
  {
   "cell_type": "code",
   "execution_count": 15,
   "id": "4ed10a6c",
   "metadata": {
    "deletable": false
   },
   "outputs": [],
   "source": [
    "#  Строковый метод lower() преобразует тип данных str к нижнему регистру, применим его к каждому значению в столбце 'education'\n",
    "data['education'] = data['education'].str.lower()"
   ]
  },
  {
   "cell_type": "markdown",
   "id": "74679a97",
   "metadata": {
    "deletable": false,
    "editable": false,
    "id": "dc587695"
   },
   "source": [
    "__*Выведем на экран количество строк-дубликатов в данных.*__"
   ]
  },
  {
   "cell_type": "code",
   "execution_count": 16,
   "id": "265c0236",
   "metadata": {
    "deletable": false,
    "id": "3ee445e4",
    "outputId": "9684deba-1934-42d1-99e1-cda61740f822"
   },
   "outputs": [
    {
     "data": {
      "text/plain": "71"
     },
     "execution_count": 16,
     "metadata": {},
     "output_type": "execute_result"
    }
   ],
   "source": [
    "data.duplicated().sum()\n",
    "#  Метод duplicated() возвращает значения True or False в зависимости от того, является ли строка дубликатом, далее метод sum() суммируя булевы значения выводит общее количество дубликатов."
   ]
  },
  {
   "cell_type": "markdown",
   "id": "b47072e2",
   "metadata": {},
   "source": [
    "__*Такие строки присутствуют, удалим их.*__"
   ]
  },
  {
   "cell_type": "code",
   "execution_count": 17,
   "id": "cfe3bec4",
   "metadata": {
    "deletable": false,
    "id": "8575fe05"
   },
   "outputs": [],
   "source": [
    "data = data.drop_duplicates()\n",
    "# Метод drop_duplicates() удаляет строки со значением True(которые являются дубликатами), возвращая обратно DF очищенный от дубликатов."
   ]
  },
  {
   "cell_type": "markdown",
   "id": "8418030f",
   "metadata": {
    "deletable": false,
    "editable": false,
    "id": "9904cf55"
   },
   "source": [
    "---\n",
    "### *Категоризация данных*"
   ]
  },
  {
   "cell_type": "markdown",
   "id": "c0bd1e80",
   "metadata": {
    "deletable": false,
    "editable": false,
    "id": "72fcc8a2"
   },
   "source": [
    "__*Для проведения категоризации данных создадим в датафрейме `data` столбец `total_income_category` с категориями:*__\n",
    "\n",
    "- 0–30000 — `'E'`;\n",
    "- 30001–50000 — `'D'`;\n",
    "- 50001–200000 — `'C'`;\n",
    "- 200001–1000000 — `'B'`;\n",
    "- 1000001 и выше — `'A'`.\n",
    "\n",
    "\n",
    "__*Напишем собственную функцию с именем `categorize_income()`.*__"
   ]
  },
  {
   "cell_type": "code",
   "execution_count": 18,
   "id": "ec0ecd74",
   "metadata": {
    "deletable": false,
    "id": "e1771346"
   },
   "outputs": [],
   "source": [
    "def categorize_income(income):\n",
    "    try:\n",
    "        if 0 <= income <= 30000:\n",
    "            return 'E'\n",
    "        elif 30001 <= income <= 50000:\n",
    "            return 'D'\n",
    "        elif 50001 <= income <= 200000:\n",
    "            return 'C'\n",
    "        elif 200001 <= income <= 1000000:\n",
    "            return 'B'\n",
    "        elif income >= 1000001:\n",
    "            return 'A'\n",
    "    except:\n",
    "        pass"
   ]
  },
  {
   "cell_type": "markdown",
   "id": "866793c7",
   "metadata": {},
   "source": [
    "__*Используем данную функция для создания нового столбца `total_income_category` в DF `data`.*__"
   ]
  },
  {
   "cell_type": "code",
   "execution_count": 19,
   "id": "610f2903",
   "metadata": {
    "deletable": false,
    "id": "d5f3586d"
   },
   "outputs": [],
   "source": [
    "#  Используя метод apply() применим данную функцию к каждой строке столбца 'total_income'\n",
    "data['total_income_category'] = data['total_income'].apply(categorize_income)"
   ]
  },
  {
   "cell_type": "markdown",
   "id": "6a7ff905",
   "metadata": {
    "deletable": false,
    "editable": false,
    "id": "dde49b5c"
   },
   "source": [
    "__*Выведем на экран перечень уникальных целей взятия кредита из столбца `purpose`.*__"
   ]
  },
  {
   "cell_type": "code",
   "execution_count": 20,
   "id": "7ada1390",
   "metadata": {
    "deletable": false,
    "id": "f67ce9b3",
    "outputId": "673c12d9-7d7e-4ae0-9812-c622c89dd244"
   },
   "outputs": [
    {
     "data": {
      "text/plain": "array(['покупка жилья', 'приобретение автомобиля',\n       'дополнительное образование', 'сыграть свадьбу',\n       'операции с жильем', 'образование', 'на проведение свадьбы',\n       'покупка жилья для семьи', 'покупка недвижимости',\n       'покупка коммерческой недвижимости', 'покупка жилой недвижимости',\n       'строительство собственной недвижимости', 'недвижимость',\n       'строительство недвижимости', 'на покупку подержанного автомобиля',\n       'на покупку своего автомобиля',\n       'операции с коммерческой недвижимостью',\n       'строительство жилой недвижимости', 'жилье',\n       'операции со своей недвижимостью', 'автомобили',\n       'заняться образованием', 'сделка с подержанным автомобилем',\n       'получение образования', 'автомобиль', 'свадьба',\n       'получение дополнительного образования', 'покупка своего жилья',\n       'операции с недвижимостью', 'получение высшего образования',\n       'свой автомобиль', 'сделка с автомобилем',\n       'профильное образование', 'высшее образование',\n       'покупка жилья для сдачи', 'на покупку автомобиля', 'ремонт жилью',\n       'заняться высшим образованием'], dtype=object)"
     },
     "execution_count": 20,
     "metadata": {},
     "output_type": "execute_result"
    }
   ],
   "source": [
    "data['purpose'].unique()"
   ]
  },
  {
   "cell_type": "markdown",
   "id": "abaeabae",
   "metadata": {
    "deletable": false,
    "editable": false,
    "id": "85d0aef0"
   },
   "source": [
    "__*Создадим функцию, которая на основании данных из столбца `purpose` сформирует новый столбец `purpose_category`, в который войдут следующие категории:*__\n",
    "\n",
    "- `'операции с автомобилем'`,\n",
    "- `'операции с недвижимостью'`,\n",
    "- `'проведение свадьбы'`,\n",
    "- `'получение образования'`.\n",
    "\n",
    "__*Например, если в столбце `purpose` находится подстрока `'на покупку автомобиля'`, то в столбце `purpose_category` должна появиться строка `'операции с автомобилем'`.*__\n",
    "\n",
    "__*Изучив данные в столбце `purpose` определили, что подстроки помогут нам правильно определить категорию.*__"
   ]
  },
  {
   "cell_type": "markdown",
   "source": [
    "__*Для успешной фильтрации прежде всего нам нужно найти ключевые для классификации слова в значениях столбца 'purpose' и взять их в получившейся форме после стемминга:*__"
   ],
   "metadata": {
    "collapsed": false
   }
  },
  {
   "cell_type": "code",
   "execution_count": 21,
   "outputs": [
    {
     "data": {
      "text/plain": "Counter({'покупк': 10,\n         'жил': 9,\n         'приобретен': 1,\n         'автомобил': 8,\n         'дополнительн': 2,\n         'образован': 9,\n         'сыгра': 1,\n         'свадьб': 3,\n         'операц': 4,\n         'с': 5,\n         'на': 4,\n         'проведен': 1,\n         'для': 2,\n         'сем': 1,\n         'недвижим': 10,\n         'коммерческ': 2,\n         'строительств': 3,\n         'собствен': 1,\n         'подержа': 2,\n         'сво': 4,\n         'со': 1,\n         'автомоб': 1,\n         'заня': 2,\n         'сделк': 2,\n         'получен': 3,\n         'высш': 3,\n         'профильн': 1,\n         'сдач': 1,\n         'ремонт': 1})"
     },
     "execution_count": 21,
     "metadata": {},
     "output_type": "execute_result"
    }
   ],
   "source": [
    "purpose_unique = data.purpose.unique().tolist()  # загружаем все уникальные значения столбца purpose в список purpose_unique\n",
    "stemmed_prp_unique_words = []\n",
    "for frase in purpose_unique:  # frase по очереди примет значение каждой отдельной строки purpose_unique\n",
    "    for word in frase.split():  # word по очереди примет значение каждого отдельного слова строки frase\n",
    "        stemmed_prp_unique_words.append(snow_stem_rus.stem(word))\n",
    "    # к word применяется стемминг, полученная строка сгружается в пустой список stemmed_prp_unique_words.\n",
    "Counter(stemmed_prp_unique_words)\n",
    "#выводим словарь, в котором ключи - уникальные слова, встречающееся в столбце purpose, а значения - соответствующее количество раз, сколько данные слова встретились."
   ],
   "metadata": {
    "collapsed": false
   }
  },
  {
   "cell_type": "markdown",
   "source": [
    "__*Основы ключевых слов для каждого класса purpose:*__\n",
    "\n",
    "- операции с недвижимостью: 'недвижим', 'жил'\n",
    "- операции с автомобилями: 'автомобил', 'автомоб'\n",
    "- проведение свадьбы: 'свадьб'\n",
    "- получение образования: 'образован'"
   ],
   "metadata": {
    "collapsed": false
   }
  },
  {
   "cell_type": "code",
   "execution_count": 22,
   "id": "bc812c08",
   "metadata": {
    "deletable": false,
    "id": "e149fab4"
   },
   "outputs": [],
   "source": [
    "def categorize_purpose(goal):\n",
    "    if 'жил' in goal or 'недвижим' in goal:\n",
    "        for i in goal.split():\n",
    "            n = snow_stem_rus.stem(i)\n",
    "            if n == 'жил' or n == 'недвижим':\n",
    "                return 'операции с недвижимостью'\n",
    "    elif 'автомоб' in goal:\n",
    "        for i in goal.split():\n",
    "            n = snow_stem_rus.stem(i)\n",
    "            if n == 'автомоб' or n == 'автомобил':\n",
    "                return 'операции с автомобилем'\n",
    "    elif 'свадьб' in goal:\n",
    "        for i in goal.split():\n",
    "            if snow_stem_rus.stem(i) == 'свадьб':\n",
    "                return 'проведение свадьбы'\n",
    "    elif 'образован' in goal:\n",
    "        for i in goal.split():\n",
    "            if snow_stem_rus.stem(i) == 'образован':\n",
    "                return 'получение образования'\n",
    "    return 'Нет значений'\n",
    "\n",
    "#  Используем собственную функцию с именем `categorize_purpose()`."
   ]
  },
  {
   "cell_type": "code",
   "execution_count": 23,
   "id": "15f68eed",
   "metadata": {
    "deletable": false,
    "id": "bf36e69b"
   },
   "outputs": [],
   "source": [
    "data['purpose_category'] = data['purpose'].apply(categorize_purpose)\n",
    "#  Используя  метод apply() применим данную функцию к каждой строке столбца 'purpose'."
   ]
  },
  {
   "cell_type": "code",
   "execution_count": 24,
   "outputs": [
    {
     "data": {
      "text/plain": "array(['операции с недвижимостью', 'операции с автомобилем',\n       'получение образования', 'проведение свадьбы'], dtype=object)"
     },
     "execution_count": 24,
     "metadata": {},
     "output_type": "execute_result"
    }
   ],
   "source": [
    "data.purpose_category.unique()"
   ],
   "metadata": {
    "collapsed": false
   }
  },
  {
   "cell_type": "markdown",
   "id": "25b0ec32",
   "metadata": {},
   "source": [
    "---\n",
    "### *Выводы после предобработки данных*"
   ]
  },
  {
   "cell_type": "markdown",
   "id": "c3ec1c0a",
   "metadata": {},
   "source": [
    "<div style=\"border:solid green 2px; padding: 5px\">\n",
    "\n",
    "__*Все проблемы, которые были обнаружены на этапе изучения общей информации о данных были устранены.*__\n",
    "\n",
    "__*Отметим, что для обработки пропущенных значений в столбцах `days_employed` и `total_income`, был выбран способ заполнения пропусков медианным значением, т.к. данный способ позволяет исключить влияние выбросов(при их наличии) на среднее значение(при варианте исп. среднего значения).*__\n",
    "\n",
    "__*А также были выполнены следующие шаги:*__\n",
    "* __*Для удобной работы со значениями преобразован тип данных в столбце `total_income`.*__\n",
    "* __*Из DataFrame удалены явные дубликаты.*__\n",
    "* __*Произведена категоризация данных, в DF `data` добавлены столбцы `total_income_category` и `purpose_category`, которые отражают категорию дохода и категорию цели взятия кредита.*__\n",
    "\n",
    "__*Рекомендация: пропуски в данных носят системный характер и, вероятнее всего, вызваны техническими проблемами на этапе сохранения или обработки собираемой исходной информации. Данный момент необходимо уточнить у технических специалистов, которые обслуживают систему по сбору данных.*__\n",
    "\n",
    "__*Данные подготовлены и готовы к дальнейшему исследованию.*__"
   ]
  },
  {
   "cell_type": "markdown",
   "id": "463117ad",
   "metadata": {
    "deletable": false,
    "editable": false,
    "id": "09b242bf"
   },
   "source": [
    "---\n",
    "## Исследование данных для ответа на поставленные вопросы исследования"
   ]
  },
  {
   "cell_type": "markdown",
   "id": "3ed5d333",
   "metadata": {
    "deletable": false,
    "editable": false,
    "id": "c5d66278"
   },
   "source": [
    "### *Определим, имеется ли зависимость между количеством детей и возвратом кредита в срок.*"
   ]
  },
  {
   "cell_type": "code",
   "execution_count": 25,
   "id": "8601439c",
   "metadata": {
    "deletable": false,
    "id": "2cacfc4a"
   },
   "outputs": [
    {
     "data": {
      "text/plain": "          debt        debtors_percent\n           sum  count                \nchildren                             \n0         1063  14091        7.543822\n1          444   4808        9.234609\n2          194   2052        9.454191\n3           27    330        8.181818\n4            4     41        9.756098\n5            0      9        0.000000",
      "text/html": "<div>\n<style scoped>\n    .dataframe tbody tr th:only-of-type {\n        vertical-align: middle;\n    }\n\n    .dataframe tbody tr th {\n        vertical-align: top;\n    }\n\n    .dataframe thead tr th {\n        text-align: left;\n    }\n\n    .dataframe thead tr:last-of-type th {\n        text-align: right;\n    }\n</style>\n<table border=\"1\" class=\"dataframe\">\n  <thead>\n    <tr>\n      <th></th>\n      <th colspan=\"2\" halign=\"left\">debt</th>\n      <th>debtors_percent</th>\n    </tr>\n    <tr>\n      <th></th>\n      <th>sum</th>\n      <th>count</th>\n      <th></th>\n    </tr>\n    <tr>\n      <th>children</th>\n      <th></th>\n      <th></th>\n      <th></th>\n    </tr>\n  </thead>\n  <tbody>\n    <tr>\n      <th>0</th>\n      <td>1063</td>\n      <td>14091</td>\n      <td>7.543822</td>\n    </tr>\n    <tr>\n      <th>1</th>\n      <td>444</td>\n      <td>4808</td>\n      <td>9.234609</td>\n    </tr>\n    <tr>\n      <th>2</th>\n      <td>194</td>\n      <td>2052</td>\n      <td>9.454191</td>\n    </tr>\n    <tr>\n      <th>3</th>\n      <td>27</td>\n      <td>330</td>\n      <td>8.181818</td>\n    </tr>\n    <tr>\n      <th>4</th>\n      <td>4</td>\n      <td>41</td>\n      <td>9.756098</td>\n    </tr>\n    <tr>\n      <th>5</th>\n      <td>0</td>\n      <td>9</td>\n      <td>0.000000</td>\n    </tr>\n  </tbody>\n</table>\n</div>"
     },
     "execution_count": 25,
     "metadata": {},
     "output_type": "execute_result"
    }
   ],
   "source": [
    "data_group_children = data.groupby('children').agg({'debt': ('sum', 'count')})\n",
    "#  Группируем данные по столбцу 'children' и применяем к столбцу 'debt' два метода - sum и count и присвоим получившийся DF к переменной 'data_group_children'\n",
    "#  Это позволяет нам получить данные по количеству неблагонадежных занимателей (sum) к общему количеству кредитуемых в данной категории (count)\n",
    "\n",
    "#  Добавим новый столбец 'debtors_percent' в наш DF, который будет отражать процент неблагонадежных заемщиков в каждой из категорий.\n",
    "#  Для этого поделим количество неблагонадежных занимателей (sum) на общеее количество кредитуемых в данной категории (count) и выведем значение в процентах.\n",
    "data_group_children['debtors_percent'] = data.groupby('children')['debt'].mean() * 100\n",
    "#  Для того, чтобы проанлизировать данные, выведем таблицу на экран.\n",
    "data_group_children"
   ]
  },
  {
   "cell_type": "markdown",
   "id": "8ae68e38",
   "metadata": {},
   "source": [
    "#### *Выводы по исследованию зависимости между количеством детей и возвратом кредита в срок:*"
   ]
  },
  {
   "cell_type": "markdown",
   "id": "a1379563",
   "metadata": {},
   "source": [
    "<div style=\"border:solid green 2px; padding: 5px\">\n",
    "\n",
    "1. __*С увеличением количества детей количество имеющихся у нас данных для анализа стремительно падает, вследствие чего увеличивается погрешность.*__\n",
    "2. __*Из полученных данных наиболее достоверно мы можем констатировать, что имеется разница в 1.69 % между двумя первыми категориями: отсутствие детей и наличие одного ребенка(заемщики не имеющие детей на 1.69 % благонадежнее). Это две наибольшие по объему имеющихся данных группы, где погрешность будет сравнительно минимальная.*__\n",
    "3. __*С увеличением количества детей процент неблагонадежности заёмщиков увеличивается планомерно (по параболе).*__\n",
    "4. __*Имеется резкое уменьшение числа неблагонадежных заёмщиков в группе, где число детей равняется 3, это может быть связано с большим значением стандартного отклонения, которое возникло из-за малого объёма данных в этой группе.*__\n",
    "5. __*Из-за малого количества доступных данных по последним двум категориям их значения 'debtors_percent' с трудом можно называть достоверными.*__"
   ]
  },
  {
   "cell_type": "markdown",
   "id": "96c462d8",
   "metadata": {
    "deletable": false,
    "editable": false,
    "id": "97be82ca"
   },
   "source": [
    "---\n",
    "### Определим, имеется ли зависимость между семейным положением и возвратом кредита в срок."
   ]
  },
  {
   "cell_type": "code",
   "execution_count": 26,
   "id": "452726b7",
   "metadata": {
    "deletable": false,
    "id": "dc3f7ee8"
   },
   "outputs": [
    {
     "data": {
      "text/plain": "                      debt        debtors_percent\n                       sum  count                \nfamily_status                                    \nвдовец / вдова          63    951        6.624606\nв разводе               84   1189        7.064760\nженат / замужем        927  12261        7.560558\nгражданский брак       385   4134        9.313014\nНе женат / не замужем  273   2796        9.763948",
      "text/html": "<div>\n<style scoped>\n    .dataframe tbody tr th:only-of-type {\n        vertical-align: middle;\n    }\n\n    .dataframe tbody tr th {\n        vertical-align: top;\n    }\n\n    .dataframe thead tr th {\n        text-align: left;\n    }\n\n    .dataframe thead tr:last-of-type th {\n        text-align: right;\n    }\n</style>\n<table border=\"1\" class=\"dataframe\">\n  <thead>\n    <tr>\n      <th></th>\n      <th colspan=\"2\" halign=\"left\">debt</th>\n      <th>debtors_percent</th>\n    </tr>\n    <tr>\n      <th></th>\n      <th>sum</th>\n      <th>count</th>\n      <th></th>\n    </tr>\n    <tr>\n      <th>family_status</th>\n      <th></th>\n      <th></th>\n      <th></th>\n    </tr>\n  </thead>\n  <tbody>\n    <tr>\n      <th>вдовец / вдова</th>\n      <td>63</td>\n      <td>951</td>\n      <td>6.624606</td>\n    </tr>\n    <tr>\n      <th>в разводе</th>\n      <td>84</td>\n      <td>1189</td>\n      <td>7.064760</td>\n    </tr>\n    <tr>\n      <th>женат / замужем</th>\n      <td>927</td>\n      <td>12261</td>\n      <td>7.560558</td>\n    </tr>\n    <tr>\n      <th>гражданский брак</th>\n      <td>385</td>\n      <td>4134</td>\n      <td>9.313014</td>\n    </tr>\n    <tr>\n      <th>Не женат / не замужем</th>\n      <td>273</td>\n      <td>2796</td>\n      <td>9.763948</td>\n    </tr>\n  </tbody>\n</table>\n</div>"
     },
     "execution_count": 26,
     "metadata": {},
     "output_type": "execute_result"
    }
   ],
   "source": [
    "data_group_familiy_status = data.groupby('family_status').agg({'debt': ('sum', 'count')})\n",
    "#  Группируем данные по столбцу 'family_status' и применяем к столбцу 'debt' два метода - sum и count и присвоим получившийся DF к переменной 'data_group_familiy_status'\n",
    "#  Это позволяет нам получить данные по количеству неблагонадежных занимателей (sum) к общему количеству кредитуемых в данной категории (count)\n",
    "\n",
    "#  Добавим новый столбец 'debtors_percent' в наш DF, который будет отражать процент неблагонадежных заемщиков в каждой из категорий.\n",
    "#  Для этого поделим количество неблагонадежных занимателей (sum) на общеее количество кредитуемых в данной категории (count) и выведем значение в процентах.\n",
    "data_group_familiy_status['debtors_percent'] = data_group_familiy_status['debt']['sum'] / \\\n",
    "                                               data_group_familiy_status['debt']['count'] * 100\n",
    "\n",
    "#  Для того, чтобы более наглядно проанлизировать данные, произведем сортировку по столбцу 'debtors_percent', применив метод sort_values() к DF 'data_group_familiy_status', выведем таблицу на экран.\n",
    "data_group_familiy_status.sort_values(by='debtors_percent')"
   ]
  },
  {
   "cell_type": "markdown",
   "id": "f31d05e9",
   "metadata": {},
   "source": [
    "__*Видна явная зависимость, что люди, которые официально заключали брачный союз, являются более благонадёжными заёмщиками.*__\n",
    "__*Для наглядности создадим две новые категории и посчитаем среднее значение для данных категорий: 1 - человек был в браке, 2 - человек в браке не был.*__\n",
    "__*В первую категорию попадут значения из категорий: `вдовец / вдова`, `в разводе`, `женат / замужем`, во вторую: `гражданский брак`, `Не женат / не замужем`*__"
   ]
  },
  {
   "cell_type": "code",
   "execution_count": 27,
   "id": "8c759771",
   "metadata": {},
   "outputs": [
    {
     "data": {
      "text/plain": "             debtors_percents\nmarriage             7.083308\nnon_mariage          9.538481",
      "text/html": "<div>\n<style scoped>\n    .dataframe tbody tr th:only-of-type {\n        vertical-align: middle;\n    }\n\n    .dataframe tbody tr th {\n        vertical-align: top;\n    }\n\n    .dataframe thead th {\n        text-align: right;\n    }\n</style>\n<table border=\"1\" class=\"dataframe\">\n  <thead>\n    <tr style=\"text-align: right;\">\n      <th></th>\n      <th>debtors_percents</th>\n    </tr>\n  </thead>\n  <tbody>\n    <tr>\n      <th>marriage</th>\n      <td>7.083308</td>\n    </tr>\n    <tr>\n      <th>non_mariage</th>\n      <td>9.538481</td>\n    </tr>\n  </tbody>\n</table>\n</div>"
     },
     "execution_count": 27,
     "metadata": {},
     "output_type": "execute_result"
    }
   ],
   "source": [
    " # Найдем среднее для первых трех категорий, после этого присвоим полученное переменной 'avg_value_marriage'\n",
    "avg_value_marriage = (data_group_familiy_status.loc['вдовец / вдова', 'debtors_percent'][0] +\n",
    "                      data_group_familiy_status.loc[\n",
    "                          'в разводе', 'debtors_percent'][0] + data_group_familiy_status.loc[\n",
    "                          'женат / замужем', 'debtors_percent'][0]) / 3\n",
    "#  Найдем среднее для последний двух категорий, после этого присвоим полученное переменной 'avg_value_nonmarriage'\n",
    "avg_value_nonmarriage = (data_group_familiy_status.loc['гражданский брак', 'debtors_percent'][0] + \\\n",
    "                         data_group_familiy_status.loc[\n",
    "                             'Не женат / не замужем', 'debtors_percent'][0]) / 2\n",
    "# Создадим словарь, где ключом будет наименование столбца, назовем его 'debtors_percents', значением будет кортеж, включащий в себя найденные два средних значения для выделенных нами двух групп.\n",
    "d = {'debtors_percents': (avg_value_marriage, avg_value_nonmarriage)}\n",
    "#  Создадим DF 'data_comparison_mariage', передав параметр в параметр data созданный нами словарь, и зададим параметр 'index' равный кортежу из двух наименований определенных нами групп.\n",
    "data_comparison_mariage = pd.DataFrame(data=d, index=('marriage', 'non_mariage'), )\n",
    "#  Выведем DF на экран и проанализируем полученные данные.\n",
    "data_comparison_mariage"
   ]
  },
  {
   "cell_type": "markdown",
   "id": "a326a205",
   "metadata": {
    "deletable": false,
    "id": "1cef7837"
   },
   "source": [
    "#### *Выводы по исследованию зависимости между семейным положением и возвратом кредита в срок:*"
   ]
  },
  {
   "cell_type": "markdown",
   "id": "96a5b798",
   "metadata": {},
   "source": [
    "<div style=\"border:solid green 2px; padding: 5px\">\n",
    "\n",
    "1. __*Количество данных в данном случае распределено более равномерно, чем в предыдущем исследовании, где был значительный перекос. Также можно отметить наличие группы, которая сильно преобладает по количеству исходных данных над другими группами.*__\n",
    "2. __*Обнаруженная зависимость: люди, официально заключавшие брак на 2.455 % более благонадёжные заёмщики.*__"
   ]
  },
  {
   "cell_type": "markdown",
   "id": "bc5939eb",
   "metadata": {
    "deletable": false,
    "editable": false,
    "id": "1e8b2fca"
   },
   "source": [
    "---\n",
    "### *Определим, имеется ли зависимость между уровнем дохода и возвратом кредита в срок.*"
   ]
  },
  {
   "cell_type": "code",
   "execution_count": 28,
   "id": "fedf2097",
   "metadata": {
    "deletable": false,
    "id": "cd7e3720"
   },
   "outputs": [
    {
     "data": {
      "text/plain": "                       debt        debtors_percent\n                        sum  count                \ntotal_income_category                             \nC                      1353  15921        8.498210\nB                       354   5014        7.060231\nD                        21    349        6.017192\nA                         2     25        8.000000\nE                         2     22        9.090909",
      "text/html": "<div>\n<style scoped>\n    .dataframe tbody tr th:only-of-type {\n        vertical-align: middle;\n    }\n\n    .dataframe tbody tr th {\n        vertical-align: top;\n    }\n\n    .dataframe thead tr th {\n        text-align: left;\n    }\n\n    .dataframe thead tr:last-of-type th {\n        text-align: right;\n    }\n</style>\n<table border=\"1\" class=\"dataframe\">\n  <thead>\n    <tr>\n      <th></th>\n      <th colspan=\"2\" halign=\"left\">debt</th>\n      <th>debtors_percent</th>\n    </tr>\n    <tr>\n      <th></th>\n      <th>sum</th>\n      <th>count</th>\n      <th></th>\n    </tr>\n    <tr>\n      <th>total_income_category</th>\n      <th></th>\n      <th></th>\n      <th></th>\n    </tr>\n  </thead>\n  <tbody>\n    <tr>\n      <th>C</th>\n      <td>1353</td>\n      <td>15921</td>\n      <td>8.498210</td>\n    </tr>\n    <tr>\n      <th>B</th>\n      <td>354</td>\n      <td>5014</td>\n      <td>7.060231</td>\n    </tr>\n    <tr>\n      <th>D</th>\n      <td>21</td>\n      <td>349</td>\n      <td>6.017192</td>\n    </tr>\n    <tr>\n      <th>A</th>\n      <td>2</td>\n      <td>25</td>\n      <td>8.000000</td>\n    </tr>\n    <tr>\n      <th>E</th>\n      <td>2</td>\n      <td>22</td>\n      <td>9.090909</td>\n    </tr>\n  </tbody>\n</table>\n</div>"
     },
     "execution_count": 28,
     "metadata": {},
     "output_type": "execute_result"
    }
   ],
   "source": [
    "data_group_total_income = data.groupby('total_income_category').agg({'debt': ('sum', 'count')})\n",
    "#  Группируем данные по столбцу 'total_income_category' и применяем к столбцу 'debt' два метода - sum и count и присвоим получившийся DF к переменной 'data_group_total_income'\n",
    "#  Это позволяет нам получить данные по количеству неблагонадежных занимателей (sum) к общему количеству кредитуемых в данной категории (count)\n",
    "\n",
    "#  Добавим новый столбец 'debtors_percent' в наш DF, который будет отражать процент неблагонадежных заемщиков в каждой из категорий.\n",
    "#  Для этого поделим количество неблагонадежных занимателей (sum) на общеее количество кредитуемых в данной категории (count) и выведем значение в процентах.\n",
    "data_group_total_income['debtors_percent'] = data_group_total_income['debt']['sum'] / \\\n",
    "                                             data_group_total_income['debt']['count'] * 100\n",
    "\n",
    "#  Для того, чтобы более наглядно проанлизировать данные по их доступному объему, произведем сортировку по столбцу count, применив метод sort_values() к DF 'data_group_familiy_status', параментр ascending установим на сортировку по убыванию, выведем таблицу на экран.\n",
    "data_group_total_income.sort_values(by=('debt', 'count'), ascending=False)"
   ]
  },
  {
   "cell_type": "markdown",
   "id": "e5a74a17",
   "metadata": {
    "deletable": false,
    "id": "e8593def"
   },
   "source": [
    "#### *Выводы по исследованию зависимости между уровнем дохода и возвратом кредита в срок:*"
   ]
  },
  {
   "cell_type": "markdown",
   "id": "c81c9bb3",
   "metadata": {},
   "source": [
    "<div style=\"border:solid green 2px; padding: 5px\">\n",
    "\n",
    "1. __*Количество данных в данном случае распределено неравномерно. Отметим наличие двух групп(`C`, `B`), которые сильно преобладают по количеству исходных данных над другими группами.*__\n",
    "2. __*Подтверждается зависимость: чем выше платежеспособность человека, тем менее вероятна задолженность по кредиту. Установленная разница равна 1.437 %.*__\n",
    "3. __*В категории `D` отражён низкий процент должников, что может быть связано с малым количеством данных, для более достоверного анализа необходим больший объем данных.*__"
   ]
  },
  {
   "cell_type": "markdown",
   "id": "c01ba248",
   "metadata": {
    "deletable": false,
    "editable": false,
    "id": "99ecbd1f"
   },
   "source": [
    "---\n",
    "### *Проверим, как разные цели кредита влияют на его возврат в срок.*"
   ]
  },
  {
   "cell_type": "code",
   "execution_count": 29,
   "id": "26558bbf",
   "metadata": {
    "deletable": false,
    "id": "2b687290"
   },
   "outputs": [
    {
     "data": {
      "text/plain": "                         debt        debtors_percent\n                          sum  count                \npurpose_category                                    \nоперации с недвижимостью  780  10751        7.255139\nпроведение свадьбы        183   2313        7.911803\nполучение образования     369   3988        9.252758\nоперации с автомобилем    400   4279        9.347978",
      "text/html": "<div>\n<style scoped>\n    .dataframe tbody tr th:only-of-type {\n        vertical-align: middle;\n    }\n\n    .dataframe tbody tr th {\n        vertical-align: top;\n    }\n\n    .dataframe thead tr th {\n        text-align: left;\n    }\n\n    .dataframe thead tr:last-of-type th {\n        text-align: right;\n    }\n</style>\n<table border=\"1\" class=\"dataframe\">\n  <thead>\n    <tr>\n      <th></th>\n      <th colspan=\"2\" halign=\"left\">debt</th>\n      <th>debtors_percent</th>\n    </tr>\n    <tr>\n      <th></th>\n      <th>sum</th>\n      <th>count</th>\n      <th></th>\n    </tr>\n    <tr>\n      <th>purpose_category</th>\n      <th></th>\n      <th></th>\n      <th></th>\n    </tr>\n  </thead>\n  <tbody>\n    <tr>\n      <th>операции с недвижимостью</th>\n      <td>780</td>\n      <td>10751</td>\n      <td>7.255139</td>\n    </tr>\n    <tr>\n      <th>проведение свадьбы</th>\n      <td>183</td>\n      <td>2313</td>\n      <td>7.911803</td>\n    </tr>\n    <tr>\n      <th>получение образования</th>\n      <td>369</td>\n      <td>3988</td>\n      <td>9.252758</td>\n    </tr>\n    <tr>\n      <th>операции с автомобилем</th>\n      <td>400</td>\n      <td>4279</td>\n      <td>9.347978</td>\n    </tr>\n  </tbody>\n</table>\n</div>"
     },
     "execution_count": 29,
     "metadata": {},
     "output_type": "execute_result"
    }
   ],
   "source": [
    "data_group_purpose = data.groupby('purpose_category').agg({'debt': ('sum', 'count')})\n",
    "#  Группируем данные по столбцу 'purpose_category' и применяем к столбцу 'debt' два метода - sum и count и присвоим получившийся DF к переменной 'data_group_purpose'\n",
    "#  Это позволяет нам получить данные по количеству неблагонадежных занимателей (sum) к общему количеству кредитуемых в данной категории (count)\n",
    "\n",
    "#  Добавим новый столбец 'debtors_percent' в наш DF, который будет отражать процент неблагонадежных заемщиков в каждой из категорий.\n",
    "#  Для этого поделим количество неблагонадежных занимателей (sum) на общеее количество кредитуемых в данной категории (count) и выведем значение в процентах.\n",
    "data_group_purpose['debtors_percent'] = data_group_purpose['debt']['sum'] / \\\n",
    "                                        data_group_purpose['debt']['count'] * 100\n",
    "\n",
    "#  Для того, чтобы более наглядно проанлизировать данные по их доступному объему, произведем сортировку по столбцу count, применив метод sort_values() к DF 'data_group_purpose', параментр ascending установим на сортировку по убыванию, выведем таблицу на экран.\n",
    "data_group_purpose.sort_values(by='debtors_percent')"
   ]
  },
  {
   "cell_type": "markdown",
   "id": "81da0133",
   "metadata": {
    "deletable": false,
    "id": "b4bb2ce6"
   },
   "source": [
    "#### *Выводы по оценке того, как разные цели кредита влияют на его возврат в срок:*"
   ]
  },
  {
   "cell_type": "markdown",
   "id": "51d1f211",
   "metadata": {},
   "source": [
    "<div style=\"border:solid green 2px; padding: 5px\">\n",
    "\n",
    "1. __*После проведения группировки по цели взятия кредита, получили наиболее равномерную картину распределения данных по категориям.*__\n",
    "2. __*Имеется категория, которая преобладает над остальными, принадлежность к этой категории так же говорит о самом низком проценте людей с имеющейся задолженностью.*__\n",
    "3. __*Обнаружена следующая зависимость: что с падением важности цели кредита, повышается процент людей, имеющих задолженность по кредиту.*__\n",
    "4. __*При прямом сравнении двух групп: первая - с наибольшим приоритетом важности для человека(операции с недвижимостью), вторая - операции с автомобилем(что скорее является уже элементом роскоши) заметна разница надежности кредитуемых на 2.09 %.*__"
   ]
  },
  {
   "cell_type": "markdown",
   "id": "186dc189",
   "metadata": {
    "deletable": false,
    "editable": false,
    "id": "6db5255a"
   },
   "source": [
    "---\n",
    "## Общий вывод по исследованию"
   ]
  },
  {
   "cell_type": "markdown",
   "id": "d01056af",
   "metadata": {
    "deletable": false,
    "id": "bad65432"
   },
   "source": [
    "<div style=\"border:solid orange 2px; padding: 5px\">\n",
    "    \n",
    "<div class=\"alert alert-info\"> <b>При проведении исследования по определенным критериям (количество детей, семейное положение, уровень дохода и цель кредита), было установлено, как различные значения в данных критериях влияют на надежность кредитуемого:</b></div>\n",
    "\n",
    "- __*Кредитуемые, не имеющие детей на 1.69 % благонадежнее, чем те, у кого есть хотя бы один ребенок. Для дальнейшего исследования будет полезно проверить гипотезу уменьшения надежности кредитуемого с ростом количества детей. На основании предоставленных банком данных проверить данную гипотезу невозможно из-за малого количества данных в некоторых категориях.*__\n",
    "- __*Люди, когда-либо официально заключавшие брак на 2.455 % более надёжные заёмщики.*__\n",
    "- __*Чем выше платежеспособность человека, тем менее вероятна задолженность по кредиту. Установленная разница между двумя соседними категориями по ежемесячному заработку равняется 1.437 %.*__\n",
    "- __*Со снижением целевой важности кредита, снижается надежность кредитуемых. При прямом сравнении двух групп: первая - с наибольшим приоритетом важности для человека(операции с недвижимостью), вторая - операции с автомобилем(что скорее является уже элементом роскоши) заметна разница надежности кредитуемых на 2.09 %.*__"
   ]
  }
 ],
 "metadata": {
  "colab": {
   "name": "dpp_template_part2.ipynb",
   "provenance": []
  },
  "kernelspec": {
   "display_name": "Python 3 (ipykernel)",
   "language": "python",
   "name": "python3"
  },
  "language_info": {
   "codemirror_mode": {
    "name": "ipython",
    "version": 3
   },
   "file_extension": ".py",
   "mimetype": "text/x-python",
   "name": "python",
   "nbconvert_exporter": "python",
   "pygments_lexer": "ipython3",
   "version": "3.9.15"
  },
  "toc": {
   "base_numbering": 1,
   "nav_menu": {},
   "number_sections": true,
   "sideBar": false,
   "skip_h1_title": true,
   "title_cell": "Исследование надежности заемщиков",
   "title_sidebar": "Contents",
   "toc_cell": false,
   "toc_position": {
    "height": "1117px",
    "left": "25px",
    "top": "111.125px",
    "width": "602px"
   },
   "toc_section_display": true,
   "toc_window_display": true
  }
 },
 "nbformat": 4,
 "nbformat_minor": 5
}
