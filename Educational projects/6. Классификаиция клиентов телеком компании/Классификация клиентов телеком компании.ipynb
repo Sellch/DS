{
 "cells": [
  {
   "cell_type": "markdown",
   "metadata": {},
   "source": [
    "# Рекомендация тарифов"
   ]
  },
  {
   "cell_type": "markdown",
   "metadata": {},
   "source": [
    "В нашем распоряжении данные о поведении клиентов, которые уже перешли на эти тарифы. Нужно построить модель для задачи классификации, которая выберет подходящий тариф."
   ]
  },
  {
   "cell_type": "markdown",
   "metadata": {},
   "source": [
    "---\n",
    "### *Описание данных*"
   ]
  },
  {
   "cell_type": "markdown",
   "metadata": {},
   "source": [
    "__*Для исследования получен csv-файл `users_behavior.csv`*__\n",
    "\n",
    "Каждый объект в наборе данных — это информация о поведении одного пользователя за месяц. Известно:\n",
    "* сalls — количество звонков\n",
    "* minutes — суммарная длительность звонков в минутах\n",
    "* messages — количество sms-сообщений\n",
    "* mb_used — израсходованный интернет-трафик в Мб\n",
    "* is_ultra — каким тарифом пользовался в течение месяца («Ультра» — 1, «Смарт» — 0)"
   ]
  },
  {
   "cell_type": "markdown",
   "metadata": {},
   "source": [
    "## Откроем и изучим файл"
   ]
  },
  {
   "cell_type": "code",
   "execution_count": 1,
   "metadata": {
    "ExecuteTime": {
     "end_time": "2023-05-16T14:37:20.538562Z",
     "start_time": "2023-05-16T14:37:20.382978Z"
    }
   },
   "outputs": [],
   "source": [
    "import pandas as pd\n",
    "import numpy as np\n",
    "from sklearn.model_selection import train_test_split\n",
    "from sklearn.tree import DecisionTreeClassifier\n",
    "from sklearn.linear_model import LogisticRegression\n",
    "from sklearn.ensemble import RandomForestClassifier\n",
    "from sklearn.metrics import accuracy_score\n",
    "import seaborn as sns\n",
    "import matplotlib.pyplot as plt\n",
    "from joblib import dump"
   ]
  },
  {
   "cell_type": "code",
   "execution_count": 2,
   "metadata": {
    "ExecuteTime": {
     "end_time": "2023-05-16T14:37:21.021787Z",
     "start_time": "2023-05-16T14:37:20.540557Z"
    }
   },
   "outputs": [],
   "source": [
    "#  Используем блок try - except для обработки исключений и гарантированного доступа к файлу.\n",
    "#  Считаем данные из csv-файла в датафрейм и сохраним его в переменной 'data'.\n",
    "try:\n",
    "    df = pd.read_csv('datasets/users_behavior.csv')\n",
    "except FileNotFoundError:\n",
    "    df = pd.read_csv('https://code.s3.yandex.net/datasets/users_behavior.csv')"
   ]
  },
  {
   "cell_type": "code",
   "execution_count": 3,
   "metadata": {
    "ExecuteTime": {
     "end_time": "2023-05-16T14:37:21.037744Z",
     "start_time": "2023-05-16T14:37:21.024779Z"
    }
   },
   "outputs": [
    {
     "data": {
      "text/html": [
       "<div>\n",
       "<style scoped>\n",
       "    .dataframe tbody tr th:only-of-type {\n",
       "        vertical-align: middle;\n",
       "    }\n",
       "\n",
       "    .dataframe tbody tr th {\n",
       "        vertical-align: top;\n",
       "    }\n",
       "\n",
       "    .dataframe thead th {\n",
       "        text-align: right;\n",
       "    }\n",
       "</style>\n",
       "<table border=\"1\" class=\"dataframe\">\n",
       "  <thead>\n",
       "    <tr style=\"text-align: right;\">\n",
       "      <th></th>\n",
       "      <th>calls</th>\n",
       "      <th>minutes</th>\n",
       "      <th>messages</th>\n",
       "      <th>mb_used</th>\n",
       "      <th>is_ultra</th>\n",
       "    </tr>\n",
       "  </thead>\n",
       "  <tbody>\n",
       "    <tr>\n",
       "      <th>0</th>\n",
       "      <td>40.0</td>\n",
       "      <td>311.90</td>\n",
       "      <td>83.0</td>\n",
       "      <td>19915.42</td>\n",
       "      <td>0</td>\n",
       "    </tr>\n",
       "    <tr>\n",
       "      <th>1</th>\n",
       "      <td>85.0</td>\n",
       "      <td>516.75</td>\n",
       "      <td>56.0</td>\n",
       "      <td>22696.96</td>\n",
       "      <td>0</td>\n",
       "    </tr>\n",
       "    <tr>\n",
       "      <th>2</th>\n",
       "      <td>77.0</td>\n",
       "      <td>467.66</td>\n",
       "      <td>86.0</td>\n",
       "      <td>21060.45</td>\n",
       "      <td>0</td>\n",
       "    </tr>\n",
       "    <tr>\n",
       "      <th>3</th>\n",
       "      <td>106.0</td>\n",
       "      <td>745.53</td>\n",
       "      <td>81.0</td>\n",
       "      <td>8437.39</td>\n",
       "      <td>1</td>\n",
       "    </tr>\n",
       "    <tr>\n",
       "      <th>4</th>\n",
       "      <td>66.0</td>\n",
       "      <td>418.74</td>\n",
       "      <td>1.0</td>\n",
       "      <td>14502.75</td>\n",
       "      <td>0</td>\n",
       "    </tr>\n",
       "  </tbody>\n",
       "</table>\n",
       "</div>"
      ],
      "text/plain": [
       "   calls  minutes  messages   mb_used  is_ultra\n",
       "0   40.0   311.90      83.0  19915.42         0\n",
       "1   85.0   516.75      56.0  22696.96         0\n",
       "2   77.0   467.66      86.0  21060.45         0\n",
       "3  106.0   745.53      81.0   8437.39         1\n",
       "4   66.0   418.74       1.0  14502.75         0"
      ]
     },
     "execution_count": 3,
     "metadata": {},
     "output_type": "execute_result"
    }
   ],
   "source": [
    "df.head()"
   ]
  },
  {
   "cell_type": "code",
   "execution_count": 4,
   "metadata": {
    "ExecuteTime": {
     "end_time": "2023-05-16T14:37:21.067664Z",
     "start_time": "2023-05-16T14:37:21.038742Z"
    }
   },
   "outputs": [
    {
     "name": "stdout",
     "output_type": "stream",
     "text": [
      "<class 'pandas.core.frame.DataFrame'>\n",
      "RangeIndex: 3214 entries, 0 to 3213\n",
      "Data columns (total 5 columns):\n",
      " #   Column    Non-Null Count  Dtype  \n",
      "---  ------    --------------  -----  \n",
      " 0   calls     3214 non-null   float64\n",
      " 1   minutes   3214 non-null   float64\n",
      " 2   messages  3214 non-null   float64\n",
      " 3   mb_used   3214 non-null   float64\n",
      " 4   is_ultra  3214 non-null   int64  \n",
      "dtypes: float64(4), int64(1)\n",
      "memory usage: 125.7 KB\n"
     ]
    }
   ],
   "source": [
    "df.info()"
   ]
  },
  {
   "cell_type": "markdown",
   "metadata": {},
   "source": [
    "Преобразуем значения в столбцах к наименьшему возможному типу данных для экономии памяти."
   ]
  },
  {
   "cell_type": "code",
   "execution_count": 5,
   "metadata": {
    "ExecuteTime": {
     "end_time": "2023-05-16T14:37:21.100576Z",
     "start_time": "2023-05-16T14:37:21.055696Z"
    }
   },
   "outputs": [],
   "source": [
    "for col in df.select_dtypes(include='float').columns:\n",
    "    df[col] = pd.to_numeric(df[col], downcast='float')\n",
    "for col in df.select_dtypes(include='integer').columns:\n",
    "    df[col] = pd.to_numeric(df[col], downcast='integer')"
   ]
  },
  {
   "cell_type": "code",
   "execution_count": 6,
   "metadata": {
    "ExecuteTime": {
     "end_time": "2023-05-16T14:37:21.143967Z",
     "start_time": "2023-05-16T14:37:21.071653Z"
    },
    "scrolled": true
   },
   "outputs": [
    {
     "name": "stdout",
     "output_type": "stream",
     "text": [
      "<class 'pandas.core.frame.DataFrame'>\n",
      "RangeIndex: 3214 entries, 0 to 3213\n",
      "Data columns (total 5 columns):\n",
      " #   Column    Non-Null Count  Dtype  \n",
      "---  ------    --------------  -----  \n",
      " 0   calls     3214 non-null   float32\n",
      " 1   minutes   3214 non-null   float32\n",
      " 2   messages  3214 non-null   float32\n",
      " 3   mb_used   3214 non-null   float32\n",
      " 4   is_ultra  3214 non-null   int8   \n",
      "dtypes: float32(4), int8(1)\n",
      "memory usage: 53.5 KB\n"
     ]
    }
   ],
   "source": [
    "df.info()"
   ]
  },
  {
   "cell_type": "markdown",
   "metadata": {},
   "source": [
    "Оценим имеющиеся корреляции между признаками."
   ]
  },
  {
   "cell_type": "code",
   "execution_count": 7,
   "metadata": {
    "ExecuteTime": {
     "end_time": "2023-05-16T14:37:21.365879Z",
     "start_time": "2023-05-16T14:37:21.087611Z"
    }
   },
   "outputs": [
    {
     "data": {
      "image/png": "[encoded data removed]",
      "text/plain": [
       "<Figure size 640x480 with 2 Axes>"
      ]
     },
     "metadata": {},
     "output_type": "display_data"
    }
   ],
   "source": [
    "matrix = np.triu(df.corr())\n",
    "sns.heatmap(df.corr(), annot=True, mask=matrix, cmap='coolwarm', linewidths=0.1, linecolor='black');"
   ]
  },
  {
   "cell_type": "code",
   "execution_count": null,
   "metadata": {
    "pycharm": {
     "is_executing": true
    }
   },
   "outputs": [],
   "source": [
    "g = sns.PairGrid(df, hue='is_ultra')\n",
    "g.map_diag(plt.hist)\n",
    "g.map_upper(plt.scatter)\n",
    "g.map_lower(sns.kdeplot)\n",
    "plt.legend(title='tariff', bbox_to_anchor=(1.02, 1), loc='upper left', borderaxespad=0);"
   ]
  },
  {
   "cell_type": "code",
   "execution_count": null,
   "metadata": {
    "pycharm": {
     "is_executing": true
    }
   },
   "outputs": [],
   "source": [
    "g = sns.pairplot(df, hue='is_ultra',  kind='reg', plot_kws={'line_kws':{'color':'red'}, 'scatter_kws': {'alpha': 0.1}})"
   ]
  },
  {
   "cell_type": "markdown",
   "metadata": {},
   "source": [
    "## Разбивка данных на выборки"
   ]
  },
  {
   "cell_type": "markdown",
   "metadata": {},
   "source": []
  },
  {
   "cell_type": "code",
   "execution_count": null,
   "metadata": {
    "pycharm": {
     "is_executing": true
    }
   },
   "outputs": [],
   "source": [
    "df.is_ultra.value_counts()"
   ]
  },
  {
   "cell_type": "markdown",
   "metadata": {},
   "source": [
    "Отметим, что в изначально имеющемся у нас df имеется двукратная разница по количеству имеющихся данных в пользу тарифа Smart."
   ]
  },
  {
   "cell_type": "code",
   "execution_count": null,
   "metadata": {
    "pycharm": {
     "is_executing": true
    }
   },
   "outputs": [],
   "source": [
    "df_train, df_check = train_test_split(df, random_state=56, train_size=0.6, stratify=df.is_ultra)"
   ]
  },
  {
   "cell_type": "code",
   "execution_count": null,
   "metadata": {
    "pycharm": {
     "is_executing": true
    }
   },
   "outputs": [],
   "source": [
    "df_valid, df_test = train_test_split(df_check, random_state=56, train_size=0.5, stratify=df_check.is_ultra)\n",
    "print(f\"Количество строк в df_train по классам: {np.bincount(df_train.is_ultra)}\",\n",
    "      f\"Количество строк в df_valid по классам: {np.bincount(df_valid.is_ultra)}\",\n",
    "      f\"Количество строк в df_test по классам: {np.bincount(df_test.is_ultra)}\", sep='\\n')"
   ]
  },
  {
   "cell_type": "code",
   "execution_count": null,
   "metadata": {
    "pycharm": {
     "is_executing": true
    }
   },
   "outputs": [],
   "source": [
    "features_train, features_valid, features_test = (df_train.drop('is_ultra', axis=1),\n",
    "                                                 df_valid.drop('is_ultra', axis=1),\n",
    "                                                 df_test.drop('is_ultra', axis=1))\n",
    "target_train, target_valid, target_test = (df_train['is_ultra'],\n",
    "                                           df_valid['is_ultra'],\n",
    "                                           df_test['is_ultra'])"
   ]
  },
  {
   "cell_type": "markdown",
   "metadata": {},
   "source": [
    "## Исследование модели"
   ]
  },
  {
   "cell_type": "markdown",
   "metadata": {},
   "source": [
    "Построим модель с использованием решающего дерева и оценим показатель accuracy для данной модели."
   ]
  },
  {
   "cell_type": "code",
   "execution_count": null,
   "metadata": {
    "pycharm": {
     "is_executing": true
    }
   },
   "outputs": [],
   "source": [
    "best_accuracy_decision_tree = 0\n",
    "best_model_decision_tree = None\n",
    "best_depth_decision_tree = 0\n",
    "best_fs_decision_tree = 0\n",
    "for fs in range(1, 5):\n",
    "    for depth in range(2, 5):\n",
    "        model = DecisionTreeClassifier(random_state=56, max_depth=depth, max_features=fs)\n",
    "        model.fit(features_train, target_train)\n",
    "        predict = model.predict(features_valid)\n",
    "        accuracy_decision_tree = accuracy_score(target_valid, predict)\n",
    "        if accuracy_decision_tree > best_accuracy_decision_tree:\n",
    "            best_accuracy_decision_tree = accuracy_decision_tree\n",
    "            best_model_decision_tree = model\n",
    "            best_depth_decision_tree = depth\n",
    "            best_fs_decision_tree = fs\n",
    "print(f'Лучший показатель точности модели решающего дерева: {best_accuracy_decision_tree}')"
   ]
  },
  {
   "cell_type": "markdown",
   "metadata": {},
   "source": [
    "Построим модель с использованием логистической регрессии и оценим показатель accuracy для данной модели."
   ]
  },
  {
   "cell_type": "code",
   "execution_count": null,
   "metadata": {
    "pycharm": {
     "is_executing": true
    }
   },
   "outputs": [],
   "source": [
    "model_logistic_regression = LogisticRegression(solver='lbfgs', max_iter=1000)\n",
    "model_logistic_regression.fit(features_train, target_train)\n",
    "predict = model_logistic_regression.predict(features_valid)\n",
    "accuracy_logistic_regression = accuracy_score(target_valid, predict)\n",
    "print(f'Показатель точности модели логистической регрессии: {accuracy_logistic_regression}')"
   ]
  },
  {
   "cell_type": "markdown",
   "metadata": {},
   "source": [
    "Построим модель с использованием случайного леса и оценим показатель accuracy для данной модели."
   ]
  },
  {
   "cell_type": "code",
   "execution_count": null,
   "metadata": {
    "pycharm": {
     "is_executing": true
    }
   },
   "outputs": [],
   "source": [
    "best_accuracy_random_forest = 0\n",
    "best_model_random_forest = None\n",
    "best_depth_random_forest = 0\n",
    "best_fs_random_forest = 0\n",
    "best_count_trees = 0\n",
    "for est in range(10, 51, 10):\n",
    "    for fs in range(1, 5):\n",
    "        for depth in range(2, 5):\n",
    "            model = RandomForestClassifier(random_state=56, max_depth=depth, max_features=fs, n_estimators=est)\n",
    "            model.fit(features_train, target_train)\n",
    "            predict = model.predict(features_valid)\n",
    "            accuracy_random_forest = accuracy_score(target_valid, predict)\n",
    "            if accuracy_random_forest > best_accuracy_random_forest:\n",
    "                best_accuracy_random_forest = accuracy_random_forest\n",
    "                best_model_random_forest = model\n",
    "                best_depth_random_forest = depth\n",
    "                best_fs_random_forest = fs\n",
    "                best_count_trees = est\n",
    "print(f'Лучший показатель точности модели решающего дерева: {best_accuracy_random_forest}')"
   ]
  },
  {
   "cell_type": "markdown",
   "metadata": {},
   "source": [
    "## Проверка модели на тестовой выборке"
   ]
  },
  {
   "cell_type": "markdown",
   "metadata": {},
   "source": [
    "Переобучим две самые сильные модели по показателю accuracy, посчитанному для каждой модели при проверке по данным для валидации."
   ]
  },
  {
   "cell_type": "code",
   "execution_count": null,
   "metadata": {
    "pycharm": {
     "is_executing": true
    }
   },
   "outputs": [],
   "source": [
    "post_train_features = pd.concat([features_train, features_valid], ignore_index=True)\n",
    "post_train_target = pd.concat([target_train, target_valid], ignore_index=True)"
   ]
  },
  {
   "cell_type": "code",
   "execution_count": null,
   "metadata": {
    "pycharm": {
     "is_executing": true
    }
   },
   "outputs": [],
   "source": [
    "post_train_features.to_csv('e1eeeeeeee.csv', index=False)"
   ]
  },
  {
   "cell_type": "code",
   "execution_count": null,
   "metadata": {
    "pycharm": {
     "is_executing": true
    }
   },
   "outputs": [],
   "source": [
    "model_decision_tree = DecisionTreeClassifier(random_state=56, max_depth=best_depth_decision_tree, max_features=best_fs_decision_tree)\n",
    "model_decision_tree.fit(post_train_features, post_train_target);"
   ]
  },
  {
   "cell_type": "code",
   "execution_count": null,
   "metadata": {
    "pycharm": {
     "is_executing": true
    }
   },
   "outputs": [],
   "source": [
    "model_random_forest = RandomForestClassifier(random_state=56, max_depth=best_depth_random_forest, max_features=best_fs_random_forest, n_estimators=best_count_trees)\n",
    "model_random_forest.fit(post_train_features, post_train_target);\n",
    "test15 = 'model.joblib'\n",
    "dump(model_random_forest, 'test15.joblib')"
   ]
  },
  {
   "cell_type": "markdown",
   "metadata": {},
   "source": [
    "Проверим модели в порядке убывания их точности, показанной на проверке по данным для валидации."
   ]
  },
  {
   "cell_type": "code",
   "execution_count": null,
   "metadata": {
    "pycharm": {
     "is_executing": true
    }
   },
   "outputs": [],
   "source": [
    "t_dict = {model_random_forest: 'случайного леса', model_decision_tree: 'решающего дерева'}\n",
    "\n",
    "for ml in t_dict:\n",
    "    predict = ml.predict(features_test)\n",
    "    print(f'Точность предсказания модели {t_dict[ml]} на тестовых данных: {accuracy_score(target_test, predict)}')"
   ]
  },
  {
   "cell_type": "markdown",
   "metadata": {},
   "source": [
    "Делаем вывод, что две модели преодолели порог в 0.75 пунктов точности прогноза или 75%."
   ]
  },
  {
   "cell_type": "markdown",
   "metadata": {},
   "source": [
    "##  Проверка модели на адекватность"
   ]
  },
  {
   "cell_type": "markdown",
   "metadata": {},
   "source": [
    "Создадим объект series размером с выборку для теста и заполним его самым распространенным значением - 0."
   ]
  },
  {
   "cell_type": "code",
   "execution_count": null,
   "metadata": {
    "pycharm": {
     "is_executing": true
    }
   },
   "outputs": [],
   "source": [
    "target_predict_constant = pd.Series([0] * len(target_test))\n",
    "print(f'accuracy_score константой модели: {accuracy_score(target_test, target_predict_constant)}')"
   ]
  },
  {
   "cell_type": "markdown",
   "metadata": {},
   "source": [
    "Делаем вывод, что две наши модели прошли проверку на адекватность, так как вычисленный параметр accuracy у обеих моделей превышает показатель константной модели - равный ~ 0.693."
   ]
  },
  {
   "cell_type": "markdown",
   "metadata": {},
   "source": [
    "---\n",
    "### *Проверка моделей на скорость исполнения при прогнозировании*"
   ]
  },
  {
   "cell_type": "code",
   "execution_count": null,
   "metadata": {
    "pycharm": {
     "is_executing": true
    }
   },
   "outputs": [],
   "source": [
    "df.shape[0]"
   ]
  },
  {
   "cell_type": "markdown",
   "metadata": {},
   "source": [
    "Проверим скорость прогнозирования на исходном размере нашего df."
   ]
  },
  {
   "cell_type": "code",
   "execution_count": null,
   "metadata": {
    "pycharm": {
     "is_executing": true
    }
   },
   "outputs": [],
   "source": [
    "%timeit best_model_random_forest.predict(df.drop('is_ultra', axis=1))"
   ]
  },
  {
   "cell_type": "code",
   "execution_count": null,
   "metadata": {
    "pycharm": {
     "is_executing": true
    }
   },
   "outputs": [],
   "source": [
    "%timeit best_model_decision_tree.predict(df.drop('is_ultra', axis=1))"
   ]
  },
  {
   "cell_type": "markdown",
   "metadata": {},
   "source": [
    "Ожидаемо получаем, что решающее дерево дает прогнозы быстрее и с увеличением размера df разница будет увеличиваться экспоненциально."
   ]
  },
  {
   "cell_type": "markdown",
   "metadata": {},
   "source": [
    "---\n",
    "### *Проверка моделей на скорость обучения*"
   ]
  },
  {
   "cell_type": "code",
   "execution_count": null,
   "metadata": {
    "pycharm": {
     "is_executing": true
    }
   },
   "outputs": [],
   "source": [
    "%%timeit\n",
    "model_decision_tree = DecisionTreeClassifier(random_state=56, max_depth=best_depth_decision_tree, max_features=best_fs_decision_tree)\n",
    "model_decision_tree.fit(post_train_features, post_train_target);"
   ]
  },
  {
   "cell_type": "code",
   "execution_count": null,
   "metadata": {
    "pycharm": {
     "is_executing": true
    }
   },
   "outputs": [],
   "source": [
    "%%timeit\n",
    "model_random_forest = RandomForestClassifier(random_state=56, max_depth=best_depth_random_forest, max_features=best_fs_random_forest, n_estimators=best_count_trees)\n",
    "model_random_forest.fit(post_train_features, post_train_target);"
   ]
  },
  {
   "cell_type": "markdown",
   "metadata": {},
   "source": [
    "Ожидаемо получаем, что решающее дерево обучается быстрее, так как оно одно, а в случайном лесу в нашей наилучшей модели – 40 деревьев."
   ]
  },
  {
   "cell_type": "markdown",
   "metadata": {},
   "source": [
    "---\n",
    "## Общий вывод по исследованию"
   ]
  },
  {
   "cell_type": "markdown",
   "metadata": {},
   "source": [
    "<div style=\"border:solid orange 2px; padding: 5px\">\n",
    "\n",
    "<div class=\"alert alert-info\"> <b>При проведении исследования (на основе полученных данных) выполнено:</b></div>\n",
    "\n",
    "- Данные разделены на 3 части: для обучения моделей, для валидации и данные для проведения финального тестирования в соотношении 60 - 20 - 20 соответственно.\n",
    "- Проведено обучение моделей трех различных типов: решающего дерева, логистической регрессии и случайного леса.\n",
    "- Модель решающего дерева и модель случайного леса преодолели порог в 0.75 пунктов точности, показав результаты 0.79 и 0.8 соответственно.\n",
    "- Перед проведением финального тестирования данные для первичной тренировки и данные для валидации объединены в один df для переобучения избранных моделей на большем объеме данных.\n",
    "- Проведена проверка моделей на тестовой выборке. Показатель accuracy для модели решающего дерева составил - 0.811, а для модели случайного леса - 0.822.\n",
    "- Модели проверены на адекватность, сделан вывод об адекватности моделей.\n",
    "- Модели оценены на скорость исполнения при прогнозировании. Убедились в том, что решающее дерево дает прогнозы быстрее и с увеличением размера df разница будет увеличиваться экспоненциально.\n",
    "- Модели оценены на скорость обучения. Убедились в том, что решающее дерево обучается быстрее по определению, так как оно одно, а в случайном лесу в нашей наилучшей модели – 40 деревьев.\n"
   ]
  }
 ],
 "metadata": {
  "kernelspec": {
   "display_name": "Python 3 (ipykernel)",
   "language": "python",
   "name": "python3"
  },
  "language_info": {
   "codemirror_mode": {
    "name": "ipython",
    "version": 3
   },
   "file_extension": ".py",
   "mimetype": "text/x-python",
   "name": "python",
   "nbconvert_exporter": "python",
   "pygments_lexer": "ipython3",
   "version": "3.9.15"
  },
  "toc": {
   "base_numbering": 1,
   "nav_menu": {},
   "number_sections": true,
   "sideBar": true,
   "skip_h1_title": true,
   "title_cell": "Table of Contents",
   "title_sidebar": "Contents",
   "toc_cell": false,
   "toc_position": {},
   "toc_section_display": true,
   "toc_window_display": false
  }
 },
 "nbformat": 4,
 "nbformat_minor": 2
}
