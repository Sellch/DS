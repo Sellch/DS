{
 "cells": [
  {
   "cell_type": "markdown",
   "metadata": {},
   "source": [
    "<div class=\"alert alert-block alert-info\">\n",
    "<b>Комментарий ревьюера:</b>\n",
    "\n",
    "Мне понравился твой проект 👍🏻 Видно, что приложено много усилий)\n",
    "\n",
    "Перед отправкой проекта, пожалуйста, перезапусти ядро и убедись, что весь код работает (Kernel -> Restart and Run All). Важно, чтобы нумерация ячеек была правильной (начиналась с \"1\" и выполнялась по порядку).\n",
    "\n",
    "Если не хочешь ждать обучения моделей, можешь сохранить лучшие гиперпараметры в отдельной переменной и закомментировать код. Необходимо также зафиксировать random_state, чтобы результат был всегда одинаковым.\n",
    "\n",
    "Таким образом, я смогу быстрее проверить проект, и ты успеешь к дедлайну 👋🏻\n",
    "</div>"
   ]
  },
  {
   "cell_type": "markdown",
   "metadata": {},
   "source": [
    "Привет, Ярослав!)\n",
    "<br> Меня зовут Дуолан 👋 и я рад стать твоим проводником в мире кода и данных!\n",
    "<br> Вместе мы прокачаем твой проект до самого верха! 🚀\n",
    "<br> Давай общаться на «ты» и поддерживать дружескую атмосферу. Если ты согласен, конечно! 😊\n",
    "<br> Пожалуйста, напиши мне ответ на каждый комментарий («исправлено», «не уверен, как это сделать» и т. д.)\n",
    "<br> Оставь, пожалуйста, мои комментарии на месте – они пригодятся для последующих проверок.\n",
    "\n",
    "Комментарии будут в <font color='green'>зеленой</font>, <font color='blue'>синей</font> или <font color='red'>красной</font> рамках:\n",
    "\n",
    "<div class=\"alert alert-block alert-success\">\n",
    "<b>✔️ Успех:</b> Если всё просто супер!\n",
    "</div>\n",
    "\n",
    "<div class=\"alert alert-block alert-warning\">\n",
    "<b>⚠️ Совет:</b> Если можно немного улучшить\n",
    "</div>\n",
    "\n",
    "<div class=\"alert alert-block alert-danger\">\n",
    "<b>❌ Замечание:</b> Если требуются исправления\n",
    "</div>\n",
    "\n",
    "Твой проект не может быть принят, пока есть красные комментарии.\n",
    "\n",
    "-------------------\n",
    "\n",
    "Пожалуйста, отмечай свои ответы и изменения таким образом:\n",
    "\n",
    "<div class=\"alert alert-block alert-info\">\n",
    "<b>Комментарий студента:</b> ...\n",
    "</div>\n",
    "\n",
    "<div class=\"alert alert-block alert-info\">\n",
    "<b>Изменения:</b> Вот что я изменил ...\n",
    "</div>"
   ]
  },
  {
   "cell_type": "markdown",
   "metadata": {},
   "source": [
    "# Определение стоимости автомобилей"
   ]
  },
  {
   "cell_type": "markdown",
   "metadata": {},
   "source": [
    "Сервис по продаже автомобилей с пробегом «Не бит, не крашен» разрабатывает приложение для привлечения новых клиентов. В нём можно быстро узнать рыночную стоимость своего автомобиля. В вашем распоряжении исторические данные: технические характеристики, комплектации и цены автомобилей. Вам нужно построить модель для определения стоимости. \n",
    "\n",
    "Заказчику важны:\n",
    "\n",
    "- качество предсказания;\n",
    "- скорость предсказания;\n",
    "- время обучения."
   ]
  },
  {
   "cell_type": "markdown",
   "metadata": {},
   "source": [
    "---\n",
    "### *Описание данных*"
   ]
  },
  {
   "cell_type": "markdown",
   "metadata": {},
   "source": [
    "__*Для исследования получен csv-файл: autos.csv*__\n",
    "\n",
    "\n",
    "Признаки:\n",
    "* DateCrawled — дата скачивания анкеты из базы\n",
    "* VehicleType — тип автомобильного кузова\n",
    "* RegistrationYear — год регистрации автомобиля\n",
    "* Gearbox — тип коробки передач\n",
    "* Power — мощность (л. с.)\n",
    "* Model — модель автомобиля\n",
    "* Kilometer — пробег (км)\n",
    "* RegistrationMonth — месяц регистрации автомобиля\n",
    "* FuelType — тип топлива\n",
    "* Brand — марка автомобиля\n",
    "* Repaired — была машина в ремонте или нет\n",
    "* DateCreated — дата создания анкеты\n",
    "* NumberOfPictures — количество фотографий автомобиля\n",
    "* PostalCode — почтовый индекс владельца анкеты (пользователя)\n",
    "* LastSeen — дата последней активности пользователя\n",
    "\n",
    "Целевой признак:\n",
    "* Price — цена (евро)"
   ]
  },
  {
   "cell_type": "markdown",
   "metadata": {},
   "source": [
    "## Подготовка данных"
   ]
  },
  {
   "cell_type": "code",
   "execution_count": 1,
   "metadata": {
    "ExecuteTime": {
     "end_time": "2023-05-23T14:07:15.600794Z",
     "start_time": "2023-05-23T14:07:13.478471Z"
    }
   },
   "outputs": [],
   "source": [
    "# !pip install lightgbm\n",
    "# !pip install category_encoders"
   ]
  },
  {
   "cell_type": "code",
   "execution_count": 2,
   "metadata": {
    "ExecuteTime": {
     "end_time": "2023-05-23T14:07:16.475456Z",
     "start_time": "2023-05-23T14:07:13.495425Z"
    }
   },
   "outputs": [],
   "source": [
    "# импорт необходимых библиотек\n",
    "import os.path\n",
    "import pandas as pd\n",
    "import numpy as np\n",
    "import missingno as msno\n",
    "import phik\n",
    "from phik.report import plot_correlation_matrix\n",
    "from phik import report\n",
    "from sklearn.experimental import enable_iterative_imputer\n",
    "from sklearn.impute import IterativeImputer\n",
    "from scipy import stats\n",
    "from scipy.stats import ks_2samp\n",
    "from sklearn.impute import KNNImputer\n",
    "from sklearn.model_selection import (train_test_split, RandomizedSearchCV, GridSearchCV, KFold, cross_val_score)\n",
    "from sklearn.tree import DecisionTreeRegressor\n",
    "from sklearn.pipeline import make_pipeline\n",
    "from sklearn.linear_model import LinearRegression, Ridge, Lasso\n",
    "from sklearn.ensemble import RandomForestRegressor\n",
    "from sklearn.metrics import mean_absolute_error, r2_score, make_scorer, mean_squared_error\n",
    "from sklearn.preprocessing import StandardScaler, MinMaxScaler, RobustScaler, OrdinalEncoder, OneHotEncoder\n",
    "from imblearn.under_sampling import RandomUnderSampler\n",
    "from ydata_profiling import ProfileReport\n",
    "import seaborn as sns\n",
    "import matplotlib.pyplot as plt\n",
    "from joblib import dump\n",
    "from catboost import CatBoostRegressor\n",
    "from lightgbm import LGBMRegressor\n",
    "import category_encoders as ce"
   ]
  },
  {
   "cell_type": "markdown",
   "metadata": {},
   "source": [
    "<div class=\"alert alert-block alert-success\">\n",
    "<b>✔️ Успех:</b>\n",
    "\n",
    "Правильное решение — выделять отдельную ячейку в начале проекта под подключение библиотек и настройки. Tак код легче поддерживать 👌 Но также стоит соблюдать рекомендации PEP-8 при написании кода. У импортов есть тоже определенные правила. Это сделано для повышения читабельности и простоты работы с кодом.\n",
    "\n",
    "https://pythonworld.ru/osnovy/pep-8-rukovodstvo-po-napisaniyu-koda-na-python.html\n",
    "</div>"
   ]
  },
  {
   "cell_type": "code",
   "execution_count": 3,
   "metadata": {
    "ExecuteTime": {
     "end_time": "2023-05-23T14:07:16.475456Z",
     "start_time": "2023-05-23T14:07:14.477798Z"
    }
   },
   "outputs": [],
   "source": [
    "# class Preprocessing:\n",
    "#     def __init__(self, df):\n",
    "#         self.df = df\n",
    "#\n",
    "#     def camel_to_snake(self, s):\n",
    "#         return ''.join(['_' + c.lower() if c.isupper() else c for c in s]).lstrip('_')\n",
    "#\n",
    "#     def convert_columns_to_snake_case(self):\n",
    "#         self.df.columns = map(self.camel_to_snake, self.df.columns)\n",
    "#         return np.array(self.df.columns)\n",
    "#\n",
    "#     def full_duplicates(self):\n",
    "#         count_full_duplicates = self.df.duplicated().sum()\n",
    "#         self.df.drop_duplicates(inplace=True)\n",
    "#         print(f'Число обнаруженных и удаленных полных дубликатов: {count_full_duplicates}')\n",
    "#\n",
    "#     def implicit_duplicates(self):\n",
    "#         ocols = self.df.select_dtypes('object').columns\n",
    "#         self.df[ocols] = self.df[ocols].apply(lambda x: x.str.lower())\n",
    "#         for col in self.df[ocols]:\n",
    "#             print(f\"{col}: {np.array(self.df[col].sort_values().unique())}\", end='\\n\\n')\n",
    "#\n",
    "#     def type_changes(self):\n",
    "#         fcols = self.df.select_dtypes('float').columns\n",
    "#         icols = self.df.select_dtypes('integer').columns\n",
    "#         self.df[fcols] = self.df[fcols].apply(pd.to_numeric, downcast='float')\n",
    "#         self.df[icols] = self.df[icols].apply(pd.to_numeric, downcast='integer')\n",
    "#         return self.df.info()\n",
    "#\n",
    "#     def pass_percentage(self):\n",
    "#         return pd.DataFrame(round(self.df.isna().mean() * 100)) \\\n",
    "#             .rename(columns={0: 'space'}).query('space > 0') \\\n",
    "#             .sort_values(by='space', ascending=True) \\\n",
    "#             .style.background_gradient('coolwarm')"
   ]
  },
  {
   "cell_type": "code",
   "execution_count": 4,
   "metadata": {
    "ExecuteTime": {
     "end_time": "2023-05-23T14:07:16.475456Z",
     "start_time": "2023-05-23T14:07:14.518689Z"
    }
   },
   "outputs": [],
   "source": [
    "def camel_to_snake(s):\n",
    "    return ''.join(['_' + c.lower() if c.isupper() else c for c in s]).lstrip('_')\n",
    "\n",
    "\n",
    "def convert_columns_to_snake_case(data):\n",
    "    data.columns = map(camel_to_snake, data.columns)\n",
    "    return np.array(data.columns)\n",
    "\n",
    "\n",
    "def full_duplicates(data):\n",
    "    count_full_duplicates = data.duplicated().sum()\n",
    "    data.drop_duplicates(inplace=True)\n",
    "    print(f'Число обнаруженных и удаленных полных дубликатов: {count_full_duplicates}')\n",
    "\n",
    "\n",
    "def implicit_duplicates(data):\n",
    "    ocols = data.select_dtypes('object').columns\n",
    "    data[ocols] = data[ocols].apply(lambda x: x.str.lower())\n",
    "    for col in data[ocols]:\n",
    "        print(f\"{col}: {np.array(data[col].sort_values().unique())}\", end='\\n\\n')\n",
    "\n",
    "\n",
    "def type_changes(data):\n",
    "    fcols = data.select_dtypes('float').columns\n",
    "    icols = data.select_dtypes('integer').columns\n",
    "    data[fcols] = data[fcols].apply(pd.to_numeric, downcast='float')\n",
    "    data[icols] = data[icols].apply(pd.to_numeric, downcast='integer')\n",
    "    return data.info()\n",
    "\n",
    "\n",
    "def pass_percentage(data):\n",
    "    return pd.DataFrame(round(data.isna().mean() * 100)) \\\n",
    "        .rename(columns={0: 'space'}).query('space > 0') \\\n",
    "        .sort_values(by='space', ascending=True) \\\n",
    "        .style.background_gradient('coolwarm')\n",
    "\n",
    "\n",
    "def anomaly_research(data):\n",
    "    return data.describe(percentiles=[0.0012, 0.01, .5, .99, .9988]).drop(['count', 'mean', 'std'], axis=0)\n",
    "\n",
    "\n",
    "def replace_zeroes_values(data, list):\n",
    "    data[list] = data[list].replace(0, np.nan)\n",
    "    return data.describe(percentiles=[0.0012, 0.01, .5, .99, .9988]).drop(['count', 'mean', 'std'], axis=0)\n",
    "\n",
    "\n",
    "def check_features(data, columns):\n",
    "    list_0012, list_01, list_99, list_9988 = [], [], [], []\n",
    "    for col in columns:\n",
    "        min_val = data[col].min()\n",
    "        quantile_0012 = data[col].quantile(0.0012)\n",
    "        quantile_01 = data[col].quantile(0.01)\n",
    "        max_val = data[col].max()\n",
    "        quantile_9988 = data[col].quantile(0.9988)\n",
    "        quantile_99 = data[col].quantile(0.99)\n",
    "        if abs(quantile_0012) < abs(quantile_01) / 3:\n",
    "            list_01.append(col)\n",
    "        elif abs(min_val) < abs(quantile_0012) / 3:\n",
    "            list_0012.append(col)\n",
    "\n",
    "        if abs(quantile_99) < abs(quantile_9988) / 3:\n",
    "            list_99.append(col)\n",
    "        elif abs(max_val) / 3 > abs(quantile_9988):\n",
    "            list_9988.append(col)\n",
    "    return list_0012, list_01, list_99, list_9988\n",
    "\n",
    "\n",
    "def correct_features(data, columns):\n",
    "    list_0012, list_01, list_99, list_9988 = check_features(data, columns)\n",
    "\n",
    "    for col in list_0012:\n",
    "        q = data[col].quantile(0.0012)\n",
    "        data = data.loc[data[col] >= q, columns]\n",
    "\n",
    "    for col in list_01:\n",
    "        q = data[col].quantile(0.01)\n",
    "        data = data.loc[data[col] >= q, columns]\n",
    "\n",
    "    for col in list_99:\n",
    "        q = data[col].quantile(0.99)\n",
    "        data = data.loc[data[col] <= q, columns]\n",
    "\n",
    "    for col in list_9988:\n",
    "        q = data[col].quantile(0.9988)\n",
    "        data = data.loc[data[col] <= q, columns]\n",
    "    return data\n",
    "\n",
    "\n",
    "def recover_gearbox(model):\n",
    "    if new_df.loc[model, :].sum() > 0:\n",
    "        return new_df.loc[model, :].sort_values().index[-1]\n",
    "    else:\n",
    "        return np.nan\n",
    "\n",
    "\n",
    "def recover_fuel_type(model):\n",
    "    if new_df.loc[model, :].sum() > 0:\n",
    "        return new_df.loc[model, :].sort_values().index[-1]\n",
    "    else:\n",
    "        return np.nan\n",
    "\n",
    "\n",
    "def recover_vehicle_type(model):\n",
    "    if new_df.loc[model, :].sum() > 0:\n",
    "        if new_df.loc[model, :].sort_values()[-1] / 10 > new_df.loc[model, :].sort_values()[-2]:\n",
    "            return new_df.loc[model, :].sort_values().index[-1]\n",
    "        else:\n",
    "            return 'unknown'\n",
    "    else:\n",
    "        return np.nan\n",
    "\n",
    "\n",
    "def phik_table(data):\n",
    "    phik_overview = data.phik_matrix(interval_cols=['price', 'registration_year', 'power', 'kilometer'])\n",
    "    return phik_overview.round(2)\n",
    "\n",
    "\n",
    "def phik_matrix(data):\n",
    "    phik_overview = data.phik_matrix(interval_cols=['price', 'registration_year', 'power', 'kilometer'])\n",
    "    mask = np.triu(np.ones_like(phik_overview, dtype=bool))\n",
    "\n",
    "    plt.figure(figsize=(10, 8))\n",
    "    sns.heatmap(phik_overview, annot=True, cmap='coolwarm', linewidths=0.1, linecolor='black', mask=mask)\n",
    "    plt.title('Phik Correlation Matrix')\n",
    "\n",
    "    return plt.show()"
   ]
  },
  {
   "cell_type": "markdown",
   "metadata": {},
   "source": [
    "<div class=\"alert alert-block alert-success\">\n",
    "<b>✔️ Успех:</b>\n",
    "\n",
    "Хорошие помощники 👍\n",
    "</div>"
   ]
  },
  {
   "cell_type": "code",
   "execution_count": 5,
   "metadata": {
    "ExecuteTime": {
     "end_time": "2023-05-23T14:07:16.787621Z",
     "start_time": "2023-05-23T14:07:14.524673Z"
    }
   },
   "outputs": [],
   "source": [
    "try:\n",
    "    if os.path.isfile('datasets/autos.csv'):\n",
    "        df = pd.read_csv('datasets/autos.csv', parse_dates=['DateCrawled', 'DateCreated', 'LastSeen'])\n",
    "    else:\n",
    "        df = pd.read_csv('/datasets/autos.csv', parse_dates=['DateCrawled', 'DateCreated', 'LastSeen'])\n",
    "except FileNotFoundError:\n",
    "    df = pd.read_csv('https://code.s3.yandex.net/datasets/autos.csv',\n",
    "                     parse_dates=['DateCrawled', 'DateCreated', 'LastSeen'])"
   ]
  },
  {
   "cell_type": "code",
   "execution_count": 6,
   "metadata": {
    "ExecuteTime": {
     "end_time": "2023-05-23T14:07:16.788618Z",
     "start_time": "2023-05-23T14:07:15.429253Z"
    }
   },
   "outputs": [
    {
     "data": {
      "text/plain": [
       "354369"
      ]
     },
     "execution_count": 6,
     "metadata": {},
     "output_type": "execute_result"
    }
   ],
   "source": [
    "df.shape[0]"
   ]
  },
  {
   "cell_type": "code",
   "execution_count": 7,
   "metadata": {
    "ExecuteTime": {
     "end_time": "2023-05-23T14:07:16.788618Z",
     "start_time": "2023-05-23T14:07:15.446208Z"
    }
   },
   "outputs": [
    {
     "data": {
      "text/html": [
       "<div>\n",
       "<style scoped>\n",
       "    .dataframe tbody tr th:only-of-type {\n",
       "        vertical-align: middle;\n",
       "    }\n",
       "\n",
       "    .dataframe tbody tr th {\n",
       "        vertical-align: top;\n",
       "    }\n",
       "\n",
       "    .dataframe thead th {\n",
       "        text-align: right;\n",
       "    }\n",
       "</style>\n",
       "<table border=\"1\" class=\"dataframe\">\n",
       "  <thead>\n",
       "    <tr style=\"text-align: right;\">\n",
       "      <th></th>\n",
       "      <th>DateCrawled</th>\n",
       "      <th>Price</th>\n",
       "      <th>VehicleType</th>\n",
       "      <th>RegistrationYear</th>\n",
       "      <th>Gearbox</th>\n",
       "      <th>Power</th>\n",
       "      <th>Model</th>\n",
       "      <th>Kilometer</th>\n",
       "      <th>RegistrationMonth</th>\n",
       "      <th>FuelType</th>\n",
       "      <th>Brand</th>\n",
       "      <th>Repaired</th>\n",
       "      <th>DateCreated</th>\n",
       "      <th>NumberOfPictures</th>\n",
       "      <th>PostalCode</th>\n",
       "      <th>LastSeen</th>\n",
       "    </tr>\n",
       "  </thead>\n",
       "  <tbody>\n",
       "    <tr>\n",
       "      <th>0</th>\n",
       "      <td>2016-03-24 11:52:17</td>\n",
       "      <td>480</td>\n",
       "      <td>NaN</td>\n",
       "      <td>1993</td>\n",
       "      <td>manual</td>\n",
       "      <td>0</td>\n",
       "      <td>golf</td>\n",
       "      <td>150000</td>\n",
       "      <td>0</td>\n",
       "      <td>petrol</td>\n",
       "      <td>volkswagen</td>\n",
       "      <td>NaN</td>\n",
       "      <td>2016-03-24</td>\n",
       "      <td>0</td>\n",
       "      <td>70435</td>\n",
       "      <td>2016-04-07 03:16:57</td>\n",
       "    </tr>\n",
       "    <tr>\n",
       "      <th>1</th>\n",
       "      <td>2016-03-24 10:58:45</td>\n",
       "      <td>18300</td>\n",
       "      <td>coupe</td>\n",
       "      <td>2011</td>\n",
       "      <td>manual</td>\n",
       "      <td>190</td>\n",
       "      <td>NaN</td>\n",
       "      <td>125000</td>\n",
       "      <td>5</td>\n",
       "      <td>gasoline</td>\n",
       "      <td>audi</td>\n",
       "      <td>yes</td>\n",
       "      <td>2016-03-24</td>\n",
       "      <td>0</td>\n",
       "      <td>66954</td>\n",
       "      <td>2016-04-07 01:46:50</td>\n",
       "    </tr>\n",
       "    <tr>\n",
       "      <th>2</th>\n",
       "      <td>2016-03-14 12:52:21</td>\n",
       "      <td>9800</td>\n",
       "      <td>suv</td>\n",
       "      <td>2004</td>\n",
       "      <td>auto</td>\n",
       "      <td>163</td>\n",
       "      <td>grand</td>\n",
       "      <td>125000</td>\n",
       "      <td>8</td>\n",
       "      <td>gasoline</td>\n",
       "      <td>jeep</td>\n",
       "      <td>NaN</td>\n",
       "      <td>2016-03-14</td>\n",
       "      <td>0</td>\n",
       "      <td>90480</td>\n",
       "      <td>2016-04-05 12:47:46</td>\n",
       "    </tr>\n",
       "    <tr>\n",
       "      <th>3</th>\n",
       "      <td>2016-03-17 16:54:04</td>\n",
       "      <td>1500</td>\n",
       "      <td>small</td>\n",
       "      <td>2001</td>\n",
       "      <td>manual</td>\n",
       "      <td>75</td>\n",
       "      <td>golf</td>\n",
       "      <td>150000</td>\n",
       "      <td>6</td>\n",
       "      <td>petrol</td>\n",
       "      <td>volkswagen</td>\n",
       "      <td>no</td>\n",
       "      <td>2016-03-17</td>\n",
       "      <td>0</td>\n",
       "      <td>91074</td>\n",
       "      <td>2016-03-17 17:40:17</td>\n",
       "    </tr>\n",
       "    <tr>\n",
       "      <th>4</th>\n",
       "      <td>2016-03-31 17:25:20</td>\n",
       "      <td>3600</td>\n",
       "      <td>small</td>\n",
       "      <td>2008</td>\n",
       "      <td>manual</td>\n",
       "      <td>69</td>\n",
       "      <td>fabia</td>\n",
       "      <td>90000</td>\n",
       "      <td>7</td>\n",
       "      <td>gasoline</td>\n",
       "      <td>skoda</td>\n",
       "      <td>no</td>\n",
       "      <td>2016-03-31</td>\n",
       "      <td>0</td>\n",
       "      <td>60437</td>\n",
       "      <td>2016-04-06 10:17:21</td>\n",
       "    </tr>\n",
       "  </tbody>\n",
       "</table>\n",
       "</div>"
      ],
      "text/plain": [
       "          DateCrawled  Price VehicleType  RegistrationYear Gearbox  Power  \\\n",
       "0 2016-03-24 11:52:17    480         NaN              1993  manual      0   \n",
       "1 2016-03-24 10:58:45  18300       coupe              2011  manual    190   \n",
       "2 2016-03-14 12:52:21   9800         suv              2004    auto    163   \n",
       "3 2016-03-17 16:54:04   1500       small              2001  manual     75   \n",
       "4 2016-03-31 17:25:20   3600       small              2008  manual     69   \n",
       "\n",
       "   Model  Kilometer  RegistrationMonth  FuelType       Brand Repaired  \\\n",
       "0   golf     150000                  0    petrol  volkswagen      NaN   \n",
       "1    NaN     125000                  5  gasoline        audi      yes   \n",
       "2  grand     125000                  8  gasoline        jeep      NaN   \n",
       "3   golf     150000                  6    petrol  volkswagen       no   \n",
       "4  fabia      90000                  7  gasoline       skoda       no   \n",
       "\n",
       "  DateCreated  NumberOfPictures  PostalCode            LastSeen  \n",
       "0  2016-03-24                 0       70435 2016-04-07 03:16:57  \n",
       "1  2016-03-24                 0       66954 2016-04-07 01:46:50  \n",
       "2  2016-03-14                 0       90480 2016-04-05 12:47:46  \n",
       "3  2016-03-17                 0       91074 2016-03-17 17:40:17  \n",
       "4  2016-03-31                 0       60437 2016-04-06 10:17:21  "
      ]
     },
     "execution_count": 7,
     "metadata": {},
     "output_type": "execute_result"
    }
   ],
   "source": [
    "df.head()"
   ]
  },
  {
   "cell_type": "code",
   "execution_count": 8,
   "metadata": {
    "ExecuteTime": {
     "end_time": "2023-05-23T14:07:16.788618Z",
     "start_time": "2023-05-23T14:07:15.462165Z"
    }
   },
   "outputs": [
    {
     "name": "stdout",
     "output_type": "stream",
     "text": [
      "<class 'pandas.core.frame.DataFrame'>\n",
      "RangeIndex: 354369 entries, 0 to 354368\n",
      "Data columns (total 16 columns):\n",
      " #   Column             Non-Null Count   Dtype         \n",
      "---  ------             --------------   -----         \n",
      " 0   DateCrawled        354369 non-null  datetime64[ns]\n",
      " 1   Price              354369 non-null  int64         \n",
      " 2   VehicleType        316879 non-null  object        \n",
      " 3   RegistrationYear   354369 non-null  int64         \n",
      " 4   Gearbox            334536 non-null  object        \n",
      " 5   Power              354369 non-null  int64         \n",
      " 6   Model              334664 non-null  object        \n",
      " 7   Kilometer          354369 non-null  int64         \n",
      " 8   RegistrationMonth  354369 non-null  int64         \n",
      " 9   FuelType           321474 non-null  object        \n",
      " 10  Brand              354369 non-null  object        \n",
      " 11  Repaired           283215 non-null  object        \n",
      " 12  DateCreated        354369 non-null  datetime64[ns]\n",
      " 13  NumberOfPictures   354369 non-null  int64         \n",
      " 14  PostalCode         354369 non-null  int64         \n",
      " 15  LastSeen           354369 non-null  datetime64[ns]\n",
      "dtypes: datetime64[ns](3), int64(7), object(6)\n",
      "memory usage: 43.3+ MB\n"
     ]
    }
   ],
   "source": [
    "df.info()"
   ]
  },
  {
   "cell_type": "markdown",
   "metadata": {},
   "source": [
    "---\n",
    "### *Переименование столбцов*"
   ]
  },
  {
   "cell_type": "code",
   "execution_count": 9,
   "metadata": {
    "ExecuteTime": {
     "end_time": "2023-05-23T14:07:16.788618Z",
     "start_time": "2023-05-23T14:07:15.524997Z"
    }
   },
   "outputs": [
    {
     "data": {
      "text/plain": [
       "array(['date_crawled', 'price', 'vehicle_type', 'registration_year',\n",
       "       'gearbox', 'power', 'model', 'kilometer', 'registration_month',\n",
       "       'fuel_type', 'brand', 'repaired', 'date_created',\n",
       "       'number_of_pictures', 'postal_code', 'last_seen'], dtype=object)"
      ]
     },
     "execution_count": 9,
     "metadata": {},
     "output_type": "execute_result"
    }
   ],
   "source": [
    "convert_columns_to_snake_case(df)"
   ]
  },
  {
   "cell_type": "markdown",
   "metadata": {},
   "source": [
    "<div class=\"alert alert-block alert-success\">\n",
    "<b>✔️ Успех:</b> \n",
    "\n",
    "Работать с такими названиями гораздо удобнее 👍🏻\n",
    "</div>"
   ]
  },
  {
   "cell_type": "markdown",
   "metadata": {},
   "source": [
    "---\n",
    "### *Обработка дубликатов*"
   ]
  },
  {
   "cell_type": "code",
   "execution_count": 10,
   "metadata": {
    "ExecuteTime": {
     "end_time": "2023-05-23T14:07:16.792607Z",
     "start_time": "2023-05-23T14:07:15.539957Z"
    }
   },
   "outputs": [
    {
     "name": "stdout",
     "output_type": "stream",
     "text": [
      "Число обнаруженных и удаленных полных дубликатов: 4\n"
     ]
    }
   ],
   "source": [
    "full_duplicates(df)"
   ]
  },
  {
   "cell_type": "markdown",
   "metadata": {},
   "source": [
    "Поиск неявных дубликатов."
   ]
  },
  {
   "cell_type": "code",
   "execution_count": 11,
   "metadata": {
    "ExecuteTime": {
     "end_time": "2023-05-23T14:07:17.982426Z",
     "start_time": "2023-05-23T14:07:15.979781Z"
    },
    "scrolled": true
   },
   "outputs": [
    {
     "name": "stdout",
     "output_type": "stream",
     "text": [
      "vehicle_type: ['bus' 'convertible' 'coupe' 'other' 'sedan' 'small' 'suv' 'wagon' nan]\n",
      "\n",
      "gearbox: ['auto' 'manual' nan]\n",
      "\n",
      "model: ['100' '145' '147' '156' '159' '1_reihe' '1er' '200' '2_reihe' '300c'\n",
      " '3_reihe' '3er' '4_reihe' '500' '5_reihe' '5er' '601' '6_reihe' '6er'\n",
      " '7er' '80' '850' '90' '900' '9000' '911' 'a1' 'a2' 'a3' 'a4' 'a5' 'a6'\n",
      " 'a8' 'a_klasse' 'accord' 'agila' 'alhambra' 'almera' 'altea' 'amarok'\n",
      " 'antara' 'arosa' 'astra' 'auris' 'avensis' 'aveo' 'aygo' 'b_klasse'\n",
      " 'b_max' 'beetle' 'berlingo' 'bora' 'boxster' 'bravo' 'c1' 'c2' 'c3' 'c4'\n",
      " 'c5' 'c_klasse' 'c_max' 'c_reihe' 'caddy' 'calibra' 'captiva' 'carisma'\n",
      " 'carnival' 'cayenne' 'cc' 'ceed' 'charade' 'cherokee' 'citigo' 'civic'\n",
      " 'cl' 'clio' 'clk' 'clubman' 'colt' 'combo' 'cooper' 'cordoba' 'corolla'\n",
      " 'corsa' 'cr_reihe' 'croma' 'crossfire' 'cuore' 'cx_reihe' 'defender'\n",
      " 'delta' 'discovery' 'doblo' 'ducato' 'duster' 'e_klasse' 'elefantino'\n",
      " 'eos' 'escort' 'espace' 'exeo' 'fabia' 'fiesta' 'focus' 'forester'\n",
      " 'forfour' 'fortwo' 'fox' 'freelander' 'fusion' 'g_klasse' 'galant'\n",
      " 'galaxy' 'getz' 'gl' 'glk' 'golf' 'grand' 'i3' 'i_reihe' 'ibiza'\n",
      " 'impreza' 'insignia' 'jazz' 'jetta' 'jimny' 'juke' 'justy' 'ka' 'kadett'\n",
      " 'kaefer' 'kalina' 'kalos' 'kangoo' 'kappa' 'kuga' 'laguna' 'lancer'\n",
      " 'lanos' 'legacy' 'leon' 'lodgy' 'logan' 'lupo' 'lybra' 'm_klasse'\n",
      " 'm_reihe' 'materia' 'matiz' 'megane' 'meriva' 'micra' 'mii' 'modus'\n",
      " 'mondeo' 'move' 'musa' 'mustang' 'mx_reihe' 'navara' 'niva' 'note'\n",
      " 'nubira' 'octavia' 'omega' 'one' 'other' 'outlander' 'pajero' 'panda'\n",
      " 'passat' 'phaeton' 'picanto' 'polo' 'primera' 'ptcruiser' 'punto' 'q3'\n",
      " 'q5' 'q7' 'qashqai' 'r19' 'range_rover' 'range_rover_evoque'\n",
      " 'range_rover_sport' 'rangerover' 'rav' 'rio' 'roadster' 'roomster'\n",
      " 'rx_reihe' 's60' 's_klasse' 's_max' 's_type' 'samara' 'sandero' 'santa'\n",
      " 'scenic' 'scirocco' 'seicento' 'serie_1' 'serie_2' 'serie_3' 'sharan'\n",
      " 'signum' 'sirion' 'sl' 'slk' 'sorento' 'spark' 'spider' 'sportage'\n",
      " 'sprinter' 'stilo' 'superb' 'swift' 'terios' 'tigra' 'tiguan' 'toledo'\n",
      " 'touareg' 'touran' 'transit' 'transporter' 'tt' 'tucson' 'twingo' 'up'\n",
      " 'v40' 'v50' 'v60' 'v70' 'v_klasse' 'vectra' 'verso' 'viano' 'vito'\n",
      " 'vivaro' 'voyager' 'wrangler' 'x_reihe' 'x_trail' 'x_type' 'xc_reihe'\n",
      " 'yaris' 'yeti' 'ypsilon' 'z_reihe' 'zafira' nan]\n",
      "\n",
      "fuel_type: ['cng' 'electric' 'gasoline' 'hybrid' 'lpg' 'other' 'petrol' nan]\n",
      "\n",
      "brand: ['alfa_romeo' 'audi' 'bmw' 'chevrolet' 'chrysler' 'citroen' 'dacia'\n",
      " 'daewoo' 'daihatsu' 'fiat' 'ford' 'honda' 'hyundai' 'jaguar' 'jeep' 'kia'\n",
      " 'lada' 'lancia' 'land_rover' 'mazda' 'mercedes_benz' 'mini' 'mitsubishi'\n",
      " 'nissan' 'opel' 'peugeot' 'porsche' 'renault' 'rover' 'saab' 'seat'\n",
      " 'skoda' 'smart' 'sonstige_autos' 'subaru' 'suzuki' 'toyota' 'trabant'\n",
      " 'volkswagen' 'volvo']\n",
      "\n",
      "repaired: ['no' 'yes' nan]\n",
      "\n"
     ]
    }
   ],
   "source": [
    "implicit_duplicates(df)"
   ]
  },
  {
   "cell_type": "markdown",
   "metadata": {},
   "source": [
    "Неявные дубликаты не обнаружены."
   ]
  },
  {
   "cell_type": "markdown",
   "metadata": {},
   "source": [
    "<div class=\"alert alert-block alert-success\">\n",
    "<b>✔️ Успех:</b>\n",
    "\n",
    "От явных дубликатов избавились 👍\n",
    "</div>"
   ]
  },
  {
   "cell_type": "markdown",
   "metadata": {},
   "source": [
    "---\n",
    "### *Отбор признаков*"
   ]
  },
  {
   "cell_type": "code",
   "execution_count": 12,
   "metadata": {
    "ExecuteTime": {
     "end_time": "2023-05-23T14:07:17.999380Z",
     "start_time": "2023-05-23T14:07:17.976442Z"
    }
   },
   "outputs": [
    {
     "data": {
      "text/html": [
       "<div>\n",
       "<style scoped>\n",
       "    .dataframe tbody tr th:only-of-type {\n",
       "        vertical-align: middle;\n",
       "    }\n",
       "\n",
       "    .dataframe tbody tr th {\n",
       "        vertical-align: top;\n",
       "    }\n",
       "\n",
       "    .dataframe thead th {\n",
       "        text-align: right;\n",
       "    }\n",
       "</style>\n",
       "<table border=\"1\" class=\"dataframe\">\n",
       "  <thead>\n",
       "    <tr style=\"text-align: right;\">\n",
       "      <th></th>\n",
       "      <th>date_crawled</th>\n",
       "      <th>price</th>\n",
       "      <th>vehicle_type</th>\n",
       "      <th>registration_year</th>\n",
       "      <th>gearbox</th>\n",
       "      <th>power</th>\n",
       "      <th>model</th>\n",
       "      <th>kilometer</th>\n",
       "      <th>registration_month</th>\n",
       "      <th>fuel_type</th>\n",
       "      <th>brand</th>\n",
       "      <th>repaired</th>\n",
       "      <th>date_created</th>\n",
       "      <th>number_of_pictures</th>\n",
       "      <th>postal_code</th>\n",
       "      <th>last_seen</th>\n",
       "    </tr>\n",
       "  </thead>\n",
       "  <tbody>\n",
       "    <tr>\n",
       "      <th>0</th>\n",
       "      <td>2016-03-24 11:52:17</td>\n",
       "      <td>480</td>\n",
       "      <td>NaN</td>\n",
       "      <td>1993</td>\n",
       "      <td>manual</td>\n",
       "      <td>0</td>\n",
       "      <td>golf</td>\n",
       "      <td>150000</td>\n",
       "      <td>0</td>\n",
       "      <td>petrol</td>\n",
       "      <td>volkswagen</td>\n",
       "      <td>NaN</td>\n",
       "      <td>2016-03-24</td>\n",
       "      <td>0</td>\n",
       "      <td>70435</td>\n",
       "      <td>2016-04-07 03:16:57</td>\n",
       "    </tr>\n",
       "    <tr>\n",
       "      <th>1</th>\n",
       "      <td>2016-03-24 10:58:45</td>\n",
       "      <td>18300</td>\n",
       "      <td>coupe</td>\n",
       "      <td>2011</td>\n",
       "      <td>manual</td>\n",
       "      <td>190</td>\n",
       "      <td>NaN</td>\n",
       "      <td>125000</td>\n",
       "      <td>5</td>\n",
       "      <td>gasoline</td>\n",
       "      <td>audi</td>\n",
       "      <td>yes</td>\n",
       "      <td>2016-03-24</td>\n",
       "      <td>0</td>\n",
       "      <td>66954</td>\n",
       "      <td>2016-04-07 01:46:50</td>\n",
       "    </tr>\n",
       "    <tr>\n",
       "      <th>2</th>\n",
       "      <td>2016-03-14 12:52:21</td>\n",
       "      <td>9800</td>\n",
       "      <td>suv</td>\n",
       "      <td>2004</td>\n",
       "      <td>auto</td>\n",
       "      <td>163</td>\n",
       "      <td>grand</td>\n",
       "      <td>125000</td>\n",
       "      <td>8</td>\n",
       "      <td>gasoline</td>\n",
       "      <td>jeep</td>\n",
       "      <td>NaN</td>\n",
       "      <td>2016-03-14</td>\n",
       "      <td>0</td>\n",
       "      <td>90480</td>\n",
       "      <td>2016-04-05 12:47:46</td>\n",
       "    </tr>\n",
       "    <tr>\n",
       "      <th>3</th>\n",
       "      <td>2016-03-17 16:54:04</td>\n",
       "      <td>1500</td>\n",
       "      <td>small</td>\n",
       "      <td>2001</td>\n",
       "      <td>manual</td>\n",
       "      <td>75</td>\n",
       "      <td>golf</td>\n",
       "      <td>150000</td>\n",
       "      <td>6</td>\n",
       "      <td>petrol</td>\n",
       "      <td>volkswagen</td>\n",
       "      <td>no</td>\n",
       "      <td>2016-03-17</td>\n",
       "      <td>0</td>\n",
       "      <td>91074</td>\n",
       "      <td>2016-03-17 17:40:17</td>\n",
       "    </tr>\n",
       "    <tr>\n",
       "      <th>4</th>\n",
       "      <td>2016-03-31 17:25:20</td>\n",
       "      <td>3600</td>\n",
       "      <td>small</td>\n",
       "      <td>2008</td>\n",
       "      <td>manual</td>\n",
       "      <td>69</td>\n",
       "      <td>fabia</td>\n",
       "      <td>90000</td>\n",
       "      <td>7</td>\n",
       "      <td>gasoline</td>\n",
       "      <td>skoda</td>\n",
       "      <td>no</td>\n",
       "      <td>2016-03-31</td>\n",
       "      <td>0</td>\n",
       "      <td>60437</td>\n",
       "      <td>2016-04-06 10:17:21</td>\n",
       "    </tr>\n",
       "  </tbody>\n",
       "</table>\n",
       "</div>"
      ],
      "text/plain": [
       "         date_crawled  price vehicle_type  registration_year gearbox  power  \\\n",
       "0 2016-03-24 11:52:17    480          NaN               1993  manual      0   \n",
       "1 2016-03-24 10:58:45  18300        coupe               2011  manual    190   \n",
       "2 2016-03-14 12:52:21   9800          suv               2004    auto    163   \n",
       "3 2016-03-17 16:54:04   1500        small               2001  manual     75   \n",
       "4 2016-03-31 17:25:20   3600        small               2008  manual     69   \n",
       "\n",
       "   model  kilometer  registration_month fuel_type       brand repaired  \\\n",
       "0   golf     150000                   0    petrol  volkswagen      NaN   \n",
       "1    NaN     125000                   5  gasoline        audi      yes   \n",
       "2  grand     125000                   8  gasoline        jeep      NaN   \n",
       "3   golf     150000                   6    petrol  volkswagen       no   \n",
       "4  fabia      90000                   7  gasoline       skoda       no   \n",
       "\n",
       "  date_created  number_of_pictures  postal_code           last_seen  \n",
       "0   2016-03-24                   0        70435 2016-04-07 03:16:57  \n",
       "1   2016-03-24                   0        66954 2016-04-07 01:46:50  \n",
       "2   2016-03-14                   0        90480 2016-04-05 12:47:46  \n",
       "3   2016-03-17                   0        91074 2016-03-17 17:40:17  \n",
       "4   2016-03-31                   0        60437 2016-04-06 10:17:21  "
      ]
     },
     "execution_count": 12,
     "metadata": {},
     "output_type": "execute_result"
    }
   ],
   "source": [
    "df.head()"
   ]
  },
  {
   "cell_type": "markdown",
   "metadata": {},
   "source": [
    "Удалим явные неинформативные признаки и преобразуем столбец `date_created` к такому виду, чтобы у каждого объекта был только год публикации."
   ]
  },
  {
   "cell_type": "code",
   "execution_count": 13,
   "metadata": {
    "ExecuteTime": {
     "end_time": "2023-05-23T14:07:18.070190Z",
     "start_time": "2023-05-23T14:07:17.993396Z"
    }
   },
   "outputs": [],
   "source": [
    "df = df.drop(['date_crawled', 'registration_month', 'number_of_pictures', 'postal_code', 'last_seen'], axis=1)\n",
    "df['date_created'] = df['date_created'].dt.year"
   ]
  },
  {
   "cell_type": "code",
   "execution_count": 14,
   "metadata": {
    "ExecuteTime": {
     "end_time": "2023-05-23T14:07:18.100111Z",
     "start_time": "2023-05-23T14:07:18.040271Z"
    }
   },
   "outputs": [
    {
     "data": {
      "text/html": [
       "<div>\n",
       "<style scoped>\n",
       "    .dataframe tbody tr th:only-of-type {\n",
       "        vertical-align: middle;\n",
       "    }\n",
       "\n",
       "    .dataframe tbody tr th {\n",
       "        vertical-align: top;\n",
       "    }\n",
       "\n",
       "    .dataframe thead th {\n",
       "        text-align: right;\n",
       "    }\n",
       "</style>\n",
       "<table border=\"1\" class=\"dataframe\">\n",
       "  <thead>\n",
       "    <tr style=\"text-align: right;\">\n",
       "      <th></th>\n",
       "      <th>price</th>\n",
       "      <th>vehicle_type</th>\n",
       "      <th>registration_year</th>\n",
       "      <th>gearbox</th>\n",
       "      <th>power</th>\n",
       "      <th>model</th>\n",
       "      <th>kilometer</th>\n",
       "      <th>fuel_type</th>\n",
       "      <th>brand</th>\n",
       "      <th>repaired</th>\n",
       "      <th>date_created</th>\n",
       "    </tr>\n",
       "  </thead>\n",
       "  <tbody>\n",
       "    <tr>\n",
       "      <th>0</th>\n",
       "      <td>480</td>\n",
       "      <td>NaN</td>\n",
       "      <td>1993</td>\n",
       "      <td>manual</td>\n",
       "      <td>0</td>\n",
       "      <td>golf</td>\n",
       "      <td>150000</td>\n",
       "      <td>petrol</td>\n",
       "      <td>volkswagen</td>\n",
       "      <td>NaN</td>\n",
       "      <td>2016</td>\n",
       "    </tr>\n",
       "    <tr>\n",
       "      <th>1</th>\n",
       "      <td>18300</td>\n",
       "      <td>coupe</td>\n",
       "      <td>2011</td>\n",
       "      <td>manual</td>\n",
       "      <td>190</td>\n",
       "      <td>NaN</td>\n",
       "      <td>125000</td>\n",
       "      <td>gasoline</td>\n",
       "      <td>audi</td>\n",
       "      <td>yes</td>\n",
       "      <td>2016</td>\n",
       "    </tr>\n",
       "    <tr>\n",
       "      <th>2</th>\n",
       "      <td>9800</td>\n",
       "      <td>suv</td>\n",
       "      <td>2004</td>\n",
       "      <td>auto</td>\n",
       "      <td>163</td>\n",
       "      <td>grand</td>\n",
       "      <td>125000</td>\n",
       "      <td>gasoline</td>\n",
       "      <td>jeep</td>\n",
       "      <td>NaN</td>\n",
       "      <td>2016</td>\n",
       "    </tr>\n",
       "    <tr>\n",
       "      <th>3</th>\n",
       "      <td>1500</td>\n",
       "      <td>small</td>\n",
       "      <td>2001</td>\n",
       "      <td>manual</td>\n",
       "      <td>75</td>\n",
       "      <td>golf</td>\n",
       "      <td>150000</td>\n",
       "      <td>petrol</td>\n",
       "      <td>volkswagen</td>\n",
       "      <td>no</td>\n",
       "      <td>2016</td>\n",
       "    </tr>\n",
       "    <tr>\n",
       "      <th>4</th>\n",
       "      <td>3600</td>\n",
       "      <td>small</td>\n",
       "      <td>2008</td>\n",
       "      <td>manual</td>\n",
       "      <td>69</td>\n",
       "      <td>fabia</td>\n",
       "      <td>90000</td>\n",
       "      <td>gasoline</td>\n",
       "      <td>skoda</td>\n",
       "      <td>no</td>\n",
       "      <td>2016</td>\n",
       "    </tr>\n",
       "  </tbody>\n",
       "</table>\n",
       "</div>"
      ],
      "text/plain": [
       "   price vehicle_type  registration_year gearbox  power  model  kilometer  \\\n",
       "0    480          NaN               1993  manual      0   golf     150000   \n",
       "1  18300        coupe               2011  manual    190    NaN     125000   \n",
       "2   9800          suv               2004    auto    163  grand     125000   \n",
       "3   1500        small               2001  manual     75   golf     150000   \n",
       "4   3600        small               2008  manual     69  fabia      90000   \n",
       "\n",
       "  fuel_type       brand repaired  date_created  \n",
       "0    petrol  volkswagen      NaN          2016  \n",
       "1  gasoline        audi      yes          2016  \n",
       "2  gasoline        jeep      NaN          2016  \n",
       "3    petrol  volkswagen       no          2016  \n",
       "4  gasoline       skoda       no          2016  "
      ]
     },
     "execution_count": 14,
     "metadata": {},
     "output_type": "execute_result"
    }
   ],
   "source": [
    "df.head()"
   ]
  },
  {
   "cell_type": "markdown",
   "metadata": {},
   "source": [
    "Отобразим уникальные значения, которые отражают год публикации объявлений."
   ]
  },
  {
   "cell_type": "code",
   "execution_count": 15,
   "metadata": {
    "ExecuteTime": {
     "end_time": "2023-05-23T14:07:18.131028Z",
     "start_time": "2023-05-23T14:07:18.056228Z"
    }
   },
   "outputs": [
    {
     "data": {
      "text/plain": [
       "array([2016, 2015, 2014], dtype=int64)"
      ]
     },
     "execution_count": 15,
     "metadata": {},
     "output_type": "execute_result"
    }
   ],
   "source": [
    "df['date_created'].unique()"
   ]
  },
  {
   "cell_type": "code",
   "execution_count": 16,
   "metadata": {
    "ExecuteTime": {
     "end_time": "2023-05-23T14:07:18.266666Z",
     "start_time": "2023-05-23T14:07:18.073183Z"
    }
   },
   "outputs": [
    {
     "name": "stdout",
     "output_type": "stream",
     "text": [
      "Количество объявлений опубликованных в 2016 году: 354339\n",
      "Медианное значение цены в 2016 году: 2700.0\n",
      "Количество объявлений опубликованных в 2015 году: 25\n",
      "Медианное значение цены в 2015 году: 6000.0\n",
      "Количество объявлений опубликованных в 2014 году: 1\n",
      "Медианное значение цены в 2014 году: 8999.0\n"
     ]
    }
   ],
   "source": [
    "for year in df['date_created'].unique():\n",
    "    print(f\"Количество объявлений опубликованных в {year} году: {df.query('date_created == @year')['price'].count()}\",\n",
    "          f\"Медианное значение цены в {year} году: {df.query('date_created == @year')['price'].median()}\", sep='\\n')"
   ]
  },
  {
   "cell_type": "markdown",
   "metadata": {},
   "source": [
    "Заметно столь значительное различие в количестве публикаций по годам, что нет никакой необходимости учитывать инфляционное смещение цены со временем. Поэтому мы можем говорить о том, что столбец `date_created` не информативен."
   ]
  },
  {
   "cell_type": "code",
   "execution_count": 17,
   "metadata": {
    "ExecuteTime": {
     "end_time": "2023-05-23T14:07:18.288606Z",
     "start_time": "2023-05-23T14:07:18.197850Z"
    }
   },
   "outputs": [],
   "source": [
    "df = df.drop(['date_created'], axis=1)"
   ]
  },
  {
   "cell_type": "markdown",
   "metadata": {},
   "source": [
    "<div class=\"alert alert-block alert-success\">\n",
    "<b>✔️ Успех:</b>\n",
    "\n",
    "Удалить неинформативные признаки - хорошее решение 👍🏻\n",
    "</div>"
   ]
  },
  {
   "cell_type": "markdown",
   "metadata": {},
   "source": [
    "---\n",
    "### *Обработка аномальных значений*"
   ]
  },
  {
   "cell_type": "code",
   "execution_count": 18,
   "metadata": {
    "ExecuteTime": {
     "end_time": "2023-05-23T14:07:18.380361Z",
     "start_time": "2023-05-23T14:07:18.227770Z"
    }
   },
   "outputs": [
    {
     "data": {
      "text/html": [
       "<div>\n",
       "<style scoped>\n",
       "    .dataframe tbody tr th:only-of-type {\n",
       "        vertical-align: middle;\n",
       "    }\n",
       "\n",
       "    .dataframe tbody tr th {\n",
       "        vertical-align: top;\n",
       "    }\n",
       "\n",
       "    .dataframe thead th {\n",
       "        text-align: right;\n",
       "    }\n",
       "</style>\n",
       "<table border=\"1\" class=\"dataframe\">\n",
       "  <thead>\n",
       "    <tr style=\"text-align: right;\">\n",
       "      <th></th>\n",
       "      <th>price</th>\n",
       "      <th>registration_year</th>\n",
       "      <th>power</th>\n",
       "      <th>kilometer</th>\n",
       "    </tr>\n",
       "  </thead>\n",
       "  <tbody>\n",
       "    <tr>\n",
       "      <th>min</th>\n",
       "      <td>0.0</td>\n",
       "      <td>1000.0</td>\n",
       "      <td>0.0</td>\n",
       "      <td>5000.0</td>\n",
       "    </tr>\n",
       "    <tr>\n",
       "      <th>0.1%</th>\n",
       "      <td>0.0</td>\n",
       "      <td>1960.0</td>\n",
       "      <td>0.0</td>\n",
       "      <td>5000.0</td>\n",
       "    </tr>\n",
       "    <tr>\n",
       "      <th>1%</th>\n",
       "      <td>0.0</td>\n",
       "      <td>1980.0</td>\n",
       "      <td>0.0</td>\n",
       "      <td>5000.0</td>\n",
       "    </tr>\n",
       "    <tr>\n",
       "      <th>50%</th>\n",
       "      <td>2700.0</td>\n",
       "      <td>2003.0</td>\n",
       "      <td>105.0</td>\n",
       "      <td>150000.0</td>\n",
       "    </tr>\n",
       "    <tr>\n",
       "      <th>99%</th>\n",
       "      <td>18800.0</td>\n",
       "      <td>2018.0</td>\n",
       "      <td>300.0</td>\n",
       "      <td>150000.0</td>\n",
       "    </tr>\n",
       "    <tr>\n",
       "      <th>99.9%</th>\n",
       "      <td>19999.0</td>\n",
       "      <td>2018.0</td>\n",
       "      <td>520.0</td>\n",
       "      <td>150000.0</td>\n",
       "    </tr>\n",
       "    <tr>\n",
       "      <th>max</th>\n",
       "      <td>20000.0</td>\n",
       "      <td>9999.0</td>\n",
       "      <td>20000.0</td>\n",
       "      <td>150000.0</td>\n",
       "    </tr>\n",
       "  </tbody>\n",
       "</table>\n",
       "</div>"
      ],
      "text/plain": [
       "         price  registration_year    power  kilometer\n",
       "min        0.0             1000.0      0.0     5000.0\n",
       "0.1%       0.0             1960.0      0.0     5000.0\n",
       "1%         0.0             1980.0      0.0     5000.0\n",
       "50%     2700.0             2003.0    105.0   150000.0\n",
       "99%    18800.0             2018.0    300.0   150000.0\n",
       "99.9%  19999.0             2018.0    520.0   150000.0\n",
       "max    20000.0             9999.0  20000.0   150000.0"
      ]
     },
     "execution_count": 18,
     "metadata": {},
     "output_type": "execute_result"
    }
   ],
   "source": [
    "anomaly_research(df)"
   ]
  },
  {
   "cell_type": "code",
   "execution_count": 19,
   "metadata": {
    "ExecuteTime": {
     "end_time": "2023-05-23T14:07:18.543924Z",
     "start_time": "2023-05-23T14:07:18.290602Z"
    }
   },
   "outputs": [
    {
     "data": {
      "text/html": [
       "<div>\n",
       "<style scoped>\n",
       "    .dataframe tbody tr th:only-of-type {\n",
       "        vertical-align: middle;\n",
       "    }\n",
       "\n",
       "    .dataframe tbody tr th {\n",
       "        vertical-align: top;\n",
       "    }\n",
       "\n",
       "    .dataframe thead th {\n",
       "        text-align: right;\n",
       "    }\n",
       "</style>\n",
       "<table border=\"1\" class=\"dataframe\">\n",
       "  <thead>\n",
       "    <tr style=\"text-align: right;\">\n",
       "      <th></th>\n",
       "      <th>price</th>\n",
       "      <th>registration_year</th>\n",
       "      <th>power</th>\n",
       "      <th>kilometer</th>\n",
       "    </tr>\n",
       "  </thead>\n",
       "  <tbody>\n",
       "    <tr>\n",
       "      <th>min</th>\n",
       "      <td>1.0</td>\n",
       "      <td>1000.0</td>\n",
       "      <td>1.0</td>\n",
       "      <td>5000.0</td>\n",
       "    </tr>\n",
       "    <tr>\n",
       "      <th>0.1%</th>\n",
       "      <td>1.0</td>\n",
       "      <td>1960.0</td>\n",
       "      <td>18.0</td>\n",
       "      <td>5000.0</td>\n",
       "    </tr>\n",
       "    <tr>\n",
       "      <th>1%</th>\n",
       "      <td>100.0</td>\n",
       "      <td>1980.0</td>\n",
       "      <td>45.0</td>\n",
       "      <td>5000.0</td>\n",
       "    </tr>\n",
       "    <tr>\n",
       "      <th>50%</th>\n",
       "      <td>2890.0</td>\n",
       "      <td>2003.0</td>\n",
       "      <td>110.0</td>\n",
       "      <td>150000.0</td>\n",
       "    </tr>\n",
       "    <tr>\n",
       "      <th>99%</th>\n",
       "      <td>18850.0</td>\n",
       "      <td>2018.0</td>\n",
       "      <td>306.0</td>\n",
       "      <td>150000.0</td>\n",
       "    </tr>\n",
       "    <tr>\n",
       "      <th>99.9%</th>\n",
       "      <td>19999.0</td>\n",
       "      <td>2018.0</td>\n",
       "      <td>603.0</td>\n",
       "      <td>150000.0</td>\n",
       "    </tr>\n",
       "    <tr>\n",
       "      <th>max</th>\n",
       "      <td>20000.0</td>\n",
       "      <td>9999.0</td>\n",
       "      <td>20000.0</td>\n",
       "      <td>150000.0</td>\n",
       "    </tr>\n",
       "  </tbody>\n",
       "</table>\n",
       "</div>"
      ],
      "text/plain": [
       "         price  registration_year    power  kilometer\n",
       "min        1.0             1000.0      1.0     5000.0\n",
       "0.1%       1.0             1960.0     18.0     5000.0\n",
       "1%       100.0             1980.0     45.0     5000.0\n",
       "50%     2890.0             2003.0    110.0   150000.0\n",
       "99%    18850.0             2018.0    306.0   150000.0\n",
       "99.9%  19999.0             2018.0    603.0   150000.0\n",
       "max    20000.0             9999.0  20000.0   150000.0"
      ]
     },
     "execution_count": 19,
     "metadata": {},
     "output_type": "execute_result"
    }
   ],
   "source": [
    "replace_zeroes_values(df, ['price', 'power'])"
   ]
  },
  {
   "cell_type": "code",
   "execution_count": 20,
   "metadata": {
    "ExecuteTime": {
     "end_time": "2023-05-23T14:07:18.742393Z",
     "start_time": "2023-05-23T14:07:18.491065Z"
    }
   },
   "outputs": [
    {
     "data": {
      "text/html": [
       "<div>\n",
       "<style scoped>\n",
       "    .dataframe tbody tr th:only-of-type {\n",
       "        vertical-align: middle;\n",
       "    }\n",
       "\n",
       "    .dataframe tbody tr th {\n",
       "        vertical-align: top;\n",
       "    }\n",
       "\n",
       "    .dataframe thead th {\n",
       "        text-align: right;\n",
       "    }\n",
       "</style>\n",
       "<table border=\"1\" class=\"dataframe\">\n",
       "  <thead>\n",
       "    <tr style=\"text-align: right;\">\n",
       "      <th></th>\n",
       "      <th>price</th>\n",
       "      <th>registration_year</th>\n",
       "      <th>power</th>\n",
       "      <th>kilometer</th>\n",
       "    </tr>\n",
       "  </thead>\n",
       "  <tbody>\n",
       "    <tr>\n",
       "      <th>min</th>\n",
       "      <td>150.0</td>\n",
       "      <td>1960.0</td>\n",
       "      <td>18.0</td>\n",
       "      <td>5000.0</td>\n",
       "    </tr>\n",
       "    <tr>\n",
       "      <th>0.1%</th>\n",
       "      <td>150.0</td>\n",
       "      <td>1965.0</td>\n",
       "      <td>26.0</td>\n",
       "      <td>5000.0</td>\n",
       "    </tr>\n",
       "    <tr>\n",
       "      <th>1%</th>\n",
       "      <td>200.0</td>\n",
       "      <td>1980.0</td>\n",
       "      <td>45.0</td>\n",
       "      <td>5000.0</td>\n",
       "    </tr>\n",
       "    <tr>\n",
       "      <th>50%</th>\n",
       "      <td>3200.0</td>\n",
       "      <td>2003.0</td>\n",
       "      <td>113.0</td>\n",
       "      <td>150000.0</td>\n",
       "    </tr>\n",
       "    <tr>\n",
       "      <th>99%</th>\n",
       "      <td>18900.0</td>\n",
       "      <td>2016.0</td>\n",
       "      <td>300.0</td>\n",
       "      <td>150000.0</td>\n",
       "    </tr>\n",
       "    <tr>\n",
       "      <th>99.9%</th>\n",
       "      <td>19999.0</td>\n",
       "      <td>2016.0</td>\n",
       "      <td>394.0</td>\n",
       "      <td>150000.0</td>\n",
       "    </tr>\n",
       "    <tr>\n",
       "      <th>max</th>\n",
       "      <td>20000.0</td>\n",
       "      <td>2016.0</td>\n",
       "      <td>515.0</td>\n",
       "      <td>150000.0</td>\n",
       "    </tr>\n",
       "  </tbody>\n",
       "</table>\n",
       "</div>"
      ],
      "text/plain": [
       "         price  registration_year  power  kilometer\n",
       "min      150.0             1960.0   18.0     5000.0\n",
       "0.1%     150.0             1965.0   26.0     5000.0\n",
       "1%       200.0             1980.0   45.0     5000.0\n",
       "50%     3200.0             2003.0  113.0   150000.0\n",
       "99%    18900.0             2016.0  300.0   150000.0\n",
       "99.9%  19999.0             2016.0  394.0   150000.0\n",
       "max    20000.0             2016.0  515.0   150000.0"
      ]
     },
     "execution_count": 20,
     "metadata": {},
     "output_type": "execute_result"
    }
   ],
   "source": [
    "df = df.query('2017 > registration_year >= 1960')\n",
    "df[['price', 'power']] = correct_features(df, ['price', 'power'])\n",
    "anomaly_research(df)"
   ]
  },
  {
   "cell_type": "code",
   "execution_count": 21,
   "metadata": {
    "ExecuteTime": {
     "end_time": "2023-05-23T14:07:18.746382Z",
     "start_time": "2023-05-23T14:07:18.727433Z"
    }
   },
   "outputs": [
    {
     "data": {
      "text/plain": [
       "339413"
      ]
     },
     "execution_count": 21,
     "metadata": {},
     "output_type": "execute_result"
    }
   ],
   "source": [
    "df.shape[0]"
   ]
  },
  {
   "cell_type": "markdown",
   "metadata": {},
   "source": [
    "<div class=\"alert alert-block alert-success\">\n",
    "<b>✔️ Успех:</b>\n",
    "\n",
    "С аномальными значениями успешно справились 👍\n",
    "</div>"
   ]
  },
  {
   "cell_type": "markdown",
   "metadata": {},
   "source": [
    "---\n",
    "### *Обработка пропусков*"
   ]
  },
  {
   "cell_type": "code",
   "execution_count": 22,
   "metadata": {
    "ExecuteTime": {
     "end_time": "2023-05-23T14:07:18.891994Z",
     "start_time": "2023-05-23T14:07:18.743390Z"
    }
   },
   "outputs": [
    {
     "data": {
      "text/html": [
       "<style  type=\"text/css\" >\n",
       "#T_0c03c_row0_col0,#T_0c03c_row1_col0{\n",
       "            background-color:  #3b4cc0;\n",
       "            color:  #f1f1f1;\n",
       "        }#T_0c03c_row2_col0{\n",
       "            background-color:  #6788ee;\n",
       "            color:  #000000;\n",
       "        }#T_0c03c_row3_col0{\n",
       "            background-color:  #80a3fa;\n",
       "            color:  #000000;\n",
       "        }#T_0c03c_row4_col0,#T_0c03c_row5_col0{\n",
       "            background-color:  #edd1c2;\n",
       "            color:  #000000;\n",
       "        }#T_0c03c_row6_col0{\n",
       "            background-color:  #b40426;\n",
       "            color:  #f1f1f1;\n",
       "        }</style><table id=\"T_0c03c_\" ><thead>    <tr>        <th class=\"blank level0\" ></th>        <th class=\"col_heading level0 col0\" >space</th>    </tr></thead><tbody>\n",
       "                <tr>\n",
       "                        <th id=\"T_0c03c_level0_row0\" class=\"row_heading level0 row0\" >gearbox</th>\n",
       "                        <td id=\"T_0c03c_row0_col0\" class=\"data row0 col0\" >5.000000</td>\n",
       "            </tr>\n",
       "            <tr>\n",
       "                        <th id=\"T_0c03c_level0_row1\" class=\"row_heading level0 row1\" >model</th>\n",
       "                        <td id=\"T_0c03c_row1_col0\" class=\"data row1 col0\" >5.000000</td>\n",
       "            </tr>\n",
       "            <tr>\n",
       "                        <th id=\"T_0c03c_level0_row2\" class=\"row_heading level0 row2\" >vehicle_type</th>\n",
       "                        <td id=\"T_0c03c_row2_col0\" class=\"data row2 col0\" >7.000000</td>\n",
       "            </tr>\n",
       "            <tr>\n",
       "                        <th id=\"T_0c03c_level0_row3\" class=\"row_heading level0 row3\" >fuel_type</th>\n",
       "                        <td id=\"T_0c03c_row3_col0\" class=\"data row3 col0\" >8.000000</td>\n",
       "            </tr>\n",
       "            <tr>\n",
       "                        <th id=\"T_0c03c_level0_row4\" class=\"row_heading level0 row4\" >price</th>\n",
       "                        <td id=\"T_0c03c_row4_col0\" class=\"data row4 col0\" >13.000000</td>\n",
       "            </tr>\n",
       "            <tr>\n",
       "                        <th id=\"T_0c03c_level0_row5\" class=\"row_heading level0 row5\" >power</th>\n",
       "                        <td id=\"T_0c03c_row5_col0\" class=\"data row5 col0\" >13.000000</td>\n",
       "            </tr>\n",
       "            <tr>\n",
       "                        <th id=\"T_0c03c_level0_row6\" class=\"row_heading level0 row6\" >repaired</th>\n",
       "                        <td id=\"T_0c03c_row6_col0\" class=\"data row6 col0\" >19.000000</td>\n",
       "            </tr>\n",
       "    </tbody></table>"
      ],
      "text/plain": [
       "<pandas.io.formats.style.Styler at 0x24ada7dc370>"
      ]
     },
     "execution_count": 22,
     "metadata": {},
     "output_type": "execute_result"
    }
   ],
   "source": [
    "pass_percentage(df)"
   ]
  },
  {
   "cell_type": "markdown",
   "metadata": {},
   "source": [
    "Восстановить значения в столбце model достоверно не представляется возможным, поэтому предпочтительно будет удалить строки с пропущенными значениями в данном столбце."
   ]
  },
  {
   "cell_type": "code",
   "execution_count": 23,
   "metadata": {
    "ExecuteTime": {
     "end_time": "2023-05-23T14:07:18.892990Z",
     "start_time": "2023-05-23T14:07:18.821182Z"
    }
   },
   "outputs": [],
   "source": [
    "df = df.dropna(subset=['model'])"
   ]
  },
  {
   "cell_type": "markdown",
   "metadata": {},
   "source": [
    "Проверим, как менялось распределение использования автоматической коробки передач по годам."
   ]
  },
  {
   "cell_type": "code",
   "execution_count": 24,
   "metadata": {
    "ExecuteTime": {
     "end_time": "2023-05-23T14:07:19.242057Z",
     "start_time": "2023-05-23T14:07:18.883017Z"
    }
   },
   "outputs": [
    {
     "name": "stdout",
     "output_type": "stream",
     "text": [
      "Соотношение для 1993 года: manual    2586\n",
      "auto       528\n",
      "Name: gearbox, dtype: int64\n",
      "Соотношение для 2004 года: manual    14079\n",
      "auto       4331\n",
      "Name: gearbox, dtype: int64\n",
      "Соотношение для 2001 года: manual    15199\n",
      "auto       3532\n",
      "Name: gearbox, dtype: int64\n",
      "Соотношение для 2008 года: manual    10628\n",
      "auto       3943\n",
      "Name: gearbox, dtype: int64\n",
      "Соотношение для 1995 года: manual    6781\n",
      "auto      1083\n",
      "Name: gearbox, dtype: int64\n",
      "Соотношение для 1980 года: manual    176\n",
      "auto       85\n",
      "Name: gearbox, dtype: int64\n",
      "Соотношение для 2014 года: manual    2034\n",
      "auto       396\n",
      "Name: gearbox, dtype: int64\n",
      "Соотношение для 1998 года: manual    13962\n",
      "auto       2327\n",
      "Name: gearbox, dtype: int64\n",
      "Соотношение для 2005 года: manual    14833\n",
      "auto       4701\n",
      "Name: gearbox, dtype: int64\n",
      "Соотношение для 2011 года: manual    7291\n",
      "auto      2268\n",
      "Name: gearbox, dtype: int64\n",
      "Соотношение для 2016 года: manual    6341\n",
      "auto       856\n",
      "Name: gearbox, dtype: int64\n",
      "Соотношение для 2007 года: manual    11875\n",
      "auto       4280\n",
      "Name: gearbox, dtype: int64\n",
      "Соотношение для 2009 года: manual    10915\n",
      "auto       2957\n",
      "Name: gearbox, dtype: int64\n",
      "Соотношение для 2002 года: manual    14151\n",
      "auto       3636\n",
      "Name: gearbox, dtype: int64\n",
      "Соотношение для 1997 года: manual    11534\n",
      "auto       1867\n",
      "Name: gearbox, dtype: int64\n",
      "Соотношение для 1990 года: manual    1635\n",
      "auto       350\n",
      "Name: gearbox, dtype: int64\n",
      "Соотношение для 1981 года: manual    130\n",
      "auto       66\n",
      "Name: gearbox, dtype: int64\n",
      "Соотношение для 2003 года: manual    14591\n",
      "auto       3909\n",
      "Name: gearbox, dtype: int64\n",
      "Соотношение для 1994 года: manual    3718\n",
      "auto       662\n",
      "Name: gearbox, dtype: int64\n",
      "Соотношение для 1991 года: manual    2136\n",
      "auto       362\n",
      "Name: gearbox, dtype: int64\n",
      "Соотношение для 1984 года: manual    257\n",
      "auto       71\n",
      "Name: gearbox, dtype: int64\n",
      "Соотношение для 2006 года: manual    13944\n",
      "auto       4807\n",
      "Name: gearbox, dtype: int64\n",
      "Соотношение для 1999 года: manual    17723\n",
      "auto       3188\n",
      "Name: gearbox, dtype: int64\n",
      "Соотношение для 2012 года: manual    5586\n",
      "auto      1336\n",
      "Name: gearbox, dtype: int64\n",
      "Соотношение для 2010 года: manual    7935\n",
      "auto      2344\n",
      "Name: gearbox, dtype: int64\n",
      "Соотношение для 2000 года: manual    16711\n",
      "auto       3431\n",
      "Name: gearbox, dtype: int64\n",
      "Соотношение для 1992 года: manual    2185\n",
      "auto       504\n",
      "Name: gearbox, dtype: int64\n",
      "Соотношение для 2013 года: manual    3266\n",
      "auto       714\n",
      "Name: gearbox, dtype: int64\n",
      "Соотношение для 1996 года: manual    8506\n",
      "auto      1356\n",
      "Name: gearbox, dtype: int64\n",
      "Соотношение для 1985 года: manual    391\n",
      "auto      101\n",
      "Name: gearbox, dtype: int64\n",
      "Соотношение для 1989 года: manual    911\n",
      "auto      225\n",
      "Name: gearbox, dtype: int64\n",
      "Соотношение для 2015 года: manual    898\n",
      "auto      165\n",
      "Name: gearbox, dtype: int64\n",
      "Соотношение для 1982 года: manual    199\n",
      "auto       65\n",
      "Name: gearbox, dtype: int64\n",
      "Соотношение для 1976 года: manual    94\n",
      "auto      35\n",
      "Name: gearbox, dtype: int64\n",
      "Соотношение для 1983 года: manual    276\n",
      "auto       88\n",
      "Name: gearbox, dtype: int64\n",
      "Соотношение для 1973 года: manual    105\n",
      "auto       27\n",
      "Name: gearbox, dtype: int64\n",
      "Соотношение для 1969 года: manual    58\n",
      "auto      20\n",
      "Name: gearbox, dtype: int64\n",
      "Соотношение для 1971 года: manual    105\n",
      "auto       18\n",
      "Name: gearbox, dtype: int64\n",
      "Соотношение для 1987 года: manual    471\n",
      "auto      110\n",
      "Name: gearbox, dtype: int64\n",
      "Соотношение для 1986 года: manual    378\n",
      "auto       82\n",
      "Name: gearbox, dtype: int64\n",
      "Соотношение для 1988 года: manual    673\n",
      "auto      171\n",
      "Name: gearbox, dtype: int64\n",
      "Соотношение для 1965 года: manual    43\n",
      "auto       7\n",
      "Name: gearbox, dtype: int64\n",
      "Соотношение для 1970 года: manual    108\n",
      "auto       23\n",
      "Name: gearbox, dtype: int64\n",
      "Соотношение для 1974 года: manual    105\n",
      "auto       32\n",
      "Name: gearbox, dtype: int64\n",
      "Соотношение для 1978 года: manual    145\n",
      "auto       73\n",
      "Name: gearbox, dtype: int64\n",
      "Соотношение для 1979 года: manual    150\n",
      "auto       65\n",
      "Name: gearbox, dtype: int64\n",
      "Соотношение для 1972 года: manual    115\n",
      "auto       36\n",
      "Name: gearbox, dtype: int64\n",
      "Соотношение для 1968 года: manual    56\n",
      "auto      13\n",
      "Name: gearbox, dtype: int64\n",
      "Соотношение для 1977 года: manual    98\n",
      "auto      36\n",
      "Name: gearbox, dtype: int64\n",
      "Соотношение для 1961 года: manual    21\n",
      "auto       1\n",
      "Name: gearbox, dtype: int64\n",
      "Соотношение для 1960 года: manual    43\n",
      "auto       5\n",
      "Name: gearbox, dtype: int64\n",
      "Соотношение для 1966 года: manual    59\n",
      "auto      22\n",
      "Name: gearbox, dtype: int64\n",
      "Соотношение для 1975 года: manual    81\n",
      "auto      19\n",
      "Name: gearbox, dtype: int64\n",
      "Соотношение для 1963 года: manual    30\n",
      "auto       3\n",
      "Name: gearbox, dtype: int64\n",
      "Соотношение для 1967 года: manual    51\n",
      "auto      17\n",
      "Name: gearbox, dtype: int64\n",
      "Соотношение для 1964 года: manual    28\n",
      "auto       4\n",
      "Name: gearbox, dtype: int64\n",
      "Соотношение для 1962 года: manual    24\n",
      "auto       1\n",
      "Name: gearbox, dtype: int64\n"
     ]
    }
   ],
   "source": [
    "for year in df['registration_year'].unique():\n",
    "    print(f\"Соотношение для {year} года: {df.query('registration_year == @year')['gearbox'].value_counts()}\")"
   ]
  },
  {
   "cell_type": "markdown",
   "metadata": {},
   "source": [
    "На основе данных не прослеживается глобального тренда увеличения использования автоматической коробки передач с течением времени.\n",
    "На основании этого восстановим пропущенные значения по моде(наиболее распространенной версии коробки передач для каждой модели)."
   ]
  },
  {
   "cell_type": "code",
   "execution_count": 25,
   "metadata": {
    "ExecuteTime": {
     "end_time": "2023-05-23T14:07:23.850732Z",
     "start_time": "2023-05-23T14:07:19.242057Z"
    }
   },
   "outputs": [],
   "source": [
    "new_df = pd.crosstab(df['model'], df['gearbox'])\n",
    "df.loc[df['gearbox'].isna(), 'gearbox'] = df.loc[df['gearbox'].isna(), 'model'].apply(recover_gearbox)"
   ]
  },
  {
   "cell_type": "markdown",
   "metadata": {},
   "source": [
    "Аналогично восстановим данные для типа топлива."
   ]
  },
  {
   "cell_type": "code",
   "execution_count": 26,
   "metadata": {
    "ExecuteTime": {
     "end_time": "2023-05-23T14:07:30.553806Z",
     "start_time": "2023-05-23T14:07:23.851729Z"
    }
   },
   "outputs": [],
   "source": [
    "new_df = pd.crosstab(df['model'], df['fuel_type'])\n",
    "df.loc[df['fuel_type'].isna(), 'fuel_type'] = df.loc[df['fuel_type'].isna(), 'model'].apply(recover_fuel_type)"
   ]
  },
  {
   "cell_type": "markdown",
   "metadata": {},
   "source": [
    "Пропуски, связанные с типом автомобиля будем восстанавливать по преобладающему типу лишь тогда, когда это преобладание значительно велико 10x, в противном случае установим заглушку - unknown(неизвестно)."
   ]
  },
  {
   "cell_type": "code",
   "execution_count": 27,
   "metadata": {
    "ExecuteTime": {
     "end_time": "2023-05-23T14:07:41.304056Z",
     "start_time": "2023-05-23T14:07:30.555800Z"
    }
   },
   "outputs": [],
   "source": [
    "new_df = pd.crosstab(df['model'], df['vehicle_type'])\n",
    "df.loc[df['vehicle_type'].isna(), 'vehicle_type'] = df.loc[df['vehicle_type'].isna(), 'model'].apply(\n",
    "    recover_vehicle_type)"
   ]
  },
  {
   "cell_type": "code",
   "execution_count": 28,
   "metadata": {
    "ExecuteTime": {
     "end_time": "2023-05-23T14:07:41.320013Z",
     "start_time": "2023-05-23T14:07:41.305053Z"
    }
   },
   "outputs": [],
   "source": [
    "# df[['gearbox', 'fuel_type', 'vehicle_type']] = df[['gearbox', 'fuel_type', 'vehicle_type']].fillna(value='unknown')"
   ]
  },
  {
   "cell_type": "markdown",
   "metadata": {},
   "source": [
    "Так как достоверно восстановить пропуски в столбце `repaired` не представляется возможным, заполним отсутствующие значения значением `unknown`."
   ]
  },
  {
   "cell_type": "code",
   "execution_count": 29,
   "metadata": {
    "ExecuteTime": {
     "end_time": "2023-05-23T14:07:41.367885Z",
     "start_time": "2023-05-23T14:07:41.325000Z"
    }
   },
   "outputs": [],
   "source": [
    "df['repaired'] = df['repaired'].fillna(value='unknown')"
   ]
  },
  {
   "cell_type": "code",
   "execution_count": 30,
   "metadata": {
    "ExecuteTime": {
     "end_time": "2023-05-23T14:07:41.384840Z",
     "start_time": "2023-05-23T14:07:41.351928Z"
    }
   },
   "outputs": [
    {
     "data": {
      "text/html": [
       "<div>\n",
       "<style scoped>\n",
       "    .dataframe tbody tr th:only-of-type {\n",
       "        vertical-align: middle;\n",
       "    }\n",
       "\n",
       "    .dataframe tbody tr th {\n",
       "        vertical-align: top;\n",
       "    }\n",
       "\n",
       "    .dataframe thead th {\n",
       "        text-align: right;\n",
       "    }\n",
       "</style>\n",
       "<table border=\"1\" class=\"dataframe\">\n",
       "  <thead>\n",
       "    <tr style=\"text-align: right;\">\n",
       "      <th></th>\n",
       "      <th>price</th>\n",
       "      <th>vehicle_type</th>\n",
       "      <th>registration_year</th>\n",
       "      <th>gearbox</th>\n",
       "      <th>power</th>\n",
       "      <th>model</th>\n",
       "      <th>kilometer</th>\n",
       "      <th>fuel_type</th>\n",
       "      <th>brand</th>\n",
       "      <th>repaired</th>\n",
       "    </tr>\n",
       "  </thead>\n",
       "  <tbody>\n",
       "    <tr>\n",
       "      <th>0</th>\n",
       "      <td>NaN</td>\n",
       "      <td>unknown</td>\n",
       "      <td>1993</td>\n",
       "      <td>manual</td>\n",
       "      <td>NaN</td>\n",
       "      <td>golf</td>\n",
       "      <td>150000</td>\n",
       "      <td>petrol</td>\n",
       "      <td>volkswagen</td>\n",
       "      <td>unknown</td>\n",
       "    </tr>\n",
       "    <tr>\n",
       "      <th>7</th>\n",
       "      <td>NaN</td>\n",
       "      <td>sedan</td>\n",
       "      <td>1980</td>\n",
       "      <td>manual</td>\n",
       "      <td>NaN</td>\n",
       "      <td>other</td>\n",
       "      <td>40000</td>\n",
       "      <td>petrol</td>\n",
       "      <td>volkswagen</td>\n",
       "      <td>no</td>\n",
       "    </tr>\n",
       "    <tr>\n",
       "      <th>32</th>\n",
       "      <td>NaN</td>\n",
       "      <td>sedan</td>\n",
       "      <td>1994</td>\n",
       "      <td>manual</td>\n",
       "      <td>NaN</td>\n",
       "      <td>golf</td>\n",
       "      <td>150000</td>\n",
       "      <td>petrol</td>\n",
       "      <td>volkswagen</td>\n",
       "      <td>no</td>\n",
       "    </tr>\n",
       "    <tr>\n",
       "      <th>37</th>\n",
       "      <td>NaN</td>\n",
       "      <td>unknown</td>\n",
       "      <td>2016</td>\n",
       "      <td>manual</td>\n",
       "      <td>NaN</td>\n",
       "      <td>kangoo</td>\n",
       "      <td>150000</td>\n",
       "      <td>gasoline</td>\n",
       "      <td>renault</td>\n",
       "      <td>no</td>\n",
       "    </tr>\n",
       "    <tr>\n",
       "      <th>40</th>\n",
       "      <td>NaN</td>\n",
       "      <td>small</td>\n",
       "      <td>1990</td>\n",
       "      <td>manual</td>\n",
       "      <td>NaN</td>\n",
       "      <td>corsa</td>\n",
       "      <td>150000</td>\n",
       "      <td>petrol</td>\n",
       "      <td>opel</td>\n",
       "      <td>unknown</td>\n",
       "    </tr>\n",
       "    <tr>\n",
       "      <th>...</th>\n",
       "      <td>...</td>\n",
       "      <td>...</td>\n",
       "      <td>...</td>\n",
       "      <td>...</td>\n",
       "      <td>...</td>\n",
       "      <td>...</td>\n",
       "      <td>...</td>\n",
       "      <td>...</td>\n",
       "      <td>...</td>\n",
       "      <td>...</td>\n",
       "    </tr>\n",
       "    <tr>\n",
       "      <th>354336</th>\n",
       "      <td>NaN</td>\n",
       "      <td>unknown</td>\n",
       "      <td>2005</td>\n",
       "      <td>auto</td>\n",
       "      <td>NaN</td>\n",
       "      <td>outlander</td>\n",
       "      <td>150000</td>\n",
       "      <td>petrol</td>\n",
       "      <td>mitsubishi</td>\n",
       "      <td>unknown</td>\n",
       "    </tr>\n",
       "    <tr>\n",
       "      <th>354346</th>\n",
       "      <td>NaN</td>\n",
       "      <td>unknown</td>\n",
       "      <td>2005</td>\n",
       "      <td>auto</td>\n",
       "      <td>NaN</td>\n",
       "      <td>c_klasse</td>\n",
       "      <td>150000</td>\n",
       "      <td>petrol</td>\n",
       "      <td>mercedes_benz</td>\n",
       "      <td>unknown</td>\n",
       "    </tr>\n",
       "    <tr>\n",
       "      <th>354360</th>\n",
       "      <td>NaN</td>\n",
       "      <td>wagon</td>\n",
       "      <td>2005</td>\n",
       "      <td>manual</td>\n",
       "      <td>NaN</td>\n",
       "      <td>3er</td>\n",
       "      <td>150000</td>\n",
       "      <td>gasoline</td>\n",
       "      <td>bmw</td>\n",
       "      <td>no</td>\n",
       "    </tr>\n",
       "    <tr>\n",
       "      <th>354363</th>\n",
       "      <td>NaN</td>\n",
       "      <td>bus</td>\n",
       "      <td>2000</td>\n",
       "      <td>manual</td>\n",
       "      <td>NaN</td>\n",
       "      <td>zafira</td>\n",
       "      <td>150000</td>\n",
       "      <td>petrol</td>\n",
       "      <td>opel</td>\n",
       "      <td>no</td>\n",
       "    </tr>\n",
       "    <tr>\n",
       "      <th>354364</th>\n",
       "      <td>NaN</td>\n",
       "      <td>unknown</td>\n",
       "      <td>2005</td>\n",
       "      <td>manual</td>\n",
       "      <td>NaN</td>\n",
       "      <td>colt</td>\n",
       "      <td>150000</td>\n",
       "      <td>petrol</td>\n",
       "      <td>mitsubishi</td>\n",
       "      <td>yes</td>\n",
       "    </tr>\n",
       "  </tbody>\n",
       "</table>\n",
       "<p>38760 rows × 10 columns</p>\n",
       "</div>"
      ],
      "text/plain": [
       "        price vehicle_type  registration_year gearbox  power      model  \\\n",
       "0         NaN      unknown               1993  manual    NaN       golf   \n",
       "7         NaN        sedan               1980  manual    NaN      other   \n",
       "32        NaN        sedan               1994  manual    NaN       golf   \n",
       "37        NaN      unknown               2016  manual    NaN     kangoo   \n",
       "40        NaN        small               1990  manual    NaN      corsa   \n",
       "...       ...          ...                ...     ...    ...        ...   \n",
       "354336    NaN      unknown               2005    auto    NaN  outlander   \n",
       "354346    NaN      unknown               2005    auto    NaN   c_klasse   \n",
       "354360    NaN        wagon               2005  manual    NaN        3er   \n",
       "354363    NaN          bus               2000  manual    NaN     zafira   \n",
       "354364    NaN      unknown               2005  manual    NaN       colt   \n",
       "\n",
       "        kilometer fuel_type          brand repaired  \n",
       "0          150000    petrol     volkswagen  unknown  \n",
       "7           40000    petrol     volkswagen       no  \n",
       "32         150000    petrol     volkswagen       no  \n",
       "37         150000  gasoline        renault       no  \n",
       "40         150000    petrol           opel  unknown  \n",
       "...           ...       ...            ...      ...  \n",
       "354336     150000    petrol     mitsubishi  unknown  \n",
       "354346     150000    petrol  mercedes_benz  unknown  \n",
       "354360     150000  gasoline            bmw       no  \n",
       "354363     150000    petrol           opel       no  \n",
       "354364     150000    petrol     mitsubishi      yes  \n",
       "\n",
       "[38760 rows x 10 columns]"
      ]
     },
     "execution_count": 30,
     "metadata": {},
     "output_type": "execute_result"
    }
   ],
   "source": [
    "df.query('power.isna()')"
   ]
  },
  {
   "cell_type": "code",
   "execution_count": 31,
   "metadata": {
    "ExecuteTime": {
     "end_time": "2023-05-23T14:07:41.459640Z",
     "start_time": "2023-05-23T14:07:41.384840Z"
    }
   },
   "outputs": [],
   "source": [
    "df = df.dropna(subset=['price'])"
   ]
  },
  {
   "cell_type": "code",
   "execution_count": 32,
   "metadata": {
    "ExecuteTime": {
     "end_time": "2023-05-23T14:07:41.491555Z",
     "start_time": "2023-05-23T14:07:41.430718Z"
    }
   },
   "outputs": [
    {
     "data": {
      "text/plain": [
       "283190"
      ]
     },
     "execution_count": 32,
     "metadata": {},
     "output_type": "execute_result"
    }
   ],
   "source": [
    "df.shape[0]"
   ]
  },
  {
   "cell_type": "markdown",
   "metadata": {},
   "source": [
    "<div class=\"alert alert-block alert-success\">\n",
    "<b>✔️ Успех:</b>\n",
    "\n",
    "Пропуски успешно обработаны 👍 Модели теперь не будут капризничать)\n",
    "</div>"
   ]
  },
  {
   "cell_type": "markdown",
   "metadata": {},
   "source": [
    "---\n",
    "### *Создание агрегированных признаков*"
   ]
  },
  {
   "cell_type": "code",
   "execution_count": 33,
   "metadata": {
    "ExecuteTime": {
     "end_time": "2023-05-23T14:07:41.515490Z",
     "start_time": "2023-05-23T14:07:41.446675Z"
    }
   },
   "outputs": [
    {
     "data": {
      "text/plain": [
       "array([125000, 150000,  90000,  30000,  70000, 100000,  60000,   5000,\n",
       "        20000,  80000,  50000,  40000,  10000], dtype=int64)"
      ]
     },
     "execution_count": 33,
     "metadata": {},
     "output_type": "execute_result"
    }
   ],
   "source": [
    "df['kilometer'].unique()"
   ]
  },
  {
   "cell_type": "markdown",
   "metadata": {},
   "source": [
    "Так как разнообразие количества уникальных значений в столбце `kilometer` незначительное, мы можем преобразовать данный признак в категориальный, а далее применить метод OE для преобразования с сохранением зависимости от размерности исходных данных."
   ]
  },
  {
   "cell_type": "code",
   "execution_count": 34,
   "metadata": {
    "ExecuteTime": {
     "end_time": "2023-05-23T14:07:41.600264Z",
     "start_time": "2023-05-23T14:07:41.462632Z"
    }
   },
   "outputs": [],
   "source": [
    "# Преобразование столбца в категориальный тип данных\n",
    "df['kilometer'] = df['kilometer'].astype('category')\n",
    "\n",
    "# Создание экземпляра OrdinalEncoder\n",
    "encoder = OrdinalEncoder()\n",
    "\n",
    "# Применение OrdinalEncoder к столбцу 'километраж'\n",
    "df['kilometer'] = encoder.fit_transform(df[['kilometer']])"
   ]
  },
  {
   "cell_type": "markdown",
   "metadata": {},
   "source": [
    "Исследуем взаимосвязь самого сильного по влиянию независимого признака `reg_year` на целевой признак."
   ]
  },
  {
   "cell_type": "code",
   "execution_count": 35,
   "metadata": {
    "ExecuteTime": {
     "end_time": "2023-05-23T14:07:44.333953Z",
     "start_time": "2023-05-23T14:07:41.492552Z"
    }
   },
   "outputs": [
    {
     "data": {
      "image/png": "[encoded data removed]",
      "text/plain": [
       "<Figure size 1200x600 with 1 Axes>"
      ]
     },
     "metadata": {},
     "output_type": "display_data"
    }
   ],
   "source": [
    "plt.figure(figsize=(12, 6))\n",
    "sns.lineplot(data=df, y='price', x='registration_year')\n",
    "ax = plt.gca()\n",
    "ax.xaxis.set_major_locator(plt.MaxNLocator(nbins=20))\n",
    "\n",
    "plt.show()"
   ]
  },
  {
   "cell_type": "markdown",
   "metadata": {},
   "source": [
    "Создадим агрегированный признак, который опирается при создании на мощность двигателя автомобиля."
   ]
  },
  {
   "cell_type": "code",
   "execution_count": 36,
   "metadata": {
    "ExecuteTime": {
     "end_time": "2023-05-23T14:07:44.421718Z",
     "start_time": "2023-05-23T14:07:44.335948Z"
    }
   },
   "outputs": [],
   "source": [
    "df.loc[df['power'] >= 200, 'class_type'] = 'high'\n",
    "df.loc[(100 <= df['power']) & (df['power'] < 200), 'class_type'] = 'medium'\n",
    "df.loc[(51 <= df['power']) & (df['power'] < 100), 'class_type'] = 'small'\n",
    "df.loc[df['power'] <= 50, 'class_type'] = 'micro'"
   ]
  },
  {
   "cell_type": "markdown",
   "metadata": {},
   "source": [
    "<div class=\"alert alert-block alert-success\">\n",
    "<b>✔️ Успех:</b> 👍\n",
    "</div>"
   ]
  },
  {
   "cell_type": "markdown",
   "metadata": {},
   "source": [
    "---\n",
    "### *Изменение типов данных*"
   ]
  },
  {
   "cell_type": "code",
   "execution_count": 37,
   "metadata": {
    "ExecuteTime": {
     "end_time": "2023-05-23T14:07:44.537409Z",
     "start_time": "2023-05-23T14:07:44.381825Z"
    }
   },
   "outputs": [
    {
     "name": "stdout",
     "output_type": "stream",
     "text": [
      "<class 'pandas.core.frame.DataFrame'>\n",
      "Int64Index: 283190 entries, 2 to 354368\n",
      "Data columns (total 11 columns):\n",
      " #   Column             Non-Null Count   Dtype  \n",
      "---  ------             --------------   -----  \n",
      " 0   price              283190 non-null  int16  \n",
      " 1   vehicle_type       283190 non-null  object \n",
      " 2   registration_year  283190 non-null  int16  \n",
      " 3   gearbox            283190 non-null  object \n",
      " 4   power              283190 non-null  int16  \n",
      " 5   model              283190 non-null  object \n",
      " 6   kilometer          283190 non-null  float32\n",
      " 7   fuel_type          283190 non-null  object \n",
      " 8   brand              283190 non-null  object \n",
      " 9   repaired           283190 non-null  object \n",
      " 10  class_type         283190 non-null  object \n",
      "dtypes: float32(1), int16(3), object(7)\n",
      "memory usage: 20.0+ MB\n"
     ]
    }
   ],
   "source": [
    "df['price'] = df['price'].astype(int)\n",
    "df['power'] = df['power'].astype(int)\n",
    "type_changes(df)"
   ]
  },
  {
   "cell_type": "markdown",
   "metadata": {},
   "source": [
    "<div class=\"alert alert-block alert-success\">\n",
    "<b>✔️ Успех:</b> 👍\n",
    "</div>"
   ]
  },
  {
   "cell_type": "markdown",
   "metadata": {},
   "source": [
    "---\n",
    "### *Оценка зависимости признаков и проверка на мультиколлинеарность*"
   ]
  },
  {
   "cell_type": "code",
   "execution_count": 38,
   "metadata": {
    "ExecuteTime": {
     "end_time": "2023-05-23T14:07:44.567329Z",
     "start_time": "2023-05-23T14:07:44.524444Z"
    }
   },
   "outputs": [],
   "source": [
    "# profile = ProfileReport(df, title=\"Pandas Profiling Report\")\n",
    "# profile"
   ]
  },
  {
   "cell_type": "code",
   "execution_count": 39,
   "metadata": {
    "ExecuteTime": {
     "end_time": "2023-05-23T14:07:44.866529Z",
     "start_time": "2023-05-23T14:07:44.539404Z"
    }
   },
   "outputs": [
    {
     "data": {
      "image/png": "[encoded data removed]",
      "text/plain": [
       "<Figure size 640x480 with 2 Axes>"
      ]
     },
     "metadata": {},
     "output_type": "display_data"
    }
   ],
   "source": [
    "matrix = np.triu(df.drop('price', axis=1).corr())\n",
    "sns.heatmap(df.drop('price', axis=1).corr(), annot=True, mask=matrix, cmap='coolwarm', linewidths=0.1,\n",
    "            linecolor='black');"
   ]
  },
  {
   "cell_type": "code",
   "execution_count": 40,
   "metadata": {
    "ExecuteTime": {
     "end_time": "2023-05-23T14:07:51.680307Z",
     "start_time": "2023-05-23T14:07:44.867526Z"
    }
   },
   "outputs": [
    {
     "data": {
      "text/html": [
       "<div>\n",
       "<style scoped>\n",
       "    .dataframe tbody tr th:only-of-type {\n",
       "        vertical-align: middle;\n",
       "    }\n",
       "\n",
       "    .dataframe tbody tr th {\n",
       "        vertical-align: top;\n",
       "    }\n",
       "\n",
       "    .dataframe thead th {\n",
       "        text-align: right;\n",
       "    }\n",
       "</style>\n",
       "<table border=\"1\" class=\"dataframe\">\n",
       "  <thead>\n",
       "    <tr style=\"text-align: right;\">\n",
       "      <th></th>\n",
       "      <th>price</th>\n",
       "      <th>vehicle_type</th>\n",
       "      <th>registration_year</th>\n",
       "      <th>gearbox</th>\n",
       "      <th>power</th>\n",
       "      <th>model</th>\n",
       "      <th>kilometer</th>\n",
       "      <th>fuel_type</th>\n",
       "      <th>brand</th>\n",
       "      <th>repaired</th>\n",
       "      <th>class_type</th>\n",
       "    </tr>\n",
       "  </thead>\n",
       "  <tbody>\n",
       "    <tr>\n",
       "      <th>price</th>\n",
       "      <td>1.00</td>\n",
       "      <td>0.27</td>\n",
       "      <td>0.67</td>\n",
       "      <td>0.32</td>\n",
       "      <td>0.52</td>\n",
       "      <td>0.58</td>\n",
       "      <td>0.41</td>\n",
       "      <td>0.26</td>\n",
       "      <td>0.34</td>\n",
       "      <td>0.32</td>\n",
       "      <td>0.44</td>\n",
       "    </tr>\n",
       "    <tr>\n",
       "      <th>vehicle_type</th>\n",
       "      <td>0.27</td>\n",
       "      <td>1.00</td>\n",
       "      <td>0.25</td>\n",
       "      <td>0.21</td>\n",
       "      <td>0.48</td>\n",
       "      <td>0.91</td>\n",
       "      <td>0.15</td>\n",
       "      <td>0.33</td>\n",
       "      <td>0.60</td>\n",
       "      <td>0.28</td>\n",
       "      <td>0.55</td>\n",
       "    </tr>\n",
       "    <tr>\n",
       "      <th>registration_year</th>\n",
       "      <td>0.67</td>\n",
       "      <td>0.25</td>\n",
       "      <td>1.00</td>\n",
       "      <td>0.12</td>\n",
       "      <td>0.27</td>\n",
       "      <td>0.64</td>\n",
       "      <td>0.51</td>\n",
       "      <td>0.26</td>\n",
       "      <td>0.32</td>\n",
       "      <td>0.20</td>\n",
       "      <td>0.25</td>\n",
       "    </tr>\n",
       "    <tr>\n",
       "      <th>gearbox</th>\n",
       "      <td>0.32</td>\n",
       "      <td>0.21</td>\n",
       "      <td>0.12</td>\n",
       "      <td>1.00</td>\n",
       "      <td>0.58</td>\n",
       "      <td>0.65</td>\n",
       "      <td>0.03</td>\n",
       "      <td>0.15</td>\n",
       "      <td>0.50</td>\n",
       "      <td>0.02</td>\n",
       "      <td>0.55</td>\n",
       "    </tr>\n",
       "    <tr>\n",
       "      <th>power</th>\n",
       "      <td>0.52</td>\n",
       "      <td>0.48</td>\n",
       "      <td>0.27</td>\n",
       "      <td>0.58</td>\n",
       "      <td>1.00</td>\n",
       "      <td>0.80</td>\n",
       "      <td>0.11</td>\n",
       "      <td>0.25</td>\n",
       "      <td>0.54</td>\n",
       "      <td>0.11</td>\n",
       "      <td>0.84</td>\n",
       "    </tr>\n",
       "    <tr>\n",
       "      <th>model</th>\n",
       "      <td>0.58</td>\n",
       "      <td>0.91</td>\n",
       "      <td>0.64</td>\n",
       "      <td>0.65</td>\n",
       "      <td>0.80</td>\n",
       "      <td>1.00</td>\n",
       "      <td>0.42</td>\n",
       "      <td>0.56</td>\n",
       "      <td>1.00</td>\n",
       "      <td>0.22</td>\n",
       "      <td>0.84</td>\n",
       "    </tr>\n",
       "    <tr>\n",
       "      <th>kilometer</th>\n",
       "      <td>0.41</td>\n",
       "      <td>0.15</td>\n",
       "      <td>0.51</td>\n",
       "      <td>0.03</td>\n",
       "      <td>0.11</td>\n",
       "      <td>0.42</td>\n",
       "      <td>1.00</td>\n",
       "      <td>0.13</td>\n",
       "      <td>0.24</td>\n",
       "      <td>0.15</td>\n",
       "      <td>0.12</td>\n",
       "    </tr>\n",
       "    <tr>\n",
       "      <th>fuel_type</th>\n",
       "      <td>0.26</td>\n",
       "      <td>0.33</td>\n",
       "      <td>0.26</td>\n",
       "      <td>0.15</td>\n",
       "      <td>0.25</td>\n",
       "      <td>0.56</td>\n",
       "      <td>0.13</td>\n",
       "      <td>1.00</td>\n",
       "      <td>0.32</td>\n",
       "      <td>0.06</td>\n",
       "      <td>0.25</td>\n",
       "    </tr>\n",
       "    <tr>\n",
       "      <th>brand</th>\n",
       "      <td>0.34</td>\n",
       "      <td>0.60</td>\n",
       "      <td>0.32</td>\n",
       "      <td>0.50</td>\n",
       "      <td>0.54</td>\n",
       "      <td>1.00</td>\n",
       "      <td>0.24</td>\n",
       "      <td>0.32</td>\n",
       "      <td>1.00</td>\n",
       "      <td>0.14</td>\n",
       "      <td>0.59</td>\n",
       "    </tr>\n",
       "    <tr>\n",
       "      <th>repaired</th>\n",
       "      <td>0.32</td>\n",
       "      <td>0.28</td>\n",
       "      <td>0.20</td>\n",
       "      <td>0.02</td>\n",
       "      <td>0.11</td>\n",
       "      <td>0.22</td>\n",
       "      <td>0.15</td>\n",
       "      <td>0.06</td>\n",
       "      <td>0.14</td>\n",
       "      <td>1.00</td>\n",
       "      <td>0.07</td>\n",
       "    </tr>\n",
       "    <tr>\n",
       "      <th>class_type</th>\n",
       "      <td>0.44</td>\n",
       "      <td>0.55</td>\n",
       "      <td>0.25</td>\n",
       "      <td>0.55</td>\n",
       "      <td>0.84</td>\n",
       "      <td>0.84</td>\n",
       "      <td>0.12</td>\n",
       "      <td>0.25</td>\n",
       "      <td>0.59</td>\n",
       "      <td>0.07</td>\n",
       "      <td>1.00</td>\n",
       "    </tr>\n",
       "  </tbody>\n",
       "</table>\n",
       "</div>"
      ],
      "text/plain": [
       "                   price  vehicle_type  registration_year  gearbox  power  \\\n",
       "price               1.00          0.27               0.67     0.32   0.52   \n",
       "vehicle_type        0.27          1.00               0.25     0.21   0.48   \n",
       "registration_year   0.67          0.25               1.00     0.12   0.27   \n",
       "gearbox             0.32          0.21               0.12     1.00   0.58   \n",
       "power               0.52          0.48               0.27     0.58   1.00   \n",
       "model               0.58          0.91               0.64     0.65   0.80   \n",
       "kilometer           0.41          0.15               0.51     0.03   0.11   \n",
       "fuel_type           0.26          0.33               0.26     0.15   0.25   \n",
       "brand               0.34          0.60               0.32     0.50   0.54   \n",
       "repaired            0.32          0.28               0.20     0.02   0.11   \n",
       "class_type          0.44          0.55               0.25     0.55   0.84   \n",
       "\n",
       "                   model  kilometer  fuel_type  brand  repaired  class_type  \n",
       "price               0.58       0.41       0.26   0.34      0.32        0.44  \n",
       "vehicle_type        0.91       0.15       0.33   0.60      0.28        0.55  \n",
       "registration_year   0.64       0.51       0.26   0.32      0.20        0.25  \n",
       "gearbox             0.65       0.03       0.15   0.50      0.02        0.55  \n",
       "power               0.80       0.11       0.25   0.54      0.11        0.84  \n",
       "model               1.00       0.42       0.56   1.00      0.22        0.84  \n",
       "kilometer           0.42       1.00       0.13   0.24      0.15        0.12  \n",
       "fuel_type           0.56       0.13       1.00   0.32      0.06        0.25  \n",
       "brand               1.00       0.24       0.32   1.00      0.14        0.59  \n",
       "repaired            0.22       0.15       0.06   0.14      1.00        0.07  \n",
       "class_type          0.84       0.12       0.25   0.59      0.07        1.00  "
      ]
     },
     "execution_count": 40,
     "metadata": {},
     "output_type": "execute_result"
    }
   ],
   "source": [
    "phik_table(df)"
   ]
  },
  {
   "cell_type": "code",
   "execution_count": 41,
   "metadata": {
    "ExecuteTime": {
     "end_time": "2023-05-23T14:07:56.506400Z",
     "start_time": "2023-05-23T14:07:51.681304Z"
    }
   },
   "outputs": [
    {
     "data": {
      "image/png": "[encoded data removed]",
      "text/plain": [
       "<Figure size 1000x800 with 2 Axes>"
      ]
     },
     "metadata": {},
     "output_type": "display_data"
    }
   ],
   "source": [
    "phik_matrix(df)"
   ]
  },
  {
   "cell_type": "code",
   "execution_count": 42,
   "metadata": {
    "ExecuteTime": {
     "end_time": "2023-05-23T14:07:56.602144Z",
     "start_time": "2023-05-23T14:07:56.507398Z"
    }
   },
   "outputs": [],
   "source": [
    "# df['model'] = df[['brand', 'model']].agg(' '.join , axis= 1)"
   ]
  },
  {
   "cell_type": "code",
   "execution_count": 43,
   "metadata": {
    "ExecuteTime": {
     "end_time": "2023-05-23T14:07:56.603141Z",
     "start_time": "2023-05-23T14:07:56.523355Z"
    }
   },
   "outputs": [],
   "source": [
    "# df = df.drop(columns=['brand'])"
   ]
  },
  {
   "cell_type": "code",
   "execution_count": 44,
   "metadata": {
    "ExecuteTime": {
     "end_time": "2023-05-23T14:07:56.620096Z",
     "start_time": "2023-05-23T14:07:56.538315Z"
    }
   },
   "outputs": [
    {
     "name": "stdout",
     "output_type": "stream",
     "text": [
      "<class 'pandas.core.frame.DataFrame'>\n",
      "RangeIndex: 283190 entries, 0 to 283189\n",
      "Data columns (total 11 columns):\n",
      " #   Column             Non-Null Count   Dtype  \n",
      "---  ------             --------------   -----  \n",
      " 0   price              283190 non-null  int16  \n",
      " 1   vehicle_type       283190 non-null  object \n",
      " 2   registration_year  283190 non-null  int16  \n",
      " 3   gearbox            283190 non-null  object \n",
      " 4   power              283190 non-null  int16  \n",
      " 5   model              283190 non-null  object \n",
      " 6   kilometer          283190 non-null  float32\n",
      " 7   fuel_type          283190 non-null  object \n",
      " 8   brand              283190 non-null  object \n",
      " 9   repaired           283190 non-null  object \n",
      " 10  class_type         283190 non-null  object \n",
      "dtypes: float32(1), int16(3), object(7)\n",
      "memory usage: 17.8+ MB\n"
     ]
    }
   ],
   "source": [
    "df.reset_index(inplace=True, drop=True)\n",
    "type_changes(df)"
   ]
  },
  {
   "cell_type": "markdown",
   "metadata": {},
   "source": [
    "<div class=\"alert alert-block alert-success\">\n",
    "<b>✔️ Успех:</b>\n",
    "\n",
    "Данные успешно обработаны 👍\n",
    "</div>"
   ]
  },
  {
   "cell_type": "markdown",
   "metadata": {},
   "source": [
    "## Обучение моделей"
   ]
  },
  {
   "cell_type": "code",
   "execution_count": 45,
   "metadata": {
    "ExecuteTime": {
     "end_time": "2023-05-23T14:07:56.726811Z",
     "start_time": "2023-05-23T14:07:56.617104Z"
    }
   },
   "outputs": [],
   "source": [
    "features = df.drop('price', axis=1)\n",
    "target = df['price']\n",
    "features_train, features_test, target_train, target_test = train_test_split(\n",
    "    features, target, test_size=0.20, random_state=42)"
   ]
  },
  {
   "cell_type": "markdown",
   "metadata": {},
   "source": [
    "<div class=\"alert alert-block alert-success\">\n",
    "<b>✔️ Успех:</b> \n",
    "\n",
    "Данные поделены верно, пропорции выбраны адекватные 👍\n",
    "</div>"
   ]
  },
  {
   "cell_type": "code",
   "execution_count": 46,
   "metadata": {
    "ExecuteTime": {
     "end_time": "2023-05-23T14:07:56.784656Z",
     "start_time": "2023-05-23T14:07:56.727808Z"
    }
   },
   "outputs": [],
   "source": [
    "obj_columns = list(features_train.select_dtypes('object').columns)"
   ]
  },
  {
   "cell_type": "code",
   "execution_count": 47,
   "metadata": {
    "ExecuteTime": {
     "end_time": "2023-05-23T14:07:56.790640Z",
     "start_time": "2023-05-23T14:07:56.772688Z"
    }
   },
   "outputs": [],
   "source": [
    "# scaler = RobustScaler()\n",
    "# scaler = scaler.fit(features_train[['registration_year', 'power']])\n",
    "# features_train[['registration_year', 'power']] = scaler.transform(features_train[['registration_year', 'power']])\n",
    "# features_test[['registration_year', 'power']] = scaler.transform(features_test[['registration_year', 'power']])"
   ]
  },
  {
   "cell_type": "code",
   "execution_count": 48,
   "metadata": {
    "ExecuteTime": {
     "end_time": "2023-05-23T14:08:00.116745Z",
     "start_time": "2023-05-23T14:07:56.788645Z"
    }
   },
   "outputs": [],
   "source": [
    "enc = ce.TargetEncoder(cols=obj_columns, min_samples_leaf=20, smoothing=10)\n",
    "enc.fit(features_train, target_train)\n",
    "features_train_forest = enc.transform(features_train)\n",
    "features_test_forest = enc.transform(features_test)"
   ]
  },
  {
   "cell_type": "markdown",
   "metadata": {},
   "source": [
    "<div class=\"alert alert-block alert-success\">\n",
    "<b>✔️ Успех:</b>\n",
    "\n",
    "Для моделей, основанных на деревьях решений, порядковое кодирование отлично подойдет 👍\n",
    "</div>"
   ]
  },
  {
   "cell_type": "code",
   "execution_count": 49,
   "metadata": {
    "ExecuteTime": {
     "end_time": "2023-05-23T14:08:00.132702Z",
     "start_time": "2023-05-23T14:08:00.116745Z"
    }
   },
   "outputs": [],
   "source": [
    "# encoder_ohe = OneHotEncoder(drop='first', handle_unknown='error', sparse=False)\n",
    "# encoder_ohe.fit(features_train[obj_columns])\n",
    "# pd.options.mode.chained_assignment = None\n",
    "# features_train[encoder_ohe.get_feature_names_out()] = encoder_ohe.transform(features_train[obj_columns])\n",
    "# features_train = features_train.drop(obj_columns, axis=1)"
   ]
  },
  {
   "cell_type": "code",
   "execution_count": 50,
   "metadata": {
    "ExecuteTime": {
     "end_time": "2023-05-23T14:08:00.188553Z",
     "start_time": "2023-05-23T14:08:00.132702Z"
    }
   },
   "outputs": [],
   "source": [
    "# %%time\n",
    "# linear_model = cross_val_score(LinearRegression(), features_train, target_train, cv=5, n_jobs=-1, scoring='neg_root_mean_squared_error')\n",
    "# -linear_model.mean()"
   ]
  },
  {
   "cell_type": "markdown",
   "metadata": {},
   "source": [
    "Подбор наилучших гиперпараметров для модели случайного леса."
   ]
  },
  {
   "cell_type": "code",
   "execution_count": 51,
   "metadata": {
    "ExecuteTime": {
     "end_time": "2023-05-23T14:08:00.190548Z",
     "start_time": "2023-05-23T14:08:00.148660Z"
    }
   },
   "outputs": [],
   "source": [
    "# model = RandomForestRegressor()\n",
    "# params = {\n",
    "#     'n_estimators': [100, 200],\n",
    "#     'min_samples_leaf': list(range(1, 8)),\n",
    "#     'min_samples_split': list(range(2, 8)),\n",
    "#     'max_depth': list(range(4, 21, 2)),\n",
    "#     'random_state': [42]\n",
    "# }\n",
    "# forest_model = RandomizedSearchCV(model, param_distributions=params, random_state=42, cv=5, n_jobs=-1,\n",
    "#                                   scoring='neg_root_mean_squared_error').fit(features_train_forest, target_train)\n",
    "# -forest_model.best_score_"
   ]
  },
  {
   "cell_type": "code",
   "execution_count": 52,
   "metadata": {
    "ExecuteTime": {
     "end_time": "2023-05-23T14:09:09.727584Z",
     "start_time": "2023-05-23T14:08:00.165615Z"
    }
   },
   "outputs": [],
   "source": [
    "best_params_forest = {'random_state': 42,\n",
    "                      'n_estimators': 200,\n",
    "                      'min_samples_split': 3,\n",
    "                      'min_samples_leaf': 2,\n",
    "                      'max_depth': 18}\n",
    "forest_model = cross_val_score(RandomForestRegressor(**best_params_forest), features_train_forest, target_train, cv=5,\n",
    "                               n_jobs=-1, scoring='neg_root_mean_squared_error')\n",
    "res_forest = -forest_model.mean()"
   ]
  },
  {
   "cell_type": "markdown",
   "metadata": {},
   "source": [
    "<div class=\"alert alert-block alert-success\">\n",
    "<b>✔️ Успех:</b> \n",
    "\n",
    "Модель обучена корректно 👍\n",
    "</div>"
   ]
  },
  {
   "cell_type": "markdown",
   "metadata": {},
   "source": [
    "Подбор наилучших гиперпараметров для Catboost."
   ]
  },
  {
   "cell_type": "code",
   "execution_count": 53,
   "metadata": {
    "ExecuteTime": {
     "end_time": "2023-05-23T14:09:09.741547Z",
     "start_time": "2023-05-23T14:09:09.727584Z"
    }
   },
   "outputs": [],
   "source": [
    "# model = CatBoostRegressor(cat_features=obj_columns)\n",
    "# params = {\n",
    "#     'n_estimators': [500],\n",
    "#     'learning_rate': list(np.arange(0.1, 0.5, 0.01)),\n",
    "#     'max_depth': [7, 8, 9, 11],\n",
    "#     'min_child_samples': [7, 8, 9],\n",
    "#     'num_leaves': [31, 62, 124],\n",
    "#     'random_state': [42]\n",
    "# }\n",
    "#\n",
    "# catboost_model = RandomizedSearchCV(model, param_distributions=params, random_state=42, cv=5, n_jobs=-1,\n",
    "#                                     scoring='neg_root_mean_squared_error').fit(features_train, target_train)\n",
    "# -catboost_model.best_score_"
   ]
  },
  {
   "cell_type": "code",
   "execution_count": 54,
   "metadata": {
    "ExecuteTime": {
     "end_time": "2023-05-23T14:12:03.555713Z",
     "start_time": "2023-05-23T14:09:09.745536Z"
    }
   },
   "outputs": [],
   "source": [
    "cat_b_best_p = {'random_state': 42,\n",
    "                'num_leaves': 31,\n",
    "                'n_estimators': 500,\n",
    "                'min_child_samples': 9,\n",
    "                'max_depth': 8,\n",
    "                'learning_rate': 0.4}\n",
    "cat_model = cross_val_score(CatBoostRegressor(cat_features=obj_columns), features_train, target_train, cv=5, n_jobs=-1,\n",
    "                            scoring='neg_root_mean_squared_error')\n",
    "res_cat = -cat_model.mean()"
   ]
  },
  {
   "cell_type": "markdown",
   "metadata": {},
   "source": [
    "<div class=\"alert alert-block alert-success\">\n",
    "<b>✔️ Успех:</b> \n",
    "\n",
    "Модель обучена корректно 👍\n",
    "</div>"
   ]
  },
  {
   "cell_type": "code",
   "execution_count": 70,
   "metadata": {
    "ExecuteTime": {
     "end_time": "2023-05-23T14:18:33.758189Z",
     "start_time": "2023-05-23T14:18:33.332328Z"
    }
   },
   "outputs": [],
   "source": [
    "features_train_LGBM = features_train.copy()\n",
    "features_test_LGBM = features_test.copy()\n",
    "features_train_LGBM[obj_columns] = features_train_LGBM[obj_columns].astype('category')\n",
    "features_test_LGBM[obj_columns] = features_test_LGBM[obj_columns].astype('category')"
   ]
  },
  {
   "cell_type": "code",
   "execution_count": 56,
   "metadata": {
    "ExecuteTime": {
     "end_time": "2023-05-23T14:12:04.039419Z",
     "start_time": "2023-05-23T14:12:04.023462Z"
    }
   },
   "outputs": [],
   "source": [
    "# model = LGBMRegressor()\n",
    "# params = {\n",
    "#     'n_estimators': [500],\n",
    "#     'learning_rate': list(np.arange(0.1, 0.5, 0.01)),\n",
    "#     'max_depth': list(range(19, 21, 1)),\n",
    "#     'min_child_samples': [5, 6],\n",
    "#     'num_leaves': [124],\n",
    "#     'random_state': [42]\n",
    "# }\n",
    "#\n",
    "# LGBM_model = RandomizedSearchCV(model, param_distributions=params, random_state=42, cv=5, n_jobs=-1,\n",
    "#                                 scoring='neg_root_mean_squared_error').fit(features_train_LGMBM, target_train)\n",
    "# -LGBM_model.best_score_"
   ]
  },
  {
   "cell_type": "code",
   "execution_count": 71,
   "metadata": {
    "ExecuteTime": {
     "end_time": "2023-05-23T14:19:04.705427Z",
     "start_time": "2023-05-23T14:18:56.018658Z"
    }
   },
   "outputs": [],
   "source": [
    "LGBM_model_best_p = {'random_state': 42,\n",
    "                     'num_leaves': 124,\n",
    "                     'n_estimators': 500,\n",
    "                     'min_child_samples': 6,\n",
    "                     'max_depth': 19,\n",
    "                     'learning_rate': 0.17}\n",
    "\n",
    "LGBM_model = cross_val_score(LGBMRegressor(**LGBM_model_best_p), features_train_LGBM, target_train, cv=5, n_jobs=-1,\n",
    "                             scoring='neg_root_mean_squared_error')\n",
    "res_lgbm = -LGBM_model.mean()"
   ]
  },
  {
   "cell_type": "markdown",
   "metadata": {},
   "source": [
    "<div class=\"alert alert-block alert-success\">\n",
    "<b>✔️ Успех:</b> \n",
    "\n",
    "Модель обучена корректно 👍\n",
    "</div>"
   ]
  },
  {
   "cell_type": "markdown",
   "metadata": {},
   "source": [
    "---\n",
    "### *Оценка времени обучения выбранных моделей с подобранными наилучшими гиперпараметрами*"
   ]
  },
  {
   "cell_type": "markdown",
   "metadata": {},
   "source": [
    "Оценим скорость обучения для каждой из выбранных моделей с помощью магической команды %%time.\n",
    "Время обучения для модели случайного леса на подобранных наилучших параметрах."
   ]
  },
  {
   "cell_type": "code",
   "execution_count": 58,
   "metadata": {
    "ExecuteTime": {
     "end_time": "2023-05-23T14:13:17.163864Z",
     "start_time": "2023-05-23T14:12:10.163043Z"
    }
   },
   "outputs": [
    {
     "name": "stdout",
     "output_type": "stream",
     "text": [
      "CPU times: total: 1min 7s\n",
      "Wall time: 1min 6s\n"
     ]
    }
   ],
   "source": [
    "%%time\n",
    "forest_model = RandomForestRegressor(**best_params_forest).fit(features_train_forest, target_train)"
   ]
  },
  {
   "cell_type": "markdown",
   "metadata": {},
   "source": [
    "Оценка времени обучения для модели СatBoost на подобранных наилучших параметрах."
   ]
  },
  {
   "cell_type": "code",
   "execution_count": 59,
   "metadata": {
    "ExecuteTime": {
     "end_time": "2023-05-23T14:14:05.412829Z",
     "start_time": "2023-05-23T14:13:17.163864Z"
    }
   },
   "outputs": [
    {
     "name": "stdout",
     "output_type": "stream",
     "text": [
      "0:\tlearn: 3418.0473750\ttotal: 244ms\tremaining: 2m 1s\n",
      "1:\tlearn: 2701.1056820\ttotal: 370ms\tremaining: 1m 32s\n",
      "2:\tlearn: 2325.6288293\ttotal: 490ms\tremaining: 1m 21s\n",
      "3:\tlearn: 2112.9871700\ttotal: 588ms\tremaining: 1m 12s\n",
      "4:\tlearn: 1991.9766775\ttotal: 685ms\tremaining: 1m 7s\n",
      "5:\tlearn: 1929.5275810\ttotal: 788ms\tremaining: 1m 4s\n",
      "6:\tlearn: 1867.1863891\ttotal: 922ms\tremaining: 1m 4s\n",
      "7:\tlearn: 1839.5154902\ttotal: 1.01s\tremaining: 1m 1s\n",
      "8:\tlearn: 1804.4768735\ttotal: 1.09s\tremaining: 59.5s\n",
      "9:\tlearn: 1783.0963348\ttotal: 1.16s\tremaining: 57s\n",
      "10:\tlearn: 1767.3801826\ttotal: 1.25s\tremaining: 55.5s\n",
      "11:\tlearn: 1753.5509437\ttotal: 1.39s\tremaining: 56.5s\n",
      "12:\tlearn: 1743.8245854\ttotal: 1.48s\tremaining: 55.3s\n",
      "13:\tlearn: 1736.1682272\ttotal: 1.57s\tremaining: 54.7s\n",
      "14:\tlearn: 1728.4492383\ttotal: 1.65s\tremaining: 53.4s\n",
      "15:\tlearn: 1723.1544920\ttotal: 1.75s\tremaining: 52.9s\n",
      "16:\tlearn: 1711.4811031\ttotal: 1.87s\tremaining: 53.1s\n",
      "17:\tlearn: 1702.4190843\ttotal: 1.95s\tremaining: 52.3s\n",
      "18:\tlearn: 1694.9377396\ttotal: 2.08s\tremaining: 52.5s\n",
      "19:\tlearn: 1683.7542917\ttotal: 2.17s\tremaining: 52s\n",
      "20:\tlearn: 1676.1269631\ttotal: 2.25s\tremaining: 51.4s\n",
      "21:\tlearn: 1668.3344076\ttotal: 2.34s\tremaining: 50.9s\n",
      "22:\tlearn: 1660.3620312\ttotal: 2.46s\tremaining: 51.1s\n",
      "23:\tlearn: 1652.5712731\ttotal: 2.54s\tremaining: 50.4s\n",
      "24:\tlearn: 1648.7198850\ttotal: 2.65s\tremaining: 50.3s\n",
      "25:\tlearn: 1645.8596731\ttotal: 2.76s\tremaining: 50.4s\n",
      "26:\tlearn: 1638.7942920\ttotal: 2.85s\tremaining: 50s\n",
      "27:\tlearn: 1635.1289685\ttotal: 2.93s\tremaining: 49.5s\n",
      "28:\tlearn: 1632.2734747\ttotal: 3s\tremaining: 48.7s\n",
      "29:\tlearn: 1627.9160209\ttotal: 3.07s\tremaining: 48.2s\n",
      "30:\tlearn: 1624.9157369\ttotal: 3.17s\tremaining: 48s\n",
      "31:\tlearn: 1620.2094028\ttotal: 3.27s\tremaining: 47.8s\n",
      "32:\tlearn: 1616.8668395\ttotal: 3.36s\tremaining: 47.6s\n",
      "33:\tlearn: 1612.8647221\ttotal: 3.46s\tremaining: 47.4s\n",
      "34:\tlearn: 1607.6690165\ttotal: 3.56s\tremaining: 47.2s\n",
      "35:\tlearn: 1604.4878358\ttotal: 3.65s\tremaining: 47.1s\n",
      "36:\tlearn: 1599.8713244\ttotal: 3.75s\tremaining: 46.9s\n",
      "37:\tlearn: 1597.6318130\ttotal: 3.83s\tremaining: 46.6s\n",
      "38:\tlearn: 1595.2671264\ttotal: 3.91s\tremaining: 46.2s\n",
      "39:\tlearn: 1592.1357573\ttotal: 4s\tremaining: 46s\n",
      "40:\tlearn: 1588.2220905\ttotal: 4.09s\tremaining: 45.8s\n",
      "41:\tlearn: 1585.5047969\ttotal: 4.17s\tremaining: 45.5s\n",
      "42:\tlearn: 1583.6154850\ttotal: 4.27s\tremaining: 45.3s\n",
      "43:\tlearn: 1580.3407455\ttotal: 4.39s\tremaining: 45.5s\n",
      "44:\tlearn: 1577.8575932\ttotal: 4.48s\tremaining: 45.3s\n",
      "45:\tlearn: 1575.8085199\ttotal: 4.55s\tremaining: 44.9s\n",
      "46:\tlearn: 1573.5675542\ttotal: 4.64s\tremaining: 44.8s\n",
      "47:\tlearn: 1571.5593971\ttotal: 4.74s\tremaining: 44.6s\n",
      "48:\tlearn: 1567.6112722\ttotal: 4.84s\tremaining: 44.6s\n",
      "49:\tlearn: 1565.2674392\ttotal: 4.92s\tremaining: 44.3s\n",
      "50:\tlearn: 1563.8864619\ttotal: 5.02s\tremaining: 44.2s\n",
      "51:\tlearn: 1562.2338250\ttotal: 5.12s\tremaining: 44.1s\n",
      "52:\tlearn: 1560.1679458\ttotal: 5.2s\tremaining: 43.9s\n",
      "53:\tlearn: 1558.4210543\ttotal: 5.29s\tremaining: 43.7s\n",
      "54:\tlearn: 1556.7231274\ttotal: 5.38s\tremaining: 43.5s\n",
      "55:\tlearn: 1554.9673631\ttotal: 5.48s\tremaining: 43.5s\n",
      "56:\tlearn: 1552.4558312\ttotal: 5.57s\tremaining: 43.3s\n",
      "57:\tlearn: 1551.3721023\ttotal: 5.65s\tremaining: 43s\n",
      "58:\tlearn: 1549.0156329\ttotal: 5.75s\tremaining: 43s\n",
      "59:\tlearn: 1547.7263416\ttotal: 5.84s\tremaining: 42.8s\n",
      "60:\tlearn: 1545.3329226\ttotal: 5.94s\tremaining: 42.8s\n",
      "61:\tlearn: 1543.2376286\ttotal: 6.03s\tremaining: 42.6s\n",
      "62:\tlearn: 1540.2142176\ttotal: 6.13s\tremaining: 42.5s\n",
      "63:\tlearn: 1538.2663716\ttotal: 6.22s\tremaining: 42.4s\n",
      "64:\tlearn: 1535.8244514\ttotal: 6.32s\tremaining: 42.3s\n",
      "65:\tlearn: 1534.3362175\ttotal: 6.43s\tremaining: 42.3s\n",
      "66:\tlearn: 1533.1816207\ttotal: 6.52s\tremaining: 42.2s\n",
      "67:\tlearn: 1532.1926974\ttotal: 6.61s\tremaining: 42s\n",
      "68:\tlearn: 1530.5541166\ttotal: 6.7s\tremaining: 41.8s\n",
      "69:\tlearn: 1528.0757087\ttotal: 6.79s\tremaining: 41.7s\n",
      "70:\tlearn: 1526.7176539\ttotal: 6.93s\tremaining: 41.9s\n",
      "71:\tlearn: 1526.2277263\ttotal: 7.02s\tremaining: 41.7s\n",
      "72:\tlearn: 1523.5926395\ttotal: 7.1s\tremaining: 41.6s\n",
      "73:\tlearn: 1522.7366625\ttotal: 7.19s\tremaining: 41.4s\n",
      "74:\tlearn: 1521.0796589\ttotal: 7.28s\tremaining: 41.2s\n",
      "75:\tlearn: 1519.2041225\ttotal: 7.37s\tremaining: 41.1s\n",
      "76:\tlearn: 1517.6877511\ttotal: 7.46s\tremaining: 41s\n",
      "77:\tlearn: 1516.9491095\ttotal: 7.55s\tremaining: 40.8s\n",
      "78:\tlearn: 1515.5195610\ttotal: 7.65s\tremaining: 40.8s\n",
      "79:\tlearn: 1513.7411809\ttotal: 7.74s\tremaining: 40.6s\n",
      "80:\tlearn: 1512.1413620\ttotal: 7.82s\tremaining: 40.5s\n",
      "81:\tlearn: 1511.3569185\ttotal: 7.93s\tremaining: 40.4s\n",
      "82:\tlearn: 1510.4415330\ttotal: 8.03s\tremaining: 40.3s\n",
      "83:\tlearn: 1509.1155713\ttotal: 8.12s\tremaining: 40.2s\n",
      "84:\tlearn: 1507.8158459\ttotal: 8.21s\tremaining: 40.1s\n",
      "85:\tlearn: 1506.2185494\ttotal: 8.32s\tremaining: 40s\n",
      "86:\tlearn: 1505.7503115\ttotal: 8.4s\tremaining: 39.9s\n",
      "87:\tlearn: 1504.7089155\ttotal: 8.5s\tremaining: 39.8s\n",
      "88:\tlearn: 1503.5341007\ttotal: 8.59s\tremaining: 39.7s\n",
      "89:\tlearn: 1502.4572373\ttotal: 8.68s\tremaining: 39.6s\n",
      "90:\tlearn: 1501.0322553\ttotal: 8.77s\tremaining: 39.4s\n",
      "91:\tlearn: 1500.8085825\ttotal: 8.85s\tremaining: 39.3s\n",
      "92:\tlearn: 1499.5881350\ttotal: 8.96s\tremaining: 39.2s\n",
      "93:\tlearn: 1497.3440319\ttotal: 9.05s\tremaining: 39.1s\n",
      "94:\tlearn: 1496.5691391\ttotal: 9.14s\tremaining: 39s\n",
      "95:\tlearn: 1495.8881093\ttotal: 9.26s\tremaining: 39s\n",
      "96:\tlearn: 1495.4358781\ttotal: 9.35s\tremaining: 38.8s\n",
      "97:\tlearn: 1495.1698241\ttotal: 9.45s\tremaining: 38.7s\n",
      "98:\tlearn: 1494.7905195\ttotal: 9.54s\tremaining: 38.6s\n",
      "99:\tlearn: 1493.7551479\ttotal: 9.64s\tremaining: 38.6s\n",
      "100:\tlearn: 1493.0961447\ttotal: 9.73s\tremaining: 38.5s\n",
      "101:\tlearn: 1491.8538807\ttotal: 9.82s\tremaining: 38.3s\n",
      "102:\tlearn: 1491.2677603\ttotal: 9.93s\tremaining: 38.3s\n",
      "103:\tlearn: 1490.7561416\ttotal: 10s\tremaining: 38.2s\n",
      "104:\tlearn: 1488.7703937\ttotal: 10.1s\tremaining: 38.1s\n",
      "105:\tlearn: 1488.4155069\ttotal: 10.2s\tremaining: 37.9s\n",
      "106:\tlearn: 1487.1030812\ttotal: 10.3s\tremaining: 37.8s\n",
      "107:\tlearn: 1486.6065977\ttotal: 10.4s\tremaining: 37.7s\n",
      "108:\tlearn: 1485.4498971\ttotal: 10.5s\tremaining: 37.5s\n",
      "109:\tlearn: 1484.5571439\ttotal: 10.5s\tremaining: 37.4s\n",
      "110:\tlearn: 1483.7603597\ttotal: 10.7s\tremaining: 37.3s\n",
      "111:\tlearn: 1482.8206436\ttotal: 10.7s\tremaining: 37.2s\n",
      "112:\tlearn: 1482.3154452\ttotal: 10.8s\tremaining: 37s\n",
      "113:\tlearn: 1481.7070345\ttotal: 10.9s\tremaining: 36.9s\n",
      "114:\tlearn: 1481.2894605\ttotal: 11s\tremaining: 36.8s\n",
      "115:\tlearn: 1480.9659944\ttotal: 11.1s\tremaining: 36.8s\n",
      "116:\tlearn: 1480.4279549\ttotal: 11.2s\tremaining: 36.7s\n",
      "117:\tlearn: 1479.4894144\ttotal: 11.3s\tremaining: 36.6s\n",
      "118:\tlearn: 1478.8078945\ttotal: 11.4s\tremaining: 36.5s\n",
      "119:\tlearn: 1478.3169360\ttotal: 11.5s\tremaining: 36.4s\n",
      "120:\tlearn: 1477.8228403\ttotal: 11.6s\tremaining: 36.2s\n",
      "121:\tlearn: 1477.5573374\ttotal: 11.7s\tremaining: 36.1s\n",
      "122:\tlearn: 1477.0377950\ttotal: 11.8s\tremaining: 36s\n",
      "123:\tlearn: 1476.0632629\ttotal: 11.9s\tremaining: 36s\n",
      "124:\tlearn: 1475.9375443\ttotal: 12s\tremaining: 35.9s\n",
      "125:\tlearn: 1475.2213785\ttotal: 12.1s\tremaining: 35.8s\n",
      "126:\tlearn: 1473.5830608\ttotal: 12.1s\tremaining: 35.7s\n",
      "127:\tlearn: 1472.5290455\ttotal: 12.2s\tremaining: 35.6s\n",
      "128:\tlearn: 1471.6961664\ttotal: 12.3s\tremaining: 35.4s\n",
      "129:\tlearn: 1471.1545407\ttotal: 12.4s\tremaining: 35.3s\n",
      "130:\tlearn: 1470.4897190\ttotal: 12.5s\tremaining: 35.2s\n",
      "131:\tlearn: 1469.6623497\ttotal: 12.6s\tremaining: 35.2s\n",
      "132:\tlearn: 1468.5557806\ttotal: 12.7s\tremaining: 35.1s\n",
      "133:\tlearn: 1467.8327792\ttotal: 12.8s\tremaining: 35s\n",
      "134:\tlearn: 1467.5486036\ttotal: 12.9s\tremaining: 34.8s\n",
      "135:\tlearn: 1466.4252843\ttotal: 13s\tremaining: 34.7s\n",
      "136:\tlearn: 1465.4805804\ttotal: 13.1s\tremaining: 34.7s\n",
      "137:\tlearn: 1465.1384208\ttotal: 13.2s\tremaining: 34.7s\n",
      "138:\tlearn: 1464.6558903\ttotal: 13.3s\tremaining: 34.5s\n",
      "139:\tlearn: 1464.0051826\ttotal: 13.4s\tremaining: 34.4s\n",
      "140:\tlearn: 1463.0168208\ttotal: 13.5s\tremaining: 34.3s\n",
      "141:\tlearn: 1461.7050611\ttotal: 13.6s\tremaining: 34.2s\n",
      "142:\tlearn: 1461.0605710\ttotal: 13.7s\tremaining: 34.1s\n",
      "143:\tlearn: 1460.3173317\ttotal: 13.8s\tremaining: 34s\n",
      "144:\tlearn: 1459.6025478\ttotal: 13.9s\tremaining: 34s\n",
      "145:\tlearn: 1458.9751514\ttotal: 14s\tremaining: 33.9s\n",
      "146:\tlearn: 1458.6779174\ttotal: 14.1s\tremaining: 33.7s\n",
      "147:\tlearn: 1457.8376813\ttotal: 14.1s\tremaining: 33.6s\n",
      "148:\tlearn: 1456.5192871\ttotal: 14.2s\tremaining: 33.5s\n",
      "149:\tlearn: 1456.3406477\ttotal: 14.3s\tremaining: 33.4s\n",
      "150:\tlearn: 1456.0042627\ttotal: 14.4s\tremaining: 33.3s\n",
      "151:\tlearn: 1455.1889851\ttotal: 14.5s\tremaining: 33.2s\n",
      "152:\tlearn: 1454.4933651\ttotal: 14.6s\tremaining: 33.1s\n",
      "153:\tlearn: 1453.4351272\ttotal: 14.7s\tremaining: 33s\n",
      "154:\tlearn: 1453.0954703\ttotal: 14.8s\tremaining: 32.9s\n",
      "155:\tlearn: 1452.8092486\ttotal: 14.9s\tremaining: 32.8s\n",
      "156:\tlearn: 1452.1544225\ttotal: 15s\tremaining: 32.7s\n",
      "157:\tlearn: 1451.8695836\ttotal: 15.1s\tremaining: 32.6s\n",
      "158:\tlearn: 1451.4778043\ttotal: 15.2s\tremaining: 32.5s\n",
      "159:\tlearn: 1450.7923173\ttotal: 15.2s\tremaining: 32.4s\n",
      "160:\tlearn: 1450.2303328\ttotal: 15.3s\tremaining: 32.3s\n",
      "161:\tlearn: 1449.0010468\ttotal: 15.4s\tremaining: 32.2s\n",
      "162:\tlearn: 1448.3429896\ttotal: 15.5s\tremaining: 32.1s\n",
      "163:\tlearn: 1447.5495023\ttotal: 15.6s\tremaining: 32s\n",
      "164:\tlearn: 1446.8721087\ttotal: 15.7s\tremaining: 32s\n",
      "165:\tlearn: 1446.1295563\ttotal: 15.8s\tremaining: 31.8s\n",
      "166:\tlearn: 1445.3995761\ttotal: 15.9s\tremaining: 31.8s\n",
      "167:\tlearn: 1444.5938099\ttotal: 16s\tremaining: 31.7s\n",
      "168:\tlearn: 1444.2861176\ttotal: 16.1s\tremaining: 31.6s\n",
      "169:\tlearn: 1444.1168242\ttotal: 16.2s\tremaining: 31.4s\n",
      "170:\tlearn: 1443.8513772\ttotal: 16.3s\tremaining: 31.4s\n",
      "171:\tlearn: 1443.5346062\ttotal: 16.4s\tremaining: 31.3s\n",
      "172:\tlearn: 1442.8982193\ttotal: 16.5s\tremaining: 31.1s\n",
      "173:\tlearn: 1441.7217468\ttotal: 16.6s\tremaining: 31s\n",
      "174:\tlearn: 1441.0566583\ttotal: 16.7s\tremaining: 31s\n",
      "175:\tlearn: 1440.4124274\ttotal: 16.8s\tremaining: 30.9s\n",
      "176:\tlearn: 1439.9911252\ttotal: 16.9s\tremaining: 30.8s\n",
      "177:\tlearn: 1439.6602058\ttotal: 17s\tremaining: 30.7s\n",
      "178:\tlearn: 1439.2858997\ttotal: 17.1s\tremaining: 30.6s\n",
      "179:\tlearn: 1438.3435100\ttotal: 17.2s\tremaining: 30.5s\n",
      "180:\tlearn: 1437.7489986\ttotal: 17.2s\tremaining: 30.4s\n",
      "181:\tlearn: 1437.4690652\ttotal: 17.3s\tremaining: 30.2s\n",
      "182:\tlearn: 1437.2513854\ttotal: 17.4s\tremaining: 30.1s\n",
      "183:\tlearn: 1436.6257588\ttotal: 17.5s\tremaining: 30s\n",
      "184:\tlearn: 1436.3534230\ttotal: 17.6s\tremaining: 29.9s\n",
      "185:\tlearn: 1435.5808416\ttotal: 17.6s\tremaining: 29.8s\n",
      "186:\tlearn: 1435.0076400\ttotal: 17.8s\tremaining: 29.7s\n",
      "187:\tlearn: 1434.2311529\ttotal: 17.9s\tremaining: 29.6s\n",
      "188:\tlearn: 1433.9523400\ttotal: 17.9s\tremaining: 29.5s\n",
      "189:\tlearn: 1433.7591311\ttotal: 18s\tremaining: 29.4s\n",
      "190:\tlearn: 1433.4680897\ttotal: 18.2s\tremaining: 29.4s\n",
      "191:\tlearn: 1432.9043029\ttotal: 18.3s\tremaining: 29.3s\n",
      "192:\tlearn: 1432.7272909\ttotal: 18.3s\tremaining: 29.2s\n",
      "193:\tlearn: 1431.9615519\ttotal: 18.4s\tremaining: 29.1s\n",
      "194:\tlearn: 1431.4501253\ttotal: 18.5s\tremaining: 29s\n",
      "195:\tlearn: 1431.1435688\ttotal: 18.7s\tremaining: 28.9s\n",
      "196:\tlearn: 1430.2943749\ttotal: 18.8s\tremaining: 28.9s\n",
      "197:\tlearn: 1429.4843028\ttotal: 18.9s\tremaining: 28.8s\n",
      "198:\tlearn: 1429.2656018\ttotal: 19s\tremaining: 28.7s\n",
      "199:\tlearn: 1429.1961489\ttotal: 19.1s\tremaining: 28.6s\n",
      "200:\tlearn: 1428.4230262\ttotal: 19.2s\tremaining: 28.5s\n",
      "201:\tlearn: 1427.9831190\ttotal: 19.3s\tremaining: 28.4s\n",
      "202:\tlearn: 1427.4309701\ttotal: 19.3s\tremaining: 28.3s\n",
      "203:\tlearn: 1426.6752586\ttotal: 19.4s\tremaining: 28.2s\n",
      "204:\tlearn: 1425.7975801\ttotal: 19.5s\tremaining: 28.1s\n",
      "205:\tlearn: 1425.1688937\ttotal: 19.6s\tremaining: 28s\n",
      "206:\tlearn: 1424.6094216\ttotal: 19.7s\tremaining: 27.9s\n",
      "207:\tlearn: 1423.9751591\ttotal: 19.8s\tremaining: 27.8s\n",
      "208:\tlearn: 1423.0134777\ttotal: 19.9s\tremaining: 27.7s\n",
      "209:\tlearn: 1422.6071808\ttotal: 20s\tremaining: 27.6s\n",
      "210:\tlearn: 1422.5051152\ttotal: 20.1s\tremaining: 27.5s\n",
      "211:\tlearn: 1421.8464926\ttotal: 20.2s\tremaining: 27.4s\n",
      "212:\tlearn: 1421.3779705\ttotal: 20.3s\tremaining: 27.3s\n",
      "213:\tlearn: 1421.1093285\ttotal: 20.3s\tremaining: 27.2s\n",
      "214:\tlearn: 1420.8481627\ttotal: 20.4s\tremaining: 27.1s\n",
      "215:\tlearn: 1420.2764099\ttotal: 20.5s\tremaining: 27s\n",
      "216:\tlearn: 1419.5970869\ttotal: 20.6s\tremaining: 26.9s\n",
      "217:\tlearn: 1419.2464277\ttotal: 20.7s\tremaining: 26.8s\n",
      "218:\tlearn: 1418.5524212\ttotal: 20.8s\tremaining: 26.7s\n",
      "219:\tlearn: 1418.2512915\ttotal: 20.9s\tremaining: 26.6s\n",
      "220:\tlearn: 1417.9686869\ttotal: 21s\tremaining: 26.5s\n",
      "221:\tlearn: 1417.5113134\ttotal: 21.1s\tremaining: 26.4s\n",
      "222:\tlearn: 1416.9387431\ttotal: 21.2s\tremaining: 26.4s\n",
      "223:\tlearn: 1416.8689597\ttotal: 21.3s\tremaining: 26.3s\n",
      "224:\tlearn: 1416.7297449\ttotal: 21.4s\tremaining: 26.2s\n",
      "225:\tlearn: 1415.8073687\ttotal: 21.5s\tremaining: 26.1s\n",
      "226:\tlearn: 1415.5284203\ttotal: 21.6s\tremaining: 26s\n",
      "227:\tlearn: 1415.0950869\ttotal: 21.7s\tremaining: 25.9s\n",
      "228:\tlearn: 1414.9854288\ttotal: 21.8s\tremaining: 25.8s\n",
      "229:\tlearn: 1414.7767006\ttotal: 21.9s\tremaining: 25.7s\n",
      "230:\tlearn: 1414.6536781\ttotal: 22s\tremaining: 25.6s\n",
      "231:\tlearn: 1414.4897223\ttotal: 22.1s\tremaining: 25.5s\n",
      "232:\tlearn: 1414.2831946\ttotal: 22.2s\tremaining: 25.4s\n",
      "233:\tlearn: 1413.8146496\ttotal: 22.3s\tremaining: 25.3s\n",
      "234:\tlearn: 1413.2779568\ttotal: 22.4s\tremaining: 25.2s\n",
      "235:\tlearn: 1413.0342375\ttotal: 22.5s\tremaining: 25.1s\n",
      "236:\tlearn: 1412.7702175\ttotal: 22.6s\tremaining: 25s\n",
      "237:\tlearn: 1412.3593304\ttotal: 22.7s\tremaining: 24.9s\n",
      "238:\tlearn: 1411.9785983\ttotal: 22.7s\tremaining: 24.8s\n",
      "239:\tlearn: 1411.7957403\ttotal: 22.8s\tremaining: 24.7s\n",
      "240:\tlearn: 1410.6636234\ttotal: 22.9s\tremaining: 24.6s\n",
      "241:\tlearn: 1410.5210677\ttotal: 23s\tremaining: 24.5s\n",
      "242:\tlearn: 1410.2518712\ttotal: 23.1s\tremaining: 24.4s\n",
      "243:\tlearn: 1409.9900073\ttotal: 23.2s\tremaining: 24.3s\n",
      "244:\tlearn: 1409.6757249\ttotal: 23.3s\tremaining: 24.2s\n",
      "245:\tlearn: 1409.2761285\ttotal: 23.4s\tremaining: 24.2s\n",
      "246:\tlearn: 1409.2546795\ttotal: 23.5s\tremaining: 24s\n",
      "247:\tlearn: 1408.8490314\ttotal: 23.5s\tremaining: 23.9s\n",
      "248:\tlearn: 1408.6528252\ttotal: 23.6s\tremaining: 23.8s\n",
      "249:\tlearn: 1408.2210985\ttotal: 23.7s\tremaining: 23.7s\n",
      "250:\tlearn: 1408.0680827\ttotal: 23.8s\tremaining: 23.6s\n",
      "251:\tlearn: 1407.5264575\ttotal: 23.9s\tremaining: 23.6s\n",
      "252:\tlearn: 1406.6414019\ttotal: 24s\tremaining: 23.4s\n",
      "253:\tlearn: 1406.3020362\ttotal: 24.1s\tremaining: 23.4s\n",
      "254:\tlearn: 1405.6170903\ttotal: 24.2s\tremaining: 23.3s\n",
      "255:\tlearn: 1405.3039103\ttotal: 24.3s\tremaining: 23.2s\n",
      "256:\tlearn: 1404.9207231\ttotal: 24.4s\tremaining: 23.1s\n",
      "257:\tlearn: 1404.5456435\ttotal: 24.5s\tremaining: 23s\n",
      "258:\tlearn: 1404.3572173\ttotal: 24.6s\tremaining: 22.9s\n",
      "259:\tlearn: 1404.1400774\ttotal: 24.6s\tremaining: 22.7s\n",
      "260:\tlearn: 1403.7094869\ttotal: 24.7s\tremaining: 22.7s\n",
      "261:\tlearn: 1403.3691271\ttotal: 24.8s\tremaining: 22.6s\n",
      "262:\tlearn: 1403.1499515\ttotal: 24.9s\tremaining: 22.5s\n",
      "263:\tlearn: 1402.7773553\ttotal: 25s\tremaining: 22.4s\n",
      "264:\tlearn: 1402.1608125\ttotal: 25.1s\tremaining: 22.3s\n",
      "265:\tlearn: 1401.2539341\ttotal: 25.2s\tremaining: 22.2s\n",
      "266:\tlearn: 1401.1586363\ttotal: 25.3s\tremaining: 22.1s\n",
      "267:\tlearn: 1400.5933102\ttotal: 25.4s\tremaining: 22s\n",
      "268:\tlearn: 1400.4485419\ttotal: 25.5s\tremaining: 21.9s\n",
      "269:\tlearn: 1400.0726061\ttotal: 25.5s\tremaining: 21.8s\n",
      "270:\tlearn: 1399.8679011\ttotal: 25.7s\tremaining: 21.7s\n",
      "271:\tlearn: 1399.5077306\ttotal: 25.7s\tremaining: 21.6s\n",
      "272:\tlearn: 1399.3054942\ttotal: 25.8s\tremaining: 21.5s\n",
      "273:\tlearn: 1399.0455051\ttotal: 25.9s\tremaining: 21.4s\n",
      "274:\tlearn: 1398.6853728\ttotal: 26s\tremaining: 21.3s\n",
      "275:\tlearn: 1398.1171900\ttotal: 26.2s\tremaining: 21.2s\n",
      "276:\tlearn: 1397.8049165\ttotal: 26.2s\tremaining: 21.1s\n",
      "277:\tlearn: 1397.6559849\ttotal: 26.3s\tremaining: 21s\n",
      "278:\tlearn: 1397.4341006\ttotal: 26.4s\tremaining: 20.9s\n",
      "279:\tlearn: 1396.6000113\ttotal: 26.5s\tremaining: 20.9s\n",
      "280:\tlearn: 1396.3270775\ttotal: 26.6s\tremaining: 20.8s\n",
      "281:\tlearn: 1396.0792919\ttotal: 26.7s\tremaining: 20.7s\n",
      "282:\tlearn: 1395.7515587\ttotal: 26.8s\tremaining: 20.6s\n",
      "283:\tlearn: 1395.3157358\ttotal: 26.9s\tremaining: 20.5s\n",
      "284:\tlearn: 1395.0785396\ttotal: 27s\tremaining: 20.4s\n",
      "285:\tlearn: 1394.2613641\ttotal: 27.1s\tremaining: 20.3s\n",
      "286:\tlearn: 1393.8289635\ttotal: 27.2s\tremaining: 20.2s\n",
      "287:\tlearn: 1393.2649391\ttotal: 27.3s\tremaining: 20.1s\n",
      "288:\tlearn: 1392.9665486\ttotal: 27.4s\tremaining: 20s\n",
      "289:\tlearn: 1392.5093538\ttotal: 27.5s\tremaining: 19.9s\n",
      "290:\tlearn: 1392.4184004\ttotal: 27.6s\tremaining: 19.8s\n",
      "291:\tlearn: 1392.1547884\ttotal: 27.6s\tremaining: 19.7s\n",
      "292:\tlearn: 1391.6812872\ttotal: 27.7s\tremaining: 19.6s\n",
      "293:\tlearn: 1391.5249351\ttotal: 27.8s\tremaining: 19.5s\n",
      "294:\tlearn: 1391.2738122\ttotal: 27.9s\tremaining: 19.4s\n",
      "295:\tlearn: 1390.9472330\ttotal: 28s\tremaining: 19.3s\n",
      "296:\tlearn: 1390.1330079\ttotal: 28.1s\tremaining: 19.2s\n",
      "297:\tlearn: 1389.6874453\ttotal: 28.2s\tremaining: 19.1s\n",
      "298:\tlearn: 1389.2181424\ttotal: 28.3s\tremaining: 19s\n",
      "299:\tlearn: 1388.4264276\ttotal: 28.4s\tremaining: 18.9s\n",
      "300:\tlearn: 1388.2212089\ttotal: 28.5s\tremaining: 18.9s\n",
      "301:\tlearn: 1387.8572653\ttotal: 28.6s\tremaining: 18.8s\n",
      "302:\tlearn: 1387.2659908\ttotal: 28.7s\tremaining: 18.7s\n",
      "303:\tlearn: 1386.7472594\ttotal: 28.8s\tremaining: 18.6s\n",
      "304:\tlearn: 1386.4330432\ttotal: 28.9s\tremaining: 18.5s\n",
      "305:\tlearn: 1386.2058756\ttotal: 29s\tremaining: 18.4s\n",
      "306:\tlearn: 1385.8249164\ttotal: 29s\tremaining: 18.3s\n",
      "307:\tlearn: 1385.4087988\ttotal: 29.1s\tremaining: 18.2s\n",
      "308:\tlearn: 1384.9296586\ttotal: 29.2s\tremaining: 18.1s\n",
      "309:\tlearn: 1384.5139124\ttotal: 29.3s\tremaining: 18s\n",
      "310:\tlearn: 1383.9851056\ttotal: 29.4s\tremaining: 17.9s\n",
      "311:\tlearn: 1383.7509074\ttotal: 29.5s\tremaining: 17.8s\n",
      "312:\tlearn: 1383.6103260\ttotal: 29.6s\tremaining: 17.7s\n",
      "313:\tlearn: 1383.1540755\ttotal: 29.7s\tremaining: 17.6s\n",
      "314:\tlearn: 1382.9356443\ttotal: 29.8s\tremaining: 17.5s\n",
      "315:\tlearn: 1382.3053078\ttotal: 30s\tremaining: 17.4s\n",
      "316:\tlearn: 1382.0661200\ttotal: 30.1s\tremaining: 17.4s\n",
      "317:\tlearn: 1381.6374553\ttotal: 30.2s\tremaining: 17.3s\n",
      "318:\tlearn: 1381.4923631\ttotal: 30.3s\tremaining: 17.2s\n",
      "319:\tlearn: 1381.1454312\ttotal: 30.4s\tremaining: 17.1s\n",
      "320:\tlearn: 1380.5475357\ttotal: 30.4s\tremaining: 17s\n",
      "321:\tlearn: 1380.4587805\ttotal: 30.5s\tremaining: 16.9s\n",
      "322:\tlearn: 1379.9565866\ttotal: 30.6s\tremaining: 16.8s\n",
      "323:\tlearn: 1379.4104108\ttotal: 30.7s\tremaining: 16.7s\n",
      "324:\tlearn: 1379.0274157\ttotal: 30.8s\tremaining: 16.6s\n",
      "325:\tlearn: 1378.8084201\ttotal: 30.9s\tremaining: 16.5s\n",
      "326:\tlearn: 1378.6725396\ttotal: 30.9s\tremaining: 16.4s\n",
      "327:\tlearn: 1378.3235195\ttotal: 31s\tremaining: 16.3s\n",
      "328:\tlearn: 1378.0037485\ttotal: 31.1s\tremaining: 16.2s\n",
      "329:\tlearn: 1377.5774496\ttotal: 31.2s\tremaining: 16.1s\n",
      "330:\tlearn: 1377.5109998\ttotal: 31.3s\tremaining: 16s\n",
      "331:\tlearn: 1377.0774632\ttotal: 31.4s\tremaining: 15.9s\n",
      "332:\tlearn: 1376.7022151\ttotal: 31.5s\tremaining: 15.8s\n",
      "333:\tlearn: 1376.3656644\ttotal: 31.6s\tremaining: 15.7s\n",
      "334:\tlearn: 1376.2182238\ttotal: 31.7s\tremaining: 15.6s\n",
      "335:\tlearn: 1376.1027597\ttotal: 31.8s\tremaining: 15.5s\n",
      "336:\tlearn: 1375.7969747\ttotal: 31.9s\tremaining: 15.4s\n",
      "337:\tlearn: 1375.4764217\ttotal: 32s\tremaining: 15.3s\n",
      "338:\tlearn: 1375.2932920\ttotal: 32.1s\tremaining: 15.2s\n",
      "339:\tlearn: 1375.1733192\ttotal: 32.1s\tremaining: 15.1s\n",
      "340:\tlearn: 1374.9406086\ttotal: 32.3s\tremaining: 15s\n",
      "341:\tlearn: 1374.7598925\ttotal: 32.3s\tremaining: 14.9s\n",
      "342:\tlearn: 1374.5198330\ttotal: 32.5s\tremaining: 14.9s\n",
      "343:\tlearn: 1374.3803280\ttotal: 32.6s\tremaining: 14.8s\n",
      "344:\tlearn: 1374.3054596\ttotal: 32.7s\tremaining: 14.7s\n",
      "345:\tlearn: 1374.0916815\ttotal: 32.8s\tremaining: 14.6s\n",
      "346:\tlearn: 1373.7460843\ttotal: 32.9s\tremaining: 14.5s\n",
      "347:\tlearn: 1373.4250167\ttotal: 33s\tremaining: 14.4s\n",
      "348:\tlearn: 1373.0518069\ttotal: 33.1s\tremaining: 14.3s\n",
      "349:\tlearn: 1372.7700290\ttotal: 33.2s\tremaining: 14.2s\n",
      "350:\tlearn: 1372.5444187\ttotal: 33.3s\tremaining: 14.1s\n",
      "351:\tlearn: 1372.5160663\ttotal: 33.4s\tremaining: 14s\n",
      "352:\tlearn: 1372.4327313\ttotal: 33.5s\tremaining: 13.9s\n",
      "353:\tlearn: 1372.3454273\ttotal: 33.6s\tremaining: 13.9s\n",
      "354:\tlearn: 1372.0605260\ttotal: 33.7s\tremaining: 13.8s\n",
      "355:\tlearn: 1371.9044190\ttotal: 33.8s\tremaining: 13.7s\n",
      "356:\tlearn: 1371.4281920\ttotal: 33.8s\tremaining: 13.6s\n",
      "357:\tlearn: 1371.3313135\ttotal: 33.9s\tremaining: 13.5s\n",
      "358:\tlearn: 1370.2889655\ttotal: 34s\tremaining: 13.4s\n",
      "359:\tlearn: 1369.7712135\ttotal: 34.1s\tremaining: 13.3s\n",
      "360:\tlearn: 1369.1390590\ttotal: 34.2s\tremaining: 13.2s\n",
      "361:\tlearn: 1369.0349216\ttotal: 34.3s\tremaining: 13.1s\n",
      "362:\tlearn: 1368.9051147\ttotal: 34.4s\tremaining: 13s\n",
      "363:\tlearn: 1368.6061897\ttotal: 34.5s\tremaining: 12.9s\n",
      "364:\tlearn: 1368.4203354\ttotal: 34.6s\tremaining: 12.8s\n",
      "365:\tlearn: 1367.9815393\ttotal: 34.7s\tremaining: 12.7s\n",
      "366:\tlearn: 1367.8319181\ttotal: 34.8s\tremaining: 12.6s\n",
      "367:\tlearn: 1367.5724058\ttotal: 34.9s\tremaining: 12.5s\n",
      "368:\tlearn: 1367.3000610\ttotal: 35s\tremaining: 12.4s\n",
      "369:\tlearn: 1367.1090139\ttotal: 35.1s\tremaining: 12.3s\n",
      "370:\tlearn: 1366.7479907\ttotal: 35.2s\tremaining: 12.2s\n",
      "371:\tlearn: 1366.6079278\ttotal: 35.3s\tremaining: 12.1s\n",
      "372:\tlearn: 1366.1435764\ttotal: 35.4s\tremaining: 12s\n",
      "373:\tlearn: 1365.9051188\ttotal: 35.5s\tremaining: 11.9s\n",
      "374:\tlearn: 1365.6849122\ttotal: 35.6s\tremaining: 11.9s\n",
      "375:\tlearn: 1365.4918378\ttotal: 35.6s\tremaining: 11.8s\n",
      "376:\tlearn: 1365.2707888\ttotal: 35.7s\tremaining: 11.7s\n",
      "377:\tlearn: 1364.9415382\ttotal: 35.8s\tremaining: 11.6s\n",
      "378:\tlearn: 1364.6283980\ttotal: 35.9s\tremaining: 11.5s\n",
      "379:\tlearn: 1364.4374415\ttotal: 36s\tremaining: 11.4s\n",
      "380:\tlearn: 1364.2550285\ttotal: 36.1s\tremaining: 11.3s\n",
      "381:\tlearn: 1363.6103926\ttotal: 36.2s\tremaining: 11.2s\n",
      "382:\tlearn: 1363.3670004\ttotal: 36.3s\tremaining: 11.1s\n",
      "383:\tlearn: 1363.2104430\ttotal: 36.4s\tremaining: 11s\n",
      "384:\tlearn: 1362.8859999\ttotal: 36.4s\tremaining: 10.9s\n",
      "385:\tlearn: 1362.5674332\ttotal: 36.5s\tremaining: 10.8s\n",
      "386:\tlearn: 1362.4623729\ttotal: 36.6s\tremaining: 10.7s\n",
      "387:\tlearn: 1362.2875935\ttotal: 36.7s\tremaining: 10.6s\n",
      "388:\tlearn: 1362.0722656\ttotal: 36.8s\tremaining: 10.5s\n",
      "389:\tlearn: 1361.7236014\ttotal: 36.9s\tremaining: 10.4s\n",
      "390:\tlearn: 1361.2105189\ttotal: 37s\tremaining: 10.3s\n",
      "391:\tlearn: 1361.0992120\ttotal: 37.1s\tremaining: 10.2s\n",
      "392:\tlearn: 1360.8418067\ttotal: 37.2s\tremaining: 10.1s\n",
      "393:\tlearn: 1360.2532268\ttotal: 37.3s\tremaining: 10s\n",
      "394:\tlearn: 1359.9554441\ttotal: 37.4s\tremaining: 9.94s\n",
      "395:\tlearn: 1359.8418676\ttotal: 37.5s\tremaining: 9.84s\n",
      "396:\tlearn: 1359.5497741\ttotal: 37.6s\tremaining: 9.74s\n",
      "397:\tlearn: 1359.3296115\ttotal: 37.7s\tremaining: 9.65s\n",
      "398:\tlearn: 1359.1943215\ttotal: 37.7s\tremaining: 9.55s\n",
      "399:\tlearn: 1358.5942995\ttotal: 37.8s\tremaining: 9.46s\n",
      "400:\tlearn: 1358.0990573\ttotal: 37.9s\tremaining: 9.36s\n",
      "401:\tlearn: 1357.9834963\ttotal: 38s\tremaining: 9.26s\n",
      "402:\tlearn: 1357.8951861\ttotal: 38.1s\tremaining: 9.17s\n",
      "403:\tlearn: 1357.7447923\ttotal: 38.1s\tremaining: 9.06s\n",
      "404:\tlearn: 1357.2694472\ttotal: 38.2s\tremaining: 8.97s\n",
      "405:\tlearn: 1356.9939312\ttotal: 38.3s\tremaining: 8.88s\n",
      "406:\tlearn: 1356.7680044\ttotal: 38.4s\tremaining: 8.78s\n",
      "407:\tlearn: 1356.6354586\ttotal: 38.5s\tremaining: 8.68s\n",
      "408:\tlearn: 1356.3997830\ttotal: 38.6s\tremaining: 8.59s\n",
      "409:\tlearn: 1356.0846512\ttotal: 38.7s\tremaining: 8.49s\n",
      "410:\tlearn: 1355.9229080\ttotal: 38.8s\tremaining: 8.4s\n",
      "411:\tlearn: 1355.8055702\ttotal: 38.9s\tremaining: 8.3s\n",
      "412:\tlearn: 1355.5765694\ttotal: 39s\tremaining: 8.21s\n",
      "413:\tlearn: 1355.3804591\ttotal: 39.1s\tremaining: 8.12s\n",
      "414:\tlearn: 1354.6298888\ttotal: 39.2s\tremaining: 8.02s\n",
      "415:\tlearn: 1354.4429217\ttotal: 39.3s\tremaining: 7.93s\n",
      "416:\tlearn: 1353.8862145\ttotal: 39.4s\tremaining: 7.83s\n",
      "417:\tlearn: 1353.8529308\ttotal: 39.4s\tremaining: 7.74s\n",
      "418:\tlearn: 1353.5964285\ttotal: 39.5s\tremaining: 7.64s\n",
      "419:\tlearn: 1353.4949553\ttotal: 39.6s\tremaining: 7.55s\n",
      "420:\tlearn: 1353.3360220\ttotal: 39.7s\tremaining: 7.46s\n",
      "421:\tlearn: 1352.8111151\ttotal: 39.8s\tremaining: 7.36s\n",
      "422:\tlearn: 1352.4216565\ttotal: 39.9s\tremaining: 7.27s\n",
      "423:\tlearn: 1352.2199106\ttotal: 40s\tremaining: 7.17s\n",
      "424:\tlearn: 1351.6925963\ttotal: 40.1s\tremaining: 7.08s\n",
      "425:\tlearn: 1351.5624998\ttotal: 40.2s\tremaining: 6.99s\n",
      "426:\tlearn: 1351.0091016\ttotal: 40.3s\tremaining: 6.89s\n",
      "427:\tlearn: 1350.8506874\ttotal: 40.4s\tremaining: 6.79s\n",
      "428:\tlearn: 1350.7371515\ttotal: 40.5s\tremaining: 6.7s\n",
      "429:\tlearn: 1350.5392095\ttotal: 40.6s\tremaining: 6.6s\n",
      "430:\tlearn: 1350.3081417\ttotal: 40.6s\tremaining: 6.51s\n",
      "431:\tlearn: 1349.7387310\ttotal: 40.7s\tremaining: 6.41s\n",
      "432:\tlearn: 1349.6925645\ttotal: 40.8s\tremaining: 6.32s\n",
      "433:\tlearn: 1349.6648154\ttotal: 40.9s\tremaining: 6.22s\n",
      "434:\tlearn: 1349.1261511\ttotal: 41s\tremaining: 6.13s\n",
      "435:\tlearn: 1348.8232540\ttotal: 41.1s\tremaining: 6.03s\n",
      "436:\tlearn: 1348.2761315\ttotal: 41.2s\tremaining: 5.94s\n",
      "437:\tlearn: 1348.1499242\ttotal: 41.3s\tremaining: 5.85s\n",
      "438:\tlearn: 1347.9056543\ttotal: 41.4s\tremaining: 5.75s\n",
      "439:\tlearn: 1347.7709081\ttotal: 41.5s\tremaining: 5.66s\n",
      "440:\tlearn: 1347.6326178\ttotal: 41.6s\tremaining: 5.57s\n",
      "441:\tlearn: 1347.5651339\ttotal: 41.7s\tremaining: 5.47s\n",
      "442:\tlearn: 1347.1470327\ttotal: 41.8s\tremaining: 5.38s\n",
      "443:\tlearn: 1346.7197484\ttotal: 41.9s\tremaining: 5.28s\n",
      "444:\tlearn: 1346.4278110\ttotal: 42s\tremaining: 5.19s\n",
      "445:\tlearn: 1346.1210052\ttotal: 42.1s\tremaining: 5.1s\n",
      "446:\tlearn: 1345.9191614\ttotal: 42.2s\tremaining: 5s\n",
      "447:\tlearn: 1345.6007246\ttotal: 42.3s\tremaining: 4.91s\n",
      "448:\tlearn: 1345.5245295\ttotal: 42.4s\tremaining: 4.81s\n",
      "449:\tlearn: 1345.3444486\ttotal: 42.5s\tremaining: 4.72s\n",
      "450:\tlearn: 1345.1506759\ttotal: 42.5s\tremaining: 4.62s\n",
      "451:\tlearn: 1345.0672531\ttotal: 42.6s\tremaining: 4.53s\n",
      "452:\tlearn: 1344.8634304\ttotal: 42.7s\tremaining: 4.43s\n",
      "453:\tlearn: 1344.7079519\ttotal: 42.8s\tremaining: 4.34s\n",
      "454:\tlearn: 1344.0350450\ttotal: 42.9s\tremaining: 4.24s\n",
      "455:\tlearn: 1343.8537475\ttotal: 43s\tremaining: 4.15s\n",
      "456:\tlearn: 1343.7031646\ttotal: 43.1s\tremaining: 4.06s\n",
      "457:\tlearn: 1343.5600237\ttotal: 43.2s\tremaining: 3.96s\n",
      "458:\tlearn: 1343.1853421\ttotal: 43.3s\tremaining: 3.87s\n",
      "459:\tlearn: 1342.9511390\ttotal: 43.4s\tremaining: 3.77s\n",
      "460:\tlearn: 1342.8279769\ttotal: 43.5s\tremaining: 3.68s\n",
      "461:\tlearn: 1342.4144324\ttotal: 43.6s\tremaining: 3.59s\n",
      "462:\tlearn: 1342.2065924\ttotal: 43.7s\tremaining: 3.49s\n",
      "463:\tlearn: 1342.0982462\ttotal: 43.8s\tremaining: 3.4s\n",
      "464:\tlearn: 1342.0313608\ttotal: 43.9s\tremaining: 3.3s\n",
      "465:\tlearn: 1341.8640056\ttotal: 43.9s\tremaining: 3.21s\n",
      "466:\tlearn: 1341.5627169\ttotal: 44s\tremaining: 3.11s\n",
      "467:\tlearn: 1341.3115203\ttotal: 44.1s\tremaining: 3.02s\n",
      "468:\tlearn: 1340.9769041\ttotal: 44.2s\tremaining: 2.92s\n",
      "469:\tlearn: 1340.5537958\ttotal: 44.3s\tremaining: 2.83s\n",
      "470:\tlearn: 1340.1533193\ttotal: 44.4s\tremaining: 2.73s\n",
      "471:\tlearn: 1339.7587404\ttotal: 44.5s\tremaining: 2.64s\n",
      "472:\tlearn: 1339.4639164\ttotal: 44.6s\tremaining: 2.55s\n",
      "473:\tlearn: 1339.0113615\ttotal: 44.7s\tremaining: 2.45s\n",
      "474:\tlearn: 1338.8586751\ttotal: 44.8s\tremaining: 2.36s\n",
      "475:\tlearn: 1338.5013731\ttotal: 44.9s\tremaining: 2.26s\n",
      "476:\tlearn: 1338.3649324\ttotal: 45s\tremaining: 2.17s\n",
      "477:\tlearn: 1338.2249487\ttotal: 45.1s\tremaining: 2.07s\n",
      "478:\tlearn: 1337.8627303\ttotal: 45.2s\tremaining: 1.98s\n",
      "479:\tlearn: 1337.6618800\ttotal: 45.3s\tremaining: 1.89s\n",
      "480:\tlearn: 1337.3008456\ttotal: 45.4s\tremaining: 1.79s\n",
      "481:\tlearn: 1337.2352520\ttotal: 45.5s\tremaining: 1.7s\n",
      "482:\tlearn: 1337.0861875\ttotal: 45.5s\tremaining: 1.6s\n",
      "483:\tlearn: 1336.9476018\ttotal: 45.6s\tremaining: 1.51s\n",
      "484:\tlearn: 1336.7840788\ttotal: 45.7s\tremaining: 1.41s\n",
      "485:\tlearn: 1336.6921158\ttotal: 45.9s\tremaining: 1.32s\n",
      "486:\tlearn: 1336.5588124\ttotal: 46s\tremaining: 1.23s\n",
      "487:\tlearn: 1336.4511245\ttotal: 46s\tremaining: 1.13s\n",
      "488:\tlearn: 1336.4177119\ttotal: 46.1s\tremaining: 1.04s\n",
      "489:\tlearn: 1335.7685053\ttotal: 46.2s\tremaining: 943ms\n",
      "490:\tlearn: 1335.2223682\ttotal: 46.3s\tremaining: 849ms\n",
      "491:\tlearn: 1335.1307416\ttotal: 46.4s\tremaining: 754ms\n",
      "492:\tlearn: 1334.9720109\ttotal: 46.5s\tremaining: 660ms\n",
      "493:\tlearn: 1334.9273006\ttotal: 46.6s\tremaining: 566ms\n",
      "494:\tlearn: 1334.6507723\ttotal: 46.7s\tremaining: 472ms\n",
      "495:\tlearn: 1334.1616085\ttotal: 46.8s\tremaining: 378ms\n",
      "496:\tlearn: 1333.8961540\ttotal: 47s\tremaining: 283ms\n",
      "497:\tlearn: 1333.7445211\ttotal: 47.1s\tremaining: 189ms\n",
      "498:\tlearn: 1333.6219087\ttotal: 47.2s\tremaining: 94.5ms\n",
      "499:\tlearn: 1333.3819600\ttotal: 47.3s\tremaining: 0us\n",
      "CPU times: total: 7min 5s\n",
      "Wall time: 48.2 s\n"
     ]
    }
   ],
   "source": [
    "%%time\n",
    "cat_model = CatBoostRegressor(**cat_b_best_p, cat_features=obj_columns).fit(features_train, target_train)"
   ]
  },
  {
   "cell_type": "markdown",
   "metadata": {},
   "source": [
    "Оценка времени обучения для модели LGBMRegressor на подобранных наилучших параметрах."
   ]
  },
  {
   "cell_type": "code",
   "execution_count": 72,
   "metadata": {
    "ExecuteTime": {
     "end_time": "2023-05-23T14:19:08.090375Z",
     "start_time": "2023-05-23T14:19:04.697448Z"
    }
   },
   "outputs": [
    {
     "name": "stdout",
     "output_type": "stream",
     "text": [
      "CPU times: total: 46.2 s\n",
      "Wall time: 3.38 s\n"
     ]
    }
   ],
   "source": [
    "%%time\n",
    "LGBM_model = LGBMRegressor(**LGBM_model_best_p).fit(features_train_LGBM, target_train)"
   ]
  },
  {
   "cell_type": "markdown",
   "metadata": {},
   "source": [
    "## Анализ моделей"
   ]
  },
  {
   "cell_type": "markdown",
   "metadata": {},
   "source": [
    "---\n",
    "### *Оценка времени предсказания выбранных моделей*"
   ]
  },
  {
   "cell_type": "code",
   "execution_count": 75,
   "metadata": {
    "ExecuteTime": {
     "end_time": "2023-05-23T14:20:31.148251Z",
     "start_time": "2023-05-23T14:19:32.510068Z"
    }
   },
   "outputs": [
    {
     "name": "stdout",
     "output_type": "stream",
     "text": [
      "7.29 s ± 77.9 ms per loop (mean ± std. dev. of 7 runs, 1 loop each)\n"
     ]
    }
   ],
   "source": [
    "%%timeit\n",
    "forest_model.predict(features_train_forest)"
   ]
  },
  {
   "cell_type": "code",
   "execution_count": 86,
   "metadata": {
    "ExecuteTime": {
     "end_time": "2023-05-23T14:22:29.584516Z",
     "start_time": "2023-05-23T14:22:25.508417Z"
    }
   },
   "outputs": [
    {
     "name": "stdout",
     "output_type": "stream",
     "text": [
      "507 ms ± 13.3 ms per loop (mean ± std. dev. of 7 runs, 1 loop each)\n"
     ]
    }
   ],
   "source": [
    "%%timeit\n",
    "cat_model.predict(features_train)"
   ]
  },
  {
   "cell_type": "code",
   "execution_count": 85,
   "metadata": {
    "ExecuteTime": {
     "end_time": "2023-05-23T14:22:25.506422Z",
     "start_time": "2023-05-23T14:22:18.664719Z"
    }
   },
   "outputs": [
    {
     "name": "stdout",
     "output_type": "stream",
     "text": [
      "854 ms ± 83.7 ms per loop (mean ± std. dev. of 7 runs, 1 loop each)\n"
     ]
    }
   ],
   "source": [
    "%%timeit\n",
    "LGBM_model.predict(features_train_LGBM)"
   ]
  },
  {
   "cell_type": "markdown",
   "metadata": {},
   "source": [
    "Иногда на этом этапе, возможно из-за timeit, не происходило присвоение переменным и дальше код не исполнялся, по причине не определенности переменных, поэтому присвоение дублируется."
   ]
  },
  {
   "cell_type": "markdown",
   "metadata": {},
   "source": [
    "---\n",
    "### *Итоговая таблица сравнения моделей для решения поставленной задачи*"
   ]
  },
  {
   "cell_type": "code",
   "execution_count": 87,
   "metadata": {
    "ExecuteTime": {
     "end_time": "2023-05-23T14:22:36.523958Z",
     "start_time": "2023-05-23T14:22:36.508998Z"
    }
   },
   "outputs": [
    {
     "data": {
      "text/html": [
       "<div>\n",
       "<style scoped>\n",
       "    .dataframe tbody tr th:only-of-type {\n",
       "        vertical-align: middle;\n",
       "    }\n",
       "\n",
       "    .dataframe tbody tr th {\n",
       "        vertical-align: top;\n",
       "    }\n",
       "\n",
       "    .dataframe thead th {\n",
       "        text-align: right;\n",
       "    }\n",
       "</style>\n",
       "<table border=\"1\" class=\"dataframe\">\n",
       "  <thead>\n",
       "    <tr style=\"text-align: right;\">\n",
       "      <th></th>\n",
       "      <th>fit_time</th>\n",
       "      <th>predict_time</th>\n",
       "      <th>rmse</th>\n",
       "    </tr>\n",
       "  </thead>\n",
       "  <tbody>\n",
       "    <tr>\n",
       "      <th>RandomForestRegressor</th>\n",
       "      <td>70 s</td>\n",
       "      <td>7.3 s</td>\n",
       "      <td>1513</td>\n",
       "    </tr>\n",
       "    <tr>\n",
       "      <th>CatBoostRegressor</th>\n",
       "      <td>50 s</td>\n",
       "      <td>550 ms</td>\n",
       "      <td>1549</td>\n",
       "    </tr>\n",
       "    <tr>\n",
       "      <th>LGBMRegressor</th>\n",
       "      <td>3.45 s</td>\n",
       "      <td>900 ms</td>\n",
       "      <td>1475</td>\n",
       "    </tr>\n",
       "  </tbody>\n",
       "</table>\n",
       "</div>"
      ],
      "text/plain": [
       "                      fit_time predict_time  rmse\n",
       "RandomForestRegressor     70 s        7.3 s  1513\n",
       "CatBoostRegressor         50 s       550 ms  1549\n",
       "LGBMRegressor           3.45 s       900 ms  1475"
      ]
     },
     "execution_count": 87,
     "metadata": {},
     "output_type": "execute_result"
    }
   ],
   "source": [
    "res_table = pd.DataFrame({'fit_time': ['70 s', '50 s', '3.45 s'], 'predict_time': ['7.3 s', '550 ms', '900 ms'],\n",
    "                          'rmse': [round(res_forest), round(res_cat), round(res_lgbm)]},\n",
    "                         index=['RandomForestRegressor', 'CatBoostRegressor', 'LGBMRegressor'])\n",
    "res_table"
   ]
  },
  {
   "cell_type": "markdown",
   "metadata": {},
   "source": [
    "---\n",
    "### *Оценка качества предсказания выбранной по критериям наилучшей модели на тестовой выборке по метрике RMSE*"
   ]
  },
  {
   "cell_type": "code",
   "execution_count": 82,
   "metadata": {
    "ExecuteTime": {
     "end_time": "2023-05-23T14:21:22.307436Z",
     "start_time": "2023-05-23T14:21:22.075057Z"
    }
   },
   "outputs": [
    {
     "data": {
      "text/plain": [
       "1466.4232576982993"
      ]
     },
     "execution_count": 82,
     "metadata": {},
     "output_type": "execute_result"
    }
   ],
   "source": [
    "#LGBMRegressor\n",
    "predict_LGBM = LGBM_model.predict(features_test_LGBM)\n",
    "res_lgbm_test = mean_squared_error(target_test, predict_LGBM, squared=False)\n",
    "res_lgbm_test"
   ]
  },
  {
   "cell_type": "markdown",
   "metadata": {},
   "source": [
    "Проверка модели на адекватность - сравнение с dummy моделью."
   ]
  },
  {
   "cell_type": "code",
   "execution_count": 69,
   "metadata": {
    "ExecuteTime": {
     "end_time": "2023-05-23T14:14:37.847089Z",
     "start_time": "2023-05-23T14:14:37.792236Z"
    }
   },
   "outputs": [
    {
     "data": {
      "text/plain": [
       "4584.043834102201"
      ]
     },
     "execution_count": 69,
     "metadata": {},
     "output_type": "execute_result"
    }
   ],
   "source": [
    "predict_dummy = [target_test.mean()] * target_test.shape[0]\n",
    "res_dummy = mean_squared_error(target_test, predict_dummy, squared=False)\n",
    "res_dummy"
   ]
  },
  {
   "cell_type": "markdown",
   "metadata": {},
   "source": [
    "<div class=\"alert alert-block alert-success\">\n",
    "<b>✔️ Успех:</b>\n",
    "\n",
    "Молодец, что для сравнения моделей заносишь их в общий датафрейм 👍\n",
    "</div>"
   ]
  },
  {
   "cell_type": "markdown",
   "metadata": {},
   "source": [
    "<div class=\"alert alert-block alert-danger\">\n",
    "<b>❌ Замечание:</b>\n",
    "    \n",
    "Анализ моделей не должен включать тестовую выборку. Тестовая выборка используется в самом конце - в финальном тестировании лучшей модели. Выбирать лучшую модель, основываясь на результатах на тестовой выборке кажется неверным, так как это может привести к переобучению.\n",
    "\n",
    "Если валидационной выборки нет, то анализ моделей должен выглядеть так:\n",
    "\n",
    "1. RMSE вычисляется с помощью кросс-валидации на тренировочной выборке (grid.best_score_ или cross_val_score)\n",
    "2. Время обучения = время model.fit(X_train, y_train)\n",
    "3. Время предсказания = время model.predict(X_train)\n",
    "</div>"
   ]
  },
  {
   "cell_type": "markdown",
   "metadata": {},
   "source": [
    "<div class=\"alert alert-block alert-success\">\n",
    "<b>V2 ✔️ Успешно исправлено</b>\n",
    "</div>"
   ]
  },
  {
   "cell_type": "markdown",
   "metadata": {},
   "source": [
    "<div class=\"alert alert-block alert-info\">\n",
    "<b>Комментарий ревьюера:</b>\n",
    "\n",
    "Либо можешь разделить данные на три выборки и для анализа моделей использовать валидационную выборку:\n",
    "    \n",
    "1. RMSE вычисляется на валидационной выборке\n",
    "2. Время обучения = время model.fit(X_train, y_train)\n",
    "3. Время предсказания = время model.predict(X_valid)\n",
    "</div>"
   ]
  },
  {
   "cell_type": "markdown",
   "metadata": {},
   "source": [
    "## Тестирование лучшей модели"
   ]
  },
  {
   "cell_type": "markdown",
   "metadata": {},
   "source": [
    "<div class=\"alert alert-block alert-danger\">\n",
    "<b>❌ Замечание:</b>\n",
    "\n",
    "После анализа моделей нужно порекомендовать заказчику **одну** модель на основе его критериев и провести на ней финальное тестирование.\n",
    "    \n",
    "Лучше в обучении и анализе не использовать тестовую выборку. Выбирать лучшую модель, основываясь на результатах на тестовой выборке кажется неверным, так как это может привести к переобучению.\n",
    "</div>"
   ]
  },
  {
   "cell_type": "markdown",
   "metadata": {},
   "source": [
    "<div class=\"alert alert-block alert-success\">\n",
    "<b>V2 ✔️ Успешно исправлено</b>\n",
    "</div>"
   ]
  },
  {
   "cell_type": "markdown",
   "metadata": {},
   "source": [
    "<div class=\"alert alert-block alert-info\">\n",
    "<b>Комментарий ревьюера:</b>\n",
    "\n",
    "Для того, чтобы все было понятно, напишу конкретный план (структуру) обучения и анализа моделей:\n",
    "\n",
    "1. Обучение моделей. При обучении необходимо рассмотреть хотя бы одну простую модель и один метод бустинга. Подбор гиперпараметров должен быть проведен как минимум для одной модели. Существует два варианта:\n",
    "\n",
    "    - Без использования валидационной выборки. В этом случае гиперпараметры следует подбирать с помощью кросс-валидации (GridSearchCV, RandomizedSearchCV) или вручную (cross_val_score).\n",
    "    - С использованием валидационной выборки. В этом случае можно не использовать кросс-валидацию и подбирать гиперпараметры вручную.\n",
    "\n",
    "2. Анализ моделей. После нахождения наилучших гиперпараметров необходимо измерить время обучения, время предсказания и RMSE. Существует два варианта:\n",
    "\n",
    "    - Без использования валидационной выборки. RMSE следует рассчитать на кросс-валидации. Время обучения можно рассчитать как время выполнения метода model.fit(X_train), а время предсказания - как время выполнения метода model.predict(X_train).\n",
    "    - С использованием валидационной выборки. RMSE следует рассчитать на валидационной выборке. Время обучения можно рассчитать как время выполнения метода model.fit(X_train), а время предсказания - как время выполнения метода model.predict(X_valid).\n",
    "\n",
    "После этого необходимо сделать выводы по анализу моделей (результаты можно занести в общую таблицу) и посоветовать заказчику наиболее подходящую модель на основе его критериев.\n",
    "\n",
    "3. Тестирование. Необходимо рассчитать финальную метрику лучшей модели на тестовой выборке (при этом тестовая выборка не должна использоваться на предыдущих этапах!). RMSE должно быть не больше 2500. Если метрика не удовлетворяет требованиям, можно попробовать внести коррективы в модель (на этапе обучения, а не на тестовой выборке!).\n",
    "\n",
    "</div>"
   ]
  },
  {
   "cell_type": "markdown",
   "metadata": {},
   "source": [
    "---\n",
    "## Общий вывод по исследованию"
   ]
  },
  {
   "cell_type": "markdown",
   "metadata": {},
   "source": [
    "<div style=\"border:solid orange 2px; padding: 5px\">\n",
    "\n",
    "<div class=\"alert alert-info\"> <b>При проведении исследования (на основе полученных данных) выполнено:</b></div>\n",
    "\n",
    "- Данные очищены от дубликатов.\n",
    "- Произведена оптимизация формата размерности количественных данных.\n",
    "- С помощью двух функций обнаружены и устранены выбросы.\n",
    "- Проверка на отсутствие мультиколлинеарности независимых признаков числового типа.\n",
    "- Данные подготовлены к дальнейшему использованию при построении модели.\n",
    "- Подобраны оптимальные гиперпараметры на тренировочной выборке с использованием кросс-валидации. Для более тонкого и точного выбора модели был использован RandomizedSearchCV.\n",
    "- Лучшее значение времени обучения показал LGBMRegressor.\n",
    "- Лучшее значение времени, затраченного на скорость предсказания показал CatBoostRegressor.\n",
    "- Лучший показатель RMSE на тестовой выборке показал LGBMRegressor.\n",
    "- Итоговое предпочтение отдается LGBMRegressor, который превзошел другие модели в 2/3 категориях.\n",
    "- Произведена проверка модели на адекватность.\n",
    "- В работе были протестированы два подхода к заполнению пропущенных значений. Выбран наилучший подход после проведения кросс-валидационных тестов на тренировочной выборке.\n",
    "- Рассмотрено применение различных типов кодирования категориальных признаков. Проведены кросс-валидационные тесты на тренировочной выборке. Выбран оптимальный вариант кодирования для каждой из моделей.\n",
    "- Признанная наилучшей модель (LGBM) протестирована на тестовой выборке, показав результат на метрике RMSE(меньше - лучше) - 1466.\n",
    "- Модель успешно прошла проверку на адекватность."
   ]
  },
  {
   "cell_type": "markdown",
   "metadata": {},
   "source": [
    "<div class=\"alert alert-block alert-success\">\n",
    "<b>✔️ Успех:</b>\n",
    "\n",
    "Вывод соответствует исследованию 👍\n",
    "</div>"
   ]
  },
  {
   "cell_type": "markdown",
   "metadata": {},
   "source": [
    "# <font color='orange'>Общее впечатление</font>\n",
    "* Этот проект выполнен очень хорошо\n",
    "* Видно, что приложено много усилий\n",
    "* Молодец, что структурируешь ноутбук, приятно проверять такие работы\n",
    "* У тебя чистый и лаконичный код\n",
    "* Мне было интересно читать твои промежуточные выводы\n",
    "* Твой уровень подачи материала находится на высоком уровне\n",
    "* Исправь, пожалуйста, мои замечания. Затем отправляй на повторную проверку\n",
    "* Жду новую версию проекта 👋"
   ]
  },
  {
   "cell_type": "markdown",
   "metadata": {},
   "source": [
    "# <font color='orange'>2. Общее впечатление</font>\n",
    "* Спасибо за быстрое внесение правок\n",
    "* Теперь проект выглядит лучше )\n",
    "* Критических замечаний нет\n",
    "* Молодец, отличная работа!\n",
    "* Надеюсь, ревью было полезным\n",
    "* Удачи в дальнейшем обучении 👋"
   ]
  },
  {
   "cell_type": "markdown",
   "metadata": {},
   "source": [
    "# <font color='orange'>Рекомендации 🔥</font>\n",
    "* Доступное объяснение про работу градиентного бустинга <a href='https://www.youtube.com/watch?v=ZNJ3lKyI-EY&t=995s'>ссылка</a>\n",
    "* После просмотра видео можешь почитать статью про ансамбли и бустинги <a href='https://habr.com/ru/company/ods/blog/645887/'>ссылка</a>\n",
    "* Статья на Хабре представляет краткое введение в алгоритмы бустинга и описывает их принципы работы <a href='https://habr.com/ru/company/ods/blog/327250/'>ссылка</a>\n",
    "* Подбор гиперпараметров для CatBoost <a href='https://habr.com/ru/company/otus/blog/527554/'>ссылка</a>\n",
    "* Подбор гиперпараметров для LightGBM <a href='https://programmersought.com/article/40776531516/'>ссылка</a>\n",
    "* Разумные способы кодирования категориальных данных для машинного обучения <a href='https://machinelearningmastery.ru/smarter-ways-to-encode-categorical-data-for-machine-learning-part-1-of-3-6dca2f71b159/'>ссылка</a>\n",
    "* Статья про \"непонятную\" метрику ROC-AUC <a href='https://dyakonov.org/2017/07/28/auc-roc-площадь-под-кривой-ошибок/'>ссылка</a>\n",
    "* Хочешь подтянуть математику для DS?) <a href='https://academy.stepik.org/math-for-data-science'>ссылка</a>\n",
    "* Также есть курс по математике от ЯП <a href='https://practicum.yandex.ru/math-for-da-ds/'>ссылка</a>\n",
    "* В нашем деле нужно быть всегда в курсе всех новинок, новостей и тд, вот тут публикуют новости в области DS <a href='https://www.infoq.com/data-analysis/news/'>ссылка</a>\n",
    "* Всем аналитикам данных рекомендую книгу Даниела Канемана \"Думай медленно, решай быстро\""
   ]
  }
 ],
 "metadata": {
  "kernelspec": {
   "display_name": "Python 3 (ipykernel)",
   "language": "python",
   "name": "python3"
  },
  "language_info": {
   "codemirror_mode": {
    "name": "ipython",
    "version": 3
   },
   "file_extension": ".py",
   "mimetype": "text/x-python",
   "name": "python",
   "nbconvert_exporter": "python",
   "pygments_lexer": "ipython3",
   "version": "3.9.5"
  },
  "toc": {
   "base_numbering": 1,
   "nav_menu": {},
   "number_sections": true,
   "sideBar": true,
   "skip_h1_title": true,
   "title_cell": "Table of Contents",
   "title_sidebar": "Contents",
   "toc_cell": false,
   "toc_position": {
    "height": "calc(100% - 180px)",
    "left": "10px",
    "top": "150px",
    "width": "165px"
   },
   "toc_section_display": true,
   "toc_window_display": true
  }
 },
 "nbformat": 4,
 "nbformat_minor": 2
}
